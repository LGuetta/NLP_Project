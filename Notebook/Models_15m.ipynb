{
 "cells": [
  {
   "cell_type": "markdown",
   "metadata": {},
   "source": [
    "# 15 min"
   ]
  },
  {
   "cell_type": "code",
   "execution_count": 1,
   "metadata": {},
   "outputs": [],
   "source": [
    "import pandas as pd\n",
    "import numpy as np\n",
    "df = pd.read_csv(\"Full_data_15m.csv\")"
   ]
  },
  {
   "cell_type": "code",
   "execution_count": 2,
   "metadata": {},
   "outputs": [
    {
     "data": {
      "text/html": [
       "<div>\n",
       "<style scoped>\n",
       "    .dataframe tbody tr th:only-of-type {\n",
       "        vertical-align: middle;\n",
       "    }\n",
       "\n",
       "    .dataframe tbody tr th {\n",
       "        vertical-align: top;\n",
       "    }\n",
       "\n",
       "    .dataframe thead th {\n",
       "        text-align: right;\n",
       "    }\n",
       "</style>\n",
       "<table border=\"1\" class=\"dataframe\">\n",
       "  <thead>\n",
       "    <tr style=\"text-align: right;\">\n",
       "      <th></th>\n",
       "      <th>Date_15m</th>\n",
       "      <th>datetime</th>\n",
       "      <th>text</th>\n",
       "      <th>username</th>\n",
       "      <th>kk08_pos_score</th>\n",
       "      <th>kk08_score_diff</th>\n",
       "      <th>Elkulako_label</th>\n",
       "      <th>Sentiment_vader</th>\n",
       "      <th>pred</th>\n",
       "      <th>analysis</th>\n",
       "      <th>...</th>\n",
       "      <th>collapse</th>\n",
       "      <th>ATH</th>\n",
       "      <th>grow</th>\n",
       "      <th>rise</th>\n",
       "      <th>fall</th>\n",
       "      <th>date</th>\n",
       "      <th>open</th>\n",
       "      <th>close</th>\n",
       "      <th>Return</th>\n",
       "      <th>Return_sign</th>\n",
       "    </tr>\n",
       "  </thead>\n",
       "  <tbody>\n",
       "    <tr>\n",
       "      <th>0</th>\n",
       "      <td>2022-01-01 00:15:00</td>\n",
       "      <td>['2022-01-01 00:00:00', '2022-01-01 00:00:00',...</td>\n",
       "      <td>Current Price of Bitcoin:\\n$46320 (-1.85%)\\n\\n...</td>\n",
       "      <td>CryptoNerdApp\\nTrendSpider\\nMadStudentScie1\\nW...</td>\n",
       "      <td>0.816322</td>\n",
       "      <td>0.632644</td>\n",
       "      <td>0.342175</td>\n",
       "      <td>0.161173</td>\n",
       "      <td>11</td>\n",
       "      <td>4</td>\n",
       "      <td>...</td>\n",
       "      <td>0</td>\n",
       "      <td>9</td>\n",
       "      <td>6</td>\n",
       "      <td>7</td>\n",
       "      <td>4</td>\n",
       "      <td>2022-01-01 00:15:00</td>\n",
       "      <td>46332.52</td>\n",
       "      <td>46375.42</td>\n",
       "      <td>0.000926</td>\n",
       "      <td>1</td>\n",
       "    </tr>\n",
       "    <tr>\n",
       "      <th>1</th>\n",
       "      <td>2022-01-01 00:30:00</td>\n",
       "      <td>['2022-01-01 00:15:01', '2022-01-01 00:15:05',...</td>\n",
       "      <td>The current price of Bitcoin is $46453.00.\\nTh...</td>\n",
       "      <td>big_blockers\\nbmurphypointman\\nButterLemonBot\\...</td>\n",
       "      <td>0.716851</td>\n",
       "      <td>0.433702</td>\n",
       "      <td>0.305638</td>\n",
       "      <td>0.136947</td>\n",
       "      <td>9</td>\n",
       "      <td>42</td>\n",
       "      <td>...</td>\n",
       "      <td>1</td>\n",
       "      <td>8</td>\n",
       "      <td>1</td>\n",
       "      <td>6</td>\n",
       "      <td>38</td>\n",
       "      <td>2022-01-01 00:30:00</td>\n",
       "      <td>46375.42</td>\n",
       "      <td>46610.81</td>\n",
       "      <td>0.005076</td>\n",
       "      <td>1</td>\n",
       "    </tr>\n",
       "    <tr>\n",
       "      <th>2</th>\n",
       "      <td>2022-01-01 00:45:00</td>\n",
       "      <td>['2022-01-01 00:30:00', '2022-01-01 00:30:01',...</td>\n",
       "      <td>“Here's to a bright New Year and a fond farewe...</td>\n",
       "      <td>bitcoiva\\ncryptozone007\\nlinuxadvocate\\nbakedn...</td>\n",
       "      <td>0.725069</td>\n",
       "      <td>0.450138</td>\n",
       "      <td>0.438272</td>\n",
       "      <td>0.172915</td>\n",
       "      <td>9</td>\n",
       "      <td>15</td>\n",
       "      <td>...</td>\n",
       "      <td>0</td>\n",
       "      <td>6</td>\n",
       "      <td>2</td>\n",
       "      <td>5</td>\n",
       "      <td>17</td>\n",
       "      <td>2022-01-01 00:45:00</td>\n",
       "      <td>46610.81</td>\n",
       "      <td>46656.13</td>\n",
       "      <td>0.000972</td>\n",
       "      <td>1</td>\n",
       "    </tr>\n",
       "    <tr>\n",
       "      <th>3</th>\n",
       "      <td>2022-01-01 01:00:00</td>\n",
       "      <td>['2022-01-01 00:45:02', '2022-01-01 00:45:04',...</td>\n",
       "      <td>#Bitcoin $BTC \\nPrice: $46,630.10\\n\\nAreas of ...</td>\n",
       "      <td>DCA_Cryptoz\\nbidcoindad\\ncoinok\\nbmurphypointm...</td>\n",
       "      <td>0.756357</td>\n",
       "      <td>0.512714</td>\n",
       "      <td>0.381818</td>\n",
       "      <td>0.178866</td>\n",
       "      <td>5</td>\n",
       "      <td>11</td>\n",
       "      <td>...</td>\n",
       "      <td>1</td>\n",
       "      <td>5</td>\n",
       "      <td>1</td>\n",
       "      <td>2</td>\n",
       "      <td>6</td>\n",
       "      <td>2022-01-01 01:00:00</td>\n",
       "      <td>46656.14</td>\n",
       "      <td>46766.99</td>\n",
       "      <td>0.002376</td>\n",
       "      <td>1</td>\n",
       "    </tr>\n",
       "    <tr>\n",
       "      <th>4</th>\n",
       "      <td>2022-01-01 01:15:00</td>\n",
       "      <td>['2022-01-01 01:00:00', '2022-01-01 01:00:00',...</td>\n",
       "      <td>Today's Cryptocurrency Fear And Greed Index: 2...</td>\n",
       "      <td>FearAndGreedBot\\nOfficialOverbit\\nBTC_AI_bot\\n...</td>\n",
       "      <td>0.770306</td>\n",
       "      <td>0.540612</td>\n",
       "      <td>0.343195</td>\n",
       "      <td>0.143037</td>\n",
       "      <td>6</td>\n",
       "      <td>13</td>\n",
       "      <td>...</td>\n",
       "      <td>0</td>\n",
       "      <td>6</td>\n",
       "      <td>8</td>\n",
       "      <td>4</td>\n",
       "      <td>13</td>\n",
       "      <td>2022-01-01 01:15:00</td>\n",
       "      <td>46766.99</td>\n",
       "      <td>46815.33</td>\n",
       "      <td>0.001034</td>\n",
       "      <td>1</td>\n",
       "    </tr>\n",
       "    <tr>\n",
       "      <th>...</th>\n",
       "      <td>...</td>\n",
       "      <td>...</td>\n",
       "      <td>...</td>\n",
       "      <td>...</td>\n",
       "      <td>...</td>\n",
       "      <td>...</td>\n",
       "      <td>...</td>\n",
       "      <td>...</td>\n",
       "      <td>...</td>\n",
       "      <td>...</td>\n",
       "      <td>...</td>\n",
       "      <td>...</td>\n",
       "      <td>...</td>\n",
       "      <td>...</td>\n",
       "      <td>...</td>\n",
       "      <td>...</td>\n",
       "      <td>...</td>\n",
       "      <td>...</td>\n",
       "      <td>...</td>\n",
       "      <td>...</td>\n",
       "      <td>...</td>\n",
       "    </tr>\n",
       "    <tr>\n",
       "      <th>2971</th>\n",
       "      <td>2022-01-31 23:00:00</td>\n",
       "      <td>['2022-01-31 22:45:00', '2022-01-31 22:45:01',...</td>\n",
       "      <td>NFL Stars and Politicians' Bet in Bitcoin Turn...</td>\n",
       "      <td>got_eth\\nzero_2_nothing\\nNewsCryptoBot\\nJamesW...</td>\n",
       "      <td>0.771425</td>\n",
       "      <td>0.542850</td>\n",
       "      <td>0.209877</td>\n",
       "      <td>0.167436</td>\n",
       "      <td>1</td>\n",
       "      <td>4</td>\n",
       "      <td>...</td>\n",
       "      <td>1</td>\n",
       "      <td>10</td>\n",
       "      <td>3</td>\n",
       "      <td>3</td>\n",
       "      <td>8</td>\n",
       "      <td>2022-01-31 23:00:00</td>\n",
       "      <td>38412.45</td>\n",
       "      <td>38451.36</td>\n",
       "      <td>0.001013</td>\n",
       "      <td>1</td>\n",
       "    </tr>\n",
       "    <tr>\n",
       "      <th>2972</th>\n",
       "      <td>2022-01-31 23:15:00</td>\n",
       "      <td>['2022-01-31 23:00:00', '2022-01-31 23:00:00',...</td>\n",
       "      <td>Top #Cryptocurrency RANK DOWN (#crypto #bitcoi...</td>\n",
       "      <td>CryptoTopCharts\\nBTC_AI_bot\\ncryptonewsleak\\nt...</td>\n",
       "      <td>0.779117</td>\n",
       "      <td>0.558234</td>\n",
       "      <td>0.263158</td>\n",
       "      <td>0.161682</td>\n",
       "      <td>4</td>\n",
       "      <td>4</td>\n",
       "      <td>...</td>\n",
       "      <td>0</td>\n",
       "      <td>5</td>\n",
       "      <td>5</td>\n",
       "      <td>5</td>\n",
       "      <td>3</td>\n",
       "      <td>2022-01-31 23:15:00</td>\n",
       "      <td>38451.36</td>\n",
       "      <td>38412.23</td>\n",
       "      <td>-0.001018</td>\n",
       "      <td>0</td>\n",
       "    </tr>\n",
       "    <tr>\n",
       "      <th>2973</th>\n",
       "      <td>2022-01-31 23:30:00</td>\n",
       "      <td>['2022-01-31 23:15:00', '2022-01-31 23:15:00',...</td>\n",
       "      <td>Why are people buying #Bitcoin? Why are they a...</td>\n",
       "      <td>ForwardGroupMS\\nThomasBakerMS\\nbig_blockers\\nb...</td>\n",
       "      <td>0.783670</td>\n",
       "      <td>0.567341</td>\n",
       "      <td>0.278592</td>\n",
       "      <td>0.161257</td>\n",
       "      <td>5</td>\n",
       "      <td>6</td>\n",
       "      <td>...</td>\n",
       "      <td>0</td>\n",
       "      <td>6</td>\n",
       "      <td>5</td>\n",
       "      <td>5</td>\n",
       "      <td>3</td>\n",
       "      <td>2022-01-31 23:30:00</td>\n",
       "      <td>38412.23</td>\n",
       "      <td>38369.11</td>\n",
       "      <td>-0.001123</td>\n",
       "      <td>0</td>\n",
       "    </tr>\n",
       "    <tr>\n",
       "      <th>2974</th>\n",
       "      <td>2022-01-31 23:45:00</td>\n",
       "      <td>['2022-01-31 23:30:01', '2022-01-31 23:30:02',...</td>\n",
       "      <td>Bitcoin On Its Way To $500,000? Anthony Scaram...</td>\n",
       "      <td>OutlawBuckeye\\nSifHomes\\nitvc_\\nRaulGlzC\\nTheM...</td>\n",
       "      <td>0.769362</td>\n",
       "      <td>0.538723</td>\n",
       "      <td>0.240642</td>\n",
       "      <td>0.110640</td>\n",
       "      <td>3</td>\n",
       "      <td>4</td>\n",
       "      <td>...</td>\n",
       "      <td>1</td>\n",
       "      <td>4</td>\n",
       "      <td>1</td>\n",
       "      <td>8</td>\n",
       "      <td>6</td>\n",
       "      <td>2022-01-31 23:45:00</td>\n",
       "      <td>38369.12</td>\n",
       "      <td>38466.90</td>\n",
       "      <td>0.002548</td>\n",
       "      <td>1</td>\n",
       "    </tr>\n",
       "    <tr>\n",
       "      <th>2975</th>\n",
       "      <td>2022-02-01 00:00:00</td>\n",
       "      <td>['2022-01-31 23:45:02', '2022-01-31 23:45:02',...</td>\n",
       "      <td>Bitcoin loses $48K on Wall Street open as trad...</td>\n",
       "      <td>MilaPlayporn\\nNewsCryptoBot\\nthomastthai\\nnews...</td>\n",
       "      <td>0.741804</td>\n",
       "      <td>0.483609</td>\n",
       "      <td>0.243386</td>\n",
       "      <td>0.170778</td>\n",
       "      <td>4</td>\n",
       "      <td>5</td>\n",
       "      <td>...</td>\n",
       "      <td>0</td>\n",
       "      <td>11</td>\n",
       "      <td>2</td>\n",
       "      <td>3</td>\n",
       "      <td>12</td>\n",
       "      <td>2022-02-01 00:00:00</td>\n",
       "      <td>38466.90</td>\n",
       "      <td>38497.68</td>\n",
       "      <td>0.000800</td>\n",
       "      <td>1</td>\n",
       "    </tr>\n",
       "  </tbody>\n",
       "</table>\n",
       "<p>2976 rows × 31 columns</p>\n",
       "</div>"
      ],
      "text/plain": [
       "                 Date_15m                                           datetime  \\\n",
       "0     2022-01-01 00:15:00  ['2022-01-01 00:00:00', '2022-01-01 00:00:00',...   \n",
       "1     2022-01-01 00:30:00  ['2022-01-01 00:15:01', '2022-01-01 00:15:05',...   \n",
       "2     2022-01-01 00:45:00  ['2022-01-01 00:30:00', '2022-01-01 00:30:01',...   \n",
       "3     2022-01-01 01:00:00  ['2022-01-01 00:45:02', '2022-01-01 00:45:04',...   \n",
       "4     2022-01-01 01:15:00  ['2022-01-01 01:00:00', '2022-01-01 01:00:00',...   \n",
       "...                   ...                                                ...   \n",
       "2971  2022-01-31 23:00:00  ['2022-01-31 22:45:00', '2022-01-31 22:45:01',...   \n",
       "2972  2022-01-31 23:15:00  ['2022-01-31 23:00:00', '2022-01-31 23:00:00',...   \n",
       "2973  2022-01-31 23:30:00  ['2022-01-31 23:15:00', '2022-01-31 23:15:00',...   \n",
       "2974  2022-01-31 23:45:00  ['2022-01-31 23:30:01', '2022-01-31 23:30:02',...   \n",
       "2975  2022-02-01 00:00:00  ['2022-01-31 23:45:02', '2022-01-31 23:45:02',...   \n",
       "\n",
       "                                                   text  \\\n",
       "0     Current Price of Bitcoin:\\n$46320 (-1.85%)\\n\\n...   \n",
       "1     The current price of Bitcoin is $46453.00.\\nTh...   \n",
       "2     “Here's to a bright New Year and a fond farewe...   \n",
       "3     #Bitcoin $BTC \\nPrice: $46,630.10\\n\\nAreas of ...   \n",
       "4     Today's Cryptocurrency Fear And Greed Index: 2...   \n",
       "...                                                 ...   \n",
       "2971  NFL Stars and Politicians' Bet in Bitcoin Turn...   \n",
       "2972  Top #Cryptocurrency RANK DOWN (#crypto #bitcoi...   \n",
       "2973  Why are people buying #Bitcoin? Why are they a...   \n",
       "2974  Bitcoin On Its Way To $500,000? Anthony Scaram...   \n",
       "2975  Bitcoin loses $48K on Wall Street open as trad...   \n",
       "\n",
       "                                               username  kk08_pos_score  \\\n",
       "0     CryptoNerdApp\\nTrendSpider\\nMadStudentScie1\\nW...        0.816322   \n",
       "1     big_blockers\\nbmurphypointman\\nButterLemonBot\\...        0.716851   \n",
       "2     bitcoiva\\ncryptozone007\\nlinuxadvocate\\nbakedn...        0.725069   \n",
       "3     DCA_Cryptoz\\nbidcoindad\\ncoinok\\nbmurphypointm...        0.756357   \n",
       "4     FearAndGreedBot\\nOfficialOverbit\\nBTC_AI_bot\\n...        0.770306   \n",
       "...                                                 ...             ...   \n",
       "2971  got_eth\\nzero_2_nothing\\nNewsCryptoBot\\nJamesW...        0.771425   \n",
       "2972  CryptoTopCharts\\nBTC_AI_bot\\ncryptonewsleak\\nt...        0.779117   \n",
       "2973  ForwardGroupMS\\nThomasBakerMS\\nbig_blockers\\nb...        0.783670   \n",
       "2974  OutlawBuckeye\\nSifHomes\\nitvc_\\nRaulGlzC\\nTheM...        0.769362   \n",
       "2975  MilaPlayporn\\nNewsCryptoBot\\nthomastthai\\nnews...        0.741804   \n",
       "\n",
       "      kk08_score_diff  Elkulako_label  Sentiment_vader  pred  analysis  ...  \\\n",
       "0            0.632644        0.342175         0.161173    11         4  ...   \n",
       "1            0.433702        0.305638         0.136947     9        42  ...   \n",
       "2            0.450138        0.438272         0.172915     9        15  ...   \n",
       "3            0.512714        0.381818         0.178866     5        11  ...   \n",
       "4            0.540612        0.343195         0.143037     6        13  ...   \n",
       "...               ...             ...              ...   ...       ...  ...   \n",
       "2971         0.542850        0.209877         0.167436     1         4  ...   \n",
       "2972         0.558234        0.263158         0.161682     4         4  ...   \n",
       "2973         0.567341        0.278592         0.161257     5         6  ...   \n",
       "2974         0.538723        0.240642         0.110640     3         4  ...   \n",
       "2975         0.483609        0.243386         0.170778     4         5  ...   \n",
       "\n",
       "      collapse  ATH  grow  rise  fall                 date      open  \\\n",
       "0            0    9     6     7     4  2022-01-01 00:15:00  46332.52   \n",
       "1            1    8     1     6    38  2022-01-01 00:30:00  46375.42   \n",
       "2            0    6     2     5    17  2022-01-01 00:45:00  46610.81   \n",
       "3            1    5     1     2     6  2022-01-01 01:00:00  46656.14   \n",
       "4            0    6     8     4    13  2022-01-01 01:15:00  46766.99   \n",
       "...        ...  ...   ...   ...   ...                  ...       ...   \n",
       "2971         1   10     3     3     8  2022-01-31 23:00:00  38412.45   \n",
       "2972         0    5     5     5     3  2022-01-31 23:15:00  38451.36   \n",
       "2973         0    6     5     5     3  2022-01-31 23:30:00  38412.23   \n",
       "2974         1    4     1     8     6  2022-01-31 23:45:00  38369.12   \n",
       "2975         0   11     2     3    12  2022-02-01 00:00:00  38466.90   \n",
       "\n",
       "         close    Return  Return_sign  \n",
       "0     46375.42  0.000926            1  \n",
       "1     46610.81  0.005076            1  \n",
       "2     46656.13  0.000972            1  \n",
       "3     46766.99  0.002376            1  \n",
       "4     46815.33  0.001034            1  \n",
       "...        ...       ...          ...  \n",
       "2971  38451.36  0.001013            1  \n",
       "2972  38412.23 -0.001018            0  \n",
       "2973  38369.11 -0.001123            0  \n",
       "2974  38466.90  0.002548            1  \n",
       "2975  38497.68  0.000800            1  \n",
       "\n",
       "[2976 rows x 31 columns]"
      ]
     },
     "execution_count": 2,
     "metadata": {},
     "output_type": "execute_result"
    }
   ],
   "source": [
    "df"
   ]
  },
  {
   "cell_type": "code",
   "execution_count": null,
   "metadata": {},
   "outputs": [],
   "source": []
  },
  {
   "cell_type": "markdown",
   "metadata": {},
   "source": [
    "# Cross-validation"
   ]
  },
  {
   "cell_type": "code",
   "execution_count": 3,
   "metadata": {},
   "outputs": [],
   "source": [
    "from sklearn.model_selection import GridSearchCV\n",
    "from sklearn.metrics import accuracy_score, roc_auc_score, f1_score\n",
    "from sklearn.model_selection import TimeSeriesSplit\n",
    "from sklearn.preprocessing import MinMaxScaler\n",
    "from copy import deepcopy\n",
    "import pandas as pd\n",
    "\n",
    "def cv_and_predict_valid(\n",
    "    df_x,\n",
    "    df_y,\n",
    "    model,\n",
    "    train_share=0.9,\n",
    "    tree = False,\n",
    "    grid_search=False,\n",
    "    grid_parameters=None\n",
    "):\n",
    "    \n",
    "    feature_importances = []\n",
    "\n",
    "    split_index = int(train_share * len(df_x)) \n",
    "    X_train, X_valid = df_x[:split_index], df_x[split_index:]\n",
    "    y_train, y_valid = df_y[:split_index], df_y[split_index:]\n",
    "    \n",
    "    \n",
    "    # if scaler:\n",
    "    #     scaler = MinMaxScaler()\n",
    "    #     X_train[\"kk08_pos_score\"] = scaler.fit_transform(X_train[[\"kk08_pos_score\"]])   \n",
    "    #     X_valid[\"kk08_pos_score\"] = scaler.transform(X_valid[[\"kk08_pos_score\"]]) \n",
    "\n",
    "\n",
    "    if grid_search and grid_parameters:\n",
    "        grid_search_cv = GridSearchCV(\n",
    "            estimator=model,\n",
    "            param_grid=grid_parameters,\n",
    "            cv=TimeSeriesSplit(n_splits=5),  \n",
    "            scoring=\"balanced_accuracy\",  \n",
    "            n_jobs=-1        \n",
    "        )\n",
    "        grid_search_cv.fit(X_train, y_train)\n",
    "        print(grid_search_cv.best_estimator_)\n",
    "        model = grid_search_cv.best_estimator_  \n",
    "        print(f\"Best parameters from grid search: {grid_search_cv.best_params_}\")\n",
    "    else:\n",
    "        model = deepcopy(model)\n",
    "        model.fit(X_train, y_train)\n",
    "    \n",
    "\n",
    "    if tree:\n",
    "        feature_importances = model.feature_importances_\n",
    "\n",
    "    \n",
    "    predictions = model.predict(X_valid)\n",
    "    accuracy = accuracy_score(y_valid, predictions)\n",
    "    roc_auc = roc_auc_score(y_valid, predictions)\n",
    "    f1 = f1_score(y_valid, predictions)\n",
    "\n",
    "    \n",
    "    pred_df = pd.DataFrame()\n",
    "    pred_df[\"target\"] = y_valid\n",
    "    pred_df[\"prediction\"] = predictions\n",
    "\n",
    "    \n",
    "    print(f\"Accuracy: {accuracy}\")\n",
    "    print(f\"ROC-AUC: {roc_auc}\")\n",
    "    print(f\"F1-score: {f1}\")\n",
    "\n",
    "    return pred_df, accuracy, roc_auc, f1, feature_importances\n"
   ]
  },
  {
   "cell_type": "markdown",
   "metadata": {},
   "source": [
    "# Only kk08"
   ]
  },
  {
   "cell_type": "code",
   "execution_count": 4,
   "metadata": {},
   "outputs": [],
   "source": [
    "df_x_1 = df[[\"kk08_pos_score\"]]\n",
    "df_y = df[\"Return_sign\"]"
   ]
  },
  {
   "cell_type": "code",
   "execution_count": 5,
   "metadata": {},
   "outputs": [],
   "source": [
    "train_share = 0.85\n",
    "df_x_1_train = df_x_1.iloc[:int(len(df_x_1)*train_share)].reset_index(drop=True)\n",
    "df_y_train = df_y.iloc[:int(len(df_x_1)*train_share)].reset_index(drop=True)\n",
    "\n",
    "df_x_1_test = df_x_1.iloc[int(len(df_x_1)*train_share):].reset_index(drop=True)\n",
    "df_y_test = df_y.iloc[int(len(df_x_1)*train_share):].reset_index(drop=True)"
   ]
  },
  {
   "cell_type": "code",
   "execution_count": 6,
   "metadata": {},
   "outputs": [
    {
     "data": {
      "text/plain": [
       "0.5279642058165548"
      ]
     },
     "execution_count": 6,
     "metadata": {},
     "output_type": "execute_result"
    }
   ],
   "source": [
    "sum(df_y_test)/len(df_y_test)"
   ]
  },
  {
   "cell_type": "code",
   "execution_count": 7,
   "metadata": {},
   "outputs": [
    {
     "name": "stdout",
     "output_type": "stream",
     "text": [
      "Accuracy: 0.4980237154150198\n",
      "ROC-AUC: 0.5\n",
      "F1-score: 0.0\n"
     ]
    }
   ],
   "source": [
    "from sklearn.dummy import DummyClassifier\n",
    "dummy_model = DummyClassifier(strategy='most_frequent')\n",
    "dummy_pred, dummy_acc, dummy_roc_auc,dummy_f1, dummy_feat_imp= cv_and_predict_valid(df_x_1_train,df_y_train,dummy_model)\n"
   ]
  },
  {
   "cell_type": "code",
   "execution_count": 8,
   "metadata": {},
   "outputs": [
    {
     "name": "stdout",
     "output_type": "stream",
     "text": [
      "Accuracy: 0.4720357941834452\n",
      "ROC-AUC: 0.5\n",
      "F1-score: 0.0\n"
     ]
    }
   ],
   "source": [
    "# testing\n",
    "dummy_model.fit(df_x_1_train, df_y_train)\n",
    "predictions = dummy_model.predict(df_x_1_test)\n",
    "accuracy = accuracy_score(df_y_test, predictions)\n",
    "roc_auc = roc_auc_score(df_y_test, predictions)\n",
    "f1 = f1_score(df_y_test, predictions)\n",
    "    \n",
    "print(f\"Accuracy: {accuracy}\")\n",
    "print(f\"ROC-AUC: {roc_auc}\")\n",
    "print(f\"F1-score: {f1}\")\n"
   ]
  },
  {
   "cell_type": "code",
   "execution_count": 9,
   "metadata": {},
   "outputs": [
    {
     "name": "stdout",
     "output_type": "stream",
     "text": [
      "RandomForestClassifier(min_samples_leaf=10, n_estimators=30, random_state=17)\n",
      "Best parameters from grid search: {'max_depth': None, 'min_samples_leaf': 10, 'n_estimators': 30}\n",
      "Accuracy: 0.5059288537549407\n",
      "ROC-AUC: 0.5061554805649294\n",
      "F1-score: 0.4769874476987448\n"
     ]
    }
   ],
   "source": [
    "from sklearn.ensemble import RandomForestClassifier\n",
    "# Random Forest\n",
    "grid_params = {\n",
    "    'n_estimators': [10, 30, 50, 100, 200],\n",
    "    'max_depth': [3, 5, None],\n",
    "    'min_samples_leaf': [1, 5, 10]}\n",
    "rf_model = RandomForestClassifier(random_state=17)\n",
    "rf_pred, rf_acc, rf_roc_auc,rf_f1, rf_feat_imp = cv_and_predict_valid(df_x_1_train,df_y_train, rf_model, tree = True, grid_search=True, grid_parameters=grid_params)"
   ]
  },
  {
   "cell_type": "code",
   "execution_count": 10,
   "metadata": {},
   "outputs": [
    {
     "name": "stdout",
     "output_type": "stream",
     "text": [
      "Accuracy: 0.4988814317673378\n",
      "ROC-AUC: 0.5025805285565106\n",
      "F1-score: 0.4790697674418605\n"
     ]
    }
   ],
   "source": [
    "# testing\n",
    "model = RandomForestClassifier(min_samples_leaf=10, n_estimators=30,random_state=17)\n",
    "model.fit(df_x_1_train, df_y_train)\n",
    "predictions = model.predict(df_x_1_test)\n",
    "accuracy = accuracy_score(df_y_test, predictions)\n",
    "roc_auc = roc_auc_score(df_y_test, predictions)\n",
    "f1 = f1_score(df_y_test, predictions)\n",
    "    \n",
    "print(f\"Accuracy: {accuracy}\")\n",
    "print(f\"ROC-AUC: {roc_auc}\")\n",
    "print(f\"F1-score: {f1}\")"
   ]
  },
  {
   "cell_type": "code",
   "execution_count": 11,
   "metadata": {},
   "outputs": [
    {
     "name": "stdout",
     "output_type": "stream",
     "text": [
      "XGBClassifier(base_score=None, booster=None, callbacks=None,\n",
      "              colsample_bylevel=None, colsample_bynode=None,\n",
      "              colsample_bytree=None, device=None, early_stopping_rounds=None,\n",
      "              enable_categorical=False, eval_metric=None, feature_types=None,\n",
      "              gamma=None, grow_policy=None, importance_type=None,\n",
      "              interaction_constraints=None, learning_rate=None, max_bin=None,\n",
      "              max_cat_threshold=None, max_cat_to_onehot=None,\n",
      "              max_delta_step=None, max_depth=6, max_leaves=None,\n",
      "              min_child_weight=None, missing=nan, monotone_constraints=None,\n",
      "              multi_strategy=None, n_estimators=100, n_jobs=None,\n",
      "              num_parallel_tree=None, random_state=17, ...)\n",
      "Best parameters from grid search: {'max_depth': 6, 'n_estimators': 100}\n",
      "Accuracy: 0.5217391304347826\n",
      "ROC-AUC: 0.52212223472066\n",
      "F1-score: 0.47161572052401746\n"
     ]
    }
   ],
   "source": [
    "from xgboost import XGBClassifier\n",
    "# XGBoost\n",
    "grid_params = {'n_estimators': [5, 10, 20, 30, 50, 100, 300, 500],\"max_depth\": [1,2,3,6]}\n",
    "xgb_model = XGBClassifier(random_state=17)\n",
    "xgb_pred, xgb_acc, xgb_roc_auc,xgb_f1, xgb_feat_imp = cv_and_predict_valid(df_x_1_train,df_y_train, xgb_model, tree = True, grid_search=True, grid_parameters=grid_params)"
   ]
  },
  {
   "cell_type": "code",
   "execution_count": 12,
   "metadata": {},
   "outputs": [
    {
     "name": "stdout",
     "output_type": "stream",
     "text": [
      "Accuracy: 0.48322147651006714\n",
      "ROC-AUC: 0.4857418266527431\n",
      "F1-score: 0.47380410022779046\n"
     ]
    }
   ],
   "source": [
    "# testing\n",
    "model = XGBClassifier(max_depth=6, n_estimators=100, random_state=17)\n",
    "model.fit(df_x_1_train, df_y_train)\n",
    "predictions = model.predict(df_x_1_test)\n",
    "accuracy = accuracy_score(df_y_test, predictions)\n",
    "roc_auc = roc_auc_score(df_y_test, predictions)\n",
    "f1 = f1_score(df_y_test, predictions)\n",
    "    \n",
    "print(f\"Accuracy: {accuracy}\")\n",
    "print(f\"ROC-AUC: {roc_auc}\")\n",
    "print(f\"F1-score: {f1}\")"
   ]
  },
  {
   "cell_type": "code",
   "execution_count": 13,
   "metadata": {},
   "outputs": [
    {
     "name": "stdout",
     "output_type": "stream",
     "text": [
      "SVC(C=2, class_weight='balanced', gamma=1)\n",
      "Best parameters from grid search: {'C': 2, 'class_weight': 'balanced', 'gamma': 1, 'kernel': 'rbf'}\n",
      "Accuracy: 0.466403162055336\n",
      "ROC-AUC: 0.4672540932383452\n",
      "F1-score: 0.32160804020100503\n"
     ]
    }
   ],
   "source": [
    "from sklearn.svm import SVC\n",
    "# SVM\n",
    "grid_params = {'C': [0.1, 0.3, 0.7, 1, 2],  'kernel': ['poly', 'rbf'], 'gamma': [1, 0.1, 0.01], 'class_weight': ['balanced', None]}\n",
    "svm_model = SVC()\n",
    "svm_pred, svm_acc, svm_roc_auc,svm_f1, svm_feat_imp = cv_and_predict_valid(df_x_1_train,df_y_train, svm_model, grid_search=True, grid_parameters=grid_params)"
   ]
  },
  {
   "cell_type": "code",
   "execution_count": 14,
   "metadata": {},
   "outputs": [
    {
     "name": "stdout",
     "output_type": "stream",
     "text": [
      "Accuracy: 0.47874720357941836\n",
      "ROC-AUC: 0.47974736926660777\n",
      "F1-score: 0.48337028824833705\n"
     ]
    }
   ],
   "source": [
    "# testing\n",
    "model = SVC(C=2, class_weight='balanced', gamma=1)\n",
    "model.fit(df_x_1_train, df_y_train)\n",
    "predictions = model.predict(df_x_1_test)\n",
    "accuracy = accuracy_score(df_y_test, predictions)\n",
    "roc_auc = roc_auc_score(df_y_test, predictions)\n",
    "f1 = f1_score(df_y_test, predictions)\n",
    "    \n",
    "print(f\"Accuracy: {accuracy}\")\n",
    "print(f\"ROC-AUC: {roc_auc}\")\n",
    "print(f\"F1-score: {f1}\")"
   ]
  },
  {
   "cell_type": "code",
   "execution_count": 15,
   "metadata": {},
   "outputs": [
    {
     "name": "stdout",
     "output_type": "stream",
     "text": [
      "AdaBoostClassifier(learning_rate=0.3, n_estimators=20)\n",
      "Best parameters from grid search: {'learning_rate': 0.3, 'n_estimators': 20}\n",
      "Accuracy: 0.5059288537549407\n",
      "ROC-AUC: 0.5078740157480315\n",
      "F1-score: 0.031007751937984496\n"
     ]
    },
    {
     "name": "stderr",
     "output_type": "stream",
     "text": [
      "c:\\Users\\isaen\\AppData\\Local\\Programs\\Python\\Python312\\Lib\\site-packages\\sklearn\\ensemble\\_weight_boosting.py:519: FutureWarning: The SAMME.R algorithm (the default) is deprecated and will be removed in 1.6. Use the SAMME algorithm to circumvent this warning.\n",
      "  warnings.warn(\n"
     ]
    }
   ],
   "source": [
    "from sklearn.ensemble import AdaBoostClassifier\n",
    "grid_params = {'n_estimators': [5, 10, 20, 30, 50, 100, 300, 500], 'learning_rate':[0.1, 0.3, 0.5, 1]}\n",
    "ada_model = AdaBoostClassifier()\n",
    "ada_pred, ada_acc, ada_roc_auc,ada_f1, ada_feat_imp = cv_and_predict_valid(df_x_1_train,df_y_train, ada_model, tree = True, grid_search=True, grid_parameters = grid_params)\n"
   ]
  },
  {
   "cell_type": "code",
   "execution_count": 16,
   "metadata": {},
   "outputs": [
    {
     "name": "stdout",
     "output_type": "stream",
     "text": [
      "Accuracy: 0.47651006711409394\n",
      "ROC-AUC: 0.5032331914209976\n",
      "F1-score: 0.04878048780487805\n"
     ]
    },
    {
     "name": "stderr",
     "output_type": "stream",
     "text": [
      "c:\\Users\\isaen\\AppData\\Local\\Programs\\Python\\Python312\\Lib\\site-packages\\sklearn\\ensemble\\_weight_boosting.py:519: FutureWarning: The SAMME.R algorithm (the default) is deprecated and will be removed in 1.6. Use the SAMME algorithm to circumvent this warning.\n",
      "  warnings.warn(\n"
     ]
    }
   ],
   "source": [
    "# testing\n",
    "model = AdaBoostClassifier(learning_rate=0.3, n_estimators=20)\n",
    "model.fit(df_x_1_train, df_y_train)\n",
    "predictions = model.predict(df_x_1_test)\n",
    "accuracy = accuracy_score(df_y_test, predictions)\n",
    "roc_auc = roc_auc_score(df_y_test, predictions)\n",
    "f1 = f1_score(df_y_test, predictions)\n",
    "    \n",
    "print(f\"Accuracy: {accuracy}\")\n",
    "print(f\"ROC-AUC: {roc_auc}\")\n",
    "print(f\"F1-score: {f1}\")"
   ]
  },
  {
   "cell_type": "code",
   "execution_count": 17,
   "metadata": {},
   "outputs": [
    {
     "name": "stdout",
     "output_type": "stream",
     "text": [
      "Accuracy: 0.4980237154150198\n",
      "ROC-AUC: 0.5\n",
      "F1-score: 0.0\n"
     ]
    }
   ],
   "source": [
    "from sklearn.naive_bayes import GaussianNB\n",
    "nb_model = GaussianNB()\n",
    "nb_pred, nb_acc, nb_roc_auc,nb_f1, nb_feat_imp = cv_and_predict_valid(df_x_1_train,df_y_train, nb_model)\n"
   ]
  },
  {
   "cell_type": "code",
   "execution_count": 18,
   "metadata": {},
   "outputs": [
    {
     "name": "stdout",
     "output_type": "stream",
     "text": [
      "Accuracy: 0.4720357941834452\n",
      "ROC-AUC: 0.5\n",
      "F1-score: 0.0\n"
     ]
    }
   ],
   "source": [
    "# testing\n",
    "model = GaussianNB()\n",
    "model.fit(df_x_1_train, df_y_train)\n",
    "predictions = model.predict(df_x_1_test)\n",
    "accuracy = accuracy_score(df_y_test, predictions)\n",
    "roc_auc = roc_auc_score(df_y_test, predictions)\n",
    "f1 = f1_score(df_y_test, predictions)\n",
    "    \n",
    "print(f\"Accuracy: {accuracy}\")\n",
    "print(f\"ROC-AUC: {roc_auc}\")\n",
    "print(f\"F1-score: {f1}\")"
   ]
  },
  {
   "cell_type": "code",
   "execution_count": 19,
   "metadata": {},
   "outputs": [
    {
     "name": "stdout",
     "output_type": "stream",
     "text": [
      "LogisticRegression(C=0.01)\n",
      "Best parameters from grid search: {'C': 0.01, 'penalty': 'l2'}\n",
      "Accuracy: 0.4980237154150198\n",
      "ROC-AUC: 0.5\n",
      "F1-score: 0.0\n"
     ]
    }
   ],
   "source": [
    "from sklearn.linear_model import LogisticRegression\n",
    "grid_params = {\n",
    "    'C': [0.01, 0.1, 1],           \n",
    "    'penalty': ['l2']  \n",
    "}\n",
    "lr_model = LogisticRegression()\n",
    "lr_pred, lr_acc, lr_roc_auc,lr_f1, lr_feat_imp = cv_and_predict_valid(df_x_1_train,df_y_train, lr_model, grid_search=True, grid_parameters=grid_params)\n"
   ]
  },
  {
   "cell_type": "code",
   "execution_count": 20,
   "metadata": {},
   "outputs": [
    {
     "name": "stdout",
     "output_type": "stream",
     "text": [
      "Accuracy: 0.4720357941834452\n",
      "ROC-AUC: 0.5\n",
      "F1-score: 0.0\n"
     ]
    }
   ],
   "source": [
    "# testing\n",
    "model = LogisticRegression(C=0.01)\n",
    "model.fit(df_x_1_train, df_y_train)\n",
    "predictions = model.predict(df_x_1_test)\n",
    "accuracy = accuracy_score(df_y_test, predictions)\n",
    "roc_auc = roc_auc_score(df_y_test, predictions)\n",
    "f1 = f1_score(df_y_test, predictions)\n",
    "    \n",
    "print(f\"Accuracy: {accuracy}\")\n",
    "print(f\"ROC-AUC: {roc_auc}\")\n",
    "print(f\"F1-score: {f1}\")"
   ]
  },
  {
   "cell_type": "code",
   "execution_count": 21,
   "metadata": {},
   "outputs": [
    {
     "name": "stdout",
     "output_type": "stream",
     "text": [
      "KNeighborsClassifier(n_neighbors=3)\n",
      "Best parameters from grid search: {'n_neighbors': 3}\n",
      "Accuracy: 0.48616600790513836\n",
      "ROC-AUC: 0.48631421072365955\n",
      "F1-score: 0.4672131147540984\n"
     ]
    }
   ],
   "source": [
    "from sklearn.neighbors import KNeighborsClassifier\n",
    "grid_params = {'n_neighbors': [1, 2, 3, 4, 5,6,7,8,9,10,15]}\n",
    "knn_model = KNeighborsClassifier()\n",
    "knn_pred, knn_acc, knn_roc_auc,knn_f1, knn_feat_imp = cv_and_predict_valid(df_x_1_train,df_y_train, knn_model, grid_search=True, grid_parameters=grid_params)\n"
   ]
  },
  {
   "cell_type": "code",
   "execution_count": 22,
   "metadata": {},
   "outputs": [
    {
     "name": "stdout",
     "output_type": "stream",
     "text": [
      "Accuracy: 0.5100671140939598\n",
      "ROC-AUC: 0.5116676038236003\n",
      "F1-score: 0.5100671140939598\n"
     ]
    }
   ],
   "source": [
    "# testing\n",
    "model = KNeighborsClassifier(n_neighbors=3)\n",
    "model.fit(df_x_1_train, df_y_train)\n",
    "predictions = model.predict(df_x_1_test)\n",
    "accuracy = accuracy_score(df_y_test, predictions)\n",
    "roc_auc = roc_auc_score(df_y_test, predictions)\n",
    "f1 = f1_score(df_y_test, predictions)\n",
    "    \n",
    "print(f\"Accuracy: {accuracy}\")\n",
    "print(f\"ROC-AUC: {roc_auc}\")\n",
    "print(f\"F1-score: {f1}\")"
   ]
  },
  {
   "cell_type": "markdown",
   "metadata": {},
   "source": [
    "# kk08 with lags"
   ]
  },
  {
   "cell_type": "code",
   "execution_count": 23,
   "metadata": {},
   "outputs": [],
   "source": [
    "df['kk08_pos_score_lag1']=df['kk08_pos_score'].shift(1)\n",
    "df['kk08_pos_score_lag2']=df['kk08_pos_score'].shift(2)\n",
    "df['kk08_pos_score_lag3']=df['kk08_pos_score'].shift(3)\n"
   ]
  },
  {
   "cell_type": "code",
   "execution_count": 24,
   "metadata": {},
   "outputs": [],
   "source": [
    "df_x_2 = df.dropna().reset_index(drop=True)[[\"kk08_pos_score\", \"kk08_pos_score_lag1\", \"kk08_pos_score_lag2\", \"kk08_pos_score_lag3\"]]\n",
    "df_y_2 = df[\"Return_sign\"].iloc[3:].reset_index(drop=True)"
   ]
  },
  {
   "cell_type": "code",
   "execution_count": 25,
   "metadata": {},
   "outputs": [
    {
     "data": {
      "text/html": [
       "<div>\n",
       "<style scoped>\n",
       "    .dataframe tbody tr th:only-of-type {\n",
       "        vertical-align: middle;\n",
       "    }\n",
       "\n",
       "    .dataframe tbody tr th {\n",
       "        vertical-align: top;\n",
       "    }\n",
       "\n",
       "    .dataframe thead th {\n",
       "        text-align: right;\n",
       "    }\n",
       "</style>\n",
       "<table border=\"1\" class=\"dataframe\">\n",
       "  <thead>\n",
       "    <tr style=\"text-align: right;\">\n",
       "      <th></th>\n",
       "      <th>kk08_pos_score</th>\n",
       "      <th>kk08_pos_score_lag1</th>\n",
       "      <th>kk08_pos_score_lag2</th>\n",
       "      <th>kk08_pos_score_lag3</th>\n",
       "    </tr>\n",
       "  </thead>\n",
       "  <tbody>\n",
       "    <tr>\n",
       "      <th>0</th>\n",
       "      <td>0.756357</td>\n",
       "      <td>0.725069</td>\n",
       "      <td>0.716851</td>\n",
       "      <td>0.816322</td>\n",
       "    </tr>\n",
       "    <tr>\n",
       "      <th>1</th>\n",
       "      <td>0.770306</td>\n",
       "      <td>0.756357</td>\n",
       "      <td>0.725069</td>\n",
       "      <td>0.716851</td>\n",
       "    </tr>\n",
       "    <tr>\n",
       "      <th>2</th>\n",
       "      <td>0.765516</td>\n",
       "      <td>0.770306</td>\n",
       "      <td>0.756357</td>\n",
       "      <td>0.725069</td>\n",
       "    </tr>\n",
       "    <tr>\n",
       "      <th>3</th>\n",
       "      <td>0.768058</td>\n",
       "      <td>0.765516</td>\n",
       "      <td>0.770306</td>\n",
       "      <td>0.756357</td>\n",
       "    </tr>\n",
       "    <tr>\n",
       "      <th>4</th>\n",
       "      <td>0.805194</td>\n",
       "      <td>0.768058</td>\n",
       "      <td>0.765516</td>\n",
       "      <td>0.770306</td>\n",
       "    </tr>\n",
       "    <tr>\n",
       "      <th>...</th>\n",
       "      <td>...</td>\n",
       "      <td>...</td>\n",
       "      <td>...</td>\n",
       "      <td>...</td>\n",
       "    </tr>\n",
       "    <tr>\n",
       "      <th>2968</th>\n",
       "      <td>0.771425</td>\n",
       "      <td>0.780470</td>\n",
       "      <td>0.790736</td>\n",
       "      <td>0.812888</td>\n",
       "    </tr>\n",
       "    <tr>\n",
       "      <th>2969</th>\n",
       "      <td>0.779117</td>\n",
       "      <td>0.771425</td>\n",
       "      <td>0.780470</td>\n",
       "      <td>0.790736</td>\n",
       "    </tr>\n",
       "    <tr>\n",
       "      <th>2970</th>\n",
       "      <td>0.783670</td>\n",
       "      <td>0.779117</td>\n",
       "      <td>0.771425</td>\n",
       "      <td>0.780470</td>\n",
       "    </tr>\n",
       "    <tr>\n",
       "      <th>2971</th>\n",
       "      <td>0.769362</td>\n",
       "      <td>0.783670</td>\n",
       "      <td>0.779117</td>\n",
       "      <td>0.771425</td>\n",
       "    </tr>\n",
       "    <tr>\n",
       "      <th>2972</th>\n",
       "      <td>0.741804</td>\n",
       "      <td>0.769362</td>\n",
       "      <td>0.783670</td>\n",
       "      <td>0.779117</td>\n",
       "    </tr>\n",
       "  </tbody>\n",
       "</table>\n",
       "<p>2973 rows × 4 columns</p>\n",
       "</div>"
      ],
      "text/plain": [
       "      kk08_pos_score  kk08_pos_score_lag1  kk08_pos_score_lag2  \\\n",
       "0           0.756357             0.725069             0.716851   \n",
       "1           0.770306             0.756357             0.725069   \n",
       "2           0.765516             0.770306             0.756357   \n",
       "3           0.768058             0.765516             0.770306   \n",
       "4           0.805194             0.768058             0.765516   \n",
       "...              ...                  ...                  ...   \n",
       "2968        0.771425             0.780470             0.790736   \n",
       "2969        0.779117             0.771425             0.780470   \n",
       "2970        0.783670             0.779117             0.771425   \n",
       "2971        0.769362             0.783670             0.779117   \n",
       "2972        0.741804             0.769362             0.783670   \n",
       "\n",
       "      kk08_pos_score_lag3  \n",
       "0                0.816322  \n",
       "1                0.716851  \n",
       "2                0.725069  \n",
       "3                0.756357  \n",
       "4                0.770306  \n",
       "...                   ...  \n",
       "2968             0.812888  \n",
       "2969             0.790736  \n",
       "2970             0.780470  \n",
       "2971             0.771425  \n",
       "2972             0.779117  \n",
       "\n",
       "[2973 rows x 4 columns]"
      ]
     },
     "execution_count": 25,
     "metadata": {},
     "output_type": "execute_result"
    }
   ],
   "source": [
    "df_x_2"
   ]
  },
  {
   "cell_type": "code",
   "execution_count": 26,
   "metadata": {},
   "outputs": [
    {
     "data": {
      "text/plain": [
       "0       1\n",
       "1       1\n",
       "2       0\n",
       "3       1\n",
       "4       1\n",
       "       ..\n",
       "2968    1\n",
       "2969    0\n",
       "2970    0\n",
       "2971    1\n",
       "2972    1\n",
       "Name: Return_sign, Length: 2973, dtype: int64"
      ]
     },
     "execution_count": 26,
     "metadata": {},
     "output_type": "execute_result"
    }
   ],
   "source": [
    "df_y_2"
   ]
  },
  {
   "cell_type": "code",
   "execution_count": 27,
   "metadata": {},
   "outputs": [],
   "source": [
    "train_share = 0.85\n",
    "df_x_2_train = df_x_2.iloc[:int(len(df_x_2)*train_share)].reset_index(drop=True)\n",
    "df_y_2_train = df_y_2.iloc[:int(len(df_x_2)*train_share)].reset_index(drop=True)\n",
    "\n",
    "df_x_2_test = df_x_2.iloc[int(len(df_x_2)*train_share):].reset_index(drop=True)\n",
    "df_y_2_test = df_y_2.iloc[int(len(df_x_2)*train_share):].reset_index(drop=True)"
   ]
  },
  {
   "cell_type": "code",
   "execution_count": 28,
   "metadata": {},
   "outputs": [
    {
     "name": "stdout",
     "output_type": "stream",
     "text": [
      "Accuracy: 0.4980237154150198\n",
      "ROC-AUC: 0.5\n",
      "F1-score: 0.0\n"
     ]
    }
   ],
   "source": [
    "from sklearn.dummy import DummyClassifier\n",
    "dummy_model = DummyClassifier(strategy='most_frequent')\n",
    "dummy_pred, dummy_acc, dummy_roc_auc,dummy_f1, dummy_feat_imp= cv_and_predict_valid(df_x_2_train,df_y_2_train,dummy_model)\n"
   ]
  },
  {
   "cell_type": "code",
   "execution_count": 29,
   "metadata": {},
   "outputs": [
    {
     "name": "stdout",
     "output_type": "stream",
     "text": [
      "Accuracy: 0.4730941704035874\n",
      "ROC-AUC: 0.5\n",
      "F1-score: 0.0\n"
     ]
    }
   ],
   "source": [
    "# testing\n",
    "dummy_model.fit(df_x_2_train, df_y_2_train)\n",
    "predictions = dummy_model.predict(df_x_2_test)\n",
    "accuracy = accuracy_score(df_y_2_test, predictions)\n",
    "roc_auc = roc_auc_score(df_y_2_test, predictions)\n",
    "f1 = f1_score(df_y_2_test, predictions)\n",
    "    \n",
    "print(f\"Accuracy: {accuracy}\")\n",
    "print(f\"ROC-AUC: {roc_auc}\")\n",
    "print(f\"F1-score: {f1}\")\n"
   ]
  },
  {
   "cell_type": "code",
   "execution_count": 30,
   "metadata": {},
   "outputs": [
    {
     "name": "stdout",
     "output_type": "stream",
     "text": [
      "RandomForestClassifier(min_samples_leaf=5, n_estimators=10, random_state=17)\n",
      "Best parameters from grid search: {'max_depth': None, 'min_samples_leaf': 5, 'n_estimators': 10}\n",
      "Accuracy: 0.4782608695652174\n",
      "ROC-AUC: 0.4787526559180103\n",
      "F1-score: 0.40540540540540543\n"
     ]
    }
   ],
   "source": [
    "from sklearn.ensemble import RandomForestClassifier\n",
    "# Random Forest\n",
    "grid_params = {\n",
    "    'n_estimators': [10, 30, 50, 100, 200],\n",
    "    'max_depth': [3, 5, None],\n",
    "    'min_samples_leaf': [1, 5, 10]}\n",
    "rf_model = RandomForestClassifier(random_state=17)\n",
    "rf_pred, rf_acc, rf_roc_auc,rf_f1, rf_feat_imp = cv_and_predict_valid(df_x_2_train,df_y_2_train, rf_model, tree = True, grid_search=True, grid_parameters=grid_params)"
   ]
  },
  {
   "cell_type": "code",
   "execution_count": 31,
   "metadata": {},
   "outputs": [
    {
     "name": "stdout",
     "output_type": "stream",
     "text": [
      "Accuracy: 0.48878923766816146\n",
      "ROC-AUC: 0.4935968538872643\n",
      "F1-score: 0.45454545454545453\n"
     ]
    }
   ],
   "source": [
    "# testing\n",
    "model = RandomForestClassifier(min_samples_leaf=5, n_estimators=10, random_state=17)\n",
    "\n",
    "model.fit(df_x_2_train, df_y_2_train)\n",
    "predictions = model.predict(df_x_2_test)\n",
    "accuracy = accuracy_score(df_y_2_test, predictions)\n",
    "roc_auc = roc_auc_score(df_y_2_test, predictions)\n",
    "f1 = f1_score(df_y_2_test, predictions)\n",
    "    \n",
    "print(f\"Accuracy: {accuracy}\")\n",
    "print(f\"ROC-AUC: {roc_auc}\")\n",
    "print(f\"F1-score: {f1}\")"
   ]
  },
  {
   "cell_type": "code",
   "execution_count": 32,
   "metadata": {},
   "outputs": [
    {
     "name": "stdout",
     "output_type": "stream",
     "text": [
      "XGBClassifier(base_score=None, booster=None, callbacks=None,\n",
      "              colsample_bylevel=None, colsample_bynode=None,\n",
      "              colsample_bytree=None, device=None, early_stopping_rounds=None,\n",
      "              enable_categorical=False, eval_metric=None, feature_types=None,\n",
      "              gamma=None, grow_policy=None, importance_type=None,\n",
      "              interaction_constraints=None, learning_rate=None, max_bin=None,\n",
      "              max_cat_threshold=None, max_cat_to_onehot=None,\n",
      "              max_delta_step=None, max_depth=3, max_leaves=None,\n",
      "              min_child_weight=None, missing=nan, monotone_constraints=None,\n",
      "              multi_strategy=None, n_estimators=500, n_jobs=None,\n",
      "              num_parallel_tree=None, random_state=17, ...)\n",
      "Best parameters from grid search: {'max_depth': 3, 'n_estimators': 500}\n",
      "Accuracy: 0.5019762845849802\n",
      "ROC-AUC: 0.5022497187851518\n",
      "F1-score: 0.4661016949152542\n"
     ]
    }
   ],
   "source": [
    "from xgboost import XGBClassifier\n",
    "# XGBoost\n",
    "grid_params = {'n_estimators': [5, 10, 20, 30, 50, 100, 300, 500],\"max_depth\": [1,2,3,6]}\n",
    "xgb_model = XGBClassifier(random_state=17)\n",
    "xgb_pred, xgb_acc, xgb_roc_auc,xgb_f1, xgb_feat_imp = cv_and_predict_valid(df_x_2_train,df_y_2_train, xgb_model, tree = True, grid_search=True, grid_parameters=grid_params)"
   ]
  },
  {
   "cell_type": "code",
   "execution_count": 168,
   "metadata": {},
   "outputs": [
    {
     "name": "stdout",
     "output_type": "stream",
     "text": [
      "[0.25900617 0.24520864 0.2514413  0.24434394]\n",
      "Accuracy: 0.5381165919282511\n",
      "ROC-AUC: 0.5391953211656751\n",
      "F1-score: 0.5422222222222223\n"
     ]
    }
   ],
   "source": [
    "# testing\n",
    "model = XGBClassifier(max_depth=3, n_estimators=500, random_state=17)\n",
    "\n",
    "model.fit(df_x_2_train, df_y_2_train)\n",
    "print(model.feature_importances_)\n",
    "predictions = model.predict(df_x_2_test)\n",
    "accuracy = accuracy_score(df_y_2_test, predictions)\n",
    "roc_auc = roc_auc_score(df_y_2_test, predictions)\n",
    "f1 = f1_score(df_y_2_test, predictions)\n",
    "\n",
    "print(f\"Accuracy: {accuracy}\")\n",
    "print(f\"ROC-AUC: {roc_auc}\")\n",
    "print(f\"F1-score: {f1}\")\n",
    "# not bad"
   ]
  },
  {
   "cell_type": "code",
   "execution_count": 34,
   "metadata": {},
   "outputs": [
    {
     "name": "stdout",
     "output_type": "stream",
     "text": [
      "SVC(C=2, class_weight='balanced', gamma=1)\n",
      "Best parameters from grid search: {'C': 2, 'class_weight': 'balanced', 'gamma': 1, 'kernel': 'rbf'}\n",
      "Accuracy: 0.49407114624505927\n",
      "ROC-AUC: 0.4949381327334083\n",
      "F1-score: 0.35353535353535354\n"
     ]
    }
   ],
   "source": [
    "from sklearn.svm import SVC\n",
    "# SVM\n",
    "grid_params = {'C': [0.1, 0.3, 0.7, 1, 2],  'kernel': ['poly', 'rbf'], 'gamma': [1, 0.1, 0.01], 'class_weight': ['balanced', None]}\n",
    "svm_model = SVC()\n",
    "svm_pred, svm_acc, svm_roc_auc,svm_f1, svm_feat_imp = cv_and_predict_valid(df_x_2_train,df_y_2_train, svm_model, grid_search=True, grid_parameters=grid_params)"
   ]
  },
  {
   "cell_type": "code",
   "execution_count": 35,
   "metadata": {},
   "outputs": [
    {
     "name": "stdout",
     "output_type": "stream",
     "text": [
      "Accuracy: 0.4820627802690583\n",
      "ROC-AUC: 0.48116365836442476\n",
      "F1-score: 0.5032258064516129\n"
     ]
    }
   ],
   "source": [
    "# testing\n",
    "model = SVC(C=2, class_weight='balanced', gamma=1)\n",
    "\n",
    "model.fit(df_x_2_train, df_y_2_train)\n",
    "predictions = model.predict(df_x_2_test)\n",
    "accuracy = accuracy_score(df_y_2_test, predictions)\n",
    "roc_auc = roc_auc_score(df_y_2_test, predictions)\n",
    "f1 = f1_score(df_y_2_test, predictions)\n",
    "    \n",
    "print(f\"Accuracy: {accuracy}\")\n",
    "print(f\"ROC-AUC: {roc_auc}\")\n",
    "print(f\"F1-score: {f1}\")"
   ]
  },
  {
   "cell_type": "code",
   "execution_count": 36,
   "metadata": {},
   "outputs": [
    {
     "name": "stdout",
     "output_type": "stream",
     "text": [
      "AdaBoostClassifier(learning_rate=0.5, n_estimators=20)\n",
      "Best parameters from grid search: {'learning_rate': 0.5, 'n_estimators': 20}\n",
      "Accuracy: 0.5019762845849802\n",
      "ROC-AUC: 0.5032495938007749\n",
      "F1-score: 0.26744186046511625\n"
     ]
    },
    {
     "name": "stderr",
     "output_type": "stream",
     "text": [
      "c:\\Users\\isaen\\AppData\\Local\\Programs\\Python\\Python312\\Lib\\site-packages\\sklearn\\ensemble\\_weight_boosting.py:519: FutureWarning: The SAMME.R algorithm (the default) is deprecated and will be removed in 1.6. Use the SAMME algorithm to circumvent this warning.\n",
      "  warnings.warn(\n"
     ]
    }
   ],
   "source": [
    "from sklearn.ensemble import AdaBoostClassifier\n",
    "grid_params = {'n_estimators': [5, 10, 20, 30, 50, 100, 300, 500], 'learning_rate':[0.1, 0.3, 0.5, 1]}\n",
    "ada_model = AdaBoostClassifier()\n",
    "ada_pred, ada_acc, ada_roc_auc,ada_f1, ada_feat_imp = cv_and_predict_valid(df_x_2_train,df_y_2_train, ada_model, tree = True, grid_search=True, grid_parameters = grid_params)\n"
   ]
  },
  {
   "cell_type": "code",
   "execution_count": 37,
   "metadata": {},
   "outputs": [
    {
     "name": "stderr",
     "output_type": "stream",
     "text": [
      "c:\\Users\\isaen\\AppData\\Local\\Programs\\Python\\Python312\\Lib\\site-packages\\sklearn\\ensemble\\_weight_boosting.py:519: FutureWarning: The SAMME.R algorithm (the default) is deprecated and will be removed in 1.6. Use the SAMME algorithm to circumvent this warning.\n",
      "  warnings.warn(\n"
     ]
    },
    {
     "name": "stdout",
     "output_type": "stream",
     "text": [
      "Accuracy: 0.48878923766816146\n",
      "ROC-AUC: 0.5119895129575476\n",
      "F1-score: 0.14285714285714285\n"
     ]
    }
   ],
   "source": [
    "# testing\n",
    "model = AdaBoostClassifier(learning_rate=0.5, n_estimators=20)\n",
    "model.fit(df_x_2_train, df_y_2_train)\n",
    "predictions = model.predict(df_x_2_test)\n",
    "accuracy = accuracy_score(df_y_2_test, predictions)\n",
    "roc_auc = roc_auc_score(df_y_2_test, predictions)\n",
    "f1 = f1_score(df_y_2_test, predictions)\n",
    "    \n",
    "print(f\"Accuracy: {accuracy}\")\n",
    "print(f\"ROC-AUC: {roc_auc}\")\n",
    "print(f\"F1-score: {f1}\")"
   ]
  },
  {
   "cell_type": "code",
   "execution_count": 38,
   "metadata": {},
   "outputs": [
    {
     "name": "stdout",
     "output_type": "stream",
     "text": [
      "Accuracy: 0.4901185770750988\n",
      "ROC-AUC: 0.4920634920634921\n",
      "F1-score: 0.0\n"
     ]
    }
   ],
   "source": [
    "from sklearn.naive_bayes import GaussianNB\n",
    "nb_model = GaussianNB()\n",
    "nb_pred, nb_acc, nb_roc_auc,nb_f1, nb_feat_imp = cv_and_predict_valid(df_x_2_train,df_y_2_train, nb_model)\n"
   ]
  },
  {
   "cell_type": "code",
   "execution_count": 39,
   "metadata": {},
   "outputs": [
    {
     "name": "stdout",
     "output_type": "stream",
     "text": [
      "Accuracy: 0.47533632286995514\n",
      "ROC-AUC: 0.4987395381667843\n",
      "F1-score: 0.11363636363636363\n"
     ]
    }
   ],
   "source": [
    "# testing\n",
    "model = GaussianNB()\n",
    "\n",
    "model.fit(df_x_2_train, df_y_2_train)\n",
    "predictions = model.predict(df_x_2_test)\n",
    "accuracy = accuracy_score(df_y_2_test, predictions)\n",
    "roc_auc = roc_auc_score(df_y_2_test, predictions)\n",
    "f1 = f1_score(df_y_2_test, predictions)\n",
    "    \n",
    "print(f\"Accuracy: {accuracy}\")\n",
    "print(f\"ROC-AUC: {roc_auc}\")\n",
    "print(f\"F1-score: {f1}\")"
   ]
  },
  {
   "cell_type": "code",
   "execution_count": 40,
   "metadata": {},
   "outputs": [
    {
     "name": "stdout",
     "output_type": "stream",
     "text": [
      "LogisticRegression(C=1)\n",
      "Best parameters from grid search: {'C': 1, 'penalty': 'l2'}\n",
      "Accuracy: 0.4980237154150198\n",
      "ROC-AUC: 0.5\n",
      "F1-score: 0.0\n"
     ]
    }
   ],
   "source": [
    "from sklearn.linear_model import LogisticRegression\n",
    "grid_params = {\n",
    "    'C': [0.01, 0.1, 1],           \n",
    "    'penalty': ['l2']  \n",
    "}\n",
    "lr_model = LogisticRegression()\n",
    "lr_pred, lr_acc, lr_roc_auc,lr_f1, lr_feat_imp = cv_and_predict_valid(df_x_2_train,df_y_2_train, lr_model, grid_search=True, grid_parameters=grid_params)\n"
   ]
  },
  {
   "cell_type": "code",
   "execution_count": 41,
   "metadata": {},
   "outputs": [
    {
     "name": "stdout",
     "output_type": "stream",
     "text": [
      "Accuracy: 0.47533632286995514\n",
      "ROC-AUC: 0.502127659574468\n",
      "F1-score: 0.00847457627118644\n"
     ]
    }
   ],
   "source": [
    "# testing\n",
    "model = LogisticRegression(C=1)\n",
    "\n",
    "model.fit(df_x_2_train, df_y_2_train)\n",
    "predictions = model.predict(df_x_2_test)\n",
    "accuracy = accuracy_score(df_y_2_test, predictions)\n",
    "roc_auc = roc_auc_score(df_y_2_test, predictions)\n",
    "f1 = f1_score(df_y_2_test, predictions)\n",
    "    \n",
    "print(f\"Accuracy: {accuracy}\")\n",
    "print(f\"ROC-AUC: {roc_auc}\")\n",
    "print(f\"F1-score: {f1}\")"
   ]
  },
  {
   "cell_type": "code",
   "execution_count": 42,
   "metadata": {},
   "outputs": [
    {
     "name": "stdout",
     "output_type": "stream",
     "text": [
      "KNeighborsClassifier(n_neighbors=50)\n",
      "Best parameters from grid search: {'n_neighbors': 50}\n",
      "Accuracy: 0.5375494071146245\n",
      "ROC-AUC: 0.5386514185726784\n",
      "F1-score: 0.36065573770491804\n"
     ]
    }
   ],
   "source": [
    "from sklearn.neighbors import KNeighborsClassifier\n",
    "grid_params = {'n_neighbors': [1, 2, 3, 4, 5, 10, 20, 50]}\n",
    "knn_model = KNeighborsClassifier()\n",
    "knn_pred, knn_acc, knn_roc_auc,knn_f1, knn_feat_imp = cv_and_predict_valid(df_x_2_train,df_y_2_train, knn_model, grid_search=True, grid_parameters=grid_params)\n"
   ]
  },
  {
   "cell_type": "code",
   "execution_count": 43,
   "metadata": {},
   "outputs": [
    {
     "name": "stdout",
     "output_type": "stream",
     "text": [
      "Accuracy: 0.5179372197309418\n",
      "ROC-AUC: 0.5275486538267622\n",
      "F1-score: 0.43271767810026385\n"
     ]
    }
   ],
   "source": [
    "# testing\n",
    "model = KNeighborsClassifier(n_neighbors=50)\n",
    "\n",
    "model.fit(df_x_2_train, df_y_2_train)\n",
    "predictions = model.predict(df_x_2_test)\n",
    "accuracy = accuracy_score(df_y_2_test, predictions)\n",
    "roc_auc = roc_auc_score(df_y_2_test, predictions)\n",
    "f1 = f1_score(df_y_2_test, predictions)\n",
    "    \n",
    "print(f\"Accuracy: {accuracy}\")\n",
    "print(f\"ROC-AUC: {roc_auc}\")\n",
    "print(f\"F1-score: {f1}\")"
   ]
  },
  {
   "cell_type": "code",
   "execution_count": null,
   "metadata": {},
   "outputs": [],
   "source": []
  },
  {
   "cell_type": "markdown",
   "metadata": {},
   "source": [
    "# Only vader"
   ]
  },
  {
   "cell_type": "code",
   "execution_count": 44,
   "metadata": {},
   "outputs": [],
   "source": [
    "df_x_3 = df[[\"Sentiment_vader\"]]\n",
    "df_y = df[\"Return_sign\"]"
   ]
  },
  {
   "cell_type": "code",
   "execution_count": 45,
   "metadata": {},
   "outputs": [],
   "source": [
    "train_share = 0.85\n",
    "df_x_3_train = df_x_3.iloc[:int(len(df_x_3)*train_share)].reset_index(drop=True)\n",
    "df_y_train = df_y.iloc[:int(len(df_x_3)*train_share)].reset_index(drop=True)\n",
    "\n",
    "df_x_3_test = df_x_3.iloc[int(len(df_x_3)*train_share):].reset_index(drop=True)\n",
    "df_y_test = df_y.iloc[int(len(df_x_3)*train_share):].reset_index(drop=True)"
   ]
  },
  {
   "cell_type": "code",
   "execution_count": 46,
   "metadata": {},
   "outputs": [
    {
     "name": "stdout",
     "output_type": "stream",
     "text": [
      "Accuracy: 0.4980237154150198\n",
      "ROC-AUC: 0.5\n",
      "F1-score: 0.0\n"
     ]
    }
   ],
   "source": [
    "from sklearn.dummy import DummyClassifier\n",
    "dummy_model = DummyClassifier(strategy='most_frequent')\n",
    "dummy_pred, dummy_acc, dummy_roc_auc,dummy_f1, dummy_feat_imp= cv_and_predict_valid(df_x_3_train,df_y_train,dummy_model)\n"
   ]
  },
  {
   "cell_type": "code",
   "execution_count": 47,
   "metadata": {},
   "outputs": [
    {
     "name": "stdout",
     "output_type": "stream",
     "text": [
      "Accuracy: 0.4720357941834452\n",
      "ROC-AUC: 0.5\n",
      "F1-score: 0.0\n"
     ]
    }
   ],
   "source": [
    "# testing\n",
    "model = DummyClassifier(strategy='most_frequent')\n",
    "\n",
    "model.fit(df_x_3_train, df_y_train)\n",
    "predictions = model.predict(df_x_3_test)\n",
    "accuracy = accuracy_score(df_y_test, predictions)\n",
    "roc_auc = roc_auc_score(df_y_test, predictions)\n",
    "f1 = f1_score(df_y_test, predictions)\n",
    "    \n",
    "print(f\"Accuracy: {accuracy}\")\n",
    "print(f\"ROC-AUC: {roc_auc}\")\n",
    "print(f\"F1-score: {f1}\")"
   ]
  },
  {
   "cell_type": "code",
   "execution_count": 48,
   "metadata": {},
   "outputs": [
    {
     "name": "stdout",
     "output_type": "stream",
     "text": [
      "RandomForestClassifier(n_estimators=20, random_state=17)\n",
      "Best parameters from grid search: {'n_estimators': 20}\n",
      "Accuracy: 0.525691699604743\n",
      "ROC-AUC: 0.5258405199350081\n",
      "F1-score: 0.5081967213114754\n"
     ]
    }
   ],
   "source": [
    "from sklearn.ensemble import RandomForestClassifier\n",
    "# Random Forest\n",
    "grid_params = {'n_estimators': [5, 10, 20, 50,100]}\n",
    "rf_model = RandomForestClassifier(random_state=17)\n",
    "rf_pred, rf_acc, rf_roc_auc,rf_f1, rf_feat_imp = cv_and_predict_valid(df_x_3_train,df_y_train, rf_model, tree = True, grid_search=True, grid_parameters=grid_params)"
   ]
  },
  {
   "cell_type": "code",
   "execution_count": 49,
   "metadata": {},
   "outputs": [
    {
     "name": "stdout",
     "output_type": "stream",
     "text": [
      "Accuracy: 0.4697986577181208\n",
      "ROC-AUC: 0.47127279299542135\n",
      "F1-score: 0.4697986577181208\n"
     ]
    }
   ],
   "source": [
    "# testing\n",
    "model = RandomForestClassifier(n_estimators=20,random_state=17)\n",
    "model.fit(df_x_3_train, df_y_train)\n",
    "predictions = model.predict(df_x_3_test)\n",
    "accuracy = accuracy_score(df_y_test, predictions)\n",
    "roc_auc = roc_auc_score(df_y_test, predictions)\n",
    "f1 = f1_score(df_y_test, predictions)\n",
    "    \n",
    "print(f\"Accuracy: {accuracy}\")\n",
    "print(f\"ROC-AUC: {roc_auc}\")\n",
    "print(f\"F1-score: {f1}\")"
   ]
  },
  {
   "cell_type": "code",
   "execution_count": 50,
   "metadata": {},
   "outputs": [
    {
     "name": "stdout",
     "output_type": "stream",
     "text": [
      "XGBClassifier(base_score=None, booster=None, callbacks=None,\n",
      "              colsample_bylevel=None, colsample_bynode=None,\n",
      "              colsample_bytree=None, device=None, early_stopping_rounds=None,\n",
      "              enable_categorical=False, eval_metric=None, feature_types=None,\n",
      "              gamma=None, grow_policy=None, importance_type=None,\n",
      "              interaction_constraints=None, learning_rate=None, max_bin=None,\n",
      "              max_cat_threshold=None, max_cat_to_onehot=None,\n",
      "              max_delta_step=None, max_depth=1, max_leaves=None,\n",
      "              min_child_weight=None, missing=nan, monotone_constraints=None,\n",
      "              multi_strategy=None, n_estimators=300, n_jobs=None,\n",
      "              num_parallel_tree=None, random_state=17, ...)\n",
      "Best parameters from grid search: {'max_depth': 1, 'n_estimators': 300}\n",
      "Accuracy: 0.4901185770750988\n",
      "ROC-AUC: 0.4909073865766779\n",
      "F1-score: 0.3645320197044335\n"
     ]
    }
   ],
   "source": [
    "from xgboost import XGBClassifier\n",
    "# XGBoost\n",
    "grid_params = {'n_estimators': [5, 10, 20, 30, 50, 100, 300, 500],\"max_depth\": [1,2,3,6]}\n",
    "xgb_model = XGBClassifier(random_state=17)\n",
    "xgb_pred, xgb_acc, xgb_roc_auc,xgb_f1, xgb_feat_imp = cv_and_predict_valid(df_x_3_train,df_y_train, xgb_model, tree = True, grid_search=True, grid_parameters=grid_params)"
   ]
  },
  {
   "cell_type": "code",
   "execution_count": 51,
   "metadata": {},
   "outputs": [
    {
     "name": "stdout",
     "output_type": "stream",
     "text": [
      "Accuracy: 0.5055928411633109\n",
      "ROC-AUC: 0.5167182102980159\n",
      "F1-score: 0.40431266846361186\n"
     ]
    }
   ],
   "source": [
    "# testing\n",
    "model = XGBClassifier(random_state=17, max_depth = 1, n_estimators = 300)\n",
    "model.fit(df_x_3_train, df_y_train)\n",
    "predictions = model.predict(df_x_3_test)\n",
    "accuracy = accuracy_score(df_y_test, predictions)\n",
    "roc_auc = roc_auc_score(df_y_test, predictions)\n",
    "f1 = f1_score(df_y_test, predictions)\n",
    "    \n",
    "print(f\"Accuracy: {accuracy}\")\n",
    "print(f\"ROC-AUC: {roc_auc}\")\n",
    "print(f\"F1-score: {f1}\")"
   ]
  },
  {
   "cell_type": "code",
   "execution_count": 52,
   "metadata": {},
   "outputs": [
    {
     "name": "stdout",
     "output_type": "stream",
     "text": [
      "SVC(C=2, class_weight='balanced', gamma=1)\n",
      "Best parameters from grid search: {'C': 2, 'class_weight': 'balanced', 'gamma': 1, 'kernel': 'rbf'}\n",
      "Accuracy: 0.5019762845849802\n",
      "ROC-AUC: 0.5\n",
      "F1-score: 0.6684210526315789\n"
     ]
    }
   ],
   "source": [
    "from sklearn.svm import SVC\n",
    "# SVM\n",
    "grid_params = {'C': [0.1, 0.3, 0.7, 1, 2],  'kernel': ['poly', 'rbf'], 'gamma': [1, 0.1, 0.01], 'class_weight': ['balanced', None]}\n",
    "svm_model = SVC()\n",
    "svm_pred, svm_acc, svm_roc_auc,svm_f1, svm_feat_imp = cv_and_predict_valid(df_x_3_train,df_y_train, svm_model, grid_search=True, grid_parameters=grid_params)"
   ]
  },
  {
   "cell_type": "code",
   "execution_count": 53,
   "metadata": {},
   "outputs": [
    {
     "name": "stdout",
     "output_type": "stream",
     "text": [
      "Accuracy: 0.4720357941834452\n",
      "ROC-AUC: 0.5\n",
      "F1-score: 0.0\n"
     ]
    }
   ],
   "source": [
    "# testing\n",
    "model = SVC(C=2, class_weight='balanced', gamma=1, kernel='poly')\n",
    "model.fit(df_x_3_train, df_y_train)\n",
    "predictions = model.predict(df_x_3_test)\n",
    "accuracy = accuracy_score(df_y_test, predictions)\n",
    "roc_auc = roc_auc_score(df_y_test, predictions)\n",
    "f1 = f1_score(df_y_test, predictions)\n",
    "    \n",
    "print(f\"Accuracy: {accuracy}\")\n",
    "print(f\"ROC-AUC: {roc_auc}\")\n",
    "print(f\"F1-score: {f1}\")"
   ]
  },
  {
   "cell_type": "code",
   "execution_count": 54,
   "metadata": {},
   "outputs": [
    {
     "name": "stderr",
     "output_type": "stream",
     "text": [
      "c:\\Users\\isaen\\AppData\\Local\\Programs\\Python\\Python312\\Lib\\site-packages\\sklearn\\ensemble\\_weight_boosting.py:519: FutureWarning: The SAMME.R algorithm (the default) is deprecated and will be removed in 1.6. Use the SAMME algorithm to circumvent this warning.\n",
      "  warnings.warn(\n"
     ]
    },
    {
     "name": "stdout",
     "output_type": "stream",
     "text": [
      "AdaBoostClassifier(learning_rate=0.5, n_estimators=500)\n",
      "Best parameters from grid search: {'learning_rate': 0.5, 'n_estimators': 500}\n",
      "Accuracy: 0.49407114624505927\n",
      "ROC-AUC: 0.4946881639795026\n",
      "F1-score: 0.40186915887850466\n"
     ]
    }
   ],
   "source": [
    "from sklearn.ensemble import AdaBoostClassifier\n",
    "grid_params = {'n_estimators': [5, 10, 20, 30, 50, 100, 300, 500], 'learning_rate':[0.1, 0.3, 0.5, 1]}\n",
    "ada_model = AdaBoostClassifier()\n",
    "ada_pred, ada_acc, ada_roc_auc,ada_f1, ada_feat_imp = cv_and_predict_valid(df_x_3_train,df_y_train, ada_model, tree = True, grid_search=True, grid_parameters = grid_params)\n"
   ]
  },
  {
   "cell_type": "code",
   "execution_count": 55,
   "metadata": {},
   "outputs": [
    {
     "name": "stderr",
     "output_type": "stream",
     "text": [
      "c:\\Users\\isaen\\AppData\\Local\\Programs\\Python\\Python312\\Lib\\site-packages\\sklearn\\ensemble\\_weight_boosting.py:519: FutureWarning: The SAMME.R algorithm (the default) is deprecated and will be removed in 1.6. Use the SAMME algorithm to circumvent this warning.\n",
      "  warnings.warn(\n"
     ]
    },
    {
     "name": "stdout",
     "output_type": "stream",
     "text": [
      "Accuracy: 0.4988814317673378\n",
      "ROC-AUC: 0.5010743834846172\n",
      "F1-score: 0.49321266968325794\n"
     ]
    }
   ],
   "source": [
    "# testing\n",
    "model = AdaBoostClassifier(learning_rate=0.5, n_estimators=500)\n",
    "model.fit(df_x_3_train, df_y_train)\n",
    "predictions = model.predict(df_x_3_test)\n",
    "accuracy = accuracy_score(df_y_test, predictions)\n",
    "roc_auc = roc_auc_score(df_y_test, predictions)\n",
    "f1 = f1_score(df_y_test, predictions)\n",
    "    \n",
    "print(f\"Accuracy: {accuracy}\")\n",
    "print(f\"ROC-AUC: {roc_auc}\")\n",
    "print(f\"F1-score: {f1}\")"
   ]
  },
  {
   "cell_type": "code",
   "execution_count": null,
   "metadata": {},
   "outputs": [],
   "source": []
  },
  {
   "cell_type": "code",
   "execution_count": 56,
   "metadata": {},
   "outputs": [
    {
     "name": "stdout",
     "output_type": "stream",
     "text": [
      "Accuracy: 0.5019762845849802\n",
      "ROC-AUC: 0.5039370078740157\n",
      "F1-score: 0.015625\n"
     ]
    }
   ],
   "source": [
    "from sklearn.naive_bayes import GaussianNB\n",
    "nb_model = GaussianNB()\n",
    "nb_pred, nb_acc, nb_roc_auc,nb_f1, nb_feat_imp = cv_and_predict_valid(df_x_3_train,df_y_train, nb_model)\n"
   ]
  },
  {
   "cell_type": "code",
   "execution_count": 57,
   "metadata": {},
   "outputs": [
    {
     "name": "stdout",
     "output_type": "stream",
     "text": [
      "Accuracy: 0.4720357941834452\n",
      "ROC-AUC: 0.4994979516427022\n",
      "F1-score: 0.016666666666666666\n"
     ]
    }
   ],
   "source": [
    "# testing\n",
    "model = GaussianNB()\n",
    "model.fit(df_x_3_train, df_y_train)\n",
    "predictions = model.predict(df_x_3_test)\n",
    "accuracy = accuracy_score(df_y_test, predictions)\n",
    "roc_auc = roc_auc_score(df_y_test, predictions)\n",
    "f1 = f1_score(df_y_test, predictions)\n",
    "    \n",
    "print(f\"Accuracy: {accuracy}\")\n",
    "print(f\"ROC-AUC: {roc_auc}\")\n",
    "print(f\"F1-score: {f1}\")"
   ]
  },
  {
   "cell_type": "code",
   "execution_count": 58,
   "metadata": {},
   "outputs": [
    {
     "name": "stdout",
     "output_type": "stream",
     "text": [
      "Accuracy: 0.4980237154150198\n",
      "ROC-AUC: 0.5\n",
      "F1-score: 0.0\n"
     ]
    }
   ],
   "source": [
    "from sklearn.linear_model import LogisticRegression\n",
    "lr_model = LogisticRegression()\n",
    "lr_pred, lr_acc, lr_roc_auc,lr_f1, lr_feat_imp = cv_and_predict_valid(df_x_3_train,df_y_train, lr_model)\n"
   ]
  },
  {
   "cell_type": "code",
   "execution_count": 59,
   "metadata": {},
   "outputs": [
    {
     "name": "stdout",
     "output_type": "stream",
     "text": [
      "Accuracy: 0.4720357941834452\n",
      "ROC-AUC: 0.5\n",
      "F1-score: 0.0\n"
     ]
    }
   ],
   "source": [
    "# testing\n",
    "model = LogisticRegression()\n",
    "model.fit(df_x_3_train, df_y_train)\n",
    "predictions = model.predict(df_x_3_test)\n",
    "accuracy = accuracy_score(df_y_test, predictions)\n",
    "roc_auc = roc_auc_score(df_y_test, predictions)\n",
    "f1 = f1_score(df_y_test, predictions)\n",
    "    \n",
    "print(f\"Accuracy: {accuracy}\")\n",
    "print(f\"ROC-AUC: {roc_auc}\")\n",
    "print(f\"F1-score: {f1}\")"
   ]
  },
  {
   "cell_type": "code",
   "execution_count": 60,
   "metadata": {},
   "outputs": [
    {
     "name": "stdout",
     "output_type": "stream",
     "text": [
      "KNeighborsClassifier(n_neighbors=50)\n",
      "Best parameters from grid search: {'n_neighbors': 50}\n",
      "Accuracy: 0.48221343873517786\n",
      "ROC-AUC: 0.4827834020747407\n",
      "F1-score: 0.39631336405529954\n"
     ]
    }
   ],
   "source": [
    "from sklearn.neighbors import KNeighborsClassifier\n",
    "grid_params = {'n_neighbors': [1, 2, 3, 4, 5, 10, 20, 50]}\n",
    "knn_model = KNeighborsClassifier()\n",
    "knn_pred, knn_acc, knn_roc_auc,knn_f1, knn_feat_imp = cv_and_predict_valid(df_x_3_train,df_y_train, knn_model, grid_search=True, grid_parameters=grid_params)\n"
   ]
  },
  {
   "cell_type": "code",
   "execution_count": 61,
   "metadata": {},
   "outputs": [
    {
     "name": "stdout",
     "output_type": "stream",
     "text": [
      "Accuracy: 0.48769574944071586\n",
      "ROC-AUC: 0.49550164671861197\n",
      "F1-score: 0.42317380352644834\n"
     ]
    }
   ],
   "source": [
    "# testing\n",
    "model = KNeighborsClassifier(n_neighbors=50)\n",
    "model.fit(df_x_3_train, df_y_train)\n",
    "predictions = model.predict(df_x_3_test)\n",
    "accuracy = accuracy_score(df_y_test, predictions)\n",
    "roc_auc = roc_auc_score(df_y_test, predictions)\n",
    "f1 = f1_score(df_y_test, predictions)\n",
    "    \n",
    "print(f\"Accuracy: {accuracy}\")\n",
    "print(f\"ROC-AUC: {roc_auc}\")\n",
    "print(f\"F1-score: {f1}\")"
   ]
  },
  {
   "cell_type": "markdown",
   "metadata": {},
   "source": [
    "# Vader with lags"
   ]
  },
  {
   "cell_type": "code",
   "execution_count": 62,
   "metadata": {},
   "outputs": [
    {
     "data": {
      "text/html": [
       "<div>\n",
       "<style scoped>\n",
       "    .dataframe tbody tr th:only-of-type {\n",
       "        vertical-align: middle;\n",
       "    }\n",
       "\n",
       "    .dataframe tbody tr th {\n",
       "        vertical-align: top;\n",
       "    }\n",
       "\n",
       "    .dataframe thead th {\n",
       "        text-align: right;\n",
       "    }\n",
       "</style>\n",
       "<table border=\"1\" class=\"dataframe\">\n",
       "  <thead>\n",
       "    <tr style=\"text-align: right;\">\n",
       "      <th></th>\n",
       "      <th>Date_15m</th>\n",
       "      <th>datetime</th>\n",
       "      <th>text</th>\n",
       "      <th>username</th>\n",
       "      <th>kk08_pos_score</th>\n",
       "      <th>kk08_score_diff</th>\n",
       "      <th>Elkulako_label</th>\n",
       "      <th>Sentiment_vader</th>\n",
       "      <th>pred</th>\n",
       "      <th>analysis</th>\n",
       "      <th>...</th>\n",
       "      <th>rise</th>\n",
       "      <th>fall</th>\n",
       "      <th>date</th>\n",
       "      <th>open</th>\n",
       "      <th>close</th>\n",
       "      <th>Return</th>\n",
       "      <th>Return_sign</th>\n",
       "      <th>kk08_pos_score_lag1</th>\n",
       "      <th>kk08_pos_score_lag2</th>\n",
       "      <th>kk08_pos_score_lag3</th>\n",
       "    </tr>\n",
       "  </thead>\n",
       "  <tbody>\n",
       "    <tr>\n",
       "      <th>0</th>\n",
       "      <td>2022-01-01 00:15:00</td>\n",
       "      <td>['2022-01-01 00:00:00', '2022-01-01 00:00:00',...</td>\n",
       "      <td>Current Price of Bitcoin:\\n$46320 (-1.85%)\\n\\n...</td>\n",
       "      <td>CryptoNerdApp\\nTrendSpider\\nMadStudentScie1\\nW...</td>\n",
       "      <td>0.816322</td>\n",
       "      <td>0.632644</td>\n",
       "      <td>0.342175</td>\n",
       "      <td>0.161173</td>\n",
       "      <td>11</td>\n",
       "      <td>4</td>\n",
       "      <td>...</td>\n",
       "      <td>7</td>\n",
       "      <td>4</td>\n",
       "      <td>2022-01-01 00:15:00</td>\n",
       "      <td>46332.52</td>\n",
       "      <td>46375.42</td>\n",
       "      <td>0.000926</td>\n",
       "      <td>1</td>\n",
       "      <td>NaN</td>\n",
       "      <td>NaN</td>\n",
       "      <td>NaN</td>\n",
       "    </tr>\n",
       "    <tr>\n",
       "      <th>1</th>\n",
       "      <td>2022-01-01 00:30:00</td>\n",
       "      <td>['2022-01-01 00:15:01', '2022-01-01 00:15:05',...</td>\n",
       "      <td>The current price of Bitcoin is $46453.00.\\nTh...</td>\n",
       "      <td>big_blockers\\nbmurphypointman\\nButterLemonBot\\...</td>\n",
       "      <td>0.716851</td>\n",
       "      <td>0.433702</td>\n",
       "      <td>0.305638</td>\n",
       "      <td>0.136947</td>\n",
       "      <td>9</td>\n",
       "      <td>42</td>\n",
       "      <td>...</td>\n",
       "      <td>6</td>\n",
       "      <td>38</td>\n",
       "      <td>2022-01-01 00:30:00</td>\n",
       "      <td>46375.42</td>\n",
       "      <td>46610.81</td>\n",
       "      <td>0.005076</td>\n",
       "      <td>1</td>\n",
       "      <td>0.816322</td>\n",
       "      <td>NaN</td>\n",
       "      <td>NaN</td>\n",
       "    </tr>\n",
       "    <tr>\n",
       "      <th>2</th>\n",
       "      <td>2022-01-01 00:45:00</td>\n",
       "      <td>['2022-01-01 00:30:00', '2022-01-01 00:30:01',...</td>\n",
       "      <td>“Here's to a bright New Year and a fond farewe...</td>\n",
       "      <td>bitcoiva\\ncryptozone007\\nlinuxadvocate\\nbakedn...</td>\n",
       "      <td>0.725069</td>\n",
       "      <td>0.450138</td>\n",
       "      <td>0.438272</td>\n",
       "      <td>0.172915</td>\n",
       "      <td>9</td>\n",
       "      <td>15</td>\n",
       "      <td>...</td>\n",
       "      <td>5</td>\n",
       "      <td>17</td>\n",
       "      <td>2022-01-01 00:45:00</td>\n",
       "      <td>46610.81</td>\n",
       "      <td>46656.13</td>\n",
       "      <td>0.000972</td>\n",
       "      <td>1</td>\n",
       "      <td>0.716851</td>\n",
       "      <td>0.816322</td>\n",
       "      <td>NaN</td>\n",
       "    </tr>\n",
       "    <tr>\n",
       "      <th>3</th>\n",
       "      <td>2022-01-01 01:00:00</td>\n",
       "      <td>['2022-01-01 00:45:02', '2022-01-01 00:45:04',...</td>\n",
       "      <td>#Bitcoin $BTC \\nPrice: $46,630.10\\n\\nAreas of ...</td>\n",
       "      <td>DCA_Cryptoz\\nbidcoindad\\ncoinok\\nbmurphypointm...</td>\n",
       "      <td>0.756357</td>\n",
       "      <td>0.512714</td>\n",
       "      <td>0.381818</td>\n",
       "      <td>0.178866</td>\n",
       "      <td>5</td>\n",
       "      <td>11</td>\n",
       "      <td>...</td>\n",
       "      <td>2</td>\n",
       "      <td>6</td>\n",
       "      <td>2022-01-01 01:00:00</td>\n",
       "      <td>46656.14</td>\n",
       "      <td>46766.99</td>\n",
       "      <td>0.002376</td>\n",
       "      <td>1</td>\n",
       "      <td>0.725069</td>\n",
       "      <td>0.716851</td>\n",
       "      <td>0.816322</td>\n",
       "    </tr>\n",
       "    <tr>\n",
       "      <th>4</th>\n",
       "      <td>2022-01-01 01:15:00</td>\n",
       "      <td>['2022-01-01 01:00:00', '2022-01-01 01:00:00',...</td>\n",
       "      <td>Today's Cryptocurrency Fear And Greed Index: 2...</td>\n",
       "      <td>FearAndGreedBot\\nOfficialOverbit\\nBTC_AI_bot\\n...</td>\n",
       "      <td>0.770306</td>\n",
       "      <td>0.540612</td>\n",
       "      <td>0.343195</td>\n",
       "      <td>0.143037</td>\n",
       "      <td>6</td>\n",
       "      <td>13</td>\n",
       "      <td>...</td>\n",
       "      <td>4</td>\n",
       "      <td>13</td>\n",
       "      <td>2022-01-01 01:15:00</td>\n",
       "      <td>46766.99</td>\n",
       "      <td>46815.33</td>\n",
       "      <td>0.001034</td>\n",
       "      <td>1</td>\n",
       "      <td>0.756357</td>\n",
       "      <td>0.725069</td>\n",
       "      <td>0.716851</td>\n",
       "    </tr>\n",
       "    <tr>\n",
       "      <th>...</th>\n",
       "      <td>...</td>\n",
       "      <td>...</td>\n",
       "      <td>...</td>\n",
       "      <td>...</td>\n",
       "      <td>...</td>\n",
       "      <td>...</td>\n",
       "      <td>...</td>\n",
       "      <td>...</td>\n",
       "      <td>...</td>\n",
       "      <td>...</td>\n",
       "      <td>...</td>\n",
       "      <td>...</td>\n",
       "      <td>...</td>\n",
       "      <td>...</td>\n",
       "      <td>...</td>\n",
       "      <td>...</td>\n",
       "      <td>...</td>\n",
       "      <td>...</td>\n",
       "      <td>...</td>\n",
       "      <td>...</td>\n",
       "      <td>...</td>\n",
       "    </tr>\n",
       "    <tr>\n",
       "      <th>2971</th>\n",
       "      <td>2022-01-31 23:00:00</td>\n",
       "      <td>['2022-01-31 22:45:00', '2022-01-31 22:45:01',...</td>\n",
       "      <td>NFL Stars and Politicians' Bet in Bitcoin Turn...</td>\n",
       "      <td>got_eth\\nzero_2_nothing\\nNewsCryptoBot\\nJamesW...</td>\n",
       "      <td>0.771425</td>\n",
       "      <td>0.542850</td>\n",
       "      <td>0.209877</td>\n",
       "      <td>0.167436</td>\n",
       "      <td>1</td>\n",
       "      <td>4</td>\n",
       "      <td>...</td>\n",
       "      <td>3</td>\n",
       "      <td>8</td>\n",
       "      <td>2022-01-31 23:00:00</td>\n",
       "      <td>38412.45</td>\n",
       "      <td>38451.36</td>\n",
       "      <td>0.001013</td>\n",
       "      <td>1</td>\n",
       "      <td>0.780470</td>\n",
       "      <td>0.790736</td>\n",
       "      <td>0.812888</td>\n",
       "    </tr>\n",
       "    <tr>\n",
       "      <th>2972</th>\n",
       "      <td>2022-01-31 23:15:00</td>\n",
       "      <td>['2022-01-31 23:00:00', '2022-01-31 23:00:00',...</td>\n",
       "      <td>Top #Cryptocurrency RANK DOWN (#crypto #bitcoi...</td>\n",
       "      <td>CryptoTopCharts\\nBTC_AI_bot\\ncryptonewsleak\\nt...</td>\n",
       "      <td>0.779117</td>\n",
       "      <td>0.558234</td>\n",
       "      <td>0.263158</td>\n",
       "      <td>0.161682</td>\n",
       "      <td>4</td>\n",
       "      <td>4</td>\n",
       "      <td>...</td>\n",
       "      <td>5</td>\n",
       "      <td>3</td>\n",
       "      <td>2022-01-31 23:15:00</td>\n",
       "      <td>38451.36</td>\n",
       "      <td>38412.23</td>\n",
       "      <td>-0.001018</td>\n",
       "      <td>0</td>\n",
       "      <td>0.771425</td>\n",
       "      <td>0.780470</td>\n",
       "      <td>0.790736</td>\n",
       "    </tr>\n",
       "    <tr>\n",
       "      <th>2973</th>\n",
       "      <td>2022-01-31 23:30:00</td>\n",
       "      <td>['2022-01-31 23:15:00', '2022-01-31 23:15:00',...</td>\n",
       "      <td>Why are people buying #Bitcoin? Why are they a...</td>\n",
       "      <td>ForwardGroupMS\\nThomasBakerMS\\nbig_blockers\\nb...</td>\n",
       "      <td>0.783670</td>\n",
       "      <td>0.567341</td>\n",
       "      <td>0.278592</td>\n",
       "      <td>0.161257</td>\n",
       "      <td>5</td>\n",
       "      <td>6</td>\n",
       "      <td>...</td>\n",
       "      <td>5</td>\n",
       "      <td>3</td>\n",
       "      <td>2022-01-31 23:30:00</td>\n",
       "      <td>38412.23</td>\n",
       "      <td>38369.11</td>\n",
       "      <td>-0.001123</td>\n",
       "      <td>0</td>\n",
       "      <td>0.779117</td>\n",
       "      <td>0.771425</td>\n",
       "      <td>0.780470</td>\n",
       "    </tr>\n",
       "    <tr>\n",
       "      <th>2974</th>\n",
       "      <td>2022-01-31 23:45:00</td>\n",
       "      <td>['2022-01-31 23:30:01', '2022-01-31 23:30:02',...</td>\n",
       "      <td>Bitcoin On Its Way To $500,000? Anthony Scaram...</td>\n",
       "      <td>OutlawBuckeye\\nSifHomes\\nitvc_\\nRaulGlzC\\nTheM...</td>\n",
       "      <td>0.769362</td>\n",
       "      <td>0.538723</td>\n",
       "      <td>0.240642</td>\n",
       "      <td>0.110640</td>\n",
       "      <td>3</td>\n",
       "      <td>4</td>\n",
       "      <td>...</td>\n",
       "      <td>8</td>\n",
       "      <td>6</td>\n",
       "      <td>2022-01-31 23:45:00</td>\n",
       "      <td>38369.12</td>\n",
       "      <td>38466.90</td>\n",
       "      <td>0.002548</td>\n",
       "      <td>1</td>\n",
       "      <td>0.783670</td>\n",
       "      <td>0.779117</td>\n",
       "      <td>0.771425</td>\n",
       "    </tr>\n",
       "    <tr>\n",
       "      <th>2975</th>\n",
       "      <td>2022-02-01 00:00:00</td>\n",
       "      <td>['2022-01-31 23:45:02', '2022-01-31 23:45:02',...</td>\n",
       "      <td>Bitcoin loses $48K on Wall Street open as trad...</td>\n",
       "      <td>MilaPlayporn\\nNewsCryptoBot\\nthomastthai\\nnews...</td>\n",
       "      <td>0.741804</td>\n",
       "      <td>0.483609</td>\n",
       "      <td>0.243386</td>\n",
       "      <td>0.170778</td>\n",
       "      <td>4</td>\n",
       "      <td>5</td>\n",
       "      <td>...</td>\n",
       "      <td>3</td>\n",
       "      <td>12</td>\n",
       "      <td>2022-02-01 00:00:00</td>\n",
       "      <td>38466.90</td>\n",
       "      <td>38497.68</td>\n",
       "      <td>0.000800</td>\n",
       "      <td>1</td>\n",
       "      <td>0.769362</td>\n",
       "      <td>0.783670</td>\n",
       "      <td>0.779117</td>\n",
       "    </tr>\n",
       "  </tbody>\n",
       "</table>\n",
       "<p>2976 rows × 34 columns</p>\n",
       "</div>"
      ],
      "text/plain": [
       "                 Date_15m                                           datetime  \\\n",
       "0     2022-01-01 00:15:00  ['2022-01-01 00:00:00', '2022-01-01 00:00:00',...   \n",
       "1     2022-01-01 00:30:00  ['2022-01-01 00:15:01', '2022-01-01 00:15:05',...   \n",
       "2     2022-01-01 00:45:00  ['2022-01-01 00:30:00', '2022-01-01 00:30:01',...   \n",
       "3     2022-01-01 01:00:00  ['2022-01-01 00:45:02', '2022-01-01 00:45:04',...   \n",
       "4     2022-01-01 01:15:00  ['2022-01-01 01:00:00', '2022-01-01 01:00:00',...   \n",
       "...                   ...                                                ...   \n",
       "2971  2022-01-31 23:00:00  ['2022-01-31 22:45:00', '2022-01-31 22:45:01',...   \n",
       "2972  2022-01-31 23:15:00  ['2022-01-31 23:00:00', '2022-01-31 23:00:00',...   \n",
       "2973  2022-01-31 23:30:00  ['2022-01-31 23:15:00', '2022-01-31 23:15:00',...   \n",
       "2974  2022-01-31 23:45:00  ['2022-01-31 23:30:01', '2022-01-31 23:30:02',...   \n",
       "2975  2022-02-01 00:00:00  ['2022-01-31 23:45:02', '2022-01-31 23:45:02',...   \n",
       "\n",
       "                                                   text  \\\n",
       "0     Current Price of Bitcoin:\\n$46320 (-1.85%)\\n\\n...   \n",
       "1     The current price of Bitcoin is $46453.00.\\nTh...   \n",
       "2     “Here's to a bright New Year and a fond farewe...   \n",
       "3     #Bitcoin $BTC \\nPrice: $46,630.10\\n\\nAreas of ...   \n",
       "4     Today's Cryptocurrency Fear And Greed Index: 2...   \n",
       "...                                                 ...   \n",
       "2971  NFL Stars and Politicians' Bet in Bitcoin Turn...   \n",
       "2972  Top #Cryptocurrency RANK DOWN (#crypto #bitcoi...   \n",
       "2973  Why are people buying #Bitcoin? Why are they a...   \n",
       "2974  Bitcoin On Its Way To $500,000? Anthony Scaram...   \n",
       "2975  Bitcoin loses $48K on Wall Street open as trad...   \n",
       "\n",
       "                                               username  kk08_pos_score  \\\n",
       "0     CryptoNerdApp\\nTrendSpider\\nMadStudentScie1\\nW...        0.816322   \n",
       "1     big_blockers\\nbmurphypointman\\nButterLemonBot\\...        0.716851   \n",
       "2     bitcoiva\\ncryptozone007\\nlinuxadvocate\\nbakedn...        0.725069   \n",
       "3     DCA_Cryptoz\\nbidcoindad\\ncoinok\\nbmurphypointm...        0.756357   \n",
       "4     FearAndGreedBot\\nOfficialOverbit\\nBTC_AI_bot\\n...        0.770306   \n",
       "...                                                 ...             ...   \n",
       "2971  got_eth\\nzero_2_nothing\\nNewsCryptoBot\\nJamesW...        0.771425   \n",
       "2972  CryptoTopCharts\\nBTC_AI_bot\\ncryptonewsleak\\nt...        0.779117   \n",
       "2973  ForwardGroupMS\\nThomasBakerMS\\nbig_blockers\\nb...        0.783670   \n",
       "2974  OutlawBuckeye\\nSifHomes\\nitvc_\\nRaulGlzC\\nTheM...        0.769362   \n",
       "2975  MilaPlayporn\\nNewsCryptoBot\\nthomastthai\\nnews...        0.741804   \n",
       "\n",
       "      kk08_score_diff  Elkulako_label  Sentiment_vader  pred  analysis  ...  \\\n",
       "0            0.632644        0.342175         0.161173    11         4  ...   \n",
       "1            0.433702        0.305638         0.136947     9        42  ...   \n",
       "2            0.450138        0.438272         0.172915     9        15  ...   \n",
       "3            0.512714        0.381818         0.178866     5        11  ...   \n",
       "4            0.540612        0.343195         0.143037     6        13  ...   \n",
       "...               ...             ...              ...   ...       ...  ...   \n",
       "2971         0.542850        0.209877         0.167436     1         4  ...   \n",
       "2972         0.558234        0.263158         0.161682     4         4  ...   \n",
       "2973         0.567341        0.278592         0.161257     5         6  ...   \n",
       "2974         0.538723        0.240642         0.110640     3         4  ...   \n",
       "2975         0.483609        0.243386         0.170778     4         5  ...   \n",
       "\n",
       "      rise  fall                 date      open     close    Return  \\\n",
       "0        7     4  2022-01-01 00:15:00  46332.52  46375.42  0.000926   \n",
       "1        6    38  2022-01-01 00:30:00  46375.42  46610.81  0.005076   \n",
       "2        5    17  2022-01-01 00:45:00  46610.81  46656.13  0.000972   \n",
       "3        2     6  2022-01-01 01:00:00  46656.14  46766.99  0.002376   \n",
       "4        4    13  2022-01-01 01:15:00  46766.99  46815.33  0.001034   \n",
       "...    ...   ...                  ...       ...       ...       ...   \n",
       "2971     3     8  2022-01-31 23:00:00  38412.45  38451.36  0.001013   \n",
       "2972     5     3  2022-01-31 23:15:00  38451.36  38412.23 -0.001018   \n",
       "2973     5     3  2022-01-31 23:30:00  38412.23  38369.11 -0.001123   \n",
       "2974     8     6  2022-01-31 23:45:00  38369.12  38466.90  0.002548   \n",
       "2975     3    12  2022-02-01 00:00:00  38466.90  38497.68  0.000800   \n",
       "\n",
       "      Return_sign  kk08_pos_score_lag1  kk08_pos_score_lag2  \\\n",
       "0               1                  NaN                  NaN   \n",
       "1               1             0.816322                  NaN   \n",
       "2               1             0.716851             0.816322   \n",
       "3               1             0.725069             0.716851   \n",
       "4               1             0.756357             0.725069   \n",
       "...           ...                  ...                  ...   \n",
       "2971            1             0.780470             0.790736   \n",
       "2972            0             0.771425             0.780470   \n",
       "2973            0             0.779117             0.771425   \n",
       "2974            1             0.783670             0.779117   \n",
       "2975            1             0.769362             0.783670   \n",
       "\n",
       "      kk08_pos_score_lag3  \n",
       "0                     NaN  \n",
       "1                     NaN  \n",
       "2                     NaN  \n",
       "3                0.816322  \n",
       "4                0.716851  \n",
       "...                   ...  \n",
       "2971             0.812888  \n",
       "2972             0.790736  \n",
       "2973             0.780470  \n",
       "2974             0.771425  \n",
       "2975             0.779117  \n",
       "\n",
       "[2976 rows x 34 columns]"
      ]
     },
     "execution_count": 62,
     "metadata": {},
     "output_type": "execute_result"
    }
   ],
   "source": [
    "df"
   ]
  },
  {
   "cell_type": "code",
   "execution_count": 63,
   "metadata": {},
   "outputs": [],
   "source": [
    "df['Sentiment_vader_lag1']=df['Sentiment_vader'].shift(1)\n",
    "df['Sentiment_vader_lag2']=df['Sentiment_vader'].shift(2)\n",
    "df['Sentiment_vader_lag3']=df['Sentiment_vader'].shift(3)\n"
   ]
  },
  {
   "cell_type": "code",
   "execution_count": 64,
   "metadata": {},
   "outputs": [],
   "source": [
    "df_x_4 = df.dropna().reset_index(drop=True)[[\"Sentiment_vader\", \"Sentiment_vader_lag1\", \"Sentiment_vader_lag2\", \"Sentiment_vader_lag3\"]]\n",
    "df_y_4 = df[\"Return_sign\"].iloc[3:].reset_index(drop=True)"
   ]
  },
  {
   "cell_type": "code",
   "execution_count": 65,
   "metadata": {},
   "outputs": [
    {
     "data": {
      "text/html": [
       "<div>\n",
       "<style scoped>\n",
       "    .dataframe tbody tr th:only-of-type {\n",
       "        vertical-align: middle;\n",
       "    }\n",
       "\n",
       "    .dataframe tbody tr th {\n",
       "        vertical-align: top;\n",
       "    }\n",
       "\n",
       "    .dataframe thead th {\n",
       "        text-align: right;\n",
       "    }\n",
       "</style>\n",
       "<table border=\"1\" class=\"dataframe\">\n",
       "  <thead>\n",
       "    <tr style=\"text-align: right;\">\n",
       "      <th></th>\n",
       "      <th>Sentiment_vader</th>\n",
       "      <th>Sentiment_vader_lag1</th>\n",
       "      <th>Sentiment_vader_lag2</th>\n",
       "      <th>Sentiment_vader_lag3</th>\n",
       "    </tr>\n",
       "  </thead>\n",
       "  <tbody>\n",
       "    <tr>\n",
       "      <th>0</th>\n",
       "      <td>0.178866</td>\n",
       "      <td>0.172915</td>\n",
       "      <td>0.136947</td>\n",
       "      <td>0.161173</td>\n",
       "    </tr>\n",
       "    <tr>\n",
       "      <th>1</th>\n",
       "      <td>0.143037</td>\n",
       "      <td>0.178866</td>\n",
       "      <td>0.172915</td>\n",
       "      <td>0.136947</td>\n",
       "    </tr>\n",
       "    <tr>\n",
       "      <th>2</th>\n",
       "      <td>0.168293</td>\n",
       "      <td>0.143037</td>\n",
       "      <td>0.178866</td>\n",
       "      <td>0.172915</td>\n",
       "    </tr>\n",
       "    <tr>\n",
       "      <th>3</th>\n",
       "      <td>0.201061</td>\n",
       "      <td>0.168293</td>\n",
       "      <td>0.143037</td>\n",
       "      <td>0.178866</td>\n",
       "    </tr>\n",
       "    <tr>\n",
       "      <th>4</th>\n",
       "      <td>0.199579</td>\n",
       "      <td>0.201061</td>\n",
       "      <td>0.168293</td>\n",
       "      <td>0.143037</td>\n",
       "    </tr>\n",
       "    <tr>\n",
       "      <th>...</th>\n",
       "      <td>...</td>\n",
       "      <td>...</td>\n",
       "      <td>...</td>\n",
       "      <td>...</td>\n",
       "    </tr>\n",
       "    <tr>\n",
       "      <th>2968</th>\n",
       "      <td>0.167436</td>\n",
       "      <td>0.171507</td>\n",
       "      <td>0.120725</td>\n",
       "      <td>0.163388</td>\n",
       "    </tr>\n",
       "    <tr>\n",
       "      <th>2969</th>\n",
       "      <td>0.161682</td>\n",
       "      <td>0.167436</td>\n",
       "      <td>0.171507</td>\n",
       "      <td>0.120725</td>\n",
       "    </tr>\n",
       "    <tr>\n",
       "      <th>2970</th>\n",
       "      <td>0.161257</td>\n",
       "      <td>0.161682</td>\n",
       "      <td>0.167436</td>\n",
       "      <td>0.171507</td>\n",
       "    </tr>\n",
       "    <tr>\n",
       "      <th>2971</th>\n",
       "      <td>0.110640</td>\n",
       "      <td>0.161257</td>\n",
       "      <td>0.161682</td>\n",
       "      <td>0.167436</td>\n",
       "    </tr>\n",
       "    <tr>\n",
       "      <th>2972</th>\n",
       "      <td>0.170778</td>\n",
       "      <td>0.110640</td>\n",
       "      <td>0.161257</td>\n",
       "      <td>0.161682</td>\n",
       "    </tr>\n",
       "  </tbody>\n",
       "</table>\n",
       "<p>2973 rows × 4 columns</p>\n",
       "</div>"
      ],
      "text/plain": [
       "      Sentiment_vader  Sentiment_vader_lag1  Sentiment_vader_lag2  \\\n",
       "0            0.178866              0.172915              0.136947   \n",
       "1            0.143037              0.178866              0.172915   \n",
       "2            0.168293              0.143037              0.178866   \n",
       "3            0.201061              0.168293              0.143037   \n",
       "4            0.199579              0.201061              0.168293   \n",
       "...               ...                   ...                   ...   \n",
       "2968         0.167436              0.171507              0.120725   \n",
       "2969         0.161682              0.167436              0.171507   \n",
       "2970         0.161257              0.161682              0.167436   \n",
       "2971         0.110640              0.161257              0.161682   \n",
       "2972         0.170778              0.110640              0.161257   \n",
       "\n",
       "      Sentiment_vader_lag3  \n",
       "0                 0.161173  \n",
       "1                 0.136947  \n",
       "2                 0.172915  \n",
       "3                 0.178866  \n",
       "4                 0.143037  \n",
       "...                    ...  \n",
       "2968              0.163388  \n",
       "2969              0.120725  \n",
       "2970              0.171507  \n",
       "2971              0.167436  \n",
       "2972              0.161682  \n",
       "\n",
       "[2973 rows x 4 columns]"
      ]
     },
     "execution_count": 65,
     "metadata": {},
     "output_type": "execute_result"
    }
   ],
   "source": [
    "df_x_4"
   ]
  },
  {
   "cell_type": "code",
   "execution_count": 66,
   "metadata": {},
   "outputs": [
    {
     "data": {
      "text/plain": [
       "0       1\n",
       "1       1\n",
       "2       0\n",
       "3       1\n",
       "4       1\n",
       "       ..\n",
       "2968    1\n",
       "2969    0\n",
       "2970    0\n",
       "2971    1\n",
       "2972    1\n",
       "Name: Return_sign, Length: 2973, dtype: int64"
      ]
     },
     "execution_count": 66,
     "metadata": {},
     "output_type": "execute_result"
    }
   ],
   "source": [
    "df_y_4"
   ]
  },
  {
   "cell_type": "code",
   "execution_count": 67,
   "metadata": {},
   "outputs": [],
   "source": [
    "train_share = 0.85\n",
    "df_x_4_train = df_x_4.iloc[:int(len(df_x_4)*train_share)].reset_index(drop=True)\n",
    "df_y_4_train = df_y_4.iloc[:int(len(df_x_4)*train_share)].reset_index(drop=True)\n",
    "\n",
    "df_x_4_test = df_x_4.iloc[int(len(df_x_4)*train_share):].reset_index(drop=True)\n",
    "df_y_4_test = df_y_4.iloc[int(len(df_x_4)*train_share):].reset_index(drop=True)"
   ]
  },
  {
   "cell_type": "code",
   "execution_count": 68,
   "metadata": {},
   "outputs": [
    {
     "data": {
      "text/plain": [
       "0.5269058295964125"
      ]
     },
     "execution_count": 68,
     "metadata": {},
     "output_type": "execute_result"
    }
   ],
   "source": [
    "sum(df_y_4_test)/len(df_y_4_test)"
   ]
  },
  {
   "cell_type": "code",
   "execution_count": 69,
   "metadata": {},
   "outputs": [
    {
     "name": "stdout",
     "output_type": "stream",
     "text": [
      "Accuracy: 0.4980237154150198\n",
      "ROC-AUC: 0.5\n",
      "F1-score: 0.0\n"
     ]
    }
   ],
   "source": [
    "from sklearn.dummy import DummyClassifier\n",
    "dummy_model = DummyClassifier(strategy='most_frequent')\n",
    "dummy_pred, dummy_acc, dummy_roc_auc,dummy_f1, dummy_feat_imp= cv_and_predict_valid(df_x_4_train,df_y_4_train,dummy_model)\n"
   ]
  },
  {
   "cell_type": "code",
   "execution_count": 70,
   "metadata": {},
   "outputs": [
    {
     "name": "stdout",
     "output_type": "stream",
     "text": [
      "RandomForestClassifier(n_estimators=5, random_state=17)\n",
      "Best parameters from grid search: {'n_estimators': 5}\n",
      "Accuracy: 0.525691699604743\n",
      "ROC-AUC: 0.526121734783152\n",
      "F1-score: 0.4690265486725664\n"
     ]
    }
   ],
   "source": [
    "from sklearn.ensemble import RandomForestClassifier\n",
    "# Random Forest\n",
    "grid_params = {'n_estimators': [5, 10, 20, 50, 100, 300]}\n",
    "rf_model = RandomForestClassifier(random_state=17)\n",
    "rf_pred, rf_acc, rf_roc_auc,rf_f1, rf_feat_imp = cv_and_predict_valid(df_x_4_train,df_y_4_train, rf_model, tree = True, grid_search=True, grid_parameters=grid_params)"
   ]
  },
  {
   "cell_type": "code",
   "execution_count": 169,
   "metadata": {},
   "outputs": [
    {
     "name": "stdout",
     "output_type": "stream",
     "text": [
      "[0.23936391 0.25814306 0.25014016 0.25235287]\n",
      "Accuracy: 0.5426008968609866\n",
      "ROC-AUC: 0.5456287183624079\n",
      "F1-score: 0.5299539170506913\n"
     ]
    }
   ],
   "source": [
    "# testing\n",
    "model = RandomForestClassifier(n_estimators=5, random_state=17)\n",
    "model.fit(df_x_4_train, df_y_4_train)\n",
    "print(model.feature_importances_)\n",
    "predictions = model.predict(df_x_4_test)\n",
    "accuracy = accuracy_score(df_y_4_test, predictions)\n",
    "roc_auc = roc_auc_score(df_y_4_test, predictions)\n",
    "f1 = f1_score(df_y_4_test, predictions)\n",
    "    \n",
    "print(f\"Accuracy: {accuracy}\")\n",
    "print(f\"ROC-AUC: {roc_auc}\")\n",
    "print(f\"F1-score: {f1}\")\n",
    "# not bad"
   ]
  },
  {
   "cell_type": "code",
   "execution_count": 72,
   "metadata": {},
   "outputs": [
    {
     "name": "stdout",
     "output_type": "stream",
     "text": [
      "XGBClassifier(base_score=None, booster=None, callbacks=None,\n",
      "              colsample_bylevel=None, colsample_bynode=None,\n",
      "              colsample_bytree=None, device=None, early_stopping_rounds=None,\n",
      "              enable_categorical=False, eval_metric=None, feature_types=None,\n",
      "              gamma=None, grow_policy=None, importance_type=None,\n",
      "              interaction_constraints=None, learning_rate=None, max_bin=None,\n",
      "              max_cat_threshold=None, max_cat_to_onehot=None,\n",
      "              max_delta_step=None, max_depth=1, max_leaves=None,\n",
      "              min_child_weight=None, missing=nan, monotone_constraints=None,\n",
      "              multi_strategy=None, n_estimators=100, n_jobs=None,\n",
      "              num_parallel_tree=None, random_state=17, ...)\n",
      "Best parameters from grid search: {'max_depth': 1, 'n_estimators': 100}\n",
      "Accuracy: 0.5059288537549407\n",
      "ROC-AUC: 0.5069366329208849\n",
      "F1-score: 0.3386243386243386\n"
     ]
    }
   ],
   "source": [
    "from xgboost import XGBClassifier\n",
    "# XGBoost\n",
    "grid_params = {'n_estimators': [100, 300, 500],\"max_depth\": [1,3,6]}\n",
    "xgb_model = XGBClassifier(random_state=17)\n",
    "xgb_pred, xgb_acc, xgb_roc_auc,xgb_f1, xgb_feat_imp = cv_and_predict_valid(df_x_4_train,df_y_4_train, xgb_model, tree = True, grid_search=True, grid_parameters=grid_params)"
   ]
  },
  {
   "cell_type": "code",
   "execution_count": 73,
   "metadata": {},
   "outputs": [
    {
     "name": "stdout",
     "output_type": "stream",
     "text": [
      "Accuracy: 0.4618834080717489\n",
      "ROC-AUC: 0.4692749823535344\n",
      "F1-score: 0.3939393939393939\n"
     ]
    }
   ],
   "source": [
    "# testing\n",
    "model = XGBClassifier(random_state=17, max_depth = 1, n_estimators= 100)\n",
    "model.fit(df_x_4_train, df_y_4_train)\n",
    "predictions = model.predict(df_x_4_test)\n",
    "accuracy = accuracy_score(df_y_4_test, predictions)\n",
    "roc_auc = roc_auc_score(df_y_4_test, predictions)\n",
    "f1 = f1_score(df_y_4_test, predictions)\n",
    "    \n",
    "print(f\"Accuracy: {accuracy}\")\n",
    "print(f\"ROC-AUC: {roc_auc}\")\n",
    "print(f\"F1-score: {f1}\")\n",
    "# good"
   ]
  },
  {
   "cell_type": "code",
   "execution_count": 74,
   "metadata": {},
   "outputs": [
    {
     "name": "stdout",
     "output_type": "stream",
     "text": [
      "SVC(C=0.1, class_weight='balanced', gamma=1, kernel='poly')\n",
      "Best parameters from grid search: {'C': 0.1, 'class_weight': 'balanced', 'gamma': 1, 'kernel': 'poly'}\n",
      "Accuracy: 0.5019762845849802\n",
      "ROC-AUC: 0.5\n",
      "F1-score: 0.6684210526315789\n"
     ]
    }
   ],
   "source": [
    "from sklearn.svm import SVC\n",
    "# SVM\n",
    "grid_params = {'C': [0.1, 0.3, 0.7, 1],  'kernel': ['poly', 'rbf'], 'gamma': [1, 0.1, 0.01], 'class_weight': ['balanced', None]}\n",
    "svm_model = SVC()\n",
    "svm_pred, svm_acc, svm_roc_auc,svm_f1, svm_feat_imp = cv_and_predict_valid(df_x_4_train,df_y_4_train, svm_model, grid_search=True, grid_parameters=grid_params)\n",
    "# too bad"
   ]
  },
  {
   "cell_type": "code",
   "execution_count": 75,
   "metadata": {},
   "outputs": [
    {
     "name": "stdout",
     "output_type": "stream",
     "text": [
      "Accuracy: 0.4730941704035874\n",
      "ROC-AUC: 0.5\n",
      "F1-score: 0.0\n"
     ]
    }
   ],
   "source": [
    "# testing\n",
    "model = SVC(C=0.1, class_weight='balanced', gamma=1, kernel='poly')\n",
    "model.fit(df_x_4_train, df_y_4_train)\n",
    "predictions = model.predict(df_x_4_test)\n",
    "accuracy = accuracy_score(df_y_4_test, predictions)\n",
    "roc_auc = roc_auc_score(df_y_4_test, predictions)\n",
    "f1 = f1_score(df_y_4_test, predictions)\n",
    "    \n",
    "print(f\"Accuracy: {accuracy}\")\n",
    "print(f\"ROC-AUC: {roc_auc}\")\n",
    "print(f\"F1-score: {f1}\")"
   ]
  },
  {
   "cell_type": "code",
   "execution_count": 76,
   "metadata": {},
   "outputs": [
    {
     "name": "stderr",
     "output_type": "stream",
     "text": [
      "c:\\Users\\isaen\\AppData\\Local\\Programs\\Python\\Python312\\Lib\\site-packages\\sklearn\\ensemble\\_weight_boosting.py:519: FutureWarning: The SAMME.R algorithm (the default) is deprecated and will be removed in 1.6. Use the SAMME algorithm to circumvent this warning.\n",
      "  warnings.warn(\n"
     ]
    },
    {
     "name": "stdout",
     "output_type": "stream",
     "text": [
      "AdaBoostClassifier(learning_rate=0.5)\n",
      "Best parameters from grid search: {'learning_rate': 0.5, 'n_estimators': 50}\n",
      "Accuracy: 0.5296442687747036\n",
      "ROC-AUC: 0.5309961254843145\n",
      "F1-score: 0.2874251497005988\n"
     ]
    }
   ],
   "source": [
    "from sklearn.ensemble import AdaBoostClassifier\n",
    "grid_params = {'n_estimators': [50, 100, 300, 500], 'learning_rate':[0.1, 0.3, 0.5, 1]}\n",
    "model = AdaBoostClassifier()\n",
    "ada_pred, ada_acc, ada_roc_auc,ada_f1, ada_feat_imp = cv_and_predict_valid(df_x_4_train,df_y_4_train, model, tree = True, grid_search=True, grid_parameters = grid_params)\n"
   ]
  },
  {
   "cell_type": "code",
   "execution_count": 77,
   "metadata": {},
   "outputs": [
    {
     "name": "stderr",
     "output_type": "stream",
     "text": [
      "c:\\Users\\isaen\\AppData\\Local\\Programs\\Python\\Python312\\Lib\\site-packages\\sklearn\\ensemble\\_weight_boosting.py:519: FutureWarning: The SAMME.R algorithm (the default) is deprecated and will be removed in 1.6. Use the SAMME algorithm to circumvent this warning.\n",
      "  warnings.warn(\n"
     ]
    },
    {
     "name": "stdout",
     "output_type": "stream",
     "text": [
      "Accuracy: 0.48654708520179374\n",
      "ROC-AUC: 0.4943732983765252\n",
      "F1-score: 0.4173027989821883\n"
     ]
    }
   ],
   "source": [
    "# testing\n",
    "model = model = AdaBoostClassifier(learning_rate=0.5, n_estimators=50)\n",
    "model.fit(df_x_4_train, df_y_4_train)\n",
    "predictions = model.predict(df_x_4_test)\n",
    "accuracy = accuracy_score(df_y_4_test, predictions)\n",
    "roc_auc = roc_auc_score(df_y_4_test, predictions)\n",
    "f1 = f1_score(df_y_4_test, predictions)\n",
    "    \n",
    "print(f\"Accuracy: {accuracy}\")\n",
    "print(f\"ROC-AUC: {roc_auc}\")\n",
    "print(f\"F1-score: {f1}\")\n",
    "# good"
   ]
  },
  {
   "cell_type": "code",
   "execution_count": 78,
   "metadata": {},
   "outputs": [
    {
     "name": "stdout",
     "output_type": "stream",
     "text": [
      "Accuracy: 0.44664031620553357\n",
      "ROC-AUC: 0.4466629171353581\n",
      "F1-score: 0.4444444444444444\n"
     ]
    }
   ],
   "source": [
    "from sklearn.naive_bayes import GaussianNB\n",
    "model = GaussianNB()\n",
    "nb_pred, nb_acc, nb_roc_auc,nb_f1, nb_feat_imp = cv_and_predict_valid(df_x_4_train,df_y_4_train, model)\n"
   ]
  },
  {
   "cell_type": "code",
   "execution_count": 79,
   "metadata": {},
   "outputs": [
    {
     "name": "stdout",
     "output_type": "stream",
     "text": [
      "Accuracy: 0.4977578475336323\n",
      "ROC-AUC: 0.5006554401532721\n",
      "F1-score: 0.4838709677419355\n"
     ]
    }
   ],
   "source": [
    "# testing\n",
    "model = model = GaussianNB()\n",
    "model.fit(df_x_4_train, df_y_4_train)\n",
    "predictions = model.predict(df_x_4_test)\n",
    "accuracy = accuracy_score(df_y_4_test, predictions)\n",
    "roc_auc = roc_auc_score(df_y_4_test, predictions)\n",
    "f1 = f1_score(df_y_4_test, predictions)\n",
    "    \n",
    "print(f\"Accuracy: {accuracy}\")\n",
    "print(f\"ROC-AUC: {roc_auc}\")\n",
    "print(f\"F1-score: {f1}\")\n"
   ]
  },
  {
   "cell_type": "code",
   "execution_count": 80,
   "metadata": {},
   "outputs": [
    {
     "name": "stdout",
     "output_type": "stream",
     "text": [
      "Accuracy: 0.4980237154150198\n",
      "ROC-AUC: 0.5\n",
      "F1-score: 0.0\n"
     ]
    }
   ],
   "source": [
    "from sklearn.linear_model import LogisticRegression\n",
    "model = LogisticRegression(C=0.5)\n",
    "lr_pred, lr_acc, lr_roc_auc,lr_f1, lr_feat_imp = cv_and_predict_valid(df_x_4_train,df_y_4_train, model)\n"
   ]
  },
  {
   "cell_type": "code",
   "execution_count": 81,
   "metadata": {},
   "outputs": [
    {
     "name": "stdout",
     "output_type": "stream",
     "text": [
      "Accuracy: 0.4730941704035874\n",
      "ROC-AUC: 0.5\n",
      "F1-score: 0.0\n"
     ]
    }
   ],
   "source": [
    "# testing\n",
    "model = model = LogisticRegression(C=0.5)\n",
    "model.fit(df_x_4_train, df_y_4_train)\n",
    "predictions = model.predict(df_x_4_test)\n",
    "accuracy = accuracy_score(df_y_4_test, predictions)\n",
    "roc_auc = roc_auc_score(df_y_4_test, predictions)\n",
    "f1 = f1_score(df_y_4_test, predictions)\n",
    "    \n",
    "print(f\"Accuracy: {accuracy}\")\n",
    "print(f\"ROC-AUC: {roc_auc}\")\n",
    "print(f\"F1-score: {f1}\")"
   ]
  },
  {
   "cell_type": "code",
   "execution_count": 82,
   "metadata": {},
   "outputs": [
    {
     "name": "stdout",
     "output_type": "stream",
     "text": [
      "KNeighborsClassifier(n_neighbors=50)\n",
      "Best parameters from grid search: {'n_neighbors': 50}\n",
      "Accuracy: 0.5217391304347826\n",
      "ROC-AUC: 0.5225909261342332\n",
      "F1-score: 0.39195979899497485\n"
     ]
    }
   ],
   "source": [
    "from sklearn.neighbors import KNeighborsClassifier\n",
    "grid_params = {'n_neighbors': [1, 2, 3, 4, 5, 10, 20, 50]}\n",
    "model = KNeighborsClassifier()\n",
    "knn_pred, knn_acc, knn_roc_auc,knn_f1, knn_feat_imp = cv_and_predict_valid(df_x_4_train,df_y_4_train, model, grid_search=True, grid_parameters=grid_params)\n"
   ]
  },
  {
   "cell_type": "code",
   "execution_count": 83,
   "metadata": {},
   "outputs": [
    {
     "name": "stdout",
     "output_type": "stream",
     "text": [
      "Accuracy: 0.531390134529148\n",
      "ROC-AUC: 0.5403146112735707\n",
      "F1-score: 0.45714285714285713\n"
     ]
    }
   ],
   "source": [
    "# testing\n",
    "model = model = KNeighborsClassifier(n_neighbors=50)\n",
    "model.fit(df_x_4_train, df_y_4_train)\n",
    "predictions = model.predict(df_x_4_test)\n",
    "accuracy = accuracy_score(df_y_4_test, predictions)\n",
    "roc_auc = roc_auc_score(df_y_4_test, predictions)\n",
    "f1 = f1_score(df_y_4_test, predictions)\n",
    "    \n",
    "print(f\"Accuracy: {accuracy}\")\n",
    "print(f\"ROC-AUC: {roc_auc}\")\n",
    "print(f\"F1-score: {f1}\")\n",
    "# not bad"
   ]
  },
  {
   "cell_type": "code",
   "execution_count": null,
   "metadata": {},
   "outputs": [],
   "source": []
  },
  {
   "cell_type": "markdown",
   "metadata": {},
   "source": [
    "# Only elkulako"
   ]
  },
  {
   "cell_type": "code",
   "execution_count": 84,
   "metadata": {},
   "outputs": [
    {
     "data": {
      "text/html": [
       "<div>\n",
       "<style scoped>\n",
       "    .dataframe tbody tr th:only-of-type {\n",
       "        vertical-align: middle;\n",
       "    }\n",
       "\n",
       "    .dataframe tbody tr th {\n",
       "        vertical-align: top;\n",
       "    }\n",
       "\n",
       "    .dataframe thead th {\n",
       "        text-align: right;\n",
       "    }\n",
       "</style>\n",
       "<table border=\"1\" class=\"dataframe\">\n",
       "  <thead>\n",
       "    <tr style=\"text-align: right;\">\n",
       "      <th></th>\n",
       "      <th>Date_15m</th>\n",
       "      <th>datetime</th>\n",
       "      <th>text</th>\n",
       "      <th>username</th>\n",
       "      <th>kk08_pos_score</th>\n",
       "      <th>kk08_score_diff</th>\n",
       "      <th>Elkulako_label</th>\n",
       "      <th>Sentiment_vader</th>\n",
       "      <th>pred</th>\n",
       "      <th>analysis</th>\n",
       "      <th>...</th>\n",
       "      <th>open</th>\n",
       "      <th>close</th>\n",
       "      <th>Return</th>\n",
       "      <th>Return_sign</th>\n",
       "      <th>kk08_pos_score_lag1</th>\n",
       "      <th>kk08_pos_score_lag2</th>\n",
       "      <th>kk08_pos_score_lag3</th>\n",
       "      <th>Sentiment_vader_lag1</th>\n",
       "      <th>Sentiment_vader_lag2</th>\n",
       "      <th>Sentiment_vader_lag3</th>\n",
       "    </tr>\n",
       "  </thead>\n",
       "  <tbody>\n",
       "    <tr>\n",
       "      <th>0</th>\n",
       "      <td>2022-01-01 00:15:00</td>\n",
       "      <td>['2022-01-01 00:00:00', '2022-01-01 00:00:00',...</td>\n",
       "      <td>Current Price of Bitcoin:\\n$46320 (-1.85%)\\n\\n...</td>\n",
       "      <td>CryptoNerdApp\\nTrendSpider\\nMadStudentScie1\\nW...</td>\n",
       "      <td>0.816322</td>\n",
       "      <td>0.632644</td>\n",
       "      <td>0.342175</td>\n",
       "      <td>0.161173</td>\n",
       "      <td>11</td>\n",
       "      <td>4</td>\n",
       "      <td>...</td>\n",
       "      <td>46332.52</td>\n",
       "      <td>46375.42</td>\n",
       "      <td>0.000926</td>\n",
       "      <td>1</td>\n",
       "      <td>NaN</td>\n",
       "      <td>NaN</td>\n",
       "      <td>NaN</td>\n",
       "      <td>NaN</td>\n",
       "      <td>NaN</td>\n",
       "      <td>NaN</td>\n",
       "    </tr>\n",
       "    <tr>\n",
       "      <th>1</th>\n",
       "      <td>2022-01-01 00:30:00</td>\n",
       "      <td>['2022-01-01 00:15:01', '2022-01-01 00:15:05',...</td>\n",
       "      <td>The current price of Bitcoin is $46453.00.\\nTh...</td>\n",
       "      <td>big_blockers\\nbmurphypointman\\nButterLemonBot\\...</td>\n",
       "      <td>0.716851</td>\n",
       "      <td>0.433702</td>\n",
       "      <td>0.305638</td>\n",
       "      <td>0.136947</td>\n",
       "      <td>9</td>\n",
       "      <td>42</td>\n",
       "      <td>...</td>\n",
       "      <td>46375.42</td>\n",
       "      <td>46610.81</td>\n",
       "      <td>0.005076</td>\n",
       "      <td>1</td>\n",
       "      <td>0.816322</td>\n",
       "      <td>NaN</td>\n",
       "      <td>NaN</td>\n",
       "      <td>0.161173</td>\n",
       "      <td>NaN</td>\n",
       "      <td>NaN</td>\n",
       "    </tr>\n",
       "    <tr>\n",
       "      <th>2</th>\n",
       "      <td>2022-01-01 00:45:00</td>\n",
       "      <td>['2022-01-01 00:30:00', '2022-01-01 00:30:01',...</td>\n",
       "      <td>“Here's to a bright New Year and a fond farewe...</td>\n",
       "      <td>bitcoiva\\ncryptozone007\\nlinuxadvocate\\nbakedn...</td>\n",
       "      <td>0.725069</td>\n",
       "      <td>0.450138</td>\n",
       "      <td>0.438272</td>\n",
       "      <td>0.172915</td>\n",
       "      <td>9</td>\n",
       "      <td>15</td>\n",
       "      <td>...</td>\n",
       "      <td>46610.81</td>\n",
       "      <td>46656.13</td>\n",
       "      <td>0.000972</td>\n",
       "      <td>1</td>\n",
       "      <td>0.716851</td>\n",
       "      <td>0.816322</td>\n",
       "      <td>NaN</td>\n",
       "      <td>0.136947</td>\n",
       "      <td>0.161173</td>\n",
       "      <td>NaN</td>\n",
       "    </tr>\n",
       "    <tr>\n",
       "      <th>3</th>\n",
       "      <td>2022-01-01 01:00:00</td>\n",
       "      <td>['2022-01-01 00:45:02', '2022-01-01 00:45:04',...</td>\n",
       "      <td>#Bitcoin $BTC \\nPrice: $46,630.10\\n\\nAreas of ...</td>\n",
       "      <td>DCA_Cryptoz\\nbidcoindad\\ncoinok\\nbmurphypointm...</td>\n",
       "      <td>0.756357</td>\n",
       "      <td>0.512714</td>\n",
       "      <td>0.381818</td>\n",
       "      <td>0.178866</td>\n",
       "      <td>5</td>\n",
       "      <td>11</td>\n",
       "      <td>...</td>\n",
       "      <td>46656.14</td>\n",
       "      <td>46766.99</td>\n",
       "      <td>0.002376</td>\n",
       "      <td>1</td>\n",
       "      <td>0.725069</td>\n",
       "      <td>0.716851</td>\n",
       "      <td>0.816322</td>\n",
       "      <td>0.172915</td>\n",
       "      <td>0.136947</td>\n",
       "      <td>0.161173</td>\n",
       "    </tr>\n",
       "    <tr>\n",
       "      <th>4</th>\n",
       "      <td>2022-01-01 01:15:00</td>\n",
       "      <td>['2022-01-01 01:00:00', '2022-01-01 01:00:00',...</td>\n",
       "      <td>Today's Cryptocurrency Fear And Greed Index: 2...</td>\n",
       "      <td>FearAndGreedBot\\nOfficialOverbit\\nBTC_AI_bot\\n...</td>\n",
       "      <td>0.770306</td>\n",
       "      <td>0.540612</td>\n",
       "      <td>0.343195</td>\n",
       "      <td>0.143037</td>\n",
       "      <td>6</td>\n",
       "      <td>13</td>\n",
       "      <td>...</td>\n",
       "      <td>46766.99</td>\n",
       "      <td>46815.33</td>\n",
       "      <td>0.001034</td>\n",
       "      <td>1</td>\n",
       "      <td>0.756357</td>\n",
       "      <td>0.725069</td>\n",
       "      <td>0.716851</td>\n",
       "      <td>0.178866</td>\n",
       "      <td>0.172915</td>\n",
       "      <td>0.136947</td>\n",
       "    </tr>\n",
       "    <tr>\n",
       "      <th>...</th>\n",
       "      <td>...</td>\n",
       "      <td>...</td>\n",
       "      <td>...</td>\n",
       "      <td>...</td>\n",
       "      <td>...</td>\n",
       "      <td>...</td>\n",
       "      <td>...</td>\n",
       "      <td>...</td>\n",
       "      <td>...</td>\n",
       "      <td>...</td>\n",
       "      <td>...</td>\n",
       "      <td>...</td>\n",
       "      <td>...</td>\n",
       "      <td>...</td>\n",
       "      <td>...</td>\n",
       "      <td>...</td>\n",
       "      <td>...</td>\n",
       "      <td>...</td>\n",
       "      <td>...</td>\n",
       "      <td>...</td>\n",
       "      <td>...</td>\n",
       "    </tr>\n",
       "    <tr>\n",
       "      <th>2971</th>\n",
       "      <td>2022-01-31 23:00:00</td>\n",
       "      <td>['2022-01-31 22:45:00', '2022-01-31 22:45:01',...</td>\n",
       "      <td>NFL Stars and Politicians' Bet in Bitcoin Turn...</td>\n",
       "      <td>got_eth\\nzero_2_nothing\\nNewsCryptoBot\\nJamesW...</td>\n",
       "      <td>0.771425</td>\n",
       "      <td>0.542850</td>\n",
       "      <td>0.209877</td>\n",
       "      <td>0.167436</td>\n",
       "      <td>1</td>\n",
       "      <td>4</td>\n",
       "      <td>...</td>\n",
       "      <td>38412.45</td>\n",
       "      <td>38451.36</td>\n",
       "      <td>0.001013</td>\n",
       "      <td>1</td>\n",
       "      <td>0.780470</td>\n",
       "      <td>0.790736</td>\n",
       "      <td>0.812888</td>\n",
       "      <td>0.171507</td>\n",
       "      <td>0.120725</td>\n",
       "      <td>0.163388</td>\n",
       "    </tr>\n",
       "    <tr>\n",
       "      <th>2972</th>\n",
       "      <td>2022-01-31 23:15:00</td>\n",
       "      <td>['2022-01-31 23:00:00', '2022-01-31 23:00:00',...</td>\n",
       "      <td>Top #Cryptocurrency RANK DOWN (#crypto #bitcoi...</td>\n",
       "      <td>CryptoTopCharts\\nBTC_AI_bot\\ncryptonewsleak\\nt...</td>\n",
       "      <td>0.779117</td>\n",
       "      <td>0.558234</td>\n",
       "      <td>0.263158</td>\n",
       "      <td>0.161682</td>\n",
       "      <td>4</td>\n",
       "      <td>4</td>\n",
       "      <td>...</td>\n",
       "      <td>38451.36</td>\n",
       "      <td>38412.23</td>\n",
       "      <td>-0.001018</td>\n",
       "      <td>0</td>\n",
       "      <td>0.771425</td>\n",
       "      <td>0.780470</td>\n",
       "      <td>0.790736</td>\n",
       "      <td>0.167436</td>\n",
       "      <td>0.171507</td>\n",
       "      <td>0.120725</td>\n",
       "    </tr>\n",
       "    <tr>\n",
       "      <th>2973</th>\n",
       "      <td>2022-01-31 23:30:00</td>\n",
       "      <td>['2022-01-31 23:15:00', '2022-01-31 23:15:00',...</td>\n",
       "      <td>Why are people buying #Bitcoin? Why are they a...</td>\n",
       "      <td>ForwardGroupMS\\nThomasBakerMS\\nbig_blockers\\nb...</td>\n",
       "      <td>0.783670</td>\n",
       "      <td>0.567341</td>\n",
       "      <td>0.278592</td>\n",
       "      <td>0.161257</td>\n",
       "      <td>5</td>\n",
       "      <td>6</td>\n",
       "      <td>...</td>\n",
       "      <td>38412.23</td>\n",
       "      <td>38369.11</td>\n",
       "      <td>-0.001123</td>\n",
       "      <td>0</td>\n",
       "      <td>0.779117</td>\n",
       "      <td>0.771425</td>\n",
       "      <td>0.780470</td>\n",
       "      <td>0.161682</td>\n",
       "      <td>0.167436</td>\n",
       "      <td>0.171507</td>\n",
       "    </tr>\n",
       "    <tr>\n",
       "      <th>2974</th>\n",
       "      <td>2022-01-31 23:45:00</td>\n",
       "      <td>['2022-01-31 23:30:01', '2022-01-31 23:30:02',...</td>\n",
       "      <td>Bitcoin On Its Way To $500,000? Anthony Scaram...</td>\n",
       "      <td>OutlawBuckeye\\nSifHomes\\nitvc_\\nRaulGlzC\\nTheM...</td>\n",
       "      <td>0.769362</td>\n",
       "      <td>0.538723</td>\n",
       "      <td>0.240642</td>\n",
       "      <td>0.110640</td>\n",
       "      <td>3</td>\n",
       "      <td>4</td>\n",
       "      <td>...</td>\n",
       "      <td>38369.12</td>\n",
       "      <td>38466.90</td>\n",
       "      <td>0.002548</td>\n",
       "      <td>1</td>\n",
       "      <td>0.783670</td>\n",
       "      <td>0.779117</td>\n",
       "      <td>0.771425</td>\n",
       "      <td>0.161257</td>\n",
       "      <td>0.161682</td>\n",
       "      <td>0.167436</td>\n",
       "    </tr>\n",
       "    <tr>\n",
       "      <th>2975</th>\n",
       "      <td>2022-02-01 00:00:00</td>\n",
       "      <td>['2022-01-31 23:45:02', '2022-01-31 23:45:02',...</td>\n",
       "      <td>Bitcoin loses $48K on Wall Street open as trad...</td>\n",
       "      <td>MilaPlayporn\\nNewsCryptoBot\\nthomastthai\\nnews...</td>\n",
       "      <td>0.741804</td>\n",
       "      <td>0.483609</td>\n",
       "      <td>0.243386</td>\n",
       "      <td>0.170778</td>\n",
       "      <td>4</td>\n",
       "      <td>5</td>\n",
       "      <td>...</td>\n",
       "      <td>38466.90</td>\n",
       "      <td>38497.68</td>\n",
       "      <td>0.000800</td>\n",
       "      <td>1</td>\n",
       "      <td>0.769362</td>\n",
       "      <td>0.783670</td>\n",
       "      <td>0.779117</td>\n",
       "      <td>0.110640</td>\n",
       "      <td>0.161257</td>\n",
       "      <td>0.161682</td>\n",
       "    </tr>\n",
       "  </tbody>\n",
       "</table>\n",
       "<p>2976 rows × 37 columns</p>\n",
       "</div>"
      ],
      "text/plain": [
       "                 Date_15m                                           datetime  \\\n",
       "0     2022-01-01 00:15:00  ['2022-01-01 00:00:00', '2022-01-01 00:00:00',...   \n",
       "1     2022-01-01 00:30:00  ['2022-01-01 00:15:01', '2022-01-01 00:15:05',...   \n",
       "2     2022-01-01 00:45:00  ['2022-01-01 00:30:00', '2022-01-01 00:30:01',...   \n",
       "3     2022-01-01 01:00:00  ['2022-01-01 00:45:02', '2022-01-01 00:45:04',...   \n",
       "4     2022-01-01 01:15:00  ['2022-01-01 01:00:00', '2022-01-01 01:00:00',...   \n",
       "...                   ...                                                ...   \n",
       "2971  2022-01-31 23:00:00  ['2022-01-31 22:45:00', '2022-01-31 22:45:01',...   \n",
       "2972  2022-01-31 23:15:00  ['2022-01-31 23:00:00', '2022-01-31 23:00:00',...   \n",
       "2973  2022-01-31 23:30:00  ['2022-01-31 23:15:00', '2022-01-31 23:15:00',...   \n",
       "2974  2022-01-31 23:45:00  ['2022-01-31 23:30:01', '2022-01-31 23:30:02',...   \n",
       "2975  2022-02-01 00:00:00  ['2022-01-31 23:45:02', '2022-01-31 23:45:02',...   \n",
       "\n",
       "                                                   text  \\\n",
       "0     Current Price of Bitcoin:\\n$46320 (-1.85%)\\n\\n...   \n",
       "1     The current price of Bitcoin is $46453.00.\\nTh...   \n",
       "2     “Here's to a bright New Year and a fond farewe...   \n",
       "3     #Bitcoin $BTC \\nPrice: $46,630.10\\n\\nAreas of ...   \n",
       "4     Today's Cryptocurrency Fear And Greed Index: 2...   \n",
       "...                                                 ...   \n",
       "2971  NFL Stars and Politicians' Bet in Bitcoin Turn...   \n",
       "2972  Top #Cryptocurrency RANK DOWN (#crypto #bitcoi...   \n",
       "2973  Why are people buying #Bitcoin? Why are they a...   \n",
       "2974  Bitcoin On Its Way To $500,000? Anthony Scaram...   \n",
       "2975  Bitcoin loses $48K on Wall Street open as trad...   \n",
       "\n",
       "                                               username  kk08_pos_score  \\\n",
       "0     CryptoNerdApp\\nTrendSpider\\nMadStudentScie1\\nW...        0.816322   \n",
       "1     big_blockers\\nbmurphypointman\\nButterLemonBot\\...        0.716851   \n",
       "2     bitcoiva\\ncryptozone007\\nlinuxadvocate\\nbakedn...        0.725069   \n",
       "3     DCA_Cryptoz\\nbidcoindad\\ncoinok\\nbmurphypointm...        0.756357   \n",
       "4     FearAndGreedBot\\nOfficialOverbit\\nBTC_AI_bot\\n...        0.770306   \n",
       "...                                                 ...             ...   \n",
       "2971  got_eth\\nzero_2_nothing\\nNewsCryptoBot\\nJamesW...        0.771425   \n",
       "2972  CryptoTopCharts\\nBTC_AI_bot\\ncryptonewsleak\\nt...        0.779117   \n",
       "2973  ForwardGroupMS\\nThomasBakerMS\\nbig_blockers\\nb...        0.783670   \n",
       "2974  OutlawBuckeye\\nSifHomes\\nitvc_\\nRaulGlzC\\nTheM...        0.769362   \n",
       "2975  MilaPlayporn\\nNewsCryptoBot\\nthomastthai\\nnews...        0.741804   \n",
       "\n",
       "      kk08_score_diff  Elkulako_label  Sentiment_vader  pred  analysis  ...  \\\n",
       "0            0.632644        0.342175         0.161173    11         4  ...   \n",
       "1            0.433702        0.305638         0.136947     9        42  ...   \n",
       "2            0.450138        0.438272         0.172915     9        15  ...   \n",
       "3            0.512714        0.381818         0.178866     5        11  ...   \n",
       "4            0.540612        0.343195         0.143037     6        13  ...   \n",
       "...               ...             ...              ...   ...       ...  ...   \n",
       "2971         0.542850        0.209877         0.167436     1         4  ...   \n",
       "2972         0.558234        0.263158         0.161682     4         4  ...   \n",
       "2973         0.567341        0.278592         0.161257     5         6  ...   \n",
       "2974         0.538723        0.240642         0.110640     3         4  ...   \n",
       "2975         0.483609        0.243386         0.170778     4         5  ...   \n",
       "\n",
       "          open     close    Return  Return_sign  kk08_pos_score_lag1  \\\n",
       "0     46332.52  46375.42  0.000926            1                  NaN   \n",
       "1     46375.42  46610.81  0.005076            1             0.816322   \n",
       "2     46610.81  46656.13  0.000972            1             0.716851   \n",
       "3     46656.14  46766.99  0.002376            1             0.725069   \n",
       "4     46766.99  46815.33  0.001034            1             0.756357   \n",
       "...        ...       ...       ...          ...                  ...   \n",
       "2971  38412.45  38451.36  0.001013            1             0.780470   \n",
       "2972  38451.36  38412.23 -0.001018            0             0.771425   \n",
       "2973  38412.23  38369.11 -0.001123            0             0.779117   \n",
       "2974  38369.12  38466.90  0.002548            1             0.783670   \n",
       "2975  38466.90  38497.68  0.000800            1             0.769362   \n",
       "\n",
       "      kk08_pos_score_lag2  kk08_pos_score_lag3  Sentiment_vader_lag1  \\\n",
       "0                     NaN                  NaN                   NaN   \n",
       "1                     NaN                  NaN              0.161173   \n",
       "2                0.816322                  NaN              0.136947   \n",
       "3                0.716851             0.816322              0.172915   \n",
       "4                0.725069             0.716851              0.178866   \n",
       "...                   ...                  ...                   ...   \n",
       "2971             0.790736             0.812888              0.171507   \n",
       "2972             0.780470             0.790736              0.167436   \n",
       "2973             0.771425             0.780470              0.161682   \n",
       "2974             0.779117             0.771425              0.161257   \n",
       "2975             0.783670             0.779117              0.110640   \n",
       "\n",
       "      Sentiment_vader_lag2  Sentiment_vader_lag3  \n",
       "0                      NaN                   NaN  \n",
       "1                      NaN                   NaN  \n",
       "2                 0.161173                   NaN  \n",
       "3                 0.136947              0.161173  \n",
       "4                 0.172915              0.136947  \n",
       "...                    ...                   ...  \n",
       "2971              0.120725              0.163388  \n",
       "2972              0.171507              0.120725  \n",
       "2973              0.167436              0.171507  \n",
       "2974              0.161682              0.167436  \n",
       "2975              0.161257              0.161682  \n",
       "\n",
       "[2976 rows x 37 columns]"
      ]
     },
     "execution_count": 84,
     "metadata": {},
     "output_type": "execute_result"
    }
   ],
   "source": [
    "df"
   ]
  },
  {
   "cell_type": "code",
   "execution_count": 85,
   "metadata": {},
   "outputs": [],
   "source": [
    "df_x_5 = df[[\"Elkulako_label\"]]\n",
    "df_y = df[\"Return_sign\"]"
   ]
  },
  {
   "cell_type": "code",
   "execution_count": 86,
   "metadata": {},
   "outputs": [
    {
     "data": {
      "text/html": [
       "<div>\n",
       "<style scoped>\n",
       "    .dataframe tbody tr th:only-of-type {\n",
       "        vertical-align: middle;\n",
       "    }\n",
       "\n",
       "    .dataframe tbody tr th {\n",
       "        vertical-align: top;\n",
       "    }\n",
       "\n",
       "    .dataframe thead th {\n",
       "        text-align: right;\n",
       "    }\n",
       "</style>\n",
       "<table border=\"1\" class=\"dataframe\">\n",
       "  <thead>\n",
       "    <tr style=\"text-align: right;\">\n",
       "      <th></th>\n",
       "      <th>Elkulako_label</th>\n",
       "    </tr>\n",
       "  </thead>\n",
       "  <tbody>\n",
       "    <tr>\n",
       "      <th>0</th>\n",
       "      <td>0.342175</td>\n",
       "    </tr>\n",
       "    <tr>\n",
       "      <th>1</th>\n",
       "      <td>0.305638</td>\n",
       "    </tr>\n",
       "    <tr>\n",
       "      <th>2</th>\n",
       "      <td>0.438272</td>\n",
       "    </tr>\n",
       "    <tr>\n",
       "      <th>3</th>\n",
       "      <td>0.381818</td>\n",
       "    </tr>\n",
       "    <tr>\n",
       "      <th>4</th>\n",
       "      <td>0.343195</td>\n",
       "    </tr>\n",
       "    <tr>\n",
       "      <th>...</th>\n",
       "      <td>...</td>\n",
       "    </tr>\n",
       "    <tr>\n",
       "      <th>2971</th>\n",
       "      <td>0.209877</td>\n",
       "    </tr>\n",
       "    <tr>\n",
       "      <th>2972</th>\n",
       "      <td>0.263158</td>\n",
       "    </tr>\n",
       "    <tr>\n",
       "      <th>2973</th>\n",
       "      <td>0.278592</td>\n",
       "    </tr>\n",
       "    <tr>\n",
       "      <th>2974</th>\n",
       "      <td>0.240642</td>\n",
       "    </tr>\n",
       "    <tr>\n",
       "      <th>2975</th>\n",
       "      <td>0.243386</td>\n",
       "    </tr>\n",
       "  </tbody>\n",
       "</table>\n",
       "<p>2976 rows × 1 columns</p>\n",
       "</div>"
      ],
      "text/plain": [
       "      Elkulako_label\n",
       "0           0.342175\n",
       "1           0.305638\n",
       "2           0.438272\n",
       "3           0.381818\n",
       "4           0.343195\n",
       "...              ...\n",
       "2971        0.209877\n",
       "2972        0.263158\n",
       "2973        0.278592\n",
       "2974        0.240642\n",
       "2975        0.243386\n",
       "\n",
       "[2976 rows x 1 columns]"
      ]
     },
     "execution_count": 86,
     "metadata": {},
     "output_type": "execute_result"
    }
   ],
   "source": [
    "df_x_5"
   ]
  },
  {
   "cell_type": "code",
   "execution_count": 87,
   "metadata": {},
   "outputs": [],
   "source": [
    "train_share = 0.85\n",
    "df_x_5_train = df_x_5.iloc[:int(len(df_x_5)*train_share)].reset_index(drop=True)\n",
    "df_y_train = df_y.iloc[:int(len(df_x_5)*train_share)].reset_index(drop=True)\n",
    "\n",
    "df_x_5_test = df_x_5.iloc[int(len(df_x_5)*train_share):].reset_index(drop=True)\n",
    "df_y_test = df_y.iloc[int(len(df_x_5)*train_share):].reset_index(drop=True)"
   ]
  },
  {
   "cell_type": "code",
   "execution_count": 88,
   "metadata": {},
   "outputs": [
    {
     "name": "stdout",
     "output_type": "stream",
     "text": [
      "Accuracy: 0.4980237154150198\n",
      "ROC-AUC: 0.5\n",
      "F1-score: 0.0\n"
     ]
    }
   ],
   "source": [
    "from sklearn.dummy import DummyClassifier\n",
    "dummy_model = DummyClassifier(strategy='most_frequent')\n",
    "dummy_pred, dummy_acc, dummy_roc_auc,dummy_f1, dummy_feat_imp= cv_and_predict_valid(df_x_5_train,df_y_train,dummy_model)\n"
   ]
  },
  {
   "cell_type": "code",
   "execution_count": 89,
   "metadata": {},
   "outputs": [
    {
     "name": "stdout",
     "output_type": "stream",
     "text": [
      "Accuracy: 0.4720357941834452\n",
      "ROC-AUC: 0.5\n",
      "F1-score: 0.0\n"
     ]
    }
   ],
   "source": [
    "# testing\n",
    "model = DummyClassifier(strategy='most_frequent')\n",
    "\n",
    "model.fit(df_x_5_train, df_y_train)\n",
    "predictions = model.predict(df_x_5_test)\n",
    "accuracy = accuracy_score(df_y_test, predictions)\n",
    "roc_auc = roc_auc_score(df_y_test, predictions)\n",
    "f1 = f1_score(df_y_test, predictions)\n",
    "    \n",
    "print(f\"Accuracy: {accuracy}\")\n",
    "print(f\"ROC-AUC: {roc_auc}\")\n",
    "print(f\"F1-score: {f1}\")"
   ]
  },
  {
   "cell_type": "code",
   "execution_count": 90,
   "metadata": {},
   "outputs": [
    {
     "name": "stdout",
     "output_type": "stream",
     "text": [
      "RandomForestClassifier(n_estimators=50, random_state=17)\n",
      "Best parameters from grid search: {'n_estimators': 50}\n",
      "Accuracy: 0.47035573122529645\n",
      "ROC-AUC: 0.470347456567929\n",
      "F1-score: 0.47244094488188976\n"
     ]
    }
   ],
   "source": [
    "from sklearn.ensemble import RandomForestClassifier\n",
    "# Random Forest\n",
    "grid_params = {'n_estimators': [5, 10, 20, 50,100]}\n",
    "rf_model = RandomForestClassifier(random_state=17)\n",
    "rf_pred, rf_acc, rf_roc_auc,rf_f1, rf_feat_imp = cv_and_predict_valid(df_x_5_train,df_y_train, rf_model, tree = True, grid_search=True, grid_parameters=grid_params)"
   ]
  },
  {
   "cell_type": "code",
   "execution_count": 171,
   "metadata": {},
   "outputs": [
    {
     "name": "stdout",
     "output_type": "stream",
     "text": [
      "Accuracy: 0.5346756152125279\n",
      "ROC-AUC: 0.5344706402120653\n",
      "F1-score: 0.5497835497835498\n"
     ]
    }
   ],
   "source": [
    "# testing\n",
    "model = RandomForestClassifier(n_estimators=50, random_state=17)\n",
    "model.fit(df_x_5_train, df_y_train)\n",
    "predictions = model.predict(df_x_5_test)\n",
    "accuracy = accuracy_score(df_y_test, predictions)\n",
    "roc_auc = roc_auc_score(df_y_test, predictions)\n",
    "f1 = f1_score(df_y_test, predictions)\n",
    "    \n",
    "print(f\"Accuracy: {accuracy}\")\n",
    "print(f\"ROC-AUC: {roc_auc}\")\n",
    "print(f\"F1-score: {f1}\")\n",
    "# good"
   ]
  },
  {
   "cell_type": "code",
   "execution_count": 92,
   "metadata": {},
   "outputs": [
    {
     "name": "stdout",
     "output_type": "stream",
     "text": [
      "XGBClassifier(base_score=None, booster=None, callbacks=None,\n",
      "              colsample_bylevel=None, colsample_bynode=None,\n",
      "              colsample_bytree=None, device=None, early_stopping_rounds=None,\n",
      "              enable_categorical=False, eval_metric=None, feature_types=None,\n",
      "              gamma=None, grow_policy=None, importance_type=None,\n",
      "              interaction_constraints=None, learning_rate=None, max_bin=None,\n",
      "              max_cat_threshold=None, max_cat_to_onehot=None,\n",
      "              max_delta_step=None, max_depth=1, max_leaves=None,\n",
      "              min_child_weight=None, missing=nan, monotone_constraints=None,\n",
      "              multi_strategy=None, n_estimators=5, n_jobs=None,\n",
      "              num_parallel_tree=None, random_state=17, ...)\n",
      "Best parameters from grid search: {'max_depth': 1, 'n_estimators': 5}\n",
      "Accuracy: 0.4782608695652174\n",
      "ROC-AUC: 0.4800649918760155\n",
      "F1-score: 0.043478260869565216\n"
     ]
    }
   ],
   "source": [
    "from xgboost import XGBClassifier\n",
    "# XGBoost\n",
    "grid_params = {'n_estimators': [5, 10, 20, 30, 50, 100, 300, 500],\"max_depth\": [1,2,3,6]}\n",
    "xgb_model = XGBClassifier(random_state=17)\n",
    "xgb_pred, xgb_acc, xgb_roc_auc,xgb_f1, xgb_feat_imp = cv_and_predict_valid(df_x_5_train,df_y_train, xgb_model, tree = True, grid_search=True, grid_parameters=grid_params)\n"
   ]
  },
  {
   "cell_type": "code",
   "execution_count": 93,
   "metadata": {},
   "outputs": [
    {
     "name": "stdout",
     "output_type": "stream",
     "text": [
      "Accuracy: 0.4782608695652174\n",
      "ROC-AUC: 0.4800649918760155\n",
      "F1-score: 0.043478260869565216\n"
     ]
    }
   ],
   "source": [
    "xgb_model = XGBClassifier(random_state=17, max_depth = 1, n_estimators = 5)\n",
    "xgb_pred, xgb_acc, xgb_roc_auc,xgb_f1, xgb_feat_imp = cv_and_predict_valid(df_x_5_train,df_y_train, xgb_model, tree = True)"
   ]
  },
  {
   "cell_type": "code",
   "execution_count": 94,
   "metadata": {},
   "outputs": [
    {
     "name": "stdout",
     "output_type": "stream",
     "text": [
      "Accuracy: 0.4988814317673378\n",
      "ROC-AUC: 0.5005723351273195\n",
      "F1-score: 0.4977578475336323\n"
     ]
    }
   ],
   "source": [
    "# testing\n",
    "model = XGBClassifier(random_state=17, max_depth = 6, n_estimators = 300)\n",
    "model.fit(df_x_5_train, df_y_train)\n",
    "predictions = model.predict(df_x_5_test)\n",
    "accuracy = accuracy_score(df_y_test, predictions)\n",
    "roc_auc = roc_auc_score(df_y_test, predictions)\n",
    "f1 = f1_score(df_y_test, predictions)\n",
    "    \n",
    "print(f\"Accuracy: {accuracy}\")\n",
    "print(f\"ROC-AUC: {roc_auc}\")\n",
    "print(f\"F1-score: {f1}\")\n"
   ]
  },
  {
   "cell_type": "code",
   "execution_count": 95,
   "metadata": {},
   "outputs": [
    {
     "name": "stdout",
     "output_type": "stream",
     "text": [
      "SVC(C=0.1, class_weight='balanced', gamma=1, kernel='poly')\n",
      "Best parameters from grid search: {'C': 0.1, 'class_weight': 'balanced', 'gamma': 1, 'kernel': 'poly'}\n",
      "Accuracy: 0.5019762845849802\n",
      "ROC-AUC: 0.5\n",
      "F1-score: 0.6684210526315789\n"
     ]
    }
   ],
   "source": [
    "from sklearn.svm import SVC\n",
    "# SVM\n",
    "grid_params = {'C': [0.1, 0.3, 0.7, 1, 2],  'kernel': ['poly', 'rbf'], 'gamma': [1, 0.1, 0.01], 'class_weight': ['balanced', None]}\n",
    "svm_model = SVC()\n",
    "svm_pred, svm_acc, svm_roc_auc,svm_f1, svm_feat_imp = cv_and_predict_valid(df_x_5_train,df_y_train, svm_model, grid_search=True, grid_parameters=grid_params)"
   ]
  },
  {
   "cell_type": "code",
   "execution_count": 96,
   "metadata": {},
   "outputs": [
    {
     "name": "stdout",
     "output_type": "stream",
     "text": [
      "Accuracy: 0.4720357941834452\n",
      "ROC-AUC: 0.5\n",
      "F1-score: 0.0\n"
     ]
    }
   ],
   "source": [
    "# testing\n",
    "model = SVC(C=0.1, class_weight='balanced', gamma=1, kernel='poly')\n",
    "model.fit(df_x_5_train, df_y_train)\n",
    "predictions = model.predict(df_x_5_test)\n",
    "accuracy = accuracy_score(df_y_test, predictions)\n",
    "roc_auc = roc_auc_score(df_y_test, predictions)\n",
    "f1 = f1_score(df_y_test, predictions)\n",
    "    \n",
    "print(f\"Accuracy: {accuracy}\")\n",
    "print(f\"ROC-AUC: {roc_auc}\")\n",
    "print(f\"F1-score: {f1}\")"
   ]
  },
  {
   "cell_type": "code",
   "execution_count": 97,
   "metadata": {},
   "outputs": [
    {
     "name": "stdout",
     "output_type": "stream",
     "text": [
      "AdaBoostClassifier(learning_rate=1, n_estimators=5)\n",
      "Best parameters from grid search: {'learning_rate': 1, 'n_estimators': 5}\n",
      "Accuracy: 0.4901185770750988\n",
      "ROC-AUC: 0.49193850768653913\n",
      "F1-score: 0.058394160583941604\n"
     ]
    },
    {
     "name": "stderr",
     "output_type": "stream",
     "text": [
      "c:\\Users\\isaen\\AppData\\Local\\Programs\\Python\\Python312\\Lib\\site-packages\\sklearn\\ensemble\\_weight_boosting.py:519: FutureWarning: The SAMME.R algorithm (the default) is deprecated and will be removed in 1.6. Use the SAMME algorithm to circumvent this warning.\n",
      "  warnings.warn(\n"
     ]
    }
   ],
   "source": [
    "from sklearn.ensemble import AdaBoostClassifier\n",
    "grid_params = {'n_estimators': [5, 10, 20, 30, 50, 100, 300, 500], 'learning_rate':[0.1, 0.3, 0.5, 1]}\n",
    "ada_model = AdaBoostClassifier()\n",
    "ada_pred, ada_acc, ada_roc_auc,ada_f1, ada_feat_imp = cv_and_predict_valid(df_x_5_train,df_y_train, ada_model, tree = True, grid_search=True, grid_parameters = grid_params)\n"
   ]
  },
  {
   "cell_type": "code",
   "execution_count": 98,
   "metadata": {},
   "outputs": [
    {
     "name": "stdout",
     "output_type": "stream",
     "text": [
      "Accuracy: 0.4720357941834452\n",
      "ROC-AUC: 0.5\n",
      "F1-score: 0.0\n"
     ]
    },
    {
     "name": "stderr",
     "output_type": "stream",
     "text": [
      "c:\\Users\\isaen\\AppData\\Local\\Programs\\Python\\Python312\\Lib\\site-packages\\sklearn\\ensemble\\_weight_boosting.py:519: FutureWarning: The SAMME.R algorithm (the default) is deprecated and will be removed in 1.6. Use the SAMME algorithm to circumvent this warning.\n",
      "  warnings.warn(\n"
     ]
    }
   ],
   "source": [
    "# testing\n",
    "model = AdaBoostClassifier(learning_rate=0.1, n_estimators=5)\n",
    "model.fit(df_x_5_train, df_y_train)\n",
    "predictions = model.predict(df_x_5_test)\n",
    "accuracy = accuracy_score(df_y_test, predictions)\n",
    "roc_auc = roc_auc_score(df_y_test, predictions)\n",
    "f1 = f1_score(df_y_test, predictions)\n",
    "    \n",
    "print(f\"Accuracy: {accuracy}\")\n",
    "print(f\"ROC-AUC: {roc_auc}\")\n",
    "print(f\"F1-score: {f1}\")"
   ]
  },
  {
   "cell_type": "code",
   "execution_count": null,
   "metadata": {},
   "outputs": [],
   "source": []
  },
  {
   "cell_type": "code",
   "execution_count": 99,
   "metadata": {},
   "outputs": [
    {
     "name": "stdout",
     "output_type": "stream",
     "text": [
      "Accuracy: 0.4980237154150198\n",
      "ROC-AUC: 0.5\n",
      "F1-score: 0.0\n"
     ]
    }
   ],
   "source": [
    "from sklearn.naive_bayes import GaussianNB\n",
    "nb_model = GaussianNB()\n",
    "nb_pred, nb_acc, nb_roc_auc,nb_f1, nb_feat_imp = cv_and_predict_valid(df_x_5_train,df_y_train, nb_model)\n"
   ]
  },
  {
   "cell_type": "code",
   "execution_count": 100,
   "metadata": {},
   "outputs": [
    {
     "name": "stdout",
     "output_type": "stream",
     "text": [
      "Accuracy: 0.4720357941834452\n",
      "ROC-AUC: 0.5\n",
      "F1-score: 0.0\n"
     ]
    }
   ],
   "source": [
    "# testing\n",
    "model = GaussianNB()\n",
    "model.fit(df_x_5_train, df_y_train)\n",
    "predictions = model.predict(df_x_5_test)\n",
    "accuracy = accuracy_score(df_y_test, predictions)\n",
    "roc_auc = roc_auc_score(df_y_test, predictions)\n",
    "f1 = f1_score(df_y_test, predictions)\n",
    "    \n",
    "print(f\"Accuracy: {accuracy}\")\n",
    "print(f\"ROC-AUC: {roc_auc}\")\n",
    "print(f\"F1-score: {f1}\")"
   ]
  },
  {
   "cell_type": "code",
   "execution_count": 101,
   "metadata": {},
   "outputs": [
    {
     "name": "stdout",
     "output_type": "stream",
     "text": [
      "Accuracy: 0.4980237154150198\n",
      "ROC-AUC: 0.5\n",
      "F1-score: 0.0\n"
     ]
    }
   ],
   "source": [
    "from sklearn.linear_model import LogisticRegression\n",
    "lr_model = LogisticRegression()\n",
    "lr_pred, lr_acc, lr_roc_auc,lr_f1, lr_feat_imp = cv_and_predict_valid(df_x_5_train,df_y_train, lr_model)\n"
   ]
  },
  {
   "cell_type": "code",
   "execution_count": 102,
   "metadata": {},
   "outputs": [
    {
     "name": "stdout",
     "output_type": "stream",
     "text": [
      "Accuracy: 0.4720357941834452\n",
      "ROC-AUC: 0.5\n",
      "F1-score: 0.0\n"
     ]
    }
   ],
   "source": [
    "# testing\n",
    "model = LogisticRegression()\n",
    "model.fit(df_x_5_train, df_y_train)\n",
    "predictions = model.predict(df_x_5_test)\n",
    "accuracy = accuracy_score(df_y_test, predictions)\n",
    "roc_auc = roc_auc_score(df_y_test, predictions)\n",
    "f1 = f1_score(df_y_test, predictions)\n",
    "    \n",
    "print(f\"Accuracy: {accuracy}\")\n",
    "print(f\"ROC-AUC: {roc_auc}\")\n",
    "print(f\"F1-score: {f1}\")"
   ]
  },
  {
   "cell_type": "code",
   "execution_count": 103,
   "metadata": {},
   "outputs": [
    {
     "name": "stdout",
     "output_type": "stream",
     "text": [
      "KNeighborsClassifier(n_neighbors=50)\n",
      "Best parameters from grid search: {'n_neighbors': 50}\n",
      "Accuracy: 0.4782608695652174\n",
      "ROC-AUC: 0.47909636295463065\n",
      "F1-score: 0.34\n"
     ]
    }
   ],
   "source": [
    "from sklearn.neighbors import KNeighborsClassifier\n",
    "grid_params = {'n_neighbors': [1, 2, 3, 4, 5, 10, 20, 50]}\n",
    "knn_model = KNeighborsClassifier()\n",
    "knn_pred, knn_acc, knn_roc_auc,knn_f1, knn_feat_imp = cv_and_predict_valid(df_x_5_train,df_y_train, knn_model, grid_search=True, grid_parameters=grid_params)\n"
   ]
  },
  {
   "cell_type": "code",
   "execution_count": 104,
   "metadata": {},
   "outputs": [
    {
     "name": "stdout",
     "output_type": "stream",
     "text": [
      "Accuracy: 0.5167785234899329\n",
      "ROC-AUC: 0.5235460679572657\n",
      "F1-score: 0.46798029556650245\n"
     ]
    }
   ],
   "source": [
    "# testing\n",
    "model = KNeighborsClassifier(n_neighbors=50)\n",
    "model.fit(df_x_5_train, df_y_train)\n",
    "predictions = model.predict(df_x_5_test)\n",
    "accuracy = accuracy_score(df_y_test, predictions)\n",
    "roc_auc = roc_auc_score(df_y_test, predictions)\n",
    "f1 = f1_score(df_y_test, predictions)\n",
    "    \n",
    "print(f\"Accuracy: {accuracy}\")\n",
    "print(f\"ROC-AUC: {roc_auc}\")\n",
    "print(f\"F1-score: {f1}\")\n"
   ]
  },
  {
   "cell_type": "markdown",
   "metadata": {},
   "source": [
    "# Elkulako with lags"
   ]
  },
  {
   "cell_type": "code",
   "execution_count": 105,
   "metadata": {},
   "outputs": [
    {
     "data": {
      "text/html": [
       "<div>\n",
       "<style scoped>\n",
       "    .dataframe tbody tr th:only-of-type {\n",
       "        vertical-align: middle;\n",
       "    }\n",
       "\n",
       "    .dataframe tbody tr th {\n",
       "        vertical-align: top;\n",
       "    }\n",
       "\n",
       "    .dataframe thead th {\n",
       "        text-align: right;\n",
       "    }\n",
       "</style>\n",
       "<table border=\"1\" class=\"dataframe\">\n",
       "  <thead>\n",
       "    <tr style=\"text-align: right;\">\n",
       "      <th></th>\n",
       "      <th>Date_15m</th>\n",
       "      <th>datetime</th>\n",
       "      <th>text</th>\n",
       "      <th>username</th>\n",
       "      <th>kk08_pos_score</th>\n",
       "      <th>kk08_score_diff</th>\n",
       "      <th>Elkulako_label</th>\n",
       "      <th>Sentiment_vader</th>\n",
       "      <th>pred</th>\n",
       "      <th>analysis</th>\n",
       "      <th>...</th>\n",
       "      <th>open</th>\n",
       "      <th>close</th>\n",
       "      <th>Return</th>\n",
       "      <th>Return_sign</th>\n",
       "      <th>kk08_pos_score_lag1</th>\n",
       "      <th>kk08_pos_score_lag2</th>\n",
       "      <th>kk08_pos_score_lag3</th>\n",
       "      <th>Sentiment_vader_lag1</th>\n",
       "      <th>Sentiment_vader_lag2</th>\n",
       "      <th>Sentiment_vader_lag3</th>\n",
       "    </tr>\n",
       "  </thead>\n",
       "  <tbody>\n",
       "    <tr>\n",
       "      <th>0</th>\n",
       "      <td>2022-01-01 00:15:00</td>\n",
       "      <td>['2022-01-01 00:00:00', '2022-01-01 00:00:00',...</td>\n",
       "      <td>Current Price of Bitcoin:\\n$46320 (-1.85%)\\n\\n...</td>\n",
       "      <td>CryptoNerdApp\\nTrendSpider\\nMadStudentScie1\\nW...</td>\n",
       "      <td>0.816322</td>\n",
       "      <td>0.632644</td>\n",
       "      <td>0.342175</td>\n",
       "      <td>0.161173</td>\n",
       "      <td>11</td>\n",
       "      <td>4</td>\n",
       "      <td>...</td>\n",
       "      <td>46332.52</td>\n",
       "      <td>46375.42</td>\n",
       "      <td>0.000926</td>\n",
       "      <td>1</td>\n",
       "      <td>NaN</td>\n",
       "      <td>NaN</td>\n",
       "      <td>NaN</td>\n",
       "      <td>NaN</td>\n",
       "      <td>NaN</td>\n",
       "      <td>NaN</td>\n",
       "    </tr>\n",
       "    <tr>\n",
       "      <th>1</th>\n",
       "      <td>2022-01-01 00:30:00</td>\n",
       "      <td>['2022-01-01 00:15:01', '2022-01-01 00:15:05',...</td>\n",
       "      <td>The current price of Bitcoin is $46453.00.\\nTh...</td>\n",
       "      <td>big_blockers\\nbmurphypointman\\nButterLemonBot\\...</td>\n",
       "      <td>0.716851</td>\n",
       "      <td>0.433702</td>\n",
       "      <td>0.305638</td>\n",
       "      <td>0.136947</td>\n",
       "      <td>9</td>\n",
       "      <td>42</td>\n",
       "      <td>...</td>\n",
       "      <td>46375.42</td>\n",
       "      <td>46610.81</td>\n",
       "      <td>0.005076</td>\n",
       "      <td>1</td>\n",
       "      <td>0.816322</td>\n",
       "      <td>NaN</td>\n",
       "      <td>NaN</td>\n",
       "      <td>0.161173</td>\n",
       "      <td>NaN</td>\n",
       "      <td>NaN</td>\n",
       "    </tr>\n",
       "    <tr>\n",
       "      <th>2</th>\n",
       "      <td>2022-01-01 00:45:00</td>\n",
       "      <td>['2022-01-01 00:30:00', '2022-01-01 00:30:01',...</td>\n",
       "      <td>“Here's to a bright New Year and a fond farewe...</td>\n",
       "      <td>bitcoiva\\ncryptozone007\\nlinuxadvocate\\nbakedn...</td>\n",
       "      <td>0.725069</td>\n",
       "      <td>0.450138</td>\n",
       "      <td>0.438272</td>\n",
       "      <td>0.172915</td>\n",
       "      <td>9</td>\n",
       "      <td>15</td>\n",
       "      <td>...</td>\n",
       "      <td>46610.81</td>\n",
       "      <td>46656.13</td>\n",
       "      <td>0.000972</td>\n",
       "      <td>1</td>\n",
       "      <td>0.716851</td>\n",
       "      <td>0.816322</td>\n",
       "      <td>NaN</td>\n",
       "      <td>0.136947</td>\n",
       "      <td>0.161173</td>\n",
       "      <td>NaN</td>\n",
       "    </tr>\n",
       "    <tr>\n",
       "      <th>3</th>\n",
       "      <td>2022-01-01 01:00:00</td>\n",
       "      <td>['2022-01-01 00:45:02', '2022-01-01 00:45:04',...</td>\n",
       "      <td>#Bitcoin $BTC \\nPrice: $46,630.10\\n\\nAreas of ...</td>\n",
       "      <td>DCA_Cryptoz\\nbidcoindad\\ncoinok\\nbmurphypointm...</td>\n",
       "      <td>0.756357</td>\n",
       "      <td>0.512714</td>\n",
       "      <td>0.381818</td>\n",
       "      <td>0.178866</td>\n",
       "      <td>5</td>\n",
       "      <td>11</td>\n",
       "      <td>...</td>\n",
       "      <td>46656.14</td>\n",
       "      <td>46766.99</td>\n",
       "      <td>0.002376</td>\n",
       "      <td>1</td>\n",
       "      <td>0.725069</td>\n",
       "      <td>0.716851</td>\n",
       "      <td>0.816322</td>\n",
       "      <td>0.172915</td>\n",
       "      <td>0.136947</td>\n",
       "      <td>0.161173</td>\n",
       "    </tr>\n",
       "    <tr>\n",
       "      <th>4</th>\n",
       "      <td>2022-01-01 01:15:00</td>\n",
       "      <td>['2022-01-01 01:00:00', '2022-01-01 01:00:00',...</td>\n",
       "      <td>Today's Cryptocurrency Fear And Greed Index: 2...</td>\n",
       "      <td>FearAndGreedBot\\nOfficialOverbit\\nBTC_AI_bot\\n...</td>\n",
       "      <td>0.770306</td>\n",
       "      <td>0.540612</td>\n",
       "      <td>0.343195</td>\n",
       "      <td>0.143037</td>\n",
       "      <td>6</td>\n",
       "      <td>13</td>\n",
       "      <td>...</td>\n",
       "      <td>46766.99</td>\n",
       "      <td>46815.33</td>\n",
       "      <td>0.001034</td>\n",
       "      <td>1</td>\n",
       "      <td>0.756357</td>\n",
       "      <td>0.725069</td>\n",
       "      <td>0.716851</td>\n",
       "      <td>0.178866</td>\n",
       "      <td>0.172915</td>\n",
       "      <td>0.136947</td>\n",
       "    </tr>\n",
       "    <tr>\n",
       "      <th>...</th>\n",
       "      <td>...</td>\n",
       "      <td>...</td>\n",
       "      <td>...</td>\n",
       "      <td>...</td>\n",
       "      <td>...</td>\n",
       "      <td>...</td>\n",
       "      <td>...</td>\n",
       "      <td>...</td>\n",
       "      <td>...</td>\n",
       "      <td>...</td>\n",
       "      <td>...</td>\n",
       "      <td>...</td>\n",
       "      <td>...</td>\n",
       "      <td>...</td>\n",
       "      <td>...</td>\n",
       "      <td>...</td>\n",
       "      <td>...</td>\n",
       "      <td>...</td>\n",
       "      <td>...</td>\n",
       "      <td>...</td>\n",
       "      <td>...</td>\n",
       "    </tr>\n",
       "    <tr>\n",
       "      <th>2971</th>\n",
       "      <td>2022-01-31 23:00:00</td>\n",
       "      <td>['2022-01-31 22:45:00', '2022-01-31 22:45:01',...</td>\n",
       "      <td>NFL Stars and Politicians' Bet in Bitcoin Turn...</td>\n",
       "      <td>got_eth\\nzero_2_nothing\\nNewsCryptoBot\\nJamesW...</td>\n",
       "      <td>0.771425</td>\n",
       "      <td>0.542850</td>\n",
       "      <td>0.209877</td>\n",
       "      <td>0.167436</td>\n",
       "      <td>1</td>\n",
       "      <td>4</td>\n",
       "      <td>...</td>\n",
       "      <td>38412.45</td>\n",
       "      <td>38451.36</td>\n",
       "      <td>0.001013</td>\n",
       "      <td>1</td>\n",
       "      <td>0.780470</td>\n",
       "      <td>0.790736</td>\n",
       "      <td>0.812888</td>\n",
       "      <td>0.171507</td>\n",
       "      <td>0.120725</td>\n",
       "      <td>0.163388</td>\n",
       "    </tr>\n",
       "    <tr>\n",
       "      <th>2972</th>\n",
       "      <td>2022-01-31 23:15:00</td>\n",
       "      <td>['2022-01-31 23:00:00', '2022-01-31 23:00:00',...</td>\n",
       "      <td>Top #Cryptocurrency RANK DOWN (#crypto #bitcoi...</td>\n",
       "      <td>CryptoTopCharts\\nBTC_AI_bot\\ncryptonewsleak\\nt...</td>\n",
       "      <td>0.779117</td>\n",
       "      <td>0.558234</td>\n",
       "      <td>0.263158</td>\n",
       "      <td>0.161682</td>\n",
       "      <td>4</td>\n",
       "      <td>4</td>\n",
       "      <td>...</td>\n",
       "      <td>38451.36</td>\n",
       "      <td>38412.23</td>\n",
       "      <td>-0.001018</td>\n",
       "      <td>0</td>\n",
       "      <td>0.771425</td>\n",
       "      <td>0.780470</td>\n",
       "      <td>0.790736</td>\n",
       "      <td>0.167436</td>\n",
       "      <td>0.171507</td>\n",
       "      <td>0.120725</td>\n",
       "    </tr>\n",
       "    <tr>\n",
       "      <th>2973</th>\n",
       "      <td>2022-01-31 23:30:00</td>\n",
       "      <td>['2022-01-31 23:15:00', '2022-01-31 23:15:00',...</td>\n",
       "      <td>Why are people buying #Bitcoin? Why are they a...</td>\n",
       "      <td>ForwardGroupMS\\nThomasBakerMS\\nbig_blockers\\nb...</td>\n",
       "      <td>0.783670</td>\n",
       "      <td>0.567341</td>\n",
       "      <td>0.278592</td>\n",
       "      <td>0.161257</td>\n",
       "      <td>5</td>\n",
       "      <td>6</td>\n",
       "      <td>...</td>\n",
       "      <td>38412.23</td>\n",
       "      <td>38369.11</td>\n",
       "      <td>-0.001123</td>\n",
       "      <td>0</td>\n",
       "      <td>0.779117</td>\n",
       "      <td>0.771425</td>\n",
       "      <td>0.780470</td>\n",
       "      <td>0.161682</td>\n",
       "      <td>0.167436</td>\n",
       "      <td>0.171507</td>\n",
       "    </tr>\n",
       "    <tr>\n",
       "      <th>2974</th>\n",
       "      <td>2022-01-31 23:45:00</td>\n",
       "      <td>['2022-01-31 23:30:01', '2022-01-31 23:30:02',...</td>\n",
       "      <td>Bitcoin On Its Way To $500,000? Anthony Scaram...</td>\n",
       "      <td>OutlawBuckeye\\nSifHomes\\nitvc_\\nRaulGlzC\\nTheM...</td>\n",
       "      <td>0.769362</td>\n",
       "      <td>0.538723</td>\n",
       "      <td>0.240642</td>\n",
       "      <td>0.110640</td>\n",
       "      <td>3</td>\n",
       "      <td>4</td>\n",
       "      <td>...</td>\n",
       "      <td>38369.12</td>\n",
       "      <td>38466.90</td>\n",
       "      <td>0.002548</td>\n",
       "      <td>1</td>\n",
       "      <td>0.783670</td>\n",
       "      <td>0.779117</td>\n",
       "      <td>0.771425</td>\n",
       "      <td>0.161257</td>\n",
       "      <td>0.161682</td>\n",
       "      <td>0.167436</td>\n",
       "    </tr>\n",
       "    <tr>\n",
       "      <th>2975</th>\n",
       "      <td>2022-02-01 00:00:00</td>\n",
       "      <td>['2022-01-31 23:45:02', '2022-01-31 23:45:02',...</td>\n",
       "      <td>Bitcoin loses $48K on Wall Street open as trad...</td>\n",
       "      <td>MilaPlayporn\\nNewsCryptoBot\\nthomastthai\\nnews...</td>\n",
       "      <td>0.741804</td>\n",
       "      <td>0.483609</td>\n",
       "      <td>0.243386</td>\n",
       "      <td>0.170778</td>\n",
       "      <td>4</td>\n",
       "      <td>5</td>\n",
       "      <td>...</td>\n",
       "      <td>38466.90</td>\n",
       "      <td>38497.68</td>\n",
       "      <td>0.000800</td>\n",
       "      <td>1</td>\n",
       "      <td>0.769362</td>\n",
       "      <td>0.783670</td>\n",
       "      <td>0.779117</td>\n",
       "      <td>0.110640</td>\n",
       "      <td>0.161257</td>\n",
       "      <td>0.161682</td>\n",
       "    </tr>\n",
       "  </tbody>\n",
       "</table>\n",
       "<p>2976 rows × 37 columns</p>\n",
       "</div>"
      ],
      "text/plain": [
       "                 Date_15m                                           datetime  \\\n",
       "0     2022-01-01 00:15:00  ['2022-01-01 00:00:00', '2022-01-01 00:00:00',...   \n",
       "1     2022-01-01 00:30:00  ['2022-01-01 00:15:01', '2022-01-01 00:15:05',...   \n",
       "2     2022-01-01 00:45:00  ['2022-01-01 00:30:00', '2022-01-01 00:30:01',...   \n",
       "3     2022-01-01 01:00:00  ['2022-01-01 00:45:02', '2022-01-01 00:45:04',...   \n",
       "4     2022-01-01 01:15:00  ['2022-01-01 01:00:00', '2022-01-01 01:00:00',...   \n",
       "...                   ...                                                ...   \n",
       "2971  2022-01-31 23:00:00  ['2022-01-31 22:45:00', '2022-01-31 22:45:01',...   \n",
       "2972  2022-01-31 23:15:00  ['2022-01-31 23:00:00', '2022-01-31 23:00:00',...   \n",
       "2973  2022-01-31 23:30:00  ['2022-01-31 23:15:00', '2022-01-31 23:15:00',...   \n",
       "2974  2022-01-31 23:45:00  ['2022-01-31 23:30:01', '2022-01-31 23:30:02',...   \n",
       "2975  2022-02-01 00:00:00  ['2022-01-31 23:45:02', '2022-01-31 23:45:02',...   \n",
       "\n",
       "                                                   text  \\\n",
       "0     Current Price of Bitcoin:\\n$46320 (-1.85%)\\n\\n...   \n",
       "1     The current price of Bitcoin is $46453.00.\\nTh...   \n",
       "2     “Here's to a bright New Year and a fond farewe...   \n",
       "3     #Bitcoin $BTC \\nPrice: $46,630.10\\n\\nAreas of ...   \n",
       "4     Today's Cryptocurrency Fear And Greed Index: 2...   \n",
       "...                                                 ...   \n",
       "2971  NFL Stars and Politicians' Bet in Bitcoin Turn...   \n",
       "2972  Top #Cryptocurrency RANK DOWN (#crypto #bitcoi...   \n",
       "2973  Why are people buying #Bitcoin? Why are they a...   \n",
       "2974  Bitcoin On Its Way To $500,000? Anthony Scaram...   \n",
       "2975  Bitcoin loses $48K on Wall Street open as trad...   \n",
       "\n",
       "                                               username  kk08_pos_score  \\\n",
       "0     CryptoNerdApp\\nTrendSpider\\nMadStudentScie1\\nW...        0.816322   \n",
       "1     big_blockers\\nbmurphypointman\\nButterLemonBot\\...        0.716851   \n",
       "2     bitcoiva\\ncryptozone007\\nlinuxadvocate\\nbakedn...        0.725069   \n",
       "3     DCA_Cryptoz\\nbidcoindad\\ncoinok\\nbmurphypointm...        0.756357   \n",
       "4     FearAndGreedBot\\nOfficialOverbit\\nBTC_AI_bot\\n...        0.770306   \n",
       "...                                                 ...             ...   \n",
       "2971  got_eth\\nzero_2_nothing\\nNewsCryptoBot\\nJamesW...        0.771425   \n",
       "2972  CryptoTopCharts\\nBTC_AI_bot\\ncryptonewsleak\\nt...        0.779117   \n",
       "2973  ForwardGroupMS\\nThomasBakerMS\\nbig_blockers\\nb...        0.783670   \n",
       "2974  OutlawBuckeye\\nSifHomes\\nitvc_\\nRaulGlzC\\nTheM...        0.769362   \n",
       "2975  MilaPlayporn\\nNewsCryptoBot\\nthomastthai\\nnews...        0.741804   \n",
       "\n",
       "      kk08_score_diff  Elkulako_label  Sentiment_vader  pred  analysis  ...  \\\n",
       "0            0.632644        0.342175         0.161173    11         4  ...   \n",
       "1            0.433702        0.305638         0.136947     9        42  ...   \n",
       "2            0.450138        0.438272         0.172915     9        15  ...   \n",
       "3            0.512714        0.381818         0.178866     5        11  ...   \n",
       "4            0.540612        0.343195         0.143037     6        13  ...   \n",
       "...               ...             ...              ...   ...       ...  ...   \n",
       "2971         0.542850        0.209877         0.167436     1         4  ...   \n",
       "2972         0.558234        0.263158         0.161682     4         4  ...   \n",
       "2973         0.567341        0.278592         0.161257     5         6  ...   \n",
       "2974         0.538723        0.240642         0.110640     3         4  ...   \n",
       "2975         0.483609        0.243386         0.170778     4         5  ...   \n",
       "\n",
       "          open     close    Return  Return_sign  kk08_pos_score_lag1  \\\n",
       "0     46332.52  46375.42  0.000926            1                  NaN   \n",
       "1     46375.42  46610.81  0.005076            1             0.816322   \n",
       "2     46610.81  46656.13  0.000972            1             0.716851   \n",
       "3     46656.14  46766.99  0.002376            1             0.725069   \n",
       "4     46766.99  46815.33  0.001034            1             0.756357   \n",
       "...        ...       ...       ...          ...                  ...   \n",
       "2971  38412.45  38451.36  0.001013            1             0.780470   \n",
       "2972  38451.36  38412.23 -0.001018            0             0.771425   \n",
       "2973  38412.23  38369.11 -0.001123            0             0.779117   \n",
       "2974  38369.12  38466.90  0.002548            1             0.783670   \n",
       "2975  38466.90  38497.68  0.000800            1             0.769362   \n",
       "\n",
       "      kk08_pos_score_lag2  kk08_pos_score_lag3  Sentiment_vader_lag1  \\\n",
       "0                     NaN                  NaN                   NaN   \n",
       "1                     NaN                  NaN              0.161173   \n",
       "2                0.816322                  NaN              0.136947   \n",
       "3                0.716851             0.816322              0.172915   \n",
       "4                0.725069             0.716851              0.178866   \n",
       "...                   ...                  ...                   ...   \n",
       "2971             0.790736             0.812888              0.171507   \n",
       "2972             0.780470             0.790736              0.167436   \n",
       "2973             0.771425             0.780470              0.161682   \n",
       "2974             0.779117             0.771425              0.161257   \n",
       "2975             0.783670             0.779117              0.110640   \n",
       "\n",
       "      Sentiment_vader_lag2  Sentiment_vader_lag3  \n",
       "0                      NaN                   NaN  \n",
       "1                      NaN                   NaN  \n",
       "2                 0.161173                   NaN  \n",
       "3                 0.136947              0.161173  \n",
       "4                 0.172915              0.136947  \n",
       "...                    ...                   ...  \n",
       "2971              0.120725              0.163388  \n",
       "2972              0.171507              0.120725  \n",
       "2973              0.167436              0.171507  \n",
       "2974              0.161682              0.167436  \n",
       "2975              0.161257              0.161682  \n",
       "\n",
       "[2976 rows x 37 columns]"
      ]
     },
     "execution_count": 105,
     "metadata": {},
     "output_type": "execute_result"
    }
   ],
   "source": [
    "df"
   ]
  },
  {
   "cell_type": "code",
   "execution_count": 106,
   "metadata": {},
   "outputs": [],
   "source": [
    "df['Elkulako_label_lag1']=df['Elkulako_label'].shift(1)\n",
    "df['Elkulako_label_lag2']=df['Elkulako_label'].shift(2)\n",
    "df['Elkulako_label_lag3']=df['Elkulako_label'].shift(3)\n"
   ]
  },
  {
   "cell_type": "code",
   "execution_count": 107,
   "metadata": {},
   "outputs": [],
   "source": [
    "df_x_6 = df.dropna().reset_index(drop=True)[[\"Elkulako_label\", \"Elkulako_label_lag1\", \"Elkulako_label_lag2\", \"Elkulako_label_lag3\"]]\n",
    "df_y_6 = df[\"Return_sign\"].iloc[3:].reset_index(drop=True)"
   ]
  },
  {
   "cell_type": "code",
   "execution_count": 108,
   "metadata": {},
   "outputs": [
    {
     "data": {
      "text/html": [
       "<div>\n",
       "<style scoped>\n",
       "    .dataframe tbody tr th:only-of-type {\n",
       "        vertical-align: middle;\n",
       "    }\n",
       "\n",
       "    .dataframe tbody tr th {\n",
       "        vertical-align: top;\n",
       "    }\n",
       "\n",
       "    .dataframe thead th {\n",
       "        text-align: right;\n",
       "    }\n",
       "</style>\n",
       "<table border=\"1\" class=\"dataframe\">\n",
       "  <thead>\n",
       "    <tr style=\"text-align: right;\">\n",
       "      <th></th>\n",
       "      <th>Elkulako_label</th>\n",
       "      <th>Elkulako_label_lag1</th>\n",
       "      <th>Elkulako_label_lag2</th>\n",
       "      <th>Elkulako_label_lag3</th>\n",
       "    </tr>\n",
       "  </thead>\n",
       "  <tbody>\n",
       "    <tr>\n",
       "      <th>0</th>\n",
       "      <td>0.381818</td>\n",
       "      <td>0.438272</td>\n",
       "      <td>0.305638</td>\n",
       "      <td>0.342175</td>\n",
       "    </tr>\n",
       "    <tr>\n",
       "      <th>1</th>\n",
       "      <td>0.343195</td>\n",
       "      <td>0.381818</td>\n",
       "      <td>0.438272</td>\n",
       "      <td>0.305638</td>\n",
       "    </tr>\n",
       "    <tr>\n",
       "      <th>2</th>\n",
       "      <td>0.358209</td>\n",
       "      <td>0.343195</td>\n",
       "      <td>0.381818</td>\n",
       "      <td>0.438272</td>\n",
       "    </tr>\n",
       "    <tr>\n",
       "      <th>3</th>\n",
       "      <td>0.323529</td>\n",
       "      <td>0.358209</td>\n",
       "      <td>0.343195</td>\n",
       "      <td>0.381818</td>\n",
       "    </tr>\n",
       "    <tr>\n",
       "      <th>4</th>\n",
       "      <td>0.345455</td>\n",
       "      <td>0.323529</td>\n",
       "      <td>0.358209</td>\n",
       "      <td>0.343195</td>\n",
       "    </tr>\n",
       "    <tr>\n",
       "      <th>...</th>\n",
       "      <td>...</td>\n",
       "      <td>...</td>\n",
       "      <td>...</td>\n",
       "      <td>...</td>\n",
       "    </tr>\n",
       "    <tr>\n",
       "      <th>2968</th>\n",
       "      <td>0.209877</td>\n",
       "      <td>0.202857</td>\n",
       "      <td>0.214076</td>\n",
       "      <td>0.241458</td>\n",
       "    </tr>\n",
       "    <tr>\n",
       "      <th>2969</th>\n",
       "      <td>0.263158</td>\n",
       "      <td>0.209877</td>\n",
       "      <td>0.202857</td>\n",
       "      <td>0.214076</td>\n",
       "    </tr>\n",
       "    <tr>\n",
       "      <th>2970</th>\n",
       "      <td>0.278592</td>\n",
       "      <td>0.263158</td>\n",
       "      <td>0.209877</td>\n",
       "      <td>0.202857</td>\n",
       "    </tr>\n",
       "    <tr>\n",
       "      <th>2971</th>\n",
       "      <td>0.240642</td>\n",
       "      <td>0.278592</td>\n",
       "      <td>0.263158</td>\n",
       "      <td>0.209877</td>\n",
       "    </tr>\n",
       "    <tr>\n",
       "      <th>2972</th>\n",
       "      <td>0.243386</td>\n",
       "      <td>0.240642</td>\n",
       "      <td>0.278592</td>\n",
       "      <td>0.263158</td>\n",
       "    </tr>\n",
       "  </tbody>\n",
       "</table>\n",
       "<p>2973 rows × 4 columns</p>\n",
       "</div>"
      ],
      "text/plain": [
       "      Elkulako_label  Elkulako_label_lag1  Elkulako_label_lag2  \\\n",
       "0           0.381818             0.438272             0.305638   \n",
       "1           0.343195             0.381818             0.438272   \n",
       "2           0.358209             0.343195             0.381818   \n",
       "3           0.323529             0.358209             0.343195   \n",
       "4           0.345455             0.323529             0.358209   \n",
       "...              ...                  ...                  ...   \n",
       "2968        0.209877             0.202857             0.214076   \n",
       "2969        0.263158             0.209877             0.202857   \n",
       "2970        0.278592             0.263158             0.209877   \n",
       "2971        0.240642             0.278592             0.263158   \n",
       "2972        0.243386             0.240642             0.278592   \n",
       "\n",
       "      Elkulako_label_lag3  \n",
       "0                0.342175  \n",
       "1                0.305638  \n",
       "2                0.438272  \n",
       "3                0.381818  \n",
       "4                0.343195  \n",
       "...                   ...  \n",
       "2968             0.241458  \n",
       "2969             0.214076  \n",
       "2970             0.202857  \n",
       "2971             0.209877  \n",
       "2972             0.263158  \n",
       "\n",
       "[2973 rows x 4 columns]"
      ]
     },
     "execution_count": 108,
     "metadata": {},
     "output_type": "execute_result"
    }
   ],
   "source": [
    "df_x_6"
   ]
  },
  {
   "cell_type": "code",
   "execution_count": 109,
   "metadata": {},
   "outputs": [
    {
     "data": {
      "text/plain": [
       "0       1\n",
       "1       1\n",
       "2       0\n",
       "3       1\n",
       "4       1\n",
       "       ..\n",
       "2968    1\n",
       "2969    0\n",
       "2970    0\n",
       "2971    1\n",
       "2972    1\n",
       "Name: Return_sign, Length: 2973, dtype: int64"
      ]
     },
     "execution_count": 109,
     "metadata": {},
     "output_type": "execute_result"
    }
   ],
   "source": [
    "df_y_6"
   ]
  },
  {
   "cell_type": "code",
   "execution_count": 110,
   "metadata": {},
   "outputs": [],
   "source": [
    "train_share = 0.85\n",
    "df_x_6_train = df_x_6.iloc[:int(len(df_x_6)*train_share)].reset_index(drop=True)\n",
    "df_y_6_train = df_y_6.iloc[:int(len(df_x_6)*train_share)].reset_index(drop=True)\n",
    "\n",
    "df_x_6_test = df_x_6.iloc[int(len(df_x_6)*train_share):].reset_index(drop=True)\n",
    "df_y_6_test = df_y_6.iloc[int(len(df_x_6)*train_share):].reset_index(drop=True)"
   ]
  },
  {
   "cell_type": "code",
   "execution_count": 111,
   "metadata": {},
   "outputs": [
    {
     "data": {
      "text/plain": [
       "0.5269058295964125"
      ]
     },
     "execution_count": 111,
     "metadata": {},
     "output_type": "execute_result"
    }
   ],
   "source": [
    "sum(df_y_6_test)/len(df_y_6_test)"
   ]
  },
  {
   "cell_type": "code",
   "execution_count": 112,
   "metadata": {},
   "outputs": [
    {
     "name": "stdout",
     "output_type": "stream",
     "text": [
      "Accuracy: 0.4980237154150198\n",
      "ROC-AUC: 0.5\n",
      "F1-score: 0.0\n"
     ]
    }
   ],
   "source": [
    "from sklearn.dummy import DummyClassifier\n",
    "dummy_model = DummyClassifier(strategy='most_frequent')\n",
    "dummy_pred, dummy_acc, dummy_roc_auc,dummy_f1, dummy_feat_imp= cv_and_predict_valid(df_x_6_train,df_y_6_train,dummy_model)\n"
   ]
  },
  {
   "cell_type": "code",
   "execution_count": 113,
   "metadata": {},
   "outputs": [
    {
     "name": "stdout",
     "output_type": "stream",
     "text": [
      "RandomForestClassifier(n_estimators=5, random_state=17)\n",
      "Best parameters from grid search: {'n_estimators': 5}\n",
      "Accuracy: 0.48616600790513836\n",
      "ROC-AUC: 0.4864079490063743\n",
      "F1-score: 0.453781512605042\n"
     ]
    }
   ],
   "source": [
    "from sklearn.ensemble import RandomForestClassifier\n",
    "# Random Forest\n",
    "grid_params = {'n_estimators': [5, 10, 20, 50, 100, 300]}\n",
    "rf_model = RandomForestClassifier(random_state=17)\n",
    "rf_pred, rf_acc, rf_roc_auc,rf_f1, rf_feat_imp = cv_and_predict_valid(df_x_6_train,df_y_6_train, rf_model, tree = True, grid_search=True, grid_parameters=grid_params)"
   ]
  },
  {
   "cell_type": "code",
   "execution_count": 175,
   "metadata": {},
   "outputs": [
    {
     "name": "stdout",
     "output_type": "stream",
     "text": [
      "Accuracy: 0.4641255605381166\n",
      "ROC-AUC: 0.46438439044065744\n",
      "F1-score: 0.4747252747252747\n"
     ]
    }
   ],
   "source": [
    "# testing\n",
    "model = RandomForestClassifier(n_estimators=5, random_state=17)\n",
    "model.fit(df_x_6_train, df_y_6_train)\n",
    "predictions = model.predict(df_x_6_test)\n",
    "accuracy = accuracy_score(df_y_6_test, predictions)\n",
    "roc_auc = roc_auc_score(df_y_6_test, predictions)\n",
    "f1 = f1_score(df_y_6_test, predictions)\n",
    "    \n",
    "print(f\"Accuracy: {accuracy}\")\n",
    "print(f\"ROC-AUC: {roc_auc}\")\n",
    "print(f\"F1-score: {f1}\")\n"
   ]
  },
  {
   "cell_type": "code",
   "execution_count": 115,
   "metadata": {},
   "outputs": [
    {
     "name": "stdout",
     "output_type": "stream",
     "text": [
      "XGBClassifier(base_score=None, booster=None, callbacks=None,\n",
      "              colsample_bylevel=None, colsample_bynode=None,\n",
      "              colsample_bytree=None, device=None, early_stopping_rounds=None,\n",
      "              enable_categorical=False, eval_metric=None, feature_types=None,\n",
      "              gamma=None, grow_policy=None, importance_type=None,\n",
      "              interaction_constraints=None, learning_rate=None, max_bin=None,\n",
      "              max_cat_threshold=None, max_cat_to_onehot=None,\n",
      "              max_delta_step=None, max_depth=3, max_leaves=None,\n",
      "              min_child_weight=None, missing=nan, monotone_constraints=None,\n",
      "              multi_strategy=None, n_estimators=100, n_jobs=None,\n",
      "              num_parallel_tree=None, random_state=17, ...)\n",
      "Best parameters from grid search: {'max_depth': 3, 'n_estimators': 100}\n",
      "Accuracy: 0.5098814229249012\n",
      "ROC-AUC: 0.5102799650043744\n",
      "F1-score: 0.45614035087719296\n"
     ]
    }
   ],
   "source": [
    "from xgboost import XGBClassifier\n",
    "# XGBoost\n",
    "grid_params = {'n_estimators': [100, 300, 500],\"max_depth\": [1,3,6]}\n",
    "xgb_model = XGBClassifier(random_state=17)\n",
    "xgb_pred, xgb_acc, xgb_roc_auc,xgb_f1, xgb_feat_imp = cv_and_predict_valid(df_x_6_train,df_y_6_train, xgb_model, tree = True, grid_search=True, grid_parameters=grid_params)"
   ]
  },
  {
   "cell_type": "code",
   "execution_count": 116,
   "metadata": {},
   "outputs": [
    {
     "name": "stdout",
     "output_type": "stream",
     "text": [
      "Accuracy: 0.47085201793721976\n",
      "ROC-AUC: 0.47512352525965523\n",
      "F1-score: 0.44075829383886256\n"
     ]
    }
   ],
   "source": [
    "# testing\n",
    "model = XGBClassifier(random_state=17, max_depth = 3, n_estimators= 100)\n",
    "model.fit(df_x_6_train, df_y_6_train)\n",
    "predictions = model.predict(df_x_6_test)\n",
    "accuracy = accuracy_score(df_y_6_test, predictions)\n",
    "roc_auc = roc_auc_score(df_y_6_test, predictions)\n",
    "f1 = f1_score(df_y_6_test, predictions)\n",
    "    \n",
    "print(f\"Accuracy: {accuracy}\")\n",
    "print(f\"ROC-AUC: {roc_auc}\")\n",
    "print(f\"F1-score: {f1}\")\n",
    "# not bad"
   ]
  },
  {
   "cell_type": "code",
   "execution_count": 117,
   "metadata": {},
   "outputs": [
    {
     "name": "stdout",
     "output_type": "stream",
     "text": [
      "SVC(C=0.1, class_weight='balanced', gamma=1)\n",
      "Best parameters from grid search: {'C': 0.1, 'class_weight': 'balanced', 'gamma': 1, 'kernel': 'rbf'}\n",
      "Accuracy: 0.4980237154150198\n",
      "ROC-AUC: 0.5\n",
      "F1-score: 0.0\n"
     ]
    }
   ],
   "source": [
    "from sklearn.svm import SVC\n",
    "# SVM\n",
    "grid_params = {'C': [0.1, 0.3, 0.7, 1],  'kernel': ['poly', 'rbf'], 'gamma': [1, 0.1, 0.01], 'class_weight': ['balanced', None]}\n",
    "svm_model = SVC()\n",
    "svm_pred, svm_acc, svm_roc_auc,svm_f1, svm_feat_imp = cv_and_predict_valid(df_x_6_train,df_y_6_train, svm_model, grid_search=True, grid_parameters=grid_params)\n",
    "# too bad"
   ]
  },
  {
   "cell_type": "code",
   "execution_count": 118,
   "metadata": {},
   "outputs": [
    {
     "name": "stdout",
     "output_type": "stream",
     "text": [
      "Accuracy: 0.4730941704035874\n",
      "ROC-AUC: 0.5\n",
      "F1-score: 0.0\n"
     ]
    }
   ],
   "source": [
    "# testing\n",
    "model = SVC(C=0.1, class_weight='balanced', gamma=1)\n",
    "model.fit(df_x_6_train, df_y_6_train)\n",
    "predictions = model.predict(df_x_6_test)\n",
    "accuracy = accuracy_score(df_y_6_test, predictions)\n",
    "roc_auc = roc_auc_score(df_y_6_test, predictions)\n",
    "f1 = f1_score(df_y_6_test, predictions)\n",
    "    \n",
    "print(f\"Accuracy: {accuracy}\")\n",
    "print(f\"ROC-AUC: {roc_auc}\")\n",
    "print(f\"F1-score: {f1}\")"
   ]
  },
  {
   "cell_type": "code",
   "execution_count": 119,
   "metadata": {},
   "outputs": [
    {
     "name": "stderr",
     "output_type": "stream",
     "text": [
      "c:\\Users\\isaen\\AppData\\Local\\Programs\\Python\\Python312\\Lib\\site-packages\\sklearn\\ensemble\\_weight_boosting.py:519: FutureWarning: The SAMME.R algorithm (the default) is deprecated and will be removed in 1.6. Use the SAMME algorithm to circumvent this warning.\n",
      "  warnings.warn(\n"
     ]
    },
    {
     "name": "stdout",
     "output_type": "stream",
     "text": [
      "AdaBoostClassifier(learning_rate=0.1)\n",
      "Best parameters from grid search: {'learning_rate': 0.1, 'n_estimators': 50}\n",
      "Accuracy: 0.49407114624505927\n",
      "ROC-AUC: 0.49575053118360213\n",
      "F1-score: 0.1232876712328767\n"
     ]
    }
   ],
   "source": [
    "from sklearn.ensemble import AdaBoostClassifier\n",
    "grid_params = {'n_estimators': [50, 100, 300, 500], 'learning_rate':[0.1, 0.3, 0.5, 1]}\n",
    "model = AdaBoostClassifier()\n",
    "ada_pred, ada_acc, ada_roc_auc,ada_f1, ada_feat_imp = cv_and_predict_valid(df_x_6_train,df_y_6_train, model, tree = True, grid_search=True, grid_parameters = grid_params)\n",
    "# too bad"
   ]
  },
  {
   "cell_type": "code",
   "execution_count": 120,
   "metadata": {},
   "outputs": [
    {
     "name": "stderr",
     "output_type": "stream",
     "text": [
      "c:\\Users\\isaen\\AppData\\Local\\Programs\\Python\\Python312\\Lib\\site-packages\\sklearn\\ensemble\\_weight_boosting.py:519: FutureWarning: The SAMME.R algorithm (the default) is deprecated and will be removed in 1.6. Use the SAMME algorithm to circumvent this warning.\n",
      "  warnings.warn(\n"
     ]
    },
    {
     "name": "stdout",
     "output_type": "stream",
     "text": [
      "Accuracy: 0.5059288537549407\n",
      "ROC-AUC: 0.5069053868266467\n",
      "F1-score: 0.34554973821989526\n"
     ]
    }
   ],
   "source": [
    "model = AdaBoostClassifier(learning_rate=0.1, n_estimators=500)\n",
    "ada_pred, ada_acc, ada_roc_auc,ada_f1, ada_feat_imp = cv_and_predict_valid(df_x_6_train,df_y_6_train, model, tree = True)"
   ]
  },
  {
   "cell_type": "code",
   "execution_count": 121,
   "metadata": {},
   "outputs": [
    {
     "name": "stderr",
     "output_type": "stream",
     "text": [
      "c:\\Users\\isaen\\AppData\\Local\\Programs\\Python\\Python312\\Lib\\site-packages\\sklearn\\ensemble\\_weight_boosting.py:519: FutureWarning: The SAMME.R algorithm (the default) is deprecated and will be removed in 1.6. Use the SAMME algorithm to circumvent this warning.\n",
      "  warnings.warn(\n"
     ]
    },
    {
     "name": "stdout",
     "output_type": "stream",
     "text": [
      "Accuracy: 0.4977578475336323\n",
      "ROC-AUC: 0.5168700211757589\n",
      "F1-score: 0.25333333333333335\n"
     ]
    }
   ],
   "source": [
    "# testing\n",
    "model = model = AdaBoostClassifier(learning_rate=0.1, n_estimators=100)\n",
    "model.fit(df_x_6_train, df_y_6_train)\n",
    "predictions = model.predict(df_x_6_test)\n",
    "accuracy = accuracy_score(df_y_6_test, predictions)\n",
    "roc_auc = roc_auc_score(df_y_6_test, predictions)\n",
    "f1 = f1_score(df_y_6_test, predictions)\n",
    "    \n",
    "print(f\"Accuracy: {accuracy}\")\n",
    "print(f\"ROC-AUC: {roc_auc}\")\n",
    "print(f\"F1-score: {f1}\")\n"
   ]
  },
  {
   "cell_type": "code",
   "execution_count": 122,
   "metadata": {},
   "outputs": [
    {
     "name": "stdout",
     "output_type": "stream",
     "text": [
      "Accuracy: 0.4980237154150198\n",
      "ROC-AUC: 0.5\n",
      "F1-score: 0.0\n"
     ]
    }
   ],
   "source": [
    "from sklearn.naive_bayes import GaussianNB\n",
    "model = GaussianNB()\n",
    "nb_pred, nb_acc, nb_roc_auc,nb_f1, nb_feat_imp = cv_and_predict_valid(df_x_6_train,df_y_6_train, model)\n"
   ]
  },
  {
   "cell_type": "code",
   "execution_count": 123,
   "metadata": {},
   "outputs": [
    {
     "name": "stdout",
     "output_type": "stream",
     "text": [
      "Accuracy: 0.4730941704035874\n",
      "ROC-AUC: 0.5\n",
      "F1-score: 0.0\n"
     ]
    }
   ],
   "source": [
    "# testing\n",
    "model = model = GaussianNB()\n",
    "model.fit(df_x_6_train, df_y_6_train)\n",
    "predictions = model.predict(df_x_6_test)\n",
    "accuracy = accuracy_score(df_y_6_test, predictions)\n",
    "roc_auc = roc_auc_score(df_y_6_test, predictions)\n",
    "f1 = f1_score(df_y_6_test, predictions)\n",
    "    \n",
    "print(f\"Accuracy: {accuracy}\")\n",
    "print(f\"ROC-AUC: {roc_auc}\")\n",
    "print(f\"F1-score: {f1}\")\n"
   ]
  },
  {
   "cell_type": "code",
   "execution_count": 124,
   "metadata": {},
   "outputs": [
    {
     "name": "stdout",
     "output_type": "stream",
     "text": [
      "Accuracy: 0.4980237154150198\n",
      "ROC-AUC: 0.5\n",
      "F1-score: 0.0\n"
     ]
    }
   ],
   "source": [
    "from sklearn.linear_model import LogisticRegression\n",
    "model = LogisticRegression()\n",
    "lr_pred, lr_acc, lr_roc_auc,lr_f1, lr_feat_imp = cv_and_predict_valid(df_x_6_train,df_y_6_train, model)\n"
   ]
  },
  {
   "cell_type": "code",
   "execution_count": 125,
   "metadata": {},
   "outputs": [
    {
     "name": "stdout",
     "output_type": "stream",
     "text": [
      "Accuracy: 0.4730941704035874\n",
      "ROC-AUC: 0.5\n",
      "F1-score: 0.0\n"
     ]
    }
   ],
   "source": [
    "# testing\n",
    "model = model = LogisticRegression()\n",
    "model.fit(df_x_6_train, df_y_6_train)\n",
    "predictions = model.predict(df_x_6_test)\n",
    "accuracy = accuracy_score(df_y_6_test, predictions)\n",
    "roc_auc = roc_auc_score(df_y_6_test, predictions)\n",
    "f1 = f1_score(df_y_6_test, predictions)\n",
    "    \n",
    "print(f\"Accuracy: {accuracy}\")\n",
    "print(f\"ROC-AUC: {roc_auc}\")\n",
    "print(f\"F1-score: {f1}\")\n",
    "# not bad"
   ]
  },
  {
   "cell_type": "code",
   "execution_count": 126,
   "metadata": {},
   "outputs": [
    {
     "name": "stdout",
     "output_type": "stream",
     "text": [
      "KNeighborsClassifier()\n",
      "Best parameters from grid search: {'n_neighbors': 5}\n",
      "Accuracy: 0.5177865612648221\n",
      "ROC-AUC: 0.5180602424696913\n",
      "F1-score: 0.4830508474576271\n"
     ]
    }
   ],
   "source": [
    "from sklearn.neighbors import KNeighborsClassifier\n",
    "grid_params = {'n_neighbors': [1, 2, 3, 4, 5, 10, 20, 50]}\n",
    "model = KNeighborsClassifier()\n",
    "knn_pred, knn_acc, knn_roc_auc,knn_f1, knn_feat_imp = cv_and_predict_valid(df_x_6_train,df_y_6_train, model, grid_search=True, grid_parameters=grid_params)\n"
   ]
  },
  {
   "cell_type": "code",
   "execution_count": 127,
   "metadata": {},
   "outputs": [
    {
     "name": "stdout",
     "output_type": "stream",
     "text": [
      "Accuracy: 0.5224215246636771\n",
      "ROC-AUC: 0.5262377735202178\n",
      "F1-score: 0.5011709601873536\n"
     ]
    }
   ],
   "source": [
    "# testing\n",
    "model = model = KNeighborsClassifier(n_neighbors=5)\n",
    "model.fit(df_x_6_train, df_y_6_train)\n",
    "predictions = model.predict(df_x_6_test)\n",
    "accuracy = accuracy_score(df_y_6_test, predictions)\n",
    "roc_auc = roc_auc_score(df_y_6_test, predictions)\n",
    "f1 = f1_score(df_y_6_test, predictions)\n",
    "    \n",
    "print(f\"Accuracy: {accuracy}\")\n",
    "print(f\"ROC-AUC: {roc_auc}\")\n",
    "print(f\"F1-score: {f1}\")\n",
    "# not bad"
   ]
  },
  {
   "cell_type": "code",
   "execution_count": null,
   "metadata": {},
   "outputs": [],
   "source": []
  },
  {
   "cell_type": "code",
   "execution_count": null,
   "metadata": {},
   "outputs": [],
   "source": []
  },
  {
   "cell_type": "markdown",
   "metadata": {},
   "source": [
    "# All sentiments with lags"
   ]
  },
  {
   "cell_type": "code",
   "execution_count": 128,
   "metadata": {},
   "outputs": [
    {
     "data": {
      "text/html": [
       "<div>\n",
       "<style scoped>\n",
       "    .dataframe tbody tr th:only-of-type {\n",
       "        vertical-align: middle;\n",
       "    }\n",
       "\n",
       "    .dataframe tbody tr th {\n",
       "        vertical-align: top;\n",
       "    }\n",
       "\n",
       "    .dataframe thead th {\n",
       "        text-align: right;\n",
       "    }\n",
       "</style>\n",
       "<table border=\"1\" class=\"dataframe\">\n",
       "  <thead>\n",
       "    <tr style=\"text-align: right;\">\n",
       "      <th></th>\n",
       "      <th>Date_15m</th>\n",
       "      <th>datetime</th>\n",
       "      <th>text</th>\n",
       "      <th>username</th>\n",
       "      <th>kk08_pos_score</th>\n",
       "      <th>kk08_score_diff</th>\n",
       "      <th>Elkulako_label</th>\n",
       "      <th>Sentiment_vader</th>\n",
       "      <th>pred</th>\n",
       "      <th>analysis</th>\n",
       "      <th>...</th>\n",
       "      <th>Return_sign</th>\n",
       "      <th>kk08_pos_score_lag1</th>\n",
       "      <th>kk08_pos_score_lag2</th>\n",
       "      <th>kk08_pos_score_lag3</th>\n",
       "      <th>Sentiment_vader_lag1</th>\n",
       "      <th>Sentiment_vader_lag2</th>\n",
       "      <th>Sentiment_vader_lag3</th>\n",
       "      <th>Elkulako_label_lag1</th>\n",
       "      <th>Elkulako_label_lag2</th>\n",
       "      <th>Elkulako_label_lag3</th>\n",
       "    </tr>\n",
       "  </thead>\n",
       "  <tbody>\n",
       "    <tr>\n",
       "      <th>0</th>\n",
       "      <td>2022-01-01 00:15:00</td>\n",
       "      <td>['2022-01-01 00:00:00', '2022-01-01 00:00:00',...</td>\n",
       "      <td>Current Price of Bitcoin:\\n$46320 (-1.85%)\\n\\n...</td>\n",
       "      <td>CryptoNerdApp\\nTrendSpider\\nMadStudentScie1\\nW...</td>\n",
       "      <td>0.816322</td>\n",
       "      <td>0.632644</td>\n",
       "      <td>0.342175</td>\n",
       "      <td>0.161173</td>\n",
       "      <td>11</td>\n",
       "      <td>4</td>\n",
       "      <td>...</td>\n",
       "      <td>1</td>\n",
       "      <td>NaN</td>\n",
       "      <td>NaN</td>\n",
       "      <td>NaN</td>\n",
       "      <td>NaN</td>\n",
       "      <td>NaN</td>\n",
       "      <td>NaN</td>\n",
       "      <td>NaN</td>\n",
       "      <td>NaN</td>\n",
       "      <td>NaN</td>\n",
       "    </tr>\n",
       "    <tr>\n",
       "      <th>1</th>\n",
       "      <td>2022-01-01 00:30:00</td>\n",
       "      <td>['2022-01-01 00:15:01', '2022-01-01 00:15:05',...</td>\n",
       "      <td>The current price of Bitcoin is $46453.00.\\nTh...</td>\n",
       "      <td>big_blockers\\nbmurphypointman\\nButterLemonBot\\...</td>\n",
       "      <td>0.716851</td>\n",
       "      <td>0.433702</td>\n",
       "      <td>0.305638</td>\n",
       "      <td>0.136947</td>\n",
       "      <td>9</td>\n",
       "      <td>42</td>\n",
       "      <td>...</td>\n",
       "      <td>1</td>\n",
       "      <td>0.816322</td>\n",
       "      <td>NaN</td>\n",
       "      <td>NaN</td>\n",
       "      <td>0.161173</td>\n",
       "      <td>NaN</td>\n",
       "      <td>NaN</td>\n",
       "      <td>0.342175</td>\n",
       "      <td>NaN</td>\n",
       "      <td>NaN</td>\n",
       "    </tr>\n",
       "    <tr>\n",
       "      <th>2</th>\n",
       "      <td>2022-01-01 00:45:00</td>\n",
       "      <td>['2022-01-01 00:30:00', '2022-01-01 00:30:01',...</td>\n",
       "      <td>“Here's to a bright New Year and a fond farewe...</td>\n",
       "      <td>bitcoiva\\ncryptozone007\\nlinuxadvocate\\nbakedn...</td>\n",
       "      <td>0.725069</td>\n",
       "      <td>0.450138</td>\n",
       "      <td>0.438272</td>\n",
       "      <td>0.172915</td>\n",
       "      <td>9</td>\n",
       "      <td>15</td>\n",
       "      <td>...</td>\n",
       "      <td>1</td>\n",
       "      <td>0.716851</td>\n",
       "      <td>0.816322</td>\n",
       "      <td>NaN</td>\n",
       "      <td>0.136947</td>\n",
       "      <td>0.161173</td>\n",
       "      <td>NaN</td>\n",
       "      <td>0.305638</td>\n",
       "      <td>0.342175</td>\n",
       "      <td>NaN</td>\n",
       "    </tr>\n",
       "    <tr>\n",
       "      <th>3</th>\n",
       "      <td>2022-01-01 01:00:00</td>\n",
       "      <td>['2022-01-01 00:45:02', '2022-01-01 00:45:04',...</td>\n",
       "      <td>#Bitcoin $BTC \\nPrice: $46,630.10\\n\\nAreas of ...</td>\n",
       "      <td>DCA_Cryptoz\\nbidcoindad\\ncoinok\\nbmurphypointm...</td>\n",
       "      <td>0.756357</td>\n",
       "      <td>0.512714</td>\n",
       "      <td>0.381818</td>\n",
       "      <td>0.178866</td>\n",
       "      <td>5</td>\n",
       "      <td>11</td>\n",
       "      <td>...</td>\n",
       "      <td>1</td>\n",
       "      <td>0.725069</td>\n",
       "      <td>0.716851</td>\n",
       "      <td>0.816322</td>\n",
       "      <td>0.172915</td>\n",
       "      <td>0.136947</td>\n",
       "      <td>0.161173</td>\n",
       "      <td>0.438272</td>\n",
       "      <td>0.305638</td>\n",
       "      <td>0.342175</td>\n",
       "    </tr>\n",
       "    <tr>\n",
       "      <th>4</th>\n",
       "      <td>2022-01-01 01:15:00</td>\n",
       "      <td>['2022-01-01 01:00:00', '2022-01-01 01:00:00',...</td>\n",
       "      <td>Today's Cryptocurrency Fear And Greed Index: 2...</td>\n",
       "      <td>FearAndGreedBot\\nOfficialOverbit\\nBTC_AI_bot\\n...</td>\n",
       "      <td>0.770306</td>\n",
       "      <td>0.540612</td>\n",
       "      <td>0.343195</td>\n",
       "      <td>0.143037</td>\n",
       "      <td>6</td>\n",
       "      <td>13</td>\n",
       "      <td>...</td>\n",
       "      <td>1</td>\n",
       "      <td>0.756357</td>\n",
       "      <td>0.725069</td>\n",
       "      <td>0.716851</td>\n",
       "      <td>0.178866</td>\n",
       "      <td>0.172915</td>\n",
       "      <td>0.136947</td>\n",
       "      <td>0.381818</td>\n",
       "      <td>0.438272</td>\n",
       "      <td>0.305638</td>\n",
       "    </tr>\n",
       "    <tr>\n",
       "      <th>...</th>\n",
       "      <td>...</td>\n",
       "      <td>...</td>\n",
       "      <td>...</td>\n",
       "      <td>...</td>\n",
       "      <td>...</td>\n",
       "      <td>...</td>\n",
       "      <td>...</td>\n",
       "      <td>...</td>\n",
       "      <td>...</td>\n",
       "      <td>...</td>\n",
       "      <td>...</td>\n",
       "      <td>...</td>\n",
       "      <td>...</td>\n",
       "      <td>...</td>\n",
       "      <td>...</td>\n",
       "      <td>...</td>\n",
       "      <td>...</td>\n",
       "      <td>...</td>\n",
       "      <td>...</td>\n",
       "      <td>...</td>\n",
       "      <td>...</td>\n",
       "    </tr>\n",
       "    <tr>\n",
       "      <th>2971</th>\n",
       "      <td>2022-01-31 23:00:00</td>\n",
       "      <td>['2022-01-31 22:45:00', '2022-01-31 22:45:01',...</td>\n",
       "      <td>NFL Stars and Politicians' Bet in Bitcoin Turn...</td>\n",
       "      <td>got_eth\\nzero_2_nothing\\nNewsCryptoBot\\nJamesW...</td>\n",
       "      <td>0.771425</td>\n",
       "      <td>0.542850</td>\n",
       "      <td>0.209877</td>\n",
       "      <td>0.167436</td>\n",
       "      <td>1</td>\n",
       "      <td>4</td>\n",
       "      <td>...</td>\n",
       "      <td>1</td>\n",
       "      <td>0.780470</td>\n",
       "      <td>0.790736</td>\n",
       "      <td>0.812888</td>\n",
       "      <td>0.171507</td>\n",
       "      <td>0.120725</td>\n",
       "      <td>0.163388</td>\n",
       "      <td>0.202857</td>\n",
       "      <td>0.214076</td>\n",
       "      <td>0.241458</td>\n",
       "    </tr>\n",
       "    <tr>\n",
       "      <th>2972</th>\n",
       "      <td>2022-01-31 23:15:00</td>\n",
       "      <td>['2022-01-31 23:00:00', '2022-01-31 23:00:00',...</td>\n",
       "      <td>Top #Cryptocurrency RANK DOWN (#crypto #bitcoi...</td>\n",
       "      <td>CryptoTopCharts\\nBTC_AI_bot\\ncryptonewsleak\\nt...</td>\n",
       "      <td>0.779117</td>\n",
       "      <td>0.558234</td>\n",
       "      <td>0.263158</td>\n",
       "      <td>0.161682</td>\n",
       "      <td>4</td>\n",
       "      <td>4</td>\n",
       "      <td>...</td>\n",
       "      <td>0</td>\n",
       "      <td>0.771425</td>\n",
       "      <td>0.780470</td>\n",
       "      <td>0.790736</td>\n",
       "      <td>0.167436</td>\n",
       "      <td>0.171507</td>\n",
       "      <td>0.120725</td>\n",
       "      <td>0.209877</td>\n",
       "      <td>0.202857</td>\n",
       "      <td>0.214076</td>\n",
       "    </tr>\n",
       "    <tr>\n",
       "      <th>2973</th>\n",
       "      <td>2022-01-31 23:30:00</td>\n",
       "      <td>['2022-01-31 23:15:00', '2022-01-31 23:15:00',...</td>\n",
       "      <td>Why are people buying #Bitcoin? Why are they a...</td>\n",
       "      <td>ForwardGroupMS\\nThomasBakerMS\\nbig_blockers\\nb...</td>\n",
       "      <td>0.783670</td>\n",
       "      <td>0.567341</td>\n",
       "      <td>0.278592</td>\n",
       "      <td>0.161257</td>\n",
       "      <td>5</td>\n",
       "      <td>6</td>\n",
       "      <td>...</td>\n",
       "      <td>0</td>\n",
       "      <td>0.779117</td>\n",
       "      <td>0.771425</td>\n",
       "      <td>0.780470</td>\n",
       "      <td>0.161682</td>\n",
       "      <td>0.167436</td>\n",
       "      <td>0.171507</td>\n",
       "      <td>0.263158</td>\n",
       "      <td>0.209877</td>\n",
       "      <td>0.202857</td>\n",
       "    </tr>\n",
       "    <tr>\n",
       "      <th>2974</th>\n",
       "      <td>2022-01-31 23:45:00</td>\n",
       "      <td>['2022-01-31 23:30:01', '2022-01-31 23:30:02',...</td>\n",
       "      <td>Bitcoin On Its Way To $500,000? Anthony Scaram...</td>\n",
       "      <td>OutlawBuckeye\\nSifHomes\\nitvc_\\nRaulGlzC\\nTheM...</td>\n",
       "      <td>0.769362</td>\n",
       "      <td>0.538723</td>\n",
       "      <td>0.240642</td>\n",
       "      <td>0.110640</td>\n",
       "      <td>3</td>\n",
       "      <td>4</td>\n",
       "      <td>...</td>\n",
       "      <td>1</td>\n",
       "      <td>0.783670</td>\n",
       "      <td>0.779117</td>\n",
       "      <td>0.771425</td>\n",
       "      <td>0.161257</td>\n",
       "      <td>0.161682</td>\n",
       "      <td>0.167436</td>\n",
       "      <td>0.278592</td>\n",
       "      <td>0.263158</td>\n",
       "      <td>0.209877</td>\n",
       "    </tr>\n",
       "    <tr>\n",
       "      <th>2975</th>\n",
       "      <td>2022-02-01 00:00:00</td>\n",
       "      <td>['2022-01-31 23:45:02', '2022-01-31 23:45:02',...</td>\n",
       "      <td>Bitcoin loses $48K on Wall Street open as trad...</td>\n",
       "      <td>MilaPlayporn\\nNewsCryptoBot\\nthomastthai\\nnews...</td>\n",
       "      <td>0.741804</td>\n",
       "      <td>0.483609</td>\n",
       "      <td>0.243386</td>\n",
       "      <td>0.170778</td>\n",
       "      <td>4</td>\n",
       "      <td>5</td>\n",
       "      <td>...</td>\n",
       "      <td>1</td>\n",
       "      <td>0.769362</td>\n",
       "      <td>0.783670</td>\n",
       "      <td>0.779117</td>\n",
       "      <td>0.110640</td>\n",
       "      <td>0.161257</td>\n",
       "      <td>0.161682</td>\n",
       "      <td>0.240642</td>\n",
       "      <td>0.278592</td>\n",
       "      <td>0.263158</td>\n",
       "    </tr>\n",
       "  </tbody>\n",
       "</table>\n",
       "<p>2976 rows × 40 columns</p>\n",
       "</div>"
      ],
      "text/plain": [
       "                 Date_15m                                           datetime  \\\n",
       "0     2022-01-01 00:15:00  ['2022-01-01 00:00:00', '2022-01-01 00:00:00',...   \n",
       "1     2022-01-01 00:30:00  ['2022-01-01 00:15:01', '2022-01-01 00:15:05',...   \n",
       "2     2022-01-01 00:45:00  ['2022-01-01 00:30:00', '2022-01-01 00:30:01',...   \n",
       "3     2022-01-01 01:00:00  ['2022-01-01 00:45:02', '2022-01-01 00:45:04',...   \n",
       "4     2022-01-01 01:15:00  ['2022-01-01 01:00:00', '2022-01-01 01:00:00',...   \n",
       "...                   ...                                                ...   \n",
       "2971  2022-01-31 23:00:00  ['2022-01-31 22:45:00', '2022-01-31 22:45:01',...   \n",
       "2972  2022-01-31 23:15:00  ['2022-01-31 23:00:00', '2022-01-31 23:00:00',...   \n",
       "2973  2022-01-31 23:30:00  ['2022-01-31 23:15:00', '2022-01-31 23:15:00',...   \n",
       "2974  2022-01-31 23:45:00  ['2022-01-31 23:30:01', '2022-01-31 23:30:02',...   \n",
       "2975  2022-02-01 00:00:00  ['2022-01-31 23:45:02', '2022-01-31 23:45:02',...   \n",
       "\n",
       "                                                   text  \\\n",
       "0     Current Price of Bitcoin:\\n$46320 (-1.85%)\\n\\n...   \n",
       "1     The current price of Bitcoin is $46453.00.\\nTh...   \n",
       "2     “Here's to a bright New Year and a fond farewe...   \n",
       "3     #Bitcoin $BTC \\nPrice: $46,630.10\\n\\nAreas of ...   \n",
       "4     Today's Cryptocurrency Fear And Greed Index: 2...   \n",
       "...                                                 ...   \n",
       "2971  NFL Stars and Politicians' Bet in Bitcoin Turn...   \n",
       "2972  Top #Cryptocurrency RANK DOWN (#crypto #bitcoi...   \n",
       "2973  Why are people buying #Bitcoin? Why are they a...   \n",
       "2974  Bitcoin On Its Way To $500,000? Anthony Scaram...   \n",
       "2975  Bitcoin loses $48K on Wall Street open as trad...   \n",
       "\n",
       "                                               username  kk08_pos_score  \\\n",
       "0     CryptoNerdApp\\nTrendSpider\\nMadStudentScie1\\nW...        0.816322   \n",
       "1     big_blockers\\nbmurphypointman\\nButterLemonBot\\...        0.716851   \n",
       "2     bitcoiva\\ncryptozone007\\nlinuxadvocate\\nbakedn...        0.725069   \n",
       "3     DCA_Cryptoz\\nbidcoindad\\ncoinok\\nbmurphypointm...        0.756357   \n",
       "4     FearAndGreedBot\\nOfficialOverbit\\nBTC_AI_bot\\n...        0.770306   \n",
       "...                                                 ...             ...   \n",
       "2971  got_eth\\nzero_2_nothing\\nNewsCryptoBot\\nJamesW...        0.771425   \n",
       "2972  CryptoTopCharts\\nBTC_AI_bot\\ncryptonewsleak\\nt...        0.779117   \n",
       "2973  ForwardGroupMS\\nThomasBakerMS\\nbig_blockers\\nb...        0.783670   \n",
       "2974  OutlawBuckeye\\nSifHomes\\nitvc_\\nRaulGlzC\\nTheM...        0.769362   \n",
       "2975  MilaPlayporn\\nNewsCryptoBot\\nthomastthai\\nnews...        0.741804   \n",
       "\n",
       "      kk08_score_diff  Elkulako_label  Sentiment_vader  pred  analysis  ...  \\\n",
       "0            0.632644        0.342175         0.161173    11         4  ...   \n",
       "1            0.433702        0.305638         0.136947     9        42  ...   \n",
       "2            0.450138        0.438272         0.172915     9        15  ...   \n",
       "3            0.512714        0.381818         0.178866     5        11  ...   \n",
       "4            0.540612        0.343195         0.143037     6        13  ...   \n",
       "...               ...             ...              ...   ...       ...  ...   \n",
       "2971         0.542850        0.209877         0.167436     1         4  ...   \n",
       "2972         0.558234        0.263158         0.161682     4         4  ...   \n",
       "2973         0.567341        0.278592         0.161257     5         6  ...   \n",
       "2974         0.538723        0.240642         0.110640     3         4  ...   \n",
       "2975         0.483609        0.243386         0.170778     4         5  ...   \n",
       "\n",
       "      Return_sign  kk08_pos_score_lag1  kk08_pos_score_lag2  \\\n",
       "0               1                  NaN                  NaN   \n",
       "1               1             0.816322                  NaN   \n",
       "2               1             0.716851             0.816322   \n",
       "3               1             0.725069             0.716851   \n",
       "4               1             0.756357             0.725069   \n",
       "...           ...                  ...                  ...   \n",
       "2971            1             0.780470             0.790736   \n",
       "2972            0             0.771425             0.780470   \n",
       "2973            0             0.779117             0.771425   \n",
       "2974            1             0.783670             0.779117   \n",
       "2975            1             0.769362             0.783670   \n",
       "\n",
       "      kk08_pos_score_lag3  Sentiment_vader_lag1  Sentiment_vader_lag2  \\\n",
       "0                     NaN                   NaN                   NaN   \n",
       "1                     NaN              0.161173                   NaN   \n",
       "2                     NaN              0.136947              0.161173   \n",
       "3                0.816322              0.172915              0.136947   \n",
       "4                0.716851              0.178866              0.172915   \n",
       "...                   ...                   ...                   ...   \n",
       "2971             0.812888              0.171507              0.120725   \n",
       "2972             0.790736              0.167436              0.171507   \n",
       "2973             0.780470              0.161682              0.167436   \n",
       "2974             0.771425              0.161257              0.161682   \n",
       "2975             0.779117              0.110640              0.161257   \n",
       "\n",
       "      Sentiment_vader_lag3  Elkulako_label_lag1  Elkulako_label_lag2  \\\n",
       "0                      NaN                  NaN                  NaN   \n",
       "1                      NaN             0.342175                  NaN   \n",
       "2                      NaN             0.305638             0.342175   \n",
       "3                 0.161173             0.438272             0.305638   \n",
       "4                 0.136947             0.381818             0.438272   \n",
       "...                    ...                  ...                  ...   \n",
       "2971              0.163388             0.202857             0.214076   \n",
       "2972              0.120725             0.209877             0.202857   \n",
       "2973              0.171507             0.263158             0.209877   \n",
       "2974              0.167436             0.278592             0.263158   \n",
       "2975              0.161682             0.240642             0.278592   \n",
       "\n",
       "      Elkulako_label_lag3  \n",
       "0                     NaN  \n",
       "1                     NaN  \n",
       "2                     NaN  \n",
       "3                0.342175  \n",
       "4                0.305638  \n",
       "...                   ...  \n",
       "2971             0.241458  \n",
       "2972             0.214076  \n",
       "2973             0.202857  \n",
       "2974             0.209877  \n",
       "2975             0.263158  \n",
       "\n",
       "[2976 rows x 40 columns]"
      ]
     },
     "execution_count": 128,
     "metadata": {},
     "output_type": "execute_result"
    }
   ],
   "source": [
    "df"
   ]
  },
  {
   "cell_type": "code",
   "execution_count": 129,
   "metadata": {},
   "outputs": [
    {
     "data": {
      "text/html": [
       "<div>\n",
       "<style scoped>\n",
       "    .dataframe tbody tr th:only-of-type {\n",
       "        vertical-align: middle;\n",
       "    }\n",
       "\n",
       "    .dataframe tbody tr th {\n",
       "        vertical-align: top;\n",
       "    }\n",
       "\n",
       "    .dataframe thead th {\n",
       "        text-align: right;\n",
       "    }\n",
       "</style>\n",
       "<table border=\"1\" class=\"dataframe\">\n",
       "  <thead>\n",
       "    <tr style=\"text-align: right;\">\n",
       "      <th></th>\n",
       "      <th>kk08_pos_score</th>\n",
       "      <th>kk08_pos_score_lag1</th>\n",
       "      <th>kk08_pos_score_lag2</th>\n",
       "      <th>kk08_pos_score_lag3</th>\n",
       "      <th>Sentiment_vader</th>\n",
       "      <th>Sentiment_vader_lag1</th>\n",
       "      <th>Sentiment_vader_lag2</th>\n",
       "      <th>Sentiment_vader_lag3</th>\n",
       "      <th>Elkulako_label</th>\n",
       "      <th>Elkulako_label_lag1</th>\n",
       "      <th>Elkulako_label_lag2</th>\n",
       "      <th>Elkulako_label_lag3</th>\n",
       "    </tr>\n",
       "  </thead>\n",
       "  <tbody>\n",
       "    <tr>\n",
       "      <th>0</th>\n",
       "      <td>0.756357</td>\n",
       "      <td>0.725069</td>\n",
       "      <td>0.716851</td>\n",
       "      <td>0.816322</td>\n",
       "      <td>0.178866</td>\n",
       "      <td>0.172915</td>\n",
       "      <td>0.136947</td>\n",
       "      <td>0.161173</td>\n",
       "      <td>0.381818</td>\n",
       "      <td>0.438272</td>\n",
       "      <td>0.305638</td>\n",
       "      <td>0.342175</td>\n",
       "    </tr>\n",
       "    <tr>\n",
       "      <th>1</th>\n",
       "      <td>0.770306</td>\n",
       "      <td>0.756357</td>\n",
       "      <td>0.725069</td>\n",
       "      <td>0.716851</td>\n",
       "      <td>0.143037</td>\n",
       "      <td>0.178866</td>\n",
       "      <td>0.172915</td>\n",
       "      <td>0.136947</td>\n",
       "      <td>0.343195</td>\n",
       "      <td>0.381818</td>\n",
       "      <td>0.438272</td>\n",
       "      <td>0.305638</td>\n",
       "    </tr>\n",
       "    <tr>\n",
       "      <th>2</th>\n",
       "      <td>0.765516</td>\n",
       "      <td>0.770306</td>\n",
       "      <td>0.756357</td>\n",
       "      <td>0.725069</td>\n",
       "      <td>0.168293</td>\n",
       "      <td>0.143037</td>\n",
       "      <td>0.178866</td>\n",
       "      <td>0.172915</td>\n",
       "      <td>0.358209</td>\n",
       "      <td>0.343195</td>\n",
       "      <td>0.381818</td>\n",
       "      <td>0.438272</td>\n",
       "    </tr>\n",
       "    <tr>\n",
       "      <th>3</th>\n",
       "      <td>0.768058</td>\n",
       "      <td>0.765516</td>\n",
       "      <td>0.770306</td>\n",
       "      <td>0.756357</td>\n",
       "      <td>0.201061</td>\n",
       "      <td>0.168293</td>\n",
       "      <td>0.143037</td>\n",
       "      <td>0.178866</td>\n",
       "      <td>0.323529</td>\n",
       "      <td>0.358209</td>\n",
       "      <td>0.343195</td>\n",
       "      <td>0.381818</td>\n",
       "    </tr>\n",
       "    <tr>\n",
       "      <th>4</th>\n",
       "      <td>0.805194</td>\n",
       "      <td>0.768058</td>\n",
       "      <td>0.765516</td>\n",
       "      <td>0.770306</td>\n",
       "      <td>0.199579</td>\n",
       "      <td>0.201061</td>\n",
       "      <td>0.168293</td>\n",
       "      <td>0.143037</td>\n",
       "      <td>0.345455</td>\n",
       "      <td>0.323529</td>\n",
       "      <td>0.358209</td>\n",
       "      <td>0.343195</td>\n",
       "    </tr>\n",
       "    <tr>\n",
       "      <th>...</th>\n",
       "      <td>...</td>\n",
       "      <td>...</td>\n",
       "      <td>...</td>\n",
       "      <td>...</td>\n",
       "      <td>...</td>\n",
       "      <td>...</td>\n",
       "      <td>...</td>\n",
       "      <td>...</td>\n",
       "      <td>...</td>\n",
       "      <td>...</td>\n",
       "      <td>...</td>\n",
       "      <td>...</td>\n",
       "    </tr>\n",
       "    <tr>\n",
       "      <th>2968</th>\n",
       "      <td>0.771425</td>\n",
       "      <td>0.780470</td>\n",
       "      <td>0.790736</td>\n",
       "      <td>0.812888</td>\n",
       "      <td>0.167436</td>\n",
       "      <td>0.171507</td>\n",
       "      <td>0.120725</td>\n",
       "      <td>0.163388</td>\n",
       "      <td>0.209877</td>\n",
       "      <td>0.202857</td>\n",
       "      <td>0.214076</td>\n",
       "      <td>0.241458</td>\n",
       "    </tr>\n",
       "    <tr>\n",
       "      <th>2969</th>\n",
       "      <td>0.779117</td>\n",
       "      <td>0.771425</td>\n",
       "      <td>0.780470</td>\n",
       "      <td>0.790736</td>\n",
       "      <td>0.161682</td>\n",
       "      <td>0.167436</td>\n",
       "      <td>0.171507</td>\n",
       "      <td>0.120725</td>\n",
       "      <td>0.263158</td>\n",
       "      <td>0.209877</td>\n",
       "      <td>0.202857</td>\n",
       "      <td>0.214076</td>\n",
       "    </tr>\n",
       "    <tr>\n",
       "      <th>2970</th>\n",
       "      <td>0.783670</td>\n",
       "      <td>0.779117</td>\n",
       "      <td>0.771425</td>\n",
       "      <td>0.780470</td>\n",
       "      <td>0.161257</td>\n",
       "      <td>0.161682</td>\n",
       "      <td>0.167436</td>\n",
       "      <td>0.171507</td>\n",
       "      <td>0.278592</td>\n",
       "      <td>0.263158</td>\n",
       "      <td>0.209877</td>\n",
       "      <td>0.202857</td>\n",
       "    </tr>\n",
       "    <tr>\n",
       "      <th>2971</th>\n",
       "      <td>0.769362</td>\n",
       "      <td>0.783670</td>\n",
       "      <td>0.779117</td>\n",
       "      <td>0.771425</td>\n",
       "      <td>0.110640</td>\n",
       "      <td>0.161257</td>\n",
       "      <td>0.161682</td>\n",
       "      <td>0.167436</td>\n",
       "      <td>0.240642</td>\n",
       "      <td>0.278592</td>\n",
       "      <td>0.263158</td>\n",
       "      <td>0.209877</td>\n",
       "    </tr>\n",
       "    <tr>\n",
       "      <th>2972</th>\n",
       "      <td>0.741804</td>\n",
       "      <td>0.769362</td>\n",
       "      <td>0.783670</td>\n",
       "      <td>0.779117</td>\n",
       "      <td>0.170778</td>\n",
       "      <td>0.110640</td>\n",
       "      <td>0.161257</td>\n",
       "      <td>0.161682</td>\n",
       "      <td>0.243386</td>\n",
       "      <td>0.240642</td>\n",
       "      <td>0.278592</td>\n",
       "      <td>0.263158</td>\n",
       "    </tr>\n",
       "  </tbody>\n",
       "</table>\n",
       "<p>2973 rows × 12 columns</p>\n",
       "</div>"
      ],
      "text/plain": [
       "      kk08_pos_score  kk08_pos_score_lag1  kk08_pos_score_lag2  \\\n",
       "0           0.756357             0.725069             0.716851   \n",
       "1           0.770306             0.756357             0.725069   \n",
       "2           0.765516             0.770306             0.756357   \n",
       "3           0.768058             0.765516             0.770306   \n",
       "4           0.805194             0.768058             0.765516   \n",
       "...              ...                  ...                  ...   \n",
       "2968        0.771425             0.780470             0.790736   \n",
       "2969        0.779117             0.771425             0.780470   \n",
       "2970        0.783670             0.779117             0.771425   \n",
       "2971        0.769362             0.783670             0.779117   \n",
       "2972        0.741804             0.769362             0.783670   \n",
       "\n",
       "      kk08_pos_score_lag3  Sentiment_vader  Sentiment_vader_lag1  \\\n",
       "0                0.816322         0.178866              0.172915   \n",
       "1                0.716851         0.143037              0.178866   \n",
       "2                0.725069         0.168293              0.143037   \n",
       "3                0.756357         0.201061              0.168293   \n",
       "4                0.770306         0.199579              0.201061   \n",
       "...                   ...              ...                   ...   \n",
       "2968             0.812888         0.167436              0.171507   \n",
       "2969             0.790736         0.161682              0.167436   \n",
       "2970             0.780470         0.161257              0.161682   \n",
       "2971             0.771425         0.110640              0.161257   \n",
       "2972             0.779117         0.170778              0.110640   \n",
       "\n",
       "      Sentiment_vader_lag2  Sentiment_vader_lag3  Elkulako_label  \\\n",
       "0                 0.136947              0.161173        0.381818   \n",
       "1                 0.172915              0.136947        0.343195   \n",
       "2                 0.178866              0.172915        0.358209   \n",
       "3                 0.143037              0.178866        0.323529   \n",
       "4                 0.168293              0.143037        0.345455   \n",
       "...                    ...                   ...             ...   \n",
       "2968              0.120725              0.163388        0.209877   \n",
       "2969              0.171507              0.120725        0.263158   \n",
       "2970              0.167436              0.171507        0.278592   \n",
       "2971              0.161682              0.167436        0.240642   \n",
       "2972              0.161257              0.161682        0.243386   \n",
       "\n",
       "      Elkulako_label_lag1  Elkulako_label_lag2  Elkulako_label_lag3  \n",
       "0                0.438272             0.305638             0.342175  \n",
       "1                0.381818             0.438272             0.305638  \n",
       "2                0.343195             0.381818             0.438272  \n",
       "3                0.358209             0.343195             0.381818  \n",
       "4                0.323529             0.358209             0.343195  \n",
       "...                   ...                  ...                  ...  \n",
       "2968             0.202857             0.214076             0.241458  \n",
       "2969             0.209877             0.202857             0.214076  \n",
       "2970             0.263158             0.209877             0.202857  \n",
       "2971             0.278592             0.263158             0.209877  \n",
       "2972             0.240642             0.278592             0.263158  \n",
       "\n",
       "[2973 rows x 12 columns]"
      ]
     },
     "execution_count": 129,
     "metadata": {},
     "output_type": "execute_result"
    }
   ],
   "source": [
    "pd.concat([df_x_2, df_x_4, df_x_6], axis =1)"
   ]
  },
  {
   "cell_type": "code",
   "execution_count": 130,
   "metadata": {},
   "outputs": [],
   "source": [
    "df_x_all = pd.concat([df_x_2, df_x_4, df_x_6], axis =1)\n",
    "df_y_all = df[\"Return_sign\"].iloc[3:].reset_index(drop=True)"
   ]
  },
  {
   "cell_type": "code",
   "execution_count": 131,
   "metadata": {},
   "outputs": [
    {
     "data": {
      "text/html": [
       "<div>\n",
       "<style scoped>\n",
       "    .dataframe tbody tr th:only-of-type {\n",
       "        vertical-align: middle;\n",
       "    }\n",
       "\n",
       "    .dataframe tbody tr th {\n",
       "        vertical-align: top;\n",
       "    }\n",
       "\n",
       "    .dataframe thead th {\n",
       "        text-align: right;\n",
       "    }\n",
       "</style>\n",
       "<table border=\"1\" class=\"dataframe\">\n",
       "  <thead>\n",
       "    <tr style=\"text-align: right;\">\n",
       "      <th></th>\n",
       "      <th>kk08_pos_score</th>\n",
       "      <th>kk08_pos_score_lag1</th>\n",
       "      <th>kk08_pos_score_lag2</th>\n",
       "      <th>kk08_pos_score_lag3</th>\n",
       "      <th>Sentiment_vader</th>\n",
       "      <th>Sentiment_vader_lag1</th>\n",
       "      <th>Sentiment_vader_lag2</th>\n",
       "      <th>Sentiment_vader_lag3</th>\n",
       "      <th>Elkulako_label</th>\n",
       "      <th>Elkulako_label_lag1</th>\n",
       "      <th>Elkulako_label_lag2</th>\n",
       "      <th>Elkulako_label_lag3</th>\n",
       "    </tr>\n",
       "  </thead>\n",
       "  <tbody>\n",
       "    <tr>\n",
       "      <th>0</th>\n",
       "      <td>0.756357</td>\n",
       "      <td>0.725069</td>\n",
       "      <td>0.716851</td>\n",
       "      <td>0.816322</td>\n",
       "      <td>0.178866</td>\n",
       "      <td>0.172915</td>\n",
       "      <td>0.136947</td>\n",
       "      <td>0.161173</td>\n",
       "      <td>0.381818</td>\n",
       "      <td>0.438272</td>\n",
       "      <td>0.305638</td>\n",
       "      <td>0.342175</td>\n",
       "    </tr>\n",
       "    <tr>\n",
       "      <th>1</th>\n",
       "      <td>0.770306</td>\n",
       "      <td>0.756357</td>\n",
       "      <td>0.725069</td>\n",
       "      <td>0.716851</td>\n",
       "      <td>0.143037</td>\n",
       "      <td>0.178866</td>\n",
       "      <td>0.172915</td>\n",
       "      <td>0.136947</td>\n",
       "      <td>0.343195</td>\n",
       "      <td>0.381818</td>\n",
       "      <td>0.438272</td>\n",
       "      <td>0.305638</td>\n",
       "    </tr>\n",
       "    <tr>\n",
       "      <th>2</th>\n",
       "      <td>0.765516</td>\n",
       "      <td>0.770306</td>\n",
       "      <td>0.756357</td>\n",
       "      <td>0.725069</td>\n",
       "      <td>0.168293</td>\n",
       "      <td>0.143037</td>\n",
       "      <td>0.178866</td>\n",
       "      <td>0.172915</td>\n",
       "      <td>0.358209</td>\n",
       "      <td>0.343195</td>\n",
       "      <td>0.381818</td>\n",
       "      <td>0.438272</td>\n",
       "    </tr>\n",
       "    <tr>\n",
       "      <th>3</th>\n",
       "      <td>0.768058</td>\n",
       "      <td>0.765516</td>\n",
       "      <td>0.770306</td>\n",
       "      <td>0.756357</td>\n",
       "      <td>0.201061</td>\n",
       "      <td>0.168293</td>\n",
       "      <td>0.143037</td>\n",
       "      <td>0.178866</td>\n",
       "      <td>0.323529</td>\n",
       "      <td>0.358209</td>\n",
       "      <td>0.343195</td>\n",
       "      <td>0.381818</td>\n",
       "    </tr>\n",
       "    <tr>\n",
       "      <th>4</th>\n",
       "      <td>0.805194</td>\n",
       "      <td>0.768058</td>\n",
       "      <td>0.765516</td>\n",
       "      <td>0.770306</td>\n",
       "      <td>0.199579</td>\n",
       "      <td>0.201061</td>\n",
       "      <td>0.168293</td>\n",
       "      <td>0.143037</td>\n",
       "      <td>0.345455</td>\n",
       "      <td>0.323529</td>\n",
       "      <td>0.358209</td>\n",
       "      <td>0.343195</td>\n",
       "    </tr>\n",
       "    <tr>\n",
       "      <th>...</th>\n",
       "      <td>...</td>\n",
       "      <td>...</td>\n",
       "      <td>...</td>\n",
       "      <td>...</td>\n",
       "      <td>...</td>\n",
       "      <td>...</td>\n",
       "      <td>...</td>\n",
       "      <td>...</td>\n",
       "      <td>...</td>\n",
       "      <td>...</td>\n",
       "      <td>...</td>\n",
       "      <td>...</td>\n",
       "    </tr>\n",
       "    <tr>\n",
       "      <th>2968</th>\n",
       "      <td>0.771425</td>\n",
       "      <td>0.780470</td>\n",
       "      <td>0.790736</td>\n",
       "      <td>0.812888</td>\n",
       "      <td>0.167436</td>\n",
       "      <td>0.171507</td>\n",
       "      <td>0.120725</td>\n",
       "      <td>0.163388</td>\n",
       "      <td>0.209877</td>\n",
       "      <td>0.202857</td>\n",
       "      <td>0.214076</td>\n",
       "      <td>0.241458</td>\n",
       "    </tr>\n",
       "    <tr>\n",
       "      <th>2969</th>\n",
       "      <td>0.779117</td>\n",
       "      <td>0.771425</td>\n",
       "      <td>0.780470</td>\n",
       "      <td>0.790736</td>\n",
       "      <td>0.161682</td>\n",
       "      <td>0.167436</td>\n",
       "      <td>0.171507</td>\n",
       "      <td>0.120725</td>\n",
       "      <td>0.263158</td>\n",
       "      <td>0.209877</td>\n",
       "      <td>0.202857</td>\n",
       "      <td>0.214076</td>\n",
       "    </tr>\n",
       "    <tr>\n",
       "      <th>2970</th>\n",
       "      <td>0.783670</td>\n",
       "      <td>0.779117</td>\n",
       "      <td>0.771425</td>\n",
       "      <td>0.780470</td>\n",
       "      <td>0.161257</td>\n",
       "      <td>0.161682</td>\n",
       "      <td>0.167436</td>\n",
       "      <td>0.171507</td>\n",
       "      <td>0.278592</td>\n",
       "      <td>0.263158</td>\n",
       "      <td>0.209877</td>\n",
       "      <td>0.202857</td>\n",
       "    </tr>\n",
       "    <tr>\n",
       "      <th>2971</th>\n",
       "      <td>0.769362</td>\n",
       "      <td>0.783670</td>\n",
       "      <td>0.779117</td>\n",
       "      <td>0.771425</td>\n",
       "      <td>0.110640</td>\n",
       "      <td>0.161257</td>\n",
       "      <td>0.161682</td>\n",
       "      <td>0.167436</td>\n",
       "      <td>0.240642</td>\n",
       "      <td>0.278592</td>\n",
       "      <td>0.263158</td>\n",
       "      <td>0.209877</td>\n",
       "    </tr>\n",
       "    <tr>\n",
       "      <th>2972</th>\n",
       "      <td>0.741804</td>\n",
       "      <td>0.769362</td>\n",
       "      <td>0.783670</td>\n",
       "      <td>0.779117</td>\n",
       "      <td>0.170778</td>\n",
       "      <td>0.110640</td>\n",
       "      <td>0.161257</td>\n",
       "      <td>0.161682</td>\n",
       "      <td>0.243386</td>\n",
       "      <td>0.240642</td>\n",
       "      <td>0.278592</td>\n",
       "      <td>0.263158</td>\n",
       "    </tr>\n",
       "  </tbody>\n",
       "</table>\n",
       "<p>2973 rows × 12 columns</p>\n",
       "</div>"
      ],
      "text/plain": [
       "      kk08_pos_score  kk08_pos_score_lag1  kk08_pos_score_lag2  \\\n",
       "0           0.756357             0.725069             0.716851   \n",
       "1           0.770306             0.756357             0.725069   \n",
       "2           0.765516             0.770306             0.756357   \n",
       "3           0.768058             0.765516             0.770306   \n",
       "4           0.805194             0.768058             0.765516   \n",
       "...              ...                  ...                  ...   \n",
       "2968        0.771425             0.780470             0.790736   \n",
       "2969        0.779117             0.771425             0.780470   \n",
       "2970        0.783670             0.779117             0.771425   \n",
       "2971        0.769362             0.783670             0.779117   \n",
       "2972        0.741804             0.769362             0.783670   \n",
       "\n",
       "      kk08_pos_score_lag3  Sentiment_vader  Sentiment_vader_lag1  \\\n",
       "0                0.816322         0.178866              0.172915   \n",
       "1                0.716851         0.143037              0.178866   \n",
       "2                0.725069         0.168293              0.143037   \n",
       "3                0.756357         0.201061              0.168293   \n",
       "4                0.770306         0.199579              0.201061   \n",
       "...                   ...              ...                   ...   \n",
       "2968             0.812888         0.167436              0.171507   \n",
       "2969             0.790736         0.161682              0.167436   \n",
       "2970             0.780470         0.161257              0.161682   \n",
       "2971             0.771425         0.110640              0.161257   \n",
       "2972             0.779117         0.170778              0.110640   \n",
       "\n",
       "      Sentiment_vader_lag2  Sentiment_vader_lag3  Elkulako_label  \\\n",
       "0                 0.136947              0.161173        0.381818   \n",
       "1                 0.172915              0.136947        0.343195   \n",
       "2                 0.178866              0.172915        0.358209   \n",
       "3                 0.143037              0.178866        0.323529   \n",
       "4                 0.168293              0.143037        0.345455   \n",
       "...                    ...                   ...             ...   \n",
       "2968              0.120725              0.163388        0.209877   \n",
       "2969              0.171507              0.120725        0.263158   \n",
       "2970              0.167436              0.171507        0.278592   \n",
       "2971              0.161682              0.167436        0.240642   \n",
       "2972              0.161257              0.161682        0.243386   \n",
       "\n",
       "      Elkulako_label_lag1  Elkulako_label_lag2  Elkulako_label_lag3  \n",
       "0                0.438272             0.305638             0.342175  \n",
       "1                0.381818             0.438272             0.305638  \n",
       "2                0.343195             0.381818             0.438272  \n",
       "3                0.358209             0.343195             0.381818  \n",
       "4                0.323529             0.358209             0.343195  \n",
       "...                   ...                  ...                  ...  \n",
       "2968             0.202857             0.214076             0.241458  \n",
       "2969             0.209877             0.202857             0.214076  \n",
       "2970             0.263158             0.209877             0.202857  \n",
       "2971             0.278592             0.263158             0.209877  \n",
       "2972             0.240642             0.278592             0.263158  \n",
       "\n",
       "[2973 rows x 12 columns]"
      ]
     },
     "execution_count": 131,
     "metadata": {},
     "output_type": "execute_result"
    }
   ],
   "source": [
    "df_x_all"
   ]
  },
  {
   "cell_type": "code",
   "execution_count": 132,
   "metadata": {},
   "outputs": [
    {
     "data": {
      "text/plain": [
       "0       1\n",
       "1       1\n",
       "2       0\n",
       "3       1\n",
       "4       1\n",
       "       ..\n",
       "2968    1\n",
       "2969    0\n",
       "2970    0\n",
       "2971    1\n",
       "2972    1\n",
       "Name: Return_sign, Length: 2973, dtype: int64"
      ]
     },
     "execution_count": 132,
     "metadata": {},
     "output_type": "execute_result"
    }
   ],
   "source": [
    "df_y_6"
   ]
  },
  {
   "cell_type": "code",
   "execution_count": 133,
   "metadata": {},
   "outputs": [],
   "source": [
    "train_share = 0.85\n",
    "df_x_all_train = df_x_all.iloc[:int(len(df_x_all)*train_share)].reset_index(drop=True)\n",
    "df_y_all_train = df_y_all.iloc[:int(len(df_x_all)*train_share)].reset_index(drop=True)\n",
    "\n",
    "df_x_all_test = df_x_all.iloc[int(len(df_x_all)*train_share):].reset_index(drop=True)\n",
    "df_y_all_test = df_y_all.iloc[int(len(df_x_all)*train_share):].reset_index(drop=True)"
   ]
  },
  {
   "cell_type": "code",
   "execution_count": 134,
   "metadata": {},
   "outputs": [
    {
     "data": {
      "text/plain": [
       "0.5269058295964125"
      ]
     },
     "execution_count": 134,
     "metadata": {},
     "output_type": "execute_result"
    }
   ],
   "source": [
    "sum(df_y_all_test)/len(df_y_all_test)"
   ]
  },
  {
   "cell_type": "code",
   "execution_count": 135,
   "metadata": {},
   "outputs": [
    {
     "name": "stdout",
     "output_type": "stream",
     "text": [
      "Accuracy: 0.4980237154150198\n",
      "ROC-AUC: 0.5\n",
      "F1-score: 0.0\n"
     ]
    }
   ],
   "source": [
    "from sklearn.dummy import DummyClassifier\n",
    "dummy_model = DummyClassifier(strategy='most_frequent')\n",
    "dummy_pred, dummy_acc, dummy_roc_auc,dummy_f1, dummy_feat_imp= cv_and_predict_valid(df_x_all_train,df_y_all_train,dummy_model)\n"
   ]
  },
  {
   "cell_type": "code",
   "execution_count": 136,
   "metadata": {},
   "outputs": [
    {
     "name": "stdout",
     "output_type": "stream",
     "text": [
      "RandomForestClassifier(n_estimators=10, random_state=17)\n",
      "Best parameters from grid search: {'n_estimators': 10}\n",
      "Accuracy: 0.4901185770750988\n",
      "ROC-AUC: 0.49106361704786905\n",
      "F1-score: 0.3316062176165803\n"
     ]
    }
   ],
   "source": [
    "from sklearn.ensemble import RandomForestClassifier\n",
    "# Random Forest\n",
    "grid_params = {'n_estimators': [5, 10, 20, 50, 100, 300, 500]}\n",
    "rf_model = RandomForestClassifier(random_state=17)\n",
    "rf_pred, rf_acc, rf_roc_auc,rf_f1, rf_feat_imp = cv_and_predict_valid(df_x_all_train,df_y_all_train, rf_model, tree = True, grid_search=True, grid_parameters=grid_params)"
   ]
  },
  {
   "cell_type": "code",
   "execution_count": 137,
   "metadata": {},
   "outputs": [
    {
     "name": "stdout",
     "output_type": "stream",
     "text": [
      "Accuracy: 0.484304932735426\n",
      "ROC-AUC: 0.4907935867701926\n",
      "F1-score: 0.4306930693069307\n"
     ]
    }
   ],
   "source": [
    "# testing\n",
    "model = RandomForestClassifier(n_estimators=10,random_state=17)\n",
    "model.fit(df_x_all_train, df_y_all_train)\n",
    "predictions = model.predict(df_x_all_test)\n",
    "accuracy = accuracy_score(df_y_all_test, predictions)\n",
    "roc_auc = roc_auc_score(df_y_all_test, predictions)\n",
    "f1 = f1_score(df_y_all_test, predictions)\n",
    "    \n",
    "print(f\"Accuracy: {accuracy}\")\n",
    "print(f\"ROC-AUC: {roc_auc}\")\n",
    "print(f\"F1-score: {f1}\")\n"
   ]
  },
  {
   "cell_type": "code",
   "execution_count": 138,
   "metadata": {},
   "outputs": [
    {
     "name": "stdout",
     "output_type": "stream",
     "text": [
      "XGBClassifier(base_score=None, booster=None, callbacks=None,\n",
      "              colsample_bylevel=None, colsample_bynode=None,\n",
      "              colsample_bytree=None, device=None, early_stopping_rounds=None,\n",
      "              enable_categorical=False, eval_metric=None, feature_types=None,\n",
      "              gamma=None, grow_policy=None, importance_type=None,\n",
      "              interaction_constraints=None, learning_rate=None, max_bin=None,\n",
      "              max_cat_threshold=None, max_cat_to_onehot=None,\n",
      "              max_delta_step=None, max_depth=1, max_leaves=None,\n",
      "              min_child_weight=None, missing=nan, monotone_constraints=None,\n",
      "              multi_strategy=None, n_estimators=100, n_jobs=None,\n",
      "              num_parallel_tree=None, random_state=17, ...)\n",
      "Best parameters from grid search: {'max_depth': 1, 'n_estimators': 100}\n",
      "Accuracy: 0.4782608695652174\n",
      "ROC-AUC: 0.47919010123734535\n",
      "F1-score: 0.31958762886597936\n"
     ]
    }
   ],
   "source": [
    "from xgboost import XGBClassifier\n",
    "# XGBoost\n",
    "grid_params = {'n_estimators': [100, 300, 500],\"max_depth\": [1,3,6]}\n",
    "xgb_model = XGBClassifier(random_state=17)\n",
    "xgb_pred, xgb_acc, xgb_roc_auc,xgb_f1, xgb_feat_imp = cv_and_predict_valid(df_x_all_train,df_y_all_train, xgb_model, tree = True, grid_search=True, grid_parameters=grid_params)"
   ]
  },
  {
   "cell_type": "code",
   "execution_count": 139,
   "metadata": {},
   "outputs": [
    {
     "name": "stdout",
     "output_type": "stream",
     "text": [
      "Accuracy: 0.5134529147982063\n",
      "ROC-AUC: 0.5184531612382777\n",
      "F1-score: 0.47961630695443647\n"
     ]
    }
   ],
   "source": [
    "# testing\n",
    "model = XGBClassifier(random_state=17, max_depth = 1, n_estimators= 100)\n",
    "model.fit(df_x_all_train, df_y_all_train)\n",
    "predictions = model.predict(df_x_all_test)\n",
    "accuracy = accuracy_score(df_y_all_test, predictions)\n",
    "roc_auc = roc_auc_score(df_y_all_test, predictions)\n",
    "f1 = f1_score(df_y_all_test, predictions)\n",
    "    \n",
    "print(f\"Accuracy: {accuracy}\")\n",
    "print(f\"ROC-AUC: {roc_auc}\")\n",
    "print(f\"F1-score: {f1}\")\n",
    "# not bad"
   ]
  },
  {
   "cell_type": "code",
   "execution_count": 140,
   "metadata": {},
   "outputs": [
    {
     "name": "stdout",
     "output_type": "stream",
     "text": [
      "SVC(C=1, class_weight='balanced', gamma=1, kernel='poly')\n",
      "Best parameters from grid search: {'C': 1, 'class_weight': 'balanced', 'gamma': 1, 'kernel': 'poly'}\n",
      "Accuracy: 0.4782608695652174\n",
      "ROC-AUC: 0.47890888638920126\n",
      "F1-score: 0.37735849056603776\n"
     ]
    }
   ],
   "source": [
    "from sklearn.svm import SVC\n",
    "# SVM\n",
    "grid_params = {'C': [0.1, 0.3, 0.7, 1],  'kernel': ['poly', 'rbf'], 'gamma': [1, 0.1, 0.01], 'class_weight': ['balanced', None]}\n",
    "svm_model = SVC()\n",
    "svm_pred, svm_acc, svm_roc_auc,svm_f1, svm_feat_imp = cv_and_predict_valid(df_x_all_train,df_y_all_train, svm_model, grid_search=True, grid_parameters=grid_params)\n",
    "# too bad"
   ]
  },
  {
   "cell_type": "code",
   "execution_count": 141,
   "metadata": {},
   "outputs": [
    {
     "name": "stdout",
     "output_type": "stream",
     "text": [
      "Accuracy: 0.46860986547085204\n",
      "ROC-AUC: 0.4691237269335484\n",
      "F1-score: 0.4768211920529801\n"
     ]
    }
   ],
   "source": [
    "# testing\n",
    "model = SVC(C=1, class_weight='balanced', gamma=1)\n",
    "model.fit(df_x_all_train, df_y_all_train)\n",
    "predictions = model.predict(df_x_all_test)\n",
    "accuracy = accuracy_score(df_y_all_test, predictions)\n",
    "roc_auc = roc_auc_score(df_y_all_test, predictions)\n",
    "f1 = f1_score(df_y_all_test, predictions)\n",
    "    \n",
    "print(f\"Accuracy: {accuracy}\")\n",
    "print(f\"ROC-AUC: {roc_auc}\")\n",
    "print(f\"F1-score: {f1}\")"
   ]
  },
  {
   "cell_type": "code",
   "execution_count": 142,
   "metadata": {},
   "outputs": [
    {
     "name": "stderr",
     "output_type": "stream",
     "text": [
      "c:\\Users\\isaen\\AppData\\Local\\Programs\\Python\\Python312\\Lib\\site-packages\\sklearn\\ensemble\\_weight_boosting.py:519: FutureWarning: The SAMME.R algorithm (the default) is deprecated and will be removed in 1.6. Use the SAMME algorithm to circumvent this warning.\n",
      "  warnings.warn(\n"
     ]
    },
    {
     "name": "stdout",
     "output_type": "stream",
     "text": [
      "AdaBoostClassifier(learning_rate=0.3)\n",
      "Best parameters from grid search: {'learning_rate': 0.3, 'n_estimators': 50}\n",
      "Accuracy: 0.5059288537549407\n",
      "ROC-AUC: 0.507092863392076\n",
      "F1-score: 0.3016759776536313\n"
     ]
    }
   ],
   "source": [
    "from sklearn.ensemble import AdaBoostClassifier\n",
    "grid_params = {'n_estimators': [50, 100, 300, 500], 'learning_rate':[0.1, 0.3, 0.5, 1]}\n",
    "model = AdaBoostClassifier()\n",
    "ada_pred, ada_acc, ada_roc_auc,ada_f1, ada_feat_imp = cv_and_predict_valid(df_x_all_train,df_y_all_train, model, tree = True, grid_search=True, grid_parameters = grid_params)\n"
   ]
  },
  {
   "cell_type": "code",
   "execution_count": 143,
   "metadata": {},
   "outputs": [
    {
     "name": "stderr",
     "output_type": "stream",
     "text": [
      "c:\\Users\\isaen\\AppData\\Local\\Programs\\Python\\Python312\\Lib\\site-packages\\sklearn\\ensemble\\_weight_boosting.py:519: FutureWarning: The SAMME.R algorithm (the default) is deprecated and will be removed in 1.6. Use the SAMME algorithm to circumvent this warning.\n",
      "  warnings.warn(\n"
     ]
    },
    {
     "name": "stdout",
     "output_type": "stream",
     "text": [
      "Accuracy: 0.5\n",
      "ROC-AUC: 0.502057073711808\n",
      "F1-score: 0.4943310657596372\n"
     ]
    }
   ],
   "source": [
    "# testing\n",
    "model = model = AdaBoostClassifier(learning_rate=0.3, n_estimators=50)\n",
    "model.fit(df_x_all_train, df_y_all_train)\n",
    "predictions = model.predict(df_x_all_test)\n",
    "accuracy = accuracy_score(df_y_all_test, predictions)\n",
    "roc_auc = roc_auc_score(df_y_all_test, predictions)\n",
    "f1 = f1_score(df_y_all_test, predictions)\n",
    "    \n",
    "print(f\"Accuracy: {accuracy}\")\n",
    "print(f\"ROC-AUC: {roc_auc}\")\n",
    "print(f\"F1-score: {f1}\")\n"
   ]
  },
  {
   "cell_type": "code",
   "execution_count": 144,
   "metadata": {},
   "outputs": [
    {
     "name": "stdout",
     "output_type": "stream",
     "text": [
      "Accuracy: 0.4980237154150198\n",
      "ROC-AUC: 0.5\n",
      "F1-score: 0.0\n"
     ]
    }
   ],
   "source": [
    "from sklearn.naive_bayes import GaussianNB\n",
    "model = GaussianNB()\n",
    "nb_pred, nb_acc, nb_roc_auc,nb_f1, nb_feat_imp = cv_and_predict_valid(df_x_all_train,df_y_all_train, model)\n"
   ]
  },
  {
   "cell_type": "code",
   "execution_count": 145,
   "metadata": {},
   "outputs": [
    {
     "name": "stdout",
     "output_type": "stream",
     "text": [
      "Accuracy: 0.47533632286995514\n",
      "ROC-AUC: 0.502127659574468\n",
      "F1-score: 0.00847457627118644\n"
     ]
    }
   ],
   "source": [
    "# testing\n",
    "model = model = GaussianNB()\n",
    "model.fit(df_x_all_train, df_y_all_train)\n",
    "predictions = model.predict(df_x_all_test)\n",
    "accuracy = accuracy_score(df_y_all_test, predictions)\n",
    "roc_auc = roc_auc_score(df_y_all_test, predictions)\n",
    "f1 = f1_score(df_y_all_test, predictions)\n",
    "    \n",
    "print(f\"Accuracy: {accuracy}\")\n",
    "print(f\"ROC-AUC: {roc_auc}\")\n",
    "print(f\"F1-score: {f1}\")\n"
   ]
  },
  {
   "cell_type": "code",
   "execution_count": 146,
   "metadata": {},
   "outputs": [
    {
     "name": "stdout",
     "output_type": "stream",
     "text": [
      "KNeighborsClassifier()\n",
      "Best parameters from grid search: {'n_neighbors': 5}\n",
      "Accuracy: 0.45849802371541504\n",
      "ROC-AUC: 0.4589113860767404\n",
      "F1-score: 0.3964757709251101\n"
     ]
    }
   ],
   "source": [
    "from sklearn.neighbors import KNeighborsClassifier\n",
    "grid_params = {'n_neighbors': [1, 2, 3, 4, 5, 10, 20, 50]}\n",
    "model = KNeighborsClassifier()\n",
    "knn_pred, knn_acc, knn_roc_auc,knn_f1, knn_feat_imp = cv_and_predict_valid(df_x_all_train,df_y_all_train, model, grid_search=True, grid_parameters=grid_params)\n"
   ]
  },
  {
   "cell_type": "code",
   "execution_count": 147,
   "metadata": {},
   "outputs": [
    {
     "name": "stdout",
     "output_type": "stream",
     "text": [
      "Accuracy: 0.5067264573991032\n",
      "ROC-AUC: 0.5069880004033477\n",
      "F1-score: 0.5175438596491229\n"
     ]
    }
   ],
   "source": [
    "# testing\n",
    "model = model = KNeighborsClassifier(n_neighbors=5)\n",
    "model.fit(df_x_all_train, df_y_all_train)\n",
    "predictions = model.predict(df_x_all_test)\n",
    "accuracy = accuracy_score(df_y_all_test, predictions)\n",
    "roc_auc = roc_auc_score(df_y_all_test, predictions)\n",
    "f1 = f1_score(df_y_all_test, predictions)\n",
    "    \n",
    "print(f\"Accuracy: {accuracy}\")\n",
    "print(f\"ROC-AUC: {roc_auc}\")\n",
    "print(f\"F1-score: {f1}\")\n"
   ]
  },
  {
   "cell_type": "markdown",
   "metadata": {},
   "source": [
    "# With dummies"
   ]
  },
  {
   "cell_type": "code",
   "execution_count": 148,
   "metadata": {},
   "outputs": [
    {
     "data": {
      "text/plain": [
       "Index(['Date_15m', 'datetime', 'text', 'username', 'kk08_pos_score',\n",
       "       'kk08_score_diff', 'Elkulako_label', 'Sentiment_vader', 'pred',\n",
       "       'analysis', 'short', 'long', 'buy', 'sell', 'bull', 'bear', 'bankrupt',\n",
       "       'fraud', 'cbdc', 'record', 'crisis', 'collapse', 'ATH', 'grow', 'rise',\n",
       "       'fall', 'date', 'open', 'close', 'Return', 'Return_sign',\n",
       "       'kk08_pos_score_lag1', 'kk08_pos_score_lag2', 'kk08_pos_score_lag3',\n",
       "       'Sentiment_vader_lag1', 'Sentiment_vader_lag2', 'Sentiment_vader_lag3',\n",
       "       'Elkulako_label_lag1', 'Elkulako_label_lag2', 'Elkulako_label_lag3'],\n",
       "      dtype='object')"
      ]
     },
     "execution_count": 148,
     "metadata": {},
     "output_type": "execute_result"
    }
   ],
   "source": [
    "df.columns"
   ]
  },
  {
   "cell_type": "code",
   "execution_count": null,
   "metadata": {},
   "outputs": [],
   "source": []
  },
  {
   "cell_type": "code",
   "execution_count": 149,
   "metadata": {},
   "outputs": [],
   "source": [
    "df_x_dum = df[['kk08_pos_score', 'Elkulako_label', 'Sentiment_vader', 'pred',\n",
    "       'analysis', 'short', 'long', 'buy', 'sell', 'bull', 'bear', 'bankrupt',\n",
    "       'fraud', 'cbdc', 'record', 'crisis', 'collapse', 'ATH', 'grow', 'rise',\n",
    "       'fall']]\n",
    "df_y = df[\"Return_sign\"]"
   ]
  },
  {
   "cell_type": "code",
   "execution_count": 150,
   "metadata": {},
   "outputs": [
    {
     "data": {
      "text/html": [
       "<div>\n",
       "<style scoped>\n",
       "    .dataframe tbody tr th:only-of-type {\n",
       "        vertical-align: middle;\n",
       "    }\n",
       "\n",
       "    .dataframe tbody tr th {\n",
       "        vertical-align: top;\n",
       "    }\n",
       "\n",
       "    .dataframe thead th {\n",
       "        text-align: right;\n",
       "    }\n",
       "</style>\n",
       "<table border=\"1\" class=\"dataframe\">\n",
       "  <thead>\n",
       "    <tr style=\"text-align: right;\">\n",
       "      <th></th>\n",
       "      <th>kk08_pos_score</th>\n",
       "      <th>Elkulako_label</th>\n",
       "      <th>Sentiment_vader</th>\n",
       "      <th>pred</th>\n",
       "      <th>analysis</th>\n",
       "      <th>short</th>\n",
       "      <th>long</th>\n",
       "      <th>buy</th>\n",
       "      <th>sell</th>\n",
       "      <th>bull</th>\n",
       "      <th>...</th>\n",
       "      <th>bankrupt</th>\n",
       "      <th>fraud</th>\n",
       "      <th>cbdc</th>\n",
       "      <th>record</th>\n",
       "      <th>crisis</th>\n",
       "      <th>collapse</th>\n",
       "      <th>ATH</th>\n",
       "      <th>grow</th>\n",
       "      <th>rise</th>\n",
       "      <th>fall</th>\n",
       "    </tr>\n",
       "  </thead>\n",
       "  <tbody>\n",
       "    <tr>\n",
       "      <th>0</th>\n",
       "      <td>0.816322</td>\n",
       "      <td>0.342175</td>\n",
       "      <td>0.161173</td>\n",
       "      <td>11</td>\n",
       "      <td>4</td>\n",
       "      <td>4</td>\n",
       "      <td>7</td>\n",
       "      <td>27</td>\n",
       "      <td>18</td>\n",
       "      <td>4</td>\n",
       "      <td>...</td>\n",
       "      <td>0</td>\n",
       "      <td>0</td>\n",
       "      <td>0</td>\n",
       "      <td>0</td>\n",
       "      <td>0</td>\n",
       "      <td>0</td>\n",
       "      <td>9</td>\n",
       "      <td>6</td>\n",
       "      <td>7</td>\n",
       "      <td>4</td>\n",
       "    </tr>\n",
       "    <tr>\n",
       "      <th>1</th>\n",
       "      <td>0.716851</td>\n",
       "      <td>0.305638</td>\n",
       "      <td>0.136947</td>\n",
       "      <td>9</td>\n",
       "      <td>42</td>\n",
       "      <td>41</td>\n",
       "      <td>13</td>\n",
       "      <td>22</td>\n",
       "      <td>8</td>\n",
       "      <td>10</td>\n",
       "      <td>...</td>\n",
       "      <td>0</td>\n",
       "      <td>1</td>\n",
       "      <td>0</td>\n",
       "      <td>1</td>\n",
       "      <td>0</td>\n",
       "      <td>1</td>\n",
       "      <td>8</td>\n",
       "      <td>1</td>\n",
       "      <td>6</td>\n",
       "      <td>38</td>\n",
       "    </tr>\n",
       "    <tr>\n",
       "      <th>2</th>\n",
       "      <td>0.725069</td>\n",
       "      <td>0.438272</td>\n",
       "      <td>0.172915</td>\n",
       "      <td>9</td>\n",
       "      <td>15</td>\n",
       "      <td>17</td>\n",
       "      <td>6</td>\n",
       "      <td>22</td>\n",
       "      <td>7</td>\n",
       "      <td>8</td>\n",
       "      <td>...</td>\n",
       "      <td>0</td>\n",
       "      <td>0</td>\n",
       "      <td>0</td>\n",
       "      <td>1</td>\n",
       "      <td>0</td>\n",
       "      <td>0</td>\n",
       "      <td>6</td>\n",
       "      <td>2</td>\n",
       "      <td>5</td>\n",
       "      <td>17</td>\n",
       "    </tr>\n",
       "    <tr>\n",
       "      <th>3</th>\n",
       "      <td>0.756357</td>\n",
       "      <td>0.381818</td>\n",
       "      <td>0.178866</td>\n",
       "      <td>5</td>\n",
       "      <td>11</td>\n",
       "      <td>9</td>\n",
       "      <td>5</td>\n",
       "      <td>16</td>\n",
       "      <td>4</td>\n",
       "      <td>1</td>\n",
       "      <td>...</td>\n",
       "      <td>0</td>\n",
       "      <td>0</td>\n",
       "      <td>1</td>\n",
       "      <td>2</td>\n",
       "      <td>0</td>\n",
       "      <td>1</td>\n",
       "      <td>5</td>\n",
       "      <td>1</td>\n",
       "      <td>2</td>\n",
       "      <td>6</td>\n",
       "    </tr>\n",
       "    <tr>\n",
       "      <th>4</th>\n",
       "      <td>0.770306</td>\n",
       "      <td>0.343195</td>\n",
       "      <td>0.143037</td>\n",
       "      <td>6</td>\n",
       "      <td>13</td>\n",
       "      <td>12</td>\n",
       "      <td>2</td>\n",
       "      <td>26</td>\n",
       "      <td>9</td>\n",
       "      <td>10</td>\n",
       "      <td>...</td>\n",
       "      <td>0</td>\n",
       "      <td>0</td>\n",
       "      <td>1</td>\n",
       "      <td>1</td>\n",
       "      <td>0</td>\n",
       "      <td>0</td>\n",
       "      <td>6</td>\n",
       "      <td>8</td>\n",
       "      <td>4</td>\n",
       "      <td>13</td>\n",
       "    </tr>\n",
       "    <tr>\n",
       "      <th>...</th>\n",
       "      <td>...</td>\n",
       "      <td>...</td>\n",
       "      <td>...</td>\n",
       "      <td>...</td>\n",
       "      <td>...</td>\n",
       "      <td>...</td>\n",
       "      <td>...</td>\n",
       "      <td>...</td>\n",
       "      <td>...</td>\n",
       "      <td>...</td>\n",
       "      <td>...</td>\n",
       "      <td>...</td>\n",
       "      <td>...</td>\n",
       "      <td>...</td>\n",
       "      <td>...</td>\n",
       "      <td>...</td>\n",
       "      <td>...</td>\n",
       "      <td>...</td>\n",
       "      <td>...</td>\n",
       "      <td>...</td>\n",
       "      <td>...</td>\n",
       "    </tr>\n",
       "    <tr>\n",
       "      <th>2971</th>\n",
       "      <td>0.771425</td>\n",
       "      <td>0.209877</td>\n",
       "      <td>0.167436</td>\n",
       "      <td>1</td>\n",
       "      <td>4</td>\n",
       "      <td>5</td>\n",
       "      <td>8</td>\n",
       "      <td>25</td>\n",
       "      <td>12</td>\n",
       "      <td>7</td>\n",
       "      <td>...</td>\n",
       "      <td>0</td>\n",
       "      <td>0</td>\n",
       "      <td>1</td>\n",
       "      <td>1</td>\n",
       "      <td>0</td>\n",
       "      <td>1</td>\n",
       "      <td>10</td>\n",
       "      <td>3</td>\n",
       "      <td>3</td>\n",
       "      <td>8</td>\n",
       "    </tr>\n",
       "    <tr>\n",
       "      <th>2972</th>\n",
       "      <td>0.779117</td>\n",
       "      <td>0.263158</td>\n",
       "      <td>0.161682</td>\n",
       "      <td>4</td>\n",
       "      <td>4</td>\n",
       "      <td>6</td>\n",
       "      <td>10</td>\n",
       "      <td>25</td>\n",
       "      <td>7</td>\n",
       "      <td>10</td>\n",
       "      <td>...</td>\n",
       "      <td>0</td>\n",
       "      <td>0</td>\n",
       "      <td>0</td>\n",
       "      <td>0</td>\n",
       "      <td>0</td>\n",
       "      <td>0</td>\n",
       "      <td>5</td>\n",
       "      <td>5</td>\n",
       "      <td>5</td>\n",
       "      <td>3</td>\n",
       "    </tr>\n",
       "    <tr>\n",
       "      <th>2973</th>\n",
       "      <td>0.783670</td>\n",
       "      <td>0.278592</td>\n",
       "      <td>0.161257</td>\n",
       "      <td>5</td>\n",
       "      <td>6</td>\n",
       "      <td>5</td>\n",
       "      <td>11</td>\n",
       "      <td>21</td>\n",
       "      <td>7</td>\n",
       "      <td>11</td>\n",
       "      <td>...</td>\n",
       "      <td>0</td>\n",
       "      <td>1</td>\n",
       "      <td>0</td>\n",
       "      <td>1</td>\n",
       "      <td>0</td>\n",
       "      <td>0</td>\n",
       "      <td>6</td>\n",
       "      <td>5</td>\n",
       "      <td>5</td>\n",
       "      <td>3</td>\n",
       "    </tr>\n",
       "    <tr>\n",
       "      <th>2974</th>\n",
       "      <td>0.769362</td>\n",
       "      <td>0.240642</td>\n",
       "      <td>0.110640</td>\n",
       "      <td>3</td>\n",
       "      <td>4</td>\n",
       "      <td>6</td>\n",
       "      <td>15</td>\n",
       "      <td>24</td>\n",
       "      <td>17</td>\n",
       "      <td>11</td>\n",
       "      <td>...</td>\n",
       "      <td>0</td>\n",
       "      <td>2</td>\n",
       "      <td>0</td>\n",
       "      <td>1</td>\n",
       "      <td>17</td>\n",
       "      <td>1</td>\n",
       "      <td>4</td>\n",
       "      <td>1</td>\n",
       "      <td>8</td>\n",
       "      <td>6</td>\n",
       "    </tr>\n",
       "    <tr>\n",
       "      <th>2975</th>\n",
       "      <td>0.741804</td>\n",
       "      <td>0.243386</td>\n",
       "      <td>0.170778</td>\n",
       "      <td>4</td>\n",
       "      <td>5</td>\n",
       "      <td>7</td>\n",
       "      <td>4</td>\n",
       "      <td>21</td>\n",
       "      <td>7</td>\n",
       "      <td>7</td>\n",
       "      <td>...</td>\n",
       "      <td>0</td>\n",
       "      <td>0</td>\n",
       "      <td>0</td>\n",
       "      <td>1</td>\n",
       "      <td>9</td>\n",
       "      <td>0</td>\n",
       "      <td>11</td>\n",
       "      <td>2</td>\n",
       "      <td>3</td>\n",
       "      <td>12</td>\n",
       "    </tr>\n",
       "  </tbody>\n",
       "</table>\n",
       "<p>2976 rows × 21 columns</p>\n",
       "</div>"
      ],
      "text/plain": [
       "      kk08_pos_score  Elkulako_label  Sentiment_vader  pred  analysis  short  \\\n",
       "0           0.816322        0.342175         0.161173    11         4      4   \n",
       "1           0.716851        0.305638         0.136947     9        42     41   \n",
       "2           0.725069        0.438272         0.172915     9        15     17   \n",
       "3           0.756357        0.381818         0.178866     5        11      9   \n",
       "4           0.770306        0.343195         0.143037     6        13     12   \n",
       "...              ...             ...              ...   ...       ...    ...   \n",
       "2971        0.771425        0.209877         0.167436     1         4      5   \n",
       "2972        0.779117        0.263158         0.161682     4         4      6   \n",
       "2973        0.783670        0.278592         0.161257     5         6      5   \n",
       "2974        0.769362        0.240642         0.110640     3         4      6   \n",
       "2975        0.741804        0.243386         0.170778     4         5      7   \n",
       "\n",
       "      long  buy  sell  bull  ...  bankrupt  fraud  cbdc  record  crisis  \\\n",
       "0        7   27    18     4  ...         0      0     0       0       0   \n",
       "1       13   22     8    10  ...         0      1     0       1       0   \n",
       "2        6   22     7     8  ...         0      0     0       1       0   \n",
       "3        5   16     4     1  ...         0      0     1       2       0   \n",
       "4        2   26     9    10  ...         0      0     1       1       0   \n",
       "...    ...  ...   ...   ...  ...       ...    ...   ...     ...     ...   \n",
       "2971     8   25    12     7  ...         0      0     1       1       0   \n",
       "2972    10   25     7    10  ...         0      0     0       0       0   \n",
       "2973    11   21     7    11  ...         0      1     0       1       0   \n",
       "2974    15   24    17    11  ...         0      2     0       1      17   \n",
       "2975     4   21     7     7  ...         0      0     0       1       9   \n",
       "\n",
       "      collapse  ATH  grow  rise  fall  \n",
       "0            0    9     6     7     4  \n",
       "1            1    8     1     6    38  \n",
       "2            0    6     2     5    17  \n",
       "3            1    5     1     2     6  \n",
       "4            0    6     8     4    13  \n",
       "...        ...  ...   ...   ...   ...  \n",
       "2971         1   10     3     3     8  \n",
       "2972         0    5     5     5     3  \n",
       "2973         0    6     5     5     3  \n",
       "2974         1    4     1     8     6  \n",
       "2975         0   11     2     3    12  \n",
       "\n",
       "[2976 rows x 21 columns]"
      ]
     },
     "execution_count": 150,
     "metadata": {},
     "output_type": "execute_result"
    }
   ],
   "source": [
    "df_x_dum"
   ]
  },
  {
   "cell_type": "code",
   "execution_count": 151,
   "metadata": {},
   "outputs": [],
   "source": [
    "train_share = 0.85\n",
    "df_x_dum_train = df_x_dum.iloc[:int(len(df_x_dum)*train_share)].reset_index(drop=True)\n",
    "df_y_train = df_y.iloc[:int(len(df_y)*train_share)].reset_index(drop=True)\n",
    "\n",
    "df_x_dum_test = df_x_dum.iloc[int(len(df_x_dum)*train_share):].reset_index(drop=True)\n",
    "df_y_test = df_y.iloc[int(len(df_y)*train_share):].reset_index(drop=True)"
   ]
  },
  {
   "cell_type": "code",
   "execution_count": 152,
   "metadata": {},
   "outputs": [
    {
     "name": "stdout",
     "output_type": "stream",
     "text": [
      "Accuracy: 0.4980237154150198\n",
      "ROC-AUC: 0.5\n",
      "F1-score: 0.0\n"
     ]
    }
   ],
   "source": [
    "from sklearn.dummy import DummyClassifier\n",
    "dummy_model = DummyClassifier(strategy='most_frequent')\n",
    "dummy_pred, dummy_acc, dummy_roc_auc,dummy_f1, dummy_feat_imp= cv_and_predict_valid(df_x_dum_train,df_y_train,dummy_model)\n"
   ]
  },
  {
   "cell_type": "code",
   "execution_count": 153,
   "metadata": {},
   "outputs": [
    {
     "name": "stdout",
     "output_type": "stream",
     "text": [
      "Accuracy: 0.4720357941834452\n",
      "ROC-AUC: 0.5\n",
      "F1-score: 0.0\n"
     ]
    }
   ],
   "source": [
    "# testing\n",
    "model = DummyClassifier(strategy='most_frequent')\n",
    "\n",
    "model.fit(df_x_dum_train, df_y_train)\n",
    "predictions = model.predict(df_x_dum_test)\n",
    "accuracy = accuracy_score(df_y_test, predictions)\n",
    "roc_auc = roc_auc_score(df_y_test, predictions)\n",
    "f1 = f1_score(df_y_test, predictions)\n",
    "    \n",
    "print(f\"Accuracy: {accuracy}\")\n",
    "print(f\"ROC-AUC: {roc_auc}\")\n",
    "print(f\"F1-score: {f1}\")"
   ]
  },
  {
   "cell_type": "code",
   "execution_count": 154,
   "metadata": {},
   "outputs": [
    {
     "name": "stdout",
     "output_type": "stream",
     "text": [
      "RandomForestClassifier(n_estimators=500, random_state=17)\n",
      "Best parameters from grid search: {'n_estimators': 500}\n",
      "Accuracy: 0.5098814229249012\n",
      "ROC-AUC: 0.5107486564179478\n",
      "F1-score: 0.37373737373737376\n"
     ]
    }
   ],
   "source": [
    "from sklearn.ensemble import RandomForestClassifier\n",
    "# Random Forest\n",
    "grid_params = {'n_estimators': [50,100, 300 ,500, 700]}\n",
    "rf_model = RandomForestClassifier(random_state=17)\n",
    "rf_pred, rf_acc, rf_roc_auc,rf_f1, rf_feat_imp = cv_and_predict_valid(df_x_dum_train,df_y_train, rf_model, tree = True, grid_search=True, grid_parameters=grid_params)"
   ]
  },
  {
   "cell_type": "code",
   "execution_count": 155,
   "metadata": {},
   "outputs": [
    {
     "name": "stdout",
     "output_type": "stream",
     "text": [
      "Accuracy: 0.4697986577181208\n",
      "ROC-AUC: 0.47830146999759016\n",
      "F1-score: 0.3938618925831202\n"
     ]
    }
   ],
   "source": [
    "# testing\n",
    "model = RandomForestClassifier(n_estimators=500,random_state=17)\n",
    "model.fit(df_x_dum_train, df_y_train)\n",
    "predictions = model.predict(df_x_dum_test)\n",
    "accuracy = accuracy_score(df_y_test, predictions)\n",
    "roc_auc = roc_auc_score(df_y_test, predictions)\n",
    "f1 = f1_score(df_y_test, predictions)\n",
    "    \n",
    "print(f\"Accuracy: {accuracy}\")\n",
    "print(f\"ROC-AUC: {roc_auc}\")\n",
    "print(f\"F1-score: {f1}\")\n"
   ]
  },
  {
   "cell_type": "code",
   "execution_count": 156,
   "metadata": {},
   "outputs": [
    {
     "name": "stdout",
     "output_type": "stream",
     "text": [
      "XGBClassifier(base_score=None, booster=None, callbacks=None,\n",
      "              colsample_bylevel=None, colsample_bynode=None,\n",
      "              colsample_bytree=None, device=None, early_stopping_rounds=None,\n",
      "              enable_categorical=False, eval_metric=None, feature_types=None,\n",
      "              gamma=None, grow_policy=None, importance_type=None,\n",
      "              interaction_constraints=None, learning_rate=None, max_bin=None,\n",
      "              max_cat_threshold=None, max_cat_to_onehot=None,\n",
      "              max_delta_step=None, max_depth=3, max_leaves=None,\n",
      "              min_child_weight=None, missing=nan, monotone_constraints=None,\n",
      "              multi_strategy=None, n_estimators=1000, n_jobs=None,\n",
      "              num_parallel_tree=None, random_state=17, ...)\n",
      "Best parameters from grid search: {'max_depth': 3, 'n_estimators': 1000}\n",
      "Accuracy: 0.48221343873517786\n",
      "ROC-AUC: 0.48259592550931124\n",
      "F1-score: 0.4279475982532751\n"
     ]
    }
   ],
   "source": [
    "from xgboost import XGBClassifier\n",
    "# XGBoost\n",
    "grid_params = {'n_estimators': [50, 100, 300, 500, 1000],\"max_depth\": [1,2,3,6]}\n",
    "xgb_model = XGBClassifier(random_state=17)\n",
    "xgb_pred, xgb_acc, xgb_roc_auc,xgb_f1, xgb_feat_imp = cv_and_predict_valid(df_x_dum_train,df_y_train, xgb_model, tree = True, grid_search=True, grid_parameters=grid_params)\n"
   ]
  },
  {
   "cell_type": "code",
   "execution_count": 157,
   "metadata": {},
   "outputs": [
    {
     "name": "stdout",
     "output_type": "stream",
     "text": [
      "Accuracy: 0.5123042505592841\n",
      "ROC-AUC: 0.5140372720700457\n",
      "F1-score: 0.5112107623318386\n"
     ]
    }
   ],
   "source": [
    "# testing\n",
    "model = XGBClassifier(random_state=17, max_depth = 3, n_estimators = 1000)\n",
    "model.fit(df_x_dum_train, df_y_train)\n",
    "predictions = model.predict(df_x_dum_test)\n",
    "accuracy = accuracy_score(df_y_test, predictions)\n",
    "roc_auc = roc_auc_score(df_y_test, predictions)\n",
    "f1 = f1_score(df_y_test, predictions)\n",
    "    \n",
    "print(f\"Accuracy: {accuracy}\")\n",
    "print(f\"ROC-AUC: {roc_auc}\")\n",
    "print(f\"F1-score: {f1}\")\n",
    "# good"
   ]
  },
  {
   "cell_type": "code",
   "execution_count": 158,
   "metadata": {},
   "outputs": [
    {
     "name": "stdout",
     "output_type": "stream",
     "text": [
      "Accuracy: 0.4980237154150198\n",
      "ROC-AUC: 0.5\n",
      "F1-score: 0.0\n"
     ]
    }
   ],
   "source": [
    "from sklearn.svm import SVC\n",
    "# SVM\n",
    "svm_model = SVC(kernel=\"poly\")\n",
    "svm_pred, svm_acc, svm_roc_auc,svm_f1, svm_feat_imp = cv_and_predict_valid(df_x_dum_train,df_y_train, svm_model)"
   ]
  },
  {
   "cell_type": "code",
   "execution_count": 159,
   "metadata": {},
   "outputs": [
    {
     "name": "stdout",
     "output_type": "stream",
     "text": [
      "Accuracy: 0.4720357941834452\n",
      "ROC-AUC: 0.5\n",
      "F1-score: 0.0\n"
     ]
    }
   ],
   "source": [
    "# testing\n",
    "model = svm_model = SVC(kernel=\"poly\")\n",
    "model.fit(df_x_dum_train, df_y_train)\n",
    "predictions = model.predict(df_x_dum_test)\n",
    "accuracy = accuracy_score(df_y_test, predictions)\n",
    "roc_auc = roc_auc_score(df_y_test, predictions)\n",
    "f1 = f1_score(df_y_test, predictions)\n",
    "    \n",
    "print(f\"Accuracy: {accuracy}\")\n",
    "print(f\"ROC-AUC: {roc_auc}\")\n",
    "print(f\"F1-score: {f1}\")"
   ]
  },
  {
   "cell_type": "code",
   "execution_count": 160,
   "metadata": {},
   "outputs": [
    {
     "name": "stderr",
     "output_type": "stream",
     "text": [
      "c:\\Users\\isaen\\AppData\\Local\\Programs\\Python\\Python312\\Lib\\site-packages\\sklearn\\ensemble\\_weight_boosting.py:519: FutureWarning: The SAMME.R algorithm (the default) is deprecated and will be removed in 1.6. Use the SAMME algorithm to circumvent this warning.\n",
      "  warnings.warn(\n"
     ]
    },
    {
     "name": "stdout",
     "output_type": "stream",
     "text": [
      "AdaBoostClassifier(learning_rate=1, n_estimators=300)\n",
      "Best parameters from grid search: {'learning_rate': 1, 'n_estimators': 300}\n",
      "Accuracy: 0.49407114624505927\n",
      "ROC-AUC: 0.4945944256967879\n",
      "F1-score: 0.41818181818181815\n"
     ]
    }
   ],
   "source": [
    "from sklearn.ensemble import AdaBoostClassifier\n",
    "grid_params = {'n_estimators': [100, 300, 500], 'learning_rate':[0.1, 0.3, 0.5, 1]}\n",
    "ada_model = AdaBoostClassifier()\n",
    "ada_pred, ada_acc, ada_roc_auc,ada_f1, ada_feat_imp = cv_and_predict_valid(df_x_dum_train,df_y_train, ada_model, tree = True, grid_search=True, grid_parameters = grid_params)\n"
   ]
  },
  {
   "cell_type": "code",
   "execution_count": 161,
   "metadata": {},
   "outputs": [
    {
     "name": "stderr",
     "output_type": "stream",
     "text": [
      "c:\\Users\\isaen\\AppData\\Local\\Programs\\Python\\Python312\\Lib\\site-packages\\sklearn\\ensemble\\_weight_boosting.py:519: FutureWarning: The SAMME.R algorithm (the default) is deprecated and will be removed in 1.6. Use the SAMME algorithm to circumvent this warning.\n",
      "  warnings.warn(\n"
     ]
    },
    {
     "name": "stdout",
     "output_type": "stream",
     "text": [
      "Accuracy: 0.465324384787472\n",
      "ROC-AUC: 0.4723070126114547\n",
      "F1-score: 0.40694789081885857\n"
     ]
    }
   ],
   "source": [
    "# testing\n",
    "model = AdaBoostClassifier(learning_rate=0.1, n_estimators=300)\n",
    "model.fit(df_x_dum_train, df_y_train)\n",
    "predictions = model.predict(df_x_dum_test)\n",
    "accuracy = accuracy_score(df_y_test, predictions)\n",
    "roc_auc = roc_auc_score(df_y_test, predictions)\n",
    "f1 = f1_score(df_y_test, predictions)\n",
    "    \n",
    "print(f\"Accuracy: {accuracy}\")\n",
    "print(f\"ROC-AUC: {roc_auc}\")\n",
    "print(f\"F1-score: {f1}\")"
   ]
  },
  {
   "cell_type": "code",
   "execution_count": null,
   "metadata": {},
   "outputs": [],
   "source": []
  },
  {
   "cell_type": "code",
   "execution_count": 162,
   "metadata": {},
   "outputs": [
    {
     "name": "stdout",
     "output_type": "stream",
     "text": [
      "Accuracy: 0.4980237154150198\n",
      "ROC-AUC: 0.49993750781152363\n",
      "F1-score: 0.030534351145038167\n"
     ]
    }
   ],
   "source": [
    "from sklearn.naive_bayes import GaussianNB\n",
    "nb_model = GaussianNB()\n",
    "nb_pred, nb_acc, nb_roc_auc,nb_f1, nb_feat_imp = cv_and_predict_valid(df_x_dum_train,df_y_train, nb_model)\n"
   ]
  },
  {
   "cell_type": "code",
   "execution_count": 163,
   "metadata": {},
   "outputs": [
    {
     "name": "stdout",
     "output_type": "stream",
     "text": [
      "Accuracy: 0.4720357941834452\n",
      "ROC-AUC: 0.4994979516427022\n",
      "F1-score: 0.016666666666666666\n"
     ]
    }
   ],
   "source": [
    "# testing\n",
    "model = GaussianNB()\n",
    "model.fit(df_x_dum_train, df_y_train)\n",
    "predictions = model.predict(df_x_dum_test)\n",
    "accuracy = accuracy_score(df_y_test, predictions)\n",
    "roc_auc = roc_auc_score(df_y_test, predictions)\n",
    "f1 = f1_score(df_y_test, predictions)\n",
    "    \n",
    "print(f\"Accuracy: {accuracy}\")\n",
    "print(f\"ROC-AUC: {roc_auc}\")\n",
    "print(f\"F1-score: {f1}\")\n",
    "# good"
   ]
  },
  {
   "cell_type": "code",
   "execution_count": 164,
   "metadata": {},
   "outputs": [
    {
     "name": "stdout",
     "output_type": "stream",
     "text": [
      "Accuracy: 0.5019762845849802\n",
      "ROC-AUC: 0.5031871016122985\n",
      "F1-score: 0.2840909090909091\n"
     ]
    }
   ],
   "source": [
    "from sklearn.linear_model import LogisticRegression\n",
    "lr_model = LogisticRegression(max_iter=10000)\n",
    "lr_pred, lr_acc, lr_roc_auc,lr_f1, lr_feat_imp = cv_and_predict_valid(df_x_dum_train,df_y_train, lr_model)\n"
   ]
  },
  {
   "cell_type": "code",
   "execution_count": 165,
   "metadata": {},
   "outputs": [
    {
     "name": "stdout",
     "output_type": "stream",
     "text": [
      "Accuracy: 0.4742729306487696\n",
      "ROC-AUC: 0.49283074945778776\n",
      "F1-score: 0.24437299035369775\n"
     ]
    }
   ],
   "source": [
    "# testing\n",
    "model = LogisticRegression(max_iter=10000)\n",
    "\n",
    "model.fit(df_x_dum_train, df_y_train)\n",
    "predictions = model.predict(df_x_dum_test)\n",
    "accuracy = accuracy_score(df_y_test, predictions)\n",
    "roc_auc = roc_auc_score(df_y_test, predictions)\n",
    "f1 = f1_score(df_y_test, predictions)\n",
    "    \n",
    "print(f\"Accuracy: {accuracy}\")\n",
    "print(f\"ROC-AUC: {roc_auc}\")\n",
    "print(f\"F1-score: {f1}\")"
   ]
  },
  {
   "cell_type": "code",
   "execution_count": 166,
   "metadata": {},
   "outputs": [
    {
     "name": "stdout",
     "output_type": "stream",
     "text": [
      "KNeighborsClassifier(n_neighbors=2)\n",
      "Best parameters from grid search: {'n_neighbors': 2}\n",
      "Accuracy: 0.45454545454545453\n",
      "ROC-AUC: 0.4557242844644419\n",
      "F1-score: 0.2247191011235955\n"
     ]
    }
   ],
   "source": [
    "from sklearn.neighbors import KNeighborsClassifier\n",
    "grid_params = {'n_neighbors': [1, 2, 3, 4, 5, 10, 20, 50]}\n",
    "knn_model = KNeighborsClassifier()\n",
    "knn_pred, knn_acc, knn_roc_auc,knn_f1, knn_feat_imp = cv_and_predict_valid(df_x_dum_train,df_y_train, knn_model, grid_search=True, grid_parameters=grid_params)\n"
   ]
  },
  {
   "cell_type": "code",
   "execution_count": 167,
   "metadata": {},
   "outputs": [
    {
     "name": "stdout",
     "output_type": "stream",
     "text": [
      "Accuracy: 0.4519015659955257\n",
      "ROC-AUC: 0.4688830428146839\n",
      "F1-score: 0.24148606811145512\n"
     ]
    }
   ],
   "source": [
    "# testing\n",
    "model = KNeighborsClassifier(n_neighbors=2)\n",
    "model.fit(df_x_dum_train, df_y_train)\n",
    "predictions = model.predict(df_x_dum_test)\n",
    "accuracy = accuracy_score(df_y_test, predictions)\n",
    "roc_auc = roc_auc_score(df_y_test, predictions)\n",
    "f1 = f1_score(df_y_test, predictions)\n",
    "    \n",
    "print(f\"Accuracy: {accuracy}\")\n",
    "print(f\"ROC-AUC: {roc_auc}\")\n",
    "print(f\"F1-score: {f1}\")\n",
    "# good"
   ]
  },
  {
   "cell_type": "code",
   "execution_count": null,
   "metadata": {},
   "outputs": [],
   "source": []
  },
  {
   "cell_type": "code",
   "execution_count": null,
   "metadata": {},
   "outputs": [],
   "source": []
  }
 ],
 "metadata": {
  "kernelspec": {
   "display_name": "Python 3",
   "language": "python",
   "name": "python3"
  },
  "language_info": {
   "codemirror_mode": {
    "name": "ipython",
    "version": 3
   },
   "file_extension": ".py",
   "mimetype": "text/x-python",
   "name": "python",
   "nbconvert_exporter": "python",
   "pygments_lexer": "ipython3",
   "version": "3.12.1"
  }
 },
 "nbformat": 4,
 "nbformat_minor": 2
}
