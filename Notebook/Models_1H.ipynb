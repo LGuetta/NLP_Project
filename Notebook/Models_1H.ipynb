{
 "cells": [
  {
   "cell_type": "markdown",
   "metadata": {},
   "source": [
    "# 1 hour"
   ]
  },
  {
   "cell_type": "code",
   "execution_count": 86,
   "metadata": {},
   "outputs": [],
   "source": [
    "import pandas as pd\n",
    "df = pd.read_csv(\"Full_data_1H.csv\")"
   ]
  },
  {
   "cell_type": "code",
   "execution_count": 87,
   "metadata": {},
   "outputs": [
    {
     "data": {
      "text/html": [
       "<div>\n",
       "<style scoped>\n",
       "    .dataframe tbody tr th:only-of-type {\n",
       "        vertical-align: middle;\n",
       "    }\n",
       "\n",
       "    .dataframe tbody tr th {\n",
       "        vertical-align: top;\n",
       "    }\n",
       "\n",
       "    .dataframe thead th {\n",
       "        text-align: right;\n",
       "    }\n",
       "</style>\n",
       "<table border=\"1\" class=\"dataframe\">\n",
       "  <thead>\n",
       "    <tr style=\"text-align: right;\">\n",
       "      <th></th>\n",
       "      <th>Date_1H</th>\n",
       "      <th>datetime</th>\n",
       "      <th>text</th>\n",
       "      <th>username</th>\n",
       "      <th>kk08_pos_score</th>\n",
       "      <th>kk08_score_diff</th>\n",
       "      <th>Elkulako_label</th>\n",
       "      <th>Sentiment_vader</th>\n",
       "      <th>pred</th>\n",
       "      <th>analysis</th>\n",
       "      <th>...</th>\n",
       "      <th>collapse</th>\n",
       "      <th>ATH</th>\n",
       "      <th>grow</th>\n",
       "      <th>rise</th>\n",
       "      <th>fall</th>\n",
       "      <th>date</th>\n",
       "      <th>open</th>\n",
       "      <th>close</th>\n",
       "      <th>Return</th>\n",
       "      <th>Return_sign</th>\n",
       "    </tr>\n",
       "  </thead>\n",
       "  <tbody>\n",
       "    <tr>\n",
       "      <th>0</th>\n",
       "      <td>2022-01-01 01:00:00</td>\n",
       "      <td>['2022-01-01 00:00:00', '2022-01-01 00:00:00',...</td>\n",
       "      <td>Current Price of Bitcoin:\\n$46320 (-1.85%)\\n\\n...</td>\n",
       "      <td>CryptoNerdApp\\nTrendSpider\\nMadStudentScie1\\nW...</td>\n",
       "      <td>0.755714</td>\n",
       "      <td>0.511428</td>\n",
       "      <td>0.364813</td>\n",
       "      <td>0.161558</td>\n",
       "      <td>34</td>\n",
       "      <td>72</td>\n",
       "      <td>...</td>\n",
       "      <td>2</td>\n",
       "      <td>28</td>\n",
       "      <td>10</td>\n",
       "      <td>20</td>\n",
       "      <td>65</td>\n",
       "      <td>2022-01-01 01:00:00</td>\n",
       "      <td>46656.14</td>\n",
       "      <td>46778.14</td>\n",
       "      <td>0.002615</td>\n",
       "      <td>1</td>\n",
       "    </tr>\n",
       "    <tr>\n",
       "      <th>1</th>\n",
       "      <td>2022-01-01 02:00:00</td>\n",
       "      <td>['2022-01-01 01:00:00', '2022-01-01 01:00:00',...</td>\n",
       "      <td>Today's Cryptocurrency Fear And Greed Index: 2...</td>\n",
       "      <td>FearAndGreedBot\\nOfficialOverbit\\nBTC_AI_bot\\n...</td>\n",
       "      <td>0.775810</td>\n",
       "      <td>0.551621</td>\n",
       "      <td>0.343045</td>\n",
       "      <td>0.174069</td>\n",
       "      <td>30</td>\n",
       "      <td>29</td>\n",
       "      <td>...</td>\n",
       "      <td>0</td>\n",
       "      <td>14</td>\n",
       "      <td>13</td>\n",
       "      <td>13</td>\n",
       "      <td>30</td>\n",
       "      <td>2022-01-01 02:00:00</td>\n",
       "      <td>46778.14</td>\n",
       "      <td>46811.77</td>\n",
       "      <td>0.000719</td>\n",
       "      <td>1</td>\n",
       "    </tr>\n",
       "    <tr>\n",
       "      <th>2</th>\n",
       "      <td>2022-01-01 03:00:00</td>\n",
       "      <td>['2022-01-01 02:00:00', '2022-01-01 02:00:00',...</td>\n",
       "      <td>Huobi Singapore would like to wish you a Happy...</td>\n",
       "      <td>HuobiSg\\nAmazonCash4Cars\\nBTC_AI_bot\\nCalvinAy...</td>\n",
       "      <td>0.773046</td>\n",
       "      <td>0.546093</td>\n",
       "      <td>0.427992</td>\n",
       "      <td>0.181803</td>\n",
       "      <td>23</td>\n",
       "      <td>24</td>\n",
       "      <td>...</td>\n",
       "      <td>1</td>\n",
       "      <td>20</td>\n",
       "      <td>10</td>\n",
       "      <td>11</td>\n",
       "      <td>24</td>\n",
       "      <td>2022-01-01 03:00:00</td>\n",
       "      <td>46811.77</td>\n",
       "      <td>46813.20</td>\n",
       "      <td>0.000031</td>\n",
       "      <td>1</td>\n",
       "    </tr>\n",
       "    <tr>\n",
       "      <th>3</th>\n",
       "      <td>2022-01-01 04:00:00</td>\n",
       "      <td>['2022-01-01 03:00:00', '2022-01-01 03:00:00',...</td>\n",
       "      <td>1 ARS is 10.26 satoshis right now.\\n\\n1 satosh...</td>\n",
       "      <td>SatoshiARS_bot\\nbitcoinpartyall\\ncryptopediaK7...</td>\n",
       "      <td>0.760779</td>\n",
       "      <td>0.521558</td>\n",
       "      <td>0.325186</td>\n",
       "      <td>0.175078</td>\n",
       "      <td>26</td>\n",
       "      <td>20</td>\n",
       "      <td>...</td>\n",
       "      <td>1</td>\n",
       "      <td>24</td>\n",
       "      <td>13</td>\n",
       "      <td>12</td>\n",
       "      <td>22</td>\n",
       "      <td>2022-01-01 04:00:00</td>\n",
       "      <td>46813.21</td>\n",
       "      <td>46711.05</td>\n",
       "      <td>-0.002182</td>\n",
       "      <td>0</td>\n",
       "    </tr>\n",
       "    <tr>\n",
       "      <th>4</th>\n",
       "      <td>2022-01-01 05:00:00</td>\n",
       "      <td>['2022-01-01 04:00:00', '2022-01-01 04:00:00',...</td>\n",
       "      <td>Buy Bitcoin $BTC @ 46813.2\\nAn online trader h...</td>\n",
       "      <td>BTC_AI_bot\\nnewscomauHQ\\ncryptozone007\\nCarbon...</td>\n",
       "      <td>0.771374</td>\n",
       "      <td>0.542747</td>\n",
       "      <td>0.377858</td>\n",
       "      <td>0.152699</td>\n",
       "      <td>26</td>\n",
       "      <td>19</td>\n",
       "      <td>...</td>\n",
       "      <td>1</td>\n",
       "      <td>22</td>\n",
       "      <td>7</td>\n",
       "      <td>12</td>\n",
       "      <td>16</td>\n",
       "      <td>2022-01-01 05:00:00</td>\n",
       "      <td>46711.05</td>\n",
       "      <td>47192.55</td>\n",
       "      <td>0.010308</td>\n",
       "      <td>1</td>\n",
       "    </tr>\n",
       "    <tr>\n",
       "      <th>...</th>\n",
       "      <td>...</td>\n",
       "      <td>...</td>\n",
       "      <td>...</td>\n",
       "      <td>...</td>\n",
       "      <td>...</td>\n",
       "      <td>...</td>\n",
       "      <td>...</td>\n",
       "      <td>...</td>\n",
       "      <td>...</td>\n",
       "      <td>...</td>\n",
       "      <td>...</td>\n",
       "      <td>...</td>\n",
       "      <td>...</td>\n",
       "      <td>...</td>\n",
       "      <td>...</td>\n",
       "      <td>...</td>\n",
       "      <td>...</td>\n",
       "      <td>...</td>\n",
       "      <td>...</td>\n",
       "      <td>...</td>\n",
       "      <td>...</td>\n",
       "    </tr>\n",
       "    <tr>\n",
       "      <th>739</th>\n",
       "      <td>2022-01-31 20:00:00</td>\n",
       "      <td>['2022-01-31 19:00:00', '2022-01-31 19:00:00',...</td>\n",
       "      <td>What's your favourite coins to stake and where...</td>\n",
       "      <td>CheekyCrypto\\naburke626\\nQuantumDelta\\nBTC_AI_...</td>\n",
       "      <td>0.755899</td>\n",
       "      <td>0.511798</td>\n",
       "      <td>0.261918</td>\n",
       "      <td>0.131531</td>\n",
       "      <td>21</td>\n",
       "      <td>28</td>\n",
       "      <td>...</td>\n",
       "      <td>4</td>\n",
       "      <td>35</td>\n",
       "      <td>11</td>\n",
       "      <td>8</td>\n",
       "      <td>20</td>\n",
       "      <td>2022-01-31 20:00:00</td>\n",
       "      <td>38415.79</td>\n",
       "      <td>38450.62</td>\n",
       "      <td>0.000907</td>\n",
       "      <td>1</td>\n",
       "    </tr>\n",
       "    <tr>\n",
       "      <th>740</th>\n",
       "      <td>2022-01-31 21:00:00</td>\n",
       "      <td>['2022-01-31 20:00:00', '2022-01-31 20:00:00',...</td>\n",
       "      <td>Buy Bitcoin $BTC @ 38415.79\\nLIVE: #Bitcoin be...</td>\n",
       "      <td>BTC_AI_bot\\nCoinDesk\\nbitcoinrate247\\nSquatche...</td>\n",
       "      <td>0.760233</td>\n",
       "      <td>0.520465</td>\n",
       "      <td>0.286062</td>\n",
       "      <td>0.136021</td>\n",
       "      <td>23</td>\n",
       "      <td>34</td>\n",
       "      <td>...</td>\n",
       "      <td>3</td>\n",
       "      <td>41</td>\n",
       "      <td>10</td>\n",
       "      <td>16</td>\n",
       "      <td>12</td>\n",
       "      <td>2022-01-31 21:00:00</td>\n",
       "      <td>38450.62</td>\n",
       "      <td>38410.09</td>\n",
       "      <td>-0.001054</td>\n",
       "      <td>0</td>\n",
       "    </tr>\n",
       "    <tr>\n",
       "      <th>741</th>\n",
       "      <td>2022-01-31 22:00:00</td>\n",
       "      <td>['2022-01-31 21:00:00', '2022-01-31 21:00:00',...</td>\n",
       "      <td>1 ARS is 12.17 satoshis right now.\\n\\n1 satosh...</td>\n",
       "      <td>SatoshiARS_bot\\nCryptoTopCharts\\nIBKR\\nCryptoN...</td>\n",
       "      <td>0.765209</td>\n",
       "      <td>0.530418</td>\n",
       "      <td>0.244444</td>\n",
       "      <td>0.142816</td>\n",
       "      <td>21</td>\n",
       "      <td>24</td>\n",
       "      <td>...</td>\n",
       "      <td>4</td>\n",
       "      <td>47</td>\n",
       "      <td>22</td>\n",
       "      <td>25</td>\n",
       "      <td>17</td>\n",
       "      <td>2022-01-31 22:00:00</td>\n",
       "      <td>38410.09</td>\n",
       "      <td>38412.46</td>\n",
       "      <td>0.000062</td>\n",
       "      <td>1</td>\n",
       "    </tr>\n",
       "    <tr>\n",
       "      <th>742</th>\n",
       "      <td>2022-01-31 23:00:00</td>\n",
       "      <td>['2022-01-31 22:00:00', '2022-01-31 22:00:00',...</td>\n",
       "      <td>BTC Latest Block Info: Block 721243 holds 2,80...</td>\n",
       "      <td>btc_blockbot\\nM1Seahawk\\nnialljburke\\nmurray_r...</td>\n",
       "      <td>0.789636</td>\n",
       "      <td>0.579271</td>\n",
       "      <td>0.218241</td>\n",
       "      <td>0.156830</td>\n",
       "      <td>14</td>\n",
       "      <td>23</td>\n",
       "      <td>...</td>\n",
       "      <td>1</td>\n",
       "      <td>37</td>\n",
       "      <td>10</td>\n",
       "      <td>16</td>\n",
       "      <td>16</td>\n",
       "      <td>2022-01-31 23:00:00</td>\n",
       "      <td>38412.45</td>\n",
       "      <td>38466.90</td>\n",
       "      <td>0.001418</td>\n",
       "      <td>1</td>\n",
       "    </tr>\n",
       "    <tr>\n",
       "      <th>743</th>\n",
       "      <td>2022-02-01 00:00:00</td>\n",
       "      <td>['2022-01-31 23:00:00', '2022-01-31 23:00:00',...</td>\n",
       "      <td>Top #Cryptocurrency RANK DOWN (#crypto #bitcoi...</td>\n",
       "      <td>CryptoTopCharts\\nBTC_AI_bot\\ncryptonewsleak\\nt...</td>\n",
       "      <td>0.768259</td>\n",
       "      <td>0.536518</td>\n",
       "      <td>0.256032</td>\n",
       "      <td>0.151095</td>\n",
       "      <td>16</td>\n",
       "      <td>19</td>\n",
       "      <td>...</td>\n",
       "      <td>1</td>\n",
       "      <td>26</td>\n",
       "      <td>13</td>\n",
       "      <td>21</td>\n",
       "      <td>24</td>\n",
       "      <td>2022-02-01 00:00:00</td>\n",
       "      <td>38466.90</td>\n",
       "      <td>38342.36</td>\n",
       "      <td>-0.003238</td>\n",
       "      <td>0</td>\n",
       "    </tr>\n",
       "  </tbody>\n",
       "</table>\n",
       "<p>744 rows × 31 columns</p>\n",
       "</div>"
      ],
      "text/plain": [
       "                 Date_1H                                           datetime  \\\n",
       "0    2022-01-01 01:00:00  ['2022-01-01 00:00:00', '2022-01-01 00:00:00',...   \n",
       "1    2022-01-01 02:00:00  ['2022-01-01 01:00:00', '2022-01-01 01:00:00',...   \n",
       "2    2022-01-01 03:00:00  ['2022-01-01 02:00:00', '2022-01-01 02:00:00',...   \n",
       "3    2022-01-01 04:00:00  ['2022-01-01 03:00:00', '2022-01-01 03:00:00',...   \n",
       "4    2022-01-01 05:00:00  ['2022-01-01 04:00:00', '2022-01-01 04:00:00',...   \n",
       "..                   ...                                                ...   \n",
       "739  2022-01-31 20:00:00  ['2022-01-31 19:00:00', '2022-01-31 19:00:00',...   \n",
       "740  2022-01-31 21:00:00  ['2022-01-31 20:00:00', '2022-01-31 20:00:00',...   \n",
       "741  2022-01-31 22:00:00  ['2022-01-31 21:00:00', '2022-01-31 21:00:00',...   \n",
       "742  2022-01-31 23:00:00  ['2022-01-31 22:00:00', '2022-01-31 22:00:00',...   \n",
       "743  2022-02-01 00:00:00  ['2022-01-31 23:00:00', '2022-01-31 23:00:00',...   \n",
       "\n",
       "                                                  text  \\\n",
       "0    Current Price of Bitcoin:\\n$46320 (-1.85%)\\n\\n...   \n",
       "1    Today's Cryptocurrency Fear And Greed Index: 2...   \n",
       "2    Huobi Singapore would like to wish you a Happy...   \n",
       "3    1 ARS is 10.26 satoshis right now.\\n\\n1 satosh...   \n",
       "4    Buy Bitcoin $BTC @ 46813.2\\nAn online trader h...   \n",
       "..                                                 ...   \n",
       "739  What's your favourite coins to stake and where...   \n",
       "740  Buy Bitcoin $BTC @ 38415.79\\nLIVE: #Bitcoin be...   \n",
       "741  1 ARS is 12.17 satoshis right now.\\n\\n1 satosh...   \n",
       "742  BTC Latest Block Info: Block 721243 holds 2,80...   \n",
       "743  Top #Cryptocurrency RANK DOWN (#crypto #bitcoi...   \n",
       "\n",
       "                                              username  kk08_pos_score  \\\n",
       "0    CryptoNerdApp\\nTrendSpider\\nMadStudentScie1\\nW...        0.755714   \n",
       "1    FearAndGreedBot\\nOfficialOverbit\\nBTC_AI_bot\\n...        0.775810   \n",
       "2    HuobiSg\\nAmazonCash4Cars\\nBTC_AI_bot\\nCalvinAy...        0.773046   \n",
       "3    SatoshiARS_bot\\nbitcoinpartyall\\ncryptopediaK7...        0.760779   \n",
       "4    BTC_AI_bot\\nnewscomauHQ\\ncryptozone007\\nCarbon...        0.771374   \n",
       "..                                                 ...             ...   \n",
       "739  CheekyCrypto\\naburke626\\nQuantumDelta\\nBTC_AI_...        0.755899   \n",
       "740  BTC_AI_bot\\nCoinDesk\\nbitcoinrate247\\nSquatche...        0.760233   \n",
       "741  SatoshiARS_bot\\nCryptoTopCharts\\nIBKR\\nCryptoN...        0.765209   \n",
       "742  btc_blockbot\\nM1Seahawk\\nnialljburke\\nmurray_r...        0.789636   \n",
       "743  CryptoTopCharts\\nBTC_AI_bot\\ncryptonewsleak\\nt...        0.768259   \n",
       "\n",
       "     kk08_score_diff  Elkulako_label  Sentiment_vader  pred  analysis  ...  \\\n",
       "0           0.511428        0.364813         0.161558    34        72  ...   \n",
       "1           0.551621        0.343045         0.174069    30        29  ...   \n",
       "2           0.546093        0.427992         0.181803    23        24  ...   \n",
       "3           0.521558        0.325186         0.175078    26        20  ...   \n",
       "4           0.542747        0.377858         0.152699    26        19  ...   \n",
       "..               ...             ...              ...   ...       ...  ...   \n",
       "739         0.511798        0.261918         0.131531    21        28  ...   \n",
       "740         0.520465        0.286062         0.136021    23        34  ...   \n",
       "741         0.530418        0.244444         0.142816    21        24  ...   \n",
       "742         0.579271        0.218241         0.156830    14        23  ...   \n",
       "743         0.536518        0.256032         0.151095    16        19  ...   \n",
       "\n",
       "     collapse  ATH  grow  rise  fall                 date      open     close  \\\n",
       "0           2   28    10    20    65  2022-01-01 01:00:00  46656.14  46778.14   \n",
       "1           0   14    13    13    30  2022-01-01 02:00:00  46778.14  46811.77   \n",
       "2           1   20    10    11    24  2022-01-01 03:00:00  46811.77  46813.20   \n",
       "3           1   24    13    12    22  2022-01-01 04:00:00  46813.21  46711.05   \n",
       "4           1   22     7    12    16  2022-01-01 05:00:00  46711.05  47192.55   \n",
       "..        ...  ...   ...   ...   ...                  ...       ...       ...   \n",
       "739         4   35    11     8    20  2022-01-31 20:00:00  38415.79  38450.62   \n",
       "740         3   41    10    16    12  2022-01-31 21:00:00  38450.62  38410.09   \n",
       "741         4   47    22    25    17  2022-01-31 22:00:00  38410.09  38412.46   \n",
       "742         1   37    10    16    16  2022-01-31 23:00:00  38412.45  38466.90   \n",
       "743         1   26    13    21    24  2022-02-01 00:00:00  38466.90  38342.36   \n",
       "\n",
       "       Return  Return_sign  \n",
       "0    0.002615            1  \n",
       "1    0.000719            1  \n",
       "2    0.000031            1  \n",
       "3   -0.002182            0  \n",
       "4    0.010308            1  \n",
       "..        ...          ...  \n",
       "739  0.000907            1  \n",
       "740 -0.001054            0  \n",
       "741  0.000062            1  \n",
       "742  0.001418            1  \n",
       "743 -0.003238            0  \n",
       "\n",
       "[744 rows x 31 columns]"
      ]
     },
     "execution_count": 87,
     "metadata": {},
     "output_type": "execute_result"
    }
   ],
   "source": [
    "df"
   ]
  },
  {
   "cell_type": "code",
   "execution_count": null,
   "metadata": {},
   "outputs": [],
   "source": []
  },
  {
   "cell_type": "markdown",
   "metadata": {},
   "source": [
    "# Cross-validation"
   ]
  },
  {
   "cell_type": "code",
   "execution_count": 88,
   "metadata": {},
   "outputs": [],
   "source": [
    "from sklearn.model_selection import GridSearchCV\n",
    "from sklearn.metrics import accuracy_score, roc_auc_score, f1_score\n",
    "from sklearn.model_selection import TimeSeriesSplit\n",
    "from sklearn.preprocessing import MinMaxScaler\n",
    "from copy import deepcopy\n",
    "import pandas as pd\n",
    "\n",
    "def cv_and_predict_valid(\n",
    "    df_x,\n",
    "    df_y,\n",
    "    model,\n",
    "    train_share=0.9,\n",
    "    tree = False,\n",
    "    grid_search=False,\n",
    "    grid_parameters=None\n",
    "):\n",
    "    \n",
    "    feature_importances = []\n",
    "\n",
    "    split_index = int(train_share * len(df_x)) \n",
    "    X_train, X_valid = df_x[:split_index], df_x[split_index:]\n",
    "    y_train, y_valid = df_y[:split_index], df_y[split_index:]\n",
    "    \n",
    "    \n",
    "    # if scaler:\n",
    "    #     scaler = MinMaxScaler()\n",
    "    #     X_train[\"kk08_pos_score\"] = scaler.fit_transform(X_train[[\"kk08_pos_score\"]])   \n",
    "    #     X_valid[\"kk08_pos_score\"] = scaler.transform(X_valid[[\"kk08_pos_score\"]]) \n",
    "\n",
    "\n",
    "    if grid_search and grid_parameters:\n",
    "        grid_search_cv = GridSearchCV(\n",
    "            estimator=model,\n",
    "            param_grid=grid_parameters,\n",
    "            cv=TimeSeriesSplit(n_splits=5),  \n",
    "            scoring=\"balanced_accuracy\",  \n",
    "            n_jobs=-1        \n",
    "        )\n",
    "        grid_search_cv.fit(X_train, y_train)\n",
    "        print(grid_search_cv.best_estimator_)\n",
    "        model = grid_search_cv.best_estimator_  \n",
    "        print(f\"Best parameters from grid search: {grid_search_cv.best_params_}\")\n",
    "    else:\n",
    "        model = deepcopy(model)\n",
    "        model.fit(X_train, y_train)\n",
    "    \n",
    "\n",
    "    if tree:\n",
    "        feature_importances = model.feature_importances_\n",
    "\n",
    "    \n",
    "    predictions = model.predict(X_valid)\n",
    "    accuracy = accuracy_score(y_valid, predictions)\n",
    "    roc_auc = roc_auc_score(y_valid, predictions)\n",
    "    f1 = f1_score(y_valid, predictions)\n",
    "\n",
    "    \n",
    "    pred_df = pd.DataFrame()\n",
    "    pred_df[\"target\"] = y_valid\n",
    "    pred_df[\"prediction\"] = predictions\n",
    "\n",
    "    \n",
    "    print(f\"Accuracy: {accuracy}\")\n",
    "    print(f\"ROC-AUC: {roc_auc}\")\n",
    "    print(f\"F1-score: {f1}\")\n",
    "\n",
    "    return pred_df, accuracy, roc_auc, f1, feature_importances\n"
   ]
  },
  {
   "cell_type": "markdown",
   "metadata": {},
   "source": [
    "# Only kk08"
   ]
  },
  {
   "cell_type": "code",
   "execution_count": 89,
   "metadata": {},
   "outputs": [],
   "source": [
    "df_x_1 = df[[\"kk08_pos_score\"]]\n",
    "df_y = df[\"Return_sign\"]"
   ]
  },
  {
   "cell_type": "code",
   "execution_count": 90,
   "metadata": {},
   "outputs": [],
   "source": [
    "train_share = 0.85\n",
    "df_x_1_train = df_x_1.iloc[:int(len(df_x_1)*train_share)].reset_index(drop=True)\n",
    "df_y_train = df_y.iloc[:int(len(df_x_1)*train_share)].reset_index(drop=True)\n",
    "\n",
    "df_x_1_test = df_x_1.iloc[int(len(df_x_1)*train_share):].reset_index(drop=True)\n",
    "df_y_test = df_y.iloc[int(len(df_x_1)*train_share):].reset_index(drop=True)"
   ]
  },
  {
   "cell_type": "code",
   "execution_count": 91,
   "metadata": {},
   "outputs": [
    {
     "data": {
      "text/plain": [
       "0.5267857142857143"
      ]
     },
     "execution_count": 91,
     "metadata": {},
     "output_type": "execute_result"
    }
   ],
   "source": [
    "sum(df_y_test)/len(df_y_test)"
   ]
  },
  {
   "cell_type": "code",
   "execution_count": 92,
   "metadata": {},
   "outputs": [
    {
     "name": "stdout",
     "output_type": "stream",
     "text": [
      "Accuracy: 0.390625\n",
      "ROC-AUC: 0.5\n",
      "F1-score: 0.0\n"
     ]
    }
   ],
   "source": [
    "from sklearn.dummy import DummyClassifier\n",
    "dummy_model = DummyClassifier(strategy='most_frequent')\n",
    "dummy_pred, dummy_acc, dummy_roc_auc,dummy_f1, dummy_feat_imp= cv_and_predict_valid(df_x_1_train,df_y_train,dummy_model)\n"
   ]
  },
  {
   "cell_type": "code",
   "execution_count": 93,
   "metadata": {},
   "outputs": [
    {
     "name": "stdout",
     "output_type": "stream",
     "text": [
      "Accuracy: 0.5267857142857143\n",
      "ROC-AUC: 0.5\n",
      "F1-score: 0.6900584795321637\n"
     ]
    }
   ],
   "source": [
    "# testing\n",
    "dummy_model.fit(df_x_1_train, df_y_train)\n",
    "predictions = dummy_model.predict(df_x_1_test)\n",
    "accuracy = accuracy_score(df_y_test, predictions)\n",
    "roc_auc = roc_auc_score(df_y_test, predictions)\n",
    "f1 = f1_score(df_y_test, predictions)\n",
    "    \n",
    "print(f\"Accuracy: {accuracy}\")\n",
    "print(f\"ROC-AUC: {roc_auc}\")\n",
    "print(f\"F1-score: {f1}\")\n"
   ]
  },
  {
   "cell_type": "code",
   "execution_count": 94,
   "metadata": {},
   "outputs": [
    {
     "name": "stdout",
     "output_type": "stream",
     "text": [
      "RandomForestClassifier(max_depth=5, min_samples_leaf=10, n_estimators=50,\n",
      "                       random_state=17)\n",
      "Best parameters from grid search: {'max_depth': 5, 'min_samples_leaf': 10, 'n_estimators': 50}\n",
      "Accuracy: 0.421875\n",
      "ROC-AUC: 0.48256410256410254\n",
      "F1-score: 0.3018867924528302\n"
     ]
    }
   ],
   "source": [
    "from sklearn.ensemble import RandomForestClassifier\n",
    "# Random Forest\n",
    "grid_params = {\n",
    "    'n_estimators': [10, 30, 50, 100, 200],\n",
    "    'max_depth': [3, 5, None],\n",
    "    'min_samples_leaf': [1, 5, 10]}\n",
    "rf_model = RandomForestClassifier(random_state=17)\n",
    "rf_pred, rf_acc, rf_roc_auc,rf_f1, rf_feat_imp = cv_and_predict_valid(df_x_1_train,df_y_train, rf_model, tree = True, grid_search=True, grid_parameters=grid_params)"
   ]
  },
  {
   "cell_type": "code",
   "execution_count": 95,
   "metadata": {},
   "outputs": [
    {
     "name": "stdout",
     "output_type": "stream",
     "text": [
      "Accuracy: 0.5357142857142857\n",
      "ROC-AUC: 0.5228653661656539\n",
      "F1-score: 0.6338028169014085\n"
     ]
    }
   ],
   "source": [
    "# testing\n",
    "model = RandomForestClassifier(max_depth=5, min_samples_leaf=10, n_estimators=50,random_state=17)\n",
    "model.fit(df_x_1_train, df_y_train)\n",
    "predictions = model.predict(df_x_1_test)\n",
    "accuracy = accuracy_score(df_y_test, predictions)\n",
    "roc_auc = roc_auc_score(df_y_test, predictions)\n",
    "f1 = f1_score(df_y_test, predictions)\n",
    "    \n",
    "print(f\"Accuracy: {accuracy}\")\n",
    "print(f\"ROC-AUC: {roc_auc}\")\n",
    "print(f\"F1-score: {f1}\")"
   ]
  },
  {
   "cell_type": "code",
   "execution_count": 96,
   "metadata": {},
   "outputs": [
    {
     "name": "stdout",
     "output_type": "stream",
     "text": [
      "XGBClassifier(base_score=None, booster=None, callbacks=None,\n",
      "              colsample_bylevel=None, colsample_bynode=None,\n",
      "              colsample_bytree=None, device=None, early_stopping_rounds=None,\n",
      "              enable_categorical=False, eval_metric=None, feature_types=None,\n",
      "              gamma=None, grow_policy=None, importance_type=None,\n",
      "              interaction_constraints=None, learning_rate=None, max_bin=None,\n",
      "              max_cat_threshold=None, max_cat_to_onehot=None,\n",
      "              max_delta_step=None, max_depth=1, max_leaves=None,\n",
      "              min_child_weight=None, missing=nan, monotone_constraints=None,\n",
      "              multi_strategy=None, n_estimators=20, n_jobs=None,\n",
      "              num_parallel_tree=None, random_state=17, ...)\n",
      "Best parameters from grid search: {'max_depth': 1, 'n_estimators': 20}\n",
      "Accuracy: 0.4375\n",
      "ROC-AUC: 0.4882051282051282\n",
      "F1-score: 0.35714285714285715\n"
     ]
    }
   ],
   "source": [
    "from xgboost import XGBClassifier\n",
    "# XGBoost\n",
    "grid_params = {'n_estimators': [5, 10, 20, 30, 50, 100, 300, 500],\"max_depth\": [1,2,3,6]}\n",
    "xgb_model = XGBClassifier(random_state=17)\n",
    "xgb_pred, xgb_acc, xgb_roc_auc,xgb_f1, xgb_feat_imp = cv_and_predict_valid(df_x_1_train,df_y_train, xgb_model, tree = True, grid_search=True, grid_parameters=grid_params)"
   ]
  },
  {
   "cell_type": "code",
   "execution_count": 97,
   "metadata": {},
   "outputs": [
    {
     "name": "stdout",
     "output_type": "stream",
     "text": [
      "Accuracy: 0.5178571428571429\n",
      "ROC-AUC: 0.5059162136232811\n",
      "F1-score: 0.6142857142857143\n"
     ]
    }
   ],
   "source": [
    "# testing\n",
    "model = XGBClassifier(max_depth=1, n_estimators=20, random_state=17)\n",
    "model.fit(df_x_1_train, df_y_train)\n",
    "predictions = model.predict(df_x_1_test)\n",
    "accuracy = accuracy_score(df_y_test, predictions)\n",
    "roc_auc = roc_auc_score(df_y_test, predictions)\n",
    "f1 = f1_score(df_y_test, predictions)\n",
    "    \n",
    "print(f\"Accuracy: {accuracy}\")\n",
    "print(f\"ROC-AUC: {roc_auc}\")\n",
    "print(f\"F1-score: {f1}\")"
   ]
  },
  {
   "cell_type": "code",
   "execution_count": 98,
   "metadata": {},
   "outputs": [
    {
     "name": "stdout",
     "output_type": "stream",
     "text": [
      "SVC(C=0.1, class_weight='balanced', gamma=1, kernel='poly')\n",
      "Best parameters from grid search: {'C': 0.1, 'class_weight': 'balanced', 'gamma': 1, 'kernel': 'poly'}\n",
      "Accuracy: 0.609375\n",
      "ROC-AUC: 0.5\n",
      "F1-score: 0.7572815533980582\n"
     ]
    }
   ],
   "source": [
    "from sklearn.svm import SVC\n",
    "# SVM\n",
    "grid_params = {'C': [0.1, 0.3, 0.7, 1, 2],  'kernel': ['poly', 'rbf'], 'gamma': [1, 0.1, 0.01], 'class_weight': ['balanced', None]}\n",
    "svm_model = SVC()\n",
    "svm_pred, svm_acc, svm_roc_auc,svm_f1, svm_feat_imp = cv_and_predict_valid(df_x_1_train,df_y_train, svm_model, grid_search=True, grid_parameters=grid_params)"
   ]
  },
  {
   "cell_type": "code",
   "execution_count": 99,
   "metadata": {},
   "outputs": [
    {
     "name": "stdout",
     "output_type": "stream",
     "text": [
      "Accuracy: 0.5267857142857143\n",
      "ROC-AUC: 0.5\n",
      "F1-score: 0.6900584795321637\n"
     ]
    }
   ],
   "source": [
    "# testing\n",
    "model = SVC(C=0.1, class_weight='balanced', gamma=1, kernel='poly')\n",
    "model.fit(df_x_1_train, df_y_train)\n",
    "predictions = model.predict(df_x_1_test)\n",
    "accuracy = accuracy_score(df_y_test, predictions)\n",
    "roc_auc = roc_auc_score(df_y_test, predictions)\n",
    "f1 = f1_score(df_y_test, predictions)\n",
    "    \n",
    "print(f\"Accuracy: {accuracy}\")\n",
    "print(f\"ROC-AUC: {roc_auc}\")\n",
    "print(f\"F1-score: {f1}\")"
   ]
  },
  {
   "cell_type": "code",
   "execution_count": 100,
   "metadata": {},
   "outputs": [
    {
     "name": "stdout",
     "output_type": "stream",
     "text": [
      "AdaBoostClassifier(learning_rate=0.3, n_estimators=10)\n",
      "Best parameters from grid search: {'learning_rate': 0.3, 'n_estimators': 10}\n",
      "Accuracy: 0.4375\n",
      "ROC-AUC: 0.4882051282051282\n",
      "F1-score: 0.35714285714285715\n"
     ]
    },
    {
     "name": "stderr",
     "output_type": "stream",
     "text": [
      "c:\\Users\\isaen\\AppData\\Local\\Programs\\Python\\Python312\\Lib\\site-packages\\sklearn\\ensemble\\_weight_boosting.py:519: FutureWarning: The SAMME.R algorithm (the default) is deprecated and will be removed in 1.6. Use the SAMME algorithm to circumvent this warning.\n",
      "  warnings.warn(\n"
     ]
    }
   ],
   "source": [
    "from sklearn.ensemble import AdaBoostClassifier\n",
    "grid_params = {'n_estimators': [5, 10, 20, 30, 50, 100, 300, 500], 'learning_rate':[0.1, 0.3, 0.5, 1]}\n",
    "ada_model = AdaBoostClassifier()\n",
    "ada_pred, ada_acc, ada_roc_auc,ada_f1, ada_feat_imp = cv_and_predict_valid(df_x_1_train,df_y_train, ada_model, tree = True, grid_search=True, grid_parameters = grid_params)\n"
   ]
  },
  {
   "cell_type": "code",
   "execution_count": 101,
   "metadata": {},
   "outputs": [
    {
     "name": "stdout",
     "output_type": "stream",
     "text": [
      "Accuracy: 0.4642857142857143\n",
      "ROC-AUC: 0.4550687559961625\n",
      "F1-score: 0.5522388059701493\n"
     ]
    },
    {
     "name": "stderr",
     "output_type": "stream",
     "text": [
      "c:\\Users\\isaen\\AppData\\Local\\Programs\\Python\\Python312\\Lib\\site-packages\\sklearn\\ensemble\\_weight_boosting.py:519: FutureWarning: The SAMME.R algorithm (the default) is deprecated and will be removed in 1.6. Use the SAMME algorithm to circumvent this warning.\n",
      "  warnings.warn(\n"
     ]
    }
   ],
   "source": [
    "# testing\n",
    "model = AdaBoostClassifier(learning_rate=0.3, n_estimators=10)\n",
    "model.fit(df_x_1_train, df_y_train)\n",
    "predictions = model.predict(df_x_1_test)\n",
    "accuracy = accuracy_score(df_y_test, predictions)\n",
    "roc_auc = roc_auc_score(df_y_test, predictions)\n",
    "f1 = f1_score(df_y_test, predictions)\n",
    "    \n",
    "print(f\"Accuracy: {accuracy}\")\n",
    "print(f\"ROC-AUC: {roc_auc}\")\n",
    "print(f\"F1-score: {f1}\")"
   ]
  },
  {
   "cell_type": "code",
   "execution_count": 102,
   "metadata": {},
   "outputs": [
    {
     "name": "stdout",
     "output_type": "stream",
     "text": [
      "Accuracy: 0.59375\n",
      "ROC-AUC: 0.49435897435897436\n",
      "F1-score: 0.74\n"
     ]
    }
   ],
   "source": [
    "from sklearn.naive_bayes import GaussianNB\n",
    "nb_model = GaussianNB()\n",
    "nb_pred, nb_acc, nb_roc_auc,nb_f1, nb_feat_imp = cv_and_predict_valid(df_x_1_train,df_y_train, nb_model)\n"
   ]
  },
  {
   "cell_type": "code",
   "execution_count": 103,
   "metadata": {},
   "outputs": [
    {
     "name": "stdout",
     "output_type": "stream",
     "text": [
      "Accuracy: 0.48214285714285715\n",
      "ROC-AUC: 0.4643428205948193\n",
      "F1-score: 0.618421052631579\n"
     ]
    }
   ],
   "source": [
    "# testing\n",
    "model = GaussianNB()\n",
    "model.fit(df_x_1_train, df_y_train)\n",
    "predictions = model.predict(df_x_1_test)\n",
    "accuracy = accuracy_score(df_y_test, predictions)\n",
    "roc_auc = roc_auc_score(df_y_test, predictions)\n",
    "f1 = f1_score(df_y_test, predictions)\n",
    "    \n",
    "print(f\"Accuracy: {accuracy}\")\n",
    "print(f\"ROC-AUC: {roc_auc}\")\n",
    "print(f\"F1-score: {f1}\")"
   ]
  },
  {
   "cell_type": "code",
   "execution_count": 104,
   "metadata": {},
   "outputs": [
    {
     "name": "stdout",
     "output_type": "stream",
     "text": [
      "LogisticRegression(C=0.01)\n",
      "Best parameters from grid search: {'C': 0.01, 'penalty': 'l2'}\n",
      "Accuracy: 0.390625\n",
      "ROC-AUC: 0.5\n",
      "F1-score: 0.0\n"
     ]
    }
   ],
   "source": [
    "from sklearn.linear_model import LogisticRegression\n",
    "grid_params = {\n",
    "    'C': [0.01, 0.1, 1],           \n",
    "    'penalty': ['l2']  \n",
    "}\n",
    "lr_model = LogisticRegression()\n",
    "lr_pred, lr_acc, lr_roc_auc,lr_f1, lr_feat_imp = cv_and_predict_valid(df_x_1_train,df_y_train, lr_model, grid_search=True, grid_parameters=grid_params)\n"
   ]
  },
  {
   "cell_type": "code",
   "execution_count": 105,
   "metadata": {},
   "outputs": [
    {
     "name": "stdout",
     "output_type": "stream",
     "text": [
      "Accuracy: 0.5267857142857143\n",
      "ROC-AUC: 0.5\n",
      "F1-score: 0.6900584795321637\n"
     ]
    }
   ],
   "source": [
    "# testing\n",
    "model = LogisticRegression(C=0.01)\n",
    "model.fit(df_x_1_train, df_y_train)\n",
    "predictions = model.predict(df_x_1_test)\n",
    "accuracy = accuracy_score(df_y_test, predictions)\n",
    "roc_auc = roc_auc_score(df_y_test, predictions)\n",
    "f1 = f1_score(df_y_test, predictions)\n",
    "    \n",
    "print(f\"Accuracy: {accuracy}\")\n",
    "print(f\"ROC-AUC: {roc_auc}\")\n",
    "print(f\"F1-score: {f1}\")"
   ]
  },
  {
   "cell_type": "code",
   "execution_count": 106,
   "metadata": {},
   "outputs": [
    {
     "name": "stdout",
     "output_type": "stream",
     "text": [
      "KNeighborsClassifier(n_neighbors=15)\n",
      "Best parameters from grid search: {'n_neighbors': 15}\n",
      "Accuracy: 0.40625\n",
      "ROC-AUC: 0.441025641025641\n",
      "F1-score: 0.36666666666666664\n"
     ]
    }
   ],
   "source": [
    "from sklearn.neighbors import KNeighborsClassifier\n",
    "grid_params = {'n_neighbors': [1, 2, 3, 4, 5,6,7,8,9,10,15]}\n",
    "knn_model = KNeighborsClassifier()\n",
    "knn_pred, knn_acc, knn_roc_auc,knn_f1, knn_feat_imp = cv_and_predict_valid(df_x_1_train,df_y_train, knn_model, grid_search=True, grid_parameters=grid_params)\n"
   ]
  },
  {
   "cell_type": "code",
   "execution_count": 107,
   "metadata": {},
   "outputs": [
    {
     "name": "stdout",
     "output_type": "stream",
     "text": [
      "Accuracy: 0.5089285714285714\n",
      "ROC-AUC: 0.5070354972817397\n",
      "F1-score: 0.5378151260504201\n"
     ]
    }
   ],
   "source": [
    "# testing\n",
    "model = KNeighborsClassifier(n_neighbors=15)\n",
    "model.fit(df_x_1_train, df_y_train)\n",
    "predictions = model.predict(df_x_1_test)\n",
    "accuracy = accuracy_score(df_y_test, predictions)\n",
    "roc_auc = roc_auc_score(df_y_test, predictions)\n",
    "f1 = f1_score(df_y_test, predictions)\n",
    "    \n",
    "print(f\"Accuracy: {accuracy}\")\n",
    "print(f\"ROC-AUC: {roc_auc}\")\n",
    "print(f\"F1-score: {f1}\")"
   ]
  },
  {
   "cell_type": "markdown",
   "metadata": {},
   "source": [
    "# kk08 with lags"
   ]
  },
  {
   "cell_type": "code",
   "execution_count": 108,
   "metadata": {},
   "outputs": [],
   "source": [
    "df['kk08_pos_score_lag1']=df['kk08_pos_score'].shift(1)\n",
    "df['kk08_pos_score_lag2']=df['kk08_pos_score'].shift(2)\n",
    "df['kk08_pos_score_lag3']=df['kk08_pos_score'].shift(3)\n"
   ]
  },
  {
   "cell_type": "code",
   "execution_count": 109,
   "metadata": {},
   "outputs": [],
   "source": [
    "df_x_2 = df.dropna().reset_index(drop=True)[[\"kk08_pos_score\", \"kk08_pos_score_lag1\", \"kk08_pos_score_lag2\", \"kk08_pos_score_lag3\"]]\n",
    "df_y_2 = df[\"Return_sign\"].iloc[3:].reset_index(drop=True)"
   ]
  },
  {
   "cell_type": "code",
   "execution_count": 110,
   "metadata": {},
   "outputs": [
    {
     "data": {
      "text/html": [
       "<div>\n",
       "<style scoped>\n",
       "    .dataframe tbody tr th:only-of-type {\n",
       "        vertical-align: middle;\n",
       "    }\n",
       "\n",
       "    .dataframe tbody tr th {\n",
       "        vertical-align: top;\n",
       "    }\n",
       "\n",
       "    .dataframe thead th {\n",
       "        text-align: right;\n",
       "    }\n",
       "</style>\n",
       "<table border=\"1\" class=\"dataframe\">\n",
       "  <thead>\n",
       "    <tr style=\"text-align: right;\">\n",
       "      <th></th>\n",
       "      <th>kk08_pos_score</th>\n",
       "      <th>kk08_pos_score_lag1</th>\n",
       "      <th>kk08_pos_score_lag2</th>\n",
       "      <th>kk08_pos_score_lag3</th>\n",
       "    </tr>\n",
       "  </thead>\n",
       "  <tbody>\n",
       "    <tr>\n",
       "      <th>0</th>\n",
       "      <td>0.760779</td>\n",
       "      <td>0.773046</td>\n",
       "      <td>0.775810</td>\n",
       "      <td>0.755714</td>\n",
       "    </tr>\n",
       "    <tr>\n",
       "      <th>1</th>\n",
       "      <td>0.771374</td>\n",
       "      <td>0.760779</td>\n",
       "      <td>0.773046</td>\n",
       "      <td>0.775810</td>\n",
       "    </tr>\n",
       "    <tr>\n",
       "      <th>2</th>\n",
       "      <td>0.817684</td>\n",
       "      <td>0.771374</td>\n",
       "      <td>0.760779</td>\n",
       "      <td>0.773046</td>\n",
       "    </tr>\n",
       "    <tr>\n",
       "      <th>3</th>\n",
       "      <td>0.809378</td>\n",
       "      <td>0.817684</td>\n",
       "      <td>0.771374</td>\n",
       "      <td>0.760779</td>\n",
       "    </tr>\n",
       "    <tr>\n",
       "      <th>4</th>\n",
       "      <td>0.796347</td>\n",
       "      <td>0.809378</td>\n",
       "      <td>0.817684</td>\n",
       "      <td>0.771374</td>\n",
       "    </tr>\n",
       "    <tr>\n",
       "      <th>...</th>\n",
       "      <td>...</td>\n",
       "      <td>...</td>\n",
       "      <td>...</td>\n",
       "      <td>...</td>\n",
       "    </tr>\n",
       "    <tr>\n",
       "      <th>736</th>\n",
       "      <td>0.755899</td>\n",
       "      <td>0.780515</td>\n",
       "      <td>0.770758</td>\n",
       "      <td>0.750871</td>\n",
       "    </tr>\n",
       "    <tr>\n",
       "      <th>737</th>\n",
       "      <td>0.760233</td>\n",
       "      <td>0.755899</td>\n",
       "      <td>0.780515</td>\n",
       "      <td>0.770758</td>\n",
       "    </tr>\n",
       "    <tr>\n",
       "      <th>738</th>\n",
       "      <td>0.765209</td>\n",
       "      <td>0.760233</td>\n",
       "      <td>0.755899</td>\n",
       "      <td>0.780515</td>\n",
       "    </tr>\n",
       "    <tr>\n",
       "      <th>739</th>\n",
       "      <td>0.789636</td>\n",
       "      <td>0.765209</td>\n",
       "      <td>0.760233</td>\n",
       "      <td>0.755899</td>\n",
       "    </tr>\n",
       "    <tr>\n",
       "      <th>740</th>\n",
       "      <td>0.768259</td>\n",
       "      <td>0.789636</td>\n",
       "      <td>0.765209</td>\n",
       "      <td>0.760233</td>\n",
       "    </tr>\n",
       "  </tbody>\n",
       "</table>\n",
       "<p>741 rows × 4 columns</p>\n",
       "</div>"
      ],
      "text/plain": [
       "     kk08_pos_score  kk08_pos_score_lag1  kk08_pos_score_lag2  \\\n",
       "0          0.760779             0.773046             0.775810   \n",
       "1          0.771374             0.760779             0.773046   \n",
       "2          0.817684             0.771374             0.760779   \n",
       "3          0.809378             0.817684             0.771374   \n",
       "4          0.796347             0.809378             0.817684   \n",
       "..              ...                  ...                  ...   \n",
       "736        0.755899             0.780515             0.770758   \n",
       "737        0.760233             0.755899             0.780515   \n",
       "738        0.765209             0.760233             0.755899   \n",
       "739        0.789636             0.765209             0.760233   \n",
       "740        0.768259             0.789636             0.765209   \n",
       "\n",
       "     kk08_pos_score_lag3  \n",
       "0               0.755714  \n",
       "1               0.775810  \n",
       "2               0.773046  \n",
       "3               0.760779  \n",
       "4               0.771374  \n",
       "..                   ...  \n",
       "736             0.750871  \n",
       "737             0.770758  \n",
       "738             0.780515  \n",
       "739             0.755899  \n",
       "740             0.760233  \n",
       "\n",
       "[741 rows x 4 columns]"
      ]
     },
     "execution_count": 110,
     "metadata": {},
     "output_type": "execute_result"
    }
   ],
   "source": [
    "df_x_2"
   ]
  },
  {
   "cell_type": "code",
   "execution_count": 111,
   "metadata": {},
   "outputs": [
    {
     "data": {
      "text/plain": [
       "0      0\n",
       "1      1\n",
       "2      0\n",
       "3      1\n",
       "4      0\n",
       "      ..\n",
       "736    1\n",
       "737    0\n",
       "738    1\n",
       "739    1\n",
       "740    0\n",
       "Name: Return_sign, Length: 741, dtype: int64"
      ]
     },
     "execution_count": 111,
     "metadata": {},
     "output_type": "execute_result"
    }
   ],
   "source": [
    "df_y_2"
   ]
  },
  {
   "cell_type": "code",
   "execution_count": 112,
   "metadata": {},
   "outputs": [],
   "source": [
    "train_share = 0.85\n",
    "df_x_2_train = df_x_2.iloc[:int(len(df_x_2)*train_share)].reset_index(drop=True)\n",
    "df_y_2_train = df_y_2.iloc[:int(len(df_x_2)*train_share)].reset_index(drop=True)\n",
    "\n",
    "df_x_2_test = df_x_2.iloc[int(len(df_x_2)*train_share):].reset_index(drop=True)\n",
    "df_y_2_test = df_y_2.iloc[int(len(df_x_2)*train_share):].reset_index(drop=True)"
   ]
  },
  {
   "cell_type": "code",
   "execution_count": 113,
   "metadata": {},
   "outputs": [
    {
     "name": "stdout",
     "output_type": "stream",
     "text": [
      "Accuracy: 0.3968253968253968\n",
      "ROC-AUC: 0.5\n",
      "F1-score: 0.0\n"
     ]
    }
   ],
   "source": [
    "from sklearn.dummy import DummyClassifier\n",
    "dummy_model = DummyClassifier(strategy='most_frequent')\n",
    "dummy_pred, dummy_acc, dummy_roc_auc,dummy_f1, dummy_feat_imp= cv_and_predict_valid(df_x_2_train,df_y_2_train,dummy_model)\n"
   ]
  },
  {
   "cell_type": "code",
   "execution_count": 114,
   "metadata": {},
   "outputs": [
    {
     "name": "stdout",
     "output_type": "stream",
     "text": [
      "Accuracy: 0.5267857142857143\n",
      "ROC-AUC: 0.5\n",
      "F1-score: 0.6900584795321637\n"
     ]
    }
   ],
   "source": [
    "# testing\n",
    "dummy_model.fit(df_x_2_train, df_y_2_train)\n",
    "predictions = dummy_model.predict(df_x_2_test)\n",
    "accuracy = accuracy_score(df_y_2_test, predictions)\n",
    "roc_auc = roc_auc_score(df_y_2_test, predictions)\n",
    "f1 = f1_score(df_y_2_test, predictions)\n",
    "    \n",
    "print(f\"Accuracy: {accuracy}\")\n",
    "print(f\"ROC-AUC: {roc_auc}\")\n",
    "print(f\"F1-score: {f1}\")\n"
   ]
  },
  {
   "cell_type": "code",
   "execution_count": 115,
   "metadata": {},
   "outputs": [
    {
     "name": "stdout",
     "output_type": "stream",
     "text": [
      "RandomForestClassifier(max_depth=5, n_estimators=10, random_state=17)\n",
      "Best parameters from grid search: {'max_depth': 5, 'min_samples_leaf': 1, 'n_estimators': 10}\n",
      "Accuracy: 0.4603174603174603\n",
      "ROC-AUC: 0.4636842105263158\n",
      "F1-score: 0.5\n"
     ]
    }
   ],
   "source": [
    "from sklearn.ensemble import RandomForestClassifier\n",
    "# Random Forest\n",
    "grid_params = {\n",
    "    'n_estimators': [10, 30, 50, 100, 200],\n",
    "    'max_depth': [3, 5, None],\n",
    "    'min_samples_leaf': [1, 5, 10]}\n",
    "rf_model = RandomForestClassifier(random_state=17)\n",
    "rf_pred, rf_acc, rf_roc_auc,rf_f1, rf_feat_imp = cv_and_predict_valid(df_x_2_train,df_y_2_train, rf_model, tree = True, grid_search=True, grid_parameters=grid_params)"
   ]
  },
  {
   "cell_type": "code",
   "execution_count": 116,
   "metadata": {},
   "outputs": [
    {
     "name": "stdout",
     "output_type": "stream",
     "text": [
      "Accuracy: 0.4732142857142857\n",
      "ROC-AUC: 0.46929964822513587\n",
      "F1-score: 0.5203252032520326\n"
     ]
    }
   ],
   "source": [
    "# testing\n",
    "model = RandomForestClassifier(max_depth=5, n_estimators=10, random_state=17)\n",
    "\n",
    "model.fit(df_x_2_train, df_y_2_train)\n",
    "predictions = model.predict(df_x_2_test)\n",
    "accuracy = accuracy_score(df_y_2_test, predictions)\n",
    "roc_auc = roc_auc_score(df_y_2_test, predictions)\n",
    "f1 = f1_score(df_y_2_test, predictions)\n",
    "    \n",
    "print(f\"Accuracy: {accuracy}\")\n",
    "print(f\"ROC-AUC: {roc_auc}\")\n",
    "print(f\"F1-score: {f1}\")"
   ]
  },
  {
   "cell_type": "code",
   "execution_count": 117,
   "metadata": {},
   "outputs": [
    {
     "name": "stdout",
     "output_type": "stream",
     "text": [
      "XGBClassifier(base_score=None, booster=None, callbacks=None,\n",
      "              colsample_bylevel=None, colsample_bynode=None,\n",
      "              colsample_bytree=None, device=None, early_stopping_rounds=None,\n",
      "              enable_categorical=False, eval_metric=None, feature_types=None,\n",
      "              gamma=None, grow_policy=None, importance_type=None,\n",
      "              interaction_constraints=None, learning_rate=None, max_bin=None,\n",
      "              max_cat_threshold=None, max_cat_to_onehot=None,\n",
      "              max_delta_step=None, max_depth=3, max_leaves=None,\n",
      "              min_child_weight=None, missing=nan, monotone_constraints=None,\n",
      "              multi_strategy=None, n_estimators=10, n_jobs=None,\n",
      "              num_parallel_tree=None, random_state=17, ...)\n",
      "Best parameters from grid search: {'max_depth': 3, 'n_estimators': 10}\n",
      "Accuracy: 0.3968253968253968\n",
      "ROC-AUC: 0.45894736842105266\n",
      "F1-score: 0.24\n"
     ]
    }
   ],
   "source": [
    "from xgboost import XGBClassifier\n",
    "# XGBoost\n",
    "grid_params = {'n_estimators': [5, 10, 20, 30, 50, 100, 300, 500],\"max_depth\": [1,2,3,6]}\n",
    "xgb_model = XGBClassifier(random_state=17)\n",
    "xgb_pred, xgb_acc, xgb_roc_auc,xgb_f1, xgb_feat_imp = cv_and_predict_valid(df_x_2_train,df_y_2_train, xgb_model, tree = True, grid_search=True, grid_parameters=grid_params)"
   ]
  },
  {
   "cell_type": "code",
   "execution_count": 118,
   "metadata": {},
   "outputs": [
    {
     "name": "stdout",
     "output_type": "stream",
     "text": [
      "Accuracy: 0.44642857142857145\n",
      "ROC-AUC: 0.4400383754397186\n",
      "F1-score: 0.515625\n"
     ]
    }
   ],
   "source": [
    "# testing\n",
    "model = XGBClassifier(max_depth=3, n_estimators=10, random_state=17)\n",
    "\n",
    "model.fit(df_x_2_train, df_y_2_train)\n",
    "predictions = model.predict(df_x_2_test)\n",
    "accuracy = accuracy_score(df_y_2_test, predictions)\n",
    "roc_auc = roc_auc_score(df_y_2_test, predictions)\n",
    "f1 = f1_score(df_y_2_test, predictions)\n",
    "    \n",
    "print(f\"Accuracy: {accuracy}\")\n",
    "print(f\"ROC-AUC: {roc_auc}\")\n",
    "print(f\"F1-score: {f1}\")"
   ]
  },
  {
   "cell_type": "code",
   "execution_count": 119,
   "metadata": {},
   "outputs": [
    {
     "name": "stdout",
     "output_type": "stream",
     "text": [
      "SVC(C=0.1, class_weight='balanced', gamma=0.1)\n",
      "Best parameters from grid search: {'C': 0.1, 'class_weight': 'balanced', 'gamma': 0.1, 'kernel': 'rbf'}\n",
      "Accuracy: 0.3968253968253968\n",
      "ROC-AUC: 0.5\n",
      "F1-score: 0.0\n"
     ]
    }
   ],
   "source": [
    "from sklearn.svm import SVC\n",
    "# SVM\n",
    "grid_params = {'C': [0.1, 0.3, 0.7, 1, 2],  'kernel': ['poly', 'rbf'], 'gamma': [1, 0.1, 0.01], 'class_weight': ['balanced', None]}\n",
    "svm_model = SVC()\n",
    "svm_pred, svm_acc, svm_roc_auc,svm_f1, svm_feat_imp = cv_and_predict_valid(df_x_2_train,df_y_2_train, svm_model, grid_search=True, grid_parameters=grid_params)"
   ]
  },
  {
   "cell_type": "code",
   "execution_count": 120,
   "metadata": {},
   "outputs": [
    {
     "name": "stdout",
     "output_type": "stream",
     "text": [
      "Accuracy: 0.5267857142857143\n",
      "ROC-AUC: 0.5\n",
      "F1-score: 0.6900584795321637\n"
     ]
    }
   ],
   "source": [
    "# testing\n",
    "model = SVC(C=0.1, class_weight='balanced', gamma=0.1)\n",
    "\n",
    "model.fit(df_x_2_train, df_y_2_train)\n",
    "predictions = model.predict(df_x_2_test)\n",
    "accuracy = accuracy_score(df_y_2_test, predictions)\n",
    "roc_auc = roc_auc_score(df_y_2_test, predictions)\n",
    "f1 = f1_score(df_y_2_test, predictions)\n",
    "    \n",
    "print(f\"Accuracy: {accuracy}\")\n",
    "print(f\"ROC-AUC: {roc_auc}\")\n",
    "print(f\"F1-score: {f1}\")"
   ]
  },
  {
   "cell_type": "code",
   "execution_count": 121,
   "metadata": {},
   "outputs": [
    {
     "name": "stdout",
     "output_type": "stream",
     "text": [
      "AdaBoostClassifier(learning_rate=0.1, n_estimators=30)\n",
      "Best parameters from grid search: {'learning_rate': 0.1, 'n_estimators': 30}\n",
      "Accuracy: 0.4126984126984127\n",
      "ROC-AUC: 0.5063157894736842\n",
      "F1-score: 0.0975609756097561\n"
     ]
    },
    {
     "name": "stderr",
     "output_type": "stream",
     "text": [
      "c:\\Users\\isaen\\AppData\\Local\\Programs\\Python\\Python312\\Lib\\site-packages\\sklearn\\ensemble\\_weight_boosting.py:519: FutureWarning: The SAMME.R algorithm (the default) is deprecated and will be removed in 1.6. Use the SAMME algorithm to circumvent this warning.\n",
      "  warnings.warn(\n"
     ]
    }
   ],
   "source": [
    "from sklearn.ensemble import AdaBoostClassifier\n",
    "grid_params = {'n_estimators': [5, 10, 20, 30, 50, 100, 300, 500], 'learning_rate':[0.1, 0.3, 0.5, 1]}\n",
    "ada_model = AdaBoostClassifier()\n",
    "ada_pred, ada_acc, ada_roc_auc,ada_f1, ada_feat_imp = cv_and_predict_valid(df_x_2_train,df_y_2_train, ada_model, tree = True, grid_search=True, grid_parameters = grid_params)\n"
   ]
  },
  {
   "cell_type": "code",
   "execution_count": 122,
   "metadata": {},
   "outputs": [
    {
     "name": "stderr",
     "output_type": "stream",
     "text": [
      "c:\\Users\\isaen\\AppData\\Local\\Programs\\Python\\Python312\\Lib\\site-packages\\sklearn\\ensemble\\_weight_boosting.py:519: FutureWarning: The SAMME.R algorithm (the default) is deprecated and will be removed in 1.6. Use the SAMME algorithm to circumvent this warning.\n",
      "  warnings.warn(\n"
     ]
    },
    {
     "name": "stdout",
     "output_type": "stream",
     "text": [
      "Accuracy: 0.5267857142857143\n",
      "ROC-AUC: 0.501918771985929\n",
      "F1-score: 0.6826347305389222\n"
     ]
    }
   ],
   "source": [
    "# testing\n",
    "model = AdaBoostClassifier(learning_rate=0.1, n_estimators=30)\n",
    "model.fit(df_x_2_train, df_y_2_train)\n",
    "predictions = model.predict(df_x_2_test)\n",
    "accuracy = accuracy_score(df_y_2_test, predictions)\n",
    "roc_auc = roc_auc_score(df_y_2_test, predictions)\n",
    "f1 = f1_score(df_y_2_test, predictions)\n",
    "    \n",
    "print(f\"Accuracy: {accuracy}\")\n",
    "print(f\"ROC-AUC: {roc_auc}\")\n",
    "print(f\"F1-score: {f1}\")"
   ]
  },
  {
   "cell_type": "code",
   "execution_count": 123,
   "metadata": {},
   "outputs": [
    {
     "name": "stdout",
     "output_type": "stream",
     "text": [
      "Accuracy: 0.5079365079365079"
     ]
    },
    {
     "name": "stdout",
     "output_type": "stream",
     "text": [
      "\n",
      "ROC-AUC: 0.5442105263157895\n",
      "F1-score: 0.4745762711864407\n"
     ]
    }
   ],
   "source": [
    "from sklearn.naive_bayes import GaussianNB\n",
    "nb_model = GaussianNB()\n",
    "nb_pred, nb_acc, nb_roc_auc,nb_f1, nb_feat_imp = cv_and_predict_valid(df_x_2_train,df_y_2_train, nb_model)\n"
   ]
  },
  {
   "cell_type": "code",
   "execution_count": 124,
   "metadata": {},
   "outputs": [
    {
     "name": "stdout",
     "output_type": "stream",
     "text": [
      "Accuracy: 0.49107142857142855\n",
      "ROC-AUC: 0.5015989766549409\n",
      "F1-score: 0.3870967741935484\n"
     ]
    }
   ],
   "source": [
    "# testing\n",
    "model = GaussianNB()\n",
    "\n",
    "model.fit(df_x_2_train, df_y_2_train)\n",
    "predictions = model.predict(df_x_2_test)\n",
    "accuracy = accuracy_score(df_y_2_test, predictions)\n",
    "roc_auc = roc_auc_score(df_y_2_test, predictions)\n",
    "f1 = f1_score(df_y_2_test, predictions)\n",
    "    \n",
    "print(f\"Accuracy: {accuracy}\")\n",
    "print(f\"ROC-AUC: {roc_auc}\")\n",
    "print(f\"F1-score: {f1}\")"
   ]
  },
  {
   "cell_type": "code",
   "execution_count": 125,
   "metadata": {},
   "outputs": [
    {
     "name": "stdout",
     "output_type": "stream",
     "text": [
      "LogisticRegression(C=0.01)\n",
      "Best parameters from grid search: {'C': 0.01, 'penalty': 'l2'}\n",
      "Accuracy: 0.3968253968253968\n",
      "ROC-AUC: 0.5\n",
      "F1-score: 0.0\n"
     ]
    }
   ],
   "source": [
    "from sklearn.linear_model import LogisticRegression\n",
    "grid_params = {\n",
    "    'C': [0.01, 0.1, 1],           \n",
    "    'penalty': ['l2']  \n",
    "}\n",
    "lr_model = LogisticRegression()\n",
    "lr_pred, lr_acc, lr_roc_auc,lr_f1, lr_feat_imp = cv_and_predict_valid(df_x_2_train,df_y_2_train, lr_model, grid_search=True, grid_parameters=grid_params)\n"
   ]
  },
  {
   "cell_type": "code",
   "execution_count": 126,
   "metadata": {},
   "outputs": [
    {
     "name": "stdout",
     "output_type": "stream",
     "text": [
      "Accuracy: 0.5267857142857143\n",
      "ROC-AUC: 0.5\n",
      "F1-score: 0.6900584795321637\n"
     ]
    }
   ],
   "source": [
    "# testing\n",
    "model = LogisticRegression(C=0.01)\n",
    "\n",
    "model.fit(df_x_2_train, df_y_2_train)\n",
    "predictions = model.predict(df_x_2_test)\n",
    "accuracy = accuracy_score(df_y_2_test, predictions)\n",
    "roc_auc = roc_auc_score(df_y_2_test, predictions)\n",
    "f1 = f1_score(df_y_2_test, predictions)\n",
    "    \n",
    "print(f\"Accuracy: {accuracy}\")\n",
    "print(f\"ROC-AUC: {roc_auc}\")\n",
    "print(f\"F1-score: {f1}\")"
   ]
  },
  {
   "cell_type": "code",
   "execution_count": 127,
   "metadata": {},
   "outputs": [
    {
     "name": "stdout",
     "output_type": "stream",
     "text": [
      "KNeighborsClassifier(n_neighbors=3)\n",
      "Best parameters from grid search: {'n_neighbors': 3}\n",
      "Accuracy: 0.5079365079365079\n",
      "ROC-AUC: 0.4826315789473684\n",
      "F1-score: 0.5974025974025974\n"
     ]
    }
   ],
   "source": [
    "from sklearn.neighbors import KNeighborsClassifier\n",
    "grid_params = {'n_neighbors': [1, 2, 3, 4, 5, 10, 20, 50]}\n",
    "knn_model = KNeighborsClassifier()\n",
    "knn_pred, knn_acc, knn_roc_auc,knn_f1, knn_feat_imp = cv_and_predict_valid(df_x_2_train,df_y_2_train, knn_model, grid_search=True, grid_parameters=grid_params)\n"
   ]
  },
  {
   "cell_type": "code",
   "execution_count": 128,
   "metadata": {},
   "outputs": [
    {
     "name": "stdout",
     "output_type": "stream",
     "text": [
      "Accuracy: 0.5178571428571429\n",
      "ROC-AUC: 0.5183882315318196\n",
      "F1-score: 0.5263157894736842\n"
     ]
    }
   ],
   "source": [
    "# testing\n",
    "model = KNeighborsClassifier(n_neighbors=3)\n",
    "\n",
    "model.fit(df_x_2_train, df_y_2_train)\n",
    "predictions = model.predict(df_x_2_test)\n",
    "accuracy = accuracy_score(df_y_2_test, predictions)\n",
    "roc_auc = roc_auc_score(df_y_2_test, predictions)\n",
    "f1 = f1_score(df_y_2_test, predictions)\n",
    "    \n",
    "print(f\"Accuracy: {accuracy}\")\n",
    "print(f\"ROC-AUC: {roc_auc}\")\n",
    "print(f\"F1-score: {f1}\")"
   ]
  },
  {
   "cell_type": "code",
   "execution_count": null,
   "metadata": {},
   "outputs": [],
   "source": []
  },
  {
   "cell_type": "markdown",
   "metadata": {},
   "source": [
    "# Only vader"
   ]
  },
  {
   "cell_type": "code",
   "execution_count": 129,
   "metadata": {},
   "outputs": [],
   "source": [
    "df_x_3 = df[[\"Sentiment_vader\"]]\n",
    "df_y = df[\"Return_sign\"]"
   ]
  },
  {
   "cell_type": "code",
   "execution_count": 130,
   "metadata": {},
   "outputs": [],
   "source": [
    "train_share = 0.85\n",
    "df_x_3_train = df_x_3.iloc[:int(len(df_x_3)*train_share)].reset_index(drop=True)\n",
    "df_y_train = df_y.iloc[:int(len(df_x_3)*train_share)].reset_index(drop=True)\n",
    "\n",
    "df_x_3_test = df_x_3.iloc[int(len(df_x_3)*train_share):].reset_index(drop=True)\n",
    "df_y_test = df_y.iloc[int(len(df_x_3)*train_share):].reset_index(drop=True)"
   ]
  },
  {
   "cell_type": "code",
   "execution_count": 131,
   "metadata": {},
   "outputs": [
    {
     "name": "stdout",
     "output_type": "stream",
     "text": [
      "Accuracy: 0.390625\n",
      "ROC-AUC: 0.5\n",
      "F1-score: 0.0\n"
     ]
    }
   ],
   "source": [
    "from sklearn.dummy import DummyClassifier\n",
    "dummy_model = DummyClassifier(strategy='most_frequent')\n",
    "dummy_pred, dummy_acc, dummy_roc_auc,dummy_f1, dummy_feat_imp= cv_and_predict_valid(df_x_3_train,df_y_train,dummy_model)\n"
   ]
  },
  {
   "cell_type": "code",
   "execution_count": 132,
   "metadata": {},
   "outputs": [
    {
     "name": "stdout",
     "output_type": "stream",
     "text": [
      "Accuracy: 0.5267857142857143\n",
      "ROC-AUC: 0.5\n",
      "F1-score: 0.6900584795321637\n"
     ]
    }
   ],
   "source": [
    "# testing\n",
    "model = DummyClassifier(strategy='most_frequent')\n",
    "\n",
    "model.fit(df_x_3_train, df_y_train)\n",
    "predictions = model.predict(df_x_3_test)\n",
    "accuracy = accuracy_score(df_y_test, predictions)\n",
    "roc_auc = roc_auc_score(df_y_test, predictions)\n",
    "f1 = f1_score(df_y_test, predictions)\n",
    "    \n",
    "print(f\"Accuracy: {accuracy}\")\n",
    "print(f\"ROC-AUC: {roc_auc}\")\n",
    "print(f\"F1-score: {f1}\")"
   ]
  },
  {
   "cell_type": "code",
   "execution_count": 133,
   "metadata": {},
   "outputs": [
    {
     "name": "stdout",
     "output_type": "stream",
     "text": [
      "RandomForestClassifier(n_estimators=10, random_state=17)\n",
      "Best parameters from grid search: {'n_estimators': 10}\n",
      "Accuracy: 0.546875\n",
      "ROC-AUC: 0.5492307692307692\n",
      "F1-score: 0.5915492957746479\n"
     ]
    }
   ],
   "source": [
    "from sklearn.ensemble import RandomForestClassifier\n",
    "# Random Forest\n",
    "grid_params = {'n_estimators': [5, 10, 20, 50,100]}\n",
    "rf_model = RandomForestClassifier(random_state=17)\n",
    "rf_pred, rf_acc, rf_roc_auc,rf_f1, rf_feat_imp = cv_and_predict_valid(df_x_3_train,df_y_train, rf_model, tree = True, grid_search=True, grid_parameters=grid_params)"
   ]
  },
  {
   "cell_type": "code",
   "execution_count": 134,
   "metadata": {},
   "outputs": [
    {
     "name": "stdout",
     "output_type": "stream",
     "text": [
      "Accuracy: 0.4732142857142857\n",
      "ROC-AUC: 0.4721778062040294\n",
      "F1-score: 0.49572649572649574\n"
     ]
    }
   ],
   "source": [
    "# testing\n",
    "model = RandomForestClassifier(random_state=17)\n",
    "model.fit(df_x_3_train, df_y_train)\n",
    "predictions = model.predict(df_x_3_test)\n",
    "accuracy = accuracy_score(df_y_test, predictions)\n",
    "roc_auc = roc_auc_score(df_y_test, predictions)\n",
    "f1 = f1_score(df_y_test, predictions)\n",
    "    \n",
    "print(f\"Accuracy: {accuracy}\")\n",
    "print(f\"ROC-AUC: {roc_auc}\")\n",
    "print(f\"F1-score: {f1}\")"
   ]
  },
  {
   "cell_type": "code",
   "execution_count": 135,
   "metadata": {},
   "outputs": [
    {
     "name": "stdout",
     "output_type": "stream",
     "text": [
      "XGBClassifier(base_score=None, booster=None, callbacks=None,\n",
      "              colsample_bylevel=None, colsample_bynode=None,\n",
      "              colsample_bytree=None, device=None, early_stopping_rounds=None,\n",
      "              enable_categorical=False, eval_metric=None, feature_types=None,\n",
      "              gamma=None, grow_policy=None, importance_type=None,\n",
      "              interaction_constraints=None, learning_rate=None, max_bin=None,\n",
      "              max_cat_threshold=None, max_cat_to_onehot=None,\n",
      "              max_delta_step=None, max_depth=3, max_leaves=None,\n",
      "              min_child_weight=None, missing=nan, monotone_constraints=None,\n",
      "              multi_strategy=None, n_estimators=5, n_jobs=None,\n",
      "              num_parallel_tree=None, random_state=17, ...)\n",
      "Best parameters from grid search: {'max_depth': 3, 'n_estimators': 5}\n",
      "Accuracy: 0.5625\n",
      "ROC-AUC: 0.5405128205128205\n",
      "F1-score: 0.6410256410256411\n"
     ]
    }
   ],
   "source": [
    "from xgboost import XGBClassifier\n",
    "# XGBoost\n",
    "grid_params = {'n_estimators': [5, 10, 20, 30, 50, 100, 300, 500],\"max_depth\": [1,2,3,6]}\n",
    "xgb_model = XGBClassifier(random_state=17)\n",
    "xgb_pred, xgb_acc, xgb_roc_auc,xgb_f1, xgb_feat_imp = cv_and_predict_valid(df_x_3_train,df_y_train, xgb_model, tree = True, grid_search=True, grid_parameters=grid_params)"
   ]
  },
  {
   "cell_type": "code",
   "execution_count": 136,
   "metadata": {},
   "outputs": [
    {
     "name": "stdout",
     "output_type": "stream",
     "text": [
      "Accuracy: 0.5089285714285714\n",
      "ROC-AUC: 0.4984010233450592\n",
      "F1-score: 0.5985401459854015\n"
     ]
    }
   ],
   "source": [
    "# testing\n",
    "model = XGBClassifier(random_state=17, max_depth = 1, n_estimators = 20)\n",
    "model.fit(df_x_3_train, df_y_train)\n",
    "predictions = model.predict(df_x_3_test)\n",
    "accuracy = accuracy_score(df_y_test, predictions)\n",
    "roc_auc = roc_auc_score(df_y_test, predictions)\n",
    "f1 = f1_score(df_y_test, predictions)\n",
    "    \n",
    "print(f\"Accuracy: {accuracy}\")\n",
    "print(f\"ROC-AUC: {roc_auc}\")\n",
    "print(f\"F1-score: {f1}\")"
   ]
  },
  {
   "cell_type": "code",
   "execution_count": 137,
   "metadata": {},
   "outputs": [
    {
     "name": "stdout",
     "output_type": "stream",
     "text": [
      "SVC(C=0.1, class_weight='balanced', gamma=1, kernel='poly')\n",
      "Best parameters from grid search: {'C': 0.1, 'class_weight': 'balanced', 'gamma': 1, 'kernel': 'poly'}\n",
      "Accuracy: 0.609375\n",
      "ROC-AUC: 0.5\n",
      "F1-score: 0.7572815533980582\n"
     ]
    }
   ],
   "source": [
    "from sklearn.svm import SVC\n",
    "# SVM\n",
    "grid_params = {'C': [0.1, 0.3, 0.7, 1, 2],  'kernel': ['poly', 'rbf'], 'gamma': [1, 0.1, 0.01], 'class_weight': ['balanced', None]}\n",
    "svm_model = SVC()\n",
    "svm_pred, svm_acc, svm_roc_auc,svm_f1, svm_feat_imp = cv_and_predict_valid(df_x_3_train,df_y_train, svm_model, grid_search=True, grid_parameters=grid_params)"
   ]
  },
  {
   "cell_type": "code",
   "execution_count": 138,
   "metadata": {},
   "outputs": [
    {
     "name": "stdout",
     "output_type": "stream",
     "text": [
      "Accuracy: 0.5267857142857143\n",
      "ROC-AUC: 0.5\n",
      "F1-score: 0.6900584795321637\n"
     ]
    }
   ],
   "source": [
    "# testing\n",
    "model = SVC(C=0.1, class_weight='balanced', gamma=1, kernel='poly')\n",
    "model.fit(df_x_3_train, df_y_train)\n",
    "predictions = model.predict(df_x_3_test)\n",
    "accuracy = accuracy_score(df_y_test, predictions)\n",
    "roc_auc = roc_auc_score(df_y_test, predictions)\n",
    "f1 = f1_score(df_y_test, predictions)\n",
    "    \n",
    "print(f\"Accuracy: {accuracy}\")\n",
    "print(f\"ROC-AUC: {roc_auc}\")\n",
    "print(f\"F1-score: {f1}\")"
   ]
  },
  {
   "cell_type": "code",
   "execution_count": 139,
   "metadata": {},
   "outputs": [
    {
     "name": "stderr",
     "output_type": "stream",
     "text": [
      "c:\\Users\\isaen\\AppData\\Local\\Programs\\Python\\Python312\\Lib\\site-packages\\sklearn\\ensemble\\_weight_boosting.py:519: FutureWarning: The SAMME.R algorithm (the default) is deprecated and will be removed in 1.6. Use the SAMME algorithm to circumvent this warning.\n",
      "  warnings.warn(\n"
     ]
    },
    {
     "name": "stdout",
     "output_type": "stream",
     "text": [
      "AdaBoostClassifier(learning_rate=0.5, n_estimators=300)\n",
      "Best parameters from grid search: {'learning_rate': 0.5, 'n_estimators': 300}\n",
      "Accuracy: 0.484375\n",
      "ROC-AUC: 0.49076923076923085\n",
      "F1-score: 0.5217391304347826\n"
     ]
    }
   ],
   "source": [
    "from sklearn.ensemble import AdaBoostClassifier\n",
    "grid_params = {'n_estimators': [5, 10, 20, 30, 50, 100, 300, 500], 'learning_rate':[0.1, 0.3, 0.5, 1]}\n",
    "ada_model = AdaBoostClassifier()\n",
    "ada_pred, ada_acc, ada_roc_auc,ada_f1, ada_feat_imp = cv_and_predict_valid(df_x_3_train,df_y_train, ada_model, tree = True, grid_search=True, grid_parameters = grid_params)\n"
   ]
  },
  {
   "cell_type": "code",
   "execution_count": 140,
   "metadata": {},
   "outputs": [
    {
     "name": "stdout",
     "output_type": "stream",
     "text": [
      "Accuracy: 0.5089285714285714\n",
      "ROC-AUC: 0.4984010233450592\n",
      "F1-score: 0.5985401459854015\n"
     ]
    },
    {
     "name": "stderr",
     "output_type": "stream",
     "text": [
      "c:\\Users\\isaen\\AppData\\Local\\Programs\\Python\\Python312\\Lib\\site-packages\\sklearn\\ensemble\\_weight_boosting.py:519: FutureWarning: The SAMME.R algorithm (the default) is deprecated and will be removed in 1.6. Use the SAMME algorithm to circumvent this warning.\n",
      "  warnings.warn(\n"
     ]
    }
   ],
   "source": [
    "# testing\n",
    "model = AdaBoostClassifier(learning_rate=0.3, n_estimators=10)\n",
    "model.fit(df_x_3_train, df_y_train)\n",
    "predictions = model.predict(df_x_3_test)\n",
    "accuracy = accuracy_score(df_y_test, predictions)\n",
    "roc_auc = roc_auc_score(df_y_test, predictions)\n",
    "f1 = f1_score(df_y_test, predictions)\n",
    "    \n",
    "print(f\"Accuracy: {accuracy}\")\n",
    "print(f\"ROC-AUC: {roc_auc}\")\n",
    "print(f\"F1-score: {f1}\")"
   ]
  },
  {
   "cell_type": "code",
   "execution_count": null,
   "metadata": {},
   "outputs": [],
   "source": []
  },
  {
   "cell_type": "code",
   "execution_count": 141,
   "metadata": {},
   "outputs": [
    {
     "name": "stdout",
     "output_type": "stream",
     "text": [
      "Accuracy: 0.625\n",
      "ROC-AUC: 0.5271794871794871\n",
      "F1-score: 0.76\n"
     ]
    }
   ],
   "source": [
    "from sklearn.naive_bayes import GaussianNB\n",
    "nb_model = GaussianNB()\n",
    "nb_pred, nb_acc, nb_roc_auc,nb_f1, nb_feat_imp = cv_and_predict_valid(df_x_3_train,df_y_train, nb_model)\n"
   ]
  },
  {
   "cell_type": "code",
   "execution_count": 142,
   "metadata": {},
   "outputs": [
    {
     "name": "stdout",
     "output_type": "stream",
     "text": [
      "Accuracy: 0.5\n",
      "ROC-AUC: 0.47841381515829867\n",
      "F1-score: 0.65\n"
     ]
    }
   ],
   "source": [
    "# testing\n",
    "model = GaussianNB()\n",
    "model.fit(df_x_3_train, df_y_train)\n",
    "predictions = model.predict(df_x_3_test)\n",
    "accuracy = accuracy_score(df_y_test, predictions)\n",
    "roc_auc = roc_auc_score(df_y_test, predictions)\n",
    "f1 = f1_score(df_y_test, predictions)\n",
    "    \n",
    "print(f\"Accuracy: {accuracy}\")\n",
    "print(f\"ROC-AUC: {roc_auc}\")\n",
    "print(f\"F1-score: {f1}\")"
   ]
  },
  {
   "cell_type": "code",
   "execution_count": 143,
   "metadata": {},
   "outputs": [
    {
     "name": "stdout",
     "output_type": "stream",
     "text": [
      "Accuracy: 0.578125\n",
      "ROC-AUC: 0.5533333333333332\n",
      "F1-score: 0.6582278481012658\n"
     ]
    }
   ],
   "source": [
    "from sklearn.linear_model import LogisticRegression\n",
    "lr_model = LogisticRegression()\n",
    "lr_pred, lr_acc, lr_roc_auc,lr_f1, lr_feat_imp = cv_and_predict_valid(df_x_3_train,df_y_train, lr_model)\n"
   ]
  },
  {
   "cell_type": "code",
   "execution_count": 144,
   "metadata": {},
   "outputs": [
    {
     "name": "stdout",
     "output_type": "stream",
     "text": [
      "Accuracy: 0.5267857142857143\n",
      "ROC-AUC: 0.5\n",
      "F1-score: 0.6900584795321637\n"
     ]
    }
   ],
   "source": [
    "# testing\n",
    "model = LogisticRegression()\n",
    "model.fit(df_x_3_train, df_y_train)\n",
    "predictions = model.predict(df_x_3_test)\n",
    "accuracy = accuracy_score(df_y_test, predictions)\n",
    "roc_auc = roc_auc_score(df_y_test, predictions)\n",
    "f1 = f1_score(df_y_test, predictions)\n",
    "    \n",
    "print(f\"Accuracy: {accuracy}\")\n",
    "print(f\"ROC-AUC: {roc_auc}\")\n",
    "print(f\"F1-score: {f1}\")"
   ]
  },
  {
   "cell_type": "code",
   "execution_count": 256,
   "metadata": {},
   "outputs": [
    {
     "name": "stdout",
     "output_type": "stream",
     "text": [
      "KNeighborsClassifier(n_neighbors=20)\n",
      "Best parameters from grid search: {'n_neighbors': 20}\n",
      "Accuracy: 0.4375\n",
      "ROC-AUC: 0.4451282051282051\n",
      "F1-score: 0.47058823529411764\n"
     ]
    }
   ],
   "source": [
    "from sklearn.neighbors import KNeighborsClassifier\n",
    "grid_params = {'n_neighbors': [10, 20, 50]}\n",
    "knn_model = KNeighborsClassifier()\n",
    "knn_pred, knn_acc, knn_roc_auc,knn_f1, knn_feat_imp = cv_and_predict_valid(df_x_3_train,df_y_train, knn_model, grid_search=True, grid_parameters=grid_params)\n"
   ]
  },
  {
   "cell_type": "code",
   "execution_count": 257,
   "metadata": {},
   "outputs": [
    {
     "name": "stdout",
     "output_type": "stream",
     "text": [
      "Accuracy: 0.5446428571428571\n",
      "ROC-AUC: 0.5486088903102014\n",
      "F1-score: 0.5233644859813084\n"
     ]
    }
   ],
   "source": [
    "# testing\n",
    "model = KNeighborsClassifier(n_neighbors=20)\n",
    "model.fit(df_x_3_train, df_y_train)\n",
    "predictions = model.predict(df_x_3_test)\n",
    "accuracy = accuracy_score(df_y_test, predictions)\n",
    "roc_auc = roc_auc_score(df_y_test, predictions)\n",
    "f1 = f1_score(df_y_test, predictions)\n",
    "    \n",
    "print(f\"Accuracy: {accuracy}\")\n",
    "print(f\"ROC-AUC: {roc_auc}\")\n",
    "print(f\"F1-score: {f1}\")"
   ]
  },
  {
   "cell_type": "markdown",
   "metadata": {},
   "source": [
    "# Vader with lags"
   ]
  },
  {
   "cell_type": "code",
   "execution_count": 147,
   "metadata": {},
   "outputs": [
    {
     "data": {
      "text/html": [
       "<div>\n",
       "<style scoped>\n",
       "    .dataframe tbody tr th:only-of-type {\n",
       "        vertical-align: middle;\n",
       "    }\n",
       "\n",
       "    .dataframe tbody tr th {\n",
       "        vertical-align: top;\n",
       "    }\n",
       "\n",
       "    .dataframe thead th {\n",
       "        text-align: right;\n",
       "    }\n",
       "</style>\n",
       "<table border=\"1\" class=\"dataframe\">\n",
       "  <thead>\n",
       "    <tr style=\"text-align: right;\">\n",
       "      <th></th>\n",
       "      <th>Date_1H</th>\n",
       "      <th>datetime</th>\n",
       "      <th>text</th>\n",
       "      <th>username</th>\n",
       "      <th>kk08_pos_score</th>\n",
       "      <th>kk08_score_diff</th>\n",
       "      <th>Elkulako_label</th>\n",
       "      <th>Sentiment_vader</th>\n",
       "      <th>pred</th>\n",
       "      <th>analysis</th>\n",
       "      <th>...</th>\n",
       "      <th>rise</th>\n",
       "      <th>fall</th>\n",
       "      <th>date</th>\n",
       "      <th>open</th>\n",
       "      <th>close</th>\n",
       "      <th>Return</th>\n",
       "      <th>Return_sign</th>\n",
       "      <th>kk08_pos_score_lag1</th>\n",
       "      <th>kk08_pos_score_lag2</th>\n",
       "      <th>kk08_pos_score_lag3</th>\n",
       "    </tr>\n",
       "  </thead>\n",
       "  <tbody>\n",
       "    <tr>\n",
       "      <th>0</th>\n",
       "      <td>2022-01-01 01:00:00</td>\n",
       "      <td>['2022-01-01 00:00:00', '2022-01-01 00:00:00',...</td>\n",
       "      <td>Current Price of Bitcoin:\\n$46320 (-1.85%)\\n\\n...</td>\n",
       "      <td>CryptoNerdApp\\nTrendSpider\\nMadStudentScie1\\nW...</td>\n",
       "      <td>0.755714</td>\n",
       "      <td>0.511428</td>\n",
       "      <td>0.364813</td>\n",
       "      <td>0.161558</td>\n",
       "      <td>34</td>\n",
       "      <td>72</td>\n",
       "      <td>...</td>\n",
       "      <td>20</td>\n",
       "      <td>65</td>\n",
       "      <td>2022-01-01 01:00:00</td>\n",
       "      <td>46656.14</td>\n",
       "      <td>46778.14</td>\n",
       "      <td>0.002615</td>\n",
       "      <td>1</td>\n",
       "      <td>NaN</td>\n",
       "      <td>NaN</td>\n",
       "      <td>NaN</td>\n",
       "    </tr>\n",
       "    <tr>\n",
       "      <th>1</th>\n",
       "      <td>2022-01-01 02:00:00</td>\n",
       "      <td>['2022-01-01 01:00:00', '2022-01-01 01:00:00',...</td>\n",
       "      <td>Today's Cryptocurrency Fear And Greed Index: 2...</td>\n",
       "      <td>FearAndGreedBot\\nOfficialOverbit\\nBTC_AI_bot\\n...</td>\n",
       "      <td>0.775810</td>\n",
       "      <td>0.551621</td>\n",
       "      <td>0.343045</td>\n",
       "      <td>0.174069</td>\n",
       "      <td>30</td>\n",
       "      <td>29</td>\n",
       "      <td>...</td>\n",
       "      <td>13</td>\n",
       "      <td>30</td>\n",
       "      <td>2022-01-01 02:00:00</td>\n",
       "      <td>46778.14</td>\n",
       "      <td>46811.77</td>\n",
       "      <td>0.000719</td>\n",
       "      <td>1</td>\n",
       "      <td>0.755714</td>\n",
       "      <td>NaN</td>\n",
       "      <td>NaN</td>\n",
       "    </tr>\n",
       "    <tr>\n",
       "      <th>2</th>\n",
       "      <td>2022-01-01 03:00:00</td>\n",
       "      <td>['2022-01-01 02:00:00', '2022-01-01 02:00:00',...</td>\n",
       "      <td>Huobi Singapore would like to wish you a Happy...</td>\n",
       "      <td>HuobiSg\\nAmazonCash4Cars\\nBTC_AI_bot\\nCalvinAy...</td>\n",
       "      <td>0.773046</td>\n",
       "      <td>0.546093</td>\n",
       "      <td>0.427992</td>\n",
       "      <td>0.181803</td>\n",
       "      <td>23</td>\n",
       "      <td>24</td>\n",
       "      <td>...</td>\n",
       "      <td>11</td>\n",
       "      <td>24</td>\n",
       "      <td>2022-01-01 03:00:00</td>\n",
       "      <td>46811.77</td>\n",
       "      <td>46813.20</td>\n",
       "      <td>0.000031</td>\n",
       "      <td>1</td>\n",
       "      <td>0.775810</td>\n",
       "      <td>0.755714</td>\n",
       "      <td>NaN</td>\n",
       "    </tr>\n",
       "    <tr>\n",
       "      <th>3</th>\n",
       "      <td>2022-01-01 04:00:00</td>\n",
       "      <td>['2022-01-01 03:00:00', '2022-01-01 03:00:00',...</td>\n",
       "      <td>1 ARS is 10.26 satoshis right now.\\n\\n1 satosh...</td>\n",
       "      <td>SatoshiARS_bot\\nbitcoinpartyall\\ncryptopediaK7...</td>\n",
       "      <td>0.760779</td>\n",
       "      <td>0.521558</td>\n",
       "      <td>0.325186</td>\n",
       "      <td>0.175078</td>\n",
       "      <td>26</td>\n",
       "      <td>20</td>\n",
       "      <td>...</td>\n",
       "      <td>12</td>\n",
       "      <td>22</td>\n",
       "      <td>2022-01-01 04:00:00</td>\n",
       "      <td>46813.21</td>\n",
       "      <td>46711.05</td>\n",
       "      <td>-0.002182</td>\n",
       "      <td>0</td>\n",
       "      <td>0.773046</td>\n",
       "      <td>0.775810</td>\n",
       "      <td>0.755714</td>\n",
       "    </tr>\n",
       "    <tr>\n",
       "      <th>4</th>\n",
       "      <td>2022-01-01 05:00:00</td>\n",
       "      <td>['2022-01-01 04:00:00', '2022-01-01 04:00:00',...</td>\n",
       "      <td>Buy Bitcoin $BTC @ 46813.2\\nAn online trader h...</td>\n",
       "      <td>BTC_AI_bot\\nnewscomauHQ\\ncryptozone007\\nCarbon...</td>\n",
       "      <td>0.771374</td>\n",
       "      <td>0.542747</td>\n",
       "      <td>0.377858</td>\n",
       "      <td>0.152699</td>\n",
       "      <td>26</td>\n",
       "      <td>19</td>\n",
       "      <td>...</td>\n",
       "      <td>12</td>\n",
       "      <td>16</td>\n",
       "      <td>2022-01-01 05:00:00</td>\n",
       "      <td>46711.05</td>\n",
       "      <td>47192.55</td>\n",
       "      <td>0.010308</td>\n",
       "      <td>1</td>\n",
       "      <td>0.760779</td>\n",
       "      <td>0.773046</td>\n",
       "      <td>0.775810</td>\n",
       "    </tr>\n",
       "    <tr>\n",
       "      <th>...</th>\n",
       "      <td>...</td>\n",
       "      <td>...</td>\n",
       "      <td>...</td>\n",
       "      <td>...</td>\n",
       "      <td>...</td>\n",
       "      <td>...</td>\n",
       "      <td>...</td>\n",
       "      <td>...</td>\n",
       "      <td>...</td>\n",
       "      <td>...</td>\n",
       "      <td>...</td>\n",
       "      <td>...</td>\n",
       "      <td>...</td>\n",
       "      <td>...</td>\n",
       "      <td>...</td>\n",
       "      <td>...</td>\n",
       "      <td>...</td>\n",
       "      <td>...</td>\n",
       "      <td>...</td>\n",
       "      <td>...</td>\n",
       "      <td>...</td>\n",
       "    </tr>\n",
       "    <tr>\n",
       "      <th>739</th>\n",
       "      <td>2022-01-31 20:00:00</td>\n",
       "      <td>['2022-01-31 19:00:00', '2022-01-31 19:00:00',...</td>\n",
       "      <td>What's your favourite coins to stake and where...</td>\n",
       "      <td>CheekyCrypto\\naburke626\\nQuantumDelta\\nBTC_AI_...</td>\n",
       "      <td>0.755899</td>\n",
       "      <td>0.511798</td>\n",
       "      <td>0.261918</td>\n",
       "      <td>0.131531</td>\n",
       "      <td>21</td>\n",
       "      <td>28</td>\n",
       "      <td>...</td>\n",
       "      <td>8</td>\n",
       "      <td>20</td>\n",
       "      <td>2022-01-31 20:00:00</td>\n",
       "      <td>38415.79</td>\n",
       "      <td>38450.62</td>\n",
       "      <td>0.000907</td>\n",
       "      <td>1</td>\n",
       "      <td>0.780515</td>\n",
       "      <td>0.770758</td>\n",
       "      <td>0.750871</td>\n",
       "    </tr>\n",
       "    <tr>\n",
       "      <th>740</th>\n",
       "      <td>2022-01-31 21:00:00</td>\n",
       "      <td>['2022-01-31 20:00:00', '2022-01-31 20:00:00',...</td>\n",
       "      <td>Buy Bitcoin $BTC @ 38415.79\\nLIVE: #Bitcoin be...</td>\n",
       "      <td>BTC_AI_bot\\nCoinDesk\\nbitcoinrate247\\nSquatche...</td>\n",
       "      <td>0.760233</td>\n",
       "      <td>0.520465</td>\n",
       "      <td>0.286062</td>\n",
       "      <td>0.136021</td>\n",
       "      <td>23</td>\n",
       "      <td>34</td>\n",
       "      <td>...</td>\n",
       "      <td>16</td>\n",
       "      <td>12</td>\n",
       "      <td>2022-01-31 21:00:00</td>\n",
       "      <td>38450.62</td>\n",
       "      <td>38410.09</td>\n",
       "      <td>-0.001054</td>\n",
       "      <td>0</td>\n",
       "      <td>0.755899</td>\n",
       "      <td>0.780515</td>\n",
       "      <td>0.770758</td>\n",
       "    </tr>\n",
       "    <tr>\n",
       "      <th>741</th>\n",
       "      <td>2022-01-31 22:00:00</td>\n",
       "      <td>['2022-01-31 21:00:00', '2022-01-31 21:00:00',...</td>\n",
       "      <td>1 ARS is 12.17 satoshis right now.\\n\\n1 satosh...</td>\n",
       "      <td>SatoshiARS_bot\\nCryptoTopCharts\\nIBKR\\nCryptoN...</td>\n",
       "      <td>0.765209</td>\n",
       "      <td>0.530418</td>\n",
       "      <td>0.244444</td>\n",
       "      <td>0.142816</td>\n",
       "      <td>21</td>\n",
       "      <td>24</td>\n",
       "      <td>...</td>\n",
       "      <td>25</td>\n",
       "      <td>17</td>\n",
       "      <td>2022-01-31 22:00:00</td>\n",
       "      <td>38410.09</td>\n",
       "      <td>38412.46</td>\n",
       "      <td>0.000062</td>\n",
       "      <td>1</td>\n",
       "      <td>0.760233</td>\n",
       "      <td>0.755899</td>\n",
       "      <td>0.780515</td>\n",
       "    </tr>\n",
       "    <tr>\n",
       "      <th>742</th>\n",
       "      <td>2022-01-31 23:00:00</td>\n",
       "      <td>['2022-01-31 22:00:00', '2022-01-31 22:00:00',...</td>\n",
       "      <td>BTC Latest Block Info: Block 721243 holds 2,80...</td>\n",
       "      <td>btc_blockbot\\nM1Seahawk\\nnialljburke\\nmurray_r...</td>\n",
       "      <td>0.789636</td>\n",
       "      <td>0.579271</td>\n",
       "      <td>0.218241</td>\n",
       "      <td>0.156830</td>\n",
       "      <td>14</td>\n",
       "      <td>23</td>\n",
       "      <td>...</td>\n",
       "      <td>16</td>\n",
       "      <td>16</td>\n",
       "      <td>2022-01-31 23:00:00</td>\n",
       "      <td>38412.45</td>\n",
       "      <td>38466.90</td>\n",
       "      <td>0.001418</td>\n",
       "      <td>1</td>\n",
       "      <td>0.765209</td>\n",
       "      <td>0.760233</td>\n",
       "      <td>0.755899</td>\n",
       "    </tr>\n",
       "    <tr>\n",
       "      <th>743</th>\n",
       "      <td>2022-02-01 00:00:00</td>\n",
       "      <td>['2022-01-31 23:00:00', '2022-01-31 23:00:00',...</td>\n",
       "      <td>Top #Cryptocurrency RANK DOWN (#crypto #bitcoi...</td>\n",
       "      <td>CryptoTopCharts\\nBTC_AI_bot\\ncryptonewsleak\\nt...</td>\n",
       "      <td>0.768259</td>\n",
       "      <td>0.536518</td>\n",
       "      <td>0.256032</td>\n",
       "      <td>0.151095</td>\n",
       "      <td>16</td>\n",
       "      <td>19</td>\n",
       "      <td>...</td>\n",
       "      <td>21</td>\n",
       "      <td>24</td>\n",
       "      <td>2022-02-01 00:00:00</td>\n",
       "      <td>38466.90</td>\n",
       "      <td>38342.36</td>\n",
       "      <td>-0.003238</td>\n",
       "      <td>0</td>\n",
       "      <td>0.789636</td>\n",
       "      <td>0.765209</td>\n",
       "      <td>0.760233</td>\n",
       "    </tr>\n",
       "  </tbody>\n",
       "</table>\n",
       "<p>744 rows × 34 columns</p>\n",
       "</div>"
      ],
      "text/plain": [
       "                 Date_1H                                           datetime  \\\n",
       "0    2022-01-01 01:00:00  ['2022-01-01 00:00:00', '2022-01-01 00:00:00',...   \n",
       "1    2022-01-01 02:00:00  ['2022-01-01 01:00:00', '2022-01-01 01:00:00',...   \n",
       "2    2022-01-01 03:00:00  ['2022-01-01 02:00:00', '2022-01-01 02:00:00',...   \n",
       "3    2022-01-01 04:00:00  ['2022-01-01 03:00:00', '2022-01-01 03:00:00',...   \n",
       "4    2022-01-01 05:00:00  ['2022-01-01 04:00:00', '2022-01-01 04:00:00',...   \n",
       "..                   ...                                                ...   \n",
       "739  2022-01-31 20:00:00  ['2022-01-31 19:00:00', '2022-01-31 19:00:00',...   \n",
       "740  2022-01-31 21:00:00  ['2022-01-31 20:00:00', '2022-01-31 20:00:00',...   \n",
       "741  2022-01-31 22:00:00  ['2022-01-31 21:00:00', '2022-01-31 21:00:00',...   \n",
       "742  2022-01-31 23:00:00  ['2022-01-31 22:00:00', '2022-01-31 22:00:00',...   \n",
       "743  2022-02-01 00:00:00  ['2022-01-31 23:00:00', '2022-01-31 23:00:00',...   \n",
       "\n",
       "                                                  text  \\\n",
       "0    Current Price of Bitcoin:\\n$46320 (-1.85%)\\n\\n...   \n",
       "1    Today's Cryptocurrency Fear And Greed Index: 2...   \n",
       "2    Huobi Singapore would like to wish you a Happy...   \n",
       "3    1 ARS is 10.26 satoshis right now.\\n\\n1 satosh...   \n",
       "4    Buy Bitcoin $BTC @ 46813.2\\nAn online trader h...   \n",
       "..                                                 ...   \n",
       "739  What's your favourite coins to stake and where...   \n",
       "740  Buy Bitcoin $BTC @ 38415.79\\nLIVE: #Bitcoin be...   \n",
       "741  1 ARS is 12.17 satoshis right now.\\n\\n1 satosh...   \n",
       "742  BTC Latest Block Info: Block 721243 holds 2,80...   \n",
       "743  Top #Cryptocurrency RANK DOWN (#crypto #bitcoi...   \n",
       "\n",
       "                                              username  kk08_pos_score  \\\n",
       "0    CryptoNerdApp\\nTrendSpider\\nMadStudentScie1\\nW...        0.755714   \n",
       "1    FearAndGreedBot\\nOfficialOverbit\\nBTC_AI_bot\\n...        0.775810   \n",
       "2    HuobiSg\\nAmazonCash4Cars\\nBTC_AI_bot\\nCalvinAy...        0.773046   \n",
       "3    SatoshiARS_bot\\nbitcoinpartyall\\ncryptopediaK7...        0.760779   \n",
       "4    BTC_AI_bot\\nnewscomauHQ\\ncryptozone007\\nCarbon...        0.771374   \n",
       "..                                                 ...             ...   \n",
       "739  CheekyCrypto\\naburke626\\nQuantumDelta\\nBTC_AI_...        0.755899   \n",
       "740  BTC_AI_bot\\nCoinDesk\\nbitcoinrate247\\nSquatche...        0.760233   \n",
       "741  SatoshiARS_bot\\nCryptoTopCharts\\nIBKR\\nCryptoN...        0.765209   \n",
       "742  btc_blockbot\\nM1Seahawk\\nnialljburke\\nmurray_r...        0.789636   \n",
       "743  CryptoTopCharts\\nBTC_AI_bot\\ncryptonewsleak\\nt...        0.768259   \n",
       "\n",
       "     kk08_score_diff  Elkulako_label  Sentiment_vader  pred  analysis  ...  \\\n",
       "0           0.511428        0.364813         0.161558    34        72  ...   \n",
       "1           0.551621        0.343045         0.174069    30        29  ...   \n",
       "2           0.546093        0.427992         0.181803    23        24  ...   \n",
       "3           0.521558        0.325186         0.175078    26        20  ...   \n",
       "4           0.542747        0.377858         0.152699    26        19  ...   \n",
       "..               ...             ...              ...   ...       ...  ...   \n",
       "739         0.511798        0.261918         0.131531    21        28  ...   \n",
       "740         0.520465        0.286062         0.136021    23        34  ...   \n",
       "741         0.530418        0.244444         0.142816    21        24  ...   \n",
       "742         0.579271        0.218241         0.156830    14        23  ...   \n",
       "743         0.536518        0.256032         0.151095    16        19  ...   \n",
       "\n",
       "     rise  fall                 date      open     close    Return  \\\n",
       "0      20    65  2022-01-01 01:00:00  46656.14  46778.14  0.002615   \n",
       "1      13    30  2022-01-01 02:00:00  46778.14  46811.77  0.000719   \n",
       "2      11    24  2022-01-01 03:00:00  46811.77  46813.20  0.000031   \n",
       "3      12    22  2022-01-01 04:00:00  46813.21  46711.05 -0.002182   \n",
       "4      12    16  2022-01-01 05:00:00  46711.05  47192.55  0.010308   \n",
       "..    ...   ...                  ...       ...       ...       ...   \n",
       "739     8    20  2022-01-31 20:00:00  38415.79  38450.62  0.000907   \n",
       "740    16    12  2022-01-31 21:00:00  38450.62  38410.09 -0.001054   \n",
       "741    25    17  2022-01-31 22:00:00  38410.09  38412.46  0.000062   \n",
       "742    16    16  2022-01-31 23:00:00  38412.45  38466.90  0.001418   \n",
       "743    21    24  2022-02-01 00:00:00  38466.90  38342.36 -0.003238   \n",
       "\n",
       "     Return_sign  kk08_pos_score_lag1  kk08_pos_score_lag2  \\\n",
       "0              1                  NaN                  NaN   \n",
       "1              1             0.755714                  NaN   \n",
       "2              1             0.775810             0.755714   \n",
       "3              0             0.773046             0.775810   \n",
       "4              1             0.760779             0.773046   \n",
       "..           ...                  ...                  ...   \n",
       "739            1             0.780515             0.770758   \n",
       "740            0             0.755899             0.780515   \n",
       "741            1             0.760233             0.755899   \n",
       "742            1             0.765209             0.760233   \n",
       "743            0             0.789636             0.765209   \n",
       "\n",
       "     kk08_pos_score_lag3  \n",
       "0                    NaN  \n",
       "1                    NaN  \n",
       "2                    NaN  \n",
       "3               0.755714  \n",
       "4               0.775810  \n",
       "..                   ...  \n",
       "739             0.750871  \n",
       "740             0.770758  \n",
       "741             0.780515  \n",
       "742             0.755899  \n",
       "743             0.760233  \n",
       "\n",
       "[744 rows x 34 columns]"
      ]
     },
     "execution_count": 147,
     "metadata": {},
     "output_type": "execute_result"
    }
   ],
   "source": [
    "df"
   ]
  },
  {
   "cell_type": "code",
   "execution_count": 148,
   "metadata": {},
   "outputs": [],
   "source": [
    "df['Sentiment_vader_lag1']=df['Sentiment_vader'].shift(1)\n",
    "df['Sentiment_vader_lag2']=df['Sentiment_vader'].shift(2)\n",
    "df['Sentiment_vader_lag3']=df['Sentiment_vader'].shift(3)\n"
   ]
  },
  {
   "cell_type": "code",
   "execution_count": 149,
   "metadata": {},
   "outputs": [],
   "source": [
    "df_x_4 = df.dropna().reset_index(drop=True)[[\"Sentiment_vader\", \"Sentiment_vader_lag1\", \"Sentiment_vader_lag2\", \"Sentiment_vader_lag3\"]]\n",
    "df_y_4 = df[\"Return_sign\"].iloc[3:].reset_index(drop=True)"
   ]
  },
  {
   "cell_type": "code",
   "execution_count": 150,
   "metadata": {},
   "outputs": [
    {
     "data": {
      "text/html": [
       "<div>\n",
       "<style scoped>\n",
       "    .dataframe tbody tr th:only-of-type {\n",
       "        vertical-align: middle;\n",
       "    }\n",
       "\n",
       "    .dataframe tbody tr th {\n",
       "        vertical-align: top;\n",
       "    }\n",
       "\n",
       "    .dataframe thead th {\n",
       "        text-align: right;\n",
       "    }\n",
       "</style>\n",
       "<table border=\"1\" class=\"dataframe\">\n",
       "  <thead>\n",
       "    <tr style=\"text-align: right;\">\n",
       "      <th></th>\n",
       "      <th>Sentiment_vader</th>\n",
       "      <th>Sentiment_vader_lag1</th>\n",
       "      <th>Sentiment_vader_lag2</th>\n",
       "      <th>Sentiment_vader_lag3</th>\n",
       "    </tr>\n",
       "  </thead>\n",
       "  <tbody>\n",
       "    <tr>\n",
       "      <th>0</th>\n",
       "      <td>0.175078</td>\n",
       "      <td>0.181803</td>\n",
       "      <td>0.174069</td>\n",
       "      <td>0.161558</td>\n",
       "    </tr>\n",
       "    <tr>\n",
       "      <th>1</th>\n",
       "      <td>0.152699</td>\n",
       "      <td>0.175078</td>\n",
       "      <td>0.181803</td>\n",
       "      <td>0.174069</td>\n",
       "    </tr>\n",
       "    <tr>\n",
       "      <th>2</th>\n",
       "      <td>0.210043</td>\n",
       "      <td>0.152699</td>\n",
       "      <td>0.175078</td>\n",
       "      <td>0.181803</td>\n",
       "    </tr>\n",
       "    <tr>\n",
       "      <th>3</th>\n",
       "      <td>0.200986</td>\n",
       "      <td>0.210043</td>\n",
       "      <td>0.152699</td>\n",
       "      <td>0.175078</td>\n",
       "    </tr>\n",
       "    <tr>\n",
       "      <th>4</th>\n",
       "      <td>0.168094</td>\n",
       "      <td>0.200986</td>\n",
       "      <td>0.210043</td>\n",
       "      <td>0.152699</td>\n",
       "    </tr>\n",
       "    <tr>\n",
       "      <th>...</th>\n",
       "      <td>...</td>\n",
       "      <td>...</td>\n",
       "      <td>...</td>\n",
       "      <td>...</td>\n",
       "    </tr>\n",
       "    <tr>\n",
       "      <th>736</th>\n",
       "      <td>0.131531</td>\n",
       "      <td>0.151048</td>\n",
       "      <td>0.136946</td>\n",
       "      <td>0.110582</td>\n",
       "    </tr>\n",
       "    <tr>\n",
       "      <th>737</th>\n",
       "      <td>0.136021</td>\n",
       "      <td>0.131531</td>\n",
       "      <td>0.151048</td>\n",
       "      <td>0.136946</td>\n",
       "    </tr>\n",
       "    <tr>\n",
       "      <th>738</th>\n",
       "      <td>0.142816</td>\n",
       "      <td>0.136021</td>\n",
       "      <td>0.131531</td>\n",
       "      <td>0.151048</td>\n",
       "    </tr>\n",
       "    <tr>\n",
       "      <th>739</th>\n",
       "      <td>0.156830</td>\n",
       "      <td>0.142816</td>\n",
       "      <td>0.136021</td>\n",
       "      <td>0.131531</td>\n",
       "    </tr>\n",
       "    <tr>\n",
       "      <th>740</th>\n",
       "      <td>0.151095</td>\n",
       "      <td>0.156830</td>\n",
       "      <td>0.142816</td>\n",
       "      <td>0.136021</td>\n",
       "    </tr>\n",
       "  </tbody>\n",
       "</table>\n",
       "<p>741 rows × 4 columns</p>\n",
       "</div>"
      ],
      "text/plain": [
       "     Sentiment_vader  Sentiment_vader_lag1  Sentiment_vader_lag2  \\\n",
       "0           0.175078              0.181803              0.174069   \n",
       "1           0.152699              0.175078              0.181803   \n",
       "2           0.210043              0.152699              0.175078   \n",
       "3           0.200986              0.210043              0.152699   \n",
       "4           0.168094              0.200986              0.210043   \n",
       "..               ...                   ...                   ...   \n",
       "736         0.131531              0.151048              0.136946   \n",
       "737         0.136021              0.131531              0.151048   \n",
       "738         0.142816              0.136021              0.131531   \n",
       "739         0.156830              0.142816              0.136021   \n",
       "740         0.151095              0.156830              0.142816   \n",
       "\n",
       "     Sentiment_vader_lag3  \n",
       "0                0.161558  \n",
       "1                0.174069  \n",
       "2                0.181803  \n",
       "3                0.175078  \n",
       "4                0.152699  \n",
       "..                    ...  \n",
       "736              0.110582  \n",
       "737              0.136946  \n",
       "738              0.151048  \n",
       "739              0.131531  \n",
       "740              0.136021  \n",
       "\n",
       "[741 rows x 4 columns]"
      ]
     },
     "execution_count": 150,
     "metadata": {},
     "output_type": "execute_result"
    }
   ],
   "source": [
    "df_x_4"
   ]
  },
  {
   "cell_type": "code",
   "execution_count": 151,
   "metadata": {},
   "outputs": [
    {
     "data": {
      "text/plain": [
       "0      0\n",
       "1      1\n",
       "2      0\n",
       "3      1\n",
       "4      0\n",
       "      ..\n",
       "736    1\n",
       "737    0\n",
       "738    1\n",
       "739    1\n",
       "740    0\n",
       "Name: Return_sign, Length: 741, dtype: int64"
      ]
     },
     "execution_count": 151,
     "metadata": {},
     "output_type": "execute_result"
    }
   ],
   "source": [
    "df_y_4"
   ]
  },
  {
   "cell_type": "code",
   "execution_count": 152,
   "metadata": {},
   "outputs": [],
   "source": [
    "train_share = 0.85\n",
    "df_x_4_train = df_x_4.iloc[:int(len(df_x_4)*train_share)].reset_index(drop=True)\n",
    "df_y_4_train = df_y_4.iloc[:int(len(df_x_4)*train_share)].reset_index(drop=True)\n",
    "\n",
    "df_x_4_test = df_x_4.iloc[int(len(df_x_4)*train_share):].reset_index(drop=True)\n",
    "df_y_4_test = df_y_4.iloc[int(len(df_x_4)*train_share):].reset_index(drop=True)"
   ]
  },
  {
   "cell_type": "code",
   "execution_count": 153,
   "metadata": {},
   "outputs": [
    {
     "data": {
      "text/plain": [
       "0.5267857142857143"
      ]
     },
     "execution_count": 153,
     "metadata": {},
     "output_type": "execute_result"
    }
   ],
   "source": [
    "sum(df_y_4_test)/len(df_y_4_test)"
   ]
  },
  {
   "cell_type": "code",
   "execution_count": 154,
   "metadata": {},
   "outputs": [
    {
     "name": "stdout",
     "output_type": "stream",
     "text": [
      "Accuracy: 0.3968253968253968\n",
      "ROC-AUC: 0.5\n",
      "F1-score: 0.0\n"
     ]
    }
   ],
   "source": [
    "from sklearn.dummy import DummyClassifier\n",
    "dummy_model = DummyClassifier(strategy='most_frequent')\n",
    "dummy_pred, dummy_acc, dummy_roc_auc,dummy_f1, dummy_feat_imp= cv_and_predict_valid(df_x_4_train,df_y_4_train,dummy_model)\n"
   ]
  },
  {
   "cell_type": "code",
   "execution_count": 155,
   "metadata": {},
   "outputs": [
    {
     "name": "stdout",
     "output_type": "stream",
     "text": [
      "RandomForestClassifier(n_estimators=50, random_state=17)\n",
      "Best parameters from grid search: {'n_estimators': 50}\n",
      "Accuracy: 0.5079365079365079\n",
      "ROC-AUC: 0.4826315789473684\n",
      "F1-score: 0.5974025974025974\n"
     ]
    }
   ],
   "source": [
    "from sklearn.ensemble import RandomForestClassifier\n",
    "# Random Forest\n",
    "grid_params = {'n_estimators': [5, 10, 20, 50, 100, 300]}\n",
    "rf_model = RandomForestClassifier(random_state=17)\n",
    "rf_pred, rf_acc, rf_roc_auc,rf_f1, rf_feat_imp = cv_and_predict_valid(df_x_4_train,df_y_4_train, rf_model, tree = True, grid_search=True, grid_parameters=grid_params)"
   ]
  },
  {
   "cell_type": "code",
   "execution_count": 156,
   "metadata": {},
   "outputs": [
    {
     "name": "stdout",
     "output_type": "stream",
     "text": [
      "Accuracy: 0.5446428571428571\n",
      "ROC-AUC: 0.5428525743524145\n",
      "F1-score: 0.5714285714285714\n"
     ]
    }
   ],
   "source": [
    "# testing\n",
    "model = RandomForestClassifier(n_estimators=50, random_state=17)\n",
    "model.fit(df_x_4_train, df_y_4_train)\n",
    "predictions = model.predict(df_x_4_test)\n",
    "accuracy = accuracy_score(df_y_4_test, predictions)\n",
    "roc_auc = roc_auc_score(df_y_4_test, predictions)\n",
    "f1 = f1_score(df_y_4_test, predictions)\n",
    "    \n",
    "print(f\"Accuracy: {accuracy}\")\n",
    "print(f\"ROC-AUC: {roc_auc}\")\n",
    "print(f\"F1-score: {f1}\")\n",
    "# not bad"
   ]
  },
  {
   "cell_type": "code",
   "execution_count": 157,
   "metadata": {},
   "outputs": [
    {
     "name": "stdout",
     "output_type": "stream",
     "text": [
      "XGBClassifier(base_score=None, booster=None, callbacks=None,\n",
      "              colsample_bylevel=None, colsample_bynode=None,\n",
      "              colsample_bytree=None, device=None, early_stopping_rounds=None,\n",
      "              enable_categorical=False, eval_metric=None, feature_types=None,\n",
      "              gamma=None, grow_policy=None, importance_type=None,\n",
      "              interaction_constraints=None, learning_rate=None, max_bin=None,\n",
      "              max_cat_threshold=None, max_cat_to_onehot=None,\n",
      "              max_delta_step=None, max_depth=3, max_leaves=None,\n",
      "              min_child_weight=None, missing=nan, monotone_constraints=None,\n",
      "              multi_strategy=None, n_estimators=100, n_jobs=None,\n",
      "              num_parallel_tree=None, random_state=17, ...)\n",
      "Best parameters from grid search: {'max_depth': 3, 'n_estimators': 100}\n",
      "Accuracy: 0.5396825396825397\n",
      "ROC-AUC: 0.49526315789473685\n",
      "F1-score: 0.6506024096385542\n"
     ]
    }
   ],
   "source": [
    "from xgboost import XGBClassifier\n",
    "# XGBoost\n",
    "grid_params = {'n_estimators': [100, 300, 500],\"max_depth\": [1,3,6]}\n",
    "xgb_model = XGBClassifier(random_state=17)\n",
    "xgb_pred, xgb_acc, xgb_roc_auc,xgb_f1, xgb_feat_imp = cv_and_predict_valid(df_x_4_train,df_y_4_train, xgb_model, tree = True, grid_search=True, grid_parameters=grid_params)"
   ]
  },
  {
   "cell_type": "code",
   "execution_count": 158,
   "metadata": {},
   "outputs": [
    {
     "name": "stdout",
     "output_type": "stream",
     "text": [
      "Accuracy: 0.5535714285714286\n",
      "ROC-AUC: 0.5532459226095299\n",
      "F1-score: 0.5689655172413793\n"
     ]
    }
   ],
   "source": [
    "# testing\n",
    "model = XGBClassifier(random_state=17, max_depth = 3, n_estimators= 100)\n",
    "model.fit(df_x_4_train, df_y_4_train)\n",
    "predictions = model.predict(df_x_4_test)\n",
    "accuracy = accuracy_score(df_y_4_test, predictions)\n",
    "roc_auc = roc_auc_score(df_y_4_test, predictions)\n",
    "f1 = f1_score(df_y_4_test, predictions)\n",
    "    \n",
    "print(f\"Accuracy: {accuracy}\")\n",
    "print(f\"ROC-AUC: {roc_auc}\")\n",
    "print(f\"F1-score: {f1}\")\n",
    "# good"
   ]
  },
  {
   "cell_type": "code",
   "execution_count": 159,
   "metadata": {},
   "outputs": [
    {
     "name": "stdout",
     "output_type": "stream",
     "text": [
      "SVC(C=0.1, class_weight='balanced', gamma=1, kernel='poly')\n",
      "Best parameters from grid search: {'C': 0.1, 'class_weight': 'balanced', 'gamma': 1, 'kernel': 'poly'}\n",
      "Accuracy: 0.3968253968253968\n",
      "ROC-AUC: 0.5\n",
      "F1-score: 0.0\n"
     ]
    }
   ],
   "source": [
    "from sklearn.svm import SVC\n",
    "# SVM\n",
    "grid_params = {'C': [0.1, 0.3, 0.7, 1],  'kernel': ['poly', 'rbf'], 'gamma': [1, 0.1, 0.01], 'class_weight': ['balanced', None]}\n",
    "svm_model = SVC()\n",
    "svm_pred, svm_acc, svm_roc_auc,svm_f1, svm_feat_imp = cv_and_predict_valid(df_x_4_train,df_y_4_train, svm_model, grid_search=True, grid_parameters=grid_params)\n",
    "# too bad"
   ]
  },
  {
   "cell_type": "code",
   "execution_count": 160,
   "metadata": {},
   "outputs": [
    {
     "name": "stdout",
     "output_type": "stream",
     "text": [
      "Accuracy: 0.5714285714285714\n",
      "ROC-AUC: 0.4805263157894737\n",
      "F1-score: 0.7216494845360825\n"
     ]
    }
   ],
   "source": [
    "svm_model = SVC(kernel='poly')\n",
    "svm_pred, svm_acc, svm_roc_auc,svm_f1, svm_feat_imp = cv_and_predict_valid(df_x_4_train,df_y_4_train, svm_model)"
   ]
  },
  {
   "cell_type": "code",
   "execution_count": 161,
   "metadata": {},
   "outputs": [
    {
     "name": "stdout",
     "output_type": "stream",
     "text": [
      "Accuracy: 0.5357142857142857\n",
      "ROC-AUC: 0.5180684362008314\n",
      "F1-score: 0.6578947368421053\n"
     ]
    }
   ],
   "source": [
    "# testing\n",
    "model = SVC(kernel='poly')\n",
    "model.fit(df_x_4_train, df_y_4_train)\n",
    "predictions = model.predict(df_x_4_test)\n",
    "accuracy = accuracy_score(df_y_4_test, predictions)\n",
    "roc_auc = roc_auc_score(df_y_4_test, predictions)\n",
    "f1 = f1_score(df_y_4_test, predictions)\n",
    "    \n",
    "print(f\"Accuracy: {accuracy}\")\n",
    "print(f\"ROC-AUC: {roc_auc}\")\n",
    "print(f\"F1-score: {f1}\")"
   ]
  },
  {
   "cell_type": "code",
   "execution_count": 162,
   "metadata": {},
   "outputs": [
    {
     "name": "stderr",
     "output_type": "stream",
     "text": [
      "c:\\Users\\isaen\\AppData\\Local\\Programs\\Python\\Python312\\Lib\\site-packages\\sklearn\\ensemble\\_weight_boosting.py:519: FutureWarning: The SAMME.R algorithm (the default) is deprecated and will be removed in 1.6. Use the SAMME algorithm to circumvent this warning.\n",
      "  warnings.warn(\n"
     ]
    },
    {
     "name": "stdout",
     "output_type": "stream",
     "text": [
      "AdaBoostClassifier(learning_rate=1, n_estimators=500)\n",
      "Best parameters from grid search: {'learning_rate': 1, 'n_estimators': 500}\n",
      "Accuracy: 0.5714285714285714\n",
      "ROC-AUC: 0.5557894736842105\n",
      "F1-score: 0.64\n"
     ]
    }
   ],
   "source": [
    "from sklearn.ensemble import AdaBoostClassifier\n",
    "grid_params = {'n_estimators': [50, 100, 300, 500], 'learning_rate':[0.1, 0.3, 0.5, 1]}\n",
    "model = AdaBoostClassifier()\n",
    "ada_pred, ada_acc, ada_roc_auc,ada_f1, ada_feat_imp = cv_and_predict_valid(df_x_4_train,df_y_4_train, model, tree = True, grid_search=True, grid_parameters = grid_params)\n"
   ]
  },
  {
   "cell_type": "code",
   "execution_count": 258,
   "metadata": {},
   "outputs": [
    {
     "name": "stderr",
     "output_type": "stream",
     "text": [
      "c:\\Users\\isaen\\AppData\\Local\\Programs\\Python\\Python312\\Lib\\site-packages\\sklearn\\ensemble\\_weight_boosting.py:519: FutureWarning: The SAMME.R algorithm (the default) is deprecated and will be removed in 1.6. Use the SAMME algorithm to circumvent this warning.\n",
      "  warnings.warn(\n"
     ]
    },
    {
     "name": "stdout",
     "output_type": "stream",
     "text": [
      "Accuracy: 0.5625\n",
      "ROC-AUC: 0.5598017268947874\n",
      "F1-score: 0.5950413223140496\n"
     ]
    }
   ],
   "source": [
    "# testing\n",
    "model = AdaBoostClassifier(learning_rate=1, n_estimators=500)\n",
    "model.fit(df_x_4_train, df_y_4_train)\n",
    "predictions = model.predict(df_x_4_test)\n",
    "accuracy = accuracy_score(df_y_4_test, predictions)\n",
    "roc_auc = roc_auc_score(df_y_4_test, predictions)\n",
    "f1 = f1_score(df_y_4_test, predictions)\n",
    "    \n",
    "print(f\"Accuracy: {accuracy}\")\n",
    "print(f\"ROC-AUC: {roc_auc}\")\n",
    "print(f\"F1-score: {f1}\")\n",
    "# good"
   ]
  },
  {
   "cell_type": "code",
   "execution_count": 164,
   "metadata": {},
   "outputs": [
    {
     "name": "stdout",
     "output_type": "stream",
     "text": [
      "Accuracy: 0.6190476190476191\n",
      "ROC-AUC: 0.5542105263157895\n",
      "F1-score: 0.7333333333333333\n"
     ]
    }
   ],
   "source": [
    "from sklearn.naive_bayes import GaussianNB\n",
    "model = GaussianNB()\n",
    "nb_pred, nb_acc, nb_roc_auc,nb_f1, nb_feat_imp = cv_and_predict_valid(df_x_4_train,df_y_4_train, model)\n"
   ]
  },
  {
   "cell_type": "code",
   "execution_count": 165,
   "metadata": {},
   "outputs": [
    {
     "name": "stdout",
     "output_type": "stream",
     "text": [
      "Accuracy: 0.5089285714285714\n",
      "ROC-AUC: 0.49936040933802367\n",
      "F1-score: 0.5925925925925926\n"
     ]
    }
   ],
   "source": [
    "# testing\n",
    "model = model = GaussianNB()\n",
    "model.fit(df_x_4_train, df_y_4_train)\n",
    "predictions = model.predict(df_x_4_test)\n",
    "accuracy = accuracy_score(df_y_4_test, predictions)\n",
    "roc_auc = roc_auc_score(df_y_4_test, predictions)\n",
    "f1 = f1_score(df_y_4_test, predictions)\n",
    "    \n",
    "print(f\"Accuracy: {accuracy}\")\n",
    "print(f\"ROC-AUC: {roc_auc}\")\n",
    "print(f\"F1-score: {f1}\")\n"
   ]
  },
  {
   "cell_type": "code",
   "execution_count": 166,
   "metadata": {},
   "outputs": [
    {
     "name": "stdout",
     "output_type": "stream",
     "text": [
      "Accuracy: 0.5873015873015873\n",
      "ROC-AUC: 0.5826315789473684\n",
      "F1-score: 0.6388888888888888\n"
     ]
    }
   ],
   "source": [
    "from sklearn.linear_model import LogisticRegression\n",
    "model = LogisticRegression(C=0.5)\n",
    "lr_pred, lr_acc, lr_roc_auc,lr_f1, lr_feat_imp = cv_and_predict_valid(df_x_4_train,df_y_4_train, model)\n"
   ]
  },
  {
   "cell_type": "code",
   "execution_count": 167,
   "metadata": {},
   "outputs": [
    {
     "name": "stdout",
     "output_type": "stream",
     "text": [
      "Accuracy: 0.5267857142857143\n",
      "ROC-AUC: 0.5\n",
      "F1-score: 0.6900584795321637\n"
     ]
    }
   ],
   "source": [
    "# testing\n",
    "model = model = LogisticRegression(C=0.5)\n",
    "model.fit(df_x_4_train, df_y_4_train)\n",
    "predictions = model.predict(df_x_4_test)\n",
    "accuracy = accuracy_score(df_y_4_test, predictions)\n",
    "roc_auc = roc_auc_score(df_y_4_test, predictions)\n",
    "f1 = f1_score(df_y_4_test, predictions)\n",
    "    \n",
    "print(f\"Accuracy: {accuracy}\")\n",
    "print(f\"ROC-AUC: {roc_auc}\")\n",
    "print(f\"F1-score: {f1}\")"
   ]
  },
  {
   "cell_type": "code",
   "execution_count": 168,
   "metadata": {},
   "outputs": [
    {
     "name": "stdout",
     "output_type": "stream",
     "text": [
      "KNeighborsClassifier(n_neighbors=50)\n",
      "Best parameters from grid search: {'n_neighbors': 50}\n",
      "Accuracy: 0.5714285714285714\n",
      "ROC-AUC: 0.5626315789473684\n",
      "F1-score: 0.6301369863013698\n"
     ]
    }
   ],
   "source": [
    "from sklearn.neighbors import KNeighborsClassifier\n",
    "grid_params = {'n_neighbors': [1, 2, 3, 4, 5, 10, 20, 50]}\n",
    "model = KNeighborsClassifier()\n",
    "knn_pred, knn_acc, knn_roc_auc,knn_f1, knn_feat_imp = cv_and_predict_valid(df_x_4_train,df_y_4_train, model, grid_search=True, grid_parameters=grid_params)\n"
   ]
  },
  {
   "cell_type": "code",
   "execution_count": null,
   "metadata": {},
   "outputs": [
    {
     "name": "stdout",
     "output_type": "stream",
     "text": [
      "Accuracy: 0.5446428571428571\n",
      "ROC-AUC: 0.551487048289095\n",
      "F1-score: 0.49504950495049505\n"
     ]
    }
   ],
   "source": [
    "# testing\n",
    "model = KNeighborsClassifier(n_neighbors=50)\n",
    "model.fit(df_x_4_train, df_y_4_train)\n",
    "predictions = model.predict(df_x_4_test)\n",
    "accuracy = accuracy_score(df_y_4_test, predictions)\n",
    "roc_auc = roc_auc_score(df_y_4_test, predictions)\n",
    "f1 = f1_score(df_y_4_test, predictions)\n",
    "    \n",
    "print(f\"Accuracy: {accuracy}\")\n",
    "print(f\"ROC-AUC: {roc_auc}\")\n",
    "print(f\"F1-score: {f1}\")\n",
    "# not bad"
   ]
  },
  {
   "cell_type": "code",
   "execution_count": null,
   "metadata": {},
   "outputs": [],
   "source": []
  },
  {
   "cell_type": "markdown",
   "metadata": {},
   "source": [
    "# Only elkulako"
   ]
  },
  {
   "cell_type": "code",
   "execution_count": 170,
   "metadata": {},
   "outputs": [
    {
     "data": {
      "text/html": [
       "<div>\n",
       "<style scoped>\n",
       "    .dataframe tbody tr th:only-of-type {\n",
       "        vertical-align: middle;\n",
       "    }\n",
       "\n",
       "    .dataframe tbody tr th {\n",
       "        vertical-align: top;\n",
       "    }\n",
       "\n",
       "    .dataframe thead th {\n",
       "        text-align: right;\n",
       "    }\n",
       "</style>\n",
       "<table border=\"1\" class=\"dataframe\">\n",
       "  <thead>\n",
       "    <tr style=\"text-align: right;\">\n",
       "      <th></th>\n",
       "      <th>Date_1H</th>\n",
       "      <th>datetime</th>\n",
       "      <th>text</th>\n",
       "      <th>username</th>\n",
       "      <th>kk08_pos_score</th>\n",
       "      <th>kk08_score_diff</th>\n",
       "      <th>Elkulako_label</th>\n",
       "      <th>Sentiment_vader</th>\n",
       "      <th>pred</th>\n",
       "      <th>analysis</th>\n",
       "      <th>...</th>\n",
       "      <th>open</th>\n",
       "      <th>close</th>\n",
       "      <th>Return</th>\n",
       "      <th>Return_sign</th>\n",
       "      <th>kk08_pos_score_lag1</th>\n",
       "      <th>kk08_pos_score_lag2</th>\n",
       "      <th>kk08_pos_score_lag3</th>\n",
       "      <th>Sentiment_vader_lag1</th>\n",
       "      <th>Sentiment_vader_lag2</th>\n",
       "      <th>Sentiment_vader_lag3</th>\n",
       "    </tr>\n",
       "  </thead>\n",
       "  <tbody>\n",
       "    <tr>\n",
       "      <th>0</th>\n",
       "      <td>2022-01-01 01:00:00</td>\n",
       "      <td>['2022-01-01 00:00:00', '2022-01-01 00:00:00',...</td>\n",
       "      <td>Current Price of Bitcoin:\\n$46320 (-1.85%)\\n\\n...</td>\n",
       "      <td>CryptoNerdApp\\nTrendSpider\\nMadStudentScie1\\nW...</td>\n",
       "      <td>0.755714</td>\n",
       "      <td>0.511428</td>\n",
       "      <td>0.364813</td>\n",
       "      <td>0.161558</td>\n",
       "      <td>34</td>\n",
       "      <td>72</td>\n",
       "      <td>...</td>\n",
       "      <td>46656.14</td>\n",
       "      <td>46778.14</td>\n",
       "      <td>0.002615</td>\n",
       "      <td>1</td>\n",
       "      <td>NaN</td>\n",
       "      <td>NaN</td>\n",
       "      <td>NaN</td>\n",
       "      <td>NaN</td>\n",
       "      <td>NaN</td>\n",
       "      <td>NaN</td>\n",
       "    </tr>\n",
       "    <tr>\n",
       "      <th>1</th>\n",
       "      <td>2022-01-01 02:00:00</td>\n",
       "      <td>['2022-01-01 01:00:00', '2022-01-01 01:00:00',...</td>\n",
       "      <td>Today's Cryptocurrency Fear And Greed Index: 2...</td>\n",
       "      <td>FearAndGreedBot\\nOfficialOverbit\\nBTC_AI_bot\\n...</td>\n",
       "      <td>0.775810</td>\n",
       "      <td>0.551621</td>\n",
       "      <td>0.343045</td>\n",
       "      <td>0.174069</td>\n",
       "      <td>30</td>\n",
       "      <td>29</td>\n",
       "      <td>...</td>\n",
       "      <td>46778.14</td>\n",
       "      <td>46811.77</td>\n",
       "      <td>0.000719</td>\n",
       "      <td>1</td>\n",
       "      <td>0.755714</td>\n",
       "      <td>NaN</td>\n",
       "      <td>NaN</td>\n",
       "      <td>0.161558</td>\n",
       "      <td>NaN</td>\n",
       "      <td>NaN</td>\n",
       "    </tr>\n",
       "    <tr>\n",
       "      <th>2</th>\n",
       "      <td>2022-01-01 03:00:00</td>\n",
       "      <td>['2022-01-01 02:00:00', '2022-01-01 02:00:00',...</td>\n",
       "      <td>Huobi Singapore would like to wish you a Happy...</td>\n",
       "      <td>HuobiSg\\nAmazonCash4Cars\\nBTC_AI_bot\\nCalvinAy...</td>\n",
       "      <td>0.773046</td>\n",
       "      <td>0.546093</td>\n",
       "      <td>0.427992</td>\n",
       "      <td>0.181803</td>\n",
       "      <td>23</td>\n",
       "      <td>24</td>\n",
       "      <td>...</td>\n",
       "      <td>46811.77</td>\n",
       "      <td>46813.20</td>\n",
       "      <td>0.000031</td>\n",
       "      <td>1</td>\n",
       "      <td>0.775810</td>\n",
       "      <td>0.755714</td>\n",
       "      <td>NaN</td>\n",
       "      <td>0.174069</td>\n",
       "      <td>0.161558</td>\n",
       "      <td>NaN</td>\n",
       "    </tr>\n",
       "    <tr>\n",
       "      <th>3</th>\n",
       "      <td>2022-01-01 04:00:00</td>\n",
       "      <td>['2022-01-01 03:00:00', '2022-01-01 03:00:00',...</td>\n",
       "      <td>1 ARS is 10.26 satoshis right now.\\n\\n1 satosh...</td>\n",
       "      <td>SatoshiARS_bot\\nbitcoinpartyall\\ncryptopediaK7...</td>\n",
       "      <td>0.760779</td>\n",
       "      <td>0.521558</td>\n",
       "      <td>0.325186</td>\n",
       "      <td>0.175078</td>\n",
       "      <td>26</td>\n",
       "      <td>20</td>\n",
       "      <td>...</td>\n",
       "      <td>46813.21</td>\n",
       "      <td>46711.05</td>\n",
       "      <td>-0.002182</td>\n",
       "      <td>0</td>\n",
       "      <td>0.773046</td>\n",
       "      <td>0.775810</td>\n",
       "      <td>0.755714</td>\n",
       "      <td>0.181803</td>\n",
       "      <td>0.174069</td>\n",
       "      <td>0.161558</td>\n",
       "    </tr>\n",
       "    <tr>\n",
       "      <th>4</th>\n",
       "      <td>2022-01-01 05:00:00</td>\n",
       "      <td>['2022-01-01 04:00:00', '2022-01-01 04:00:00',...</td>\n",
       "      <td>Buy Bitcoin $BTC @ 46813.2\\nAn online trader h...</td>\n",
       "      <td>BTC_AI_bot\\nnewscomauHQ\\ncryptozone007\\nCarbon...</td>\n",
       "      <td>0.771374</td>\n",
       "      <td>0.542747</td>\n",
       "      <td>0.377858</td>\n",
       "      <td>0.152699</td>\n",
       "      <td>26</td>\n",
       "      <td>19</td>\n",
       "      <td>...</td>\n",
       "      <td>46711.05</td>\n",
       "      <td>47192.55</td>\n",
       "      <td>0.010308</td>\n",
       "      <td>1</td>\n",
       "      <td>0.760779</td>\n",
       "      <td>0.773046</td>\n",
       "      <td>0.775810</td>\n",
       "      <td>0.175078</td>\n",
       "      <td>0.181803</td>\n",
       "      <td>0.174069</td>\n",
       "    </tr>\n",
       "    <tr>\n",
       "      <th>...</th>\n",
       "      <td>...</td>\n",
       "      <td>...</td>\n",
       "      <td>...</td>\n",
       "      <td>...</td>\n",
       "      <td>...</td>\n",
       "      <td>...</td>\n",
       "      <td>...</td>\n",
       "      <td>...</td>\n",
       "      <td>...</td>\n",
       "      <td>...</td>\n",
       "      <td>...</td>\n",
       "      <td>...</td>\n",
       "      <td>...</td>\n",
       "      <td>...</td>\n",
       "      <td>...</td>\n",
       "      <td>...</td>\n",
       "      <td>...</td>\n",
       "      <td>...</td>\n",
       "      <td>...</td>\n",
       "      <td>...</td>\n",
       "      <td>...</td>\n",
       "    </tr>\n",
       "    <tr>\n",
       "      <th>739</th>\n",
       "      <td>2022-01-31 20:00:00</td>\n",
       "      <td>['2022-01-31 19:00:00', '2022-01-31 19:00:00',...</td>\n",
       "      <td>What's your favourite coins to stake and where...</td>\n",
       "      <td>CheekyCrypto\\naburke626\\nQuantumDelta\\nBTC_AI_...</td>\n",
       "      <td>0.755899</td>\n",
       "      <td>0.511798</td>\n",
       "      <td>0.261918</td>\n",
       "      <td>0.131531</td>\n",
       "      <td>21</td>\n",
       "      <td>28</td>\n",
       "      <td>...</td>\n",
       "      <td>38415.79</td>\n",
       "      <td>38450.62</td>\n",
       "      <td>0.000907</td>\n",
       "      <td>1</td>\n",
       "      <td>0.780515</td>\n",
       "      <td>0.770758</td>\n",
       "      <td>0.750871</td>\n",
       "      <td>0.151048</td>\n",
       "      <td>0.136946</td>\n",
       "      <td>0.110582</td>\n",
       "    </tr>\n",
       "    <tr>\n",
       "      <th>740</th>\n",
       "      <td>2022-01-31 21:00:00</td>\n",
       "      <td>['2022-01-31 20:00:00', '2022-01-31 20:00:00',...</td>\n",
       "      <td>Buy Bitcoin $BTC @ 38415.79\\nLIVE: #Bitcoin be...</td>\n",
       "      <td>BTC_AI_bot\\nCoinDesk\\nbitcoinrate247\\nSquatche...</td>\n",
       "      <td>0.760233</td>\n",
       "      <td>0.520465</td>\n",
       "      <td>0.286062</td>\n",
       "      <td>0.136021</td>\n",
       "      <td>23</td>\n",
       "      <td>34</td>\n",
       "      <td>...</td>\n",
       "      <td>38450.62</td>\n",
       "      <td>38410.09</td>\n",
       "      <td>-0.001054</td>\n",
       "      <td>0</td>\n",
       "      <td>0.755899</td>\n",
       "      <td>0.780515</td>\n",
       "      <td>0.770758</td>\n",
       "      <td>0.131531</td>\n",
       "      <td>0.151048</td>\n",
       "      <td>0.136946</td>\n",
       "    </tr>\n",
       "    <tr>\n",
       "      <th>741</th>\n",
       "      <td>2022-01-31 22:00:00</td>\n",
       "      <td>['2022-01-31 21:00:00', '2022-01-31 21:00:00',...</td>\n",
       "      <td>1 ARS is 12.17 satoshis right now.\\n\\n1 satosh...</td>\n",
       "      <td>SatoshiARS_bot\\nCryptoTopCharts\\nIBKR\\nCryptoN...</td>\n",
       "      <td>0.765209</td>\n",
       "      <td>0.530418</td>\n",
       "      <td>0.244444</td>\n",
       "      <td>0.142816</td>\n",
       "      <td>21</td>\n",
       "      <td>24</td>\n",
       "      <td>...</td>\n",
       "      <td>38410.09</td>\n",
       "      <td>38412.46</td>\n",
       "      <td>0.000062</td>\n",
       "      <td>1</td>\n",
       "      <td>0.760233</td>\n",
       "      <td>0.755899</td>\n",
       "      <td>0.780515</td>\n",
       "      <td>0.136021</td>\n",
       "      <td>0.131531</td>\n",
       "      <td>0.151048</td>\n",
       "    </tr>\n",
       "    <tr>\n",
       "      <th>742</th>\n",
       "      <td>2022-01-31 23:00:00</td>\n",
       "      <td>['2022-01-31 22:00:00', '2022-01-31 22:00:00',...</td>\n",
       "      <td>BTC Latest Block Info: Block 721243 holds 2,80...</td>\n",
       "      <td>btc_blockbot\\nM1Seahawk\\nnialljburke\\nmurray_r...</td>\n",
       "      <td>0.789636</td>\n",
       "      <td>0.579271</td>\n",
       "      <td>0.218241</td>\n",
       "      <td>0.156830</td>\n",
       "      <td>14</td>\n",
       "      <td>23</td>\n",
       "      <td>...</td>\n",
       "      <td>38412.45</td>\n",
       "      <td>38466.90</td>\n",
       "      <td>0.001418</td>\n",
       "      <td>1</td>\n",
       "      <td>0.765209</td>\n",
       "      <td>0.760233</td>\n",
       "      <td>0.755899</td>\n",
       "      <td>0.142816</td>\n",
       "      <td>0.136021</td>\n",
       "      <td>0.131531</td>\n",
       "    </tr>\n",
       "    <tr>\n",
       "      <th>743</th>\n",
       "      <td>2022-02-01 00:00:00</td>\n",
       "      <td>['2022-01-31 23:00:00', '2022-01-31 23:00:00',...</td>\n",
       "      <td>Top #Cryptocurrency RANK DOWN (#crypto #bitcoi...</td>\n",
       "      <td>CryptoTopCharts\\nBTC_AI_bot\\ncryptonewsleak\\nt...</td>\n",
       "      <td>0.768259</td>\n",
       "      <td>0.536518</td>\n",
       "      <td>0.256032</td>\n",
       "      <td>0.151095</td>\n",
       "      <td>16</td>\n",
       "      <td>19</td>\n",
       "      <td>...</td>\n",
       "      <td>38466.90</td>\n",
       "      <td>38342.36</td>\n",
       "      <td>-0.003238</td>\n",
       "      <td>0</td>\n",
       "      <td>0.789636</td>\n",
       "      <td>0.765209</td>\n",
       "      <td>0.760233</td>\n",
       "      <td>0.156830</td>\n",
       "      <td>0.142816</td>\n",
       "      <td>0.136021</td>\n",
       "    </tr>\n",
       "  </tbody>\n",
       "</table>\n",
       "<p>744 rows × 37 columns</p>\n",
       "</div>"
      ],
      "text/plain": [
       "                 Date_1H                                           datetime  \\\n",
       "0    2022-01-01 01:00:00  ['2022-01-01 00:00:00', '2022-01-01 00:00:00',...   \n",
       "1    2022-01-01 02:00:00  ['2022-01-01 01:00:00', '2022-01-01 01:00:00',...   \n",
       "2    2022-01-01 03:00:00  ['2022-01-01 02:00:00', '2022-01-01 02:00:00',...   \n",
       "3    2022-01-01 04:00:00  ['2022-01-01 03:00:00', '2022-01-01 03:00:00',...   \n",
       "4    2022-01-01 05:00:00  ['2022-01-01 04:00:00', '2022-01-01 04:00:00',...   \n",
       "..                   ...                                                ...   \n",
       "739  2022-01-31 20:00:00  ['2022-01-31 19:00:00', '2022-01-31 19:00:00',...   \n",
       "740  2022-01-31 21:00:00  ['2022-01-31 20:00:00', '2022-01-31 20:00:00',...   \n",
       "741  2022-01-31 22:00:00  ['2022-01-31 21:00:00', '2022-01-31 21:00:00',...   \n",
       "742  2022-01-31 23:00:00  ['2022-01-31 22:00:00', '2022-01-31 22:00:00',...   \n",
       "743  2022-02-01 00:00:00  ['2022-01-31 23:00:00', '2022-01-31 23:00:00',...   \n",
       "\n",
       "                                                  text  \\\n",
       "0    Current Price of Bitcoin:\\n$46320 (-1.85%)\\n\\n...   \n",
       "1    Today's Cryptocurrency Fear And Greed Index: 2...   \n",
       "2    Huobi Singapore would like to wish you a Happy...   \n",
       "3    1 ARS is 10.26 satoshis right now.\\n\\n1 satosh...   \n",
       "4    Buy Bitcoin $BTC @ 46813.2\\nAn online trader h...   \n",
       "..                                                 ...   \n",
       "739  What's your favourite coins to stake and where...   \n",
       "740  Buy Bitcoin $BTC @ 38415.79\\nLIVE: #Bitcoin be...   \n",
       "741  1 ARS is 12.17 satoshis right now.\\n\\n1 satosh...   \n",
       "742  BTC Latest Block Info: Block 721243 holds 2,80...   \n",
       "743  Top #Cryptocurrency RANK DOWN (#crypto #bitcoi...   \n",
       "\n",
       "                                              username  kk08_pos_score  \\\n",
       "0    CryptoNerdApp\\nTrendSpider\\nMadStudentScie1\\nW...        0.755714   \n",
       "1    FearAndGreedBot\\nOfficialOverbit\\nBTC_AI_bot\\n...        0.775810   \n",
       "2    HuobiSg\\nAmazonCash4Cars\\nBTC_AI_bot\\nCalvinAy...        0.773046   \n",
       "3    SatoshiARS_bot\\nbitcoinpartyall\\ncryptopediaK7...        0.760779   \n",
       "4    BTC_AI_bot\\nnewscomauHQ\\ncryptozone007\\nCarbon...        0.771374   \n",
       "..                                                 ...             ...   \n",
       "739  CheekyCrypto\\naburke626\\nQuantumDelta\\nBTC_AI_...        0.755899   \n",
       "740  BTC_AI_bot\\nCoinDesk\\nbitcoinrate247\\nSquatche...        0.760233   \n",
       "741  SatoshiARS_bot\\nCryptoTopCharts\\nIBKR\\nCryptoN...        0.765209   \n",
       "742  btc_blockbot\\nM1Seahawk\\nnialljburke\\nmurray_r...        0.789636   \n",
       "743  CryptoTopCharts\\nBTC_AI_bot\\ncryptonewsleak\\nt...        0.768259   \n",
       "\n",
       "     kk08_score_diff  Elkulako_label  Sentiment_vader  pred  analysis  ...  \\\n",
       "0           0.511428        0.364813         0.161558    34        72  ...   \n",
       "1           0.551621        0.343045         0.174069    30        29  ...   \n",
       "2           0.546093        0.427992         0.181803    23        24  ...   \n",
       "3           0.521558        0.325186         0.175078    26        20  ...   \n",
       "4           0.542747        0.377858         0.152699    26        19  ...   \n",
       "..               ...             ...              ...   ...       ...  ...   \n",
       "739         0.511798        0.261918         0.131531    21        28  ...   \n",
       "740         0.520465        0.286062         0.136021    23        34  ...   \n",
       "741         0.530418        0.244444         0.142816    21        24  ...   \n",
       "742         0.579271        0.218241         0.156830    14        23  ...   \n",
       "743         0.536518        0.256032         0.151095    16        19  ...   \n",
       "\n",
       "         open     close    Return  Return_sign  kk08_pos_score_lag1  \\\n",
       "0    46656.14  46778.14  0.002615            1                  NaN   \n",
       "1    46778.14  46811.77  0.000719            1             0.755714   \n",
       "2    46811.77  46813.20  0.000031            1             0.775810   \n",
       "3    46813.21  46711.05 -0.002182            0             0.773046   \n",
       "4    46711.05  47192.55  0.010308            1             0.760779   \n",
       "..        ...       ...       ...          ...                  ...   \n",
       "739  38415.79  38450.62  0.000907            1             0.780515   \n",
       "740  38450.62  38410.09 -0.001054            0             0.755899   \n",
       "741  38410.09  38412.46  0.000062            1             0.760233   \n",
       "742  38412.45  38466.90  0.001418            1             0.765209   \n",
       "743  38466.90  38342.36 -0.003238            0             0.789636   \n",
       "\n",
       "     kk08_pos_score_lag2  kk08_pos_score_lag3  Sentiment_vader_lag1  \\\n",
       "0                    NaN                  NaN                   NaN   \n",
       "1                    NaN                  NaN              0.161558   \n",
       "2               0.755714                  NaN              0.174069   \n",
       "3               0.775810             0.755714              0.181803   \n",
       "4               0.773046             0.775810              0.175078   \n",
       "..                   ...                  ...                   ...   \n",
       "739             0.770758             0.750871              0.151048   \n",
       "740             0.780515             0.770758              0.131531   \n",
       "741             0.755899             0.780515              0.136021   \n",
       "742             0.760233             0.755899              0.142816   \n",
       "743             0.765209             0.760233              0.156830   \n",
       "\n",
       "     Sentiment_vader_lag2  Sentiment_vader_lag3  \n",
       "0                     NaN                   NaN  \n",
       "1                     NaN                   NaN  \n",
       "2                0.161558                   NaN  \n",
       "3                0.174069              0.161558  \n",
       "4                0.181803              0.174069  \n",
       "..                    ...                   ...  \n",
       "739              0.136946              0.110582  \n",
       "740              0.151048              0.136946  \n",
       "741              0.131531              0.151048  \n",
       "742              0.136021              0.131531  \n",
       "743              0.142816              0.136021  \n",
       "\n",
       "[744 rows x 37 columns]"
      ]
     },
     "execution_count": 170,
     "metadata": {},
     "output_type": "execute_result"
    }
   ],
   "source": [
    "df"
   ]
  },
  {
   "cell_type": "code",
   "execution_count": 171,
   "metadata": {},
   "outputs": [],
   "source": [
    "df_x_5 = df[[\"Elkulako_label\"]]\n",
    "df_y = df[\"Return_sign\"]"
   ]
  },
  {
   "cell_type": "code",
   "execution_count": 172,
   "metadata": {},
   "outputs": [
    {
     "data": {
      "text/html": [
       "<div>\n",
       "<style scoped>\n",
       "    .dataframe tbody tr th:only-of-type {\n",
       "        vertical-align: middle;\n",
       "    }\n",
       "\n",
       "    .dataframe tbody tr th {\n",
       "        vertical-align: top;\n",
       "    }\n",
       "\n",
       "    .dataframe thead th {\n",
       "        text-align: right;\n",
       "    }\n",
       "</style>\n",
       "<table border=\"1\" class=\"dataframe\">\n",
       "  <thead>\n",
       "    <tr style=\"text-align: right;\">\n",
       "      <th></th>\n",
       "      <th>Elkulako_label</th>\n",
       "    </tr>\n",
       "  </thead>\n",
       "  <tbody>\n",
       "    <tr>\n",
       "      <th>0</th>\n",
       "      <td>0.364813</td>\n",
       "    </tr>\n",
       "    <tr>\n",
       "      <th>1</th>\n",
       "      <td>0.343045</td>\n",
       "    </tr>\n",
       "    <tr>\n",
       "      <th>2</th>\n",
       "      <td>0.427992</td>\n",
       "    </tr>\n",
       "    <tr>\n",
       "      <th>3</th>\n",
       "      <td>0.325186</td>\n",
       "    </tr>\n",
       "    <tr>\n",
       "      <th>4</th>\n",
       "      <td>0.377858</td>\n",
       "    </tr>\n",
       "    <tr>\n",
       "      <th>...</th>\n",
       "      <td>...</td>\n",
       "    </tr>\n",
       "    <tr>\n",
       "      <th>739</th>\n",
       "      <td>0.261918</td>\n",
       "    </tr>\n",
       "    <tr>\n",
       "      <th>740</th>\n",
       "      <td>0.286062</td>\n",
       "    </tr>\n",
       "    <tr>\n",
       "      <th>741</th>\n",
       "      <td>0.244444</td>\n",
       "    </tr>\n",
       "    <tr>\n",
       "      <th>742</th>\n",
       "      <td>0.218241</td>\n",
       "    </tr>\n",
       "    <tr>\n",
       "      <th>743</th>\n",
       "      <td>0.256032</td>\n",
       "    </tr>\n",
       "  </tbody>\n",
       "</table>\n",
       "<p>744 rows × 1 columns</p>\n",
       "</div>"
      ],
      "text/plain": [
       "     Elkulako_label\n",
       "0          0.364813\n",
       "1          0.343045\n",
       "2          0.427992\n",
       "3          0.325186\n",
       "4          0.377858\n",
       "..              ...\n",
       "739        0.261918\n",
       "740        0.286062\n",
       "741        0.244444\n",
       "742        0.218241\n",
       "743        0.256032\n",
       "\n",
       "[744 rows x 1 columns]"
      ]
     },
     "execution_count": 172,
     "metadata": {},
     "output_type": "execute_result"
    }
   ],
   "source": [
    "df_x_5"
   ]
  },
  {
   "cell_type": "code",
   "execution_count": 173,
   "metadata": {},
   "outputs": [],
   "source": [
    "train_share = 0.85\n",
    "df_x_5_train = df_x_5.iloc[:int(len(df_x_5)*train_share)].reset_index(drop=True)\n",
    "df_y_train = df_y.iloc[:int(len(df_x_5)*train_share)].reset_index(drop=True)\n",
    "\n",
    "df_x_5_test = df_x_5.iloc[int(len(df_x_5)*train_share):].reset_index(drop=True)\n",
    "df_y_test = df_y.iloc[int(len(df_x_5)*train_share):].reset_index(drop=True)"
   ]
  },
  {
   "cell_type": "code",
   "execution_count": 174,
   "metadata": {},
   "outputs": [
    {
     "name": "stdout",
     "output_type": "stream",
     "text": [
      "Accuracy: 0.390625\n",
      "ROC-AUC: 0.5\n",
      "F1-score: 0.0\n"
     ]
    }
   ],
   "source": [
    "from sklearn.dummy import DummyClassifier\n",
    "dummy_model = DummyClassifier(strategy='most_frequent')\n",
    "dummy_pred, dummy_acc, dummy_roc_auc,dummy_f1, dummy_feat_imp= cv_and_predict_valid(df_x_5_train,df_y_train,dummy_model)\n"
   ]
  },
  {
   "cell_type": "code",
   "execution_count": 175,
   "metadata": {},
   "outputs": [
    {
     "name": "stdout",
     "output_type": "stream",
     "text": [
      "Accuracy: 0.5267857142857143\n",
      "ROC-AUC: 0.5\n",
      "F1-score: 0.6900584795321637\n"
     ]
    }
   ],
   "source": [
    "# testing\n",
    "model = DummyClassifier(strategy='most_frequent')\n",
    "\n",
    "model.fit(df_x_5_train, df_y_train)\n",
    "predictions = model.predict(df_x_5_test)\n",
    "accuracy = accuracy_score(df_y_test, predictions)\n",
    "roc_auc = roc_auc_score(df_y_test, predictions)\n",
    "f1 = f1_score(df_y_test, predictions)\n",
    "    \n",
    "print(f\"Accuracy: {accuracy}\")\n",
    "print(f\"ROC-AUC: {roc_auc}\")\n",
    "print(f\"F1-score: {f1}\")"
   ]
  },
  {
   "cell_type": "code",
   "execution_count": 176,
   "metadata": {},
   "outputs": [
    {
     "name": "stdout",
     "output_type": "stream",
     "text": [
      "RandomForestClassifier(n_estimators=20, random_state=17)\n",
      "Best parameters from grid search: {'n_estimators': 20}\n",
      "Accuracy: 0.671875\n",
      "ROC-AUC: 0.6733333333333332\n",
      "F1-score: 0.7123287671232876\n"
     ]
    }
   ],
   "source": [
    "from sklearn.ensemble import RandomForestClassifier\n",
    "# Random Forest\n",
    "grid_params = {'n_estimators': [5, 10, 20, 50,100]}\n",
    "rf_model = RandomForestClassifier(random_state=17)\n",
    "rf_pred, rf_acc, rf_roc_auc,rf_f1, rf_feat_imp = cv_and_predict_valid(df_x_5_train,df_y_train, rf_model, tree = True, grid_search=True, grid_parameters=grid_params)"
   ]
  },
  {
   "cell_type": "code",
   "execution_count": 177,
   "metadata": {},
   "outputs": [
    {
     "name": "stdout",
     "output_type": "stream",
     "text": [
      "Accuracy: 0.5714285714285714\n",
      "ROC-AUC: 0.5759513911096898\n",
      "F1-score: 0.5471698113207547\n"
     ]
    }
   ],
   "source": [
    "# testing\n",
    "model = RandomForestClassifier(n_estimators=20, random_state=17)\n",
    "model.fit(df_x_5_train, df_y_train)\n",
    "predictions = model.predict(df_x_5_test)\n",
    "accuracy = accuracy_score(df_y_test, predictions)\n",
    "roc_auc = roc_auc_score(df_y_test, predictions)\n",
    "f1 = f1_score(df_y_test, predictions)\n",
    "    \n",
    "print(f\"Accuracy: {accuracy}\")\n",
    "print(f\"ROC-AUC: {roc_auc}\")\n",
    "print(f\"F1-score: {f1}\")\n",
    "# very good"
   ]
  },
  {
   "cell_type": "code",
   "execution_count": 178,
   "metadata": {},
   "outputs": [
    {
     "name": "stdout",
     "output_type": "stream",
     "text": [
      "XGBClassifier(base_score=None, booster=None, callbacks=None,\n",
      "              colsample_bylevel=None, colsample_bynode=None,\n",
      "              colsample_bytree=None, device=None, early_stopping_rounds=None,\n",
      "              enable_categorical=False, eval_metric=None, feature_types=None,\n",
      "              gamma=None, grow_policy=None, importance_type=None,\n",
      "              interaction_constraints=None, learning_rate=None, max_bin=None,\n",
      "              max_cat_threshold=None, max_cat_to_onehot=None,\n",
      "              max_delta_step=None, max_depth=6, max_leaves=None,\n",
      "              min_child_weight=None, missing=nan, monotone_constraints=None,\n",
      "              multi_strategy=None, n_estimators=300, n_jobs=None,\n",
      "              num_parallel_tree=None, random_state=17, ...)\n",
      "Best parameters from grid search: {'max_depth': 6, 'n_estimators': 300}\n",
      "Accuracy: 0.625\n",
      "ROC-AUC: 0.6276923076923077\n",
      "F1-score: 0.6666666666666666\n"
     ]
    }
   ],
   "source": [
    "from xgboost import XGBClassifier\n",
    "# XGBoost\n",
    "grid_params = {'n_estimators': [5, 10, 20, 30, 50, 100, 300, 500],\"max_depth\": [1,2,3,6]}\n",
    "xgb_model = XGBClassifier(random_state=17)\n",
    "xgb_pred, xgb_acc, xgb_roc_auc,xgb_f1, xgb_feat_imp = cv_and_predict_valid(df_x_5_train,df_y_train, xgb_model, tree = True, grid_search=True, grid_parameters=grid_params)\n",
    "# looks overfitted"
   ]
  },
  {
   "cell_type": "code",
   "execution_count": 179,
   "metadata": {},
   "outputs": [
    {
     "name": "stdout",
     "output_type": "stream",
     "text": [
      "Accuracy: 0.59375\n",
      "ROC-AUC: 0.6020512820512821\n",
      "F1-score: 0.6285714285714286\n"
     ]
    }
   ],
   "source": [
    "xgb_model = XGBClassifier(random_state=17, max_depth = 3, n_estimators = 300)\n",
    "xgb_pred, xgb_acc, xgb_roc_auc,xgb_f1, xgb_feat_imp = cv_and_predict_valid(df_x_5_train,df_y_train, xgb_model, tree = True)"
   ]
  },
  {
   "cell_type": "code",
   "execution_count": 180,
   "metadata": {},
   "outputs": [
    {
     "name": "stdout",
     "output_type": "stream",
     "text": [
      "Accuracy: 0.5446428571428571\n",
      "ROC-AUC: 0.5495682763031661\n",
      "F1-score: 0.5142857142857142\n"
     ]
    }
   ],
   "source": [
    "# testing\n",
    "model = XGBClassifier(random_state=17, max_depth = 6, n_estimators = 300)\n",
    "model.fit(df_x_5_train, df_y_train)\n",
    "predictions = model.predict(df_x_5_test)\n",
    "accuracy = accuracy_score(df_y_test, predictions)\n",
    "roc_auc = roc_auc_score(df_y_test, predictions)\n",
    "f1 = f1_score(df_y_test, predictions)\n",
    "    \n",
    "print(f\"Accuracy: {accuracy}\")\n",
    "print(f\"ROC-AUC: {roc_auc}\")\n",
    "print(f\"F1-score: {f1}\")\n",
    "# good"
   ]
  },
  {
   "cell_type": "code",
   "execution_count": 181,
   "metadata": {},
   "outputs": [
    {
     "name": "stdout",
     "output_type": "stream",
     "text": [
      "SVC(C=0.1, class_weight='balanced', gamma=1, kernel='poly')\n",
      "Best parameters from grid search: {'C': 0.1, 'class_weight': 'balanced', 'gamma': 1, 'kernel': 'poly'}\n",
      "Accuracy: 0.609375\n",
      "ROC-AUC: 0.5\n",
      "F1-score: 0.7572815533980582\n"
     ]
    }
   ],
   "source": [
    "from sklearn.svm import SVC\n",
    "# SVM\n",
    "grid_params = {'C': [0.1, 0.3, 0.7, 1, 2],  'kernel': ['poly', 'rbf'], 'gamma': [1, 0.1, 0.01], 'class_weight': ['balanced', None]}\n",
    "svm_model = SVC()\n",
    "svm_pred, svm_acc, svm_roc_auc,svm_f1, svm_feat_imp = cv_and_predict_valid(df_x_5_train,df_y_train, svm_model, grid_search=True, grid_parameters=grid_params)"
   ]
  },
  {
   "cell_type": "code",
   "execution_count": 182,
   "metadata": {},
   "outputs": [
    {
     "name": "stdout",
     "output_type": "stream",
     "text": [
      "Accuracy: 0.5267857142857143\n",
      "ROC-AUC: 0.5\n",
      "F1-score: 0.6900584795321637\n"
     ]
    }
   ],
   "source": [
    "# testing\n",
    "model = SVC(C=0.1, class_weight='balanced', gamma=1, kernel='poly')\n",
    "model.fit(df_x_5_train, df_y_train)\n",
    "predictions = model.predict(df_x_5_test)\n",
    "accuracy = accuracy_score(df_y_test, predictions)\n",
    "roc_auc = roc_auc_score(df_y_test, predictions)\n",
    "f1 = f1_score(df_y_test, predictions)\n",
    "    \n",
    "print(f\"Accuracy: {accuracy}\")\n",
    "print(f\"ROC-AUC: {roc_auc}\")\n",
    "print(f\"F1-score: {f1}\")"
   ]
  },
  {
   "cell_type": "code",
   "execution_count": 183,
   "metadata": {},
   "outputs": [
    {
     "name": "stdout",
     "output_type": "stream",
     "text": [
      "AdaBoostClassifier(learning_rate=0.1, n_estimators=10)\n",
      "Best parameters from grid search: {'learning_rate': 0.1, 'n_estimators': 10}\n",
      "Accuracy: 0.4375\n",
      "ROC-AUC: 0.5097435897435897\n",
      "F1-score: 0.28\n"
     ]
    },
    {
     "name": "stderr",
     "output_type": "stream",
     "text": [
      "c:\\Users\\isaen\\AppData\\Local\\Programs\\Python\\Python312\\Lib\\site-packages\\sklearn\\ensemble\\_weight_boosting.py:519: FutureWarning: The SAMME.R algorithm (the default) is deprecated and will be removed in 1.6. Use the SAMME algorithm to circumvent this warning.\n",
      "  warnings.warn(\n"
     ]
    }
   ],
   "source": [
    "from sklearn.ensemble import AdaBoostClassifier\n",
    "grid_params = {'n_estimators': [5, 10, 20, 30, 50, 100, 300, 500], 'learning_rate':[0.1, 0.3, 0.5, 1]}\n",
    "ada_model = AdaBoostClassifier()\n",
    "ada_pred, ada_acc, ada_roc_auc,ada_f1, ada_feat_imp = cv_and_predict_valid(df_x_5_train,df_y_train, ada_model, tree = True, grid_search=True, grid_parameters = grid_params)\n"
   ]
  },
  {
   "cell_type": "code",
   "execution_count": 184,
   "metadata": {},
   "outputs": [
    {
     "name": "stdout",
     "output_type": "stream",
     "text": [
      "Accuracy: 0.4732142857142857\n",
      "ROC-AUC: 0.46066517428845544\n",
      "F1-score: 0.5815602836879432\n"
     ]
    },
    {
     "name": "stderr",
     "output_type": "stream",
     "text": [
      "c:\\Users\\isaen\\AppData\\Local\\Programs\\Python\\Python312\\Lib\\site-packages\\sklearn\\ensemble\\_weight_boosting.py:519: FutureWarning: The SAMME.R algorithm (the default) is deprecated and will be removed in 1.6. Use the SAMME algorithm to circumvent this warning.\n",
      "  warnings.warn(\n"
     ]
    }
   ],
   "source": [
    "# testing\n",
    "model = AdaBoostClassifier(learning_rate=0.1, n_estimators=10)\n",
    "model.fit(df_x_5_train, df_y_train)\n",
    "predictions = model.predict(df_x_5_test)\n",
    "accuracy = accuracy_score(df_y_test, predictions)\n",
    "roc_auc = roc_auc_score(df_y_test, predictions)\n",
    "f1 = f1_score(df_y_test, predictions)\n",
    "    \n",
    "print(f\"Accuracy: {accuracy}\")\n",
    "print(f\"ROC-AUC: {roc_auc}\")\n",
    "print(f\"F1-score: {f1}\")"
   ]
  },
  {
   "cell_type": "code",
   "execution_count": null,
   "metadata": {},
   "outputs": [],
   "source": []
  },
  {
   "cell_type": "code",
   "execution_count": 185,
   "metadata": {},
   "outputs": [
    {
     "name": "stdout",
     "output_type": "stream",
     "text": [
      "Accuracy: 0.390625\n",
      "ROC-AUC: 0.5\n",
      "F1-score: 0.0\n"
     ]
    }
   ],
   "source": [
    "from sklearn.naive_bayes import GaussianNB\n",
    "nb_model = GaussianNB()\n",
    "nb_pred, nb_acc, nb_roc_auc,nb_f1, nb_feat_imp = cv_and_predict_valid(df_x_5_train,df_y_train, nb_model)\n"
   ]
  },
  {
   "cell_type": "code",
   "execution_count": 186,
   "metadata": {},
   "outputs": [
    {
     "name": "stdout",
     "output_type": "stream",
     "text": [
      "Accuracy: 0.48214285714285715\n",
      "ROC-AUC: 0.5084745762711864\n",
      "F1-score: 0.03333333333333333\n"
     ]
    }
   ],
   "source": [
    "# testing\n",
    "model = GaussianNB()\n",
    "model.fit(df_x_5_train, df_y_train)\n",
    "predictions = model.predict(df_x_5_test)\n",
    "accuracy = accuracy_score(df_y_test, predictions)\n",
    "roc_auc = roc_auc_score(df_y_test, predictions)\n",
    "f1 = f1_score(df_y_test, predictions)\n",
    "    \n",
    "print(f\"Accuracy: {accuracy}\")\n",
    "print(f\"ROC-AUC: {roc_auc}\")\n",
    "print(f\"F1-score: {f1}\")"
   ]
  },
  {
   "cell_type": "code",
   "execution_count": 187,
   "metadata": {},
   "outputs": [
    {
     "name": "stdout",
     "output_type": "stream",
     "text": [
      "Accuracy: 0.390625\n",
      "ROC-AUC: 0.49282051282051276\n",
      "F1-score: 0.04878048780487805\n"
     ]
    }
   ],
   "source": [
    "from sklearn.linear_model import LogisticRegression\n",
    "lr_model = LogisticRegression()\n",
    "lr_pred, lr_acc, lr_roc_auc,lr_f1, lr_feat_imp = cv_and_predict_valid(df_x_5_train,df_y_train, lr_model)\n"
   ]
  },
  {
   "cell_type": "code",
   "execution_count": 188,
   "metadata": {},
   "outputs": [
    {
     "name": "stdout",
     "output_type": "stream",
     "text": [
      "Accuracy: 0.5267857142857143\n",
      "ROC-AUC: 0.5\n",
      "F1-score: 0.6900584795321637\n"
     ]
    }
   ],
   "source": [
    "# testing\n",
    "model = LogisticRegression()\n",
    "model.fit(df_x_5_train, df_y_train)\n",
    "predictions = model.predict(df_x_5_test)\n",
    "accuracy = accuracy_score(df_y_test, predictions)\n",
    "roc_auc = roc_auc_score(df_y_test, predictions)\n",
    "f1 = f1_score(df_y_test, predictions)\n",
    "    \n",
    "print(f\"Accuracy: {accuracy}\")\n",
    "print(f\"ROC-AUC: {roc_auc}\")\n",
    "print(f\"F1-score: {f1}\")"
   ]
  },
  {
   "cell_type": "code",
   "execution_count": 189,
   "metadata": {},
   "outputs": [
    {
     "name": "stdout",
     "output_type": "stream",
     "text": [
      "KNeighborsClassifier(n_neighbors=50)\n",
      "Best parameters from grid search: {'n_neighbors': 50}\n",
      "Accuracy: 0.46875\n",
      "ROC-AUC: 0.5066666666666666\n",
      "F1-score: 0.43333333333333335\n"
     ]
    }
   ],
   "source": [
    "from sklearn.neighbors import KNeighborsClassifier\n",
    "grid_params = {'n_neighbors': [1, 2, 3, 4, 5, 10, 20, 50]}\n",
    "knn_model = KNeighborsClassifier()\n",
    "knn_pred, knn_acc, knn_roc_auc,knn_f1, knn_feat_imp = cv_and_predict_valid(df_x_5_train,df_y_train, knn_model, grid_search=True, grid_parameters=grid_params)\n"
   ]
  },
  {
   "cell_type": "code",
   "execution_count": 190,
   "metadata": {},
   "outputs": [
    {
     "name": "stdout",
     "output_type": "stream",
     "text": [
      "Accuracy: 0.5267857142857143\n",
      "ROC-AUC: 0.5259034218100416\n",
      "F1-score: 0.5470085470085471\n"
     ]
    }
   ],
   "source": [
    "# testing\n",
    "model = KNeighborsClassifier(n_neighbors=50)\n",
    "model.fit(df_x_5_train, df_y_train)\n",
    "predictions = model.predict(df_x_5_test)\n",
    "accuracy = accuracy_score(df_y_test, predictions)\n",
    "roc_auc = roc_auc_score(df_y_test, predictions)\n",
    "f1 = f1_score(df_y_test, predictions)\n",
    "    \n",
    "print(f\"Accuracy: {accuracy}\")\n",
    "print(f\"ROC-AUC: {roc_auc}\")\n",
    "print(f\"F1-score: {f1}\")\n",
    "# good"
   ]
  },
  {
   "cell_type": "markdown",
   "metadata": {},
   "source": [
    "# Elkulako with lags"
   ]
  },
  {
   "cell_type": "code",
   "execution_count": 191,
   "metadata": {},
   "outputs": [
    {
     "data": {
      "text/html": [
       "<div>\n",
       "<style scoped>\n",
       "    .dataframe tbody tr th:only-of-type {\n",
       "        vertical-align: middle;\n",
       "    }\n",
       "\n",
       "    .dataframe tbody tr th {\n",
       "        vertical-align: top;\n",
       "    }\n",
       "\n",
       "    .dataframe thead th {\n",
       "        text-align: right;\n",
       "    }\n",
       "</style>\n",
       "<table border=\"1\" class=\"dataframe\">\n",
       "  <thead>\n",
       "    <tr style=\"text-align: right;\">\n",
       "      <th></th>\n",
       "      <th>Date_1H</th>\n",
       "      <th>datetime</th>\n",
       "      <th>text</th>\n",
       "      <th>username</th>\n",
       "      <th>kk08_pos_score</th>\n",
       "      <th>kk08_score_diff</th>\n",
       "      <th>Elkulako_label</th>\n",
       "      <th>Sentiment_vader</th>\n",
       "      <th>pred</th>\n",
       "      <th>analysis</th>\n",
       "      <th>...</th>\n",
       "      <th>open</th>\n",
       "      <th>close</th>\n",
       "      <th>Return</th>\n",
       "      <th>Return_sign</th>\n",
       "      <th>kk08_pos_score_lag1</th>\n",
       "      <th>kk08_pos_score_lag2</th>\n",
       "      <th>kk08_pos_score_lag3</th>\n",
       "      <th>Sentiment_vader_lag1</th>\n",
       "      <th>Sentiment_vader_lag2</th>\n",
       "      <th>Sentiment_vader_lag3</th>\n",
       "    </tr>\n",
       "  </thead>\n",
       "  <tbody>\n",
       "    <tr>\n",
       "      <th>0</th>\n",
       "      <td>2022-01-01 01:00:00</td>\n",
       "      <td>['2022-01-01 00:00:00', '2022-01-01 00:00:00',...</td>\n",
       "      <td>Current Price of Bitcoin:\\n$46320 (-1.85%)\\n\\n...</td>\n",
       "      <td>CryptoNerdApp\\nTrendSpider\\nMadStudentScie1\\nW...</td>\n",
       "      <td>0.755714</td>\n",
       "      <td>0.511428</td>\n",
       "      <td>0.364813</td>\n",
       "      <td>0.161558</td>\n",
       "      <td>34</td>\n",
       "      <td>72</td>\n",
       "      <td>...</td>\n",
       "      <td>46656.14</td>\n",
       "      <td>46778.14</td>\n",
       "      <td>0.002615</td>\n",
       "      <td>1</td>\n",
       "      <td>NaN</td>\n",
       "      <td>NaN</td>\n",
       "      <td>NaN</td>\n",
       "      <td>NaN</td>\n",
       "      <td>NaN</td>\n",
       "      <td>NaN</td>\n",
       "    </tr>\n",
       "    <tr>\n",
       "      <th>1</th>\n",
       "      <td>2022-01-01 02:00:00</td>\n",
       "      <td>['2022-01-01 01:00:00', '2022-01-01 01:00:00',...</td>\n",
       "      <td>Today's Cryptocurrency Fear And Greed Index: 2...</td>\n",
       "      <td>FearAndGreedBot\\nOfficialOverbit\\nBTC_AI_bot\\n...</td>\n",
       "      <td>0.775810</td>\n",
       "      <td>0.551621</td>\n",
       "      <td>0.343045</td>\n",
       "      <td>0.174069</td>\n",
       "      <td>30</td>\n",
       "      <td>29</td>\n",
       "      <td>...</td>\n",
       "      <td>46778.14</td>\n",
       "      <td>46811.77</td>\n",
       "      <td>0.000719</td>\n",
       "      <td>1</td>\n",
       "      <td>0.755714</td>\n",
       "      <td>NaN</td>\n",
       "      <td>NaN</td>\n",
       "      <td>0.161558</td>\n",
       "      <td>NaN</td>\n",
       "      <td>NaN</td>\n",
       "    </tr>\n",
       "    <tr>\n",
       "      <th>2</th>\n",
       "      <td>2022-01-01 03:00:00</td>\n",
       "      <td>['2022-01-01 02:00:00', '2022-01-01 02:00:00',...</td>\n",
       "      <td>Huobi Singapore would like to wish you a Happy...</td>\n",
       "      <td>HuobiSg\\nAmazonCash4Cars\\nBTC_AI_bot\\nCalvinAy...</td>\n",
       "      <td>0.773046</td>\n",
       "      <td>0.546093</td>\n",
       "      <td>0.427992</td>\n",
       "      <td>0.181803</td>\n",
       "      <td>23</td>\n",
       "      <td>24</td>\n",
       "      <td>...</td>\n",
       "      <td>46811.77</td>\n",
       "      <td>46813.20</td>\n",
       "      <td>0.000031</td>\n",
       "      <td>1</td>\n",
       "      <td>0.775810</td>\n",
       "      <td>0.755714</td>\n",
       "      <td>NaN</td>\n",
       "      <td>0.174069</td>\n",
       "      <td>0.161558</td>\n",
       "      <td>NaN</td>\n",
       "    </tr>\n",
       "    <tr>\n",
       "      <th>3</th>\n",
       "      <td>2022-01-01 04:00:00</td>\n",
       "      <td>['2022-01-01 03:00:00', '2022-01-01 03:00:00',...</td>\n",
       "      <td>1 ARS is 10.26 satoshis right now.\\n\\n1 satosh...</td>\n",
       "      <td>SatoshiARS_bot\\nbitcoinpartyall\\ncryptopediaK7...</td>\n",
       "      <td>0.760779</td>\n",
       "      <td>0.521558</td>\n",
       "      <td>0.325186</td>\n",
       "      <td>0.175078</td>\n",
       "      <td>26</td>\n",
       "      <td>20</td>\n",
       "      <td>...</td>\n",
       "      <td>46813.21</td>\n",
       "      <td>46711.05</td>\n",
       "      <td>-0.002182</td>\n",
       "      <td>0</td>\n",
       "      <td>0.773046</td>\n",
       "      <td>0.775810</td>\n",
       "      <td>0.755714</td>\n",
       "      <td>0.181803</td>\n",
       "      <td>0.174069</td>\n",
       "      <td>0.161558</td>\n",
       "    </tr>\n",
       "    <tr>\n",
       "      <th>4</th>\n",
       "      <td>2022-01-01 05:00:00</td>\n",
       "      <td>['2022-01-01 04:00:00', '2022-01-01 04:00:00',...</td>\n",
       "      <td>Buy Bitcoin $BTC @ 46813.2\\nAn online trader h...</td>\n",
       "      <td>BTC_AI_bot\\nnewscomauHQ\\ncryptozone007\\nCarbon...</td>\n",
       "      <td>0.771374</td>\n",
       "      <td>0.542747</td>\n",
       "      <td>0.377858</td>\n",
       "      <td>0.152699</td>\n",
       "      <td>26</td>\n",
       "      <td>19</td>\n",
       "      <td>...</td>\n",
       "      <td>46711.05</td>\n",
       "      <td>47192.55</td>\n",
       "      <td>0.010308</td>\n",
       "      <td>1</td>\n",
       "      <td>0.760779</td>\n",
       "      <td>0.773046</td>\n",
       "      <td>0.775810</td>\n",
       "      <td>0.175078</td>\n",
       "      <td>0.181803</td>\n",
       "      <td>0.174069</td>\n",
       "    </tr>\n",
       "    <tr>\n",
       "      <th>...</th>\n",
       "      <td>...</td>\n",
       "      <td>...</td>\n",
       "      <td>...</td>\n",
       "      <td>...</td>\n",
       "      <td>...</td>\n",
       "      <td>...</td>\n",
       "      <td>...</td>\n",
       "      <td>...</td>\n",
       "      <td>...</td>\n",
       "      <td>...</td>\n",
       "      <td>...</td>\n",
       "      <td>...</td>\n",
       "      <td>...</td>\n",
       "      <td>...</td>\n",
       "      <td>...</td>\n",
       "      <td>...</td>\n",
       "      <td>...</td>\n",
       "      <td>...</td>\n",
       "      <td>...</td>\n",
       "      <td>...</td>\n",
       "      <td>...</td>\n",
       "    </tr>\n",
       "    <tr>\n",
       "      <th>739</th>\n",
       "      <td>2022-01-31 20:00:00</td>\n",
       "      <td>['2022-01-31 19:00:00', '2022-01-31 19:00:00',...</td>\n",
       "      <td>What's your favourite coins to stake and where...</td>\n",
       "      <td>CheekyCrypto\\naburke626\\nQuantumDelta\\nBTC_AI_...</td>\n",
       "      <td>0.755899</td>\n",
       "      <td>0.511798</td>\n",
       "      <td>0.261918</td>\n",
       "      <td>0.131531</td>\n",
       "      <td>21</td>\n",
       "      <td>28</td>\n",
       "      <td>...</td>\n",
       "      <td>38415.79</td>\n",
       "      <td>38450.62</td>\n",
       "      <td>0.000907</td>\n",
       "      <td>1</td>\n",
       "      <td>0.780515</td>\n",
       "      <td>0.770758</td>\n",
       "      <td>0.750871</td>\n",
       "      <td>0.151048</td>\n",
       "      <td>0.136946</td>\n",
       "      <td>0.110582</td>\n",
       "    </tr>\n",
       "    <tr>\n",
       "      <th>740</th>\n",
       "      <td>2022-01-31 21:00:00</td>\n",
       "      <td>['2022-01-31 20:00:00', '2022-01-31 20:00:00',...</td>\n",
       "      <td>Buy Bitcoin $BTC @ 38415.79\\nLIVE: #Bitcoin be...</td>\n",
       "      <td>BTC_AI_bot\\nCoinDesk\\nbitcoinrate247\\nSquatche...</td>\n",
       "      <td>0.760233</td>\n",
       "      <td>0.520465</td>\n",
       "      <td>0.286062</td>\n",
       "      <td>0.136021</td>\n",
       "      <td>23</td>\n",
       "      <td>34</td>\n",
       "      <td>...</td>\n",
       "      <td>38450.62</td>\n",
       "      <td>38410.09</td>\n",
       "      <td>-0.001054</td>\n",
       "      <td>0</td>\n",
       "      <td>0.755899</td>\n",
       "      <td>0.780515</td>\n",
       "      <td>0.770758</td>\n",
       "      <td>0.131531</td>\n",
       "      <td>0.151048</td>\n",
       "      <td>0.136946</td>\n",
       "    </tr>\n",
       "    <tr>\n",
       "      <th>741</th>\n",
       "      <td>2022-01-31 22:00:00</td>\n",
       "      <td>['2022-01-31 21:00:00', '2022-01-31 21:00:00',...</td>\n",
       "      <td>1 ARS is 12.17 satoshis right now.\\n\\n1 satosh...</td>\n",
       "      <td>SatoshiARS_bot\\nCryptoTopCharts\\nIBKR\\nCryptoN...</td>\n",
       "      <td>0.765209</td>\n",
       "      <td>0.530418</td>\n",
       "      <td>0.244444</td>\n",
       "      <td>0.142816</td>\n",
       "      <td>21</td>\n",
       "      <td>24</td>\n",
       "      <td>...</td>\n",
       "      <td>38410.09</td>\n",
       "      <td>38412.46</td>\n",
       "      <td>0.000062</td>\n",
       "      <td>1</td>\n",
       "      <td>0.760233</td>\n",
       "      <td>0.755899</td>\n",
       "      <td>0.780515</td>\n",
       "      <td>0.136021</td>\n",
       "      <td>0.131531</td>\n",
       "      <td>0.151048</td>\n",
       "    </tr>\n",
       "    <tr>\n",
       "      <th>742</th>\n",
       "      <td>2022-01-31 23:00:00</td>\n",
       "      <td>['2022-01-31 22:00:00', '2022-01-31 22:00:00',...</td>\n",
       "      <td>BTC Latest Block Info: Block 721243 holds 2,80...</td>\n",
       "      <td>btc_blockbot\\nM1Seahawk\\nnialljburke\\nmurray_r...</td>\n",
       "      <td>0.789636</td>\n",
       "      <td>0.579271</td>\n",
       "      <td>0.218241</td>\n",
       "      <td>0.156830</td>\n",
       "      <td>14</td>\n",
       "      <td>23</td>\n",
       "      <td>...</td>\n",
       "      <td>38412.45</td>\n",
       "      <td>38466.90</td>\n",
       "      <td>0.001418</td>\n",
       "      <td>1</td>\n",
       "      <td>0.765209</td>\n",
       "      <td>0.760233</td>\n",
       "      <td>0.755899</td>\n",
       "      <td>0.142816</td>\n",
       "      <td>0.136021</td>\n",
       "      <td>0.131531</td>\n",
       "    </tr>\n",
       "    <tr>\n",
       "      <th>743</th>\n",
       "      <td>2022-02-01 00:00:00</td>\n",
       "      <td>['2022-01-31 23:00:00', '2022-01-31 23:00:00',...</td>\n",
       "      <td>Top #Cryptocurrency RANK DOWN (#crypto #bitcoi...</td>\n",
       "      <td>CryptoTopCharts\\nBTC_AI_bot\\ncryptonewsleak\\nt...</td>\n",
       "      <td>0.768259</td>\n",
       "      <td>0.536518</td>\n",
       "      <td>0.256032</td>\n",
       "      <td>0.151095</td>\n",
       "      <td>16</td>\n",
       "      <td>19</td>\n",
       "      <td>...</td>\n",
       "      <td>38466.90</td>\n",
       "      <td>38342.36</td>\n",
       "      <td>-0.003238</td>\n",
       "      <td>0</td>\n",
       "      <td>0.789636</td>\n",
       "      <td>0.765209</td>\n",
       "      <td>0.760233</td>\n",
       "      <td>0.156830</td>\n",
       "      <td>0.142816</td>\n",
       "      <td>0.136021</td>\n",
       "    </tr>\n",
       "  </tbody>\n",
       "</table>\n",
       "<p>744 rows × 37 columns</p>\n",
       "</div>"
      ],
      "text/plain": [
       "                 Date_1H                                           datetime  \\\n",
       "0    2022-01-01 01:00:00  ['2022-01-01 00:00:00', '2022-01-01 00:00:00',...   \n",
       "1    2022-01-01 02:00:00  ['2022-01-01 01:00:00', '2022-01-01 01:00:00',...   \n",
       "2    2022-01-01 03:00:00  ['2022-01-01 02:00:00', '2022-01-01 02:00:00',...   \n",
       "3    2022-01-01 04:00:00  ['2022-01-01 03:00:00', '2022-01-01 03:00:00',...   \n",
       "4    2022-01-01 05:00:00  ['2022-01-01 04:00:00', '2022-01-01 04:00:00',...   \n",
       "..                   ...                                                ...   \n",
       "739  2022-01-31 20:00:00  ['2022-01-31 19:00:00', '2022-01-31 19:00:00',...   \n",
       "740  2022-01-31 21:00:00  ['2022-01-31 20:00:00', '2022-01-31 20:00:00',...   \n",
       "741  2022-01-31 22:00:00  ['2022-01-31 21:00:00', '2022-01-31 21:00:00',...   \n",
       "742  2022-01-31 23:00:00  ['2022-01-31 22:00:00', '2022-01-31 22:00:00',...   \n",
       "743  2022-02-01 00:00:00  ['2022-01-31 23:00:00', '2022-01-31 23:00:00',...   \n",
       "\n",
       "                                                  text  \\\n",
       "0    Current Price of Bitcoin:\\n$46320 (-1.85%)\\n\\n...   \n",
       "1    Today's Cryptocurrency Fear And Greed Index: 2...   \n",
       "2    Huobi Singapore would like to wish you a Happy...   \n",
       "3    1 ARS is 10.26 satoshis right now.\\n\\n1 satosh...   \n",
       "4    Buy Bitcoin $BTC @ 46813.2\\nAn online trader h...   \n",
       "..                                                 ...   \n",
       "739  What's your favourite coins to stake and where...   \n",
       "740  Buy Bitcoin $BTC @ 38415.79\\nLIVE: #Bitcoin be...   \n",
       "741  1 ARS is 12.17 satoshis right now.\\n\\n1 satosh...   \n",
       "742  BTC Latest Block Info: Block 721243 holds 2,80...   \n",
       "743  Top #Cryptocurrency RANK DOWN (#crypto #bitcoi...   \n",
       "\n",
       "                                              username  kk08_pos_score  \\\n",
       "0    CryptoNerdApp\\nTrendSpider\\nMadStudentScie1\\nW...        0.755714   \n",
       "1    FearAndGreedBot\\nOfficialOverbit\\nBTC_AI_bot\\n...        0.775810   \n",
       "2    HuobiSg\\nAmazonCash4Cars\\nBTC_AI_bot\\nCalvinAy...        0.773046   \n",
       "3    SatoshiARS_bot\\nbitcoinpartyall\\ncryptopediaK7...        0.760779   \n",
       "4    BTC_AI_bot\\nnewscomauHQ\\ncryptozone007\\nCarbon...        0.771374   \n",
       "..                                                 ...             ...   \n",
       "739  CheekyCrypto\\naburke626\\nQuantumDelta\\nBTC_AI_...        0.755899   \n",
       "740  BTC_AI_bot\\nCoinDesk\\nbitcoinrate247\\nSquatche...        0.760233   \n",
       "741  SatoshiARS_bot\\nCryptoTopCharts\\nIBKR\\nCryptoN...        0.765209   \n",
       "742  btc_blockbot\\nM1Seahawk\\nnialljburke\\nmurray_r...        0.789636   \n",
       "743  CryptoTopCharts\\nBTC_AI_bot\\ncryptonewsleak\\nt...        0.768259   \n",
       "\n",
       "     kk08_score_diff  Elkulako_label  Sentiment_vader  pred  analysis  ...  \\\n",
       "0           0.511428        0.364813         0.161558    34        72  ...   \n",
       "1           0.551621        0.343045         0.174069    30        29  ...   \n",
       "2           0.546093        0.427992         0.181803    23        24  ...   \n",
       "3           0.521558        0.325186         0.175078    26        20  ...   \n",
       "4           0.542747        0.377858         0.152699    26        19  ...   \n",
       "..               ...             ...              ...   ...       ...  ...   \n",
       "739         0.511798        0.261918         0.131531    21        28  ...   \n",
       "740         0.520465        0.286062         0.136021    23        34  ...   \n",
       "741         0.530418        0.244444         0.142816    21        24  ...   \n",
       "742         0.579271        0.218241         0.156830    14        23  ...   \n",
       "743         0.536518        0.256032         0.151095    16        19  ...   \n",
       "\n",
       "         open     close    Return  Return_sign  kk08_pos_score_lag1  \\\n",
       "0    46656.14  46778.14  0.002615            1                  NaN   \n",
       "1    46778.14  46811.77  0.000719            1             0.755714   \n",
       "2    46811.77  46813.20  0.000031            1             0.775810   \n",
       "3    46813.21  46711.05 -0.002182            0             0.773046   \n",
       "4    46711.05  47192.55  0.010308            1             0.760779   \n",
       "..        ...       ...       ...          ...                  ...   \n",
       "739  38415.79  38450.62  0.000907            1             0.780515   \n",
       "740  38450.62  38410.09 -0.001054            0             0.755899   \n",
       "741  38410.09  38412.46  0.000062            1             0.760233   \n",
       "742  38412.45  38466.90  0.001418            1             0.765209   \n",
       "743  38466.90  38342.36 -0.003238            0             0.789636   \n",
       "\n",
       "     kk08_pos_score_lag2  kk08_pos_score_lag3  Sentiment_vader_lag1  \\\n",
       "0                    NaN                  NaN                   NaN   \n",
       "1                    NaN                  NaN              0.161558   \n",
       "2               0.755714                  NaN              0.174069   \n",
       "3               0.775810             0.755714              0.181803   \n",
       "4               0.773046             0.775810              0.175078   \n",
       "..                   ...                  ...                   ...   \n",
       "739             0.770758             0.750871              0.151048   \n",
       "740             0.780515             0.770758              0.131531   \n",
       "741             0.755899             0.780515              0.136021   \n",
       "742             0.760233             0.755899              0.142816   \n",
       "743             0.765209             0.760233              0.156830   \n",
       "\n",
       "     Sentiment_vader_lag2  Sentiment_vader_lag3  \n",
       "0                     NaN                   NaN  \n",
       "1                     NaN                   NaN  \n",
       "2                0.161558                   NaN  \n",
       "3                0.174069              0.161558  \n",
       "4                0.181803              0.174069  \n",
       "..                    ...                   ...  \n",
       "739              0.136946              0.110582  \n",
       "740              0.151048              0.136946  \n",
       "741              0.131531              0.151048  \n",
       "742              0.136021              0.131531  \n",
       "743              0.142816              0.136021  \n",
       "\n",
       "[744 rows x 37 columns]"
      ]
     },
     "execution_count": 191,
     "metadata": {},
     "output_type": "execute_result"
    }
   ],
   "source": [
    "df"
   ]
  },
  {
   "cell_type": "code",
   "execution_count": 192,
   "metadata": {},
   "outputs": [],
   "source": [
    "df['Elkulako_label_lag1']=df['Elkulako_label'].shift(1)\n",
    "df['Elkulako_label_lag2']=df['Elkulako_label'].shift(2)\n",
    "df['Elkulako_label_lag3']=df['Elkulako_label'].shift(3)\n"
   ]
  },
  {
   "cell_type": "code",
   "execution_count": 193,
   "metadata": {},
   "outputs": [],
   "source": [
    "df_x_6 = df.dropna().reset_index(drop=True)[[\"Elkulako_label\", \"Elkulako_label_lag1\", \"Elkulako_label_lag2\", \"Elkulako_label_lag3\"]]\n",
    "df_y_6 = df[\"Return_sign\"].iloc[3:].reset_index(drop=True)"
   ]
  },
  {
   "cell_type": "code",
   "execution_count": 194,
   "metadata": {},
   "outputs": [
    {
     "data": {
      "text/html": [
       "<div>\n",
       "<style scoped>\n",
       "    .dataframe tbody tr th:only-of-type {\n",
       "        vertical-align: middle;\n",
       "    }\n",
       "\n",
       "    .dataframe tbody tr th {\n",
       "        vertical-align: top;\n",
       "    }\n",
       "\n",
       "    .dataframe thead th {\n",
       "        text-align: right;\n",
       "    }\n",
       "</style>\n",
       "<table border=\"1\" class=\"dataframe\">\n",
       "  <thead>\n",
       "    <tr style=\"text-align: right;\">\n",
       "      <th></th>\n",
       "      <th>Elkulako_label</th>\n",
       "      <th>Elkulako_label_lag1</th>\n",
       "      <th>Elkulako_label_lag2</th>\n",
       "      <th>Elkulako_label_lag3</th>\n",
       "    </tr>\n",
       "  </thead>\n",
       "  <tbody>\n",
       "    <tr>\n",
       "      <th>0</th>\n",
       "      <td>0.325186</td>\n",
       "      <td>0.427992</td>\n",
       "      <td>0.343045</td>\n",
       "      <td>0.364813</td>\n",
       "    </tr>\n",
       "    <tr>\n",
       "      <th>1</th>\n",
       "      <td>0.377858</td>\n",
       "      <td>0.325186</td>\n",
       "      <td>0.427992</td>\n",
       "      <td>0.343045</td>\n",
       "    </tr>\n",
       "    <tr>\n",
       "      <th>2</th>\n",
       "      <td>0.345307</td>\n",
       "      <td>0.377858</td>\n",
       "      <td>0.325186</td>\n",
       "      <td>0.427992</td>\n",
       "    </tr>\n",
       "    <tr>\n",
       "      <th>3</th>\n",
       "      <td>0.381842</td>\n",
       "      <td>0.345307</td>\n",
       "      <td>0.377858</td>\n",
       "      <td>0.325186</td>\n",
       "    </tr>\n",
       "    <tr>\n",
       "      <th>4</th>\n",
       "      <td>0.412234</td>\n",
       "      <td>0.381842</td>\n",
       "      <td>0.345307</td>\n",
       "      <td>0.377858</td>\n",
       "    </tr>\n",
       "    <tr>\n",
       "      <th>...</th>\n",
       "      <td>...</td>\n",
       "      <td>...</td>\n",
       "      <td>...</td>\n",
       "      <td>...</td>\n",
       "    </tr>\n",
       "    <tr>\n",
       "      <th>736</th>\n",
       "      <td>0.261918</td>\n",
       "      <td>0.293225</td>\n",
       "      <td>0.272771</td>\n",
       "      <td>0.237048</td>\n",
       "    </tr>\n",
       "    <tr>\n",
       "      <th>737</th>\n",
       "      <td>0.286062</td>\n",
       "      <td>0.261918</td>\n",
       "      <td>0.293225</td>\n",
       "      <td>0.272771</td>\n",
       "    </tr>\n",
       "    <tr>\n",
       "      <th>738</th>\n",
       "      <td>0.244444</td>\n",
       "      <td>0.286062</td>\n",
       "      <td>0.261918</td>\n",
       "      <td>0.293225</td>\n",
       "    </tr>\n",
       "    <tr>\n",
       "      <th>739</th>\n",
       "      <td>0.218241</td>\n",
       "      <td>0.244444</td>\n",
       "      <td>0.286062</td>\n",
       "      <td>0.261918</td>\n",
       "    </tr>\n",
       "    <tr>\n",
       "      <th>740</th>\n",
       "      <td>0.256032</td>\n",
       "      <td>0.218241</td>\n",
       "      <td>0.244444</td>\n",
       "      <td>0.286062</td>\n",
       "    </tr>\n",
       "  </tbody>\n",
       "</table>\n",
       "<p>741 rows × 4 columns</p>\n",
       "</div>"
      ],
      "text/plain": [
       "     Elkulako_label  Elkulako_label_lag1  Elkulako_label_lag2  \\\n",
       "0          0.325186             0.427992             0.343045   \n",
       "1          0.377858             0.325186             0.427992   \n",
       "2          0.345307             0.377858             0.325186   \n",
       "3          0.381842             0.345307             0.377858   \n",
       "4          0.412234             0.381842             0.345307   \n",
       "..              ...                  ...                  ...   \n",
       "736        0.261918             0.293225             0.272771   \n",
       "737        0.286062             0.261918             0.293225   \n",
       "738        0.244444             0.286062             0.261918   \n",
       "739        0.218241             0.244444             0.286062   \n",
       "740        0.256032             0.218241             0.244444   \n",
       "\n",
       "     Elkulako_label_lag3  \n",
       "0               0.364813  \n",
       "1               0.343045  \n",
       "2               0.427992  \n",
       "3               0.325186  \n",
       "4               0.377858  \n",
       "..                   ...  \n",
       "736             0.237048  \n",
       "737             0.272771  \n",
       "738             0.293225  \n",
       "739             0.261918  \n",
       "740             0.286062  \n",
       "\n",
       "[741 rows x 4 columns]"
      ]
     },
     "execution_count": 194,
     "metadata": {},
     "output_type": "execute_result"
    }
   ],
   "source": [
    "df_x_6"
   ]
  },
  {
   "cell_type": "code",
   "execution_count": 195,
   "metadata": {},
   "outputs": [
    {
     "data": {
      "text/plain": [
       "0      0\n",
       "1      1\n",
       "2      0\n",
       "3      1\n",
       "4      0\n",
       "      ..\n",
       "736    1\n",
       "737    0\n",
       "738    1\n",
       "739    1\n",
       "740    0\n",
       "Name: Return_sign, Length: 741, dtype: int64"
      ]
     },
     "execution_count": 195,
     "metadata": {},
     "output_type": "execute_result"
    }
   ],
   "source": [
    "df_y_6"
   ]
  },
  {
   "cell_type": "code",
   "execution_count": 196,
   "metadata": {},
   "outputs": [],
   "source": [
    "train_share = 0.85\n",
    "df_x_6_train = df_x_6.iloc[:int(len(df_x_6)*train_share)].reset_index(drop=True)\n",
    "df_y_6_train = df_y_6.iloc[:int(len(df_x_6)*train_share)].reset_index(drop=True)\n",
    "\n",
    "df_x_6_test = df_x_6.iloc[int(len(df_x_6)*train_share):].reset_index(drop=True)\n",
    "df_y_6_test = df_y_6.iloc[int(len(df_x_6)*train_share):].reset_index(drop=True)"
   ]
  },
  {
   "cell_type": "code",
   "execution_count": 197,
   "metadata": {},
   "outputs": [
    {
     "data": {
      "text/plain": [
       "0.5267857142857143"
      ]
     },
     "execution_count": 197,
     "metadata": {},
     "output_type": "execute_result"
    }
   ],
   "source": [
    "sum(df_y_6_test)/len(df_y_6_test)"
   ]
  },
  {
   "cell_type": "code",
   "execution_count": 198,
   "metadata": {},
   "outputs": [
    {
     "name": "stdout",
     "output_type": "stream",
     "text": [
      "Accuracy: 0.3968253968253968\n",
      "ROC-AUC: 0.5\n",
      "F1-score: 0.0\n"
     ]
    }
   ],
   "source": [
    "from sklearn.dummy import DummyClassifier\n",
    "dummy_model = DummyClassifier(strategy='most_frequent')\n",
    "dummy_pred, dummy_acc, dummy_roc_auc,dummy_f1, dummy_feat_imp= cv_and_predict_valid(df_x_6_train,df_y_6_train,dummy_model)\n"
   ]
  },
  {
   "cell_type": "code",
   "execution_count": 199,
   "metadata": {},
   "outputs": [
    {
     "name": "stdout",
     "output_type": "stream",
     "text": [
      "RandomForestClassifier(n_estimators=5, random_state=17)\n",
      "Best parameters from grid search: {'n_estimators': 5}\n",
      "Accuracy: 0.5714285714285714\n",
      "ROC-AUC: 0.5557894736842105\n",
      "F1-score: 0.64\n"
     ]
    }
   ],
   "source": [
    "from sklearn.ensemble import RandomForestClassifier\n",
    "# Random Forest\n",
    "grid_params = {'n_estimators': [5, 10, 20, 50, 100, 300]}\n",
    "rf_model = RandomForestClassifier(random_state=17)\n",
    "rf_pred, rf_acc, rf_roc_auc,rf_f1, rf_feat_imp = cv_and_predict_valid(df_x_6_train,df_y_6_train, rf_model, tree = True, grid_search=True, grid_parameters=grid_params)"
   ]
  },
  {
   "cell_type": "code",
   "execution_count": 200,
   "metadata": {},
   "outputs": [
    {
     "name": "stdout",
     "output_type": "stream",
     "text": [
      "Accuracy: 0.5089285714285714\n",
      "ROC-AUC: 0.5060761112887752\n",
      "F1-score: 0.5454545454545454\n"
     ]
    }
   ],
   "source": [
    "# testing\n",
    "model = RandomForestClassifier(n_estimators=5, random_state=17)\n",
    "model.fit(df_x_6_train, df_y_6_train)\n",
    "predictions = model.predict(df_x_6_test)\n",
    "accuracy = accuracy_score(df_y_6_test, predictions)\n",
    "roc_auc = roc_auc_score(df_y_6_test, predictions)\n",
    "f1 = f1_score(df_y_6_test, predictions)\n",
    "    \n",
    "print(f\"Accuracy: {accuracy}\")\n",
    "print(f\"ROC-AUC: {roc_auc}\")\n",
    "print(f\"F1-score: {f1}\")\n"
   ]
  },
  {
   "cell_type": "code",
   "execution_count": 201,
   "metadata": {},
   "outputs": [
    {
     "name": "stdout",
     "output_type": "stream",
     "text": [
      "XGBClassifier(base_score=None, booster=None, callbacks=None,\n",
      "              colsample_bylevel=None, colsample_bynode=None,\n",
      "              colsample_bytree=None, device=None, early_stopping_rounds=None,\n",
      "              enable_categorical=False, eval_metric=None, feature_types=None,\n",
      "              gamma=None, grow_policy=None, importance_type=None,\n",
      "              interaction_constraints=None, learning_rate=None, max_bin=None,\n",
      "              max_cat_threshold=None, max_cat_to_onehot=None,\n",
      "              max_delta_step=None, max_depth=1, max_leaves=None,\n",
      "              min_child_weight=None, missing=nan, monotone_constraints=None,\n",
      "              multi_strategy=None, n_estimators=500, n_jobs=None,\n",
      "              num_parallel_tree=None, random_state=17, ...)\n",
      "Best parameters from grid search: {'max_depth': 1, 'n_estimators': 500}\n",
      "Accuracy: 0.5396825396825397\n",
      "ROC-AUC: 0.5431578947368421\n",
      "F1-score: 0.5797101449275363\n"
     ]
    }
   ],
   "source": [
    "from xgboost import XGBClassifier\n",
    "# XGBoost\n",
    "grid_params = {'n_estimators': [100, 300, 500],\"max_depth\": [1,3,6]}\n",
    "xgb_model = XGBClassifier(random_state=17)\n",
    "xgb_pred, xgb_acc, xgb_roc_auc,xgb_f1, xgb_feat_imp = cv_and_predict_valid(df_x_6_train,df_y_6_train, xgb_model, tree = True, grid_search=True, grid_parameters=grid_params)"
   ]
  },
  {
   "cell_type": "code",
   "execution_count": 202,
   "metadata": {},
   "outputs": [
    {
     "name": "stdout",
     "output_type": "stream",
     "text": [
      "Accuracy: 0.5267857142857143\n",
      "ROC-AUC: 0.523025263831148\n",
      "F1-score: 0.5691056910569106\n"
     ]
    }
   ],
   "source": [
    "# testing\n",
    "model = XGBClassifier(random_state=17, max_depth = 1, n_estimators= 500)\n",
    "model.fit(df_x_6_train, df_y_6_train)\n",
    "predictions = model.predict(df_x_6_test)\n",
    "accuracy = accuracy_score(df_y_6_test, predictions)\n",
    "roc_auc = roc_auc_score(df_y_6_test, predictions)\n",
    "f1 = f1_score(df_y_6_test, predictions)\n",
    "    \n",
    "print(f\"Accuracy: {accuracy}\")\n",
    "print(f\"ROC-AUC: {roc_auc}\")\n",
    "print(f\"F1-score: {f1}\")\n",
    "# not bad"
   ]
  },
  {
   "cell_type": "code",
   "execution_count": 203,
   "metadata": {},
   "outputs": [
    {
     "name": "stdout",
     "output_type": "stream",
     "text": [
      "SVC(C=0.7, class_weight='balanced', gamma=1)\n",
      "Best parameters from grid search: {'C': 0.7, 'class_weight': 'balanced', 'gamma': 1, 'kernel': 'rbf'}\n",
      "Accuracy: 0.3968253968253968\n",
      "ROC-AUC: 0.5\n",
      "F1-score: 0.0\n"
     ]
    }
   ],
   "source": [
    "from sklearn.svm import SVC\n",
    "# SVM\n",
    "grid_params = {'C': [0.1, 0.3, 0.7, 1],  'kernel': ['poly', 'rbf'], 'gamma': [1, 0.1, 0.01], 'class_weight': ['balanced', None]}\n",
    "svm_model = SVC()\n",
    "svm_pred, svm_acc, svm_roc_auc,svm_f1, svm_feat_imp = cv_and_predict_valid(df_x_6_train,df_y_6_train, svm_model, grid_search=True, grid_parameters=grid_params)\n",
    "# too bad"
   ]
  },
  {
   "cell_type": "code",
   "execution_count": 204,
   "metadata": {},
   "outputs": [
    {
     "name": "stdout",
     "output_type": "stream",
     "text": [
      "Accuracy: 0.5267857142857143\n",
      "ROC-AUC: 0.5182283338663256\n",
      "F1-score: 0.6015037593984962\n"
     ]
    }
   ],
   "source": [
    "# testing\n",
    "model = SVC(C=0.7, class_weight='balanced', gamma=1)\n",
    "model.fit(df_x_6_train, df_y_6_train)\n",
    "predictions = model.predict(df_x_6_test)\n",
    "accuracy = accuracy_score(df_y_6_test, predictions)\n",
    "roc_auc = roc_auc_score(df_y_6_test, predictions)\n",
    "f1 = f1_score(df_y_6_test, predictions)\n",
    "    \n",
    "print(f\"Accuracy: {accuracy}\")\n",
    "print(f\"ROC-AUC: {roc_auc}\")\n",
    "print(f\"F1-score: {f1}\")"
   ]
  },
  {
   "cell_type": "code",
   "execution_count": 205,
   "metadata": {},
   "outputs": [
    {
     "name": "stderr",
     "output_type": "stream",
     "text": [
      "c:\\Users\\isaen\\AppData\\Local\\Programs\\Python\\Python312\\Lib\\site-packages\\sklearn\\ensemble\\_weight_boosting.py:519: FutureWarning: The SAMME.R algorithm (the default) is deprecated and will be removed in 1.6. Use the SAMME algorithm to circumvent this warning.\n",
      "  warnings.warn(\n"
     ]
    },
    {
     "name": "stdout",
     "output_type": "stream",
     "text": [
      "AdaBoostClassifier(learning_rate=1, n_estimators=500)\n",
      "Best parameters from grid search: {'learning_rate': 1, 'n_estimators': 500}\n",
      "Accuracy: 0.4603174603174603\n",
      "ROC-AUC: 0.4636842105263158\n",
      "F1-score: 0.5\n"
     ]
    }
   ],
   "source": [
    "from sklearn.ensemble import AdaBoostClassifier\n",
    "grid_params = {'n_estimators': [50, 100, 300, 500], 'learning_rate':[0.1, 0.3, 0.5, 1]}\n",
    "model = AdaBoostClassifier()\n",
    "ada_pred, ada_acc, ada_roc_auc,ada_f1, ada_feat_imp = cv_and_predict_valid(df_x_6_train,df_y_6_train, model, tree = True, grid_search=True, grid_parameters = grid_params)\n",
    "# too bad"
   ]
  },
  {
   "cell_type": "code",
   "execution_count": 206,
   "metadata": {},
   "outputs": [
    {
     "name": "stderr",
     "output_type": "stream",
     "text": [
      "c:\\Users\\isaen\\AppData\\Local\\Programs\\Python\\Python312\\Lib\\site-packages\\sklearn\\ensemble\\_weight_boosting.py:519: FutureWarning: The SAMME.R algorithm (the default) is deprecated and will be removed in 1.6. Use the SAMME algorithm to circumvent this warning.\n",
      "  warnings.warn(\n"
     ]
    },
    {
     "name": "stdout",
     "output_type": "stream",
     "text": [
      "AdaBoostClassifier(learning_rate=1, n_estimators=500)\n",
      "Best parameters from grid search: {'learning_rate': 1, 'n_estimators': 500}\n",
      "Accuracy: 0.4603174603174603\n",
      "ROC-AUC: 0.4636842105263158\n",
      "F1-score: 0.5\n"
     ]
    }
   ],
   "source": [
    "model = AdaBoostClassifier(learning_rate=0.1, n_estimators=100)\n",
    "ada_pred, ada_acc, ada_roc_auc,ada_f1, ada_feat_imp = cv_and_predict_valid(df_x_6_train,df_y_6_train, model, tree = True, grid_search=True, grid_parameters = grid_params)"
   ]
  },
  {
   "cell_type": "code",
   "execution_count": null,
   "metadata": {},
   "outputs": [
    {
     "name": "stderr",
     "output_type": "stream",
     "text": [
      "c:\\Users\\isaen\\AppData\\Local\\Programs\\Python\\Python312\\Lib\\site-packages\\sklearn\\ensemble\\_weight_boosting.py:519: FutureWarning: The SAMME.R algorithm (the default) is deprecated and will be removed in 1.6. Use the SAMME algorithm to circumvent this warning.\n",
      "  warnings.warn(\n"
     ]
    },
    {
     "name": "stdout",
     "output_type": "stream",
     "text": [
      "Accuracy: 0.5535714285714286\n",
      "ROC-AUC: 0.5417332906939558\n",
      "F1-score: 0.6428571428571429\n"
     ]
    }
   ],
   "source": [
    "# testing\n",
    "model = AdaBoostClassifier(learning_rate=0.1, n_estimators=100)\n",
    "model.fit(df_x_6_train, df_y_6_train)\n",
    "predictions = model.predict(df_x_6_test)\n",
    "accuracy = accuracy_score(df_y_6_test, predictions)\n",
    "roc_auc = roc_auc_score(df_y_6_test, predictions)\n",
    "f1 = f1_score(df_y_6_test, predictions)\n",
    "    \n",
    "print(f\"Accuracy: {accuracy}\")\n",
    "print(f\"ROC-AUC: {roc_auc}\")\n",
    "print(f\"F1-score: {f1}\")\n",
    "# good"
   ]
  },
  {
   "cell_type": "code",
   "execution_count": 208,
   "metadata": {},
   "outputs": [
    {
     "name": "stdout",
     "output_type": "stream",
     "text": [
      "Accuracy: 0.5873015873015873\n",
      "ROC-AUC: 0.5278947368421053\n",
      "F1-score: 0.7045454545454546\n"
     ]
    }
   ],
   "source": [
    "from sklearn.naive_bayes import GaussianNB\n",
    "model = GaussianNB()\n",
    "nb_pred, nb_acc, nb_roc_auc,nb_f1, nb_feat_imp = cv_and_predict_valid(df_x_6_train,df_y_6_train, model)\n"
   ]
  },
  {
   "cell_type": "code",
   "execution_count": 209,
   "metadata": {},
   "outputs": [
    {
     "name": "stdout",
     "output_type": "stream",
     "text": [
      "Accuracy: 0.5267857142857143\n",
      "ROC-AUC: 0.5\n",
      "F1-score: 0.6900584795321637\n"
     ]
    }
   ],
   "source": [
    "# testing\n",
    "model = model = GaussianNB()\n",
    "model.fit(df_x_6_train, df_y_6_train)\n",
    "predictions = model.predict(df_x_6_test)\n",
    "accuracy = accuracy_score(df_y_6_test, predictions)\n",
    "roc_auc = roc_auc_score(df_y_6_test, predictions)\n",
    "f1 = f1_score(df_y_6_test, predictions)\n",
    "    \n",
    "print(f\"Accuracy: {accuracy}\")\n",
    "print(f\"ROC-AUC: {roc_auc}\")\n",
    "print(f\"F1-score: {f1}\")\n"
   ]
  },
  {
   "cell_type": "code",
   "execution_count": 210,
   "metadata": {},
   "outputs": [
    {
     "name": "stdout",
     "output_type": "stream",
     "text": [
      "Accuracy: 0.4444444444444444\n",
      "ROC-AUC: 0.5326315789473683\n",
      "F1-score: 0.18604651162790697\n"
     ]
    }
   ],
   "source": [
    "from sklearn.linear_model import LogisticRegression\n",
    "model = LogisticRegression()\n",
    "lr_pred, lr_acc, lr_roc_auc,lr_f1, lr_feat_imp = cv_and_predict_valid(df_x_6_train,df_y_6_train, model)\n"
   ]
  },
  {
   "cell_type": "code",
   "execution_count": null,
   "metadata": {},
   "outputs": [
    {
     "name": "stdout",
     "output_type": "stream",
     "text": [
      "Accuracy: 0.5446428571428571\n",
      "ROC-AUC: 0.5188679245283019\n",
      "F1-score: 0.6982248520710059\n"
     ]
    }
   ],
   "source": [
    "# testing\n",
    "model = LogisticRegression()\n",
    "model.fit(df_x_6_train, df_y_6_train)\n",
    "predictions = model.predict(df_x_6_test)\n",
    "accuracy = accuracy_score(df_y_6_test, predictions)\n",
    "roc_auc = roc_auc_score(df_y_6_test, predictions)\n",
    "f1 = f1_score(df_y_6_test, predictions)\n",
    "    \n",
    "print(f\"Accuracy: {accuracy}\")\n",
    "print(f\"ROC-AUC: {roc_auc}\")\n",
    "print(f\"F1-score: {f1}\")\n",
    "# not bad"
   ]
  },
  {
   "cell_type": "code",
   "execution_count": 212,
   "metadata": {},
   "outputs": [
    {
     "name": "stdout",
     "output_type": "stream",
     "text": [
      "KNeighborsClassifier(n_neighbors=10)\n",
      "Best parameters from grid search: {'n_neighbors': 10}\n",
      "Accuracy: 0.5238095238095238\n",
      "ROC-AUC: 0.5573684210526315\n",
      "F1-score: 0.5\n"
     ]
    }
   ],
   "source": [
    "from sklearn.neighbors import KNeighborsClassifier\n",
    "grid_params = {'n_neighbors': [1, 2, 3, 4, 5, 10, 20, 50]}\n",
    "model = KNeighborsClassifier()\n",
    "knn_pred, knn_acc, knn_roc_auc,knn_f1, knn_feat_imp = cv_and_predict_valid(df_x_6_train,df_y_6_train, model, grid_search=True, grid_parameters=grid_params)\n"
   ]
  },
  {
   "cell_type": "code",
   "execution_count": 213,
   "metadata": {},
   "outputs": [
    {
     "name": "stdout",
     "output_type": "stream",
     "text": [
      "Accuracy: 0.5089285714285714\n",
      "ROC-AUC: 0.5108730412535977\n",
      "F1-score: 0.5045045045045045\n"
     ]
    }
   ],
   "source": [
    "# testing\n",
    "model = model = KNeighborsClassifier(n_neighbors=10)\n",
    "model.fit(df_x_6_train, df_y_6_train)\n",
    "predictions = model.predict(df_x_6_test)\n",
    "accuracy = accuracy_score(df_y_6_test, predictions)\n",
    "roc_auc = roc_auc_score(df_y_6_test, predictions)\n",
    "f1 = f1_score(df_y_6_test, predictions)\n",
    "    \n",
    "print(f\"Accuracy: {accuracy}\")\n",
    "print(f\"ROC-AUC: {roc_auc}\")\n",
    "print(f\"F1-score: {f1}\")\n"
   ]
  },
  {
   "cell_type": "code",
   "execution_count": null,
   "metadata": {},
   "outputs": [],
   "source": []
  },
  {
   "cell_type": "code",
   "execution_count": null,
   "metadata": {},
   "outputs": [],
   "source": []
  },
  {
   "cell_type": "markdown",
   "metadata": {},
   "source": [
    "# All sentiments with lags"
   ]
  },
  {
   "cell_type": "code",
   "execution_count": 214,
   "metadata": {},
   "outputs": [
    {
     "data": {
      "text/html": [
       "<div>\n",
       "<style scoped>\n",
       "    .dataframe tbody tr th:only-of-type {\n",
       "        vertical-align: middle;\n",
       "    }\n",
       "\n",
       "    .dataframe tbody tr th {\n",
       "        vertical-align: top;\n",
       "    }\n",
       "\n",
       "    .dataframe thead th {\n",
       "        text-align: right;\n",
       "    }\n",
       "</style>\n",
       "<table border=\"1\" class=\"dataframe\">\n",
       "  <thead>\n",
       "    <tr style=\"text-align: right;\">\n",
       "      <th></th>\n",
       "      <th>Date_1H</th>\n",
       "      <th>datetime</th>\n",
       "      <th>text</th>\n",
       "      <th>username</th>\n",
       "      <th>kk08_pos_score</th>\n",
       "      <th>kk08_score_diff</th>\n",
       "      <th>Elkulako_label</th>\n",
       "      <th>Sentiment_vader</th>\n",
       "      <th>pred</th>\n",
       "      <th>analysis</th>\n",
       "      <th>...</th>\n",
       "      <th>Return_sign</th>\n",
       "      <th>kk08_pos_score_lag1</th>\n",
       "      <th>kk08_pos_score_lag2</th>\n",
       "      <th>kk08_pos_score_lag3</th>\n",
       "      <th>Sentiment_vader_lag1</th>\n",
       "      <th>Sentiment_vader_lag2</th>\n",
       "      <th>Sentiment_vader_lag3</th>\n",
       "      <th>Elkulako_label_lag1</th>\n",
       "      <th>Elkulako_label_lag2</th>\n",
       "      <th>Elkulako_label_lag3</th>\n",
       "    </tr>\n",
       "  </thead>\n",
       "  <tbody>\n",
       "    <tr>\n",
       "      <th>0</th>\n",
       "      <td>2022-01-01 01:00:00</td>\n",
       "      <td>['2022-01-01 00:00:00', '2022-01-01 00:00:00',...</td>\n",
       "      <td>Current Price of Bitcoin:\\n$46320 (-1.85%)\\n\\n...</td>\n",
       "      <td>CryptoNerdApp\\nTrendSpider\\nMadStudentScie1\\nW...</td>\n",
       "      <td>0.755714</td>\n",
       "      <td>0.511428</td>\n",
       "      <td>0.364813</td>\n",
       "      <td>0.161558</td>\n",
       "      <td>34</td>\n",
       "      <td>72</td>\n",
       "      <td>...</td>\n",
       "      <td>1</td>\n",
       "      <td>NaN</td>\n",
       "      <td>NaN</td>\n",
       "      <td>NaN</td>\n",
       "      <td>NaN</td>\n",
       "      <td>NaN</td>\n",
       "      <td>NaN</td>\n",
       "      <td>NaN</td>\n",
       "      <td>NaN</td>\n",
       "      <td>NaN</td>\n",
       "    </tr>\n",
       "    <tr>\n",
       "      <th>1</th>\n",
       "      <td>2022-01-01 02:00:00</td>\n",
       "      <td>['2022-01-01 01:00:00', '2022-01-01 01:00:00',...</td>\n",
       "      <td>Today's Cryptocurrency Fear And Greed Index: 2...</td>\n",
       "      <td>FearAndGreedBot\\nOfficialOverbit\\nBTC_AI_bot\\n...</td>\n",
       "      <td>0.775810</td>\n",
       "      <td>0.551621</td>\n",
       "      <td>0.343045</td>\n",
       "      <td>0.174069</td>\n",
       "      <td>30</td>\n",
       "      <td>29</td>\n",
       "      <td>...</td>\n",
       "      <td>1</td>\n",
       "      <td>0.755714</td>\n",
       "      <td>NaN</td>\n",
       "      <td>NaN</td>\n",
       "      <td>0.161558</td>\n",
       "      <td>NaN</td>\n",
       "      <td>NaN</td>\n",
       "      <td>0.364813</td>\n",
       "      <td>NaN</td>\n",
       "      <td>NaN</td>\n",
       "    </tr>\n",
       "    <tr>\n",
       "      <th>2</th>\n",
       "      <td>2022-01-01 03:00:00</td>\n",
       "      <td>['2022-01-01 02:00:00', '2022-01-01 02:00:00',...</td>\n",
       "      <td>Huobi Singapore would like to wish you a Happy...</td>\n",
       "      <td>HuobiSg\\nAmazonCash4Cars\\nBTC_AI_bot\\nCalvinAy...</td>\n",
       "      <td>0.773046</td>\n",
       "      <td>0.546093</td>\n",
       "      <td>0.427992</td>\n",
       "      <td>0.181803</td>\n",
       "      <td>23</td>\n",
       "      <td>24</td>\n",
       "      <td>...</td>\n",
       "      <td>1</td>\n",
       "      <td>0.775810</td>\n",
       "      <td>0.755714</td>\n",
       "      <td>NaN</td>\n",
       "      <td>0.174069</td>\n",
       "      <td>0.161558</td>\n",
       "      <td>NaN</td>\n",
       "      <td>0.343045</td>\n",
       "      <td>0.364813</td>\n",
       "      <td>NaN</td>\n",
       "    </tr>\n",
       "    <tr>\n",
       "      <th>3</th>\n",
       "      <td>2022-01-01 04:00:00</td>\n",
       "      <td>['2022-01-01 03:00:00', '2022-01-01 03:00:00',...</td>\n",
       "      <td>1 ARS is 10.26 satoshis right now.\\n\\n1 satosh...</td>\n",
       "      <td>SatoshiARS_bot\\nbitcoinpartyall\\ncryptopediaK7...</td>\n",
       "      <td>0.760779</td>\n",
       "      <td>0.521558</td>\n",
       "      <td>0.325186</td>\n",
       "      <td>0.175078</td>\n",
       "      <td>26</td>\n",
       "      <td>20</td>\n",
       "      <td>...</td>\n",
       "      <td>0</td>\n",
       "      <td>0.773046</td>\n",
       "      <td>0.775810</td>\n",
       "      <td>0.755714</td>\n",
       "      <td>0.181803</td>\n",
       "      <td>0.174069</td>\n",
       "      <td>0.161558</td>\n",
       "      <td>0.427992</td>\n",
       "      <td>0.343045</td>\n",
       "      <td>0.364813</td>\n",
       "    </tr>\n",
       "    <tr>\n",
       "      <th>4</th>\n",
       "      <td>2022-01-01 05:00:00</td>\n",
       "      <td>['2022-01-01 04:00:00', '2022-01-01 04:00:00',...</td>\n",
       "      <td>Buy Bitcoin $BTC @ 46813.2\\nAn online trader h...</td>\n",
       "      <td>BTC_AI_bot\\nnewscomauHQ\\ncryptozone007\\nCarbon...</td>\n",
       "      <td>0.771374</td>\n",
       "      <td>0.542747</td>\n",
       "      <td>0.377858</td>\n",
       "      <td>0.152699</td>\n",
       "      <td>26</td>\n",
       "      <td>19</td>\n",
       "      <td>...</td>\n",
       "      <td>1</td>\n",
       "      <td>0.760779</td>\n",
       "      <td>0.773046</td>\n",
       "      <td>0.775810</td>\n",
       "      <td>0.175078</td>\n",
       "      <td>0.181803</td>\n",
       "      <td>0.174069</td>\n",
       "      <td>0.325186</td>\n",
       "      <td>0.427992</td>\n",
       "      <td>0.343045</td>\n",
       "    </tr>\n",
       "    <tr>\n",
       "      <th>...</th>\n",
       "      <td>...</td>\n",
       "      <td>...</td>\n",
       "      <td>...</td>\n",
       "      <td>...</td>\n",
       "      <td>...</td>\n",
       "      <td>...</td>\n",
       "      <td>...</td>\n",
       "      <td>...</td>\n",
       "      <td>...</td>\n",
       "      <td>...</td>\n",
       "      <td>...</td>\n",
       "      <td>...</td>\n",
       "      <td>...</td>\n",
       "      <td>...</td>\n",
       "      <td>...</td>\n",
       "      <td>...</td>\n",
       "      <td>...</td>\n",
       "      <td>...</td>\n",
       "      <td>...</td>\n",
       "      <td>...</td>\n",
       "      <td>...</td>\n",
       "    </tr>\n",
       "    <tr>\n",
       "      <th>739</th>\n",
       "      <td>2022-01-31 20:00:00</td>\n",
       "      <td>['2022-01-31 19:00:00', '2022-01-31 19:00:00',...</td>\n",
       "      <td>What's your favourite coins to stake and where...</td>\n",
       "      <td>CheekyCrypto\\naburke626\\nQuantumDelta\\nBTC_AI_...</td>\n",
       "      <td>0.755899</td>\n",
       "      <td>0.511798</td>\n",
       "      <td>0.261918</td>\n",
       "      <td>0.131531</td>\n",
       "      <td>21</td>\n",
       "      <td>28</td>\n",
       "      <td>...</td>\n",
       "      <td>1</td>\n",
       "      <td>0.780515</td>\n",
       "      <td>0.770758</td>\n",
       "      <td>0.750871</td>\n",
       "      <td>0.151048</td>\n",
       "      <td>0.136946</td>\n",
       "      <td>0.110582</td>\n",
       "      <td>0.293225</td>\n",
       "      <td>0.272771</td>\n",
       "      <td>0.237048</td>\n",
       "    </tr>\n",
       "    <tr>\n",
       "      <th>740</th>\n",
       "      <td>2022-01-31 21:00:00</td>\n",
       "      <td>['2022-01-31 20:00:00', '2022-01-31 20:00:00',...</td>\n",
       "      <td>Buy Bitcoin $BTC @ 38415.79\\nLIVE: #Bitcoin be...</td>\n",
       "      <td>BTC_AI_bot\\nCoinDesk\\nbitcoinrate247\\nSquatche...</td>\n",
       "      <td>0.760233</td>\n",
       "      <td>0.520465</td>\n",
       "      <td>0.286062</td>\n",
       "      <td>0.136021</td>\n",
       "      <td>23</td>\n",
       "      <td>34</td>\n",
       "      <td>...</td>\n",
       "      <td>0</td>\n",
       "      <td>0.755899</td>\n",
       "      <td>0.780515</td>\n",
       "      <td>0.770758</td>\n",
       "      <td>0.131531</td>\n",
       "      <td>0.151048</td>\n",
       "      <td>0.136946</td>\n",
       "      <td>0.261918</td>\n",
       "      <td>0.293225</td>\n",
       "      <td>0.272771</td>\n",
       "    </tr>\n",
       "    <tr>\n",
       "      <th>741</th>\n",
       "      <td>2022-01-31 22:00:00</td>\n",
       "      <td>['2022-01-31 21:00:00', '2022-01-31 21:00:00',...</td>\n",
       "      <td>1 ARS is 12.17 satoshis right now.\\n\\n1 satosh...</td>\n",
       "      <td>SatoshiARS_bot\\nCryptoTopCharts\\nIBKR\\nCryptoN...</td>\n",
       "      <td>0.765209</td>\n",
       "      <td>0.530418</td>\n",
       "      <td>0.244444</td>\n",
       "      <td>0.142816</td>\n",
       "      <td>21</td>\n",
       "      <td>24</td>\n",
       "      <td>...</td>\n",
       "      <td>1</td>\n",
       "      <td>0.760233</td>\n",
       "      <td>0.755899</td>\n",
       "      <td>0.780515</td>\n",
       "      <td>0.136021</td>\n",
       "      <td>0.131531</td>\n",
       "      <td>0.151048</td>\n",
       "      <td>0.286062</td>\n",
       "      <td>0.261918</td>\n",
       "      <td>0.293225</td>\n",
       "    </tr>\n",
       "    <tr>\n",
       "      <th>742</th>\n",
       "      <td>2022-01-31 23:00:00</td>\n",
       "      <td>['2022-01-31 22:00:00', '2022-01-31 22:00:00',...</td>\n",
       "      <td>BTC Latest Block Info: Block 721243 holds 2,80...</td>\n",
       "      <td>btc_blockbot\\nM1Seahawk\\nnialljburke\\nmurray_r...</td>\n",
       "      <td>0.789636</td>\n",
       "      <td>0.579271</td>\n",
       "      <td>0.218241</td>\n",
       "      <td>0.156830</td>\n",
       "      <td>14</td>\n",
       "      <td>23</td>\n",
       "      <td>...</td>\n",
       "      <td>1</td>\n",
       "      <td>0.765209</td>\n",
       "      <td>0.760233</td>\n",
       "      <td>0.755899</td>\n",
       "      <td>0.142816</td>\n",
       "      <td>0.136021</td>\n",
       "      <td>0.131531</td>\n",
       "      <td>0.244444</td>\n",
       "      <td>0.286062</td>\n",
       "      <td>0.261918</td>\n",
       "    </tr>\n",
       "    <tr>\n",
       "      <th>743</th>\n",
       "      <td>2022-02-01 00:00:00</td>\n",
       "      <td>['2022-01-31 23:00:00', '2022-01-31 23:00:00',...</td>\n",
       "      <td>Top #Cryptocurrency RANK DOWN (#crypto #bitcoi...</td>\n",
       "      <td>CryptoTopCharts\\nBTC_AI_bot\\ncryptonewsleak\\nt...</td>\n",
       "      <td>0.768259</td>\n",
       "      <td>0.536518</td>\n",
       "      <td>0.256032</td>\n",
       "      <td>0.151095</td>\n",
       "      <td>16</td>\n",
       "      <td>19</td>\n",
       "      <td>...</td>\n",
       "      <td>0</td>\n",
       "      <td>0.789636</td>\n",
       "      <td>0.765209</td>\n",
       "      <td>0.760233</td>\n",
       "      <td>0.156830</td>\n",
       "      <td>0.142816</td>\n",
       "      <td>0.136021</td>\n",
       "      <td>0.218241</td>\n",
       "      <td>0.244444</td>\n",
       "      <td>0.286062</td>\n",
       "    </tr>\n",
       "  </tbody>\n",
       "</table>\n",
       "<p>744 rows × 40 columns</p>\n",
       "</div>"
      ],
      "text/plain": [
       "                 Date_1H                                           datetime  \\\n",
       "0    2022-01-01 01:00:00  ['2022-01-01 00:00:00', '2022-01-01 00:00:00',...   \n",
       "1    2022-01-01 02:00:00  ['2022-01-01 01:00:00', '2022-01-01 01:00:00',...   \n",
       "2    2022-01-01 03:00:00  ['2022-01-01 02:00:00', '2022-01-01 02:00:00',...   \n",
       "3    2022-01-01 04:00:00  ['2022-01-01 03:00:00', '2022-01-01 03:00:00',...   \n",
       "4    2022-01-01 05:00:00  ['2022-01-01 04:00:00', '2022-01-01 04:00:00',...   \n",
       "..                   ...                                                ...   \n",
       "739  2022-01-31 20:00:00  ['2022-01-31 19:00:00', '2022-01-31 19:00:00',...   \n",
       "740  2022-01-31 21:00:00  ['2022-01-31 20:00:00', '2022-01-31 20:00:00',...   \n",
       "741  2022-01-31 22:00:00  ['2022-01-31 21:00:00', '2022-01-31 21:00:00',...   \n",
       "742  2022-01-31 23:00:00  ['2022-01-31 22:00:00', '2022-01-31 22:00:00',...   \n",
       "743  2022-02-01 00:00:00  ['2022-01-31 23:00:00', '2022-01-31 23:00:00',...   \n",
       "\n",
       "                                                  text  \\\n",
       "0    Current Price of Bitcoin:\\n$46320 (-1.85%)\\n\\n...   \n",
       "1    Today's Cryptocurrency Fear And Greed Index: 2...   \n",
       "2    Huobi Singapore would like to wish you a Happy...   \n",
       "3    1 ARS is 10.26 satoshis right now.\\n\\n1 satosh...   \n",
       "4    Buy Bitcoin $BTC @ 46813.2\\nAn online trader h...   \n",
       "..                                                 ...   \n",
       "739  What's your favourite coins to stake and where...   \n",
       "740  Buy Bitcoin $BTC @ 38415.79\\nLIVE: #Bitcoin be...   \n",
       "741  1 ARS is 12.17 satoshis right now.\\n\\n1 satosh...   \n",
       "742  BTC Latest Block Info: Block 721243 holds 2,80...   \n",
       "743  Top #Cryptocurrency RANK DOWN (#crypto #bitcoi...   \n",
       "\n",
       "                                              username  kk08_pos_score  \\\n",
       "0    CryptoNerdApp\\nTrendSpider\\nMadStudentScie1\\nW...        0.755714   \n",
       "1    FearAndGreedBot\\nOfficialOverbit\\nBTC_AI_bot\\n...        0.775810   \n",
       "2    HuobiSg\\nAmazonCash4Cars\\nBTC_AI_bot\\nCalvinAy...        0.773046   \n",
       "3    SatoshiARS_bot\\nbitcoinpartyall\\ncryptopediaK7...        0.760779   \n",
       "4    BTC_AI_bot\\nnewscomauHQ\\ncryptozone007\\nCarbon...        0.771374   \n",
       "..                                                 ...             ...   \n",
       "739  CheekyCrypto\\naburke626\\nQuantumDelta\\nBTC_AI_...        0.755899   \n",
       "740  BTC_AI_bot\\nCoinDesk\\nbitcoinrate247\\nSquatche...        0.760233   \n",
       "741  SatoshiARS_bot\\nCryptoTopCharts\\nIBKR\\nCryptoN...        0.765209   \n",
       "742  btc_blockbot\\nM1Seahawk\\nnialljburke\\nmurray_r...        0.789636   \n",
       "743  CryptoTopCharts\\nBTC_AI_bot\\ncryptonewsleak\\nt...        0.768259   \n",
       "\n",
       "     kk08_score_diff  Elkulako_label  Sentiment_vader  pred  analysis  ...  \\\n",
       "0           0.511428        0.364813         0.161558    34        72  ...   \n",
       "1           0.551621        0.343045         0.174069    30        29  ...   \n",
       "2           0.546093        0.427992         0.181803    23        24  ...   \n",
       "3           0.521558        0.325186         0.175078    26        20  ...   \n",
       "4           0.542747        0.377858         0.152699    26        19  ...   \n",
       "..               ...             ...              ...   ...       ...  ...   \n",
       "739         0.511798        0.261918         0.131531    21        28  ...   \n",
       "740         0.520465        0.286062         0.136021    23        34  ...   \n",
       "741         0.530418        0.244444         0.142816    21        24  ...   \n",
       "742         0.579271        0.218241         0.156830    14        23  ...   \n",
       "743         0.536518        0.256032         0.151095    16        19  ...   \n",
       "\n",
       "     Return_sign  kk08_pos_score_lag1  kk08_pos_score_lag2  \\\n",
       "0              1                  NaN                  NaN   \n",
       "1              1             0.755714                  NaN   \n",
       "2              1             0.775810             0.755714   \n",
       "3              0             0.773046             0.775810   \n",
       "4              1             0.760779             0.773046   \n",
       "..           ...                  ...                  ...   \n",
       "739            1             0.780515             0.770758   \n",
       "740            0             0.755899             0.780515   \n",
       "741            1             0.760233             0.755899   \n",
       "742            1             0.765209             0.760233   \n",
       "743            0             0.789636             0.765209   \n",
       "\n",
       "     kk08_pos_score_lag3  Sentiment_vader_lag1  Sentiment_vader_lag2  \\\n",
       "0                    NaN                   NaN                   NaN   \n",
       "1                    NaN              0.161558                   NaN   \n",
       "2                    NaN              0.174069              0.161558   \n",
       "3               0.755714              0.181803              0.174069   \n",
       "4               0.775810              0.175078              0.181803   \n",
       "..                   ...                   ...                   ...   \n",
       "739             0.750871              0.151048              0.136946   \n",
       "740             0.770758              0.131531              0.151048   \n",
       "741             0.780515              0.136021              0.131531   \n",
       "742             0.755899              0.142816              0.136021   \n",
       "743             0.760233              0.156830              0.142816   \n",
       "\n",
       "     Sentiment_vader_lag3  Elkulako_label_lag1  Elkulako_label_lag2  \\\n",
       "0                     NaN                  NaN                  NaN   \n",
       "1                     NaN             0.364813                  NaN   \n",
       "2                     NaN             0.343045             0.364813   \n",
       "3                0.161558             0.427992             0.343045   \n",
       "4                0.174069             0.325186             0.427992   \n",
       "..                    ...                  ...                  ...   \n",
       "739              0.110582             0.293225             0.272771   \n",
       "740              0.136946             0.261918             0.293225   \n",
       "741              0.151048             0.286062             0.261918   \n",
       "742              0.131531             0.244444             0.286062   \n",
       "743              0.136021             0.218241             0.244444   \n",
       "\n",
       "     Elkulako_label_lag3  \n",
       "0                    NaN  \n",
       "1                    NaN  \n",
       "2                    NaN  \n",
       "3               0.364813  \n",
       "4               0.343045  \n",
       "..                   ...  \n",
       "739             0.237048  \n",
       "740             0.272771  \n",
       "741             0.293225  \n",
       "742             0.261918  \n",
       "743             0.286062  \n",
       "\n",
       "[744 rows x 40 columns]"
      ]
     },
     "execution_count": 214,
     "metadata": {},
     "output_type": "execute_result"
    }
   ],
   "source": [
    "df"
   ]
  },
  {
   "cell_type": "code",
   "execution_count": 215,
   "metadata": {},
   "outputs": [
    {
     "data": {
      "text/html": [
       "<div>\n",
       "<style scoped>\n",
       "    .dataframe tbody tr th:only-of-type {\n",
       "        vertical-align: middle;\n",
       "    }\n",
       "\n",
       "    .dataframe tbody tr th {\n",
       "        vertical-align: top;\n",
       "    }\n",
       "\n",
       "    .dataframe thead th {\n",
       "        text-align: right;\n",
       "    }\n",
       "</style>\n",
       "<table border=\"1\" class=\"dataframe\">\n",
       "  <thead>\n",
       "    <tr style=\"text-align: right;\">\n",
       "      <th></th>\n",
       "      <th>kk08_pos_score</th>\n",
       "      <th>kk08_pos_score_lag1</th>\n",
       "      <th>kk08_pos_score_lag2</th>\n",
       "      <th>kk08_pos_score_lag3</th>\n",
       "      <th>Sentiment_vader</th>\n",
       "      <th>Sentiment_vader_lag1</th>\n",
       "      <th>Sentiment_vader_lag2</th>\n",
       "      <th>Sentiment_vader_lag3</th>\n",
       "      <th>Elkulako_label</th>\n",
       "      <th>Elkulako_label_lag1</th>\n",
       "      <th>Elkulako_label_lag2</th>\n",
       "      <th>Elkulako_label_lag3</th>\n",
       "    </tr>\n",
       "  </thead>\n",
       "  <tbody>\n",
       "    <tr>\n",
       "      <th>0</th>\n",
       "      <td>0.760779</td>\n",
       "      <td>0.773046</td>\n",
       "      <td>0.775810</td>\n",
       "      <td>0.755714</td>\n",
       "      <td>0.175078</td>\n",
       "      <td>0.181803</td>\n",
       "      <td>0.174069</td>\n",
       "      <td>0.161558</td>\n",
       "      <td>0.325186</td>\n",
       "      <td>0.427992</td>\n",
       "      <td>0.343045</td>\n",
       "      <td>0.364813</td>\n",
       "    </tr>\n",
       "    <tr>\n",
       "      <th>1</th>\n",
       "      <td>0.771374</td>\n",
       "      <td>0.760779</td>\n",
       "      <td>0.773046</td>\n",
       "      <td>0.775810</td>\n",
       "      <td>0.152699</td>\n",
       "      <td>0.175078</td>\n",
       "      <td>0.181803</td>\n",
       "      <td>0.174069</td>\n",
       "      <td>0.377858</td>\n",
       "      <td>0.325186</td>\n",
       "      <td>0.427992</td>\n",
       "      <td>0.343045</td>\n",
       "    </tr>\n",
       "    <tr>\n",
       "      <th>2</th>\n",
       "      <td>0.817684</td>\n",
       "      <td>0.771374</td>\n",
       "      <td>0.760779</td>\n",
       "      <td>0.773046</td>\n",
       "      <td>0.210043</td>\n",
       "      <td>0.152699</td>\n",
       "      <td>0.175078</td>\n",
       "      <td>0.181803</td>\n",
       "      <td>0.345307</td>\n",
       "      <td>0.377858</td>\n",
       "      <td>0.325186</td>\n",
       "      <td>0.427992</td>\n",
       "    </tr>\n",
       "    <tr>\n",
       "      <th>3</th>\n",
       "      <td>0.809378</td>\n",
       "      <td>0.817684</td>\n",
       "      <td>0.771374</td>\n",
       "      <td>0.760779</td>\n",
       "      <td>0.200986</td>\n",
       "      <td>0.210043</td>\n",
       "      <td>0.152699</td>\n",
       "      <td>0.175078</td>\n",
       "      <td>0.381842</td>\n",
       "      <td>0.345307</td>\n",
       "      <td>0.377858</td>\n",
       "      <td>0.325186</td>\n",
       "    </tr>\n",
       "    <tr>\n",
       "      <th>4</th>\n",
       "      <td>0.796347</td>\n",
       "      <td>0.809378</td>\n",
       "      <td>0.817684</td>\n",
       "      <td>0.771374</td>\n",
       "      <td>0.168094</td>\n",
       "      <td>0.200986</td>\n",
       "      <td>0.210043</td>\n",
       "      <td>0.152699</td>\n",
       "      <td>0.412234</td>\n",
       "      <td>0.381842</td>\n",
       "      <td>0.345307</td>\n",
       "      <td>0.377858</td>\n",
       "    </tr>\n",
       "    <tr>\n",
       "      <th>...</th>\n",
       "      <td>...</td>\n",
       "      <td>...</td>\n",
       "      <td>...</td>\n",
       "      <td>...</td>\n",
       "      <td>...</td>\n",
       "      <td>...</td>\n",
       "      <td>...</td>\n",
       "      <td>...</td>\n",
       "      <td>...</td>\n",
       "      <td>...</td>\n",
       "      <td>...</td>\n",
       "      <td>...</td>\n",
       "    </tr>\n",
       "    <tr>\n",
       "      <th>736</th>\n",
       "      <td>0.755899</td>\n",
       "      <td>0.780515</td>\n",
       "      <td>0.770758</td>\n",
       "      <td>0.750871</td>\n",
       "      <td>0.131531</td>\n",
       "      <td>0.151048</td>\n",
       "      <td>0.136946</td>\n",
       "      <td>0.110582</td>\n",
       "      <td>0.261918</td>\n",
       "      <td>0.293225</td>\n",
       "      <td>0.272771</td>\n",
       "      <td>0.237048</td>\n",
       "    </tr>\n",
       "    <tr>\n",
       "      <th>737</th>\n",
       "      <td>0.760233</td>\n",
       "      <td>0.755899</td>\n",
       "      <td>0.780515</td>\n",
       "      <td>0.770758</td>\n",
       "      <td>0.136021</td>\n",
       "      <td>0.131531</td>\n",
       "      <td>0.151048</td>\n",
       "      <td>0.136946</td>\n",
       "      <td>0.286062</td>\n",
       "      <td>0.261918</td>\n",
       "      <td>0.293225</td>\n",
       "      <td>0.272771</td>\n",
       "    </tr>\n",
       "    <tr>\n",
       "      <th>738</th>\n",
       "      <td>0.765209</td>\n",
       "      <td>0.760233</td>\n",
       "      <td>0.755899</td>\n",
       "      <td>0.780515</td>\n",
       "      <td>0.142816</td>\n",
       "      <td>0.136021</td>\n",
       "      <td>0.131531</td>\n",
       "      <td>0.151048</td>\n",
       "      <td>0.244444</td>\n",
       "      <td>0.286062</td>\n",
       "      <td>0.261918</td>\n",
       "      <td>0.293225</td>\n",
       "    </tr>\n",
       "    <tr>\n",
       "      <th>739</th>\n",
       "      <td>0.789636</td>\n",
       "      <td>0.765209</td>\n",
       "      <td>0.760233</td>\n",
       "      <td>0.755899</td>\n",
       "      <td>0.156830</td>\n",
       "      <td>0.142816</td>\n",
       "      <td>0.136021</td>\n",
       "      <td>0.131531</td>\n",
       "      <td>0.218241</td>\n",
       "      <td>0.244444</td>\n",
       "      <td>0.286062</td>\n",
       "      <td>0.261918</td>\n",
       "    </tr>\n",
       "    <tr>\n",
       "      <th>740</th>\n",
       "      <td>0.768259</td>\n",
       "      <td>0.789636</td>\n",
       "      <td>0.765209</td>\n",
       "      <td>0.760233</td>\n",
       "      <td>0.151095</td>\n",
       "      <td>0.156830</td>\n",
       "      <td>0.142816</td>\n",
       "      <td>0.136021</td>\n",
       "      <td>0.256032</td>\n",
       "      <td>0.218241</td>\n",
       "      <td>0.244444</td>\n",
       "      <td>0.286062</td>\n",
       "    </tr>\n",
       "  </tbody>\n",
       "</table>\n",
       "<p>741 rows × 12 columns</p>\n",
       "</div>"
      ],
      "text/plain": [
       "     kk08_pos_score  kk08_pos_score_lag1  kk08_pos_score_lag2  \\\n",
       "0          0.760779             0.773046             0.775810   \n",
       "1          0.771374             0.760779             0.773046   \n",
       "2          0.817684             0.771374             0.760779   \n",
       "3          0.809378             0.817684             0.771374   \n",
       "4          0.796347             0.809378             0.817684   \n",
       "..              ...                  ...                  ...   \n",
       "736        0.755899             0.780515             0.770758   \n",
       "737        0.760233             0.755899             0.780515   \n",
       "738        0.765209             0.760233             0.755899   \n",
       "739        0.789636             0.765209             0.760233   \n",
       "740        0.768259             0.789636             0.765209   \n",
       "\n",
       "     kk08_pos_score_lag3  Sentiment_vader  Sentiment_vader_lag1  \\\n",
       "0               0.755714         0.175078              0.181803   \n",
       "1               0.775810         0.152699              0.175078   \n",
       "2               0.773046         0.210043              0.152699   \n",
       "3               0.760779         0.200986              0.210043   \n",
       "4               0.771374         0.168094              0.200986   \n",
       "..                   ...              ...                   ...   \n",
       "736             0.750871         0.131531              0.151048   \n",
       "737             0.770758         0.136021              0.131531   \n",
       "738             0.780515         0.142816              0.136021   \n",
       "739             0.755899         0.156830              0.142816   \n",
       "740             0.760233         0.151095              0.156830   \n",
       "\n",
       "     Sentiment_vader_lag2  Sentiment_vader_lag3  Elkulako_label  \\\n",
       "0                0.174069              0.161558        0.325186   \n",
       "1                0.181803              0.174069        0.377858   \n",
       "2                0.175078              0.181803        0.345307   \n",
       "3                0.152699              0.175078        0.381842   \n",
       "4                0.210043              0.152699        0.412234   \n",
       "..                    ...                   ...             ...   \n",
       "736              0.136946              0.110582        0.261918   \n",
       "737              0.151048              0.136946        0.286062   \n",
       "738              0.131531              0.151048        0.244444   \n",
       "739              0.136021              0.131531        0.218241   \n",
       "740              0.142816              0.136021        0.256032   \n",
       "\n",
       "     Elkulako_label_lag1  Elkulako_label_lag2  Elkulako_label_lag3  \n",
       "0               0.427992             0.343045             0.364813  \n",
       "1               0.325186             0.427992             0.343045  \n",
       "2               0.377858             0.325186             0.427992  \n",
       "3               0.345307             0.377858             0.325186  \n",
       "4               0.381842             0.345307             0.377858  \n",
       "..                   ...                  ...                  ...  \n",
       "736             0.293225             0.272771             0.237048  \n",
       "737             0.261918             0.293225             0.272771  \n",
       "738             0.286062             0.261918             0.293225  \n",
       "739             0.244444             0.286062             0.261918  \n",
       "740             0.218241             0.244444             0.286062  \n",
       "\n",
       "[741 rows x 12 columns]"
      ]
     },
     "execution_count": 215,
     "metadata": {},
     "output_type": "execute_result"
    }
   ],
   "source": [
    "pd.concat([df_x_2, df_x_4, df_x_6], axis =1)"
   ]
  },
  {
   "cell_type": "code",
   "execution_count": 216,
   "metadata": {},
   "outputs": [],
   "source": [
    "df_x_all = pd.concat([df_x_2, df_x_4, df_x_6], axis =1)\n",
    "df_y_all = df[\"Return_sign\"].iloc[3:].reset_index(drop=True)"
   ]
  },
  {
   "cell_type": "code",
   "execution_count": 217,
   "metadata": {},
   "outputs": [
    {
     "data": {
      "text/html": [
       "<div>\n",
       "<style scoped>\n",
       "    .dataframe tbody tr th:only-of-type {\n",
       "        vertical-align: middle;\n",
       "    }\n",
       "\n",
       "    .dataframe tbody tr th {\n",
       "        vertical-align: top;\n",
       "    }\n",
       "\n",
       "    .dataframe thead th {\n",
       "        text-align: right;\n",
       "    }\n",
       "</style>\n",
       "<table border=\"1\" class=\"dataframe\">\n",
       "  <thead>\n",
       "    <tr style=\"text-align: right;\">\n",
       "      <th></th>\n",
       "      <th>kk08_pos_score</th>\n",
       "      <th>kk08_pos_score_lag1</th>\n",
       "      <th>kk08_pos_score_lag2</th>\n",
       "      <th>kk08_pos_score_lag3</th>\n",
       "      <th>Sentiment_vader</th>\n",
       "      <th>Sentiment_vader_lag1</th>\n",
       "      <th>Sentiment_vader_lag2</th>\n",
       "      <th>Sentiment_vader_lag3</th>\n",
       "      <th>Elkulako_label</th>\n",
       "      <th>Elkulako_label_lag1</th>\n",
       "      <th>Elkulako_label_lag2</th>\n",
       "      <th>Elkulako_label_lag3</th>\n",
       "    </tr>\n",
       "  </thead>\n",
       "  <tbody>\n",
       "    <tr>\n",
       "      <th>0</th>\n",
       "      <td>0.760779</td>\n",
       "      <td>0.773046</td>\n",
       "      <td>0.775810</td>\n",
       "      <td>0.755714</td>\n",
       "      <td>0.175078</td>\n",
       "      <td>0.181803</td>\n",
       "      <td>0.174069</td>\n",
       "      <td>0.161558</td>\n",
       "      <td>0.325186</td>\n",
       "      <td>0.427992</td>\n",
       "      <td>0.343045</td>\n",
       "      <td>0.364813</td>\n",
       "    </tr>\n",
       "    <tr>\n",
       "      <th>1</th>\n",
       "      <td>0.771374</td>\n",
       "      <td>0.760779</td>\n",
       "      <td>0.773046</td>\n",
       "      <td>0.775810</td>\n",
       "      <td>0.152699</td>\n",
       "      <td>0.175078</td>\n",
       "      <td>0.181803</td>\n",
       "      <td>0.174069</td>\n",
       "      <td>0.377858</td>\n",
       "      <td>0.325186</td>\n",
       "      <td>0.427992</td>\n",
       "      <td>0.343045</td>\n",
       "    </tr>\n",
       "    <tr>\n",
       "      <th>2</th>\n",
       "      <td>0.817684</td>\n",
       "      <td>0.771374</td>\n",
       "      <td>0.760779</td>\n",
       "      <td>0.773046</td>\n",
       "      <td>0.210043</td>\n",
       "      <td>0.152699</td>\n",
       "      <td>0.175078</td>\n",
       "      <td>0.181803</td>\n",
       "      <td>0.345307</td>\n",
       "      <td>0.377858</td>\n",
       "      <td>0.325186</td>\n",
       "      <td>0.427992</td>\n",
       "    </tr>\n",
       "    <tr>\n",
       "      <th>3</th>\n",
       "      <td>0.809378</td>\n",
       "      <td>0.817684</td>\n",
       "      <td>0.771374</td>\n",
       "      <td>0.760779</td>\n",
       "      <td>0.200986</td>\n",
       "      <td>0.210043</td>\n",
       "      <td>0.152699</td>\n",
       "      <td>0.175078</td>\n",
       "      <td>0.381842</td>\n",
       "      <td>0.345307</td>\n",
       "      <td>0.377858</td>\n",
       "      <td>0.325186</td>\n",
       "    </tr>\n",
       "    <tr>\n",
       "      <th>4</th>\n",
       "      <td>0.796347</td>\n",
       "      <td>0.809378</td>\n",
       "      <td>0.817684</td>\n",
       "      <td>0.771374</td>\n",
       "      <td>0.168094</td>\n",
       "      <td>0.200986</td>\n",
       "      <td>0.210043</td>\n",
       "      <td>0.152699</td>\n",
       "      <td>0.412234</td>\n",
       "      <td>0.381842</td>\n",
       "      <td>0.345307</td>\n",
       "      <td>0.377858</td>\n",
       "    </tr>\n",
       "    <tr>\n",
       "      <th>...</th>\n",
       "      <td>...</td>\n",
       "      <td>...</td>\n",
       "      <td>...</td>\n",
       "      <td>...</td>\n",
       "      <td>...</td>\n",
       "      <td>...</td>\n",
       "      <td>...</td>\n",
       "      <td>...</td>\n",
       "      <td>...</td>\n",
       "      <td>...</td>\n",
       "      <td>...</td>\n",
       "      <td>...</td>\n",
       "    </tr>\n",
       "    <tr>\n",
       "      <th>736</th>\n",
       "      <td>0.755899</td>\n",
       "      <td>0.780515</td>\n",
       "      <td>0.770758</td>\n",
       "      <td>0.750871</td>\n",
       "      <td>0.131531</td>\n",
       "      <td>0.151048</td>\n",
       "      <td>0.136946</td>\n",
       "      <td>0.110582</td>\n",
       "      <td>0.261918</td>\n",
       "      <td>0.293225</td>\n",
       "      <td>0.272771</td>\n",
       "      <td>0.237048</td>\n",
       "    </tr>\n",
       "    <tr>\n",
       "      <th>737</th>\n",
       "      <td>0.760233</td>\n",
       "      <td>0.755899</td>\n",
       "      <td>0.780515</td>\n",
       "      <td>0.770758</td>\n",
       "      <td>0.136021</td>\n",
       "      <td>0.131531</td>\n",
       "      <td>0.151048</td>\n",
       "      <td>0.136946</td>\n",
       "      <td>0.286062</td>\n",
       "      <td>0.261918</td>\n",
       "      <td>0.293225</td>\n",
       "      <td>0.272771</td>\n",
       "    </tr>\n",
       "    <tr>\n",
       "      <th>738</th>\n",
       "      <td>0.765209</td>\n",
       "      <td>0.760233</td>\n",
       "      <td>0.755899</td>\n",
       "      <td>0.780515</td>\n",
       "      <td>0.142816</td>\n",
       "      <td>0.136021</td>\n",
       "      <td>0.131531</td>\n",
       "      <td>0.151048</td>\n",
       "      <td>0.244444</td>\n",
       "      <td>0.286062</td>\n",
       "      <td>0.261918</td>\n",
       "      <td>0.293225</td>\n",
       "    </tr>\n",
       "    <tr>\n",
       "      <th>739</th>\n",
       "      <td>0.789636</td>\n",
       "      <td>0.765209</td>\n",
       "      <td>0.760233</td>\n",
       "      <td>0.755899</td>\n",
       "      <td>0.156830</td>\n",
       "      <td>0.142816</td>\n",
       "      <td>0.136021</td>\n",
       "      <td>0.131531</td>\n",
       "      <td>0.218241</td>\n",
       "      <td>0.244444</td>\n",
       "      <td>0.286062</td>\n",
       "      <td>0.261918</td>\n",
       "    </tr>\n",
       "    <tr>\n",
       "      <th>740</th>\n",
       "      <td>0.768259</td>\n",
       "      <td>0.789636</td>\n",
       "      <td>0.765209</td>\n",
       "      <td>0.760233</td>\n",
       "      <td>0.151095</td>\n",
       "      <td>0.156830</td>\n",
       "      <td>0.142816</td>\n",
       "      <td>0.136021</td>\n",
       "      <td>0.256032</td>\n",
       "      <td>0.218241</td>\n",
       "      <td>0.244444</td>\n",
       "      <td>0.286062</td>\n",
       "    </tr>\n",
       "  </tbody>\n",
       "</table>\n",
       "<p>741 rows × 12 columns</p>\n",
       "</div>"
      ],
      "text/plain": [
       "     kk08_pos_score  kk08_pos_score_lag1  kk08_pos_score_lag2  \\\n",
       "0          0.760779             0.773046             0.775810   \n",
       "1          0.771374             0.760779             0.773046   \n",
       "2          0.817684             0.771374             0.760779   \n",
       "3          0.809378             0.817684             0.771374   \n",
       "4          0.796347             0.809378             0.817684   \n",
       "..              ...                  ...                  ...   \n",
       "736        0.755899             0.780515             0.770758   \n",
       "737        0.760233             0.755899             0.780515   \n",
       "738        0.765209             0.760233             0.755899   \n",
       "739        0.789636             0.765209             0.760233   \n",
       "740        0.768259             0.789636             0.765209   \n",
       "\n",
       "     kk08_pos_score_lag3  Sentiment_vader  Sentiment_vader_lag1  \\\n",
       "0               0.755714         0.175078              0.181803   \n",
       "1               0.775810         0.152699              0.175078   \n",
       "2               0.773046         0.210043              0.152699   \n",
       "3               0.760779         0.200986              0.210043   \n",
       "4               0.771374         0.168094              0.200986   \n",
       "..                   ...              ...                   ...   \n",
       "736             0.750871         0.131531              0.151048   \n",
       "737             0.770758         0.136021              0.131531   \n",
       "738             0.780515         0.142816              0.136021   \n",
       "739             0.755899         0.156830              0.142816   \n",
       "740             0.760233         0.151095              0.156830   \n",
       "\n",
       "     Sentiment_vader_lag2  Sentiment_vader_lag3  Elkulako_label  \\\n",
       "0                0.174069              0.161558        0.325186   \n",
       "1                0.181803              0.174069        0.377858   \n",
       "2                0.175078              0.181803        0.345307   \n",
       "3                0.152699              0.175078        0.381842   \n",
       "4                0.210043              0.152699        0.412234   \n",
       "..                    ...                   ...             ...   \n",
       "736              0.136946              0.110582        0.261918   \n",
       "737              0.151048              0.136946        0.286062   \n",
       "738              0.131531              0.151048        0.244444   \n",
       "739              0.136021              0.131531        0.218241   \n",
       "740              0.142816              0.136021        0.256032   \n",
       "\n",
       "     Elkulako_label_lag1  Elkulako_label_lag2  Elkulako_label_lag3  \n",
       "0               0.427992             0.343045             0.364813  \n",
       "1               0.325186             0.427992             0.343045  \n",
       "2               0.377858             0.325186             0.427992  \n",
       "3               0.345307             0.377858             0.325186  \n",
       "4               0.381842             0.345307             0.377858  \n",
       "..                   ...                  ...                  ...  \n",
       "736             0.293225             0.272771             0.237048  \n",
       "737             0.261918             0.293225             0.272771  \n",
       "738             0.286062             0.261918             0.293225  \n",
       "739             0.244444             0.286062             0.261918  \n",
       "740             0.218241             0.244444             0.286062  \n",
       "\n",
       "[741 rows x 12 columns]"
      ]
     },
     "execution_count": 217,
     "metadata": {},
     "output_type": "execute_result"
    }
   ],
   "source": [
    "df_x_all"
   ]
  },
  {
   "cell_type": "code",
   "execution_count": 218,
   "metadata": {},
   "outputs": [
    {
     "data": {
      "text/plain": [
       "0      0\n",
       "1      1\n",
       "2      0\n",
       "3      1\n",
       "4      0\n",
       "      ..\n",
       "736    1\n",
       "737    0\n",
       "738    1\n",
       "739    1\n",
       "740    0\n",
       "Name: Return_sign, Length: 741, dtype: int64"
      ]
     },
     "execution_count": 218,
     "metadata": {},
     "output_type": "execute_result"
    }
   ],
   "source": [
    "df_y_6"
   ]
  },
  {
   "cell_type": "code",
   "execution_count": 219,
   "metadata": {},
   "outputs": [],
   "source": [
    "train_share = 0.85\n",
    "df_x_all_train = df_x_all.iloc[:int(len(df_x_all)*train_share)].reset_index(drop=True)\n",
    "df_y_all_train = df_y_all.iloc[:int(len(df_x_all)*train_share)].reset_index(drop=True)\n",
    "\n",
    "df_x_all_test = df_x_all.iloc[int(len(df_x_all)*train_share):].reset_index(drop=True)\n",
    "df_y_all_test = df_y_all.iloc[int(len(df_x_all)*train_share):].reset_index(drop=True)"
   ]
  },
  {
   "cell_type": "code",
   "execution_count": 220,
   "metadata": {},
   "outputs": [
    {
     "data": {
      "text/plain": [
       "0.5267857142857143"
      ]
     },
     "execution_count": 220,
     "metadata": {},
     "output_type": "execute_result"
    }
   ],
   "source": [
    "sum(df_y_all_test)/len(df_y_all_test)"
   ]
  },
  {
   "cell_type": "code",
   "execution_count": 221,
   "metadata": {},
   "outputs": [
    {
     "name": "stdout",
     "output_type": "stream",
     "text": [
      "Accuracy: 0.3968253968253968\n",
      "ROC-AUC: 0.5\n",
      "F1-score: 0.0\n"
     ]
    }
   ],
   "source": [
    "from sklearn.dummy import DummyClassifier\n",
    "dummy_model = DummyClassifier(strategy='most_frequent')\n",
    "dummy_pred, dummy_acc, dummy_roc_auc,dummy_f1, dummy_feat_imp= cv_and_predict_valid(df_x_all_train,df_y_all_train,dummy_model)\n"
   ]
  },
  {
   "cell_type": "code",
   "execution_count": 222,
   "metadata": {},
   "outputs": [
    {
     "name": "stdout",
     "output_type": "stream",
     "text": [
      "RandomForestClassifier(random_state=17)\n",
      "Best parameters from grid search: {'n_estimators': 100}\n",
      "Accuracy: 0.5079365079365079\n",
      "ROC-AUC: 0.503157894736842\n",
      "F1-score: 0.5633802816901409\n"
     ]
    }
   ],
   "source": [
    "from sklearn.ensemble import RandomForestClassifier\n",
    "# Random Forest\n",
    "grid_params = {'n_estimators': [5, 10, 20, 50, 100, 300, 500]}\n",
    "rf_model = RandomForestClassifier(random_state=17)\n",
    "rf_pred, rf_acc, rf_roc_auc,rf_f1, rf_feat_imp = cv_and_predict_valid(df_x_all_train,df_y_all_train, rf_model, tree = True, grid_search=True, grid_parameters=grid_params)"
   ]
  },
  {
   "cell_type": "code",
   "execution_count": 223,
   "metadata": {},
   "outputs": [
    {
     "name": "stdout",
     "output_type": "stream",
     "text": [
      "Accuracy: 0.5089285714285714\n",
      "ROC-AUC: 0.5060761112887752\n",
      "F1-score: 0.5454545454545454\n"
     ]
    }
   ],
   "source": [
    "# testing\n",
    "model = RandomForestClassifier(random_state=17)\n",
    "model.fit(df_x_all_train, df_y_all_train)\n",
    "predictions = model.predict(df_x_all_test)\n",
    "accuracy = accuracy_score(df_y_all_test, predictions)\n",
    "roc_auc = roc_auc_score(df_y_all_test, predictions)\n",
    "f1 = f1_score(df_y_all_test, predictions)\n",
    "    \n",
    "print(f\"Accuracy: {accuracy}\")\n",
    "print(f\"ROC-AUC: {roc_auc}\")\n",
    "print(f\"F1-score: {f1}\")\n"
   ]
  },
  {
   "cell_type": "code",
   "execution_count": 224,
   "metadata": {},
   "outputs": [
    {
     "name": "stdout",
     "output_type": "stream",
     "text": [
      "XGBClassifier(base_score=None, booster=None, callbacks=None,\n",
      "              colsample_bylevel=None, colsample_bynode=None,\n",
      "              colsample_bytree=None, device=None, early_stopping_rounds=None,\n",
      "              enable_categorical=False, eval_metric=None, feature_types=None,\n",
      "              gamma=None, grow_policy=None, importance_type=None,\n",
      "              interaction_constraints=None, learning_rate=None, max_bin=None,\n",
      "              max_cat_threshold=None, max_cat_to_onehot=None,\n",
      "              max_delta_step=None, max_depth=6, max_leaves=None,\n",
      "              min_child_weight=None, missing=nan, monotone_constraints=None,\n",
      "              multi_strategy=None, n_estimators=300, n_jobs=None,\n",
      "              num_parallel_tree=None, random_state=17, ...)\n",
      "Best parameters from grid search: {'max_depth': 6, 'n_estimators': 300}\n",
      "Accuracy: 0.5079365079365079\n",
      "ROC-AUC: 0.4894736842105264\n",
      "F1-score: 0.5866666666666667\n"
     ]
    }
   ],
   "source": [
    "from xgboost import XGBClassifier\n",
    "# XGBoost\n",
    "grid_params = {'n_estimators': [100, 300, 500],\"max_depth\": [1,3,6]}\n",
    "xgb_model = XGBClassifier(random_state=17)\n",
    "xgb_pred, xgb_acc, xgb_roc_auc,xgb_f1, xgb_feat_imp = cv_and_predict_valid(df_x_all_train,df_y_all_train, xgb_model, tree = True, grid_search=True, grid_parameters=grid_params)"
   ]
  },
  {
   "cell_type": "code",
   "execution_count": 225,
   "metadata": {},
   "outputs": [
    {
     "name": "stdout",
     "output_type": "stream",
     "text": [
      "Accuracy: 0.4732142857142857\n",
      "ROC-AUC: 0.47121842021106497\n",
      "F1-score: 0.5042016806722689\n"
     ]
    }
   ],
   "source": [
    "# testing\n",
    "model = XGBClassifier(random_state=17, max_depth = 6, n_estimators= 300)\n",
    "model.fit(df_x_all_train, df_y_all_train)\n",
    "predictions = model.predict(df_x_all_test)\n",
    "accuracy = accuracy_score(df_y_all_test, predictions)\n",
    "roc_auc = roc_auc_score(df_y_all_test, predictions)\n",
    "f1 = f1_score(df_y_all_test, predictions)\n",
    "    \n",
    "print(f\"Accuracy: {accuracy}\")\n",
    "print(f\"ROC-AUC: {roc_auc}\")\n",
    "print(f\"F1-score: {f1}\")\n",
    "# not bad"
   ]
  },
  {
   "cell_type": "code",
   "execution_count": 226,
   "metadata": {},
   "outputs": [
    {
     "name": "stdout",
     "output_type": "stream",
     "text": [
      "SVC(C=0.7, class_weight='balanced', gamma=1, kernel='poly')\n",
      "Best parameters from grid search: {'C': 0.7, 'class_weight': 'balanced', 'gamma': 1, 'kernel': 'poly'}\n",
      "Accuracy: 0.5873015873015873\n",
      "ROC-AUC: 0.5894736842105263\n",
      "F1-score: 0.6285714285714286\n"
     ]
    }
   ],
   "source": [
    "from sklearn.svm import SVC\n",
    "# SVM\n",
    "grid_params = {'C': [0.1, 0.3, 0.7, 1],  'kernel': ['poly', 'rbf'], 'gamma': [1, 0.1, 0.01], 'class_weight': ['balanced', None]}\n",
    "svm_model = SVC()\n",
    "svm_pred, svm_acc, svm_roc_auc,svm_f1, svm_feat_imp = cv_and_predict_valid(df_x_all_train,df_y_all_train, svm_model, grid_search=True, grid_parameters=grid_params)\n",
    "# too bad"
   ]
  },
  {
   "cell_type": "code",
   "execution_count": 227,
   "metadata": {},
   "outputs": [
    {
     "name": "stdout",
     "output_type": "stream",
     "text": [
      "Accuracy: 0.48214285714285715\n",
      "ROC-AUC: 0.49984010233450593\n",
      "F1-score: 0.2564102564102564\n"
     ]
    }
   ],
   "source": [
    "# testing\n",
    "model = SVC(C=0.7, class_weight='balanced', gamma=1)\n",
    "model.fit(df_x_all_train, df_y_all_train)\n",
    "predictions = model.predict(df_x_all_test)\n",
    "accuracy = accuracy_score(df_y_all_test, predictions)\n",
    "roc_auc = roc_auc_score(df_y_all_test, predictions)\n",
    "f1 = f1_score(df_y_all_test, predictions)\n",
    "    \n",
    "print(f\"Accuracy: {accuracy}\")\n",
    "print(f\"ROC-AUC: {roc_auc}\")\n",
    "print(f\"F1-score: {f1}\")"
   ]
  },
  {
   "cell_type": "code",
   "execution_count": 228,
   "metadata": {},
   "outputs": [
    {
     "name": "stderr",
     "output_type": "stream",
     "text": [
      "c:\\Users\\isaen\\AppData\\Local\\Programs\\Python\\Python312\\Lib\\site-packages\\sklearn\\ensemble\\_weight_boosting.py:519: FutureWarning: The SAMME.R algorithm (the default) is deprecated and will be removed in 1.6. Use the SAMME algorithm to circumvent this warning.\n",
      "  warnings.warn(\n"
     ]
    },
    {
     "name": "stdout",
     "output_type": "stream",
     "text": [
      "AdaBoostClassifier(learning_rate=0.1, n_estimators=100)\n",
      "Best parameters from grid search: {'learning_rate': 0.1, 'n_estimators': 100}\n",
      "Accuracy: 0.5396825396825397\n",
      "ROC-AUC: 0.5568421052631579\n",
      "F1-score: 0.5538461538461539\n"
     ]
    }
   ],
   "source": [
    "from sklearn.ensemble import AdaBoostClassifier\n",
    "grid_params = {'n_estimators': [50, 100, 300, 500], 'learning_rate':[0.1, 0.3, 0.5, 1]}\n",
    "model = AdaBoostClassifier()\n",
    "ada_pred, ada_acc, ada_roc_auc,ada_f1, ada_feat_imp = cv_and_predict_valid(df_x_all_train,df_y_all_train, model, tree = True, grid_search=True, grid_parameters = grid_params)\n"
   ]
  },
  {
   "cell_type": "code",
   "execution_count": null,
   "metadata": {},
   "outputs": [
    {
     "name": "stderr",
     "output_type": "stream",
     "text": [
      "c:\\Users\\isaen\\AppData\\Local\\Programs\\Python\\Python312\\Lib\\site-packages\\sklearn\\ensemble\\_weight_boosting.py:519: FutureWarning: The SAMME.R algorithm (the default) is deprecated and will be removed in 1.6. Use the SAMME algorithm to circumvent this warning.\n",
      "  warnings.warn(\n"
     ]
    },
    {
     "name": "stdout",
     "output_type": "stream",
     "text": [
      "Accuracy: 0.5267857142857143\n",
      "ROC-AUC: 0.5182283338663256\n",
      "F1-score: 0.6015037593984962\n"
     ]
    }
   ],
   "source": [
    "# testing\n",
    "model = AdaBoostClassifier(learning_rate=0.1, n_estimators=100)\n",
    "model.fit(df_x_all_train, df_y_all_train)\n",
    "predictions = model.predict(df_x_all_test)\n",
    "accuracy = accuracy_score(df_y_all_test, predictions)\n",
    "roc_auc = roc_auc_score(df_y_all_test, predictions)\n",
    "f1 = f1_score(df_y_all_test, predictions)\n",
    "    \n",
    "print(f\"Accuracy: {accuracy}\")\n",
    "print(f\"ROC-AUC: {roc_auc}\")\n",
    "print(f\"F1-score: {f1}\")\n"
   ]
  },
  {
   "cell_type": "code",
   "execution_count": 230,
   "metadata": {},
   "outputs": [
    {
     "name": "stdout",
     "output_type": "stream",
     "text": [
      "Accuracy: 0.6349206349206349\n",
      "ROC-AUC: 0.5673684210526316\n",
      "F1-score: 0.7472527472527473\n"
     ]
    }
   ],
   "source": [
    "from sklearn.naive_bayes import GaussianNB\n",
    "model = GaussianNB()\n",
    "nb_pred, nb_acc, nb_roc_auc,nb_f1, nb_feat_imp = cv_and_predict_valid(df_x_all_train,df_y_all_train, model)\n"
   ]
  },
  {
   "cell_type": "code",
   "execution_count": null,
   "metadata": {},
   "outputs": [
    {
     "name": "stdout",
     "output_type": "stream",
     "text": [
      "Accuracy: 0.5178571428571429\n",
      "ROC-AUC: 0.5078349856092101\n",
      "F1-score: 0.6029411764705882\n"
     ]
    }
   ],
   "source": [
    "# testing\n",
    "model = GaussianNB()\n",
    "model.fit(df_x_all_train, df_y_all_train)\n",
    "predictions = model.predict(df_x_all_test)\n",
    "accuracy = accuracy_score(df_y_all_test, predictions)\n",
    "roc_auc = roc_auc_score(df_y_all_test, predictions)\n",
    "f1 = f1_score(df_y_all_test, predictions)\n",
    "    \n",
    "print(f\"Accuracy: {accuracy}\")\n",
    "print(f\"ROC-AUC: {roc_auc}\")\n",
    "print(f\"F1-score: {f1}\")\n"
   ]
  },
  {
   "cell_type": "code",
   "execution_count": 232,
   "metadata": {},
   "outputs": [
    {
     "name": "stdout",
     "output_type": "stream",
     "text": [
      "KNeighborsClassifier(n_neighbors=10)\n",
      "Best parameters from grid search: {'n_neighbors': 10}\n",
      "Accuracy: 0.47619047619047616\n",
      "ROC-AUC: 0.5384210526315789\n",
      "F1-score: 0.35294117647058826\n"
     ]
    }
   ],
   "source": [
    "from sklearn.neighbors import KNeighborsClassifier\n",
    "grid_params = {'n_neighbors': [1, 2, 3, 4, 5, 10, 20, 50]}\n",
    "model = KNeighborsClassifier()\n",
    "knn_pred, knn_acc, knn_roc_auc,knn_f1, knn_feat_imp = cv_and_predict_valid(df_x_all_train,df_y_all_train, model, grid_search=True, grid_parameters=grid_params)\n"
   ]
  },
  {
   "cell_type": "code",
   "execution_count": null,
   "metadata": {},
   "outputs": [
    {
     "name": "stdout",
     "output_type": "stream",
     "text": [
      "Accuracy: 0.5178571428571429\n",
      "ROC-AUC: 0.5231851614966421\n",
      "F1-score: 0.4807692307692308\n"
     ]
    }
   ],
   "source": [
    "# testing\n",
    "model = KNeighborsClassifier(n_neighbors=10)\n",
    "model.fit(df_x_all_train, df_y_all_train)\n",
    "predictions = model.predict(df_x_all_test)\n",
    "accuracy = accuracy_score(df_y_all_test, predictions)\n",
    "roc_auc = roc_auc_score(df_y_all_test, predictions)\n",
    "f1 = f1_score(df_y_all_test, predictions)\n",
    "    \n",
    "print(f\"Accuracy: {accuracy}\")\n",
    "print(f\"ROC-AUC: {roc_auc}\")\n",
    "print(f\"F1-score: {f1}\")\n"
   ]
  },
  {
   "cell_type": "markdown",
   "metadata": {},
   "source": [
    "# With dummies"
   ]
  },
  {
   "cell_type": "code",
   "execution_count": 234,
   "metadata": {},
   "outputs": [
    {
     "data": {
      "text/plain": [
       "Index(['Date_1H', 'datetime', 'text', 'username', 'kk08_pos_score',\n",
       "       'kk08_score_diff', 'Elkulako_label', 'Sentiment_vader', 'pred',\n",
       "       'analysis', 'short', 'long', 'buy', 'sell', 'bull', 'bear', 'bankrupt',\n",
       "       'fraud', 'cbdc', 'record', 'crisis', 'collapse', 'ATH', 'grow', 'rise',\n",
       "       'fall', 'date', 'open', 'close', 'Return', 'Return_sign',\n",
       "       'kk08_pos_score_lag1', 'kk08_pos_score_lag2', 'kk08_pos_score_lag3',\n",
       "       'Sentiment_vader_lag1', 'Sentiment_vader_lag2', 'Sentiment_vader_lag3',\n",
       "       'Elkulako_label_lag1', 'Elkulako_label_lag2', 'Elkulako_label_lag3'],\n",
       "      dtype='object')"
      ]
     },
     "execution_count": 234,
     "metadata": {},
     "output_type": "execute_result"
    }
   ],
   "source": [
    "df.columns"
   ]
  },
  {
   "cell_type": "code",
   "execution_count": null,
   "metadata": {},
   "outputs": [],
   "source": []
  },
  {
   "cell_type": "code",
   "execution_count": 235,
   "metadata": {},
   "outputs": [],
   "source": [
    "df_x_dum = df[['kk08_pos_score', 'Elkulako_label', 'Sentiment_vader', 'pred',\n",
    "       'analysis', 'short', 'long', 'buy', 'sell', 'bull', 'bear', 'bankrupt',\n",
    "       'fraud', 'cbdc', 'record', 'crisis', 'collapse', 'ATH', 'grow', 'rise',\n",
    "       'fall']]\n",
    "df_y = df[\"Return_sign\"]"
   ]
  },
  {
   "cell_type": "code",
   "execution_count": 236,
   "metadata": {},
   "outputs": [
    {
     "data": {
      "text/html": [
       "<div>\n",
       "<style scoped>\n",
       "    .dataframe tbody tr th:only-of-type {\n",
       "        vertical-align: middle;\n",
       "    }\n",
       "\n",
       "    .dataframe tbody tr th {\n",
       "        vertical-align: top;\n",
       "    }\n",
       "\n",
       "    .dataframe thead th {\n",
       "        text-align: right;\n",
       "    }\n",
       "</style>\n",
       "<table border=\"1\" class=\"dataframe\">\n",
       "  <thead>\n",
       "    <tr style=\"text-align: right;\">\n",
       "      <th></th>\n",
       "      <th>kk08_pos_score</th>\n",
       "      <th>Elkulako_label</th>\n",
       "      <th>Sentiment_vader</th>\n",
       "      <th>pred</th>\n",
       "      <th>analysis</th>\n",
       "      <th>short</th>\n",
       "      <th>long</th>\n",
       "      <th>buy</th>\n",
       "      <th>sell</th>\n",
       "      <th>bull</th>\n",
       "      <th>...</th>\n",
       "      <th>bankrupt</th>\n",
       "      <th>fraud</th>\n",
       "      <th>cbdc</th>\n",
       "      <th>record</th>\n",
       "      <th>crisis</th>\n",
       "      <th>collapse</th>\n",
       "      <th>ATH</th>\n",
       "      <th>grow</th>\n",
       "      <th>rise</th>\n",
       "      <th>fall</th>\n",
       "    </tr>\n",
       "  </thead>\n",
       "  <tbody>\n",
       "    <tr>\n",
       "      <th>0</th>\n",
       "      <td>0.755714</td>\n",
       "      <td>0.364813</td>\n",
       "      <td>0.161558</td>\n",
       "      <td>34</td>\n",
       "      <td>72</td>\n",
       "      <td>71</td>\n",
       "      <td>31</td>\n",
       "      <td>87</td>\n",
       "      <td>37</td>\n",
       "      <td>23</td>\n",
       "      <td>...</td>\n",
       "      <td>0</td>\n",
       "      <td>1</td>\n",
       "      <td>1</td>\n",
       "      <td>4</td>\n",
       "      <td>0</td>\n",
       "      <td>2</td>\n",
       "      <td>28</td>\n",
       "      <td>10</td>\n",
       "      <td>20</td>\n",
       "      <td>65</td>\n",
       "    </tr>\n",
       "    <tr>\n",
       "      <th>1</th>\n",
       "      <td>0.775810</td>\n",
       "      <td>0.343045</td>\n",
       "      <td>0.174069</td>\n",
       "      <td>30</td>\n",
       "      <td>29</td>\n",
       "      <td>32</td>\n",
       "      <td>19</td>\n",
       "      <td>73</td>\n",
       "      <td>30</td>\n",
       "      <td>22</td>\n",
       "      <td>...</td>\n",
       "      <td>0</td>\n",
       "      <td>0</td>\n",
       "      <td>1</td>\n",
       "      <td>10</td>\n",
       "      <td>0</td>\n",
       "      <td>0</td>\n",
       "      <td>14</td>\n",
       "      <td>13</td>\n",
       "      <td>13</td>\n",
       "      <td>30</td>\n",
       "    </tr>\n",
       "    <tr>\n",
       "      <th>2</th>\n",
       "      <td>0.773046</td>\n",
       "      <td>0.427992</td>\n",
       "      <td>0.181803</td>\n",
       "      <td>23</td>\n",
       "      <td>24</td>\n",
       "      <td>22</td>\n",
       "      <td>16</td>\n",
       "      <td>83</td>\n",
       "      <td>30</td>\n",
       "      <td>14</td>\n",
       "      <td>...</td>\n",
       "      <td>1</td>\n",
       "      <td>3</td>\n",
       "      <td>0</td>\n",
       "      <td>4</td>\n",
       "      <td>0</td>\n",
       "      <td>1</td>\n",
       "      <td>20</td>\n",
       "      <td>10</td>\n",
       "      <td>11</td>\n",
       "      <td>24</td>\n",
       "    </tr>\n",
       "    <tr>\n",
       "      <th>3</th>\n",
       "      <td>0.760779</td>\n",
       "      <td>0.325186</td>\n",
       "      <td>0.175078</td>\n",
       "      <td>26</td>\n",
       "      <td>20</td>\n",
       "      <td>18</td>\n",
       "      <td>14</td>\n",
       "      <td>80</td>\n",
       "      <td>30</td>\n",
       "      <td>18</td>\n",
       "      <td>...</td>\n",
       "      <td>1</td>\n",
       "      <td>3</td>\n",
       "      <td>2</td>\n",
       "      <td>10</td>\n",
       "      <td>0</td>\n",
       "      <td>1</td>\n",
       "      <td>24</td>\n",
       "      <td>13</td>\n",
       "      <td>12</td>\n",
       "      <td>22</td>\n",
       "    </tr>\n",
       "    <tr>\n",
       "      <th>4</th>\n",
       "      <td>0.771374</td>\n",
       "      <td>0.377858</td>\n",
       "      <td>0.152699</td>\n",
       "      <td>26</td>\n",
       "      <td>19</td>\n",
       "      <td>18</td>\n",
       "      <td>20</td>\n",
       "      <td>66</td>\n",
       "      <td>31</td>\n",
       "      <td>12</td>\n",
       "      <td>...</td>\n",
       "      <td>1</td>\n",
       "      <td>2</td>\n",
       "      <td>1</td>\n",
       "      <td>7</td>\n",
       "      <td>0</td>\n",
       "      <td>1</td>\n",
       "      <td>22</td>\n",
       "      <td>7</td>\n",
       "      <td>12</td>\n",
       "      <td>16</td>\n",
       "    </tr>\n",
       "    <tr>\n",
       "      <th>...</th>\n",
       "      <td>...</td>\n",
       "      <td>...</td>\n",
       "      <td>...</td>\n",
       "      <td>...</td>\n",
       "      <td>...</td>\n",
       "      <td>...</td>\n",
       "      <td>...</td>\n",
       "      <td>...</td>\n",
       "      <td>...</td>\n",
       "      <td>...</td>\n",
       "      <td>...</td>\n",
       "      <td>...</td>\n",
       "      <td>...</td>\n",
       "      <td>...</td>\n",
       "      <td>...</td>\n",
       "      <td>...</td>\n",
       "      <td>...</td>\n",
       "      <td>...</td>\n",
       "      <td>...</td>\n",
       "      <td>...</td>\n",
       "      <td>...</td>\n",
       "    </tr>\n",
       "    <tr>\n",
       "      <th>739</th>\n",
       "      <td>0.755899</td>\n",
       "      <td>0.261918</td>\n",
       "      <td>0.131531</td>\n",
       "      <td>21</td>\n",
       "      <td>28</td>\n",
       "      <td>34</td>\n",
       "      <td>52</td>\n",
       "      <td>119</td>\n",
       "      <td>55</td>\n",
       "      <td>55</td>\n",
       "      <td>...</td>\n",
       "      <td>0</td>\n",
       "      <td>2</td>\n",
       "      <td>3</td>\n",
       "      <td>4</td>\n",
       "      <td>2</td>\n",
       "      <td>4</td>\n",
       "      <td>35</td>\n",
       "      <td>11</td>\n",
       "      <td>8</td>\n",
       "      <td>20</td>\n",
       "    </tr>\n",
       "    <tr>\n",
       "      <th>740</th>\n",
       "      <td>0.760233</td>\n",
       "      <td>0.286062</td>\n",
       "      <td>0.136021</td>\n",
       "      <td>23</td>\n",
       "      <td>34</td>\n",
       "      <td>30</td>\n",
       "      <td>50</td>\n",
       "      <td>89</td>\n",
       "      <td>52</td>\n",
       "      <td>50</td>\n",
       "      <td>...</td>\n",
       "      <td>0</td>\n",
       "      <td>1</td>\n",
       "      <td>1</td>\n",
       "      <td>6</td>\n",
       "      <td>3</td>\n",
       "      <td>3</td>\n",
       "      <td>41</td>\n",
       "      <td>10</td>\n",
       "      <td>16</td>\n",
       "      <td>12</td>\n",
       "    </tr>\n",
       "    <tr>\n",
       "      <th>741</th>\n",
       "      <td>0.765209</td>\n",
       "      <td>0.244444</td>\n",
       "      <td>0.142816</td>\n",
       "      <td>21</td>\n",
       "      <td>24</td>\n",
       "      <td>18</td>\n",
       "      <td>51</td>\n",
       "      <td>101</td>\n",
       "      <td>47</td>\n",
       "      <td>28</td>\n",
       "      <td>...</td>\n",
       "      <td>0</td>\n",
       "      <td>3</td>\n",
       "      <td>2</td>\n",
       "      <td>7</td>\n",
       "      <td>0</td>\n",
       "      <td>4</td>\n",
       "      <td>47</td>\n",
       "      <td>22</td>\n",
       "      <td>25</td>\n",
       "      <td>17</td>\n",
       "    </tr>\n",
       "    <tr>\n",
       "      <th>742</th>\n",
       "      <td>0.789636</td>\n",
       "      <td>0.218241</td>\n",
       "      <td>0.156830</td>\n",
       "      <td>14</td>\n",
       "      <td>23</td>\n",
       "      <td>22</td>\n",
       "      <td>40</td>\n",
       "      <td>92</td>\n",
       "      <td>34</td>\n",
       "      <td>31</td>\n",
       "      <td>...</td>\n",
       "      <td>0</td>\n",
       "      <td>1</td>\n",
       "      <td>3</td>\n",
       "      <td>4</td>\n",
       "      <td>1</td>\n",
       "      <td>1</td>\n",
       "      <td>37</td>\n",
       "      <td>10</td>\n",
       "      <td>16</td>\n",
       "      <td>16</td>\n",
       "    </tr>\n",
       "    <tr>\n",
       "      <th>743</th>\n",
       "      <td>0.768259</td>\n",
       "      <td>0.256032</td>\n",
       "      <td>0.151095</td>\n",
       "      <td>16</td>\n",
       "      <td>19</td>\n",
       "      <td>24</td>\n",
       "      <td>40</td>\n",
       "      <td>91</td>\n",
       "      <td>38</td>\n",
       "      <td>39</td>\n",
       "      <td>...</td>\n",
       "      <td>0</td>\n",
       "      <td>3</td>\n",
       "      <td>0</td>\n",
       "      <td>3</td>\n",
       "      <td>26</td>\n",
       "      <td>1</td>\n",
       "      <td>26</td>\n",
       "      <td>13</td>\n",
       "      <td>21</td>\n",
       "      <td>24</td>\n",
       "    </tr>\n",
       "  </tbody>\n",
       "</table>\n",
       "<p>744 rows × 21 columns</p>\n",
       "</div>"
      ],
      "text/plain": [
       "     kk08_pos_score  Elkulako_label  Sentiment_vader  pred  analysis  short  \\\n",
       "0          0.755714        0.364813         0.161558    34        72     71   \n",
       "1          0.775810        0.343045         0.174069    30        29     32   \n",
       "2          0.773046        0.427992         0.181803    23        24     22   \n",
       "3          0.760779        0.325186         0.175078    26        20     18   \n",
       "4          0.771374        0.377858         0.152699    26        19     18   \n",
       "..              ...             ...              ...   ...       ...    ...   \n",
       "739        0.755899        0.261918         0.131531    21        28     34   \n",
       "740        0.760233        0.286062         0.136021    23        34     30   \n",
       "741        0.765209        0.244444         0.142816    21        24     18   \n",
       "742        0.789636        0.218241         0.156830    14        23     22   \n",
       "743        0.768259        0.256032         0.151095    16        19     24   \n",
       "\n",
       "     long  buy  sell  bull  ...  bankrupt  fraud  cbdc  record  crisis  \\\n",
       "0      31   87    37    23  ...         0      1     1       4       0   \n",
       "1      19   73    30    22  ...         0      0     1      10       0   \n",
       "2      16   83    30    14  ...         1      3     0       4       0   \n",
       "3      14   80    30    18  ...         1      3     2      10       0   \n",
       "4      20   66    31    12  ...         1      2     1       7       0   \n",
       "..    ...  ...   ...   ...  ...       ...    ...   ...     ...     ...   \n",
       "739    52  119    55    55  ...         0      2     3       4       2   \n",
       "740    50   89    52    50  ...         0      1     1       6       3   \n",
       "741    51  101    47    28  ...         0      3     2       7       0   \n",
       "742    40   92    34    31  ...         0      1     3       4       1   \n",
       "743    40   91    38    39  ...         0      3     0       3      26   \n",
       "\n",
       "     collapse  ATH  grow  rise  fall  \n",
       "0           2   28    10    20    65  \n",
       "1           0   14    13    13    30  \n",
       "2           1   20    10    11    24  \n",
       "3           1   24    13    12    22  \n",
       "4           1   22     7    12    16  \n",
       "..        ...  ...   ...   ...   ...  \n",
       "739         4   35    11     8    20  \n",
       "740         3   41    10    16    12  \n",
       "741         4   47    22    25    17  \n",
       "742         1   37    10    16    16  \n",
       "743         1   26    13    21    24  \n",
       "\n",
       "[744 rows x 21 columns]"
      ]
     },
     "execution_count": 236,
     "metadata": {},
     "output_type": "execute_result"
    }
   ],
   "source": [
    "df_x_dum"
   ]
  },
  {
   "cell_type": "code",
   "execution_count": 237,
   "metadata": {},
   "outputs": [],
   "source": [
    "train_share = 0.85\n",
    "df_x_dum_train = df_x_dum.iloc[:int(len(df_x_dum)*train_share)].reset_index(drop=True)\n",
    "df_y_train = df_y.iloc[:int(len(df_y)*train_share)].reset_index(drop=True)\n",
    "\n",
    "df_x_dum_test = df_x_dum.iloc[int(len(df_x_dum)*train_share):].reset_index(drop=True)\n",
    "df_y_test = df_y.iloc[int(len(df_y)*train_share):].reset_index(drop=True)"
   ]
  },
  {
   "cell_type": "code",
   "execution_count": 238,
   "metadata": {},
   "outputs": [
    {
     "name": "stdout",
     "output_type": "stream",
     "text": [
      "Accuracy: 0.390625\n",
      "ROC-AUC: 0.5\n",
      "F1-score: 0.0\n"
     ]
    }
   ],
   "source": [
    "from sklearn.dummy import DummyClassifier\n",
    "dummy_model = DummyClassifier(strategy='most_frequent')\n",
    "dummy_pred, dummy_acc, dummy_roc_auc,dummy_f1, dummy_feat_imp= cv_and_predict_valid(df_x_dum_train,df_y_train,dummy_model)\n"
   ]
  },
  {
   "cell_type": "code",
   "execution_count": 239,
   "metadata": {},
   "outputs": [
    {
     "name": "stdout",
     "output_type": "stream",
     "text": [
      "Accuracy: 0.5267857142857143\n",
      "ROC-AUC: 0.5\n",
      "F1-score: 0.6900584795321637\n"
     ]
    }
   ],
   "source": [
    "# testing\n",
    "model = DummyClassifier(strategy='most_frequent')\n",
    "\n",
    "model.fit(df_x_dum_train, df_y_train)\n",
    "predictions = model.predict(df_x_dum_test)\n",
    "accuracy = accuracy_score(df_y_test, predictions)\n",
    "roc_auc = roc_auc_score(df_y_test, predictions)\n",
    "f1 = f1_score(df_y_test, predictions)\n",
    "    \n",
    "print(f\"Accuracy: {accuracy}\")\n",
    "print(f\"ROC-AUC: {roc_auc}\")\n",
    "print(f\"F1-score: {f1}\")"
   ]
  },
  {
   "cell_type": "code",
   "execution_count": 240,
   "metadata": {},
   "outputs": [
    {
     "name": "stdout",
     "output_type": "stream",
     "text": [
      "RandomForestClassifier(random_state=17)\n",
      "Best parameters from grid search: {'n_estimators': 100}\n",
      "Accuracy: 0.546875\n",
      "ROC-AUC: 0.5492307692307692\n",
      "F1-score: 0.5915492957746479\n"
     ]
    }
   ],
   "source": [
    "from sklearn.ensemble import RandomForestClassifier\n",
    "# Random Forest\n",
    "grid_params = {'n_estimators': [50,100, 300 ,500, 700]}\n",
    "rf_model = RandomForestClassifier(random_state=17)\n",
    "rf_pred, rf_acc, rf_roc_auc,rf_f1, rf_feat_imp = cv_and_predict_valid(df_x_dum_train,df_y_train, rf_model, tree = True, grid_search=True, grid_parameters=grid_params)"
   ]
  },
  {
   "cell_type": "code",
   "execution_count": 241,
   "metadata": {},
   "outputs": [
    {
     "name": "stdout",
     "output_type": "stream",
     "text": [
      "Accuracy: 0.4375\n",
      "ROC-AUC: 0.4401982731052127\n",
      "F1-score: 0.42201834862385323\n"
     ]
    }
   ],
   "source": [
    "# testing\n",
    "model = RandomForestClassifier(random_state=17)\n",
    "model.fit(df_x_dum_train, df_y_train)\n",
    "predictions = model.predict(df_x_dum_test)\n",
    "accuracy = accuracy_score(df_y_test, predictions)\n",
    "roc_auc = roc_auc_score(df_y_test, predictions)\n",
    "f1 = f1_score(df_y_test, predictions)\n",
    "    \n",
    "print(f\"Accuracy: {accuracy}\")\n",
    "print(f\"ROC-AUC: {roc_auc}\")\n",
    "print(f\"F1-score: {f1}\")\n"
   ]
  },
  {
   "cell_type": "code",
   "execution_count": 242,
   "metadata": {},
   "outputs": [
    {
     "name": "stdout",
     "output_type": "stream",
     "text": [
      "XGBClassifier(base_score=None, booster=None, callbacks=None,\n",
      "              colsample_bylevel=None, colsample_bynode=None,\n",
      "              colsample_bytree=None, device=None, early_stopping_rounds=None,\n",
      "              enable_categorical=False, eval_metric=None, feature_types=None,\n",
      "              gamma=None, grow_policy=None, importance_type=None,\n",
      "              interaction_constraints=None, learning_rate=None, max_bin=None,\n",
      "              max_cat_threshold=None, max_cat_to_onehot=None,\n",
      "              max_delta_step=None, max_depth=6, max_leaves=None,\n",
      "              min_child_weight=None, missing=nan, monotone_constraints=None,\n",
      "              multi_strategy=None, n_estimators=300, n_jobs=None,\n",
      "              num_parallel_tree=None, random_state=17, ...)\n",
      "Best parameters from grid search: {'max_depth': 6, 'n_estimators': 300}\n",
      "Accuracy: 0.5\n",
      "ROC-AUC: 0.5107692307692309\n",
      "F1-score: 0.5294117647058824\n"
     ]
    }
   ],
   "source": [
    "from xgboost import XGBClassifier\n",
    "# XGBoost\n",
    "grid_params = {'n_estimators': [50, 100, 300, 500, 1000],\"max_depth\": [1,2,3,6]}\n",
    "xgb_model = XGBClassifier(random_state=17)\n",
    "xgb_pred, xgb_acc, xgb_roc_auc,xgb_f1, xgb_feat_imp = cv_and_predict_valid(df_x_dum_train,df_y_train, xgb_model, tree = True, grid_search=True, grid_parameters=grid_params)\n"
   ]
  },
  {
   "cell_type": "code",
   "execution_count": 243,
   "metadata": {},
   "outputs": [
    {
     "name": "stdout",
     "output_type": "stream",
     "text": [
      "Accuracy: 0.4642857142857143\n",
      "ROC-AUC: 0.46562200191877195\n",
      "F1-score: 0.4642857142857143\n"
     ]
    }
   ],
   "source": [
    "# testing\n",
    "model = XGBClassifier(random_state=17, max_depth = 6, n_estimators = 300)\n",
    "model.fit(df_x_dum_train, df_y_train)\n",
    "predictions = model.predict(df_x_dum_test)\n",
    "accuracy = accuracy_score(df_y_test, predictions)\n",
    "roc_auc = roc_auc_score(df_y_test, predictions)\n",
    "f1 = f1_score(df_y_test, predictions)\n",
    "    \n",
    "print(f\"Accuracy: {accuracy}\")\n",
    "print(f\"ROC-AUC: {roc_auc}\")\n",
    "print(f\"F1-score: {f1}\")\n",
    "# good"
   ]
  },
  {
   "cell_type": "code",
   "execution_count": 244,
   "metadata": {},
   "outputs": [
    {
     "name": "stdout",
     "output_type": "stream",
     "text": [
      "Accuracy: 0.390625\n",
      "ROC-AUC: 0.5\n",
      "F1-score: 0.0\n"
     ]
    }
   ],
   "source": [
    "from sklearn.svm import SVC\n",
    "# SVM\n",
    "svm_model = SVC(kernel=\"poly\", C = 0.5)\n",
    "svm_pred, svm_acc, svm_roc_auc,svm_f1, svm_feat_imp = cv_and_predict_valid(df_x_dum_train,df_y_train, svm_model)"
   ]
  },
  {
   "cell_type": "code",
   "execution_count": 245,
   "metadata": {},
   "outputs": [
    {
     "name": "stdout",
     "output_type": "stream",
     "text": [
      "Accuracy: 0.5267857142857143\n",
      "ROC-AUC: 0.5\n",
      "F1-score: 0.6900584795321637\n"
     ]
    }
   ],
   "source": [
    "# testing\n",
    "model = svm_model = SVC(kernel=\"poly\", C = 0.5)\n",
    "model.fit(df_x_dum_train, df_y_train)\n",
    "predictions = model.predict(df_x_dum_test)\n",
    "accuracy = accuracy_score(df_y_test, predictions)\n",
    "roc_auc = roc_auc_score(df_y_test, predictions)\n",
    "f1 = f1_score(df_y_test, predictions)\n",
    "    \n",
    "print(f\"Accuracy: {accuracy}\")\n",
    "print(f\"ROC-AUC: {roc_auc}\")\n",
    "print(f\"F1-score: {f1}\")"
   ]
  },
  {
   "cell_type": "code",
   "execution_count": 246,
   "metadata": {},
   "outputs": [
    {
     "name": "stdout",
     "output_type": "stream",
     "text": [
      "AdaBoostClassifier(learning_rate=0.1, n_estimators=30)\n",
      "Best parameters from grid search: {'learning_rate': 0.1, 'n_estimators': 30}\n",
      "Accuracy: 0.546875\n",
      "ROC-AUC: 0.5707692307692308\n",
      "F1-score: 0.5538461538461539\n"
     ]
    },
    {
     "name": "stderr",
     "output_type": "stream",
     "text": [
      "c:\\Users\\isaen\\AppData\\Local\\Programs\\Python\\Python312\\Lib\\site-packages\\sklearn\\ensemble\\_weight_boosting.py:519: FutureWarning: The SAMME.R algorithm (the default) is deprecated and will be removed in 1.6. Use the SAMME algorithm to circumvent this warning.\n",
      "  warnings.warn(\n"
     ]
    }
   ],
   "source": [
    "from sklearn.ensemble import AdaBoostClassifier\n",
    "grid_params = {'n_estimators': [5, 10, 20, 30, 50, 100, 300, 500], 'learning_rate':[0.1, 0.3, 0.5, 1]}\n",
    "ada_model = AdaBoostClassifier()\n",
    "ada_pred, ada_acc, ada_roc_auc,ada_f1, ada_feat_imp = cv_and_predict_valid(df_x_dum_train,df_y_train, ada_model, tree = True, grid_search=True, grid_parameters = grid_params)\n"
   ]
  },
  {
   "cell_type": "code",
   "execution_count": 247,
   "metadata": {},
   "outputs": [
    {
     "name": "stderr",
     "output_type": "stream",
     "text": [
      "c:\\Users\\isaen\\AppData\\Local\\Programs\\Python\\Python312\\Lib\\site-packages\\sklearn\\ensemble\\_weight_boosting.py:519: FutureWarning: The SAMME.R algorithm (the default) is deprecated and will be removed in 1.6. Use the SAMME algorithm to circumvent this warning.\n",
      "  warnings.warn(\n"
     ]
    },
    {
     "name": "stdout",
     "output_type": "stream",
     "text": [
      "Accuracy: 0.5\n",
      "ROC-AUC: 0.49472337703869523\n",
      "F1-score: 0.5555555555555556\n"
     ]
    }
   ],
   "source": [
    "# testing\n",
    "model = AdaBoostClassifier(learning_rate=0.1, n_estimators=30)\n",
    "model.fit(df_x_dum_train, df_y_train)\n",
    "predictions = model.predict(df_x_dum_test)\n",
    "accuracy = accuracy_score(df_y_test, predictions)\n",
    "roc_auc = roc_auc_score(df_y_test, predictions)\n",
    "f1 = f1_score(df_y_test, predictions)\n",
    "    \n",
    "print(f\"Accuracy: {accuracy}\")\n",
    "print(f\"ROC-AUC: {roc_auc}\")\n",
    "print(f\"F1-score: {f1}\")"
   ]
  },
  {
   "cell_type": "code",
   "execution_count": null,
   "metadata": {},
   "outputs": [],
   "source": []
  },
  {
   "cell_type": "code",
   "execution_count": 248,
   "metadata": {},
   "outputs": [
    {
     "name": "stdout",
     "output_type": "stream",
     "text": [
      "Accuracy: 0.609375\n",
      "ROC-AUC: 0.5\n",
      "F1-score: 0.7572815533980582\n"
     ]
    }
   ],
   "source": [
    "from sklearn.naive_bayes import GaussianNB\n",
    "nb_model = GaussianNB()\n",
    "nb_pred, nb_acc, nb_roc_auc,nb_f1, nb_feat_imp = cv_and_predict_valid(df_x_dum_train,df_y_train, nb_model)\n"
   ]
  },
  {
   "cell_type": "code",
   "execution_count": 249,
   "metadata": {},
   "outputs": [
    {
     "name": "stdout",
     "output_type": "stream",
     "text": [
      "Accuracy: 0.5446428571428571\n",
      "ROC-AUC: 0.5207866965142309\n",
      "F1-score: 0.6909090909090909\n"
     ]
    }
   ],
   "source": [
    "# testing\n",
    "model = GaussianNB()\n",
    "model.fit(df_x_dum_train, df_y_train)\n",
    "predictions = model.predict(df_x_dum_test)\n",
    "accuracy = accuracy_score(df_y_test, predictions)\n",
    "roc_auc = roc_auc_score(df_y_test, predictions)\n",
    "f1 = f1_score(df_y_test, predictions)\n",
    "    \n",
    "print(f\"Accuracy: {accuracy}\")\n",
    "print(f\"ROC-AUC: {roc_auc}\")\n",
    "print(f\"F1-score: {f1}\")\n",
    "# good"
   ]
  },
  {
   "cell_type": "code",
   "execution_count": 250,
   "metadata": {},
   "outputs": [
    {
     "name": "stdout",
     "output_type": "stream",
     "text": [
      "Accuracy: 0.484375\n",
      "ROC-AUC: 0.5194871794871795\n",
      "F1-score: 0.45901639344262296\n"
     ]
    }
   ],
   "source": [
    "from sklearn.linear_model import LogisticRegression\n",
    "lr_model = LogisticRegression(max_iter=10000)\n",
    "lr_pred, lr_acc, lr_roc_auc,lr_f1, lr_feat_imp = cv_and_predict_valid(df_x_dum_train,df_y_train, lr_model)\n"
   ]
  },
  {
   "cell_type": "code",
   "execution_count": 251,
   "metadata": {},
   "outputs": [
    {
     "name": "stdout",
     "output_type": "stream",
     "text": [
      "Accuracy: 0.4732142857142857\n",
      "ROC-AUC: 0.4808122801407099\n",
      "F1-score: 0.40404040404040403\n"
     ]
    }
   ],
   "source": [
    "# testing\n",
    "model = LogisticRegression(max_iter=10000)\n",
    "\n",
    "model.fit(df_x_dum_train, df_y_train)\n",
    "predictions = model.predict(df_x_dum_test)\n",
    "accuracy = accuracy_score(df_y_test, predictions)\n",
    "roc_auc = roc_auc_score(df_y_test, predictions)\n",
    "f1 = f1_score(df_y_test, predictions)\n",
    "    \n",
    "print(f\"Accuracy: {accuracy}\")\n",
    "print(f\"ROC-AUC: {roc_auc}\")\n",
    "print(f\"F1-score: {f1}\")"
   ]
  },
  {
   "cell_type": "code",
   "execution_count": 252,
   "metadata": {},
   "outputs": [
    {
     "name": "stdout",
     "output_type": "stream",
     "text": [
      "KNeighborsClassifier(n_neighbors=10)\n",
      "Best parameters from grid search: {'n_neighbors': 10}\n",
      "Accuracy: 0.46875\n",
      "ROC-AUC: 0.5138461538461538\n",
      "F1-score: 0.41379310344827586\n"
     ]
    }
   ],
   "source": [
    "from sklearn.neighbors import KNeighborsClassifier\n",
    "grid_params = {'n_neighbors': [1, 2, 3, 4, 5, 10, 20, 50]}\n",
    "knn_model = KNeighborsClassifier()\n",
    "knn_pred, knn_acc, knn_roc_auc,knn_f1, knn_feat_imp = cv_and_predict_valid(df_x_dum_train,df_y_train, knn_model, grid_search=True, grid_parameters=grid_params)\n"
   ]
  },
  {
   "cell_type": "code",
   "execution_count": 253,
   "metadata": {},
   "outputs": [
    {
     "name": "stdout",
     "output_type": "stream",
     "text": [
      "Accuracy: 0.45535714285714285\n",
      "ROC-AUC: 0.45906619763351453\n",
      "F1-score: 0.42990654205607476\n"
     ]
    }
   ],
   "source": [
    "# testing\n",
    "model = KNeighborsClassifier(n_neighbors=10)\n",
    "model.fit(df_x_dum_train, df_y_train)\n",
    "predictions = model.predict(df_x_dum_test)\n",
    "accuracy = accuracy_score(df_y_test, predictions)\n",
    "roc_auc = roc_auc_score(df_y_test, predictions)\n",
    "f1 = f1_score(df_y_test, predictions)\n",
    "    \n",
    "print(f\"Accuracy: {accuracy}\")\n",
    "print(f\"ROC-AUC: {roc_auc}\")\n",
    "print(f\"F1-score: {f1}\")\n",
    "# good"
   ]
  }
 ],
 "metadata": {
  "kernelspec": {
   "display_name": "Python 3",
   "language": "python",
   "name": "python3"
  },
  "language_info": {
   "codemirror_mode": {
    "name": "ipython",
    "version": 3
   },
   "file_extension": ".py",
   "mimetype": "text/x-python",
   "name": "python",
   "nbconvert_exporter": "python",
   "pygments_lexer": "ipython3",
   "version": "3.12.1"
  }
 },
 "nbformat": 4,
 "nbformat_minor": 2
}
