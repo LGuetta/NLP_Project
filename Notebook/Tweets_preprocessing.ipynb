{
 "cells": [
  {
   "cell_type": "code",
   "execution_count": 2,
   "metadata": {
    "id": "SOkOUdyuxuVw"
   },
   "outputs": [],
   "source": [
    "import pandas as pd\n",
    "df = pd.read_csv(\"Filtered tweets.csv\")"
   ]
  },
  {
   "cell_type": "code",
   "execution_count": 3,
   "metadata": {
    "colab": {
     "base_uri": "https://localhost:8080/"
    },
    "id": "1wQ53hM0xuVy",
    "outputId": "a17a99cd-543f-4992-ff78-f55b2654a9d3"
   },
   "outputs": [
    {
     "data": {
      "text/plain": [
       "(1331668, 9)"
      ]
     },
     "execution_count": 3,
     "metadata": {},
     "output_type": "execute_result"
    }
   ],
   "source": [
    "df.shape"
   ]
  },
  {
   "cell_type": "code",
   "execution_count": 4,
   "metadata": {
    "id": "YKtraqvMxuV5"
   },
   "outputs": [],
   "source": [
    "import pandas as pd\n",
    "import numpy as np\n",
    "import re\n",
    "import string\n",
    "import nltk\n",
    "from nltk.corpus import stopwords\n",
    "from nltk.stem import WordNetLemmatizer\n",
    "from pathlib import Path\n",
    "from nltk.tokenize import TweetTokenizer\n",
    "\n",
    "def preprocess_text(text, stop_words, lemmatizer):\n",
    "    \"\"\"\n",
    "    Clean and preprocess tweet text.\n",
    "\n",
    "    \"\"\"\n",
    "    text = text.lower()\n",
    "    text = re.sub(r\"http\\S+|www\\S+|https\\S+\", \"\", text)\n",
    "    text = re.sub(r\"\\@\\w+\", \"\", text)\n",
    "    text = re.sub(r\"^RT[\\s]+\", \"\", text)\n",
    "    text = re.sub(r\"[^a-zA-Z\\s]\", \"\", text)\n",
    "    tokens = TweetTokenizer().tokenize(text)\n",
    "    tokens = [lemmatizer.lemmatize(token) if len(token) > 3 else token for token in tokens]\n",
    "    tokens = [token for token in tokens if token not in stop_words]\n",
    "    text = \" \".join([token for token in tokens if token not in string.punctuation and not token.isdigit()])\n",
    "    return text"
   ]
  },
  {
   "cell_type": "code",
   "execution_count": 5,
   "metadata": {
    "colab": {
     "base_uri": "https://localhost:8080/"
    },
    "id": "s97AXu1xyR0p",
    "outputId": "3f6a1813-77ab-46f0-ed31-14ec7dc24e37"
   },
   "outputs": [
    {
     "name": "stderr",
     "output_type": "stream",
     "text": [
      "[nltk_data] Downloading package stopwords to\n",
      "[nltk_data]     C:\\Users\\isaen\\AppData\\Roaming\\nltk_data...\n",
      "[nltk_data]   Package stopwords is already up-to-date!\n",
      "[nltk_data] Downloading package wordnet to\n",
      "[nltk_data]     C:\\Users\\isaen\\AppData\\Roaming\\nltk_data...\n",
      "[nltk_data]   Package wordnet is already up-to-date!\n"
     ]
    },
    {
     "data": {
      "text/plain": [
       "True"
      ]
     },
     "execution_count": 5,
     "metadata": {},
     "output_type": "execute_result"
    }
   ],
   "source": [
    "nltk.download('stopwords')\n",
    "nltk.download('wordnet')"
   ]
  },
  {
   "cell_type": "code",
   "execution_count": 6,
   "metadata": {
    "id": "mKgI48ydxuV6"
   },
   "outputs": [],
   "source": [
    "stop_words = set(stopwords.words('english'))\n",
    "lemmatizer = WordNetLemmatizer()\n",
    "df[\"cleaned_text\"] = df[\"text\"].apply(lambda x: preprocess_text(x, stop_words, lemmatizer))"
   ]
  },
  {
   "cell_type": "code",
   "execution_count": 7,
   "metadata": {},
   "outputs": [
    {
     "data": {
      "text/html": [
       "<div>\n",
       "<style scoped>\n",
       "    .dataframe tbody tr th:only-of-type {\n",
       "        vertical-align: middle;\n",
       "    }\n",
       "\n",
       "    .dataframe tbody tr th {\n",
       "        vertical-align: top;\n",
       "    }\n",
       "\n",
       "    .dataframe thead th {\n",
       "        text-align: right;\n",
       "    }\n",
       "</style>\n",
       "<table border=\"1\" class=\"dataframe\">\n",
       "  <thead>\n",
       "    <tr style=\"text-align: right;\">\n",
       "      <th></th>\n",
       "      <th>datetime</th>\n",
       "      <th>date</th>\n",
       "      <th>username</th>\n",
       "      <th>text</th>\n",
       "      <th>Date_hourly</th>\n",
       "      <th>Date_min</th>\n",
       "      <th>Date_day</th>\n",
       "      <th>Date_30m</th>\n",
       "      <th>Date_15m</th>\n",
       "      <th>cleaned_text</th>\n",
       "    </tr>\n",
       "  </thead>\n",
       "  <tbody>\n",
       "    <tr>\n",
       "      <th>0</th>\n",
       "      <td>2022-01-01 00:00:00+00:00</td>\n",
       "      <td>2022-01-01</td>\n",
       "      <td>CryptoNerdApp</td>\n",
       "      <td>Current Price of Bitcoin:\\n$46320 (-1.85%)\\n\\n...</td>\n",
       "      <td>2022-01-01 01:00:00+00:00</td>\n",
       "      <td>2022-01-01 00:01:00+00:00</td>\n",
       "      <td>2022-01-02 00:00:00+00:00</td>\n",
       "      <td>2022-01-01 00:30:00+00:00</td>\n",
       "      <td>2022-01-01 00:15:00+00:00</td>\n",
       "      <td>current price bitcoin btc bitcoin cryptocurren...</td>\n",
       "    </tr>\n",
       "    <tr>\n",
       "      <th>1</th>\n",
       "      <td>2022-01-01 17:10:02+00:00</td>\n",
       "      <td>2022-01-01</td>\n",
       "      <td>bitcoinalerts</td>\n",
       "      <td>The year for Bitcoin — A 2021 roundup of the f...</td>\n",
       "      <td>2022-01-01 18:00:00+00:00</td>\n",
       "      <td>2022-01-01 17:11:00+00:00</td>\n",
       "      <td>2022-01-02 00:00:00+00:00</td>\n",
       "      <td>2022-01-01 17:30:00+00:00</td>\n",
       "      <td>2022-01-01 17:15:00+00:00</td>\n",
       "      <td>year bitcoin roundup flagship crypto</td>\n",
       "    </tr>\n",
       "    <tr>\n",
       "      <th>2</th>\n",
       "      <td>2022-01-01 17:10:00+00:00</td>\n",
       "      <td>2022-01-01</td>\n",
       "      <td>oneandonlypd</td>\n",
       "      <td>#Bitcoin is all our savings. https://t.co/SGgy...</td>\n",
       "      <td>2022-01-01 18:00:00+00:00</td>\n",
       "      <td>2022-01-01 17:11:00+00:00</td>\n",
       "      <td>2022-01-02 00:00:00+00:00</td>\n",
       "      <td>2022-01-01 17:30:00+00:00</td>\n",
       "      <td>2022-01-01 17:15:00+00:00</td>\n",
       "      <td>bitcoin saving</td>\n",
       "    </tr>\n",
       "    <tr>\n",
       "      <th>3</th>\n",
       "      <td>2022-01-01 17:09:59+00:00</td>\n",
       "      <td>2022-01-01</td>\n",
       "      <td>CHAIRFORCE_BTC</td>\n",
       "      <td>@gmekhail Isn't that usually shouted at the pe...</td>\n",
       "      <td>2022-01-01 18:00:00+00:00</td>\n",
       "      <td>2022-01-01 17:10:00+00:00</td>\n",
       "      <td>2022-01-02 00:00:00+00:00</td>\n",
       "      <td>2022-01-01 17:30:00+00:00</td>\n",
       "      <td>2022-01-01 17:15:00+00:00</td>\n",
       "      <td>isnt usually shouted people promoting going bi...</td>\n",
       "    </tr>\n",
       "    <tr>\n",
       "      <th>4</th>\n",
       "      <td>2022-01-01 17:09:58+00:00</td>\n",
       "      <td>2022-01-01</td>\n",
       "      <td>crypto_squared</td>\n",
       "      <td>What are Decentralized Apps or DApps?\\n#Crypto...</td>\n",
       "      <td>2022-01-01 18:00:00+00:00</td>\n",
       "      <td>2022-01-01 17:10:00+00:00</td>\n",
       "      <td>2022-01-02 00:00:00+00:00</td>\n",
       "      <td>2022-01-01 17:30:00+00:00</td>\n",
       "      <td>2022-01-01 17:15:00+00:00</td>\n",
       "      <td>decentralized apps dapps cryptonews bitcoin cr...</td>\n",
       "    </tr>\n",
       "    <tr>\n",
       "      <th>...</th>\n",
       "      <td>...</td>\n",
       "      <td>...</td>\n",
       "      <td>...</td>\n",
       "      <td>...</td>\n",
       "      <td>...</td>\n",
       "      <td>...</td>\n",
       "      <td>...</td>\n",
       "      <td>...</td>\n",
       "      <td>...</td>\n",
       "      <td>...</td>\n",
       "    </tr>\n",
       "    <tr>\n",
       "      <th>1331663</th>\n",
       "      <td>2022-01-31 10:17:58+00:00</td>\n",
       "      <td>2022-01-31</td>\n",
       "      <td>cstross</td>\n",
       "      <td>@ignaziop1977 @MLK3030 @SHOKUNIN_STUDIO At the...</td>\n",
       "      <td>2022-01-31 11:00:00+00:00</td>\n",
       "      <td>2022-01-31 10:18:00+00:00</td>\n",
       "      <td>2022-02-01 00:00:00+00:00</td>\n",
       "      <td>2022-01-31 10:30:00+00:00</td>\n",
       "      <td>2022-01-31 10:30:00+00:00</td>\n",
       "      <td>point wrote book unaware existence blockchainb...</td>\n",
       "    </tr>\n",
       "    <tr>\n",
       "      <th>1331664</th>\n",
       "      <td>2022-01-31 10:18:02+00:00</td>\n",
       "      <td>2022-01-31</td>\n",
       "      <td>S_Edalati</td>\n",
       "      <td>Cryptocurrency Prices On January 31 2021: Know...</td>\n",
       "      <td>2022-01-31 11:00:00+00:00</td>\n",
       "      <td>2022-01-31 10:19:00+00:00</td>\n",
       "      <td>2022-02-01 00:00:00+00:00</td>\n",
       "      <td>2022-01-31 10:30:00+00:00</td>\n",
       "      <td>2022-01-31 10:30:00+00:00</td>\n",
       "      <td>cryptocurrency price january know rate bitcoin...</td>\n",
       "    </tr>\n",
       "    <tr>\n",
       "      <th>1331665</th>\n",
       "      <td>2022-01-31 10:18:05+00:00</td>\n",
       "      <td>2022-01-31</td>\n",
       "      <td>bitcoinpressuk</td>\n",
       "      <td>#Bitcoin #BTC #CRYPTO US Financial Advisors Ex...</td>\n",
       "      <td>2022-01-31 11:00:00+00:00</td>\n",
       "      <td>2022-01-31 10:19:00+00:00</td>\n",
       "      <td>2022-02-01 00:00:00+00:00</td>\n",
       "      <td>2022-01-31 10:30:00+00:00</td>\n",
       "      <td>2022-01-31 10:30:00+00:00</td>\n",
       "      <td>bitcoin btc crypto us financial advisor expect...</td>\n",
       "    </tr>\n",
       "    <tr>\n",
       "      <th>1331666</th>\n",
       "      <td>2022-01-31 10:17:28+00:00</td>\n",
       "      <td>2022-01-31</td>\n",
       "      <td>AlfaHedge</td>\n",
       "      <td>How low can #Bitcoin go ???\\n\\nExperts weigh i...</td>\n",
       "      <td>2022-01-31 11:00:00+00:00</td>\n",
       "      <td>2022-01-31 10:18:00+00:00</td>\n",
       "      <td>2022-02-01 00:00:00+00:00</td>\n",
       "      <td>2022-01-31 10:30:00+00:00</td>\n",
       "      <td>2022-01-31 10:30:00+00:00</td>\n",
       "      <td>low bitcoin go expert weigh cryptonews cryptoc...</td>\n",
       "    </tr>\n",
       "    <tr>\n",
       "      <th>1331667</th>\n",
       "      <td>2022-01-31 23:59:57+00:00</td>\n",
       "      <td>2022-01-31</td>\n",
       "      <td>inanksm</td>\n",
       "      <td>#Bitcoin  is one of the most important inventi...</td>\n",
       "      <td>2022-02-01 00:00:00+00:00</td>\n",
       "      <td>2022-02-01 00:00:00+00:00</td>\n",
       "      <td>2022-02-01 00:00:00+00:00</td>\n",
       "      <td>2022-02-01 00:00:00+00:00</td>\n",
       "      <td>2022-02-01 00:00:00+00:00</td>\n",
       "      <td>bitcoin one important invention human history ...</td>\n",
       "    </tr>\n",
       "  </tbody>\n",
       "</table>\n",
       "<p>1331668 rows × 10 columns</p>\n",
       "</div>"
      ],
      "text/plain": [
       "                          datetime        date        username  \\\n",
       "0        2022-01-01 00:00:00+00:00  2022-01-01   CryptoNerdApp   \n",
       "1        2022-01-01 17:10:02+00:00  2022-01-01   bitcoinalerts   \n",
       "2        2022-01-01 17:10:00+00:00  2022-01-01    oneandonlypd   \n",
       "3        2022-01-01 17:09:59+00:00  2022-01-01  CHAIRFORCE_BTC   \n",
       "4        2022-01-01 17:09:58+00:00  2022-01-01  crypto_squared   \n",
       "...                            ...         ...             ...   \n",
       "1331663  2022-01-31 10:17:58+00:00  2022-01-31         cstross   \n",
       "1331664  2022-01-31 10:18:02+00:00  2022-01-31       S_Edalati   \n",
       "1331665  2022-01-31 10:18:05+00:00  2022-01-31  bitcoinpressuk   \n",
       "1331666  2022-01-31 10:17:28+00:00  2022-01-31       AlfaHedge   \n",
       "1331667  2022-01-31 23:59:57+00:00  2022-01-31         inanksm   \n",
       "\n",
       "                                                      text  \\\n",
       "0        Current Price of Bitcoin:\\n$46320 (-1.85%)\\n\\n...   \n",
       "1        The year for Bitcoin — A 2021 roundup of the f...   \n",
       "2        #Bitcoin is all our savings. https://t.co/SGgy...   \n",
       "3        @gmekhail Isn't that usually shouted at the pe...   \n",
       "4        What are Decentralized Apps or DApps?\\n#Crypto...   \n",
       "...                                                    ...   \n",
       "1331663  @ignaziop1977 @MLK3030 @SHOKUNIN_STUDIO At the...   \n",
       "1331664  Cryptocurrency Prices On January 31 2021: Know...   \n",
       "1331665  #Bitcoin #BTC #CRYPTO US Financial Advisors Ex...   \n",
       "1331666  How low can #Bitcoin go ???\\n\\nExperts weigh i...   \n",
       "1331667  #Bitcoin  is one of the most important inventi...   \n",
       "\n",
       "                       Date_hourly                   Date_min  \\\n",
       "0        2022-01-01 01:00:00+00:00  2022-01-01 00:01:00+00:00   \n",
       "1        2022-01-01 18:00:00+00:00  2022-01-01 17:11:00+00:00   \n",
       "2        2022-01-01 18:00:00+00:00  2022-01-01 17:11:00+00:00   \n",
       "3        2022-01-01 18:00:00+00:00  2022-01-01 17:10:00+00:00   \n",
       "4        2022-01-01 18:00:00+00:00  2022-01-01 17:10:00+00:00   \n",
       "...                            ...                        ...   \n",
       "1331663  2022-01-31 11:00:00+00:00  2022-01-31 10:18:00+00:00   \n",
       "1331664  2022-01-31 11:00:00+00:00  2022-01-31 10:19:00+00:00   \n",
       "1331665  2022-01-31 11:00:00+00:00  2022-01-31 10:19:00+00:00   \n",
       "1331666  2022-01-31 11:00:00+00:00  2022-01-31 10:18:00+00:00   \n",
       "1331667  2022-02-01 00:00:00+00:00  2022-02-01 00:00:00+00:00   \n",
       "\n",
       "                          Date_day                   Date_30m  \\\n",
       "0        2022-01-02 00:00:00+00:00  2022-01-01 00:30:00+00:00   \n",
       "1        2022-01-02 00:00:00+00:00  2022-01-01 17:30:00+00:00   \n",
       "2        2022-01-02 00:00:00+00:00  2022-01-01 17:30:00+00:00   \n",
       "3        2022-01-02 00:00:00+00:00  2022-01-01 17:30:00+00:00   \n",
       "4        2022-01-02 00:00:00+00:00  2022-01-01 17:30:00+00:00   \n",
       "...                            ...                        ...   \n",
       "1331663  2022-02-01 00:00:00+00:00  2022-01-31 10:30:00+00:00   \n",
       "1331664  2022-02-01 00:00:00+00:00  2022-01-31 10:30:00+00:00   \n",
       "1331665  2022-02-01 00:00:00+00:00  2022-01-31 10:30:00+00:00   \n",
       "1331666  2022-02-01 00:00:00+00:00  2022-01-31 10:30:00+00:00   \n",
       "1331667  2022-02-01 00:00:00+00:00  2022-02-01 00:00:00+00:00   \n",
       "\n",
       "                          Date_15m  \\\n",
       "0        2022-01-01 00:15:00+00:00   \n",
       "1        2022-01-01 17:15:00+00:00   \n",
       "2        2022-01-01 17:15:00+00:00   \n",
       "3        2022-01-01 17:15:00+00:00   \n",
       "4        2022-01-01 17:15:00+00:00   \n",
       "...                            ...   \n",
       "1331663  2022-01-31 10:30:00+00:00   \n",
       "1331664  2022-01-31 10:30:00+00:00   \n",
       "1331665  2022-01-31 10:30:00+00:00   \n",
       "1331666  2022-01-31 10:30:00+00:00   \n",
       "1331667  2022-02-01 00:00:00+00:00   \n",
       "\n",
       "                                              cleaned_text  \n",
       "0        current price bitcoin btc bitcoin cryptocurren...  \n",
       "1                     year bitcoin roundup flagship crypto  \n",
       "2                                           bitcoin saving  \n",
       "3        isnt usually shouted people promoting going bi...  \n",
       "4        decentralized apps dapps cryptonews bitcoin cr...  \n",
       "...                                                    ...  \n",
       "1331663  point wrote book unaware existence blockchainb...  \n",
       "1331664  cryptocurrency price january know rate bitcoin...  \n",
       "1331665  bitcoin btc crypto us financial advisor expect...  \n",
       "1331666  low bitcoin go expert weigh cryptonews cryptoc...  \n",
       "1331667  bitcoin one important invention human history ...  \n",
       "\n",
       "[1331668 rows x 10 columns]"
      ]
     },
     "execution_count": 7,
     "metadata": {},
     "output_type": "execute_result"
    }
   ],
   "source": [
    "df"
   ]
  },
  {
   "cell_type": "code",
   "execution_count": null,
   "metadata": {},
   "outputs": [],
   "source": [
    "df.to_csv(\"Cleaned_tweets.csv\", index = False)"
   ]
  },
  {
   "cell_type": "code",
   "execution_count": null,
   "metadata": {},
   "outputs": [],
   "source": []
  }
 ],
 "metadata": {
  "colab": {
   "provenance": []
  },
  "kernelspec": {
   "display_name": "Python 3",
   "language": "python",
   "name": "python3"
  },
  "language_info": {
   "codemirror_mode": {
    "name": "ipython",
    "version": 3
   },
   "file_extension": ".py",
   "mimetype": "text/x-python",
   "name": "python",
   "nbconvert_exporter": "python",
   "pygments_lexer": "ipython3",
   "version": "3.12.1"
  }
 },
 "nbformat": 4,
 "nbformat_minor": 0
}
