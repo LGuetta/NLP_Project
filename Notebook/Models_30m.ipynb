{
 "cells": [
  {
   "cell_type": "markdown",
   "metadata": {},
   "source": [
    "# 30 min"
   ]
  },
  {
   "cell_type": "code",
   "execution_count": 1,
   "metadata": {},
   "outputs": [],
   "source": [
    "import pandas as pd\n",
    "df = pd.read_csv(\"Full_data_30m.csv\")"
   ]
  },
  {
   "cell_type": "code",
   "execution_count": 2,
   "metadata": {},
   "outputs": [
    {
     "data": {
      "text/html": [
       "<div>\n",
       "<style scoped>\n",
       "    .dataframe tbody tr th:only-of-type {\n",
       "        vertical-align: middle;\n",
       "    }\n",
       "\n",
       "    .dataframe tbody tr th {\n",
       "        vertical-align: top;\n",
       "    }\n",
       "\n",
       "    .dataframe thead th {\n",
       "        text-align: right;\n",
       "    }\n",
       "</style>\n",
       "<table border=\"1\" class=\"dataframe\">\n",
       "  <thead>\n",
       "    <tr style=\"text-align: right;\">\n",
       "      <th></th>\n",
       "      <th>Date_30m</th>\n",
       "      <th>datetime</th>\n",
       "      <th>text</th>\n",
       "      <th>username</th>\n",
       "      <th>kk08_pos_score</th>\n",
       "      <th>kk08_score_diff</th>\n",
       "      <th>Elkulako_label</th>\n",
       "      <th>Sentiment_vader</th>\n",
       "      <th>pred</th>\n",
       "      <th>analysis</th>\n",
       "      <th>...</th>\n",
       "      <th>collapse</th>\n",
       "      <th>ATH</th>\n",
       "      <th>grow</th>\n",
       "      <th>rise</th>\n",
       "      <th>fall</th>\n",
       "      <th>date</th>\n",
       "      <th>open</th>\n",
       "      <th>close</th>\n",
       "      <th>Return</th>\n",
       "      <th>Return_sign</th>\n",
       "    </tr>\n",
       "  </thead>\n",
       "  <tbody>\n",
       "    <tr>\n",
       "      <th>0</th>\n",
       "      <td>2022-01-01 00:30:00</td>\n",
       "      <td>['2022-01-01 00:00:00', '2022-01-01 00:00:00',...</td>\n",
       "      <td>Current Price of Bitcoin:\\n$46320 (-1.85%)\\n\\n...</td>\n",
       "      <td>CryptoNerdApp\\nTrendSpider\\nMadStudentScie1\\nW...</td>\n",
       "      <td>0.769373</td>\n",
       "      <td>0.538746</td>\n",
       "      <td>0.324930</td>\n",
       "      <td>0.149739</td>\n",
       "      <td>20</td>\n",
       "      <td>46</td>\n",
       "      <td>...</td>\n",
       "      <td>1</td>\n",
       "      <td>17</td>\n",
       "      <td>7</td>\n",
       "      <td>13</td>\n",
       "      <td>42</td>\n",
       "      <td>2022-01-01 00:30:00</td>\n",
       "      <td>46375.42</td>\n",
       "      <td>46656.13</td>\n",
       "      <td>0.006053</td>\n",
       "      <td>1</td>\n",
       "    </tr>\n",
       "    <tr>\n",
       "      <th>1</th>\n",
       "      <td>2022-01-01 01:00:00</td>\n",
       "      <td>['2022-01-01 00:30:00', '2022-01-01 00:30:01',...</td>\n",
       "      <td>“Here's to a bright New Year and a fond farewe...</td>\n",
       "      <td>bitcoiva\\ncryptozone007\\nlinuxadvocate\\nbakedn...</td>\n",
       "      <td>0.739433</td>\n",
       "      <td>0.478866</td>\n",
       "      <td>0.412354</td>\n",
       "      <td>0.175647</td>\n",
       "      <td>14</td>\n",
       "      <td>26</td>\n",
       "      <td>...</td>\n",
       "      <td>1</td>\n",
       "      <td>11</td>\n",
       "      <td>3</td>\n",
       "      <td>7</td>\n",
       "      <td>23</td>\n",
       "      <td>2022-01-01 01:00:00</td>\n",
       "      <td>46656.14</td>\n",
       "      <td>46815.33</td>\n",
       "      <td>0.003412</td>\n",
       "      <td>1</td>\n",
       "    </tr>\n",
       "    <tr>\n",
       "      <th>2</th>\n",
       "      <td>2022-01-01 01:30:00</td>\n",
       "      <td>['2022-01-01 01:00:00', '2022-01-01 01:00:00',...</td>\n",
       "      <td>Today's Cryptocurrency Fear And Greed Index: 2...</td>\n",
       "      <td>FearAndGreedBot\\nOfficialOverbit\\nBTC_AI_bot\\n...</td>\n",
       "      <td>0.768188</td>\n",
       "      <td>0.536376</td>\n",
       "      <td>0.349835</td>\n",
       "      <td>0.154206</td>\n",
       "      <td>15</td>\n",
       "      <td>17</td>\n",
       "      <td>...</td>\n",
       "      <td>0</td>\n",
       "      <td>8</td>\n",
       "      <td>10</td>\n",
       "      <td>7</td>\n",
       "      <td>19</td>\n",
       "      <td>2022-01-01 01:30:00</td>\n",
       "      <td>46815.34</td>\n",
       "      <td>46778.14</td>\n",
       "      <td>-0.000795</td>\n",
       "      <td>0</td>\n",
       "    </tr>\n",
       "    <tr>\n",
       "      <th>3</th>\n",
       "      <td>2022-01-01 02:00:00</td>\n",
       "      <td>['2022-01-01 01:30:00', '2022-01-01 01:30:00',...</td>\n",
       "      <td>This year is my year , the year of my progress...</td>\n",
       "      <td>GhorbaniArshiya\\nPopunderTraffic\\nobjectwizard...</td>\n",
       "      <td>0.785896</td>\n",
       "      <td>0.571792</td>\n",
       "      <td>0.334061</td>\n",
       "      <td>0.200349</td>\n",
       "      <td>15</td>\n",
       "      <td>12</td>\n",
       "      <td>...</td>\n",
       "      <td>0</td>\n",
       "      <td>6</td>\n",
       "      <td>3</td>\n",
       "      <td>6</td>\n",
       "      <td>11</td>\n",
       "      <td>2022-01-01 02:00:00</td>\n",
       "      <td>46778.14</td>\n",
       "      <td>46826.01</td>\n",
       "      <td>0.001023</td>\n",
       "      <td>1</td>\n",
       "    </tr>\n",
       "    <tr>\n",
       "      <th>4</th>\n",
       "      <td>2022-01-01 02:30:00</td>\n",
       "      <td>['2022-01-01 02:00:00', '2022-01-01 02:00:00',...</td>\n",
       "      <td>Huobi Singapore would like to wish you a Happy...</td>\n",
       "      <td>HuobiSg\\nAmazonCash4Cars\\nBTC_AI_bot\\nCalvinAy...</td>\n",
       "      <td>0.774167</td>\n",
       "      <td>0.548335</td>\n",
       "      <td>0.403475</td>\n",
       "      <td>0.165008</td>\n",
       "      <td>13</td>\n",
       "      <td>13</td>\n",
       "      <td>...</td>\n",
       "      <td>0</td>\n",
       "      <td>10</td>\n",
       "      <td>5</td>\n",
       "      <td>6</td>\n",
       "      <td>16</td>\n",
       "      <td>2022-01-01 02:30:00</td>\n",
       "      <td>46826.00</td>\n",
       "      <td>46811.77</td>\n",
       "      <td>-0.000304</td>\n",
       "      <td>0</td>\n",
       "    </tr>\n",
       "    <tr>\n",
       "      <th>...</th>\n",
       "      <td>...</td>\n",
       "      <td>...</td>\n",
       "      <td>...</td>\n",
       "      <td>...</td>\n",
       "      <td>...</td>\n",
       "      <td>...</td>\n",
       "      <td>...</td>\n",
       "      <td>...</td>\n",
       "      <td>...</td>\n",
       "      <td>...</td>\n",
       "      <td>...</td>\n",
       "      <td>...</td>\n",
       "      <td>...</td>\n",
       "      <td>...</td>\n",
       "      <td>...</td>\n",
       "      <td>...</td>\n",
       "      <td>...</td>\n",
       "      <td>...</td>\n",
       "      <td>...</td>\n",
       "      <td>...</td>\n",
       "      <td>...</td>\n",
       "    </tr>\n",
       "    <tr>\n",
       "      <th>1483</th>\n",
       "      <td>2022-01-31 22:00:00</td>\n",
       "      <td>['2022-01-31 21:30:00', '2022-01-31 21:30:00',...</td>\n",
       "      <td>#morganstanley calms tempers and minimizes #Bi...</td>\n",
       "      <td>Ricardo04606850\\nTACryptowaves\\ncryptonewsleak...</td>\n",
       "      <td>0.763569</td>\n",
       "      <td>0.527137</td>\n",
       "      <td>0.227818</td>\n",
       "      <td>0.145110</td>\n",
       "      <td>9</td>\n",
       "      <td>10</td>\n",
       "      <td>...</td>\n",
       "      <td>2</td>\n",
       "      <td>27</td>\n",
       "      <td>10</td>\n",
       "      <td>15</td>\n",
       "      <td>7</td>\n",
       "      <td>2022-01-31 22:00:00</td>\n",
       "      <td>38410.09</td>\n",
       "      <td>38547.30</td>\n",
       "      <td>0.003572</td>\n",
       "      <td>1</td>\n",
       "    </tr>\n",
       "    <tr>\n",
       "      <th>1484</th>\n",
       "      <td>2022-01-31 22:30:00</td>\n",
       "      <td>['2022-01-31 22:00:00', '2022-01-31 22:00:00',...</td>\n",
       "      <td>BTC Latest Block Info: Block 721243 holds 2,80...</td>\n",
       "      <td>btc_blockbot\\nM1Seahawk\\nnialljburke\\nmurray_r...</td>\n",
       "      <td>0.803204</td>\n",
       "      <td>0.606408</td>\n",
       "      <td>0.229487</td>\n",
       "      <td>0.144737</td>\n",
       "      <td>11</td>\n",
       "      <td>12</td>\n",
       "      <td>...</td>\n",
       "      <td>0</td>\n",
       "      <td>20</td>\n",
       "      <td>6</td>\n",
       "      <td>11</td>\n",
       "      <td>4</td>\n",
       "      <td>2022-01-31 22:30:00</td>\n",
       "      <td>38547.30</td>\n",
       "      <td>38412.46</td>\n",
       "      <td>-0.003498</td>\n",
       "      <td>0</td>\n",
       "    </tr>\n",
       "    <tr>\n",
       "      <th>1485</th>\n",
       "      <td>2022-01-31 23:00:00</td>\n",
       "      <td>['2022-01-31 22:30:00', '2022-01-31 22:30:00',...</td>\n",
       "      <td>Good move of #Bitcoin today, reversal not conf...</td>\n",
       "      <td>CryptoMichNL\\nIntEngineering\\nKahunaATM\\nMBrae...</td>\n",
       "      <td>0.775618</td>\n",
       "      <td>0.551236</td>\n",
       "      <td>0.206623</td>\n",
       "      <td>0.169323</td>\n",
       "      <td>3</td>\n",
       "      <td>11</td>\n",
       "      <td>...</td>\n",
       "      <td>1</td>\n",
       "      <td>17</td>\n",
       "      <td>4</td>\n",
       "      <td>5</td>\n",
       "      <td>12</td>\n",
       "      <td>2022-01-31 23:00:00</td>\n",
       "      <td>38412.45</td>\n",
       "      <td>38412.23</td>\n",
       "      <td>-0.000006</td>\n",
       "      <td>0</td>\n",
       "    </tr>\n",
       "    <tr>\n",
       "      <th>1486</th>\n",
       "      <td>2022-01-31 23:30:00</td>\n",
       "      <td>['2022-01-31 23:00:00', '2022-01-31 23:00:00',...</td>\n",
       "      <td>Top #Cryptocurrency RANK DOWN (#crypto #bitcoi...</td>\n",
       "      <td>CryptoTopCharts\\nBTC_AI_bot\\ncryptonewsleak\\nt...</td>\n",
       "      <td>0.781215</td>\n",
       "      <td>0.562431</td>\n",
       "      <td>0.270270</td>\n",
       "      <td>0.161486</td>\n",
       "      <td>9</td>\n",
       "      <td>10</td>\n",
       "      <td>...</td>\n",
       "      <td>0</td>\n",
       "      <td>11</td>\n",
       "      <td>10</td>\n",
       "      <td>10</td>\n",
       "      <td>6</td>\n",
       "      <td>2022-01-31 23:30:00</td>\n",
       "      <td>38412.23</td>\n",
       "      <td>38466.90</td>\n",
       "      <td>0.001423</td>\n",
       "      <td>1</td>\n",
       "    </tr>\n",
       "    <tr>\n",
       "      <th>1487</th>\n",
       "      <td>2022-02-01 00:00:00</td>\n",
       "      <td>['2022-01-31 23:30:01', '2022-01-31 23:30:02',...</td>\n",
       "      <td>Bitcoin On Its Way To $500,000? Anthony Scaram...</td>\n",
       "      <td>OutlawBuckeye\\nSifHomes\\nitvc_\\nRaulGlzC\\nTheM...</td>\n",
       "      <td>0.755510</td>\n",
       "      <td>0.511020</td>\n",
       "      <td>0.242021</td>\n",
       "      <td>0.140869</td>\n",
       "      <td>7</td>\n",
       "      <td>9</td>\n",
       "      <td>...</td>\n",
       "      <td>1</td>\n",
       "      <td>15</td>\n",
       "      <td>3</td>\n",
       "      <td>11</td>\n",
       "      <td>18</td>\n",
       "      <td>2022-02-01 00:00:00</td>\n",
       "      <td>38466.90</td>\n",
       "      <td>38439.57</td>\n",
       "      <td>-0.000710</td>\n",
       "      <td>0</td>\n",
       "    </tr>\n",
       "  </tbody>\n",
       "</table>\n",
       "<p>1488 rows × 31 columns</p>\n",
       "</div>"
      ],
      "text/plain": [
       "                 Date_30m                                           datetime  \\\n",
       "0     2022-01-01 00:30:00  ['2022-01-01 00:00:00', '2022-01-01 00:00:00',...   \n",
       "1     2022-01-01 01:00:00  ['2022-01-01 00:30:00', '2022-01-01 00:30:01',...   \n",
       "2     2022-01-01 01:30:00  ['2022-01-01 01:00:00', '2022-01-01 01:00:00',...   \n",
       "3     2022-01-01 02:00:00  ['2022-01-01 01:30:00', '2022-01-01 01:30:00',...   \n",
       "4     2022-01-01 02:30:00  ['2022-01-01 02:00:00', '2022-01-01 02:00:00',...   \n",
       "...                   ...                                                ...   \n",
       "1483  2022-01-31 22:00:00  ['2022-01-31 21:30:00', '2022-01-31 21:30:00',...   \n",
       "1484  2022-01-31 22:30:00  ['2022-01-31 22:00:00', '2022-01-31 22:00:00',...   \n",
       "1485  2022-01-31 23:00:00  ['2022-01-31 22:30:00', '2022-01-31 22:30:00',...   \n",
       "1486  2022-01-31 23:30:00  ['2022-01-31 23:00:00', '2022-01-31 23:00:00',...   \n",
       "1487  2022-02-01 00:00:00  ['2022-01-31 23:30:01', '2022-01-31 23:30:02',...   \n",
       "\n",
       "                                                   text  \\\n",
       "0     Current Price of Bitcoin:\\n$46320 (-1.85%)\\n\\n...   \n",
       "1     “Here's to a bright New Year and a fond farewe...   \n",
       "2     Today's Cryptocurrency Fear And Greed Index: 2...   \n",
       "3     This year is my year , the year of my progress...   \n",
       "4     Huobi Singapore would like to wish you a Happy...   \n",
       "...                                                 ...   \n",
       "1483  #morganstanley calms tempers and minimizes #Bi...   \n",
       "1484  BTC Latest Block Info: Block 721243 holds 2,80...   \n",
       "1485  Good move of #Bitcoin today, reversal not conf...   \n",
       "1486  Top #Cryptocurrency RANK DOWN (#crypto #bitcoi...   \n",
       "1487  Bitcoin On Its Way To $500,000? Anthony Scaram...   \n",
       "\n",
       "                                               username  kk08_pos_score  \\\n",
       "0     CryptoNerdApp\\nTrendSpider\\nMadStudentScie1\\nW...        0.769373   \n",
       "1     bitcoiva\\ncryptozone007\\nlinuxadvocate\\nbakedn...        0.739433   \n",
       "2     FearAndGreedBot\\nOfficialOverbit\\nBTC_AI_bot\\n...        0.768188   \n",
       "3     GhorbaniArshiya\\nPopunderTraffic\\nobjectwizard...        0.785896   \n",
       "4     HuobiSg\\nAmazonCash4Cars\\nBTC_AI_bot\\nCalvinAy...        0.774167   \n",
       "...                                                 ...             ...   \n",
       "1483  Ricardo04606850\\nTACryptowaves\\ncryptonewsleak...        0.763569   \n",
       "1484  btc_blockbot\\nM1Seahawk\\nnialljburke\\nmurray_r...        0.803204   \n",
       "1485  CryptoMichNL\\nIntEngineering\\nKahunaATM\\nMBrae...        0.775618   \n",
       "1486  CryptoTopCharts\\nBTC_AI_bot\\ncryptonewsleak\\nt...        0.781215   \n",
       "1487  OutlawBuckeye\\nSifHomes\\nitvc_\\nRaulGlzC\\nTheM...        0.755510   \n",
       "\n",
       "      kk08_score_diff  Elkulako_label  Sentiment_vader  pred  analysis  ...  \\\n",
       "0            0.538746        0.324930         0.149739    20        46  ...   \n",
       "1            0.478866        0.412354         0.175647    14        26  ...   \n",
       "2            0.536376        0.349835         0.154206    15        17  ...   \n",
       "3            0.571792        0.334061         0.200349    15        12  ...   \n",
       "4            0.548335        0.403475         0.165008    13        13  ...   \n",
       "...               ...             ...              ...   ...       ...  ...   \n",
       "1483         0.527137        0.227818         0.145110     9        10  ...   \n",
       "1484         0.606408        0.229487         0.144737    11        12  ...   \n",
       "1485         0.551236        0.206623         0.169323     3        11  ...   \n",
       "1486         0.562431        0.270270         0.161486     9        10  ...   \n",
       "1487         0.511020        0.242021         0.140869     7         9  ...   \n",
       "\n",
       "      collapse  ATH  grow  rise  fall                 date      open  \\\n",
       "0            1   17     7    13    42  2022-01-01 00:30:00  46375.42   \n",
       "1            1   11     3     7    23  2022-01-01 01:00:00  46656.14   \n",
       "2            0    8    10     7    19  2022-01-01 01:30:00  46815.34   \n",
       "3            0    6     3     6    11  2022-01-01 02:00:00  46778.14   \n",
       "4            0   10     5     6    16  2022-01-01 02:30:00  46826.00   \n",
       "...        ...  ...   ...   ...   ...                  ...       ...   \n",
       "1483         2   27    10    15     7  2022-01-31 22:00:00  38410.09   \n",
       "1484         0   20     6    11     4  2022-01-31 22:30:00  38547.30   \n",
       "1485         1   17     4     5    12  2022-01-31 23:00:00  38412.45   \n",
       "1486         0   11    10    10     6  2022-01-31 23:30:00  38412.23   \n",
       "1487         1   15     3    11    18  2022-02-01 00:00:00  38466.90   \n",
       "\n",
       "         close    Return  Return_sign  \n",
       "0     46656.13  0.006053            1  \n",
       "1     46815.33  0.003412            1  \n",
       "2     46778.14 -0.000795            0  \n",
       "3     46826.01  0.001023            1  \n",
       "4     46811.77 -0.000304            0  \n",
       "...        ...       ...          ...  \n",
       "1483  38547.30  0.003572            1  \n",
       "1484  38412.46 -0.003498            0  \n",
       "1485  38412.23 -0.000006            0  \n",
       "1486  38466.90  0.001423            1  \n",
       "1487  38439.57 -0.000710            0  \n",
       "\n",
       "[1488 rows x 31 columns]"
      ]
     },
     "execution_count": 2,
     "metadata": {},
     "output_type": "execute_result"
    }
   ],
   "source": [
    "df"
   ]
  },
  {
   "cell_type": "code",
   "execution_count": null,
   "metadata": {},
   "outputs": [],
   "source": []
  },
  {
   "cell_type": "markdown",
   "metadata": {},
   "source": [
    "# Cross-validation"
   ]
  },
  {
   "cell_type": "code",
   "execution_count": 3,
   "metadata": {},
   "outputs": [],
   "source": [
    "from sklearn.model_selection import GridSearchCV\n",
    "from sklearn.metrics import accuracy_score, roc_auc_score, f1_score\n",
    "from sklearn.model_selection import TimeSeriesSplit\n",
    "from sklearn.preprocessing import MinMaxScaler\n",
    "from copy import deepcopy\n",
    "import pandas as pd\n",
    "\n",
    "def cv_and_predict_valid(\n",
    "    df_x,\n",
    "    df_y,\n",
    "    model,\n",
    "    train_share=0.9,\n",
    "    tree = False,\n",
    "    grid_search=False,\n",
    "    grid_parameters=None\n",
    "):\n",
    "    \n",
    "    feature_importances = []\n",
    "\n",
    "    split_index = int(train_share * len(df_x)) \n",
    "    X_train, X_valid = df_x[:split_index], df_x[split_index:]\n",
    "    y_train, y_valid = df_y[:split_index], df_y[split_index:]\n",
    "    \n",
    "    \n",
    "    # if scaler:\n",
    "    #     scaler = MinMaxScaler()\n",
    "    #     X_train[\"kk08_pos_score\"] = scaler.fit_transform(X_train[[\"kk08_pos_score\"]])   \n",
    "    #     X_valid[\"kk08_pos_score\"] = scaler.transform(X_valid[[\"kk08_pos_score\"]]) \n",
    "\n",
    "\n",
    "    if grid_search and grid_parameters:\n",
    "        grid_search_cv = GridSearchCV(\n",
    "            estimator=model,\n",
    "            param_grid=grid_parameters,\n",
    "            cv=TimeSeriesSplit(n_splits=5),  \n",
    "            scoring=\"balanced_accuracy\",  \n",
    "            n_jobs=-1        \n",
    "        )\n",
    "        grid_search_cv.fit(X_train, y_train)\n",
    "        print(grid_search_cv.best_estimator_)\n",
    "        model = grid_search_cv.best_estimator_  \n",
    "        print(f\"Best parameters from grid search: {grid_search_cv.best_params_}\")\n",
    "    else:\n",
    "        model = deepcopy(model)\n",
    "        model.fit(X_train, y_train)\n",
    "    \n",
    "\n",
    "    if tree:\n",
    "        feature_importances = model.feature_importances_\n",
    "\n",
    "    \n",
    "    predictions = model.predict(X_valid)\n",
    "    accuracy = accuracy_score(y_valid, predictions)\n",
    "    roc_auc = roc_auc_score(y_valid, predictions)\n",
    "    f1 = f1_score(y_valid, predictions)\n",
    "\n",
    "    \n",
    "    pred_df = pd.DataFrame()\n",
    "    pred_df[\"target\"] = y_valid\n",
    "    pred_df[\"prediction\"] = predictions\n",
    "\n",
    "    \n",
    "    print(f\"Accuracy: {accuracy}\")\n",
    "    print(f\"ROC-AUC: {roc_auc}\")\n",
    "    print(f\"F1-score: {f1}\")\n",
    "\n",
    "    return pred_df, accuracy, roc_auc, f1, feature_importances\n"
   ]
  },
  {
   "cell_type": "markdown",
   "metadata": {},
   "source": [
    "# Only kk08"
   ]
  },
  {
   "cell_type": "code",
   "execution_count": 4,
   "metadata": {},
   "outputs": [],
   "source": [
    "df_x_1 = df[[\"kk08_pos_score\"]]\n",
    "df_y = df[\"Return_sign\"]"
   ]
  },
  {
   "cell_type": "code",
   "execution_count": 5,
   "metadata": {},
   "outputs": [],
   "source": [
    "train_share = 0.85\n",
    "df_x_1_train = df_x_1.iloc[:int(len(df_x_1)*train_share)].reset_index(drop=True)\n",
    "df_y_train = df_y.iloc[:int(len(df_x_1)*train_share)].reset_index(drop=True)\n",
    "\n",
    "df_x_1_test = df_x_1.iloc[int(len(df_x_1)*train_share):].reset_index(drop=True)\n",
    "df_y_test = df_y.iloc[int(len(df_x_1)*train_share):].reset_index(drop=True)"
   ]
  },
  {
   "cell_type": "code",
   "execution_count": 6,
   "metadata": {},
   "outputs": [
    {
     "data": {
      "text/plain": [
       "0.53125"
      ]
     },
     "execution_count": 6,
     "metadata": {},
     "output_type": "execute_result"
    }
   ],
   "source": [
    "sum(df_y_test)/len(df_y_test)"
   ]
  },
  {
   "cell_type": "code",
   "execution_count": 7,
   "metadata": {},
   "outputs": [
    {
     "name": "stdout",
     "output_type": "stream",
     "text": [
      "Accuracy: 0.4566929133858268\n",
      "ROC-AUC: 0.5\n",
      "F1-score: 0.0\n"
     ]
    }
   ],
   "source": [
    "from sklearn.dummy import DummyClassifier\n",
    "dummy_model = DummyClassifier(strategy='most_frequent')\n",
    "dummy_pred, dummy_acc, dummy_roc_auc,dummy_f1, dummy_feat_imp= cv_and_predict_valid(df_x_1_train,df_y_train,dummy_model)\n"
   ]
  },
  {
   "cell_type": "code",
   "execution_count": 8,
   "metadata": {},
   "outputs": [
    {
     "name": "stdout",
     "output_type": "stream",
     "text": [
      "Accuracy: 0.46875\n",
      "ROC-AUC: 0.5\n",
      "F1-score: 0.0\n"
     ]
    }
   ],
   "source": [
    "# testing\n",
    "dummy_model.fit(df_x_1_train, df_y_train)\n",
    "predictions = dummy_model.predict(df_x_1_test)\n",
    "accuracy = accuracy_score(df_y_test, predictions)\n",
    "roc_auc = roc_auc_score(df_y_test, predictions)\n",
    "f1 = f1_score(df_y_test, predictions)\n",
    "    \n",
    "print(f\"Accuracy: {accuracy}\")\n",
    "print(f\"ROC-AUC: {roc_auc}\")\n",
    "print(f\"F1-score: {f1}\")\n"
   ]
  },
  {
   "cell_type": "code",
   "execution_count": 9,
   "metadata": {},
   "outputs": [
    {
     "name": "stdout",
     "output_type": "stream",
     "text": [
      "RandomForestClassifier(n_estimators=50, random_state=17)\n",
      "Best parameters from grid search: {'max_depth': None, 'min_samples_leaf': 1, 'n_estimators': 50}\n",
      "Accuracy: 0.4251968503937008\n",
      "ROC-AUC: 0.4407796101949026\n",
      "F1-score: 0.3302752293577982\n"
     ]
    }
   ],
   "source": [
    "from sklearn.ensemble import RandomForestClassifier\n",
    "# Random Forest\n",
    "grid_params = {\n",
    "    'n_estimators': [10, 30, 50, 100, 200],\n",
    "    'max_depth': [3, 5, None],\n",
    "    'min_samples_leaf': [1, 5, 10]}\n",
    "rf_model = RandomForestClassifier(random_state=17)\n",
    "rf_pred, rf_acc, rf_roc_auc,rf_f1, rf_feat_imp = cv_and_predict_valid(df_x_1_train,df_y_train, rf_model, tree = True, grid_search=True, grid_parameters=grid_params)"
   ]
  },
  {
   "cell_type": "code",
   "execution_count": 10,
   "metadata": {},
   "outputs": [
    {
     "name": "stdout",
     "output_type": "stream",
     "text": [
      "Accuracy: 0.5133928571428571\n",
      "ROC-AUC: 0.5134453781512605\n",
      "F1-score: 0.5281385281385281\n"
     ]
    }
   ],
   "source": [
    "# testing\n",
    "model = RandomForestClassifier(n_estimators=50,random_state=17)\n",
    "model.fit(df_x_1_train, df_y_train)\n",
    "predictions = model.predict(df_x_1_test)\n",
    "accuracy = accuracy_score(df_y_test, predictions)\n",
    "roc_auc = roc_auc_score(df_y_test, predictions)\n",
    "f1 = f1_score(df_y_test, predictions)\n",
    "    \n",
    "print(f\"Accuracy: {accuracy}\")\n",
    "print(f\"ROC-AUC: {roc_auc}\")\n",
    "print(f\"F1-score: {f1}\")"
   ]
  },
  {
   "cell_type": "code",
   "execution_count": 11,
   "metadata": {},
   "outputs": [
    {
     "name": "stdout",
     "output_type": "stream",
     "text": [
      "XGBClassifier(base_score=None, booster=None, callbacks=None,\n",
      "              colsample_bylevel=None, colsample_bynode=None,\n",
      "              colsample_bytree=None, device=None, early_stopping_rounds=None,\n",
      "              enable_categorical=False, eval_metric=None, feature_types=None,\n",
      "              gamma=None, grow_policy=None, importance_type=None,\n",
      "              interaction_constraints=None, learning_rate=None, max_bin=None,\n",
      "              max_cat_threshold=None, max_cat_to_onehot=None,\n",
      "              max_delta_step=None, max_depth=3, max_leaves=None,\n",
      "              min_child_weight=None, missing=nan, monotone_constraints=None,\n",
      "              multi_strategy=None, n_estimators=20, n_jobs=None,\n",
      "              num_parallel_tree=None, random_state=17, ...)\n",
      "Best parameters from grid search: {'max_depth': 3, 'n_estimators': 20}\n",
      "Accuracy: 0.48031496062992124\n",
      "ROC-AUC: 0.49700149925037485\n",
      "F1-score: 0.3888888888888889\n"
     ]
    }
   ],
   "source": [
    "from xgboost import XGBClassifier\n",
    "# XGBoost\n",
    "grid_params = {'n_estimators': [5, 10, 20, 30, 50, 100, 300, 500],\"max_depth\": [1,2,3,6]}\n",
    "xgb_model = XGBClassifier(random_state=17)\n",
    "xgb_pred, xgb_acc, xgb_roc_auc,xgb_f1, xgb_feat_imp = cv_and_predict_valid(df_x_1_train,df_y_train, xgb_model, tree = True, grid_search=True, grid_parameters=grid_params)"
   ]
  },
  {
   "cell_type": "code",
   "execution_count": 12,
   "metadata": {},
   "outputs": [
    {
     "name": "stdout",
     "output_type": "stream",
     "text": [
      "Accuracy: 0.39285714285714285\n",
      "ROC-AUC: 0.403921568627451\n",
      "F1-score: 0.28421052631578947\n"
     ]
    }
   ],
   "source": [
    "# testing\n",
    "model = XGBClassifier(max_depth=3, n_estimators=20, random_state=17)\n",
    "model.fit(df_x_1_train, df_y_train)\n",
    "predictions = model.predict(df_x_1_test)\n",
    "accuracy = accuracy_score(df_y_test, predictions)\n",
    "roc_auc = roc_auc_score(df_y_test, predictions)\n",
    "f1 = f1_score(df_y_test, predictions)\n",
    "    \n",
    "print(f\"Accuracy: {accuracy}\")\n",
    "print(f\"ROC-AUC: {roc_auc}\")\n",
    "print(f\"F1-score: {f1}\")"
   ]
  },
  {
   "cell_type": "code",
   "execution_count": 13,
   "metadata": {},
   "outputs": [
    {
     "name": "stdout",
     "output_type": "stream",
     "text": [
      "SVC(C=2, class_weight='balanced', gamma=1, kernel='poly')\n",
      "Best parameters from grid search: {'C': 2, 'class_weight': 'balanced', 'gamma': 1, 'kernel': 'poly'}\n",
      "Accuracy: 0.5511811023622047\n",
      "ROC-AUC: 0.5086206896551724\n",
      "F1-score: 0.7076923076923077\n"
     ]
    }
   ],
   "source": [
    "from sklearn.svm import SVC\n",
    "# SVM\n",
    "grid_params = {'C': [0.1, 0.3, 0.7, 1, 2],  'kernel': ['poly', 'rbf'], 'gamma': [1, 0.1, 0.01], 'class_weight': ['balanced', None]}\n",
    "svm_model = SVC()\n",
    "svm_pred, svm_acc, svm_roc_auc,svm_f1, svm_feat_imp = cv_and_predict_valid(df_x_1_train,df_y_train, svm_model, grid_search=True, grid_parameters=grid_params)"
   ]
  },
  {
   "cell_type": "code",
   "execution_count": 14,
   "metadata": {},
   "outputs": [
    {
     "name": "stdout",
     "output_type": "stream",
     "text": [
      "Accuracy: 0.53125\n",
      "ROC-AUC: 0.5\n",
      "F1-score: 0.6938775510204082\n"
     ]
    }
   ],
   "source": [
    "# testing\n",
    "model = SVC(C=2, class_weight='balanced', gamma=1, kernel='poly')\n",
    "model.fit(df_x_1_train, df_y_train)\n",
    "predictions = model.predict(df_x_1_test)\n",
    "accuracy = accuracy_score(df_y_test, predictions)\n",
    "roc_auc = roc_auc_score(df_y_test, predictions)\n",
    "f1 = f1_score(df_y_test, predictions)\n",
    "    \n",
    "print(f\"Accuracy: {accuracy}\")\n",
    "print(f\"ROC-AUC: {roc_auc}\")\n",
    "print(f\"F1-score: {f1}\")"
   ]
  },
  {
   "cell_type": "code",
   "execution_count": 15,
   "metadata": {},
   "outputs": [
    {
     "name": "stderr",
     "output_type": "stream",
     "text": [
      "c:\\Users\\isaen\\AppData\\Local\\Programs\\Python\\Python312\\Lib\\site-packages\\sklearn\\ensemble\\_weight_boosting.py:519: FutureWarning: The SAMME.R algorithm (the default) is deprecated and will be removed in 1.6. Use the SAMME algorithm to circumvent this warning.\n",
      "  warnings.warn(\n"
     ]
    },
    {
     "name": "stdout",
     "output_type": "stream",
     "text": [
      "AdaBoostClassifier(learning_rate=1, n_estimators=100)\n",
      "Best parameters from grid search: {'learning_rate': 1, 'n_estimators': 100}\n",
      "Accuracy: 0.4881889763779528\n",
      "ROC-AUC: 0.5028735632183908\n",
      "F1-score: 0.4144144144144144\n"
     ]
    }
   ],
   "source": [
    "from sklearn.ensemble import AdaBoostClassifier\n",
    "grid_params = {'n_estimators': [5, 10, 20, 30, 50, 100, 300, 500], 'learning_rate':[0.1, 0.3, 0.5, 1]}\n",
    "ada_model = AdaBoostClassifier()\n",
    "ada_pred, ada_acc, ada_roc_auc,ada_f1, ada_feat_imp = cv_and_predict_valid(df_x_1_train,df_y_train, ada_model, tree = True, grid_search=True, grid_parameters = grid_params)\n"
   ]
  },
  {
   "cell_type": "code",
   "execution_count": 16,
   "metadata": {},
   "outputs": [
    {
     "name": "stderr",
     "output_type": "stream",
     "text": [
      "c:\\Users\\isaen\\AppData\\Local\\Programs\\Python\\Python312\\Lib\\site-packages\\sklearn\\ensemble\\_weight_boosting.py:519: FutureWarning: The SAMME.R algorithm (the default) is deprecated and will be removed in 1.6. Use the SAMME algorithm to circumvent this warning.\n",
      "  warnings.warn(\n"
     ]
    },
    {
     "name": "stdout",
     "output_type": "stream",
     "text": [
      "Accuracy: 0.42410714285714285\n",
      "ROC-AUC: 0.4394957983193277\n",
      "F1-score: 0.26285714285714284\n"
     ]
    }
   ],
   "source": [
    "# testing\n",
    "model = AdaBoostClassifier(learning_rate=1, n_estimators=100)\n",
    "model.fit(df_x_1_train, df_y_train)\n",
    "predictions = model.predict(df_x_1_test)\n",
    "accuracy = accuracy_score(df_y_test, predictions)\n",
    "roc_auc = roc_auc_score(df_y_test, predictions)\n",
    "f1 = f1_score(df_y_test, predictions)\n",
    "    \n",
    "print(f\"Accuracy: {accuracy}\")\n",
    "print(f\"ROC-AUC: {roc_auc}\")\n",
    "print(f\"F1-score: {f1}\")"
   ]
  },
  {
   "cell_type": "code",
   "execution_count": 17,
   "metadata": {},
   "outputs": [
    {
     "name": "stdout",
     "output_type": "stream",
     "text": [
      "Accuracy: 0.4409448818897638\n",
      "ROC-AUC: 0.44565217391304346\n",
      "F1-score: 0.432\n"
     ]
    }
   ],
   "source": [
    "from sklearn.naive_bayes import GaussianNB\n",
    "nb_model = GaussianNB()\n",
    "nb_pred, nb_acc, nb_roc_auc,nb_f1, nb_feat_imp = cv_and_predict_valid(df_x_1_train,df_y_train, nb_model)\n"
   ]
  },
  {
   "cell_type": "code",
   "execution_count": 18,
   "metadata": {},
   "outputs": [
    {
     "name": "stdout",
     "output_type": "stream",
     "text": [
      "Accuracy: 0.45535714285714285\n",
      "ROC-AUC: 0.4521008403361345\n",
      "F1-score: 0.49586776859504134\n"
     ]
    }
   ],
   "source": [
    "# testing\n",
    "model = GaussianNB()\n",
    "model.fit(df_x_1_train, df_y_train)\n",
    "predictions = model.predict(df_x_1_test)\n",
    "accuracy = accuracy_score(df_y_test, predictions)\n",
    "roc_auc = roc_auc_score(df_y_test, predictions)\n",
    "f1 = f1_score(df_y_test, predictions)\n",
    "    \n",
    "print(f\"Accuracy: {accuracy}\")\n",
    "print(f\"ROC-AUC: {roc_auc}\")\n",
    "print(f\"F1-score: {f1}\")"
   ]
  },
  {
   "cell_type": "code",
   "execution_count": 19,
   "metadata": {},
   "outputs": [
    {
     "name": "stdout",
     "output_type": "stream",
     "text": [
      "LogisticRegression(C=1)\n",
      "Best parameters from grid search: {'C': 1, 'penalty': 'l2'}\n",
      "Accuracy: 0.4566929133858268\n",
      "ROC-AUC: 0.5\n",
      "F1-score: 0.0\n"
     ]
    }
   ],
   "source": [
    "from sklearn.linear_model import LogisticRegression\n",
    "grid_params = {\n",
    "    'C': [0.01, 0.1, 1],           \n",
    "    'penalty': ['l2']  \n",
    "}\n",
    "lr_model = LogisticRegression()\n",
    "lr_pred, lr_acc, lr_roc_auc,lr_f1, lr_feat_imp = cv_and_predict_valid(df_x_1_train,df_y_train, lr_model, grid_search=True, grid_parameters=grid_params)\n"
   ]
  },
  {
   "cell_type": "code",
   "execution_count": 20,
   "metadata": {},
   "outputs": [
    {
     "name": "stdout",
     "output_type": "stream",
     "text": [
      "Accuracy: 0.4732142857142857\n",
      "ROC-AUC: 0.5042016806722689\n",
      "F1-score: 0.016666666666666666\n"
     ]
    }
   ],
   "source": [
    "# testing\n",
    "model = LogisticRegression(C=1)\n",
    "model.fit(df_x_1_train, df_y_train)\n",
    "predictions = model.predict(df_x_1_test)\n",
    "accuracy = accuracy_score(df_y_test, predictions)\n",
    "roc_auc = roc_auc_score(df_y_test, predictions)\n",
    "f1 = f1_score(df_y_test, predictions)\n",
    "    \n",
    "print(f\"Accuracy: {accuracy}\")\n",
    "print(f\"ROC-AUC: {roc_auc}\")\n",
    "print(f\"F1-score: {f1}\")"
   ]
  },
  {
   "cell_type": "code",
   "execution_count": 21,
   "metadata": {},
   "outputs": [
    {
     "name": "stdout",
     "output_type": "stream",
     "text": [
      "KNeighborsClassifier(n_neighbors=1)\n",
      "Best parameters from grid search: {'n_neighbors': 1}\n",
      "Accuracy: 0.4251968503937008\n",
      "ROC-AUC: 0.4421539230384808\n",
      "F1-score: 0.3177570093457944\n"
     ]
    }
   ],
   "source": [
    "from sklearn.neighbors import KNeighborsClassifier\n",
    "grid_params = {'n_neighbors': [1, 2, 3, 4, 5,6,7,8,9,10,15]}\n",
    "knn_model = KNeighborsClassifier()\n",
    "knn_pred, knn_acc, knn_roc_auc,knn_f1, knn_feat_imp = cv_and_predict_valid(df_x_1_train,df_y_train, knn_model, grid_search=True, grid_parameters=grid_params)\n",
    "# meaningless\n"
   ]
  },
  {
   "cell_type": "code",
   "execution_count": 22,
   "metadata": {},
   "outputs": [
    {
     "name": "stdout",
     "output_type": "stream",
     "text": [
      "Accuracy: 0.4251968503937008\n",
      "ROC-AUC: 0.4311594202898551\n",
      "F1-score: 0.4065040650406504\n"
     ]
    }
   ],
   "source": [
    "knn_model = KNeighborsClassifier(n_neighbors=7)\n",
    "knn_pred, knn_acc, knn_roc_auc,knn_f1, knn_feat_imp = cv_and_predict_valid(df_x_1_train,df_y_train, knn_model)"
   ]
  },
  {
   "cell_type": "code",
   "execution_count": 23,
   "metadata": {},
   "outputs": [
    {
     "name": "stdout",
     "output_type": "stream",
     "text": [
      "Accuracy: 0.4330357142857143\n",
      "ROC-AUC: 0.43949579831932784\n",
      "F1-score: 0.3864734299516908\n"
     ]
    }
   ],
   "source": [
    "# testing\n",
    "model = KNeighborsClassifier(n_neighbors=7)\n",
    "model.fit(df_x_1_train, df_y_train)\n",
    "predictions = model.predict(df_x_1_test)\n",
    "accuracy = accuracy_score(df_y_test, predictions)\n",
    "roc_auc = roc_auc_score(df_y_test, predictions)\n",
    "f1 = f1_score(df_y_test, predictions)\n",
    "    \n",
    "print(f\"Accuracy: {accuracy}\")\n",
    "print(f\"ROC-AUC: {roc_auc}\")\n",
    "print(f\"F1-score: {f1}\")"
   ]
  },
  {
   "cell_type": "markdown",
   "metadata": {},
   "source": [
    "# kk08 with lags"
   ]
  },
  {
   "cell_type": "code",
   "execution_count": 24,
   "metadata": {},
   "outputs": [],
   "source": [
    "df['kk08_pos_score_lag1']=df['kk08_pos_score'].shift(1)\n",
    "df['kk08_pos_score_lag2']=df['kk08_pos_score'].shift(2)\n",
    "df['kk08_pos_score_lag3']=df['kk08_pos_score'].shift(3)\n"
   ]
  },
  {
   "cell_type": "code",
   "execution_count": 25,
   "metadata": {},
   "outputs": [],
   "source": [
    "df_x_2 = df.dropna().reset_index(drop=True)[[\"kk08_pos_score\", \"kk08_pos_score_lag1\", \"kk08_pos_score_lag2\", \"kk08_pos_score_lag3\"]]\n",
    "df_y_2 = df[\"Return_sign\"].iloc[3:].reset_index(drop=True)"
   ]
  },
  {
   "cell_type": "code",
   "execution_count": 26,
   "metadata": {},
   "outputs": [
    {
     "data": {
      "text/html": [
       "<div>\n",
       "<style scoped>\n",
       "    .dataframe tbody tr th:only-of-type {\n",
       "        vertical-align: middle;\n",
       "    }\n",
       "\n",
       "    .dataframe tbody tr th {\n",
       "        vertical-align: top;\n",
       "    }\n",
       "\n",
       "    .dataframe thead th {\n",
       "        text-align: right;\n",
       "    }\n",
       "</style>\n",
       "<table border=\"1\" class=\"dataframe\">\n",
       "  <thead>\n",
       "    <tr style=\"text-align: right;\">\n",
       "      <th></th>\n",
       "      <th>kk08_pos_score</th>\n",
       "      <th>kk08_pos_score_lag1</th>\n",
       "      <th>kk08_pos_score_lag2</th>\n",
       "      <th>kk08_pos_score_lag3</th>\n",
       "    </tr>\n",
       "  </thead>\n",
       "  <tbody>\n",
       "    <tr>\n",
       "      <th>0</th>\n",
       "      <td>0.785896</td>\n",
       "      <td>0.768188</td>\n",
       "      <td>0.739433</td>\n",
       "      <td>0.769373</td>\n",
       "    </tr>\n",
       "    <tr>\n",
       "      <th>1</th>\n",
       "      <td>0.774167</td>\n",
       "      <td>0.785896</td>\n",
       "      <td>0.768188</td>\n",
       "      <td>0.739433</td>\n",
       "    </tr>\n",
       "    <tr>\n",
       "      <th>2</th>\n",
       "      <td>0.771805</td>\n",
       "      <td>0.774167</td>\n",
       "      <td>0.785896</td>\n",
       "      <td>0.768188</td>\n",
       "    </tr>\n",
       "    <tr>\n",
       "      <th>3</th>\n",
       "      <td>0.758940</td>\n",
       "      <td>0.771805</td>\n",
       "      <td>0.774167</td>\n",
       "      <td>0.785896</td>\n",
       "    </tr>\n",
       "    <tr>\n",
       "      <th>4</th>\n",
       "      <td>0.762820</td>\n",
       "      <td>0.758940</td>\n",
       "      <td>0.771805</td>\n",
       "      <td>0.774167</td>\n",
       "    </tr>\n",
       "    <tr>\n",
       "      <th>...</th>\n",
       "      <td>...</td>\n",
       "      <td>...</td>\n",
       "      <td>...</td>\n",
       "      <td>...</td>\n",
       "    </tr>\n",
       "    <tr>\n",
       "      <th>1480</th>\n",
       "      <td>0.763569</td>\n",
       "      <td>0.766771</td>\n",
       "      <td>0.758002</td>\n",
       "      <td>0.762439</td>\n",
       "    </tr>\n",
       "    <tr>\n",
       "      <th>1481</th>\n",
       "      <td>0.803204</td>\n",
       "      <td>0.763569</td>\n",
       "      <td>0.766771</td>\n",
       "      <td>0.758002</td>\n",
       "    </tr>\n",
       "    <tr>\n",
       "      <th>1482</th>\n",
       "      <td>0.775618</td>\n",
       "      <td>0.803204</td>\n",
       "      <td>0.763569</td>\n",
       "      <td>0.766771</td>\n",
       "    </tr>\n",
       "    <tr>\n",
       "      <th>1483</th>\n",
       "      <td>0.781215</td>\n",
       "      <td>0.775618</td>\n",
       "      <td>0.803204</td>\n",
       "      <td>0.763569</td>\n",
       "    </tr>\n",
       "    <tr>\n",
       "      <th>1484</th>\n",
       "      <td>0.755510</td>\n",
       "      <td>0.781215</td>\n",
       "      <td>0.775618</td>\n",
       "      <td>0.803204</td>\n",
       "    </tr>\n",
       "  </tbody>\n",
       "</table>\n",
       "<p>1485 rows × 4 columns</p>\n",
       "</div>"
      ],
      "text/plain": [
       "      kk08_pos_score  kk08_pos_score_lag1  kk08_pos_score_lag2  \\\n",
       "0           0.785896             0.768188             0.739433   \n",
       "1           0.774167             0.785896             0.768188   \n",
       "2           0.771805             0.774167             0.785896   \n",
       "3           0.758940             0.771805             0.774167   \n",
       "4           0.762820             0.758940             0.771805   \n",
       "...              ...                  ...                  ...   \n",
       "1480        0.763569             0.766771             0.758002   \n",
       "1481        0.803204             0.763569             0.766771   \n",
       "1482        0.775618             0.803204             0.763569   \n",
       "1483        0.781215             0.775618             0.803204   \n",
       "1484        0.755510             0.781215             0.775618   \n",
       "\n",
       "      kk08_pos_score_lag3  \n",
       "0                0.769373  \n",
       "1                0.739433  \n",
       "2                0.768188  \n",
       "3                0.785896  \n",
       "4                0.774167  \n",
       "...                   ...  \n",
       "1480             0.762439  \n",
       "1481             0.758002  \n",
       "1482             0.766771  \n",
       "1483             0.763569  \n",
       "1484             0.803204  \n",
       "\n",
       "[1485 rows x 4 columns]"
      ]
     },
     "execution_count": 26,
     "metadata": {},
     "output_type": "execute_result"
    }
   ],
   "source": [
    "df_x_2"
   ]
  },
  {
   "cell_type": "code",
   "execution_count": 27,
   "metadata": {},
   "outputs": [
    {
     "data": {
      "text/plain": [
       "0       1\n",
       "1       0\n",
       "2       0\n",
       "3       1\n",
       "4       0\n",
       "       ..\n",
       "1480    1\n",
       "1481    0\n",
       "1482    0\n",
       "1483    1\n",
       "1484    0\n",
       "Name: Return_sign, Length: 1485, dtype: int64"
      ]
     },
     "execution_count": 27,
     "metadata": {},
     "output_type": "execute_result"
    }
   ],
   "source": [
    "df_y_2"
   ]
  },
  {
   "cell_type": "code",
   "execution_count": 28,
   "metadata": {},
   "outputs": [],
   "source": [
    "train_share = 0.85\n",
    "df_x_2_train = df_x_2.iloc[:int(len(df_x_2)*train_share)].reset_index(drop=True)\n",
    "df_y_2_train = df_y_2.iloc[:int(len(df_x_2)*train_share)].reset_index(drop=True)\n",
    "\n",
    "df_x_2_test = df_x_2.iloc[int(len(df_x_2)*train_share):].reset_index(drop=True)\n",
    "df_y_2_test = df_y_2.iloc[int(len(df_x_2)*train_share):].reset_index(drop=True)"
   ]
  },
  {
   "cell_type": "code",
   "execution_count": 29,
   "metadata": {},
   "outputs": [
    {
     "name": "stdout",
     "output_type": "stream",
     "text": [
      "Accuracy: 0.4566929133858268\n",
      "ROC-AUC: 0.5\n",
      "F1-score: 0.0\n"
     ]
    }
   ],
   "source": [
    "from sklearn.dummy import DummyClassifier\n",
    "dummy_model = DummyClassifier(strategy='most_frequent')\n",
    "dummy_pred, dummy_acc, dummy_roc_auc,dummy_f1, dummy_feat_imp= cv_and_predict_valid(df_x_2_train,df_y_2_train,dummy_model)\n"
   ]
  },
  {
   "cell_type": "code",
   "execution_count": 30,
   "metadata": {},
   "outputs": [
    {
     "name": "stdout",
     "output_type": "stream",
     "text": [
      "Accuracy: 0.47085201793721976\n",
      "ROC-AUC: 0.5\n",
      "F1-score: 0.0\n"
     ]
    }
   ],
   "source": [
    "# testing\n",
    "dummy_model.fit(df_x_2_train, df_y_2_train)\n",
    "predictions = dummy_model.predict(df_x_2_test)\n",
    "accuracy = accuracy_score(df_y_2_test, predictions)\n",
    "roc_auc = roc_auc_score(df_y_2_test, predictions)\n",
    "f1 = f1_score(df_y_2_test, predictions)\n",
    "    \n",
    "print(f\"Accuracy: {accuracy}\")\n",
    "print(f\"ROC-AUC: {roc_auc}\")\n",
    "print(f\"F1-score: {f1}\")\n"
   ]
  },
  {
   "cell_type": "code",
   "execution_count": 31,
   "metadata": {},
   "outputs": [
    {
     "name": "stdout",
     "output_type": "stream",
     "text": [
      "RandomForestClassifier(max_depth=3, min_samples_leaf=5, n_estimators=200,\n",
      "                       random_state=17)\n",
      "Best parameters from grid search: {'max_depth': 3, 'min_samples_leaf': 5, 'n_estimators': 200}\n",
      "Accuracy: 0.5039370078740157\n",
      "ROC-AUC: 0.5393553223388305\n",
      "F1-score: 0.2222222222222222\n"
     ]
    }
   ],
   "source": [
    "from sklearn.ensemble import RandomForestClassifier\n",
    "# Random Forest\n",
    "grid_params = {\n",
    "    'n_estimators': [10, 30, 50, 100, 200],\n",
    "    'max_depth': [3, 5, None],\n",
    "    'min_samples_leaf': [1, 5, 10]}\n",
    "rf_model = RandomForestClassifier(random_state=17)\n",
    "rf_pred, rf_acc, rf_roc_auc,rf_f1, rf_feat_imp = cv_and_predict_valid(df_x_2_train,df_y_2_train, rf_model, tree = True, grid_search=True, grid_parameters=grid_params)"
   ]
  },
  {
   "cell_type": "code",
   "execution_count": 32,
   "metadata": {},
   "outputs": [
    {
     "name": "stdout",
     "output_type": "stream",
     "text": [
      "Accuracy: 0.4798206278026906\n",
      "ROC-AUC: 0.48958837772397096\n",
      "F1-score: 0.3958333333333333\n"
     ]
    }
   ],
   "source": [
    "# testing\n",
    "model = RandomForestClassifier(max_depth=3, min_samples_leaf=5, n_estimators=200,\n",
    "                       random_state=17)\n",
    "\n",
    "model.fit(df_x_2_train, df_y_2_train)\n",
    "predictions = model.predict(df_x_2_test)\n",
    "accuracy = accuracy_score(df_y_2_test, predictions)\n",
    "roc_auc = roc_auc_score(df_y_2_test, predictions)\n",
    "f1 = f1_score(df_y_2_test, predictions)\n",
    "    \n",
    "print(f\"Accuracy: {accuracy}\")\n",
    "print(f\"ROC-AUC: {roc_auc}\")\n",
    "print(f\"F1-score: {f1}\")"
   ]
  },
  {
   "cell_type": "code",
   "execution_count": 33,
   "metadata": {},
   "outputs": [
    {
     "name": "stdout",
     "output_type": "stream",
     "text": [
      "XGBClassifier(base_score=None, booster=None, callbacks=None,\n",
      "              colsample_bylevel=None, colsample_bynode=None,\n",
      "              colsample_bytree=None, device=None, early_stopping_rounds=None,\n",
      "              enable_categorical=False, eval_metric=None, feature_types=None,\n",
      "              gamma=None, grow_policy=None, importance_type=None,\n",
      "              interaction_constraints=None, learning_rate=None, max_bin=None,\n",
      "              max_cat_threshold=None, max_cat_to_onehot=None,\n",
      "              max_delta_step=None, max_depth=1, max_leaves=None,\n",
      "              min_child_weight=None, missing=nan, monotone_constraints=None,\n",
      "              multi_strategy=None, n_estimators=20, n_jobs=None,\n",
      "              num_parallel_tree=None, random_state=17, ...)\n",
      "Best parameters from grid search: {'max_depth': 1, 'n_estimators': 20}\n",
      "Accuracy: 0.48031496062992124\n",
      "ROC-AUC: 0.517616191904048\n",
      "F1-score: 0.15384615384615385\n"
     ]
    }
   ],
   "source": [
    "from xgboost import XGBClassifier\n",
    "# XGBoost\n",
    "grid_params = {'n_estimators': [5, 10, 20, 30, 50, 100, 300, 500],\"max_depth\": [1,2,3,6]}\n",
    "xgb_model = XGBClassifier(random_state=17)\n",
    "xgb_pred, xgb_acc, xgb_roc_auc,xgb_f1, xgb_feat_imp = cv_and_predict_valid(df_x_2_train,df_y_2_train, xgb_model, tree = True, grid_search=True, grid_parameters=grid_params)"
   ]
  },
  {
   "cell_type": "code",
   "execution_count": 34,
   "metadata": {},
   "outputs": [
    {
     "name": "stdout",
     "output_type": "stream",
     "text": [
      "Accuracy: 0.4798206278026906\n",
      "ROC-AUC: 0.48958837772397096\n",
      "F1-score: 0.3958333333333333\n"
     ]
    }
   ],
   "source": [
    "# testing\n",
    "model = XGBClassifier(max_depth=1, n_estimators=20, random_state=17)\n",
    "\n",
    "model.fit(df_x_2_train, df_y_2_train)\n",
    "predictions = model.predict(df_x_2_test)\n",
    "accuracy = accuracy_score(df_y_2_test, predictions)\n",
    "roc_auc = roc_auc_score(df_y_2_test, predictions)\n",
    "f1 = f1_score(df_y_2_test, predictions)\n",
    "    \n",
    "print(f\"Accuracy: {accuracy}\")\n",
    "print(f\"ROC-AUC: {roc_auc}\")\n",
    "print(f\"F1-score: {f1}\")"
   ]
  },
  {
   "cell_type": "code",
   "execution_count": 35,
   "metadata": {},
   "outputs": [
    {
     "name": "stdout",
     "output_type": "stream",
     "text": [
      "SVC(C=0.1, class_weight='balanced', gamma=1, kernel='poly')\n",
      "Best parameters from grid search: {'C': 0.1, 'class_weight': 'balanced', 'gamma': 1, 'kernel': 'poly'}\n",
      "Accuracy: 0.5433070866141733\n",
      "ROC-AUC: 0.5\n",
      "F1-score: 0.7040816326530612\n"
     ]
    }
   ],
   "source": [
    "from sklearn.svm import SVC\n",
    "# SVM\n",
    "grid_params = {'C': [0.1, 0.3, 0.7, 1, 2],  'kernel': ['poly', 'rbf'], 'gamma': [1, 0.1, 0.01], 'class_weight': ['balanced', None]}\n",
    "svm_model = SVC()\n",
    "svm_pred, svm_acc, svm_roc_auc,svm_f1, svm_feat_imp = cv_and_predict_valid(df_x_2_train,df_y_2_train, svm_model, grid_search=True, grid_parameters=grid_params)"
   ]
  },
  {
   "cell_type": "code",
   "execution_count": 36,
   "metadata": {},
   "outputs": [
    {
     "name": "stdout",
     "output_type": "stream",
     "text": [
      "Accuracy: 0.47085201793721976\n",
      "ROC-AUC: 0.4679983857949959\n",
      "F1-score: 0.5083333333333333\n"
     ]
    }
   ],
   "source": [
    "# testing\n",
    "model = SVC(C=0.1, class_weight='balanced', kernel=\"poly\")\n",
    "\n",
    "model.fit(df_x_2_train, df_y_2_train)\n",
    "predictions = model.predict(df_x_2_test)\n",
    "accuracy = accuracy_score(df_y_2_test, predictions)\n",
    "roc_auc = roc_auc_score(df_y_2_test, predictions)\n",
    "f1 = f1_score(df_y_2_test, predictions)\n",
    "    \n",
    "print(f\"Accuracy: {accuracy}\")\n",
    "print(f\"ROC-AUC: {roc_auc}\")\n",
    "print(f\"F1-score: {f1}\")"
   ]
  },
  {
   "cell_type": "code",
   "execution_count": 37,
   "metadata": {},
   "outputs": [
    {
     "name": "stderr",
     "output_type": "stream",
     "text": [
      "c:\\Users\\isaen\\AppData\\Local\\Programs\\Python\\Python312\\Lib\\site-packages\\sklearn\\ensemble\\_weight_boosting.py:519: FutureWarning: The SAMME.R algorithm (the default) is deprecated and will be removed in 1.6. Use the SAMME algorithm to circumvent this warning.\n",
      "  warnings.warn(\n"
     ]
    },
    {
     "name": "stdout",
     "output_type": "stream",
     "text": [
      "AdaBoostClassifier(learning_rate=1, n_estimators=500)\n",
      "Best parameters from grid search: {'learning_rate': 1, 'n_estimators': 500}\n",
      "Accuracy: 0.48031496062992124\n",
      "ROC-AUC: 0.48463268365817097\n",
      "F1-score: 0.47619047619047616\n"
     ]
    }
   ],
   "source": [
    "from sklearn.ensemble import AdaBoostClassifier\n",
    "grid_params = {'n_estimators': [5, 10, 20, 30, 50, 100, 300, 500], 'learning_rate':[0.1, 0.3, 0.5, 1]}\n",
    "ada_model = AdaBoostClassifier()\n",
    "ada_pred, ada_acc, ada_roc_auc,ada_f1, ada_feat_imp = cv_and_predict_valid(df_x_2_train,df_y_2_train, ada_model, tree = True, grid_search=True, grid_parameters = grid_params)\n"
   ]
  },
  {
   "cell_type": "code",
   "execution_count": 38,
   "metadata": {},
   "outputs": [
    {
     "name": "stderr",
     "output_type": "stream",
     "text": [
      "c:\\Users\\isaen\\AppData\\Local\\Programs\\Python\\Python312\\Lib\\site-packages\\sklearn\\ensemble\\_weight_boosting.py:519: FutureWarning: The SAMME.R algorithm (the default) is deprecated and will be removed in 1.6. Use the SAMME algorithm to circumvent this warning.\n",
      "  warnings.warn(\n"
     ]
    },
    {
     "name": "stdout",
     "output_type": "stream",
     "text": [
      "Accuracy: 0.5650224215246636\n",
      "ROC-AUC: 0.5643260694108152\n",
      "F1-score: 0.5836909871244635\n"
     ]
    }
   ],
   "source": [
    "# testing\n",
    "model = AdaBoostClassifier(learning_rate=1, n_estimators=500)\n",
    "model.fit(df_x_2_train, df_y_2_train)\n",
    "predictions = model.predict(df_x_2_test)\n",
    "accuracy = accuracy_score(df_y_2_test, predictions)\n",
    "roc_auc = roc_auc_score(df_y_2_test, predictions)\n",
    "f1 = f1_score(df_y_2_test, predictions)\n",
    "    \n",
    "print(f\"Accuracy: {accuracy}\")\n",
    "print(f\"ROC-AUC: {roc_auc}\")\n",
    "print(f\"F1-score: {f1}\")\n",
    "# good"
   ]
  },
  {
   "cell_type": "code",
   "execution_count": 39,
   "metadata": {},
   "outputs": [
    {
     "name": "stdout",
     "output_type": "stream",
     "text": [
      "Accuracy: 0.49606299212598426\n",
      "ROC-AUC: 0.47163918040979513\n",
      "F1-score: 0.6190476190476191\n"
     ]
    }
   ],
   "source": [
    "from sklearn.naive_bayes import GaussianNB\n",
    "nb_model = GaussianNB()\n",
    "nb_pred, nb_acc, nb_roc_auc,nb_f1, nb_feat_imp = cv_and_predict_valid(df_x_2_train,df_y_2_train, nb_model)\n"
   ]
  },
  {
   "cell_type": "code",
   "execution_count": 40,
   "metadata": {},
   "outputs": [
    {
     "name": "stdout",
     "output_type": "stream",
     "text": [
      "Accuracy: 0.5112107623318386\n",
      "ROC-AUC: 0.512953995157385\n",
      "F1-score: 0.5112107623318386\n"
     ]
    }
   ],
   "source": [
    "# testing\n",
    "model = GaussianNB()\n",
    "\n",
    "model.fit(df_x_2_train, df_y_2_train)\n",
    "predictions = model.predict(df_x_2_test)\n",
    "accuracy = accuracy_score(df_y_2_test, predictions)\n",
    "roc_auc = roc_auc_score(df_y_2_test, predictions)\n",
    "f1 = f1_score(df_y_2_test, predictions)\n",
    "    \n",
    "print(f\"Accuracy: {accuracy}\")\n",
    "print(f\"ROC-AUC: {roc_auc}\")\n",
    "print(f\"F1-score: {f1}\")"
   ]
  },
  {
   "cell_type": "code",
   "execution_count": 41,
   "metadata": {},
   "outputs": [
    {
     "name": "stdout",
     "output_type": "stream",
     "text": [
      "LogisticRegression(C=1)\n",
      "Best parameters from grid search: {'C': 1, 'penalty': 'l2'}\n",
      "Accuracy: 0.4566929133858268\n",
      "ROC-AUC: 0.5\n",
      "F1-score: 0.0\n"
     ]
    }
   ],
   "source": [
    "from sklearn.linear_model import LogisticRegression\n",
    "grid_params = {\n",
    "    'C': [0.01, 0.1, 1],           \n",
    "    'penalty': ['l2']  \n",
    "}\n",
    "lr_model = LogisticRegression()\n",
    "lr_pred, lr_acc, lr_roc_auc,lr_f1, lr_feat_imp = cv_and_predict_valid(df_x_2_train,df_y_2_train, lr_model, grid_search=True, grid_parameters=grid_params)\n"
   ]
  },
  {
   "cell_type": "code",
   "execution_count": 42,
   "metadata": {},
   "outputs": [
    {
     "name": "stdout",
     "output_type": "stream",
     "text": [
      "Accuracy: 0.4798206278026906\n",
      "ROC-AUC: 0.5058514931396287\n",
      "F1-score: 0.1076923076923077\n"
     ]
    }
   ],
   "source": [
    "# testing\n",
    "model = LogisticRegression(C=1)\n",
    "\n",
    "model.fit(df_x_2_train, df_y_2_train)\n",
    "predictions = model.predict(df_x_2_test)\n",
    "accuracy = accuracy_score(df_y_2_test, predictions)\n",
    "roc_auc = roc_auc_score(df_y_2_test, predictions)\n",
    "f1 = f1_score(df_y_2_test, predictions)\n",
    "    \n",
    "print(f\"Accuracy: {accuracy}\")\n",
    "print(f\"ROC-AUC: {roc_auc}\")\n",
    "print(f\"F1-score: {f1}\")"
   ]
  },
  {
   "cell_type": "code",
   "execution_count": 43,
   "metadata": {},
   "outputs": [
    {
     "name": "stdout",
     "output_type": "stream",
     "text": [
      "KNeighborsClassifier(n_neighbors=10)\n",
      "Best parameters from grid search: {'n_neighbors': 10}\n",
      "Accuracy: 0.4881889763779528\n",
      "ROC-AUC: 0.49875062468765613\n",
      "F1-score: 0.4444444444444444\n"
     ]
    }
   ],
   "source": [
    "from sklearn.neighbors import KNeighborsClassifier\n",
    "grid_params = {'n_neighbors': [1, 2, 3, 4, 5, 10, 20, 50]}\n",
    "knn_model = KNeighborsClassifier()\n",
    "knn_pred, knn_acc, knn_roc_auc,knn_f1, knn_feat_imp = cv_and_predict_valid(df_x_2_train,df_y_2_train, knn_model, grid_search=True, grid_parameters=grid_params)\n"
   ]
  },
  {
   "cell_type": "code",
   "execution_count": 44,
   "metadata": {},
   "outputs": [
    {
     "name": "stdout",
     "output_type": "stream",
     "text": [
      "Accuracy: 0.49327354260089684\n",
      "ROC-AUC: 0.5043987086359968\n",
      "F1-score: 0.39572192513368987\n"
     ]
    }
   ],
   "source": [
    "# testing\n",
    "model = KNeighborsClassifier(n_neighbors=10)\n",
    "\n",
    "model.fit(df_x_2_train, df_y_2_train)\n",
    "predictions = model.predict(df_x_2_test)\n",
    "accuracy = accuracy_score(df_y_2_test, predictions)\n",
    "roc_auc = roc_auc_score(df_y_2_test, predictions)\n",
    "f1 = f1_score(df_y_2_test, predictions)\n",
    "    \n",
    "print(f\"Accuracy: {accuracy}\")\n",
    "print(f\"ROC-AUC: {roc_auc}\")\n",
    "print(f\"F1-score: {f1}\")"
   ]
  },
  {
   "cell_type": "code",
   "execution_count": null,
   "metadata": {},
   "outputs": [],
   "source": []
  },
  {
   "cell_type": "markdown",
   "metadata": {},
   "source": [
    "# Only vader"
   ]
  },
  {
   "cell_type": "code",
   "execution_count": 45,
   "metadata": {},
   "outputs": [],
   "source": [
    "df_x_3 = df[[\"Sentiment_vader\"]]\n",
    "df_y = df[\"Return_sign\"]"
   ]
  },
  {
   "cell_type": "code",
   "execution_count": 46,
   "metadata": {},
   "outputs": [],
   "source": [
    "train_share = 0.85\n",
    "df_x_3_train = df_x_3.iloc[:int(len(df_x_3)*train_share)].reset_index(drop=True)\n",
    "df_y_train = df_y.iloc[:int(len(df_x_3)*train_share)].reset_index(drop=True)\n",
    "\n",
    "df_x_3_test = df_x_3.iloc[int(len(df_x_3)*train_share):].reset_index(drop=True)\n",
    "df_y_test = df_y.iloc[int(len(df_x_3)*train_share):].reset_index(drop=True)"
   ]
  },
  {
   "cell_type": "code",
   "execution_count": 47,
   "metadata": {},
   "outputs": [
    {
     "name": "stdout",
     "output_type": "stream",
     "text": [
      "Accuracy: 0.4566929133858268\n",
      "ROC-AUC: 0.5\n",
      "F1-score: 0.0\n"
     ]
    }
   ],
   "source": [
    "from sklearn.dummy import DummyClassifier\n",
    "dummy_model = DummyClassifier(strategy='most_frequent')\n",
    "dummy_pred, dummy_acc, dummy_roc_auc,dummy_f1, dummy_feat_imp= cv_and_predict_valid(df_x_3_train,df_y_train,dummy_model)\n"
   ]
  },
  {
   "cell_type": "code",
   "execution_count": 48,
   "metadata": {},
   "outputs": [
    {
     "name": "stdout",
     "output_type": "stream",
     "text": [
      "Accuracy: 0.46875\n",
      "ROC-AUC: 0.5\n",
      "F1-score: 0.0\n"
     ]
    }
   ],
   "source": [
    "# testing\n",
    "model = DummyClassifier(strategy='most_frequent')\n",
    "\n",
    "model.fit(df_x_3_train, df_y_train)\n",
    "predictions = model.predict(df_x_3_test)\n",
    "accuracy = accuracy_score(df_y_test, predictions)\n",
    "roc_auc = roc_auc_score(df_y_test, predictions)\n",
    "f1 = f1_score(df_y_test, predictions)\n",
    "    \n",
    "print(f\"Accuracy: {accuracy}\")\n",
    "print(f\"ROC-AUC: {roc_auc}\")\n",
    "print(f\"F1-score: {f1}\")"
   ]
  },
  {
   "cell_type": "code",
   "execution_count": 49,
   "metadata": {},
   "outputs": [
    {
     "name": "stdout",
     "output_type": "stream",
     "text": [
      "RandomForestClassifier(n_estimators=50, random_state=17)\n",
      "Best parameters from grid search: {'n_estimators': 50}\n",
      "Accuracy: 0.5354330708661418\n",
      "ROC-AUC: 0.539480259870065\n",
      "F1-score: 0.5354330708661418\n"
     ]
    }
   ],
   "source": [
    "from sklearn.ensemble import RandomForestClassifier\n",
    "# Random Forest\n",
    "grid_params = {'n_estimators': [5, 10, 20, 50,100]}\n",
    "rf_model = RandomForestClassifier(random_state=17)\n",
    "rf_pred, rf_acc, rf_roc_auc,rf_f1, rf_feat_imp = cv_and_predict_valid(df_x_3_train,df_y_train, rf_model, tree = True, grid_search=True, grid_parameters=grid_params)"
   ]
  },
  {
   "cell_type": "code",
   "execution_count": 50,
   "metadata": {},
   "outputs": [
    {
     "name": "stdout",
     "output_type": "stream",
     "text": [
      "Accuracy: 0.4375\n",
      "ROC-AUC: 0.4341736694677871\n",
      "F1-score: 0.4793388429752066\n"
     ]
    }
   ],
   "source": [
    "# testing\n",
    "model = RandomForestClassifier(n_estimators=50,random_state=17)\n",
    "model.fit(df_x_3_train, df_y_train)\n",
    "predictions = model.predict(df_x_3_test)\n",
    "accuracy = accuracy_score(df_y_test, predictions)\n",
    "roc_auc = roc_auc_score(df_y_test, predictions)\n",
    "f1 = f1_score(df_y_test, predictions)\n",
    "    \n",
    "print(f\"Accuracy: {accuracy}\")\n",
    "print(f\"ROC-AUC: {roc_auc}\")\n",
    "print(f\"F1-score: {f1}\")"
   ]
  },
  {
   "cell_type": "code",
   "execution_count": 51,
   "metadata": {},
   "outputs": [
    {
     "name": "stdout",
     "output_type": "stream",
     "text": [
      "XGBClassifier(base_score=None, booster=None, callbacks=None,\n",
      "              colsample_bylevel=None, colsample_bynode=None,\n",
      "              colsample_bytree=None, device=None, early_stopping_rounds=None,\n",
      "              enable_categorical=False, eval_metric=None, feature_types=None,\n",
      "              gamma=None, grow_policy=None, importance_type=None,\n",
      "              interaction_constraints=None, learning_rate=None, max_bin=None,\n",
      "              max_cat_threshold=None, max_cat_to_onehot=None,\n",
      "              max_delta_step=None, max_depth=6, max_leaves=None,\n",
      "              min_child_weight=None, missing=nan, monotone_constraints=None,\n",
      "              multi_strategy=None, n_estimators=50, n_jobs=None,\n",
      "              num_parallel_tree=None, random_state=17, ...)\n",
      "Best parameters from grid search: {'max_depth': 6, 'n_estimators': 50}\n",
      "Accuracy: 0.5196850393700787\n",
      "ROC-AUC: 0.5194902548725637\n",
      "F1-score: 0.5413533834586466\n"
     ]
    }
   ],
   "source": [
    "from xgboost import XGBClassifier\n",
    "# XGBoost\n",
    "grid_params = {'n_estimators': [5, 10, 20, 30, 50, 100, 300, 500],\"max_depth\": [1,2,3,6]}\n",
    "xgb_model = XGBClassifier(random_state=17)\n",
    "xgb_pred, xgb_acc, xgb_roc_auc,xgb_f1, xgb_feat_imp = cv_and_predict_valid(df_x_3_train,df_y_train, xgb_model, tree = True, grid_search=True, grid_parameters=grid_params)"
   ]
  },
  {
   "cell_type": "code",
   "execution_count": 52,
   "metadata": {},
   "outputs": [
    {
     "name": "stdout",
     "output_type": "stream",
     "text": [
      "Accuracy: 0.45089285714285715\n",
      "ROC-AUC: 0.45014005602240903\n",
      "F1-score: 0.4721030042918455\n"
     ]
    }
   ],
   "source": [
    "# testing\n",
    "model = XGBClassifier(random_state=17, max_depth = 6, n_estimators = 50)\n",
    "model.fit(df_x_3_train, df_y_train)\n",
    "predictions = model.predict(df_x_3_test)\n",
    "accuracy = accuracy_score(df_y_test, predictions)\n",
    "roc_auc = roc_auc_score(df_y_test, predictions)\n",
    "f1 = f1_score(df_y_test, predictions)\n",
    "    \n",
    "print(f\"Accuracy: {accuracy}\")\n",
    "print(f\"ROC-AUC: {roc_auc}\")\n",
    "print(f\"F1-score: {f1}\")"
   ]
  },
  {
   "cell_type": "code",
   "execution_count": 53,
   "metadata": {},
   "outputs": [
    {
     "name": "stdout",
     "output_type": "stream",
     "text": [
      "SVC(C=0.1, class_weight='balanced', gamma=1, kernel='poly')\n",
      "Best parameters from grid search: {'C': 0.1, 'class_weight': 'balanced', 'gamma': 1, 'kernel': 'poly'}\n",
      "Accuracy: 0.5433070866141733\n",
      "ROC-AUC: 0.5\n",
      "F1-score: 0.7040816326530612\n"
     ]
    }
   ],
   "source": [
    "from sklearn.svm import SVC\n",
    "# SVM\n",
    "grid_params = {'C': [0.1, 0.3, 0.7, 1, 2],  'kernel': ['poly', 'rbf'], 'gamma': [1, 0.1, 0.01], 'class_weight': ['balanced', None]}\n",
    "svm_model = SVC()\n",
    "svm_pred, svm_acc, svm_roc_auc,svm_f1, svm_feat_imp = cv_and_predict_valid(df_x_3_train,df_y_train, svm_model, grid_search=True, grid_parameters=grid_params)"
   ]
  },
  {
   "cell_type": "code",
   "execution_count": 54,
   "metadata": {},
   "outputs": [
    {
     "name": "stdout",
     "output_type": "stream",
     "text": [
      "Accuracy: 0.53125\n",
      "ROC-AUC: 0.5\n",
      "F1-score: 0.6938775510204082\n"
     ]
    }
   ],
   "source": [
    "# testing\n",
    "model = SVC(C=0.1, class_weight='balanced', gamma=1, kernel='poly')\n",
    "model.fit(df_x_3_train, df_y_train)\n",
    "predictions = model.predict(df_x_3_test)\n",
    "accuracy = accuracy_score(df_y_test, predictions)\n",
    "roc_auc = roc_auc_score(df_y_test, predictions)\n",
    "f1 = f1_score(df_y_test, predictions)\n",
    "    \n",
    "print(f\"Accuracy: {accuracy}\")\n",
    "print(f\"ROC-AUC: {roc_auc}\")\n",
    "print(f\"F1-score: {f1}\")"
   ]
  },
  {
   "cell_type": "code",
   "execution_count": 55,
   "metadata": {},
   "outputs": [
    {
     "name": "stdout",
     "output_type": "stream",
     "text": [
      "AdaBoostClassifier(learning_rate=0.3, n_estimators=10)\n",
      "Best parameters from grid search: {'learning_rate': 0.3, 'n_estimators': 10}\n",
      "Accuracy: 0.4330708661417323\n",
      "ROC-AUC: 0.4700149925037481\n",
      "F1-score: 0.07692307692307693\n"
     ]
    },
    {
     "name": "stderr",
     "output_type": "stream",
     "text": [
      "c:\\Users\\isaen\\AppData\\Local\\Programs\\Python\\Python312\\Lib\\site-packages\\sklearn\\ensemble\\_weight_boosting.py:519: FutureWarning: The SAMME.R algorithm (the default) is deprecated and will be removed in 1.6. Use the SAMME algorithm to circumvent this warning.\n",
      "  warnings.warn(\n"
     ]
    }
   ],
   "source": [
    "from sklearn.ensemble import AdaBoostClassifier\n",
    "grid_params = {'n_estimators': [5, 10, 20, 30, 50, 100, 300, 500], 'learning_rate':[0.1, 0.3, 0.5, 1]}\n",
    "ada_model = AdaBoostClassifier()\n",
    "ada_pred, ada_acc, ada_roc_auc,ada_f1, ada_feat_imp = cv_and_predict_valid(df_x_3_train,df_y_train, ada_model, tree = True, grid_search=True, grid_parameters = grid_params)\n"
   ]
  },
  {
   "cell_type": "code",
   "execution_count": 56,
   "metadata": {},
   "outputs": [
    {
     "name": "stdout",
     "output_type": "stream",
     "text": [
      "Accuracy: 0.5178571428571429\n",
      "ROC-AUC: 0.4997198879551821\n",
      "F1-score: 0.6351351351351351\n"
     ]
    },
    {
     "name": "stderr",
     "output_type": "stream",
     "text": [
      "c:\\Users\\isaen\\AppData\\Local\\Programs\\Python\\Python312\\Lib\\site-packages\\sklearn\\ensemble\\_weight_boosting.py:519: FutureWarning: The SAMME.R algorithm (the default) is deprecated and will be removed in 1.6. Use the SAMME algorithm to circumvent this warning.\n",
      "  warnings.warn(\n"
     ]
    }
   ],
   "source": [
    "# testing\n",
    "model = AdaBoostClassifier(learning_rate=0.3, n_estimators=10)\n",
    "model.fit(df_x_3_train, df_y_train)\n",
    "predictions = model.predict(df_x_3_test)\n",
    "accuracy = accuracy_score(df_y_test, predictions)\n",
    "roc_auc = roc_auc_score(df_y_test, predictions)\n",
    "f1 = f1_score(df_y_test, predictions)\n",
    "    \n",
    "print(f\"Accuracy: {accuracy}\")\n",
    "print(f\"ROC-AUC: {roc_auc}\")\n",
    "print(f\"F1-score: {f1}\")"
   ]
  },
  {
   "cell_type": "code",
   "execution_count": null,
   "metadata": {},
   "outputs": [],
   "source": []
  },
  {
   "cell_type": "code",
   "execution_count": 57,
   "metadata": {},
   "outputs": [
    {
     "name": "stdout",
     "output_type": "stream",
     "text": [
      "Accuracy: 0.5433070866141733\n",
      "ROC-AUC: 0.5219890054972514\n",
      "F1-score: 0.6463414634146342\n"
     ]
    }
   ],
   "source": [
    "from sklearn.naive_bayes import GaussianNB\n",
    "nb_model = GaussianNB()\n",
    "nb_pred, nb_acc, nb_roc_auc,nb_f1, nb_feat_imp = cv_and_predict_valid(df_x_3_train,df_y_train, nb_model)\n"
   ]
  },
  {
   "cell_type": "code",
   "execution_count": 58,
   "metadata": {},
   "outputs": [
    {
     "name": "stdout",
     "output_type": "stream",
     "text": [
      "Accuracy: 0.5357142857142857\n",
      "ROC-AUC: 0.5142857142857142\n",
      "F1-score: 0.6623376623376623\n"
     ]
    }
   ],
   "source": [
    "# testing\n",
    "model = GaussianNB()\n",
    "model.fit(df_x_3_train, df_y_train)\n",
    "predictions = model.predict(df_x_3_test)\n",
    "accuracy = accuracy_score(df_y_test, predictions)\n",
    "roc_auc = roc_auc_score(df_y_test, predictions)\n",
    "f1 = f1_score(df_y_test, predictions)\n",
    "    \n",
    "print(f\"Accuracy: {accuracy}\")\n",
    "print(f\"ROC-AUC: {roc_auc}\")\n",
    "print(f\"F1-score: {f1}\")\n",
    "# not bad"
   ]
  },
  {
   "cell_type": "code",
   "execution_count": 59,
   "metadata": {},
   "outputs": [
    {
     "name": "stdout",
     "output_type": "stream",
     "text": [
      "Accuracy: 0.4566929133858268\n",
      "ROC-AUC: 0.5\n",
      "F1-score: 0.0\n"
     ]
    }
   ],
   "source": [
    "from sklearn.linear_model import LogisticRegression\n",
    "lr_model = LogisticRegression()\n",
    "lr_pred, lr_acc, lr_roc_auc,lr_f1, lr_feat_imp = cv_and_predict_valid(df_x_3_train,df_y_train, lr_model)\n"
   ]
  },
  {
   "cell_type": "code",
   "execution_count": 60,
   "metadata": {},
   "outputs": [
    {
     "name": "stdout",
     "output_type": "stream",
     "text": [
      "Accuracy: 0.46875\n",
      "ROC-AUC: 0.5\n",
      "F1-score: 0.0\n"
     ]
    }
   ],
   "source": [
    "# testing\n",
    "model = LogisticRegression()\n",
    "model.fit(df_x_3_train, df_y_train)\n",
    "predictions = model.predict(df_x_3_test)\n",
    "accuracy = accuracy_score(df_y_test, predictions)\n",
    "roc_auc = roc_auc_score(df_y_test, predictions)\n",
    "f1 = f1_score(df_y_test, predictions)\n",
    "    \n",
    "print(f\"Accuracy: {accuracy}\")\n",
    "print(f\"ROC-AUC: {roc_auc}\")\n",
    "print(f\"F1-score: {f1}\")"
   ]
  },
  {
   "cell_type": "code",
   "execution_count": 61,
   "metadata": {},
   "outputs": [
    {
     "name": "stdout",
     "output_type": "stream",
     "text": [
      "KNeighborsClassifier()\n",
      "Best parameters from grid search: {'n_neighbors': 5}\n",
      "Accuracy: 0.5039370078740157\n",
      "ROC-AUC: 0.5063718140929535\n",
      "F1-score: 0.5116279069767442\n"
     ]
    }
   ],
   "source": [
    "from sklearn.neighbors import KNeighborsClassifier\n",
    "grid_params = {'n_neighbors': [1, 2, 3, 4, 5, 10, 20, 50]}\n",
    "knn_model = KNeighborsClassifier()\n",
    "knn_pred, knn_acc, knn_roc_auc,knn_f1, knn_feat_imp = cv_and_predict_valid(df_x_3_train,df_y_train, knn_model, grid_search=True, grid_parameters=grid_params)\n"
   ]
  },
  {
   "cell_type": "code",
   "execution_count": 62,
   "metadata": {},
   "outputs": [
    {
     "name": "stdout",
     "output_type": "stream",
     "text": [
      "Accuracy: 0.4375\n",
      "ROC-AUC: 0.4392156862745098\n",
      "F1-score: 0.4375\n"
     ]
    }
   ],
   "source": [
    "# testing\n",
    "model = KNeighborsClassifier(n_neighbors=5)\n",
    "model.fit(df_x_3_train, df_y_train)\n",
    "predictions = model.predict(df_x_3_test)\n",
    "accuracy = accuracy_score(df_y_test, predictions)\n",
    "roc_auc = roc_auc_score(df_y_test, predictions)\n",
    "f1 = f1_score(df_y_test, predictions)\n",
    "    \n",
    "print(f\"Accuracy: {accuracy}\")\n",
    "print(f\"ROC-AUC: {roc_auc}\")\n",
    "print(f\"F1-score: {f1}\")"
   ]
  },
  {
   "cell_type": "markdown",
   "metadata": {},
   "source": [
    "# Vader with lags"
   ]
  },
  {
   "cell_type": "code",
   "execution_count": 63,
   "metadata": {},
   "outputs": [
    {
     "data": {
      "text/html": [
       "<div>\n",
       "<style scoped>\n",
       "    .dataframe tbody tr th:only-of-type {\n",
       "        vertical-align: middle;\n",
       "    }\n",
       "\n",
       "    .dataframe tbody tr th {\n",
       "        vertical-align: top;\n",
       "    }\n",
       "\n",
       "    .dataframe thead th {\n",
       "        text-align: right;\n",
       "    }\n",
       "</style>\n",
       "<table border=\"1\" class=\"dataframe\">\n",
       "  <thead>\n",
       "    <tr style=\"text-align: right;\">\n",
       "      <th></th>\n",
       "      <th>Date_30m</th>\n",
       "      <th>datetime</th>\n",
       "      <th>text</th>\n",
       "      <th>username</th>\n",
       "      <th>kk08_pos_score</th>\n",
       "      <th>kk08_score_diff</th>\n",
       "      <th>Elkulako_label</th>\n",
       "      <th>Sentiment_vader</th>\n",
       "      <th>pred</th>\n",
       "      <th>analysis</th>\n",
       "      <th>...</th>\n",
       "      <th>rise</th>\n",
       "      <th>fall</th>\n",
       "      <th>date</th>\n",
       "      <th>open</th>\n",
       "      <th>close</th>\n",
       "      <th>Return</th>\n",
       "      <th>Return_sign</th>\n",
       "      <th>kk08_pos_score_lag1</th>\n",
       "      <th>kk08_pos_score_lag2</th>\n",
       "      <th>kk08_pos_score_lag3</th>\n",
       "    </tr>\n",
       "  </thead>\n",
       "  <tbody>\n",
       "    <tr>\n",
       "      <th>0</th>\n",
       "      <td>2022-01-01 00:30:00</td>\n",
       "      <td>['2022-01-01 00:00:00', '2022-01-01 00:00:00',...</td>\n",
       "      <td>Current Price of Bitcoin:\\n$46320 (-1.85%)\\n\\n...</td>\n",
       "      <td>CryptoNerdApp\\nTrendSpider\\nMadStudentScie1\\nW...</td>\n",
       "      <td>0.769373</td>\n",
       "      <td>0.538746</td>\n",
       "      <td>0.324930</td>\n",
       "      <td>0.149739</td>\n",
       "      <td>20</td>\n",
       "      <td>46</td>\n",
       "      <td>...</td>\n",
       "      <td>13</td>\n",
       "      <td>42</td>\n",
       "      <td>2022-01-01 00:30:00</td>\n",
       "      <td>46375.42</td>\n",
       "      <td>46656.13</td>\n",
       "      <td>0.006053</td>\n",
       "      <td>1</td>\n",
       "      <td>NaN</td>\n",
       "      <td>NaN</td>\n",
       "      <td>NaN</td>\n",
       "    </tr>\n",
       "    <tr>\n",
       "      <th>1</th>\n",
       "      <td>2022-01-01 01:00:00</td>\n",
       "      <td>['2022-01-01 00:30:00', '2022-01-01 00:30:01',...</td>\n",
       "      <td>“Here's to a bright New Year and a fond farewe...</td>\n",
       "      <td>bitcoiva\\ncryptozone007\\nlinuxadvocate\\nbakedn...</td>\n",
       "      <td>0.739433</td>\n",
       "      <td>0.478866</td>\n",
       "      <td>0.412354</td>\n",
       "      <td>0.175647</td>\n",
       "      <td>14</td>\n",
       "      <td>26</td>\n",
       "      <td>...</td>\n",
       "      <td>7</td>\n",
       "      <td>23</td>\n",
       "      <td>2022-01-01 01:00:00</td>\n",
       "      <td>46656.14</td>\n",
       "      <td>46815.33</td>\n",
       "      <td>0.003412</td>\n",
       "      <td>1</td>\n",
       "      <td>0.769373</td>\n",
       "      <td>NaN</td>\n",
       "      <td>NaN</td>\n",
       "    </tr>\n",
       "    <tr>\n",
       "      <th>2</th>\n",
       "      <td>2022-01-01 01:30:00</td>\n",
       "      <td>['2022-01-01 01:00:00', '2022-01-01 01:00:00',...</td>\n",
       "      <td>Today's Cryptocurrency Fear And Greed Index: 2...</td>\n",
       "      <td>FearAndGreedBot\\nOfficialOverbit\\nBTC_AI_bot\\n...</td>\n",
       "      <td>0.768188</td>\n",
       "      <td>0.536376</td>\n",
       "      <td>0.349835</td>\n",
       "      <td>0.154206</td>\n",
       "      <td>15</td>\n",
       "      <td>17</td>\n",
       "      <td>...</td>\n",
       "      <td>7</td>\n",
       "      <td>19</td>\n",
       "      <td>2022-01-01 01:30:00</td>\n",
       "      <td>46815.34</td>\n",
       "      <td>46778.14</td>\n",
       "      <td>-0.000795</td>\n",
       "      <td>0</td>\n",
       "      <td>0.739433</td>\n",
       "      <td>0.769373</td>\n",
       "      <td>NaN</td>\n",
       "    </tr>\n",
       "    <tr>\n",
       "      <th>3</th>\n",
       "      <td>2022-01-01 02:00:00</td>\n",
       "      <td>['2022-01-01 01:30:00', '2022-01-01 01:30:00',...</td>\n",
       "      <td>This year is my year , the year of my progress...</td>\n",
       "      <td>GhorbaniArshiya\\nPopunderTraffic\\nobjectwizard...</td>\n",
       "      <td>0.785896</td>\n",
       "      <td>0.571792</td>\n",
       "      <td>0.334061</td>\n",
       "      <td>0.200349</td>\n",
       "      <td>15</td>\n",
       "      <td>12</td>\n",
       "      <td>...</td>\n",
       "      <td>6</td>\n",
       "      <td>11</td>\n",
       "      <td>2022-01-01 02:00:00</td>\n",
       "      <td>46778.14</td>\n",
       "      <td>46826.01</td>\n",
       "      <td>0.001023</td>\n",
       "      <td>1</td>\n",
       "      <td>0.768188</td>\n",
       "      <td>0.739433</td>\n",
       "      <td>0.769373</td>\n",
       "    </tr>\n",
       "    <tr>\n",
       "      <th>4</th>\n",
       "      <td>2022-01-01 02:30:00</td>\n",
       "      <td>['2022-01-01 02:00:00', '2022-01-01 02:00:00',...</td>\n",
       "      <td>Huobi Singapore would like to wish you a Happy...</td>\n",
       "      <td>HuobiSg\\nAmazonCash4Cars\\nBTC_AI_bot\\nCalvinAy...</td>\n",
       "      <td>0.774167</td>\n",
       "      <td>0.548335</td>\n",
       "      <td>0.403475</td>\n",
       "      <td>0.165008</td>\n",
       "      <td>13</td>\n",
       "      <td>13</td>\n",
       "      <td>...</td>\n",
       "      <td>6</td>\n",
       "      <td>16</td>\n",
       "      <td>2022-01-01 02:30:00</td>\n",
       "      <td>46826.00</td>\n",
       "      <td>46811.77</td>\n",
       "      <td>-0.000304</td>\n",
       "      <td>0</td>\n",
       "      <td>0.785896</td>\n",
       "      <td>0.768188</td>\n",
       "      <td>0.739433</td>\n",
       "    </tr>\n",
       "    <tr>\n",
       "      <th>...</th>\n",
       "      <td>...</td>\n",
       "      <td>...</td>\n",
       "      <td>...</td>\n",
       "      <td>...</td>\n",
       "      <td>...</td>\n",
       "      <td>...</td>\n",
       "      <td>...</td>\n",
       "      <td>...</td>\n",
       "      <td>...</td>\n",
       "      <td>...</td>\n",
       "      <td>...</td>\n",
       "      <td>...</td>\n",
       "      <td>...</td>\n",
       "      <td>...</td>\n",
       "      <td>...</td>\n",
       "      <td>...</td>\n",
       "      <td>...</td>\n",
       "      <td>...</td>\n",
       "      <td>...</td>\n",
       "      <td>...</td>\n",
       "      <td>...</td>\n",
       "    </tr>\n",
       "    <tr>\n",
       "      <th>1483</th>\n",
       "      <td>2022-01-31 22:00:00</td>\n",
       "      <td>['2022-01-31 21:30:00', '2022-01-31 21:30:00',...</td>\n",
       "      <td>#morganstanley calms tempers and minimizes #Bi...</td>\n",
       "      <td>Ricardo04606850\\nTACryptowaves\\ncryptonewsleak...</td>\n",
       "      <td>0.763569</td>\n",
       "      <td>0.527137</td>\n",
       "      <td>0.227818</td>\n",
       "      <td>0.145110</td>\n",
       "      <td>9</td>\n",
       "      <td>10</td>\n",
       "      <td>...</td>\n",
       "      <td>15</td>\n",
       "      <td>7</td>\n",
       "      <td>2022-01-31 22:00:00</td>\n",
       "      <td>38410.09</td>\n",
       "      <td>38547.30</td>\n",
       "      <td>0.003572</td>\n",
       "      <td>1</td>\n",
       "      <td>0.766771</td>\n",
       "      <td>0.758002</td>\n",
       "      <td>0.762439</td>\n",
       "    </tr>\n",
       "    <tr>\n",
       "      <th>1484</th>\n",
       "      <td>2022-01-31 22:30:00</td>\n",
       "      <td>['2022-01-31 22:00:00', '2022-01-31 22:00:00',...</td>\n",
       "      <td>BTC Latest Block Info: Block 721243 holds 2,80...</td>\n",
       "      <td>btc_blockbot\\nM1Seahawk\\nnialljburke\\nmurray_r...</td>\n",
       "      <td>0.803204</td>\n",
       "      <td>0.606408</td>\n",
       "      <td>0.229487</td>\n",
       "      <td>0.144737</td>\n",
       "      <td>11</td>\n",
       "      <td>12</td>\n",
       "      <td>...</td>\n",
       "      <td>11</td>\n",
       "      <td>4</td>\n",
       "      <td>2022-01-31 22:30:00</td>\n",
       "      <td>38547.30</td>\n",
       "      <td>38412.46</td>\n",
       "      <td>-0.003498</td>\n",
       "      <td>0</td>\n",
       "      <td>0.763569</td>\n",
       "      <td>0.766771</td>\n",
       "      <td>0.758002</td>\n",
       "    </tr>\n",
       "    <tr>\n",
       "      <th>1485</th>\n",
       "      <td>2022-01-31 23:00:00</td>\n",
       "      <td>['2022-01-31 22:30:00', '2022-01-31 22:30:00',...</td>\n",
       "      <td>Good move of #Bitcoin today, reversal not conf...</td>\n",
       "      <td>CryptoMichNL\\nIntEngineering\\nKahunaATM\\nMBrae...</td>\n",
       "      <td>0.775618</td>\n",
       "      <td>0.551236</td>\n",
       "      <td>0.206623</td>\n",
       "      <td>0.169323</td>\n",
       "      <td>3</td>\n",
       "      <td>11</td>\n",
       "      <td>...</td>\n",
       "      <td>5</td>\n",
       "      <td>12</td>\n",
       "      <td>2022-01-31 23:00:00</td>\n",
       "      <td>38412.45</td>\n",
       "      <td>38412.23</td>\n",
       "      <td>-0.000006</td>\n",
       "      <td>0</td>\n",
       "      <td>0.803204</td>\n",
       "      <td>0.763569</td>\n",
       "      <td>0.766771</td>\n",
       "    </tr>\n",
       "    <tr>\n",
       "      <th>1486</th>\n",
       "      <td>2022-01-31 23:30:00</td>\n",
       "      <td>['2022-01-31 23:00:00', '2022-01-31 23:00:00',...</td>\n",
       "      <td>Top #Cryptocurrency RANK DOWN (#crypto #bitcoi...</td>\n",
       "      <td>CryptoTopCharts\\nBTC_AI_bot\\ncryptonewsleak\\nt...</td>\n",
       "      <td>0.781215</td>\n",
       "      <td>0.562431</td>\n",
       "      <td>0.270270</td>\n",
       "      <td>0.161486</td>\n",
       "      <td>9</td>\n",
       "      <td>10</td>\n",
       "      <td>...</td>\n",
       "      <td>10</td>\n",
       "      <td>6</td>\n",
       "      <td>2022-01-31 23:30:00</td>\n",
       "      <td>38412.23</td>\n",
       "      <td>38466.90</td>\n",
       "      <td>0.001423</td>\n",
       "      <td>1</td>\n",
       "      <td>0.775618</td>\n",
       "      <td>0.803204</td>\n",
       "      <td>0.763569</td>\n",
       "    </tr>\n",
       "    <tr>\n",
       "      <th>1487</th>\n",
       "      <td>2022-02-01 00:00:00</td>\n",
       "      <td>['2022-01-31 23:30:01', '2022-01-31 23:30:02',...</td>\n",
       "      <td>Bitcoin On Its Way To $500,000? Anthony Scaram...</td>\n",
       "      <td>OutlawBuckeye\\nSifHomes\\nitvc_\\nRaulGlzC\\nTheM...</td>\n",
       "      <td>0.755510</td>\n",
       "      <td>0.511020</td>\n",
       "      <td>0.242021</td>\n",
       "      <td>0.140869</td>\n",
       "      <td>7</td>\n",
       "      <td>9</td>\n",
       "      <td>...</td>\n",
       "      <td>11</td>\n",
       "      <td>18</td>\n",
       "      <td>2022-02-01 00:00:00</td>\n",
       "      <td>38466.90</td>\n",
       "      <td>38439.57</td>\n",
       "      <td>-0.000710</td>\n",
       "      <td>0</td>\n",
       "      <td>0.781215</td>\n",
       "      <td>0.775618</td>\n",
       "      <td>0.803204</td>\n",
       "    </tr>\n",
       "  </tbody>\n",
       "</table>\n",
       "<p>1488 rows × 34 columns</p>\n",
       "</div>"
      ],
      "text/plain": [
       "                 Date_30m                                           datetime  \\\n",
       "0     2022-01-01 00:30:00  ['2022-01-01 00:00:00', '2022-01-01 00:00:00',...   \n",
       "1     2022-01-01 01:00:00  ['2022-01-01 00:30:00', '2022-01-01 00:30:01',...   \n",
       "2     2022-01-01 01:30:00  ['2022-01-01 01:00:00', '2022-01-01 01:00:00',...   \n",
       "3     2022-01-01 02:00:00  ['2022-01-01 01:30:00', '2022-01-01 01:30:00',...   \n",
       "4     2022-01-01 02:30:00  ['2022-01-01 02:00:00', '2022-01-01 02:00:00',...   \n",
       "...                   ...                                                ...   \n",
       "1483  2022-01-31 22:00:00  ['2022-01-31 21:30:00', '2022-01-31 21:30:00',...   \n",
       "1484  2022-01-31 22:30:00  ['2022-01-31 22:00:00', '2022-01-31 22:00:00',...   \n",
       "1485  2022-01-31 23:00:00  ['2022-01-31 22:30:00', '2022-01-31 22:30:00',...   \n",
       "1486  2022-01-31 23:30:00  ['2022-01-31 23:00:00', '2022-01-31 23:00:00',...   \n",
       "1487  2022-02-01 00:00:00  ['2022-01-31 23:30:01', '2022-01-31 23:30:02',...   \n",
       "\n",
       "                                                   text  \\\n",
       "0     Current Price of Bitcoin:\\n$46320 (-1.85%)\\n\\n...   \n",
       "1     “Here's to a bright New Year and a fond farewe...   \n",
       "2     Today's Cryptocurrency Fear And Greed Index: 2...   \n",
       "3     This year is my year , the year of my progress...   \n",
       "4     Huobi Singapore would like to wish you a Happy...   \n",
       "...                                                 ...   \n",
       "1483  #morganstanley calms tempers and minimizes #Bi...   \n",
       "1484  BTC Latest Block Info: Block 721243 holds 2,80...   \n",
       "1485  Good move of #Bitcoin today, reversal not conf...   \n",
       "1486  Top #Cryptocurrency RANK DOWN (#crypto #bitcoi...   \n",
       "1487  Bitcoin On Its Way To $500,000? Anthony Scaram...   \n",
       "\n",
       "                                               username  kk08_pos_score  \\\n",
       "0     CryptoNerdApp\\nTrendSpider\\nMadStudentScie1\\nW...        0.769373   \n",
       "1     bitcoiva\\ncryptozone007\\nlinuxadvocate\\nbakedn...        0.739433   \n",
       "2     FearAndGreedBot\\nOfficialOverbit\\nBTC_AI_bot\\n...        0.768188   \n",
       "3     GhorbaniArshiya\\nPopunderTraffic\\nobjectwizard...        0.785896   \n",
       "4     HuobiSg\\nAmazonCash4Cars\\nBTC_AI_bot\\nCalvinAy...        0.774167   \n",
       "...                                                 ...             ...   \n",
       "1483  Ricardo04606850\\nTACryptowaves\\ncryptonewsleak...        0.763569   \n",
       "1484  btc_blockbot\\nM1Seahawk\\nnialljburke\\nmurray_r...        0.803204   \n",
       "1485  CryptoMichNL\\nIntEngineering\\nKahunaATM\\nMBrae...        0.775618   \n",
       "1486  CryptoTopCharts\\nBTC_AI_bot\\ncryptonewsleak\\nt...        0.781215   \n",
       "1487  OutlawBuckeye\\nSifHomes\\nitvc_\\nRaulGlzC\\nTheM...        0.755510   \n",
       "\n",
       "      kk08_score_diff  Elkulako_label  Sentiment_vader  pred  analysis  ...  \\\n",
       "0            0.538746        0.324930         0.149739    20        46  ...   \n",
       "1            0.478866        0.412354         0.175647    14        26  ...   \n",
       "2            0.536376        0.349835         0.154206    15        17  ...   \n",
       "3            0.571792        0.334061         0.200349    15        12  ...   \n",
       "4            0.548335        0.403475         0.165008    13        13  ...   \n",
       "...               ...             ...              ...   ...       ...  ...   \n",
       "1483         0.527137        0.227818         0.145110     9        10  ...   \n",
       "1484         0.606408        0.229487         0.144737    11        12  ...   \n",
       "1485         0.551236        0.206623         0.169323     3        11  ...   \n",
       "1486         0.562431        0.270270         0.161486     9        10  ...   \n",
       "1487         0.511020        0.242021         0.140869     7         9  ...   \n",
       "\n",
       "      rise  fall                 date      open     close    Return  \\\n",
       "0       13    42  2022-01-01 00:30:00  46375.42  46656.13  0.006053   \n",
       "1        7    23  2022-01-01 01:00:00  46656.14  46815.33  0.003412   \n",
       "2        7    19  2022-01-01 01:30:00  46815.34  46778.14 -0.000795   \n",
       "3        6    11  2022-01-01 02:00:00  46778.14  46826.01  0.001023   \n",
       "4        6    16  2022-01-01 02:30:00  46826.00  46811.77 -0.000304   \n",
       "...    ...   ...                  ...       ...       ...       ...   \n",
       "1483    15     7  2022-01-31 22:00:00  38410.09  38547.30  0.003572   \n",
       "1484    11     4  2022-01-31 22:30:00  38547.30  38412.46 -0.003498   \n",
       "1485     5    12  2022-01-31 23:00:00  38412.45  38412.23 -0.000006   \n",
       "1486    10     6  2022-01-31 23:30:00  38412.23  38466.90  0.001423   \n",
       "1487    11    18  2022-02-01 00:00:00  38466.90  38439.57 -0.000710   \n",
       "\n",
       "      Return_sign  kk08_pos_score_lag1  kk08_pos_score_lag2  \\\n",
       "0               1                  NaN                  NaN   \n",
       "1               1             0.769373                  NaN   \n",
       "2               0             0.739433             0.769373   \n",
       "3               1             0.768188             0.739433   \n",
       "4               0             0.785896             0.768188   \n",
       "...           ...                  ...                  ...   \n",
       "1483            1             0.766771             0.758002   \n",
       "1484            0             0.763569             0.766771   \n",
       "1485            0             0.803204             0.763569   \n",
       "1486            1             0.775618             0.803204   \n",
       "1487            0             0.781215             0.775618   \n",
       "\n",
       "      kk08_pos_score_lag3  \n",
       "0                     NaN  \n",
       "1                     NaN  \n",
       "2                     NaN  \n",
       "3                0.769373  \n",
       "4                0.739433  \n",
       "...                   ...  \n",
       "1483             0.762439  \n",
       "1484             0.758002  \n",
       "1485             0.766771  \n",
       "1486             0.763569  \n",
       "1487             0.803204  \n",
       "\n",
       "[1488 rows x 34 columns]"
      ]
     },
     "execution_count": 63,
     "metadata": {},
     "output_type": "execute_result"
    }
   ],
   "source": [
    "df"
   ]
  },
  {
   "cell_type": "code",
   "execution_count": 64,
   "metadata": {},
   "outputs": [],
   "source": [
    "df['Sentiment_vader_lag1']=df['Sentiment_vader'].shift(1)\n",
    "df['Sentiment_vader_lag2']=df['Sentiment_vader'].shift(2)\n",
    "df['Sentiment_vader_lag3']=df['Sentiment_vader'].shift(3)\n"
   ]
  },
  {
   "cell_type": "code",
   "execution_count": 65,
   "metadata": {},
   "outputs": [],
   "source": [
    "df_x_4 = df.dropna().reset_index(drop=True)[[\"Sentiment_vader\", \"Sentiment_vader_lag1\", \"Sentiment_vader_lag2\", \"Sentiment_vader_lag3\"]]\n",
    "df_y_4 = df[\"Return_sign\"].iloc[3:].reset_index(drop=True)"
   ]
  },
  {
   "cell_type": "code",
   "execution_count": 66,
   "metadata": {},
   "outputs": [
    {
     "data": {
      "text/html": [
       "<div>\n",
       "<style scoped>\n",
       "    .dataframe tbody tr th:only-of-type {\n",
       "        vertical-align: middle;\n",
       "    }\n",
       "\n",
       "    .dataframe tbody tr th {\n",
       "        vertical-align: top;\n",
       "    }\n",
       "\n",
       "    .dataframe thead th {\n",
       "        text-align: right;\n",
       "    }\n",
       "</style>\n",
       "<table border=\"1\" class=\"dataframe\">\n",
       "  <thead>\n",
       "    <tr style=\"text-align: right;\">\n",
       "      <th></th>\n",
       "      <th>Sentiment_vader</th>\n",
       "      <th>Sentiment_vader_lag1</th>\n",
       "      <th>Sentiment_vader_lag2</th>\n",
       "      <th>Sentiment_vader_lag3</th>\n",
       "    </tr>\n",
       "  </thead>\n",
       "  <tbody>\n",
       "    <tr>\n",
       "      <th>0</th>\n",
       "      <td>0.200349</td>\n",
       "      <td>0.154206</td>\n",
       "      <td>0.175647</td>\n",
       "      <td>0.149739</td>\n",
       "    </tr>\n",
       "    <tr>\n",
       "      <th>1</th>\n",
       "      <td>0.165008</td>\n",
       "      <td>0.200349</td>\n",
       "      <td>0.154206</td>\n",
       "      <td>0.175647</td>\n",
       "    </tr>\n",
       "    <tr>\n",
       "      <th>2</th>\n",
       "      <td>0.200392</td>\n",
       "      <td>0.165008</td>\n",
       "      <td>0.200349</td>\n",
       "      <td>0.154206</td>\n",
       "    </tr>\n",
       "    <tr>\n",
       "      <th>3</th>\n",
       "      <td>0.164456</td>\n",
       "      <td>0.200392</td>\n",
       "      <td>0.165008</td>\n",
       "      <td>0.200349</td>\n",
       "    </tr>\n",
       "    <tr>\n",
       "      <th>4</th>\n",
       "      <td>0.186867</td>\n",
       "      <td>0.164456</td>\n",
       "      <td>0.200392</td>\n",
       "      <td>0.165008</td>\n",
       "    </tr>\n",
       "    <tr>\n",
       "      <th>...</th>\n",
       "      <td>...</td>\n",
       "      <td>...</td>\n",
       "      <td>...</td>\n",
       "      <td>...</td>\n",
       "    </tr>\n",
       "    <tr>\n",
       "      <th>1480</th>\n",
       "      <td>0.145110</td>\n",
       "      <td>0.140631</td>\n",
       "      <td>0.141404</td>\n",
       "      <td>0.130697</td>\n",
       "    </tr>\n",
       "    <tr>\n",
       "      <th>1481</th>\n",
       "      <td>0.144737</td>\n",
       "      <td>0.145110</td>\n",
       "      <td>0.140631</td>\n",
       "      <td>0.141404</td>\n",
       "    </tr>\n",
       "    <tr>\n",
       "      <th>1482</th>\n",
       "      <td>0.169323</td>\n",
       "      <td>0.144737</td>\n",
       "      <td>0.145110</td>\n",
       "      <td>0.140631</td>\n",
       "    </tr>\n",
       "    <tr>\n",
       "      <th>1483</th>\n",
       "      <td>0.161486</td>\n",
       "      <td>0.169323</td>\n",
       "      <td>0.144737</td>\n",
       "      <td>0.145110</td>\n",
       "    </tr>\n",
       "    <tr>\n",
       "      <th>1484</th>\n",
       "      <td>0.140869</td>\n",
       "      <td>0.161486</td>\n",
       "      <td>0.169323</td>\n",
       "      <td>0.144737</td>\n",
       "    </tr>\n",
       "  </tbody>\n",
       "</table>\n",
       "<p>1485 rows × 4 columns</p>\n",
       "</div>"
      ],
      "text/plain": [
       "      Sentiment_vader  Sentiment_vader_lag1  Sentiment_vader_lag2  \\\n",
       "0            0.200349              0.154206              0.175647   \n",
       "1            0.165008              0.200349              0.154206   \n",
       "2            0.200392              0.165008              0.200349   \n",
       "3            0.164456              0.200392              0.165008   \n",
       "4            0.186867              0.164456              0.200392   \n",
       "...               ...                   ...                   ...   \n",
       "1480         0.145110              0.140631              0.141404   \n",
       "1481         0.144737              0.145110              0.140631   \n",
       "1482         0.169323              0.144737              0.145110   \n",
       "1483         0.161486              0.169323              0.144737   \n",
       "1484         0.140869              0.161486              0.169323   \n",
       "\n",
       "      Sentiment_vader_lag3  \n",
       "0                 0.149739  \n",
       "1                 0.175647  \n",
       "2                 0.154206  \n",
       "3                 0.200349  \n",
       "4                 0.165008  \n",
       "...                    ...  \n",
       "1480              0.130697  \n",
       "1481              0.141404  \n",
       "1482              0.140631  \n",
       "1483              0.145110  \n",
       "1484              0.144737  \n",
       "\n",
       "[1485 rows x 4 columns]"
      ]
     },
     "execution_count": 66,
     "metadata": {},
     "output_type": "execute_result"
    }
   ],
   "source": [
    "df_x_4"
   ]
  },
  {
   "cell_type": "code",
   "execution_count": 67,
   "metadata": {},
   "outputs": [
    {
     "data": {
      "text/plain": [
       "0       1\n",
       "1       0\n",
       "2       0\n",
       "3       1\n",
       "4       0\n",
       "       ..\n",
       "1480    1\n",
       "1481    0\n",
       "1482    0\n",
       "1483    1\n",
       "1484    0\n",
       "Name: Return_sign, Length: 1485, dtype: int64"
      ]
     },
     "execution_count": 67,
     "metadata": {},
     "output_type": "execute_result"
    }
   ],
   "source": [
    "df_y_4"
   ]
  },
  {
   "cell_type": "code",
   "execution_count": 68,
   "metadata": {},
   "outputs": [],
   "source": [
    "train_share = 0.85\n",
    "df_x_4_train = df_x_4.iloc[:int(len(df_x_4)*train_share)].reset_index(drop=True)\n",
    "df_y_4_train = df_y_4.iloc[:int(len(df_x_4)*train_share)].reset_index(drop=True)\n",
    "\n",
    "df_x_4_test = df_x_4.iloc[int(len(df_x_4)*train_share):].reset_index(drop=True)\n",
    "df_y_4_test = df_y_4.iloc[int(len(df_x_4)*train_share):].reset_index(drop=True)"
   ]
  },
  {
   "cell_type": "code",
   "execution_count": 69,
   "metadata": {},
   "outputs": [
    {
     "data": {
      "text/plain": [
       "0.5291479820627802"
      ]
     },
     "execution_count": 69,
     "metadata": {},
     "output_type": "execute_result"
    }
   ],
   "source": [
    "sum(df_y_4_test)/len(df_y_4_test)"
   ]
  },
  {
   "cell_type": "code",
   "execution_count": 70,
   "metadata": {},
   "outputs": [
    {
     "name": "stdout",
     "output_type": "stream",
     "text": [
      "Accuracy: 0.4566929133858268\n",
      "ROC-AUC: 0.5\n",
      "F1-score: 0.0\n"
     ]
    }
   ],
   "source": [
    "from sklearn.dummy import DummyClassifier\n",
    "dummy_model = DummyClassifier(strategy='most_frequent')\n",
    "dummy_pred, dummy_acc, dummy_roc_auc,dummy_f1, dummy_feat_imp= cv_and_predict_valid(df_x_4_train,df_y_4_train,dummy_model)\n"
   ]
  },
  {
   "cell_type": "code",
   "execution_count": 71,
   "metadata": {},
   "outputs": [
    {
     "name": "stdout",
     "output_type": "stream",
     "text": [
      "RandomForestClassifier(n_estimators=10, random_state=17)\n",
      "Best parameters from grid search: {'n_estimators': 10}\n",
      "Accuracy: 0.4566929133858268\n",
      "ROC-AUC: 0.46426786606696646\n",
      "F1-score: 0.4297520661157025\n"
     ]
    }
   ],
   "source": [
    "from sklearn.ensemble import RandomForestClassifier\n",
    "# Random Forest\n",
    "grid_params = {'n_estimators': [5, 10, 20, 50, 100, 300]}\n",
    "rf_model = RandomForestClassifier(random_state=17)\n",
    "rf_pred, rf_acc, rf_roc_auc,rf_f1, rf_feat_imp = cv_and_predict_valid(df_x_4_train,df_y_4_train, rf_model, tree = True, grid_search=True, grid_parameters=grid_params)"
   ]
  },
  {
   "cell_type": "code",
   "execution_count": 72,
   "metadata": {},
   "outputs": [
    {
     "name": "stdout",
     "output_type": "stream",
     "text": [
      "Accuracy: 0.5381165919282511\n",
      "ROC-AUC: 0.5425746569814367\n",
      "F1-score: 0.5164319248826291\n"
     ]
    }
   ],
   "source": [
    "# testing\n",
    "model = RandomForestClassifier(n_estimators=10, random_state=17)\n",
    "model.fit(df_x_4_train, df_y_4_train)\n",
    "predictions = model.predict(df_x_4_test)\n",
    "accuracy = accuracy_score(df_y_4_test, predictions)\n",
    "roc_auc = roc_auc_score(df_y_4_test, predictions)\n",
    "f1 = f1_score(df_y_4_test, predictions)\n",
    "    \n",
    "print(f\"Accuracy: {accuracy}\")\n",
    "print(f\"ROC-AUC: {roc_auc}\")\n",
    "print(f\"F1-score: {f1}\")\n",
    "# not bad"
   ]
  },
  {
   "cell_type": "code",
   "execution_count": 73,
   "metadata": {},
   "outputs": [
    {
     "name": "stdout",
     "output_type": "stream",
     "text": [
      "XGBClassifier(base_score=None, booster=None, callbacks=None,\n",
      "              colsample_bylevel=None, colsample_bynode=None,\n",
      "              colsample_bytree=None, device=None, early_stopping_rounds=None,\n",
      "              enable_categorical=False, eval_metric=None, feature_types=None,\n",
      "              gamma=None, grow_policy=None, importance_type=None,\n",
      "              interaction_constraints=None, learning_rate=None, max_bin=None,\n",
      "              max_cat_threshold=None, max_cat_to_onehot=None,\n",
      "              max_delta_step=None, max_depth=6, max_leaves=None,\n",
      "              min_child_weight=None, missing=nan, monotone_constraints=None,\n",
      "              multi_strategy=None, n_estimators=300, n_jobs=None,\n",
      "              num_parallel_tree=None, random_state=17, ...)\n",
      "Best parameters from grid search: {'max_depth': 6, 'n_estimators': 300}\n",
      "Accuracy: 0.41732283464566927\n",
      "ROC-AUC: 0.418415792103948\n",
      "F1-score: 0.4307692307692308\n"
     ]
    }
   ],
   "source": [
    "from xgboost import XGBClassifier\n",
    "# XGBoost\n",
    "grid_params = {'n_estimators': [100, 300, 500],\"max_depth\": [1,3,6]}\n",
    "xgb_model = XGBClassifier(random_state=17)\n",
    "xgb_pred, xgb_acc, xgb_roc_auc,xgb_f1, xgb_feat_imp = cv_and_predict_valid(df_x_4_train,df_y_4_train, xgb_model, tree = True, grid_search=True, grid_parameters=grid_params)"
   ]
  },
  {
   "cell_type": "code",
   "execution_count": 74,
   "metadata": {},
   "outputs": [
    {
     "name": "stdout",
     "output_type": "stream",
     "text": [
      "Accuracy: 0.4977578475336323\n",
      "ROC-AUC: 0.4970944309927361\n",
      "F1-score: 0.5172413793103449\n"
     ]
    }
   ],
   "source": [
    "# testing\n",
    "model = XGBClassifier(random_state=17, max_depth = 6, n_estimators= 300)\n",
    "model.fit(df_x_4_train, df_y_4_train)\n",
    "predictions = model.predict(df_x_4_test)\n",
    "accuracy = accuracy_score(df_y_4_test, predictions)\n",
    "roc_auc = roc_auc_score(df_y_4_test, predictions)\n",
    "f1 = f1_score(df_y_4_test, predictions)\n",
    "    \n",
    "print(f\"Accuracy: {accuracy}\")\n",
    "print(f\"ROC-AUC: {roc_auc}\")\n",
    "print(f\"F1-score: {f1}\")\n",
    "# good"
   ]
  },
  {
   "cell_type": "code",
   "execution_count": 75,
   "metadata": {},
   "outputs": [
    {
     "name": "stdout",
     "output_type": "stream",
     "text": [
      "SVC(C=0.1, class_weight='balanced', gamma=1, kernel='poly')\n",
      "Best parameters from grid search: {'C': 0.1, 'class_weight': 'balanced', 'gamma': 1, 'kernel': 'poly'}\n",
      "Accuracy: 0.5433070866141733\n",
      "ROC-AUC: 0.5\n",
      "F1-score: 0.7040816326530612\n"
     ]
    }
   ],
   "source": [
    "from sklearn.svm import SVC\n",
    "# SVM\n",
    "grid_params = {'C': [0.1, 0.3, 0.7, 1],  'kernel': ['poly', 'rbf'], 'gamma': [1, 0.1, 0.01], 'class_weight': ['balanced', None]}\n",
    "svm_model = SVC()\n",
    "svm_pred, svm_acc, svm_roc_auc,svm_f1, svm_feat_imp = cv_and_predict_valid(df_x_4_train,df_y_4_train, svm_model, grid_search=True, grid_parameters=grid_params)\n",
    "# too bad"
   ]
  },
  {
   "cell_type": "code",
   "execution_count": 76,
   "metadata": {},
   "outputs": [
    {
     "name": "stdout",
     "output_type": "stream",
     "text": [
      "Accuracy: 0.47085201793721976\n",
      "ROC-AUC: 0.5\n",
      "F1-score: 0.0\n"
     ]
    }
   ],
   "source": [
    "# testing\n",
    "model = SVC(C=0.1, class_weight='balanced', gamma=1, kernel='poly')\n",
    "\n",
    "model.fit(df_x_4_train, df_y_4_train)\n",
    "predictions = model.predict(df_x_4_test)\n",
    "accuracy = accuracy_score(df_y_4_test, predictions)\n",
    "roc_auc = roc_auc_score(df_y_4_test, predictions)\n",
    "f1 = f1_score(df_y_4_test, predictions)\n",
    "    \n",
    "print(f\"Accuracy: {accuracy}\")\n",
    "print(f\"ROC-AUC: {roc_auc}\")\n",
    "print(f\"F1-score: {f1}\")"
   ]
  },
  {
   "cell_type": "code",
   "execution_count": 77,
   "metadata": {},
   "outputs": [
    {
     "name": "stderr",
     "output_type": "stream",
     "text": [
      "c:\\Users\\isaen\\AppData\\Local\\Programs\\Python\\Python312\\Lib\\site-packages\\sklearn\\ensemble\\_weight_boosting.py:519: FutureWarning: The SAMME.R algorithm (the default) is deprecated and will be removed in 1.6. Use the SAMME algorithm to circumvent this warning.\n",
      "  warnings.warn(\n"
     ]
    },
    {
     "name": "stdout",
     "output_type": "stream",
     "text": [
      "AdaBoostClassifier(learning_rate=1, n_estimators=500)\n",
      "Best parameters from grid search: {'learning_rate': 1, 'n_estimators': 500}\n",
      "Accuracy: 0.4015748031496063\n",
      "ROC-AUC: 0.40392303848075956\n",
      "F1-score: 0.40625\n"
     ]
    }
   ],
   "source": [
    "from sklearn.ensemble import AdaBoostClassifier\n",
    "grid_params = {'n_estimators': [50, 100, 300, 500], 'learning_rate':[0.1, 0.3, 0.5, 1]}\n",
    "model = AdaBoostClassifier()\n",
    "ada_pred, ada_acc, ada_roc_auc,ada_f1, ada_feat_imp = cv_and_predict_valid(df_x_4_train,df_y_4_train, model, tree = True, grid_search=True, grid_parameters = grid_params)\n"
   ]
  },
  {
   "cell_type": "code",
   "execution_count": 78,
   "metadata": {},
   "outputs": [
    {
     "name": "stderr",
     "output_type": "stream",
     "text": [
      "c:\\Users\\isaen\\AppData\\Local\\Programs\\Python\\Python312\\Lib\\site-packages\\sklearn\\ensemble\\_weight_boosting.py:519: FutureWarning: The SAMME.R algorithm (the default) is deprecated and will be removed in 1.6. Use the SAMME algorithm to circumvent this warning.\n",
      "  warnings.warn(\n"
     ]
    },
    {
     "name": "stdout",
     "output_type": "stream",
     "text": [
      "Accuracy: 0.5112107623318386\n",
      "ROC-AUC: 0.5134786117836966\n",
      "F1-score: 0.5067873303167421\n"
     ]
    }
   ],
   "source": [
    "# testing\n",
    "model = model = AdaBoostClassifier(learning_rate=1, n_estimators=500)\n",
    "model.fit(df_x_4_train, df_y_4_train)\n",
    "predictions = model.predict(df_x_4_test)\n",
    "accuracy = accuracy_score(df_y_4_test, predictions)\n",
    "roc_auc = roc_auc_score(df_y_4_test, predictions)\n",
    "f1 = f1_score(df_y_4_test, predictions)\n",
    "    \n",
    "print(f\"Accuracy: {accuracy}\")\n",
    "print(f\"ROC-AUC: {roc_auc}\")\n",
    "print(f\"F1-score: {f1}\")\n",
    "# good"
   ]
  },
  {
   "cell_type": "code",
   "execution_count": 79,
   "metadata": {},
   "outputs": [
    {
     "name": "stdout",
     "output_type": "stream",
     "text": [
      "Accuracy: 0.5118110236220472\n",
      "ROC-AUC: 0.4916291854072964\n",
      "F1-score: 0.6172839506172839\n"
     ]
    }
   ],
   "source": [
    "from sklearn.naive_bayes import GaussianNB\n",
    "model = GaussianNB()\n",
    "nb_pred, nb_acc, nb_roc_auc,nb_f1, nb_feat_imp = cv_and_predict_valid(df_x_4_train,df_y_4_train, model)\n"
   ]
  },
  {
   "cell_type": "code",
   "execution_count": 80,
   "metadata": {},
   "outputs": [
    {
     "name": "stdout",
     "output_type": "stream",
     "text": [
      "Accuracy: 0.5381165919282511\n",
      "ROC-AUC: 0.5205407586763519\n",
      "F1-score: 0.6531986531986532\n"
     ]
    }
   ],
   "source": [
    "# testing\n",
    "model = model = GaussianNB()\n",
    "model.fit(df_x_4_train, df_y_4_train)\n",
    "predictions = model.predict(df_x_4_test)\n",
    "accuracy = accuracy_score(df_y_4_test, predictions)\n",
    "roc_auc = roc_auc_score(df_y_4_test, predictions)\n",
    "f1 = f1_score(df_y_4_test, predictions)\n",
    "    \n",
    "print(f\"Accuracy: {accuracy}\")\n",
    "print(f\"ROC-AUC: {roc_auc}\")\n",
    "print(f\"F1-score: {f1}\")\n",
    "# not bad\n"
   ]
  },
  {
   "cell_type": "code",
   "execution_count": 81,
   "metadata": {},
   "outputs": [
    {
     "name": "stdout",
     "output_type": "stream",
     "text": [
      "Accuracy: 0.4566929133858268\n",
      "ROC-AUC: 0.5\n",
      "F1-score: 0.0\n"
     ]
    }
   ],
   "source": [
    "from sklearn.linear_model import LogisticRegression\n",
    "model = LogisticRegression(C=0.5)\n",
    "lr_pred, lr_acc, lr_roc_auc,lr_f1, lr_feat_imp = cv_and_predict_valid(df_x_4_train,df_y_4_train, model)\n"
   ]
  },
  {
   "cell_type": "code",
   "execution_count": 82,
   "metadata": {},
   "outputs": [
    {
     "name": "stdout",
     "output_type": "stream",
     "text": [
      "Accuracy: 0.47085201793721976\n",
      "ROC-AUC: 0.5\n",
      "F1-score: 0.0\n"
     ]
    }
   ],
   "source": [
    "# testing\n",
    "model = model = LogisticRegression(C=0.5)\n",
    "model.fit(df_x_4_train, df_y_4_train)\n",
    "predictions = model.predict(df_x_4_test)\n",
    "accuracy = accuracy_score(df_y_4_test, predictions)\n",
    "roc_auc = roc_auc_score(df_y_4_test, predictions)\n",
    "f1 = f1_score(df_y_4_test, predictions)\n",
    "    \n",
    "print(f\"Accuracy: {accuracy}\")\n",
    "print(f\"ROC-AUC: {roc_auc}\")\n",
    "print(f\"F1-score: {f1}\")"
   ]
  },
  {
   "cell_type": "code",
   "execution_count": 83,
   "metadata": {},
   "outputs": [
    {
     "name": "stdout",
     "output_type": "stream",
     "text": [
      "KNeighborsClassifier(n_neighbors=10)\n",
      "Best parameters from grid search: {'n_neighbors': 10}\n",
      "Accuracy: 0.48031496062992124\n",
      "ROC-AUC: 0.4928785607196402\n",
      "F1-score: 0.42105263157894735\n"
     ]
    }
   ],
   "source": [
    "from sklearn.neighbors import KNeighborsClassifier\n",
    "grid_params = {'n_neighbors': [1, 2, 3, 4, 5, 10, 20, 50]}\n",
    "model = KNeighborsClassifier()\n",
    "knn_pred, knn_acc, knn_roc_auc,knn_f1, knn_feat_imp = cv_and_predict_valid(df_x_4_train,df_y_4_train, model, grid_search=True, grid_parameters=grid_params)\n"
   ]
  },
  {
   "cell_type": "code",
   "execution_count": 84,
   "metadata": {},
   "outputs": [
    {
     "name": "stdout",
     "output_type": "stream",
     "text": [
      "Accuracy: 0.5695067264573991\n",
      "ROC-AUC: 0.5795803066989508\n",
      "F1-score: 0.5\n"
     ]
    }
   ],
   "source": [
    "# testing\n",
    "model = model = KNeighborsClassifier(n_neighbors=10)\n",
    "model.fit(df_x_4_train, df_y_4_train)\n",
    "predictions = model.predict(df_x_4_test)\n",
    "accuracy = accuracy_score(df_y_4_test, predictions)\n",
    "roc_auc = roc_auc_score(df_y_4_test, predictions)\n",
    "f1 = f1_score(df_y_4_test, predictions)\n",
    "    \n",
    "print(f\"Accuracy: {accuracy}\")\n",
    "print(f\"ROC-AUC: {roc_auc}\")\n",
    "print(f\"F1-score: {f1}\")\n",
    "# not bad"
   ]
  },
  {
   "cell_type": "code",
   "execution_count": null,
   "metadata": {},
   "outputs": [],
   "source": []
  },
  {
   "cell_type": "markdown",
   "metadata": {},
   "source": [
    "# Only elkulako"
   ]
  },
  {
   "cell_type": "code",
   "execution_count": 85,
   "metadata": {},
   "outputs": [
    {
     "data": {
      "text/html": [
       "<div>\n",
       "<style scoped>\n",
       "    .dataframe tbody tr th:only-of-type {\n",
       "        vertical-align: middle;\n",
       "    }\n",
       "\n",
       "    .dataframe tbody tr th {\n",
       "        vertical-align: top;\n",
       "    }\n",
       "\n",
       "    .dataframe thead th {\n",
       "        text-align: right;\n",
       "    }\n",
       "</style>\n",
       "<table border=\"1\" class=\"dataframe\">\n",
       "  <thead>\n",
       "    <tr style=\"text-align: right;\">\n",
       "      <th></th>\n",
       "      <th>Date_30m</th>\n",
       "      <th>datetime</th>\n",
       "      <th>text</th>\n",
       "      <th>username</th>\n",
       "      <th>kk08_pos_score</th>\n",
       "      <th>kk08_score_diff</th>\n",
       "      <th>Elkulako_label</th>\n",
       "      <th>Sentiment_vader</th>\n",
       "      <th>pred</th>\n",
       "      <th>analysis</th>\n",
       "      <th>...</th>\n",
       "      <th>open</th>\n",
       "      <th>close</th>\n",
       "      <th>Return</th>\n",
       "      <th>Return_sign</th>\n",
       "      <th>kk08_pos_score_lag1</th>\n",
       "      <th>kk08_pos_score_lag2</th>\n",
       "      <th>kk08_pos_score_lag3</th>\n",
       "      <th>Sentiment_vader_lag1</th>\n",
       "      <th>Sentiment_vader_lag2</th>\n",
       "      <th>Sentiment_vader_lag3</th>\n",
       "    </tr>\n",
       "  </thead>\n",
       "  <tbody>\n",
       "    <tr>\n",
       "      <th>0</th>\n",
       "      <td>2022-01-01 00:30:00</td>\n",
       "      <td>['2022-01-01 00:00:00', '2022-01-01 00:00:00',...</td>\n",
       "      <td>Current Price of Bitcoin:\\n$46320 (-1.85%)\\n\\n...</td>\n",
       "      <td>CryptoNerdApp\\nTrendSpider\\nMadStudentScie1\\nW...</td>\n",
       "      <td>0.769373</td>\n",
       "      <td>0.538746</td>\n",
       "      <td>0.324930</td>\n",
       "      <td>0.149739</td>\n",
       "      <td>20</td>\n",
       "      <td>46</td>\n",
       "      <td>...</td>\n",
       "      <td>46375.42</td>\n",
       "      <td>46656.13</td>\n",
       "      <td>0.006053</td>\n",
       "      <td>1</td>\n",
       "      <td>NaN</td>\n",
       "      <td>NaN</td>\n",
       "      <td>NaN</td>\n",
       "      <td>NaN</td>\n",
       "      <td>NaN</td>\n",
       "      <td>NaN</td>\n",
       "    </tr>\n",
       "    <tr>\n",
       "      <th>1</th>\n",
       "      <td>2022-01-01 01:00:00</td>\n",
       "      <td>['2022-01-01 00:30:00', '2022-01-01 00:30:01',...</td>\n",
       "      <td>“Here's to a bright New Year and a fond farewe...</td>\n",
       "      <td>bitcoiva\\ncryptozone007\\nlinuxadvocate\\nbakedn...</td>\n",
       "      <td>0.739433</td>\n",
       "      <td>0.478866</td>\n",
       "      <td>0.412354</td>\n",
       "      <td>0.175647</td>\n",
       "      <td>14</td>\n",
       "      <td>26</td>\n",
       "      <td>...</td>\n",
       "      <td>46656.14</td>\n",
       "      <td>46815.33</td>\n",
       "      <td>0.003412</td>\n",
       "      <td>1</td>\n",
       "      <td>0.769373</td>\n",
       "      <td>NaN</td>\n",
       "      <td>NaN</td>\n",
       "      <td>0.149739</td>\n",
       "      <td>NaN</td>\n",
       "      <td>NaN</td>\n",
       "    </tr>\n",
       "    <tr>\n",
       "      <th>2</th>\n",
       "      <td>2022-01-01 01:30:00</td>\n",
       "      <td>['2022-01-01 01:00:00', '2022-01-01 01:00:00',...</td>\n",
       "      <td>Today's Cryptocurrency Fear And Greed Index: 2...</td>\n",
       "      <td>FearAndGreedBot\\nOfficialOverbit\\nBTC_AI_bot\\n...</td>\n",
       "      <td>0.768188</td>\n",
       "      <td>0.536376</td>\n",
       "      <td>0.349835</td>\n",
       "      <td>0.154206</td>\n",
       "      <td>15</td>\n",
       "      <td>17</td>\n",
       "      <td>...</td>\n",
       "      <td>46815.34</td>\n",
       "      <td>46778.14</td>\n",
       "      <td>-0.000795</td>\n",
       "      <td>0</td>\n",
       "      <td>0.739433</td>\n",
       "      <td>0.769373</td>\n",
       "      <td>NaN</td>\n",
       "      <td>0.175647</td>\n",
       "      <td>0.149739</td>\n",
       "      <td>NaN</td>\n",
       "    </tr>\n",
       "    <tr>\n",
       "      <th>3</th>\n",
       "      <td>2022-01-01 02:00:00</td>\n",
       "      <td>['2022-01-01 01:30:00', '2022-01-01 01:30:00',...</td>\n",
       "      <td>This year is my year , the year of my progress...</td>\n",
       "      <td>GhorbaniArshiya\\nPopunderTraffic\\nobjectwizard...</td>\n",
       "      <td>0.785896</td>\n",
       "      <td>0.571792</td>\n",
       "      <td>0.334061</td>\n",
       "      <td>0.200349</td>\n",
       "      <td>15</td>\n",
       "      <td>12</td>\n",
       "      <td>...</td>\n",
       "      <td>46778.14</td>\n",
       "      <td>46826.01</td>\n",
       "      <td>0.001023</td>\n",
       "      <td>1</td>\n",
       "      <td>0.768188</td>\n",
       "      <td>0.739433</td>\n",
       "      <td>0.769373</td>\n",
       "      <td>0.154206</td>\n",
       "      <td>0.175647</td>\n",
       "      <td>0.149739</td>\n",
       "    </tr>\n",
       "    <tr>\n",
       "      <th>4</th>\n",
       "      <td>2022-01-01 02:30:00</td>\n",
       "      <td>['2022-01-01 02:00:00', '2022-01-01 02:00:00',...</td>\n",
       "      <td>Huobi Singapore would like to wish you a Happy...</td>\n",
       "      <td>HuobiSg\\nAmazonCash4Cars\\nBTC_AI_bot\\nCalvinAy...</td>\n",
       "      <td>0.774167</td>\n",
       "      <td>0.548335</td>\n",
       "      <td>0.403475</td>\n",
       "      <td>0.165008</td>\n",
       "      <td>13</td>\n",
       "      <td>13</td>\n",
       "      <td>...</td>\n",
       "      <td>46826.00</td>\n",
       "      <td>46811.77</td>\n",
       "      <td>-0.000304</td>\n",
       "      <td>0</td>\n",
       "      <td>0.785896</td>\n",
       "      <td>0.768188</td>\n",
       "      <td>0.739433</td>\n",
       "      <td>0.200349</td>\n",
       "      <td>0.154206</td>\n",
       "      <td>0.175647</td>\n",
       "    </tr>\n",
       "    <tr>\n",
       "      <th>...</th>\n",
       "      <td>...</td>\n",
       "      <td>...</td>\n",
       "      <td>...</td>\n",
       "      <td>...</td>\n",
       "      <td>...</td>\n",
       "      <td>...</td>\n",
       "      <td>...</td>\n",
       "      <td>...</td>\n",
       "      <td>...</td>\n",
       "      <td>...</td>\n",
       "      <td>...</td>\n",
       "      <td>...</td>\n",
       "      <td>...</td>\n",
       "      <td>...</td>\n",
       "      <td>...</td>\n",
       "      <td>...</td>\n",
       "      <td>...</td>\n",
       "      <td>...</td>\n",
       "      <td>...</td>\n",
       "      <td>...</td>\n",
       "      <td>...</td>\n",
       "    </tr>\n",
       "    <tr>\n",
       "      <th>1483</th>\n",
       "      <td>2022-01-31 22:00:00</td>\n",
       "      <td>['2022-01-31 21:30:00', '2022-01-31 21:30:00',...</td>\n",
       "      <td>#morganstanley calms tempers and minimizes #Bi...</td>\n",
       "      <td>Ricardo04606850\\nTACryptowaves\\ncryptonewsleak...</td>\n",
       "      <td>0.763569</td>\n",
       "      <td>0.527137</td>\n",
       "      <td>0.227818</td>\n",
       "      <td>0.145110</td>\n",
       "      <td>9</td>\n",
       "      <td>10</td>\n",
       "      <td>...</td>\n",
       "      <td>38410.09</td>\n",
       "      <td>38547.30</td>\n",
       "      <td>0.003572</td>\n",
       "      <td>1</td>\n",
       "      <td>0.766771</td>\n",
       "      <td>0.758002</td>\n",
       "      <td>0.762439</td>\n",
       "      <td>0.140631</td>\n",
       "      <td>0.141404</td>\n",
       "      <td>0.130697</td>\n",
       "    </tr>\n",
       "    <tr>\n",
       "      <th>1484</th>\n",
       "      <td>2022-01-31 22:30:00</td>\n",
       "      <td>['2022-01-31 22:00:00', '2022-01-31 22:00:00',...</td>\n",
       "      <td>BTC Latest Block Info: Block 721243 holds 2,80...</td>\n",
       "      <td>btc_blockbot\\nM1Seahawk\\nnialljburke\\nmurray_r...</td>\n",
       "      <td>0.803204</td>\n",
       "      <td>0.606408</td>\n",
       "      <td>0.229487</td>\n",
       "      <td>0.144737</td>\n",
       "      <td>11</td>\n",
       "      <td>12</td>\n",
       "      <td>...</td>\n",
       "      <td>38547.30</td>\n",
       "      <td>38412.46</td>\n",
       "      <td>-0.003498</td>\n",
       "      <td>0</td>\n",
       "      <td>0.763569</td>\n",
       "      <td>0.766771</td>\n",
       "      <td>0.758002</td>\n",
       "      <td>0.145110</td>\n",
       "      <td>0.140631</td>\n",
       "      <td>0.141404</td>\n",
       "    </tr>\n",
       "    <tr>\n",
       "      <th>1485</th>\n",
       "      <td>2022-01-31 23:00:00</td>\n",
       "      <td>['2022-01-31 22:30:00', '2022-01-31 22:30:00',...</td>\n",
       "      <td>Good move of #Bitcoin today, reversal not conf...</td>\n",
       "      <td>CryptoMichNL\\nIntEngineering\\nKahunaATM\\nMBrae...</td>\n",
       "      <td>0.775618</td>\n",
       "      <td>0.551236</td>\n",
       "      <td>0.206623</td>\n",
       "      <td>0.169323</td>\n",
       "      <td>3</td>\n",
       "      <td>11</td>\n",
       "      <td>...</td>\n",
       "      <td>38412.45</td>\n",
       "      <td>38412.23</td>\n",
       "      <td>-0.000006</td>\n",
       "      <td>0</td>\n",
       "      <td>0.803204</td>\n",
       "      <td>0.763569</td>\n",
       "      <td>0.766771</td>\n",
       "      <td>0.144737</td>\n",
       "      <td>0.145110</td>\n",
       "      <td>0.140631</td>\n",
       "    </tr>\n",
       "    <tr>\n",
       "      <th>1486</th>\n",
       "      <td>2022-01-31 23:30:00</td>\n",
       "      <td>['2022-01-31 23:00:00', '2022-01-31 23:00:00',...</td>\n",
       "      <td>Top #Cryptocurrency RANK DOWN (#crypto #bitcoi...</td>\n",
       "      <td>CryptoTopCharts\\nBTC_AI_bot\\ncryptonewsleak\\nt...</td>\n",
       "      <td>0.781215</td>\n",
       "      <td>0.562431</td>\n",
       "      <td>0.270270</td>\n",
       "      <td>0.161486</td>\n",
       "      <td>9</td>\n",
       "      <td>10</td>\n",
       "      <td>...</td>\n",
       "      <td>38412.23</td>\n",
       "      <td>38466.90</td>\n",
       "      <td>0.001423</td>\n",
       "      <td>1</td>\n",
       "      <td>0.775618</td>\n",
       "      <td>0.803204</td>\n",
       "      <td>0.763569</td>\n",
       "      <td>0.169323</td>\n",
       "      <td>0.144737</td>\n",
       "      <td>0.145110</td>\n",
       "    </tr>\n",
       "    <tr>\n",
       "      <th>1487</th>\n",
       "      <td>2022-02-01 00:00:00</td>\n",
       "      <td>['2022-01-31 23:30:01', '2022-01-31 23:30:02',...</td>\n",
       "      <td>Bitcoin On Its Way To $500,000? Anthony Scaram...</td>\n",
       "      <td>OutlawBuckeye\\nSifHomes\\nitvc_\\nRaulGlzC\\nTheM...</td>\n",
       "      <td>0.755510</td>\n",
       "      <td>0.511020</td>\n",
       "      <td>0.242021</td>\n",
       "      <td>0.140869</td>\n",
       "      <td>7</td>\n",
       "      <td>9</td>\n",
       "      <td>...</td>\n",
       "      <td>38466.90</td>\n",
       "      <td>38439.57</td>\n",
       "      <td>-0.000710</td>\n",
       "      <td>0</td>\n",
       "      <td>0.781215</td>\n",
       "      <td>0.775618</td>\n",
       "      <td>0.803204</td>\n",
       "      <td>0.161486</td>\n",
       "      <td>0.169323</td>\n",
       "      <td>0.144737</td>\n",
       "    </tr>\n",
       "  </tbody>\n",
       "</table>\n",
       "<p>1488 rows × 37 columns</p>\n",
       "</div>"
      ],
      "text/plain": [
       "                 Date_30m                                           datetime  \\\n",
       "0     2022-01-01 00:30:00  ['2022-01-01 00:00:00', '2022-01-01 00:00:00',...   \n",
       "1     2022-01-01 01:00:00  ['2022-01-01 00:30:00', '2022-01-01 00:30:01',...   \n",
       "2     2022-01-01 01:30:00  ['2022-01-01 01:00:00', '2022-01-01 01:00:00',...   \n",
       "3     2022-01-01 02:00:00  ['2022-01-01 01:30:00', '2022-01-01 01:30:00',...   \n",
       "4     2022-01-01 02:30:00  ['2022-01-01 02:00:00', '2022-01-01 02:00:00',...   \n",
       "...                   ...                                                ...   \n",
       "1483  2022-01-31 22:00:00  ['2022-01-31 21:30:00', '2022-01-31 21:30:00',...   \n",
       "1484  2022-01-31 22:30:00  ['2022-01-31 22:00:00', '2022-01-31 22:00:00',...   \n",
       "1485  2022-01-31 23:00:00  ['2022-01-31 22:30:00', '2022-01-31 22:30:00',...   \n",
       "1486  2022-01-31 23:30:00  ['2022-01-31 23:00:00', '2022-01-31 23:00:00',...   \n",
       "1487  2022-02-01 00:00:00  ['2022-01-31 23:30:01', '2022-01-31 23:30:02',...   \n",
       "\n",
       "                                                   text  \\\n",
       "0     Current Price of Bitcoin:\\n$46320 (-1.85%)\\n\\n...   \n",
       "1     “Here's to a bright New Year and a fond farewe...   \n",
       "2     Today's Cryptocurrency Fear And Greed Index: 2...   \n",
       "3     This year is my year , the year of my progress...   \n",
       "4     Huobi Singapore would like to wish you a Happy...   \n",
       "...                                                 ...   \n",
       "1483  #morganstanley calms tempers and minimizes #Bi...   \n",
       "1484  BTC Latest Block Info: Block 721243 holds 2,80...   \n",
       "1485  Good move of #Bitcoin today, reversal not conf...   \n",
       "1486  Top #Cryptocurrency RANK DOWN (#crypto #bitcoi...   \n",
       "1487  Bitcoin On Its Way To $500,000? Anthony Scaram...   \n",
       "\n",
       "                                               username  kk08_pos_score  \\\n",
       "0     CryptoNerdApp\\nTrendSpider\\nMadStudentScie1\\nW...        0.769373   \n",
       "1     bitcoiva\\ncryptozone007\\nlinuxadvocate\\nbakedn...        0.739433   \n",
       "2     FearAndGreedBot\\nOfficialOverbit\\nBTC_AI_bot\\n...        0.768188   \n",
       "3     GhorbaniArshiya\\nPopunderTraffic\\nobjectwizard...        0.785896   \n",
       "4     HuobiSg\\nAmazonCash4Cars\\nBTC_AI_bot\\nCalvinAy...        0.774167   \n",
       "...                                                 ...             ...   \n",
       "1483  Ricardo04606850\\nTACryptowaves\\ncryptonewsleak...        0.763569   \n",
       "1484  btc_blockbot\\nM1Seahawk\\nnialljburke\\nmurray_r...        0.803204   \n",
       "1485  CryptoMichNL\\nIntEngineering\\nKahunaATM\\nMBrae...        0.775618   \n",
       "1486  CryptoTopCharts\\nBTC_AI_bot\\ncryptonewsleak\\nt...        0.781215   \n",
       "1487  OutlawBuckeye\\nSifHomes\\nitvc_\\nRaulGlzC\\nTheM...        0.755510   \n",
       "\n",
       "      kk08_score_diff  Elkulako_label  Sentiment_vader  pred  analysis  ...  \\\n",
       "0            0.538746        0.324930         0.149739    20        46  ...   \n",
       "1            0.478866        0.412354         0.175647    14        26  ...   \n",
       "2            0.536376        0.349835         0.154206    15        17  ...   \n",
       "3            0.571792        0.334061         0.200349    15        12  ...   \n",
       "4            0.548335        0.403475         0.165008    13        13  ...   \n",
       "...               ...             ...              ...   ...       ...  ...   \n",
       "1483         0.527137        0.227818         0.145110     9        10  ...   \n",
       "1484         0.606408        0.229487         0.144737    11        12  ...   \n",
       "1485         0.551236        0.206623         0.169323     3        11  ...   \n",
       "1486         0.562431        0.270270         0.161486     9        10  ...   \n",
       "1487         0.511020        0.242021         0.140869     7         9  ...   \n",
       "\n",
       "          open     close    Return  Return_sign  kk08_pos_score_lag1  \\\n",
       "0     46375.42  46656.13  0.006053            1                  NaN   \n",
       "1     46656.14  46815.33  0.003412            1             0.769373   \n",
       "2     46815.34  46778.14 -0.000795            0             0.739433   \n",
       "3     46778.14  46826.01  0.001023            1             0.768188   \n",
       "4     46826.00  46811.77 -0.000304            0             0.785896   \n",
       "...        ...       ...       ...          ...                  ...   \n",
       "1483  38410.09  38547.30  0.003572            1             0.766771   \n",
       "1484  38547.30  38412.46 -0.003498            0             0.763569   \n",
       "1485  38412.45  38412.23 -0.000006            0             0.803204   \n",
       "1486  38412.23  38466.90  0.001423            1             0.775618   \n",
       "1487  38466.90  38439.57 -0.000710            0             0.781215   \n",
       "\n",
       "      kk08_pos_score_lag2  kk08_pos_score_lag3  Sentiment_vader_lag1  \\\n",
       "0                     NaN                  NaN                   NaN   \n",
       "1                     NaN                  NaN              0.149739   \n",
       "2                0.769373                  NaN              0.175647   \n",
       "3                0.739433             0.769373              0.154206   \n",
       "4                0.768188             0.739433              0.200349   \n",
       "...                   ...                  ...                   ...   \n",
       "1483             0.758002             0.762439              0.140631   \n",
       "1484             0.766771             0.758002              0.145110   \n",
       "1485             0.763569             0.766771              0.144737   \n",
       "1486             0.803204             0.763569              0.169323   \n",
       "1487             0.775618             0.803204              0.161486   \n",
       "\n",
       "      Sentiment_vader_lag2  Sentiment_vader_lag3  \n",
       "0                      NaN                   NaN  \n",
       "1                      NaN                   NaN  \n",
       "2                 0.149739                   NaN  \n",
       "3                 0.175647              0.149739  \n",
       "4                 0.154206              0.175647  \n",
       "...                    ...                   ...  \n",
       "1483              0.141404              0.130697  \n",
       "1484              0.140631              0.141404  \n",
       "1485              0.145110              0.140631  \n",
       "1486              0.144737              0.145110  \n",
       "1487              0.169323              0.144737  \n",
       "\n",
       "[1488 rows x 37 columns]"
      ]
     },
     "execution_count": 85,
     "metadata": {},
     "output_type": "execute_result"
    }
   ],
   "source": [
    "df"
   ]
  },
  {
   "cell_type": "code",
   "execution_count": 86,
   "metadata": {},
   "outputs": [],
   "source": [
    "df_x_5 = df[[\"Elkulako_label\"]]\n",
    "df_y = df[\"Return_sign\"]"
   ]
  },
  {
   "cell_type": "code",
   "execution_count": 87,
   "metadata": {},
   "outputs": [
    {
     "data": {
      "text/html": [
       "<div>\n",
       "<style scoped>\n",
       "    .dataframe tbody tr th:only-of-type {\n",
       "        vertical-align: middle;\n",
       "    }\n",
       "\n",
       "    .dataframe tbody tr th {\n",
       "        vertical-align: top;\n",
       "    }\n",
       "\n",
       "    .dataframe thead th {\n",
       "        text-align: right;\n",
       "    }\n",
       "</style>\n",
       "<table border=\"1\" class=\"dataframe\">\n",
       "  <thead>\n",
       "    <tr style=\"text-align: right;\">\n",
       "      <th></th>\n",
       "      <th>Elkulako_label</th>\n",
       "    </tr>\n",
       "  </thead>\n",
       "  <tbody>\n",
       "    <tr>\n",
       "      <th>0</th>\n",
       "      <td>0.324930</td>\n",
       "    </tr>\n",
       "    <tr>\n",
       "      <th>1</th>\n",
       "      <td>0.412354</td>\n",
       "    </tr>\n",
       "    <tr>\n",
       "      <th>2</th>\n",
       "      <td>0.349835</td>\n",
       "    </tr>\n",
       "    <tr>\n",
       "      <th>3</th>\n",
       "      <td>0.334061</td>\n",
       "    </tr>\n",
       "    <tr>\n",
       "      <th>4</th>\n",
       "      <td>0.403475</td>\n",
       "    </tr>\n",
       "    <tr>\n",
       "      <th>...</th>\n",
       "      <td>...</td>\n",
       "    </tr>\n",
       "    <tr>\n",
       "      <th>1483</th>\n",
       "      <td>0.227818</td>\n",
       "    </tr>\n",
       "    <tr>\n",
       "      <th>1484</th>\n",
       "      <td>0.229487</td>\n",
       "    </tr>\n",
       "    <tr>\n",
       "      <th>1485</th>\n",
       "      <td>0.206623</td>\n",
       "    </tr>\n",
       "    <tr>\n",
       "      <th>1486</th>\n",
       "      <td>0.270270</td>\n",
       "    </tr>\n",
       "    <tr>\n",
       "      <th>1487</th>\n",
       "      <td>0.242021</td>\n",
       "    </tr>\n",
       "  </tbody>\n",
       "</table>\n",
       "<p>1488 rows × 1 columns</p>\n",
       "</div>"
      ],
      "text/plain": [
       "      Elkulako_label\n",
       "0           0.324930\n",
       "1           0.412354\n",
       "2           0.349835\n",
       "3           0.334061\n",
       "4           0.403475\n",
       "...              ...\n",
       "1483        0.227818\n",
       "1484        0.229487\n",
       "1485        0.206623\n",
       "1486        0.270270\n",
       "1487        0.242021\n",
       "\n",
       "[1488 rows x 1 columns]"
      ]
     },
     "execution_count": 87,
     "metadata": {},
     "output_type": "execute_result"
    }
   ],
   "source": [
    "df_x_5"
   ]
  },
  {
   "cell_type": "code",
   "execution_count": 88,
   "metadata": {},
   "outputs": [],
   "source": [
    "train_share = 0.85\n",
    "df_x_5_train = df_x_5.iloc[:int(len(df_x_5)*train_share)].reset_index(drop=True)\n",
    "df_y_train = df_y.iloc[:int(len(df_x_5)*train_share)].reset_index(drop=True)\n",
    "\n",
    "df_x_5_test = df_x_5.iloc[int(len(df_x_5)*train_share):].reset_index(drop=True)\n",
    "df_y_test = df_y.iloc[int(len(df_x_5)*train_share):].reset_index(drop=True)"
   ]
  },
  {
   "cell_type": "code",
   "execution_count": 89,
   "metadata": {},
   "outputs": [
    {
     "name": "stdout",
     "output_type": "stream",
     "text": [
      "Accuracy: 0.4566929133858268\n",
      "ROC-AUC: 0.5\n",
      "F1-score: 0.0\n"
     ]
    }
   ],
   "source": [
    "from sklearn.dummy import DummyClassifier\n",
    "dummy_model = DummyClassifier(strategy='most_frequent')\n",
    "dummy_pred, dummy_acc, dummy_roc_auc,dummy_f1, dummy_feat_imp= cv_and_predict_valid(df_x_5_train,df_y_train,dummy_model)\n"
   ]
  },
  {
   "cell_type": "code",
   "execution_count": 90,
   "metadata": {},
   "outputs": [
    {
     "name": "stdout",
     "output_type": "stream",
     "text": [
      "Accuracy: 0.46875\n",
      "ROC-AUC: 0.5\n",
      "F1-score: 0.0\n"
     ]
    }
   ],
   "source": [
    "# testing\n",
    "model = DummyClassifier(strategy='most_frequent')\n",
    "\n",
    "model.fit(df_x_5_train, df_y_train)\n",
    "predictions = model.predict(df_x_5_test)\n",
    "accuracy = accuracy_score(df_y_test, predictions)\n",
    "roc_auc = roc_auc_score(df_y_test, predictions)\n",
    "f1 = f1_score(df_y_test, predictions)\n",
    "    \n",
    "print(f\"Accuracy: {accuracy}\")\n",
    "print(f\"ROC-AUC: {roc_auc}\")\n",
    "print(f\"F1-score: {f1}\")"
   ]
  },
  {
   "cell_type": "code",
   "execution_count": 91,
   "metadata": {},
   "outputs": [
    {
     "name": "stdout",
     "output_type": "stream",
     "text": [
      "RandomForestClassifier(n_estimators=5, random_state=17)\n",
      "Best parameters from grid search: {'n_estimators': 5}\n",
      "Accuracy: 0.5590551181102362\n",
      "ROC-AUC: 0.5625937031484258\n",
      "F1-score: 0.5625\n"
     ]
    }
   ],
   "source": [
    "from sklearn.ensemble import RandomForestClassifier\n",
    "# Random Forest\n",
    "grid_params = {'n_estimators': [5, 10, 20, 50,100]}\n",
    "rf_model = RandomForestClassifier(random_state=17)\n",
    "rf_pred, rf_acc, rf_roc_auc,rf_f1, rf_feat_imp = cv_and_predict_valid(df_x_5_train,df_y_train, rf_model, tree = True, grid_search=True, grid_parameters=grid_params)"
   ]
  },
  {
   "cell_type": "code",
   "execution_count": 92,
   "metadata": {},
   "outputs": [
    {
     "name": "stdout",
     "output_type": "stream",
     "text": [
      "Accuracy: 0.5669642857142857\n",
      "ROC-AUC: 0.5689075630252101\n",
      "F1-score: 0.5688888888888889\n"
     ]
    }
   ],
   "source": [
    "# testing\n",
    "model = RandomForestClassifier(n_estimators=5, random_state=17)\n",
    "model.fit(df_x_5_train, df_y_train)\n",
    "predictions = model.predict(df_x_5_test)\n",
    "accuracy = accuracy_score(df_y_test, predictions)\n",
    "roc_auc = roc_auc_score(df_y_test, predictions)\n",
    "f1 = f1_score(df_y_test, predictions)\n",
    "    \n",
    "print(f\"Accuracy: {accuracy}\")\n",
    "print(f\"ROC-AUC: {roc_auc}\")\n",
    "print(f\"F1-score: {f1}\")\n",
    "# very good"
   ]
  },
  {
   "cell_type": "code",
   "execution_count": 93,
   "metadata": {},
   "outputs": [
    {
     "name": "stdout",
     "output_type": "stream",
     "text": [
      "XGBClassifier(base_score=None, booster=None, callbacks=None,\n",
      "              colsample_bylevel=None, colsample_bynode=None,\n",
      "              colsample_bytree=None, device=None, early_stopping_rounds=None,\n",
      "              enable_categorical=False, eval_metric=None, feature_types=None,\n",
      "              gamma=None, grow_policy=None, importance_type=None,\n",
      "              interaction_constraints=None, learning_rate=None, max_bin=None,\n",
      "              max_cat_threshold=None, max_cat_to_onehot=None,\n",
      "              max_delta_step=None, max_depth=3, max_leaves=None,\n",
      "              min_child_weight=None, missing=nan, monotone_constraints=None,\n",
      "              multi_strategy=None, n_estimators=20, n_jobs=None,\n",
      "              num_parallel_tree=None, random_state=17, ...)\n",
      "Best parameters from grid search: {'max_depth': 3, 'n_estimators': 20}\n",
      "Accuracy: 0.49606299212598426\n",
      "ROC-AUC: 0.5018740629685158\n",
      "F1-score: 0.4838709677419355\n"
     ]
    }
   ],
   "source": [
    "from xgboost import XGBClassifier\n",
    "# XGBoost\n",
    "grid_params = {'n_estimators': [5, 10, 20, 30, 50, 100, 300, 500],\"max_depth\": [1,2,3,6]}\n",
    "xgb_model = XGBClassifier(random_state=17)\n",
    "xgb_pred, xgb_acc, xgb_roc_auc,xgb_f1, xgb_feat_imp = cv_and_predict_valid(df_x_5_train,df_y_train, xgb_model, tree = True, grid_search=True, grid_parameters=grid_params)\n",
    "#bad"
   ]
  },
  {
   "cell_type": "code",
   "execution_count": 94,
   "metadata": {},
   "outputs": [
    {
     "name": "stdout",
     "output_type": "stream",
     "text": [
      "Accuracy: 0.5196850393700787\n",
      "ROC-AUC: 0.5194902548725637\n",
      "F1-score: 0.5413533834586466\n"
     ]
    }
   ],
   "source": [
    "xgb_model = XGBClassifier(random_state=17, max_depth = 6, n_estimators = 300)\n",
    "xgb_pred, xgb_acc, xgb_roc_auc,xgb_f1, xgb_feat_imp = cv_and_predict_valid(df_x_5_train,df_y_train, xgb_model, tree = True)"
   ]
  },
  {
   "cell_type": "code",
   "execution_count": 95,
   "metadata": {},
   "outputs": [
    {
     "name": "stdout",
     "output_type": "stream",
     "text": [
      "Accuracy: 0.5803571428571429\n",
      "ROC-AUC: 0.5815126050420169\n",
      "F1-score: 0.5877192982456141\n"
     ]
    }
   ],
   "source": [
    "# testing\n",
    "model = XGBClassifier(random_state=17, max_depth = 6, n_estimators = 300)\n",
    "model.fit(df_x_5_train, df_y_train)\n",
    "predictions = model.predict(df_x_5_test)\n",
    "accuracy = accuracy_score(df_y_test, predictions)\n",
    "roc_auc = roc_auc_score(df_y_test, predictions)\n",
    "f1 = f1_score(df_y_test, predictions)\n",
    "    \n",
    "print(f\"Accuracy: {accuracy}\")\n",
    "print(f\"ROC-AUC: {roc_auc}\")\n",
    "print(f\"F1-score: {f1}\")\n",
    "# good"
   ]
  },
  {
   "cell_type": "code",
   "execution_count": 96,
   "metadata": {},
   "outputs": [
    {
     "name": "stdout",
     "output_type": "stream",
     "text": [
      "SVC(C=0.1, class_weight='balanced', gamma=1, kernel='poly')\n",
      "Best parameters from grid search: {'C': 0.1, 'class_weight': 'balanced', 'gamma': 1, 'kernel': 'poly'}\n",
      "Accuracy: 0.4566929133858268\n",
      "ROC-AUC: 0.5\n",
      "F1-score: 0.0\n"
     ]
    }
   ],
   "source": [
    "from sklearn.svm import SVC\n",
    "# SVM\n",
    "grid_params = {'C': [0.1, 0.3, 0.7, 1, 2],  'kernel': ['poly', 'rbf'], 'gamma': [1, 0.1, 0.01], 'class_weight': ['balanced', None]}\n",
    "svm_model = SVC()\n",
    "svm_pred, svm_acc, svm_roc_auc,svm_f1, svm_feat_imp = cv_and_predict_valid(df_x_5_train,df_y_train, svm_model, grid_search=True, grid_parameters=grid_params)"
   ]
  },
  {
   "cell_type": "code",
   "execution_count": 97,
   "metadata": {},
   "outputs": [
    {
     "name": "stdout",
     "output_type": "stream",
     "text": [
      "Accuracy: 0.53125\n",
      "ROC-AUC: 0.5\n",
      "F1-score: 0.6938775510204082\n"
     ]
    }
   ],
   "source": [
    "# testing\n",
    "model = SVC(C=0.1, class_weight='balanced', gamma=1, kernel='poly')\n",
    "model.fit(df_x_5_train, df_y_train)\n",
    "predictions = model.predict(df_x_5_test)\n",
    "accuracy = accuracy_score(df_y_test, predictions)\n",
    "roc_auc = roc_auc_score(df_y_test, predictions)\n",
    "f1 = f1_score(df_y_test, predictions)\n",
    "    \n",
    "print(f\"Accuracy: {accuracy}\")\n",
    "print(f\"ROC-AUC: {roc_auc}\")\n",
    "print(f\"F1-score: {f1}\")"
   ]
  },
  {
   "cell_type": "code",
   "execution_count": 98,
   "metadata": {},
   "outputs": [
    {
     "name": "stderr",
     "output_type": "stream",
     "text": [
      "c:\\Users\\isaen\\AppData\\Local\\Programs\\Python\\Python312\\Lib\\site-packages\\sklearn\\ensemble\\_weight_boosting.py:519: FutureWarning: The SAMME.R algorithm (the default) is deprecated and will be removed in 1.6. Use the SAMME algorithm to circumvent this warning.\n",
      "  warnings.warn(\n"
     ]
    },
    {
     "name": "stdout",
     "output_type": "stream",
     "text": [
      "AdaBoostClassifier(learning_rate=0.3, n_estimators=300)\n",
      "Best parameters from grid search: {'learning_rate': 0.3, 'n_estimators': 300}\n",
      "Accuracy: 0.49606299212598426\n",
      "ROC-AUC: 0.5059970014992504\n",
      "F1-score: 0.4576271186440678\n"
     ]
    }
   ],
   "source": [
    "from sklearn.ensemble import AdaBoostClassifier\n",
    "grid_params = {'n_estimators': [5, 10, 20, 30, 50, 100, 300, 500], 'learning_rate':[0.1, 0.3, 0.5, 1]}\n",
    "ada_model = AdaBoostClassifier()\n",
    "ada_pred, ada_acc, ada_roc_auc,ada_f1, ada_feat_imp = cv_and_predict_valid(df_x_5_train,df_y_train, ada_model, tree = True, grid_search=True, grid_parameters = grid_params)\n"
   ]
  },
  {
   "cell_type": "code",
   "execution_count": 99,
   "metadata": {},
   "outputs": [
    {
     "name": "stderr",
     "output_type": "stream",
     "text": [
      "c:\\Users\\isaen\\AppData\\Local\\Programs\\Python\\Python312\\Lib\\site-packages\\sklearn\\ensemble\\_weight_boosting.py:519: FutureWarning: The SAMME.R algorithm (the default) is deprecated and will be removed in 1.6. Use the SAMME algorithm to circumvent this warning.\n",
      "  warnings.warn(\n"
     ]
    },
    {
     "name": "stdout",
     "output_type": "stream",
     "text": [
      "Accuracy: 0.53125\n",
      "ROC-AUC: 0.5476190476190476\n",
      "F1-score: 0.3930635838150289\n"
     ]
    }
   ],
   "source": [
    "# testing\n",
    "model = AdaBoostClassifier(learning_rate=0.3, n_estimators=300)\n",
    "model.fit(df_x_5_train, df_y_train)\n",
    "predictions = model.predict(df_x_5_test)\n",
    "accuracy = accuracy_score(df_y_test, predictions)\n",
    "roc_auc = roc_auc_score(df_y_test, predictions)\n",
    "f1 = f1_score(df_y_test, predictions)\n",
    "    \n",
    "print(f\"Accuracy: {accuracy}\")\n",
    "print(f\"ROC-AUC: {roc_auc}\")\n",
    "print(f\"F1-score: {f1}\")"
   ]
  },
  {
   "cell_type": "code",
   "execution_count": null,
   "metadata": {},
   "outputs": [],
   "source": []
  },
  {
   "cell_type": "code",
   "execution_count": 100,
   "metadata": {},
   "outputs": [
    {
     "name": "stdout",
     "output_type": "stream",
     "text": [
      "Accuracy: 0.4566929133858268\n",
      "ROC-AUC: 0.5\n",
      "F1-score: 0.0\n"
     ]
    }
   ],
   "source": [
    "from sklearn.naive_bayes import GaussianNB\n",
    "nb_model = GaussianNB()\n",
    "nb_pred, nb_acc, nb_roc_auc,nb_f1, nb_feat_imp = cv_and_predict_valid(df_x_5_train,df_y_train, nb_model)\n"
   ]
  },
  {
   "cell_type": "code",
   "execution_count": 101,
   "metadata": {},
   "outputs": [
    {
     "name": "stdout",
     "output_type": "stream",
     "text": [
      "Accuracy: 0.46875\n",
      "ROC-AUC: 0.5\n",
      "F1-score: 0.0\n"
     ]
    }
   ],
   "source": [
    "# testing\n",
    "model = GaussianNB()\n",
    "model.fit(df_x_5_train, df_y_train)\n",
    "predictions = model.predict(df_x_5_test)\n",
    "accuracy = accuracy_score(df_y_test, predictions)\n",
    "roc_auc = roc_auc_score(df_y_test, predictions)\n",
    "f1 = f1_score(df_y_test, predictions)\n",
    "    \n",
    "print(f\"Accuracy: {accuracy}\")\n",
    "print(f\"ROC-AUC: {roc_auc}\")\n",
    "print(f\"F1-score: {f1}\")"
   ]
  },
  {
   "cell_type": "code",
   "execution_count": 102,
   "metadata": {},
   "outputs": [
    {
     "name": "stdout",
     "output_type": "stream",
     "text": [
      "Accuracy: 0.4566929133858268\n",
      "ROC-AUC: 0.5\n",
      "F1-score: 0.0\n"
     ]
    }
   ],
   "source": [
    "from sklearn.linear_model import LogisticRegression\n",
    "lr_model = LogisticRegression()\n",
    "lr_pred, lr_acc, lr_roc_auc,lr_f1, lr_feat_imp = cv_and_predict_valid(df_x_5_train,df_y_train, lr_model)\n"
   ]
  },
  {
   "cell_type": "code",
   "execution_count": 103,
   "metadata": {},
   "outputs": [
    {
     "name": "stdout",
     "output_type": "stream",
     "text": [
      "Accuracy: 0.46875\n",
      "ROC-AUC: 0.5\n",
      "F1-score: 0.0\n"
     ]
    }
   ],
   "source": [
    "# testing\n",
    "model = LogisticRegression()\n",
    "model.fit(df_x_5_train, df_y_train)\n",
    "predictions = model.predict(df_x_5_test)\n",
    "accuracy = accuracy_score(df_y_test, predictions)\n",
    "roc_auc = roc_auc_score(df_y_test, predictions)\n",
    "f1 = f1_score(df_y_test, predictions)\n",
    "    \n",
    "print(f\"Accuracy: {accuracy}\")\n",
    "print(f\"ROC-AUC: {roc_auc}\")\n",
    "print(f\"F1-score: {f1}\")"
   ]
  },
  {
   "cell_type": "code",
   "execution_count": 104,
   "metadata": {},
   "outputs": [
    {
     "name": "stdout",
     "output_type": "stream",
     "text": [
      "KNeighborsClassifier()\n",
      "Best parameters from grid search: {'n_neighbors': 5}\n",
      "Accuracy: 0.5275590551181102\n",
      "ROC-AUC: 0.5322338830584707\n",
      "F1-score: 0.5238095238095238\n"
     ]
    }
   ],
   "source": [
    "from sklearn.neighbors import KNeighborsClassifier\n",
    "grid_params = {'n_neighbors': [1, 2, 3, 4, 5, 10, 20, 50]}\n",
    "knn_model = KNeighborsClassifier()\n",
    "knn_pred, knn_acc, knn_roc_auc,knn_f1, knn_feat_imp = cv_and_predict_valid(df_x_5_train,df_y_train, knn_model, grid_search=True, grid_parameters=grid_params)\n"
   ]
  },
  {
   "cell_type": "code",
   "execution_count": 105,
   "metadata": {},
   "outputs": [
    {
     "name": "stdout",
     "output_type": "stream",
     "text": [
      "Accuracy: 0.5223214285714286\n",
      "ROC-AUC: 0.5257703081232493\n",
      "F1-score: 0.5114155251141552\n"
     ]
    }
   ],
   "source": [
    "# testing\n",
    "model = KNeighborsClassifier(n_neighbors=5)\n",
    "model.fit(df_x_5_train, df_y_train)\n",
    "predictions = model.predict(df_x_5_test)\n",
    "accuracy = accuracy_score(df_y_test, predictions)\n",
    "roc_auc = roc_auc_score(df_y_test, predictions)\n",
    "f1 = f1_score(df_y_test, predictions)\n",
    "    \n",
    "print(f\"Accuracy: {accuracy}\")\n",
    "print(f\"ROC-AUC: {roc_auc}\")\n",
    "print(f\"F1-score: {f1}\")\n",
    "# good"
   ]
  },
  {
   "cell_type": "markdown",
   "metadata": {},
   "source": [
    "# Elkulako with lags"
   ]
  },
  {
   "cell_type": "code",
   "execution_count": 106,
   "metadata": {},
   "outputs": [
    {
     "data": {
      "text/html": [
       "<div>\n",
       "<style scoped>\n",
       "    .dataframe tbody tr th:only-of-type {\n",
       "        vertical-align: middle;\n",
       "    }\n",
       "\n",
       "    .dataframe tbody tr th {\n",
       "        vertical-align: top;\n",
       "    }\n",
       "\n",
       "    .dataframe thead th {\n",
       "        text-align: right;\n",
       "    }\n",
       "</style>\n",
       "<table border=\"1\" class=\"dataframe\">\n",
       "  <thead>\n",
       "    <tr style=\"text-align: right;\">\n",
       "      <th></th>\n",
       "      <th>Date_30m</th>\n",
       "      <th>datetime</th>\n",
       "      <th>text</th>\n",
       "      <th>username</th>\n",
       "      <th>kk08_pos_score</th>\n",
       "      <th>kk08_score_diff</th>\n",
       "      <th>Elkulako_label</th>\n",
       "      <th>Sentiment_vader</th>\n",
       "      <th>pred</th>\n",
       "      <th>analysis</th>\n",
       "      <th>...</th>\n",
       "      <th>open</th>\n",
       "      <th>close</th>\n",
       "      <th>Return</th>\n",
       "      <th>Return_sign</th>\n",
       "      <th>kk08_pos_score_lag1</th>\n",
       "      <th>kk08_pos_score_lag2</th>\n",
       "      <th>kk08_pos_score_lag3</th>\n",
       "      <th>Sentiment_vader_lag1</th>\n",
       "      <th>Sentiment_vader_lag2</th>\n",
       "      <th>Sentiment_vader_lag3</th>\n",
       "    </tr>\n",
       "  </thead>\n",
       "  <tbody>\n",
       "    <tr>\n",
       "      <th>0</th>\n",
       "      <td>2022-01-01 00:30:00</td>\n",
       "      <td>['2022-01-01 00:00:00', '2022-01-01 00:00:00',...</td>\n",
       "      <td>Current Price of Bitcoin:\\n$46320 (-1.85%)\\n\\n...</td>\n",
       "      <td>CryptoNerdApp\\nTrendSpider\\nMadStudentScie1\\nW...</td>\n",
       "      <td>0.769373</td>\n",
       "      <td>0.538746</td>\n",
       "      <td>0.324930</td>\n",
       "      <td>0.149739</td>\n",
       "      <td>20</td>\n",
       "      <td>46</td>\n",
       "      <td>...</td>\n",
       "      <td>46375.42</td>\n",
       "      <td>46656.13</td>\n",
       "      <td>0.006053</td>\n",
       "      <td>1</td>\n",
       "      <td>NaN</td>\n",
       "      <td>NaN</td>\n",
       "      <td>NaN</td>\n",
       "      <td>NaN</td>\n",
       "      <td>NaN</td>\n",
       "      <td>NaN</td>\n",
       "    </tr>\n",
       "    <tr>\n",
       "      <th>1</th>\n",
       "      <td>2022-01-01 01:00:00</td>\n",
       "      <td>['2022-01-01 00:30:00', '2022-01-01 00:30:01',...</td>\n",
       "      <td>“Here's to a bright New Year and a fond farewe...</td>\n",
       "      <td>bitcoiva\\ncryptozone007\\nlinuxadvocate\\nbakedn...</td>\n",
       "      <td>0.739433</td>\n",
       "      <td>0.478866</td>\n",
       "      <td>0.412354</td>\n",
       "      <td>0.175647</td>\n",
       "      <td>14</td>\n",
       "      <td>26</td>\n",
       "      <td>...</td>\n",
       "      <td>46656.14</td>\n",
       "      <td>46815.33</td>\n",
       "      <td>0.003412</td>\n",
       "      <td>1</td>\n",
       "      <td>0.769373</td>\n",
       "      <td>NaN</td>\n",
       "      <td>NaN</td>\n",
       "      <td>0.149739</td>\n",
       "      <td>NaN</td>\n",
       "      <td>NaN</td>\n",
       "    </tr>\n",
       "    <tr>\n",
       "      <th>2</th>\n",
       "      <td>2022-01-01 01:30:00</td>\n",
       "      <td>['2022-01-01 01:00:00', '2022-01-01 01:00:00',...</td>\n",
       "      <td>Today's Cryptocurrency Fear And Greed Index: 2...</td>\n",
       "      <td>FearAndGreedBot\\nOfficialOverbit\\nBTC_AI_bot\\n...</td>\n",
       "      <td>0.768188</td>\n",
       "      <td>0.536376</td>\n",
       "      <td>0.349835</td>\n",
       "      <td>0.154206</td>\n",
       "      <td>15</td>\n",
       "      <td>17</td>\n",
       "      <td>...</td>\n",
       "      <td>46815.34</td>\n",
       "      <td>46778.14</td>\n",
       "      <td>-0.000795</td>\n",
       "      <td>0</td>\n",
       "      <td>0.739433</td>\n",
       "      <td>0.769373</td>\n",
       "      <td>NaN</td>\n",
       "      <td>0.175647</td>\n",
       "      <td>0.149739</td>\n",
       "      <td>NaN</td>\n",
       "    </tr>\n",
       "    <tr>\n",
       "      <th>3</th>\n",
       "      <td>2022-01-01 02:00:00</td>\n",
       "      <td>['2022-01-01 01:30:00', '2022-01-01 01:30:00',...</td>\n",
       "      <td>This year is my year , the year of my progress...</td>\n",
       "      <td>GhorbaniArshiya\\nPopunderTraffic\\nobjectwizard...</td>\n",
       "      <td>0.785896</td>\n",
       "      <td>0.571792</td>\n",
       "      <td>0.334061</td>\n",
       "      <td>0.200349</td>\n",
       "      <td>15</td>\n",
       "      <td>12</td>\n",
       "      <td>...</td>\n",
       "      <td>46778.14</td>\n",
       "      <td>46826.01</td>\n",
       "      <td>0.001023</td>\n",
       "      <td>1</td>\n",
       "      <td>0.768188</td>\n",
       "      <td>0.739433</td>\n",
       "      <td>0.769373</td>\n",
       "      <td>0.154206</td>\n",
       "      <td>0.175647</td>\n",
       "      <td>0.149739</td>\n",
       "    </tr>\n",
       "    <tr>\n",
       "      <th>4</th>\n",
       "      <td>2022-01-01 02:30:00</td>\n",
       "      <td>['2022-01-01 02:00:00', '2022-01-01 02:00:00',...</td>\n",
       "      <td>Huobi Singapore would like to wish you a Happy...</td>\n",
       "      <td>HuobiSg\\nAmazonCash4Cars\\nBTC_AI_bot\\nCalvinAy...</td>\n",
       "      <td>0.774167</td>\n",
       "      <td>0.548335</td>\n",
       "      <td>0.403475</td>\n",
       "      <td>0.165008</td>\n",
       "      <td>13</td>\n",
       "      <td>13</td>\n",
       "      <td>...</td>\n",
       "      <td>46826.00</td>\n",
       "      <td>46811.77</td>\n",
       "      <td>-0.000304</td>\n",
       "      <td>0</td>\n",
       "      <td>0.785896</td>\n",
       "      <td>0.768188</td>\n",
       "      <td>0.739433</td>\n",
       "      <td>0.200349</td>\n",
       "      <td>0.154206</td>\n",
       "      <td>0.175647</td>\n",
       "    </tr>\n",
       "    <tr>\n",
       "      <th>...</th>\n",
       "      <td>...</td>\n",
       "      <td>...</td>\n",
       "      <td>...</td>\n",
       "      <td>...</td>\n",
       "      <td>...</td>\n",
       "      <td>...</td>\n",
       "      <td>...</td>\n",
       "      <td>...</td>\n",
       "      <td>...</td>\n",
       "      <td>...</td>\n",
       "      <td>...</td>\n",
       "      <td>...</td>\n",
       "      <td>...</td>\n",
       "      <td>...</td>\n",
       "      <td>...</td>\n",
       "      <td>...</td>\n",
       "      <td>...</td>\n",
       "      <td>...</td>\n",
       "      <td>...</td>\n",
       "      <td>...</td>\n",
       "      <td>...</td>\n",
       "    </tr>\n",
       "    <tr>\n",
       "      <th>1483</th>\n",
       "      <td>2022-01-31 22:00:00</td>\n",
       "      <td>['2022-01-31 21:30:00', '2022-01-31 21:30:00',...</td>\n",
       "      <td>#morganstanley calms tempers and minimizes #Bi...</td>\n",
       "      <td>Ricardo04606850\\nTACryptowaves\\ncryptonewsleak...</td>\n",
       "      <td>0.763569</td>\n",
       "      <td>0.527137</td>\n",
       "      <td>0.227818</td>\n",
       "      <td>0.145110</td>\n",
       "      <td>9</td>\n",
       "      <td>10</td>\n",
       "      <td>...</td>\n",
       "      <td>38410.09</td>\n",
       "      <td>38547.30</td>\n",
       "      <td>0.003572</td>\n",
       "      <td>1</td>\n",
       "      <td>0.766771</td>\n",
       "      <td>0.758002</td>\n",
       "      <td>0.762439</td>\n",
       "      <td>0.140631</td>\n",
       "      <td>0.141404</td>\n",
       "      <td>0.130697</td>\n",
       "    </tr>\n",
       "    <tr>\n",
       "      <th>1484</th>\n",
       "      <td>2022-01-31 22:30:00</td>\n",
       "      <td>['2022-01-31 22:00:00', '2022-01-31 22:00:00',...</td>\n",
       "      <td>BTC Latest Block Info: Block 721243 holds 2,80...</td>\n",
       "      <td>btc_blockbot\\nM1Seahawk\\nnialljburke\\nmurray_r...</td>\n",
       "      <td>0.803204</td>\n",
       "      <td>0.606408</td>\n",
       "      <td>0.229487</td>\n",
       "      <td>0.144737</td>\n",
       "      <td>11</td>\n",
       "      <td>12</td>\n",
       "      <td>...</td>\n",
       "      <td>38547.30</td>\n",
       "      <td>38412.46</td>\n",
       "      <td>-0.003498</td>\n",
       "      <td>0</td>\n",
       "      <td>0.763569</td>\n",
       "      <td>0.766771</td>\n",
       "      <td>0.758002</td>\n",
       "      <td>0.145110</td>\n",
       "      <td>0.140631</td>\n",
       "      <td>0.141404</td>\n",
       "    </tr>\n",
       "    <tr>\n",
       "      <th>1485</th>\n",
       "      <td>2022-01-31 23:00:00</td>\n",
       "      <td>['2022-01-31 22:30:00', '2022-01-31 22:30:00',...</td>\n",
       "      <td>Good move of #Bitcoin today, reversal not conf...</td>\n",
       "      <td>CryptoMichNL\\nIntEngineering\\nKahunaATM\\nMBrae...</td>\n",
       "      <td>0.775618</td>\n",
       "      <td>0.551236</td>\n",
       "      <td>0.206623</td>\n",
       "      <td>0.169323</td>\n",
       "      <td>3</td>\n",
       "      <td>11</td>\n",
       "      <td>...</td>\n",
       "      <td>38412.45</td>\n",
       "      <td>38412.23</td>\n",
       "      <td>-0.000006</td>\n",
       "      <td>0</td>\n",
       "      <td>0.803204</td>\n",
       "      <td>0.763569</td>\n",
       "      <td>0.766771</td>\n",
       "      <td>0.144737</td>\n",
       "      <td>0.145110</td>\n",
       "      <td>0.140631</td>\n",
       "    </tr>\n",
       "    <tr>\n",
       "      <th>1486</th>\n",
       "      <td>2022-01-31 23:30:00</td>\n",
       "      <td>['2022-01-31 23:00:00', '2022-01-31 23:00:00',...</td>\n",
       "      <td>Top #Cryptocurrency RANK DOWN (#crypto #bitcoi...</td>\n",
       "      <td>CryptoTopCharts\\nBTC_AI_bot\\ncryptonewsleak\\nt...</td>\n",
       "      <td>0.781215</td>\n",
       "      <td>0.562431</td>\n",
       "      <td>0.270270</td>\n",
       "      <td>0.161486</td>\n",
       "      <td>9</td>\n",
       "      <td>10</td>\n",
       "      <td>...</td>\n",
       "      <td>38412.23</td>\n",
       "      <td>38466.90</td>\n",
       "      <td>0.001423</td>\n",
       "      <td>1</td>\n",
       "      <td>0.775618</td>\n",
       "      <td>0.803204</td>\n",
       "      <td>0.763569</td>\n",
       "      <td>0.169323</td>\n",
       "      <td>0.144737</td>\n",
       "      <td>0.145110</td>\n",
       "    </tr>\n",
       "    <tr>\n",
       "      <th>1487</th>\n",
       "      <td>2022-02-01 00:00:00</td>\n",
       "      <td>['2022-01-31 23:30:01', '2022-01-31 23:30:02',...</td>\n",
       "      <td>Bitcoin On Its Way To $500,000? Anthony Scaram...</td>\n",
       "      <td>OutlawBuckeye\\nSifHomes\\nitvc_\\nRaulGlzC\\nTheM...</td>\n",
       "      <td>0.755510</td>\n",
       "      <td>0.511020</td>\n",
       "      <td>0.242021</td>\n",
       "      <td>0.140869</td>\n",
       "      <td>7</td>\n",
       "      <td>9</td>\n",
       "      <td>...</td>\n",
       "      <td>38466.90</td>\n",
       "      <td>38439.57</td>\n",
       "      <td>-0.000710</td>\n",
       "      <td>0</td>\n",
       "      <td>0.781215</td>\n",
       "      <td>0.775618</td>\n",
       "      <td>0.803204</td>\n",
       "      <td>0.161486</td>\n",
       "      <td>0.169323</td>\n",
       "      <td>0.144737</td>\n",
       "    </tr>\n",
       "  </tbody>\n",
       "</table>\n",
       "<p>1488 rows × 37 columns</p>\n",
       "</div>"
      ],
      "text/plain": [
       "                 Date_30m                                           datetime  \\\n",
       "0     2022-01-01 00:30:00  ['2022-01-01 00:00:00', '2022-01-01 00:00:00',...   \n",
       "1     2022-01-01 01:00:00  ['2022-01-01 00:30:00', '2022-01-01 00:30:01',...   \n",
       "2     2022-01-01 01:30:00  ['2022-01-01 01:00:00', '2022-01-01 01:00:00',...   \n",
       "3     2022-01-01 02:00:00  ['2022-01-01 01:30:00', '2022-01-01 01:30:00',...   \n",
       "4     2022-01-01 02:30:00  ['2022-01-01 02:00:00', '2022-01-01 02:00:00',...   \n",
       "...                   ...                                                ...   \n",
       "1483  2022-01-31 22:00:00  ['2022-01-31 21:30:00', '2022-01-31 21:30:00',...   \n",
       "1484  2022-01-31 22:30:00  ['2022-01-31 22:00:00', '2022-01-31 22:00:00',...   \n",
       "1485  2022-01-31 23:00:00  ['2022-01-31 22:30:00', '2022-01-31 22:30:00',...   \n",
       "1486  2022-01-31 23:30:00  ['2022-01-31 23:00:00', '2022-01-31 23:00:00',...   \n",
       "1487  2022-02-01 00:00:00  ['2022-01-31 23:30:01', '2022-01-31 23:30:02',...   \n",
       "\n",
       "                                                   text  \\\n",
       "0     Current Price of Bitcoin:\\n$46320 (-1.85%)\\n\\n...   \n",
       "1     “Here's to a bright New Year and a fond farewe...   \n",
       "2     Today's Cryptocurrency Fear And Greed Index: 2...   \n",
       "3     This year is my year , the year of my progress...   \n",
       "4     Huobi Singapore would like to wish you a Happy...   \n",
       "...                                                 ...   \n",
       "1483  #morganstanley calms tempers and minimizes #Bi...   \n",
       "1484  BTC Latest Block Info: Block 721243 holds 2,80...   \n",
       "1485  Good move of #Bitcoin today, reversal not conf...   \n",
       "1486  Top #Cryptocurrency RANK DOWN (#crypto #bitcoi...   \n",
       "1487  Bitcoin On Its Way To $500,000? Anthony Scaram...   \n",
       "\n",
       "                                               username  kk08_pos_score  \\\n",
       "0     CryptoNerdApp\\nTrendSpider\\nMadStudentScie1\\nW...        0.769373   \n",
       "1     bitcoiva\\ncryptozone007\\nlinuxadvocate\\nbakedn...        0.739433   \n",
       "2     FearAndGreedBot\\nOfficialOverbit\\nBTC_AI_bot\\n...        0.768188   \n",
       "3     GhorbaniArshiya\\nPopunderTraffic\\nobjectwizard...        0.785896   \n",
       "4     HuobiSg\\nAmazonCash4Cars\\nBTC_AI_bot\\nCalvinAy...        0.774167   \n",
       "...                                                 ...             ...   \n",
       "1483  Ricardo04606850\\nTACryptowaves\\ncryptonewsleak...        0.763569   \n",
       "1484  btc_blockbot\\nM1Seahawk\\nnialljburke\\nmurray_r...        0.803204   \n",
       "1485  CryptoMichNL\\nIntEngineering\\nKahunaATM\\nMBrae...        0.775618   \n",
       "1486  CryptoTopCharts\\nBTC_AI_bot\\ncryptonewsleak\\nt...        0.781215   \n",
       "1487  OutlawBuckeye\\nSifHomes\\nitvc_\\nRaulGlzC\\nTheM...        0.755510   \n",
       "\n",
       "      kk08_score_diff  Elkulako_label  Sentiment_vader  pred  analysis  ...  \\\n",
       "0            0.538746        0.324930         0.149739    20        46  ...   \n",
       "1            0.478866        0.412354         0.175647    14        26  ...   \n",
       "2            0.536376        0.349835         0.154206    15        17  ...   \n",
       "3            0.571792        0.334061         0.200349    15        12  ...   \n",
       "4            0.548335        0.403475         0.165008    13        13  ...   \n",
       "...               ...             ...              ...   ...       ...  ...   \n",
       "1483         0.527137        0.227818         0.145110     9        10  ...   \n",
       "1484         0.606408        0.229487         0.144737    11        12  ...   \n",
       "1485         0.551236        0.206623         0.169323     3        11  ...   \n",
       "1486         0.562431        0.270270         0.161486     9        10  ...   \n",
       "1487         0.511020        0.242021         0.140869     7         9  ...   \n",
       "\n",
       "          open     close    Return  Return_sign  kk08_pos_score_lag1  \\\n",
       "0     46375.42  46656.13  0.006053            1                  NaN   \n",
       "1     46656.14  46815.33  0.003412            1             0.769373   \n",
       "2     46815.34  46778.14 -0.000795            0             0.739433   \n",
       "3     46778.14  46826.01  0.001023            1             0.768188   \n",
       "4     46826.00  46811.77 -0.000304            0             0.785896   \n",
       "...        ...       ...       ...          ...                  ...   \n",
       "1483  38410.09  38547.30  0.003572            1             0.766771   \n",
       "1484  38547.30  38412.46 -0.003498            0             0.763569   \n",
       "1485  38412.45  38412.23 -0.000006            0             0.803204   \n",
       "1486  38412.23  38466.90  0.001423            1             0.775618   \n",
       "1487  38466.90  38439.57 -0.000710            0             0.781215   \n",
       "\n",
       "      kk08_pos_score_lag2  kk08_pos_score_lag3  Sentiment_vader_lag1  \\\n",
       "0                     NaN                  NaN                   NaN   \n",
       "1                     NaN                  NaN              0.149739   \n",
       "2                0.769373                  NaN              0.175647   \n",
       "3                0.739433             0.769373              0.154206   \n",
       "4                0.768188             0.739433              0.200349   \n",
       "...                   ...                  ...                   ...   \n",
       "1483             0.758002             0.762439              0.140631   \n",
       "1484             0.766771             0.758002              0.145110   \n",
       "1485             0.763569             0.766771              0.144737   \n",
       "1486             0.803204             0.763569              0.169323   \n",
       "1487             0.775618             0.803204              0.161486   \n",
       "\n",
       "      Sentiment_vader_lag2  Sentiment_vader_lag3  \n",
       "0                      NaN                   NaN  \n",
       "1                      NaN                   NaN  \n",
       "2                 0.149739                   NaN  \n",
       "3                 0.175647              0.149739  \n",
       "4                 0.154206              0.175647  \n",
       "...                    ...                   ...  \n",
       "1483              0.141404              0.130697  \n",
       "1484              0.140631              0.141404  \n",
       "1485              0.145110              0.140631  \n",
       "1486              0.144737              0.145110  \n",
       "1487              0.169323              0.144737  \n",
       "\n",
       "[1488 rows x 37 columns]"
      ]
     },
     "execution_count": 106,
     "metadata": {},
     "output_type": "execute_result"
    }
   ],
   "source": [
    "df"
   ]
  },
  {
   "cell_type": "code",
   "execution_count": 107,
   "metadata": {},
   "outputs": [],
   "source": [
    "df['Elkulako_label_lag1']=df['Elkulako_label'].shift(1)\n",
    "df['Elkulako_label_lag2']=df['Elkulako_label'].shift(2)\n",
    "df['Elkulako_label_lag3']=df['Elkulako_label'].shift(3)\n"
   ]
  },
  {
   "cell_type": "code",
   "execution_count": 108,
   "metadata": {},
   "outputs": [],
   "source": [
    "df_x_6 = df.dropna().reset_index(drop=True)[[\"Elkulako_label\", \"Elkulako_label_lag1\", \"Elkulako_label_lag2\", \"Elkulako_label_lag3\"]]\n",
    "df_y_6 = df[\"Return_sign\"].iloc[3:].reset_index(drop=True)"
   ]
  },
  {
   "cell_type": "code",
   "execution_count": 109,
   "metadata": {},
   "outputs": [
    {
     "data": {
      "text/html": [
       "<div>\n",
       "<style scoped>\n",
       "    .dataframe tbody tr th:only-of-type {\n",
       "        vertical-align: middle;\n",
       "    }\n",
       "\n",
       "    .dataframe tbody tr th {\n",
       "        vertical-align: top;\n",
       "    }\n",
       "\n",
       "    .dataframe thead th {\n",
       "        text-align: right;\n",
       "    }\n",
       "</style>\n",
       "<table border=\"1\" class=\"dataframe\">\n",
       "  <thead>\n",
       "    <tr style=\"text-align: right;\">\n",
       "      <th></th>\n",
       "      <th>Elkulako_label</th>\n",
       "      <th>Elkulako_label_lag1</th>\n",
       "      <th>Elkulako_label_lag2</th>\n",
       "      <th>Elkulako_label_lag3</th>\n",
       "    </tr>\n",
       "  </thead>\n",
       "  <tbody>\n",
       "    <tr>\n",
       "      <th>0</th>\n",
       "      <td>0.334061</td>\n",
       "      <td>0.349835</td>\n",
       "      <td>0.412354</td>\n",
       "      <td>0.324930</td>\n",
       "    </tr>\n",
       "    <tr>\n",
       "      <th>1</th>\n",
       "      <td>0.403475</td>\n",
       "      <td>0.334061</td>\n",
       "      <td>0.349835</td>\n",
       "      <td>0.412354</td>\n",
       "    </tr>\n",
       "    <tr>\n",
       "      <th>2</th>\n",
       "      <td>0.455128</td>\n",
       "      <td>0.403475</td>\n",
       "      <td>0.334061</td>\n",
       "      <td>0.349835</td>\n",
       "    </tr>\n",
       "    <tr>\n",
       "      <th>3</th>\n",
       "      <td>0.321212</td>\n",
       "      <td>0.455128</td>\n",
       "      <td>0.403475</td>\n",
       "      <td>0.334061</td>\n",
       "    </tr>\n",
       "    <tr>\n",
       "      <th>4</th>\n",
       "      <td>0.329596</td>\n",
       "      <td>0.321212</td>\n",
       "      <td>0.455128</td>\n",
       "      <td>0.403475</td>\n",
       "    </tr>\n",
       "    <tr>\n",
       "      <th>...</th>\n",
       "      <td>...</td>\n",
       "      <td>...</td>\n",
       "      <td>...</td>\n",
       "      <td>...</td>\n",
       "    </tr>\n",
       "    <tr>\n",
       "      <th>1480</th>\n",
       "      <td>0.227818</td>\n",
       "      <td>0.260274</td>\n",
       "      <td>0.291310</td>\n",
       "      <td>0.280872</td>\n",
       "    </tr>\n",
       "    <tr>\n",
       "      <th>1481</th>\n",
       "      <td>0.229487</td>\n",
       "      <td>0.227818</td>\n",
       "      <td>0.260274</td>\n",
       "      <td>0.291310</td>\n",
       "    </tr>\n",
       "    <tr>\n",
       "      <th>1482</th>\n",
       "      <td>0.206623</td>\n",
       "      <td>0.229487</td>\n",
       "      <td>0.227818</td>\n",
       "      <td>0.260274</td>\n",
       "    </tr>\n",
       "    <tr>\n",
       "      <th>1483</th>\n",
       "      <td>0.270270</td>\n",
       "      <td>0.206623</td>\n",
       "      <td>0.229487</td>\n",
       "      <td>0.227818</td>\n",
       "    </tr>\n",
       "    <tr>\n",
       "      <th>1484</th>\n",
       "      <td>0.242021</td>\n",
       "      <td>0.270270</td>\n",
       "      <td>0.206623</td>\n",
       "      <td>0.229487</td>\n",
       "    </tr>\n",
       "  </tbody>\n",
       "</table>\n",
       "<p>1485 rows × 4 columns</p>\n",
       "</div>"
      ],
      "text/plain": [
       "      Elkulako_label  Elkulako_label_lag1  Elkulako_label_lag2  \\\n",
       "0           0.334061             0.349835             0.412354   \n",
       "1           0.403475             0.334061             0.349835   \n",
       "2           0.455128             0.403475             0.334061   \n",
       "3           0.321212             0.455128             0.403475   \n",
       "4           0.329596             0.321212             0.455128   \n",
       "...              ...                  ...                  ...   \n",
       "1480        0.227818             0.260274             0.291310   \n",
       "1481        0.229487             0.227818             0.260274   \n",
       "1482        0.206623             0.229487             0.227818   \n",
       "1483        0.270270             0.206623             0.229487   \n",
       "1484        0.242021             0.270270             0.206623   \n",
       "\n",
       "      Elkulako_label_lag3  \n",
       "0                0.324930  \n",
       "1                0.412354  \n",
       "2                0.349835  \n",
       "3                0.334061  \n",
       "4                0.403475  \n",
       "...                   ...  \n",
       "1480             0.280872  \n",
       "1481             0.291310  \n",
       "1482             0.260274  \n",
       "1483             0.227818  \n",
       "1484             0.229487  \n",
       "\n",
       "[1485 rows x 4 columns]"
      ]
     },
     "execution_count": 109,
     "metadata": {},
     "output_type": "execute_result"
    }
   ],
   "source": [
    "df_x_6"
   ]
  },
  {
   "cell_type": "code",
   "execution_count": 110,
   "metadata": {},
   "outputs": [
    {
     "data": {
      "text/plain": [
       "0       1\n",
       "1       0\n",
       "2       0\n",
       "3       1\n",
       "4       0\n",
       "       ..\n",
       "1480    1\n",
       "1481    0\n",
       "1482    0\n",
       "1483    1\n",
       "1484    0\n",
       "Name: Return_sign, Length: 1485, dtype: int64"
      ]
     },
     "execution_count": 110,
     "metadata": {},
     "output_type": "execute_result"
    }
   ],
   "source": [
    "df_y_6"
   ]
  },
  {
   "cell_type": "code",
   "execution_count": 111,
   "metadata": {},
   "outputs": [],
   "source": [
    "train_share = 0.85\n",
    "df_x_6_train = df_x_6.iloc[:int(len(df_x_6)*train_share)].reset_index(drop=True)\n",
    "df_y_6_train = df_y_6.iloc[:int(len(df_x_6)*train_share)].reset_index(drop=True)\n",
    "\n",
    "df_x_6_test = df_x_6.iloc[int(len(df_x_6)*train_share):].reset_index(drop=True)\n",
    "df_y_6_test = df_y_6.iloc[int(len(df_x_6)*train_share):].reset_index(drop=True)"
   ]
  },
  {
   "cell_type": "code",
   "execution_count": 112,
   "metadata": {},
   "outputs": [
    {
     "data": {
      "text/plain": [
       "0.5291479820627802"
      ]
     },
     "execution_count": 112,
     "metadata": {},
     "output_type": "execute_result"
    }
   ],
   "source": [
    "sum(df_y_6_test)/len(df_y_6_test)"
   ]
  },
  {
   "cell_type": "code",
   "execution_count": 113,
   "metadata": {},
   "outputs": [
    {
     "name": "stdout",
     "output_type": "stream",
     "text": [
      "Accuracy: 0.4566929133858268\n",
      "ROC-AUC: 0.5\n",
      "F1-score: 0.0\n"
     ]
    }
   ],
   "source": [
    "from sklearn.dummy import DummyClassifier\n",
    "dummy_model = DummyClassifier(strategy='most_frequent')\n",
    "dummy_pred, dummy_acc, dummy_roc_auc,dummy_f1, dummy_feat_imp= cv_and_predict_valid(df_x_6_train,df_y_6_train,dummy_model)\n"
   ]
  },
  {
   "cell_type": "code",
   "execution_count": 114,
   "metadata": {},
   "outputs": [
    {
     "name": "stdout",
     "output_type": "stream",
     "text": [
      "RandomForestClassifier(n_estimators=300, random_state=17)\n",
      "Best parameters from grid search: {'n_estimators': 300}\n",
      "Accuracy: 0.5275590551181102\n",
      "ROC-AUC: 0.5281109445277362\n",
      "F1-score: 0.5454545454545454\n"
     ]
    }
   ],
   "source": [
    "from sklearn.ensemble import RandomForestClassifier\n",
    "# Random Forest\n",
    "grid_params = {'n_estimators': [5, 10, 20, 50, 100, 300]}\n",
    "rf_model = RandomForestClassifier(random_state=17)\n",
    "rf_pred, rf_acc, rf_roc_auc,rf_f1, rf_feat_imp = cv_and_predict_valid(df_x_6_train,df_y_6_train, rf_model, tree = True, grid_search=True, grid_parameters=grid_params)"
   ]
  },
  {
   "cell_type": "code",
   "execution_count": 115,
   "metadata": {},
   "outputs": [
    {
     "name": "stdout",
     "output_type": "stream",
     "text": [
      "Accuracy: 0.4977578475336323\n",
      "ROC-AUC: 0.500766747376917\n",
      "F1-score: 0.48623853211009177\n"
     ]
    }
   ],
   "source": [
    "# testing\n",
    "model = RandomForestClassifier(n_estimators=300, random_state=17)\n",
    "model.fit(df_x_6_train, df_y_6_train)\n",
    "predictions = model.predict(df_x_6_test)\n",
    "accuracy = accuracy_score(df_y_6_test, predictions)\n",
    "roc_auc = roc_auc_score(df_y_6_test, predictions)\n",
    "f1 = f1_score(df_y_6_test, predictions)\n",
    "    \n",
    "print(f\"Accuracy: {accuracy}\")\n",
    "print(f\"ROC-AUC: {roc_auc}\")\n",
    "print(f\"F1-score: {f1}\")\n"
   ]
  },
  {
   "cell_type": "code",
   "execution_count": 116,
   "metadata": {},
   "outputs": [
    {
     "name": "stdout",
     "output_type": "stream",
     "text": [
      "XGBClassifier(base_score=None, booster=None, callbacks=None,\n",
      "              colsample_bylevel=None, colsample_bynode=None,\n",
      "              colsample_bytree=None, device=None, early_stopping_rounds=None,\n",
      "              enable_categorical=False, eval_metric=None, feature_types=None,\n",
      "              gamma=None, grow_policy=None, importance_type=None,\n",
      "              interaction_constraints=None, learning_rate=None, max_bin=None,\n",
      "              max_cat_threshold=None, max_cat_to_onehot=None,\n",
      "              max_delta_step=None, max_depth=1, max_leaves=None,\n",
      "              min_child_weight=None, missing=nan, monotone_constraints=None,\n",
      "              multi_strategy=None, n_estimators=100, n_jobs=None,\n",
      "              num_parallel_tree=None, random_state=17, ...)\n",
      "Best parameters from grid search: {'max_depth': 1, 'n_estimators': 100}\n",
      "Accuracy: 0.4566929133858268\n",
      "ROC-AUC: 0.4628935532233884\n",
      "F1-score: 0.43902439024390244\n"
     ]
    }
   ],
   "source": [
    "from xgboost import XGBClassifier\n",
    "# XGBoost\n",
    "grid_params = {'n_estimators': [100, 300, 500],\"max_depth\": [1,3,6]}\n",
    "xgb_model = XGBClassifier(random_state=17)\n",
    "xgb_pred, xgb_acc, xgb_roc_auc,xgb_f1, xgb_feat_imp = cv_and_predict_valid(df_x_6_train,df_y_6_train, xgb_model, tree = True, grid_search=True, grid_parameters=grid_params)"
   ]
  },
  {
   "cell_type": "code",
   "execution_count": 117,
   "metadata": {},
   "outputs": [
    {
     "name": "stdout",
     "output_type": "stream",
     "text": [
      "Accuracy: 0.4977578475336323\n",
      "ROC-AUC: 0.5012913640032284\n",
      "F1-score: 0.48148148148148145\n"
     ]
    }
   ],
   "source": [
    "# testing\n",
    "model = XGBClassifier(random_state=17, max_depth = 1, n_estimators= 100)\n",
    "model.fit(df_x_6_train, df_y_6_train)\n",
    "predictions = model.predict(df_x_6_test)\n",
    "accuracy = accuracy_score(df_y_6_test, predictions)\n",
    "roc_auc = roc_auc_score(df_y_6_test, predictions)\n",
    "f1 = f1_score(df_y_6_test, predictions)\n",
    "    \n",
    "print(f\"Accuracy: {accuracy}\")\n",
    "print(f\"ROC-AUC: {roc_auc}\")\n",
    "print(f\"F1-score: {f1}\")\n",
    "# not bad"
   ]
  },
  {
   "cell_type": "code",
   "execution_count": 118,
   "metadata": {},
   "outputs": [
    {
     "name": "stdout",
     "output_type": "stream",
     "text": [
      "SVC(C=1, class_weight='balanced', gamma=1)\n",
      "Best parameters from grid search: {'C': 1, 'class_weight': 'balanced', 'gamma': 1, 'kernel': 'rbf'}\n",
      "Accuracy: 0.4566929133858268\n",
      "ROC-AUC: 0.5\n",
      "F1-score: 0.0\n"
     ]
    }
   ],
   "source": [
    "from sklearn.svm import SVC\n",
    "# SVM\n",
    "grid_params = {'C': [0.1, 0.3, 0.7, 1],  'kernel': ['poly', 'rbf'], 'gamma': [1, 0.1, 0.01], 'class_weight': ['balanced', None]}\n",
    "svm_model = SVC()\n",
    "svm_pred, svm_acc, svm_roc_auc,svm_f1, svm_feat_imp = cv_and_predict_valid(df_x_6_train,df_y_6_train, svm_model, grid_search=True, grid_parameters=grid_params)\n",
    "# too bad"
   ]
  },
  {
   "cell_type": "code",
   "execution_count": 119,
   "metadata": {},
   "outputs": [
    {
     "name": "stdout",
     "output_type": "stream",
     "text": [
      "Accuracy: 0.47085201793721976\n",
      "ROC-AUC: 0.5\n",
      "F1-score: 0.0\n"
     ]
    }
   ],
   "source": [
    "# testing\n",
    "model = SVC(C=1, class_weight='balanced', gamma=1)\n",
    "model.fit(df_x_6_train, df_y_6_train)\n",
    "predictions = model.predict(df_x_6_test)\n",
    "accuracy = accuracy_score(df_y_6_test, predictions)\n",
    "roc_auc = roc_auc_score(df_y_6_test, predictions)\n",
    "f1 = f1_score(df_y_6_test, predictions)\n",
    "    \n",
    "print(f\"Accuracy: {accuracy}\")\n",
    "print(f\"ROC-AUC: {roc_auc}\")\n",
    "print(f\"F1-score: {f1}\")"
   ]
  },
  {
   "cell_type": "code",
   "execution_count": null,
   "metadata": {},
   "outputs": [
    {
     "name": "stderr",
     "output_type": "stream",
     "text": [
      "c:\\Users\\isaen\\AppData\\Local\\Programs\\Python\\Python312\\Lib\\site-packages\\sklearn\\ensemble\\_weight_boosting.py:519: FutureWarning: The SAMME.R algorithm (the default) is deprecated and will be removed in 1.6. Use the SAMME algorithm to circumvent this warning.\n",
      "  warnings.warn(\n"
     ]
    },
    {
     "name": "stdout",
     "output_type": "stream",
     "text": [
      "AdaBoostClassifier(learning_rate=1, n_estimators=500)\n",
      "Best parameters from grid search: {'learning_rate': 1, 'n_estimators': 500}\n",
      "Accuracy: 0.5669291338582677\n",
      "ROC-AUC: 0.5725887056471765\n",
      "F1-score: 0.56\n"
     ]
    }
   ],
   "source": [
    "from sklearn.ensemble import AdaBoostClassifier\n",
    "grid_params = {'n_estimators': [50, 100, 300, 500], 'learning_rate':[0.1, 0.3, 0.5, 1]}\n",
    "model = AdaBoostClassifier()\n",
    "ada_pred, ada_acc, ada_roc_auc,ada_f1, ada_feat_imp = cv_and_predict_valid(df_x_6_train,df_y_6_train, model, tree = True, grid_search=True, grid_parameters = grid_params)\n"
   ]
  },
  {
   "cell_type": "code",
   "execution_count": null,
   "metadata": {},
   "outputs": [
    {
     "name": "stderr",
     "output_type": "stream",
     "text": [
      "c:\\Users\\isaen\\AppData\\Local\\Programs\\Python\\Python312\\Lib\\site-packages\\sklearn\\ensemble\\_weight_boosting.py:519: FutureWarning: The SAMME.R algorithm (the default) is deprecated and will be removed in 1.6. Use the SAMME algorithm to circumvent this warning.\n",
      "  warnings.warn(\n"
     ]
    },
    {
     "name": "stdout",
     "output_type": "stream",
     "text": [
      "Accuracy: 0.5695067264573991\n",
      "ROC-AUC: 0.5727602905569007\n",
      "F1-score: 0.5596330275229358\n"
     ]
    }
   ],
   "source": [
    "# testing\n",
    "model = AdaBoostClassifier(learning_rate=1, n_estimators=500)\n",
    "model.fit(df_x_6_train, df_y_6_train)\n",
    "predictions = model.predict(df_x_6_test)\n",
    "accuracy = accuracy_score(df_y_6_test, predictions)\n",
    "roc_auc = roc_auc_score(df_y_6_test, predictions)\n",
    "f1 = f1_score(df_y_6_test, predictions)\n",
    "    \n",
    "print(f\"Accuracy: {accuracy}\")\n",
    "print(f\"ROC-AUC: {roc_auc}\")\n",
    "print(f\"F1-score: {f1}\")\n",
    "# good"
   ]
  },
  {
   "cell_type": "code",
   "execution_count": 122,
   "metadata": {},
   "outputs": [
    {
     "name": "stdout",
     "output_type": "stream",
     "text": [
      "Accuracy: 0.4566929133858268\n",
      "ROC-AUC: 0.5\n",
      "F1-score: 0.0\n"
     ]
    }
   ],
   "source": [
    "from sklearn.naive_bayes import GaussianNB\n",
    "model = GaussianNB()\n",
    "nb_pred, nb_acc, nb_roc_auc,nb_f1, nb_feat_imp = cv_and_predict_valid(df_x_6_train,df_y_6_train, model)\n"
   ]
  },
  {
   "cell_type": "code",
   "execution_count": null,
   "metadata": {},
   "outputs": [
    {
     "name": "stdout",
     "output_type": "stream",
     "text": [
      "Accuracy: 0.47085201793721976\n",
      "ROC-AUC: 0.5\n",
      "F1-score: 0.0\n"
     ]
    }
   ],
   "source": [
    "# testing\n",
    "model = GaussianNB()\n",
    "model.fit(df_x_6_train, df_y_6_train)\n",
    "predictions = model.predict(df_x_6_test)\n",
    "accuracy = accuracy_score(df_y_6_test, predictions)\n",
    "roc_auc = roc_auc_score(df_y_6_test, predictions)\n",
    "f1 = f1_score(df_y_6_test, predictions)\n",
    "    \n",
    "print(f\"Accuracy: {accuracy}\")\n",
    "print(f\"ROC-AUC: {roc_auc}\")\n",
    "print(f\"F1-score: {f1}\")\n"
   ]
  },
  {
   "cell_type": "code",
   "execution_count": 124,
   "metadata": {},
   "outputs": [
    {
     "name": "stdout",
     "output_type": "stream",
     "text": [
      "Accuracy: 0.4566929133858268\n",
      "ROC-AUC: 0.49725137431284355\n",
      "F1-score: 0.0547945205479452\n"
     ]
    }
   ],
   "source": [
    "from sklearn.linear_model import LogisticRegression\n",
    "model = LogisticRegression()\n",
    "lr_pred, lr_acc, lr_roc_auc,lr_f1, lr_feat_imp = cv_and_predict_valid(df_x_6_train,df_y_6_train, model)\n"
   ]
  },
  {
   "cell_type": "code",
   "execution_count": null,
   "metadata": {},
   "outputs": [
    {
     "name": "stdout",
     "output_type": "stream",
     "text": [
      "Accuracy: 0.47533632286995514\n",
      "ROC-AUC: 0.4937449556093624\n",
      "F1-score: 0.2641509433962264\n"
     ]
    }
   ],
   "source": [
    "# testing\n",
    "model = LogisticRegression()\n",
    "model.fit(df_x_6_train, df_y_6_train)\n",
    "predictions = model.predict(df_x_6_test)\n",
    "accuracy = accuracy_score(df_y_6_test, predictions)\n",
    "roc_auc = roc_auc_score(df_y_6_test, predictions)\n",
    "f1 = f1_score(df_y_6_test, predictions)\n",
    "    \n",
    "print(f\"Accuracy: {accuracy}\")\n",
    "print(f\"ROC-AUC: {roc_auc}\")\n",
    "print(f\"F1-score: {f1}\")\n"
   ]
  },
  {
   "cell_type": "code",
   "execution_count": 126,
   "metadata": {},
   "outputs": [
    {
     "name": "stdout",
     "output_type": "stream",
     "text": [
      "KNeighborsClassifier(n_neighbors=10)\n",
      "Best parameters from grid search: {'n_neighbors': 10}\n",
      "Accuracy: 0.5196850393700787\n",
      "ROC-AUC: 0.534607696151924\n",
      "F1-score: 0.45045045045045046\n"
     ]
    }
   ],
   "source": [
    "from sklearn.neighbors import KNeighborsClassifier\n",
    "grid_params = {'n_neighbors': [1, 2, 3, 4, 5, 10, 20, 50]}\n",
    "model = KNeighborsClassifier()\n",
    "knn_pred, knn_acc, knn_roc_auc,knn_f1, knn_feat_imp = cv_and_predict_valid(df_x_6_train,df_y_6_train, model, grid_search=True, grid_parameters=grid_params)\n"
   ]
  },
  {
   "cell_type": "code",
   "execution_count": null,
   "metadata": {},
   "outputs": [
    {
     "name": "stdout",
     "output_type": "stream",
     "text": [
      "Accuracy: 0.48878923766816146\n",
      "ROC-AUC: 0.4954398708635997\n",
      "F1-score: 0.4411764705882353\n"
     ]
    }
   ],
   "source": [
    "# testing\n",
    "model = KNeighborsClassifier(n_neighbors=10)\n",
    "model.fit(df_x_6_train, df_y_6_train)\n",
    "predictions = model.predict(df_x_6_test)\n",
    "accuracy = accuracy_score(df_y_6_test, predictions)\n",
    "roc_auc = roc_auc_score(df_y_6_test, predictions)\n",
    "f1 = f1_score(df_y_6_test, predictions)\n",
    "    \n",
    "print(f\"Accuracy: {accuracy}\")\n",
    "print(f\"ROC-AUC: {roc_auc}\")\n",
    "print(f\"F1-score: {f1}\")\n"
   ]
  },
  {
   "cell_type": "code",
   "execution_count": null,
   "metadata": {},
   "outputs": [],
   "source": []
  },
  {
   "cell_type": "code",
   "execution_count": null,
   "metadata": {},
   "outputs": [],
   "source": []
  },
  {
   "cell_type": "markdown",
   "metadata": {},
   "source": [
    "# All sentiments with lags"
   ]
  },
  {
   "cell_type": "code",
   "execution_count": 128,
   "metadata": {},
   "outputs": [
    {
     "data": {
      "text/html": [
       "<div>\n",
       "<style scoped>\n",
       "    .dataframe tbody tr th:only-of-type {\n",
       "        vertical-align: middle;\n",
       "    }\n",
       "\n",
       "    .dataframe tbody tr th {\n",
       "        vertical-align: top;\n",
       "    }\n",
       "\n",
       "    .dataframe thead th {\n",
       "        text-align: right;\n",
       "    }\n",
       "</style>\n",
       "<table border=\"1\" class=\"dataframe\">\n",
       "  <thead>\n",
       "    <tr style=\"text-align: right;\">\n",
       "      <th></th>\n",
       "      <th>Date_30m</th>\n",
       "      <th>datetime</th>\n",
       "      <th>text</th>\n",
       "      <th>username</th>\n",
       "      <th>kk08_pos_score</th>\n",
       "      <th>kk08_score_diff</th>\n",
       "      <th>Elkulako_label</th>\n",
       "      <th>Sentiment_vader</th>\n",
       "      <th>pred</th>\n",
       "      <th>analysis</th>\n",
       "      <th>...</th>\n",
       "      <th>Return_sign</th>\n",
       "      <th>kk08_pos_score_lag1</th>\n",
       "      <th>kk08_pos_score_lag2</th>\n",
       "      <th>kk08_pos_score_lag3</th>\n",
       "      <th>Sentiment_vader_lag1</th>\n",
       "      <th>Sentiment_vader_lag2</th>\n",
       "      <th>Sentiment_vader_lag3</th>\n",
       "      <th>Elkulako_label_lag1</th>\n",
       "      <th>Elkulako_label_lag2</th>\n",
       "      <th>Elkulako_label_lag3</th>\n",
       "    </tr>\n",
       "  </thead>\n",
       "  <tbody>\n",
       "    <tr>\n",
       "      <th>0</th>\n",
       "      <td>2022-01-01 00:30:00</td>\n",
       "      <td>['2022-01-01 00:00:00', '2022-01-01 00:00:00',...</td>\n",
       "      <td>Current Price of Bitcoin:\\n$46320 (-1.85%)\\n\\n...</td>\n",
       "      <td>CryptoNerdApp\\nTrendSpider\\nMadStudentScie1\\nW...</td>\n",
       "      <td>0.769373</td>\n",
       "      <td>0.538746</td>\n",
       "      <td>0.324930</td>\n",
       "      <td>0.149739</td>\n",
       "      <td>20</td>\n",
       "      <td>46</td>\n",
       "      <td>...</td>\n",
       "      <td>1</td>\n",
       "      <td>NaN</td>\n",
       "      <td>NaN</td>\n",
       "      <td>NaN</td>\n",
       "      <td>NaN</td>\n",
       "      <td>NaN</td>\n",
       "      <td>NaN</td>\n",
       "      <td>NaN</td>\n",
       "      <td>NaN</td>\n",
       "      <td>NaN</td>\n",
       "    </tr>\n",
       "    <tr>\n",
       "      <th>1</th>\n",
       "      <td>2022-01-01 01:00:00</td>\n",
       "      <td>['2022-01-01 00:30:00', '2022-01-01 00:30:01',...</td>\n",
       "      <td>“Here's to a bright New Year and a fond farewe...</td>\n",
       "      <td>bitcoiva\\ncryptozone007\\nlinuxadvocate\\nbakedn...</td>\n",
       "      <td>0.739433</td>\n",
       "      <td>0.478866</td>\n",
       "      <td>0.412354</td>\n",
       "      <td>0.175647</td>\n",
       "      <td>14</td>\n",
       "      <td>26</td>\n",
       "      <td>...</td>\n",
       "      <td>1</td>\n",
       "      <td>0.769373</td>\n",
       "      <td>NaN</td>\n",
       "      <td>NaN</td>\n",
       "      <td>0.149739</td>\n",
       "      <td>NaN</td>\n",
       "      <td>NaN</td>\n",
       "      <td>0.324930</td>\n",
       "      <td>NaN</td>\n",
       "      <td>NaN</td>\n",
       "    </tr>\n",
       "    <tr>\n",
       "      <th>2</th>\n",
       "      <td>2022-01-01 01:30:00</td>\n",
       "      <td>['2022-01-01 01:00:00', '2022-01-01 01:00:00',...</td>\n",
       "      <td>Today's Cryptocurrency Fear And Greed Index: 2...</td>\n",
       "      <td>FearAndGreedBot\\nOfficialOverbit\\nBTC_AI_bot\\n...</td>\n",
       "      <td>0.768188</td>\n",
       "      <td>0.536376</td>\n",
       "      <td>0.349835</td>\n",
       "      <td>0.154206</td>\n",
       "      <td>15</td>\n",
       "      <td>17</td>\n",
       "      <td>...</td>\n",
       "      <td>0</td>\n",
       "      <td>0.739433</td>\n",
       "      <td>0.769373</td>\n",
       "      <td>NaN</td>\n",
       "      <td>0.175647</td>\n",
       "      <td>0.149739</td>\n",
       "      <td>NaN</td>\n",
       "      <td>0.412354</td>\n",
       "      <td>0.324930</td>\n",
       "      <td>NaN</td>\n",
       "    </tr>\n",
       "    <tr>\n",
       "      <th>3</th>\n",
       "      <td>2022-01-01 02:00:00</td>\n",
       "      <td>['2022-01-01 01:30:00', '2022-01-01 01:30:00',...</td>\n",
       "      <td>This year is my year , the year of my progress...</td>\n",
       "      <td>GhorbaniArshiya\\nPopunderTraffic\\nobjectwizard...</td>\n",
       "      <td>0.785896</td>\n",
       "      <td>0.571792</td>\n",
       "      <td>0.334061</td>\n",
       "      <td>0.200349</td>\n",
       "      <td>15</td>\n",
       "      <td>12</td>\n",
       "      <td>...</td>\n",
       "      <td>1</td>\n",
       "      <td>0.768188</td>\n",
       "      <td>0.739433</td>\n",
       "      <td>0.769373</td>\n",
       "      <td>0.154206</td>\n",
       "      <td>0.175647</td>\n",
       "      <td>0.149739</td>\n",
       "      <td>0.349835</td>\n",
       "      <td>0.412354</td>\n",
       "      <td>0.324930</td>\n",
       "    </tr>\n",
       "    <tr>\n",
       "      <th>4</th>\n",
       "      <td>2022-01-01 02:30:00</td>\n",
       "      <td>['2022-01-01 02:00:00', '2022-01-01 02:00:00',...</td>\n",
       "      <td>Huobi Singapore would like to wish you a Happy...</td>\n",
       "      <td>HuobiSg\\nAmazonCash4Cars\\nBTC_AI_bot\\nCalvinAy...</td>\n",
       "      <td>0.774167</td>\n",
       "      <td>0.548335</td>\n",
       "      <td>0.403475</td>\n",
       "      <td>0.165008</td>\n",
       "      <td>13</td>\n",
       "      <td>13</td>\n",
       "      <td>...</td>\n",
       "      <td>0</td>\n",
       "      <td>0.785896</td>\n",
       "      <td>0.768188</td>\n",
       "      <td>0.739433</td>\n",
       "      <td>0.200349</td>\n",
       "      <td>0.154206</td>\n",
       "      <td>0.175647</td>\n",
       "      <td>0.334061</td>\n",
       "      <td>0.349835</td>\n",
       "      <td>0.412354</td>\n",
       "    </tr>\n",
       "    <tr>\n",
       "      <th>...</th>\n",
       "      <td>...</td>\n",
       "      <td>...</td>\n",
       "      <td>...</td>\n",
       "      <td>...</td>\n",
       "      <td>...</td>\n",
       "      <td>...</td>\n",
       "      <td>...</td>\n",
       "      <td>...</td>\n",
       "      <td>...</td>\n",
       "      <td>...</td>\n",
       "      <td>...</td>\n",
       "      <td>...</td>\n",
       "      <td>...</td>\n",
       "      <td>...</td>\n",
       "      <td>...</td>\n",
       "      <td>...</td>\n",
       "      <td>...</td>\n",
       "      <td>...</td>\n",
       "      <td>...</td>\n",
       "      <td>...</td>\n",
       "      <td>...</td>\n",
       "    </tr>\n",
       "    <tr>\n",
       "      <th>1483</th>\n",
       "      <td>2022-01-31 22:00:00</td>\n",
       "      <td>['2022-01-31 21:30:00', '2022-01-31 21:30:00',...</td>\n",
       "      <td>#morganstanley calms tempers and minimizes #Bi...</td>\n",
       "      <td>Ricardo04606850\\nTACryptowaves\\ncryptonewsleak...</td>\n",
       "      <td>0.763569</td>\n",
       "      <td>0.527137</td>\n",
       "      <td>0.227818</td>\n",
       "      <td>0.145110</td>\n",
       "      <td>9</td>\n",
       "      <td>10</td>\n",
       "      <td>...</td>\n",
       "      <td>1</td>\n",
       "      <td>0.766771</td>\n",
       "      <td>0.758002</td>\n",
       "      <td>0.762439</td>\n",
       "      <td>0.140631</td>\n",
       "      <td>0.141404</td>\n",
       "      <td>0.130697</td>\n",
       "      <td>0.260274</td>\n",
       "      <td>0.291310</td>\n",
       "      <td>0.280872</td>\n",
       "    </tr>\n",
       "    <tr>\n",
       "      <th>1484</th>\n",
       "      <td>2022-01-31 22:30:00</td>\n",
       "      <td>['2022-01-31 22:00:00', '2022-01-31 22:00:00',...</td>\n",
       "      <td>BTC Latest Block Info: Block 721243 holds 2,80...</td>\n",
       "      <td>btc_blockbot\\nM1Seahawk\\nnialljburke\\nmurray_r...</td>\n",
       "      <td>0.803204</td>\n",
       "      <td>0.606408</td>\n",
       "      <td>0.229487</td>\n",
       "      <td>0.144737</td>\n",
       "      <td>11</td>\n",
       "      <td>12</td>\n",
       "      <td>...</td>\n",
       "      <td>0</td>\n",
       "      <td>0.763569</td>\n",
       "      <td>0.766771</td>\n",
       "      <td>0.758002</td>\n",
       "      <td>0.145110</td>\n",
       "      <td>0.140631</td>\n",
       "      <td>0.141404</td>\n",
       "      <td>0.227818</td>\n",
       "      <td>0.260274</td>\n",
       "      <td>0.291310</td>\n",
       "    </tr>\n",
       "    <tr>\n",
       "      <th>1485</th>\n",
       "      <td>2022-01-31 23:00:00</td>\n",
       "      <td>['2022-01-31 22:30:00', '2022-01-31 22:30:00',...</td>\n",
       "      <td>Good move of #Bitcoin today, reversal not conf...</td>\n",
       "      <td>CryptoMichNL\\nIntEngineering\\nKahunaATM\\nMBrae...</td>\n",
       "      <td>0.775618</td>\n",
       "      <td>0.551236</td>\n",
       "      <td>0.206623</td>\n",
       "      <td>0.169323</td>\n",
       "      <td>3</td>\n",
       "      <td>11</td>\n",
       "      <td>...</td>\n",
       "      <td>0</td>\n",
       "      <td>0.803204</td>\n",
       "      <td>0.763569</td>\n",
       "      <td>0.766771</td>\n",
       "      <td>0.144737</td>\n",
       "      <td>0.145110</td>\n",
       "      <td>0.140631</td>\n",
       "      <td>0.229487</td>\n",
       "      <td>0.227818</td>\n",
       "      <td>0.260274</td>\n",
       "    </tr>\n",
       "    <tr>\n",
       "      <th>1486</th>\n",
       "      <td>2022-01-31 23:30:00</td>\n",
       "      <td>['2022-01-31 23:00:00', '2022-01-31 23:00:00',...</td>\n",
       "      <td>Top #Cryptocurrency RANK DOWN (#crypto #bitcoi...</td>\n",
       "      <td>CryptoTopCharts\\nBTC_AI_bot\\ncryptonewsleak\\nt...</td>\n",
       "      <td>0.781215</td>\n",
       "      <td>0.562431</td>\n",
       "      <td>0.270270</td>\n",
       "      <td>0.161486</td>\n",
       "      <td>9</td>\n",
       "      <td>10</td>\n",
       "      <td>...</td>\n",
       "      <td>1</td>\n",
       "      <td>0.775618</td>\n",
       "      <td>0.803204</td>\n",
       "      <td>0.763569</td>\n",
       "      <td>0.169323</td>\n",
       "      <td>0.144737</td>\n",
       "      <td>0.145110</td>\n",
       "      <td>0.206623</td>\n",
       "      <td>0.229487</td>\n",
       "      <td>0.227818</td>\n",
       "    </tr>\n",
       "    <tr>\n",
       "      <th>1487</th>\n",
       "      <td>2022-02-01 00:00:00</td>\n",
       "      <td>['2022-01-31 23:30:01', '2022-01-31 23:30:02',...</td>\n",
       "      <td>Bitcoin On Its Way To $500,000? Anthony Scaram...</td>\n",
       "      <td>OutlawBuckeye\\nSifHomes\\nitvc_\\nRaulGlzC\\nTheM...</td>\n",
       "      <td>0.755510</td>\n",
       "      <td>0.511020</td>\n",
       "      <td>0.242021</td>\n",
       "      <td>0.140869</td>\n",
       "      <td>7</td>\n",
       "      <td>9</td>\n",
       "      <td>...</td>\n",
       "      <td>0</td>\n",
       "      <td>0.781215</td>\n",
       "      <td>0.775618</td>\n",
       "      <td>0.803204</td>\n",
       "      <td>0.161486</td>\n",
       "      <td>0.169323</td>\n",
       "      <td>0.144737</td>\n",
       "      <td>0.270270</td>\n",
       "      <td>0.206623</td>\n",
       "      <td>0.229487</td>\n",
       "    </tr>\n",
       "  </tbody>\n",
       "</table>\n",
       "<p>1488 rows × 40 columns</p>\n",
       "</div>"
      ],
      "text/plain": [
       "                 Date_30m                                           datetime  \\\n",
       "0     2022-01-01 00:30:00  ['2022-01-01 00:00:00', '2022-01-01 00:00:00',...   \n",
       "1     2022-01-01 01:00:00  ['2022-01-01 00:30:00', '2022-01-01 00:30:01',...   \n",
       "2     2022-01-01 01:30:00  ['2022-01-01 01:00:00', '2022-01-01 01:00:00',...   \n",
       "3     2022-01-01 02:00:00  ['2022-01-01 01:30:00', '2022-01-01 01:30:00',...   \n",
       "4     2022-01-01 02:30:00  ['2022-01-01 02:00:00', '2022-01-01 02:00:00',...   \n",
       "...                   ...                                                ...   \n",
       "1483  2022-01-31 22:00:00  ['2022-01-31 21:30:00', '2022-01-31 21:30:00',...   \n",
       "1484  2022-01-31 22:30:00  ['2022-01-31 22:00:00', '2022-01-31 22:00:00',...   \n",
       "1485  2022-01-31 23:00:00  ['2022-01-31 22:30:00', '2022-01-31 22:30:00',...   \n",
       "1486  2022-01-31 23:30:00  ['2022-01-31 23:00:00', '2022-01-31 23:00:00',...   \n",
       "1487  2022-02-01 00:00:00  ['2022-01-31 23:30:01', '2022-01-31 23:30:02',...   \n",
       "\n",
       "                                                   text  \\\n",
       "0     Current Price of Bitcoin:\\n$46320 (-1.85%)\\n\\n...   \n",
       "1     “Here's to a bright New Year and a fond farewe...   \n",
       "2     Today's Cryptocurrency Fear And Greed Index: 2...   \n",
       "3     This year is my year , the year of my progress...   \n",
       "4     Huobi Singapore would like to wish you a Happy...   \n",
       "...                                                 ...   \n",
       "1483  #morganstanley calms tempers and minimizes #Bi...   \n",
       "1484  BTC Latest Block Info: Block 721243 holds 2,80...   \n",
       "1485  Good move of #Bitcoin today, reversal not conf...   \n",
       "1486  Top #Cryptocurrency RANK DOWN (#crypto #bitcoi...   \n",
       "1487  Bitcoin On Its Way To $500,000? Anthony Scaram...   \n",
       "\n",
       "                                               username  kk08_pos_score  \\\n",
       "0     CryptoNerdApp\\nTrendSpider\\nMadStudentScie1\\nW...        0.769373   \n",
       "1     bitcoiva\\ncryptozone007\\nlinuxadvocate\\nbakedn...        0.739433   \n",
       "2     FearAndGreedBot\\nOfficialOverbit\\nBTC_AI_bot\\n...        0.768188   \n",
       "3     GhorbaniArshiya\\nPopunderTraffic\\nobjectwizard...        0.785896   \n",
       "4     HuobiSg\\nAmazonCash4Cars\\nBTC_AI_bot\\nCalvinAy...        0.774167   \n",
       "...                                                 ...             ...   \n",
       "1483  Ricardo04606850\\nTACryptowaves\\ncryptonewsleak...        0.763569   \n",
       "1484  btc_blockbot\\nM1Seahawk\\nnialljburke\\nmurray_r...        0.803204   \n",
       "1485  CryptoMichNL\\nIntEngineering\\nKahunaATM\\nMBrae...        0.775618   \n",
       "1486  CryptoTopCharts\\nBTC_AI_bot\\ncryptonewsleak\\nt...        0.781215   \n",
       "1487  OutlawBuckeye\\nSifHomes\\nitvc_\\nRaulGlzC\\nTheM...        0.755510   \n",
       "\n",
       "      kk08_score_diff  Elkulako_label  Sentiment_vader  pred  analysis  ...  \\\n",
       "0            0.538746        0.324930         0.149739    20        46  ...   \n",
       "1            0.478866        0.412354         0.175647    14        26  ...   \n",
       "2            0.536376        0.349835         0.154206    15        17  ...   \n",
       "3            0.571792        0.334061         0.200349    15        12  ...   \n",
       "4            0.548335        0.403475         0.165008    13        13  ...   \n",
       "...               ...             ...              ...   ...       ...  ...   \n",
       "1483         0.527137        0.227818         0.145110     9        10  ...   \n",
       "1484         0.606408        0.229487         0.144737    11        12  ...   \n",
       "1485         0.551236        0.206623         0.169323     3        11  ...   \n",
       "1486         0.562431        0.270270         0.161486     9        10  ...   \n",
       "1487         0.511020        0.242021         0.140869     7         9  ...   \n",
       "\n",
       "      Return_sign  kk08_pos_score_lag1  kk08_pos_score_lag2  \\\n",
       "0               1                  NaN                  NaN   \n",
       "1               1             0.769373                  NaN   \n",
       "2               0             0.739433             0.769373   \n",
       "3               1             0.768188             0.739433   \n",
       "4               0             0.785896             0.768188   \n",
       "...           ...                  ...                  ...   \n",
       "1483            1             0.766771             0.758002   \n",
       "1484            0             0.763569             0.766771   \n",
       "1485            0             0.803204             0.763569   \n",
       "1486            1             0.775618             0.803204   \n",
       "1487            0             0.781215             0.775618   \n",
       "\n",
       "      kk08_pos_score_lag3  Sentiment_vader_lag1  Sentiment_vader_lag2  \\\n",
       "0                     NaN                   NaN                   NaN   \n",
       "1                     NaN              0.149739                   NaN   \n",
       "2                     NaN              0.175647              0.149739   \n",
       "3                0.769373              0.154206              0.175647   \n",
       "4                0.739433              0.200349              0.154206   \n",
       "...                   ...                   ...                   ...   \n",
       "1483             0.762439              0.140631              0.141404   \n",
       "1484             0.758002              0.145110              0.140631   \n",
       "1485             0.766771              0.144737              0.145110   \n",
       "1486             0.763569              0.169323              0.144737   \n",
       "1487             0.803204              0.161486              0.169323   \n",
       "\n",
       "      Sentiment_vader_lag3  Elkulako_label_lag1  Elkulako_label_lag2  \\\n",
       "0                      NaN                  NaN                  NaN   \n",
       "1                      NaN             0.324930                  NaN   \n",
       "2                      NaN             0.412354             0.324930   \n",
       "3                 0.149739             0.349835             0.412354   \n",
       "4                 0.175647             0.334061             0.349835   \n",
       "...                    ...                  ...                  ...   \n",
       "1483              0.130697             0.260274             0.291310   \n",
       "1484              0.141404             0.227818             0.260274   \n",
       "1485              0.140631             0.229487             0.227818   \n",
       "1486              0.145110             0.206623             0.229487   \n",
       "1487              0.144737             0.270270             0.206623   \n",
       "\n",
       "      Elkulako_label_lag3  \n",
       "0                     NaN  \n",
       "1                     NaN  \n",
       "2                     NaN  \n",
       "3                0.324930  \n",
       "4                0.412354  \n",
       "...                   ...  \n",
       "1483             0.280872  \n",
       "1484             0.291310  \n",
       "1485             0.260274  \n",
       "1486             0.227818  \n",
       "1487             0.229487  \n",
       "\n",
       "[1488 rows x 40 columns]"
      ]
     },
     "execution_count": 128,
     "metadata": {},
     "output_type": "execute_result"
    }
   ],
   "source": [
    "df"
   ]
  },
  {
   "cell_type": "code",
   "execution_count": 129,
   "metadata": {},
   "outputs": [
    {
     "data": {
      "text/html": [
       "<div>\n",
       "<style scoped>\n",
       "    .dataframe tbody tr th:only-of-type {\n",
       "        vertical-align: middle;\n",
       "    }\n",
       "\n",
       "    .dataframe tbody tr th {\n",
       "        vertical-align: top;\n",
       "    }\n",
       "\n",
       "    .dataframe thead th {\n",
       "        text-align: right;\n",
       "    }\n",
       "</style>\n",
       "<table border=\"1\" class=\"dataframe\">\n",
       "  <thead>\n",
       "    <tr style=\"text-align: right;\">\n",
       "      <th></th>\n",
       "      <th>kk08_pos_score</th>\n",
       "      <th>kk08_pos_score_lag1</th>\n",
       "      <th>kk08_pos_score_lag2</th>\n",
       "      <th>kk08_pos_score_lag3</th>\n",
       "      <th>Sentiment_vader</th>\n",
       "      <th>Sentiment_vader_lag1</th>\n",
       "      <th>Sentiment_vader_lag2</th>\n",
       "      <th>Sentiment_vader_lag3</th>\n",
       "      <th>Elkulako_label</th>\n",
       "      <th>Elkulako_label_lag1</th>\n",
       "      <th>Elkulako_label_lag2</th>\n",
       "      <th>Elkulako_label_lag3</th>\n",
       "    </tr>\n",
       "  </thead>\n",
       "  <tbody>\n",
       "    <tr>\n",
       "      <th>0</th>\n",
       "      <td>0.785896</td>\n",
       "      <td>0.768188</td>\n",
       "      <td>0.739433</td>\n",
       "      <td>0.769373</td>\n",
       "      <td>0.200349</td>\n",
       "      <td>0.154206</td>\n",
       "      <td>0.175647</td>\n",
       "      <td>0.149739</td>\n",
       "      <td>0.334061</td>\n",
       "      <td>0.349835</td>\n",
       "      <td>0.412354</td>\n",
       "      <td>0.324930</td>\n",
       "    </tr>\n",
       "    <tr>\n",
       "      <th>1</th>\n",
       "      <td>0.774167</td>\n",
       "      <td>0.785896</td>\n",
       "      <td>0.768188</td>\n",
       "      <td>0.739433</td>\n",
       "      <td>0.165008</td>\n",
       "      <td>0.200349</td>\n",
       "      <td>0.154206</td>\n",
       "      <td>0.175647</td>\n",
       "      <td>0.403475</td>\n",
       "      <td>0.334061</td>\n",
       "      <td>0.349835</td>\n",
       "      <td>0.412354</td>\n",
       "    </tr>\n",
       "    <tr>\n",
       "      <th>2</th>\n",
       "      <td>0.771805</td>\n",
       "      <td>0.774167</td>\n",
       "      <td>0.785896</td>\n",
       "      <td>0.768188</td>\n",
       "      <td>0.200392</td>\n",
       "      <td>0.165008</td>\n",
       "      <td>0.200349</td>\n",
       "      <td>0.154206</td>\n",
       "      <td>0.455128</td>\n",
       "      <td>0.403475</td>\n",
       "      <td>0.334061</td>\n",
       "      <td>0.349835</td>\n",
       "    </tr>\n",
       "    <tr>\n",
       "      <th>3</th>\n",
       "      <td>0.758940</td>\n",
       "      <td>0.771805</td>\n",
       "      <td>0.774167</td>\n",
       "      <td>0.785896</td>\n",
       "      <td>0.164456</td>\n",
       "      <td>0.200392</td>\n",
       "      <td>0.165008</td>\n",
       "      <td>0.200349</td>\n",
       "      <td>0.321212</td>\n",
       "      <td>0.455128</td>\n",
       "      <td>0.403475</td>\n",
       "      <td>0.334061</td>\n",
       "    </tr>\n",
       "    <tr>\n",
       "      <th>4</th>\n",
       "      <td>0.762820</td>\n",
       "      <td>0.758940</td>\n",
       "      <td>0.771805</td>\n",
       "      <td>0.774167</td>\n",
       "      <td>0.186867</td>\n",
       "      <td>0.164456</td>\n",
       "      <td>0.200392</td>\n",
       "      <td>0.165008</td>\n",
       "      <td>0.329596</td>\n",
       "      <td>0.321212</td>\n",
       "      <td>0.455128</td>\n",
       "      <td>0.403475</td>\n",
       "    </tr>\n",
       "    <tr>\n",
       "      <th>...</th>\n",
       "      <td>...</td>\n",
       "      <td>...</td>\n",
       "      <td>...</td>\n",
       "      <td>...</td>\n",
       "      <td>...</td>\n",
       "      <td>...</td>\n",
       "      <td>...</td>\n",
       "      <td>...</td>\n",
       "      <td>...</td>\n",
       "      <td>...</td>\n",
       "      <td>...</td>\n",
       "      <td>...</td>\n",
       "    </tr>\n",
       "    <tr>\n",
       "      <th>1480</th>\n",
       "      <td>0.763569</td>\n",
       "      <td>0.766771</td>\n",
       "      <td>0.758002</td>\n",
       "      <td>0.762439</td>\n",
       "      <td>0.145110</td>\n",
       "      <td>0.140631</td>\n",
       "      <td>0.141404</td>\n",
       "      <td>0.130697</td>\n",
       "      <td>0.227818</td>\n",
       "      <td>0.260274</td>\n",
       "      <td>0.291310</td>\n",
       "      <td>0.280872</td>\n",
       "    </tr>\n",
       "    <tr>\n",
       "      <th>1481</th>\n",
       "      <td>0.803204</td>\n",
       "      <td>0.763569</td>\n",
       "      <td>0.766771</td>\n",
       "      <td>0.758002</td>\n",
       "      <td>0.144737</td>\n",
       "      <td>0.145110</td>\n",
       "      <td>0.140631</td>\n",
       "      <td>0.141404</td>\n",
       "      <td>0.229487</td>\n",
       "      <td>0.227818</td>\n",
       "      <td>0.260274</td>\n",
       "      <td>0.291310</td>\n",
       "    </tr>\n",
       "    <tr>\n",
       "      <th>1482</th>\n",
       "      <td>0.775618</td>\n",
       "      <td>0.803204</td>\n",
       "      <td>0.763569</td>\n",
       "      <td>0.766771</td>\n",
       "      <td>0.169323</td>\n",
       "      <td>0.144737</td>\n",
       "      <td>0.145110</td>\n",
       "      <td>0.140631</td>\n",
       "      <td>0.206623</td>\n",
       "      <td>0.229487</td>\n",
       "      <td>0.227818</td>\n",
       "      <td>0.260274</td>\n",
       "    </tr>\n",
       "    <tr>\n",
       "      <th>1483</th>\n",
       "      <td>0.781215</td>\n",
       "      <td>0.775618</td>\n",
       "      <td>0.803204</td>\n",
       "      <td>0.763569</td>\n",
       "      <td>0.161486</td>\n",
       "      <td>0.169323</td>\n",
       "      <td>0.144737</td>\n",
       "      <td>0.145110</td>\n",
       "      <td>0.270270</td>\n",
       "      <td>0.206623</td>\n",
       "      <td>0.229487</td>\n",
       "      <td>0.227818</td>\n",
       "    </tr>\n",
       "    <tr>\n",
       "      <th>1484</th>\n",
       "      <td>0.755510</td>\n",
       "      <td>0.781215</td>\n",
       "      <td>0.775618</td>\n",
       "      <td>0.803204</td>\n",
       "      <td>0.140869</td>\n",
       "      <td>0.161486</td>\n",
       "      <td>0.169323</td>\n",
       "      <td>0.144737</td>\n",
       "      <td>0.242021</td>\n",
       "      <td>0.270270</td>\n",
       "      <td>0.206623</td>\n",
       "      <td>0.229487</td>\n",
       "    </tr>\n",
       "  </tbody>\n",
       "</table>\n",
       "<p>1485 rows × 12 columns</p>\n",
       "</div>"
      ],
      "text/plain": [
       "      kk08_pos_score  kk08_pos_score_lag1  kk08_pos_score_lag2  \\\n",
       "0           0.785896             0.768188             0.739433   \n",
       "1           0.774167             0.785896             0.768188   \n",
       "2           0.771805             0.774167             0.785896   \n",
       "3           0.758940             0.771805             0.774167   \n",
       "4           0.762820             0.758940             0.771805   \n",
       "...              ...                  ...                  ...   \n",
       "1480        0.763569             0.766771             0.758002   \n",
       "1481        0.803204             0.763569             0.766771   \n",
       "1482        0.775618             0.803204             0.763569   \n",
       "1483        0.781215             0.775618             0.803204   \n",
       "1484        0.755510             0.781215             0.775618   \n",
       "\n",
       "      kk08_pos_score_lag3  Sentiment_vader  Sentiment_vader_lag1  \\\n",
       "0                0.769373         0.200349              0.154206   \n",
       "1                0.739433         0.165008              0.200349   \n",
       "2                0.768188         0.200392              0.165008   \n",
       "3                0.785896         0.164456              0.200392   \n",
       "4                0.774167         0.186867              0.164456   \n",
       "...                   ...              ...                   ...   \n",
       "1480             0.762439         0.145110              0.140631   \n",
       "1481             0.758002         0.144737              0.145110   \n",
       "1482             0.766771         0.169323              0.144737   \n",
       "1483             0.763569         0.161486              0.169323   \n",
       "1484             0.803204         0.140869              0.161486   \n",
       "\n",
       "      Sentiment_vader_lag2  Sentiment_vader_lag3  Elkulako_label  \\\n",
       "0                 0.175647              0.149739        0.334061   \n",
       "1                 0.154206              0.175647        0.403475   \n",
       "2                 0.200349              0.154206        0.455128   \n",
       "3                 0.165008              0.200349        0.321212   \n",
       "4                 0.200392              0.165008        0.329596   \n",
       "...                    ...                   ...             ...   \n",
       "1480              0.141404              0.130697        0.227818   \n",
       "1481              0.140631              0.141404        0.229487   \n",
       "1482              0.145110              0.140631        0.206623   \n",
       "1483              0.144737              0.145110        0.270270   \n",
       "1484              0.169323              0.144737        0.242021   \n",
       "\n",
       "      Elkulako_label_lag1  Elkulako_label_lag2  Elkulako_label_lag3  \n",
       "0                0.349835             0.412354             0.324930  \n",
       "1                0.334061             0.349835             0.412354  \n",
       "2                0.403475             0.334061             0.349835  \n",
       "3                0.455128             0.403475             0.334061  \n",
       "4                0.321212             0.455128             0.403475  \n",
       "...                   ...                  ...                  ...  \n",
       "1480             0.260274             0.291310             0.280872  \n",
       "1481             0.227818             0.260274             0.291310  \n",
       "1482             0.229487             0.227818             0.260274  \n",
       "1483             0.206623             0.229487             0.227818  \n",
       "1484             0.270270             0.206623             0.229487  \n",
       "\n",
       "[1485 rows x 12 columns]"
      ]
     },
     "execution_count": 129,
     "metadata": {},
     "output_type": "execute_result"
    }
   ],
   "source": [
    "pd.concat([df_x_2, df_x_4, df_x_6], axis =1)"
   ]
  },
  {
   "cell_type": "code",
   "execution_count": 130,
   "metadata": {},
   "outputs": [],
   "source": [
    "df_x_all = pd.concat([df_x_2, df_x_4, df_x_6], axis =1)\n",
    "df_y_all = df[\"Return_sign\"].iloc[3:].reset_index(drop=True)"
   ]
  },
  {
   "cell_type": "code",
   "execution_count": 131,
   "metadata": {},
   "outputs": [
    {
     "data": {
      "text/html": [
       "<div>\n",
       "<style scoped>\n",
       "    .dataframe tbody tr th:only-of-type {\n",
       "        vertical-align: middle;\n",
       "    }\n",
       "\n",
       "    .dataframe tbody tr th {\n",
       "        vertical-align: top;\n",
       "    }\n",
       "\n",
       "    .dataframe thead th {\n",
       "        text-align: right;\n",
       "    }\n",
       "</style>\n",
       "<table border=\"1\" class=\"dataframe\">\n",
       "  <thead>\n",
       "    <tr style=\"text-align: right;\">\n",
       "      <th></th>\n",
       "      <th>kk08_pos_score</th>\n",
       "      <th>kk08_pos_score_lag1</th>\n",
       "      <th>kk08_pos_score_lag2</th>\n",
       "      <th>kk08_pos_score_lag3</th>\n",
       "      <th>Sentiment_vader</th>\n",
       "      <th>Sentiment_vader_lag1</th>\n",
       "      <th>Sentiment_vader_lag2</th>\n",
       "      <th>Sentiment_vader_lag3</th>\n",
       "      <th>Elkulako_label</th>\n",
       "      <th>Elkulako_label_lag1</th>\n",
       "      <th>Elkulako_label_lag2</th>\n",
       "      <th>Elkulako_label_lag3</th>\n",
       "    </tr>\n",
       "  </thead>\n",
       "  <tbody>\n",
       "    <tr>\n",
       "      <th>0</th>\n",
       "      <td>0.785896</td>\n",
       "      <td>0.768188</td>\n",
       "      <td>0.739433</td>\n",
       "      <td>0.769373</td>\n",
       "      <td>0.200349</td>\n",
       "      <td>0.154206</td>\n",
       "      <td>0.175647</td>\n",
       "      <td>0.149739</td>\n",
       "      <td>0.334061</td>\n",
       "      <td>0.349835</td>\n",
       "      <td>0.412354</td>\n",
       "      <td>0.324930</td>\n",
       "    </tr>\n",
       "    <tr>\n",
       "      <th>1</th>\n",
       "      <td>0.774167</td>\n",
       "      <td>0.785896</td>\n",
       "      <td>0.768188</td>\n",
       "      <td>0.739433</td>\n",
       "      <td>0.165008</td>\n",
       "      <td>0.200349</td>\n",
       "      <td>0.154206</td>\n",
       "      <td>0.175647</td>\n",
       "      <td>0.403475</td>\n",
       "      <td>0.334061</td>\n",
       "      <td>0.349835</td>\n",
       "      <td>0.412354</td>\n",
       "    </tr>\n",
       "    <tr>\n",
       "      <th>2</th>\n",
       "      <td>0.771805</td>\n",
       "      <td>0.774167</td>\n",
       "      <td>0.785896</td>\n",
       "      <td>0.768188</td>\n",
       "      <td>0.200392</td>\n",
       "      <td>0.165008</td>\n",
       "      <td>0.200349</td>\n",
       "      <td>0.154206</td>\n",
       "      <td>0.455128</td>\n",
       "      <td>0.403475</td>\n",
       "      <td>0.334061</td>\n",
       "      <td>0.349835</td>\n",
       "    </tr>\n",
       "    <tr>\n",
       "      <th>3</th>\n",
       "      <td>0.758940</td>\n",
       "      <td>0.771805</td>\n",
       "      <td>0.774167</td>\n",
       "      <td>0.785896</td>\n",
       "      <td>0.164456</td>\n",
       "      <td>0.200392</td>\n",
       "      <td>0.165008</td>\n",
       "      <td>0.200349</td>\n",
       "      <td>0.321212</td>\n",
       "      <td>0.455128</td>\n",
       "      <td>0.403475</td>\n",
       "      <td>0.334061</td>\n",
       "    </tr>\n",
       "    <tr>\n",
       "      <th>4</th>\n",
       "      <td>0.762820</td>\n",
       "      <td>0.758940</td>\n",
       "      <td>0.771805</td>\n",
       "      <td>0.774167</td>\n",
       "      <td>0.186867</td>\n",
       "      <td>0.164456</td>\n",
       "      <td>0.200392</td>\n",
       "      <td>0.165008</td>\n",
       "      <td>0.329596</td>\n",
       "      <td>0.321212</td>\n",
       "      <td>0.455128</td>\n",
       "      <td>0.403475</td>\n",
       "    </tr>\n",
       "    <tr>\n",
       "      <th>...</th>\n",
       "      <td>...</td>\n",
       "      <td>...</td>\n",
       "      <td>...</td>\n",
       "      <td>...</td>\n",
       "      <td>...</td>\n",
       "      <td>...</td>\n",
       "      <td>...</td>\n",
       "      <td>...</td>\n",
       "      <td>...</td>\n",
       "      <td>...</td>\n",
       "      <td>...</td>\n",
       "      <td>...</td>\n",
       "    </tr>\n",
       "    <tr>\n",
       "      <th>1480</th>\n",
       "      <td>0.763569</td>\n",
       "      <td>0.766771</td>\n",
       "      <td>0.758002</td>\n",
       "      <td>0.762439</td>\n",
       "      <td>0.145110</td>\n",
       "      <td>0.140631</td>\n",
       "      <td>0.141404</td>\n",
       "      <td>0.130697</td>\n",
       "      <td>0.227818</td>\n",
       "      <td>0.260274</td>\n",
       "      <td>0.291310</td>\n",
       "      <td>0.280872</td>\n",
       "    </tr>\n",
       "    <tr>\n",
       "      <th>1481</th>\n",
       "      <td>0.803204</td>\n",
       "      <td>0.763569</td>\n",
       "      <td>0.766771</td>\n",
       "      <td>0.758002</td>\n",
       "      <td>0.144737</td>\n",
       "      <td>0.145110</td>\n",
       "      <td>0.140631</td>\n",
       "      <td>0.141404</td>\n",
       "      <td>0.229487</td>\n",
       "      <td>0.227818</td>\n",
       "      <td>0.260274</td>\n",
       "      <td>0.291310</td>\n",
       "    </tr>\n",
       "    <tr>\n",
       "      <th>1482</th>\n",
       "      <td>0.775618</td>\n",
       "      <td>0.803204</td>\n",
       "      <td>0.763569</td>\n",
       "      <td>0.766771</td>\n",
       "      <td>0.169323</td>\n",
       "      <td>0.144737</td>\n",
       "      <td>0.145110</td>\n",
       "      <td>0.140631</td>\n",
       "      <td>0.206623</td>\n",
       "      <td>0.229487</td>\n",
       "      <td>0.227818</td>\n",
       "      <td>0.260274</td>\n",
       "    </tr>\n",
       "    <tr>\n",
       "      <th>1483</th>\n",
       "      <td>0.781215</td>\n",
       "      <td>0.775618</td>\n",
       "      <td>0.803204</td>\n",
       "      <td>0.763569</td>\n",
       "      <td>0.161486</td>\n",
       "      <td>0.169323</td>\n",
       "      <td>0.144737</td>\n",
       "      <td>0.145110</td>\n",
       "      <td>0.270270</td>\n",
       "      <td>0.206623</td>\n",
       "      <td>0.229487</td>\n",
       "      <td>0.227818</td>\n",
       "    </tr>\n",
       "    <tr>\n",
       "      <th>1484</th>\n",
       "      <td>0.755510</td>\n",
       "      <td>0.781215</td>\n",
       "      <td>0.775618</td>\n",
       "      <td>0.803204</td>\n",
       "      <td>0.140869</td>\n",
       "      <td>0.161486</td>\n",
       "      <td>0.169323</td>\n",
       "      <td>0.144737</td>\n",
       "      <td>0.242021</td>\n",
       "      <td>0.270270</td>\n",
       "      <td>0.206623</td>\n",
       "      <td>0.229487</td>\n",
       "    </tr>\n",
       "  </tbody>\n",
       "</table>\n",
       "<p>1485 rows × 12 columns</p>\n",
       "</div>"
      ],
      "text/plain": [
       "      kk08_pos_score  kk08_pos_score_lag1  kk08_pos_score_lag2  \\\n",
       "0           0.785896             0.768188             0.739433   \n",
       "1           0.774167             0.785896             0.768188   \n",
       "2           0.771805             0.774167             0.785896   \n",
       "3           0.758940             0.771805             0.774167   \n",
       "4           0.762820             0.758940             0.771805   \n",
       "...              ...                  ...                  ...   \n",
       "1480        0.763569             0.766771             0.758002   \n",
       "1481        0.803204             0.763569             0.766771   \n",
       "1482        0.775618             0.803204             0.763569   \n",
       "1483        0.781215             0.775618             0.803204   \n",
       "1484        0.755510             0.781215             0.775618   \n",
       "\n",
       "      kk08_pos_score_lag3  Sentiment_vader  Sentiment_vader_lag1  \\\n",
       "0                0.769373         0.200349              0.154206   \n",
       "1                0.739433         0.165008              0.200349   \n",
       "2                0.768188         0.200392              0.165008   \n",
       "3                0.785896         0.164456              0.200392   \n",
       "4                0.774167         0.186867              0.164456   \n",
       "...                   ...              ...                   ...   \n",
       "1480             0.762439         0.145110              0.140631   \n",
       "1481             0.758002         0.144737              0.145110   \n",
       "1482             0.766771         0.169323              0.144737   \n",
       "1483             0.763569         0.161486              0.169323   \n",
       "1484             0.803204         0.140869              0.161486   \n",
       "\n",
       "      Sentiment_vader_lag2  Sentiment_vader_lag3  Elkulako_label  \\\n",
       "0                 0.175647              0.149739        0.334061   \n",
       "1                 0.154206              0.175647        0.403475   \n",
       "2                 0.200349              0.154206        0.455128   \n",
       "3                 0.165008              0.200349        0.321212   \n",
       "4                 0.200392              0.165008        0.329596   \n",
       "...                    ...                   ...             ...   \n",
       "1480              0.141404              0.130697        0.227818   \n",
       "1481              0.140631              0.141404        0.229487   \n",
       "1482              0.145110              0.140631        0.206623   \n",
       "1483              0.144737              0.145110        0.270270   \n",
       "1484              0.169323              0.144737        0.242021   \n",
       "\n",
       "      Elkulako_label_lag1  Elkulako_label_lag2  Elkulako_label_lag3  \n",
       "0                0.349835             0.412354             0.324930  \n",
       "1                0.334061             0.349835             0.412354  \n",
       "2                0.403475             0.334061             0.349835  \n",
       "3                0.455128             0.403475             0.334061  \n",
       "4                0.321212             0.455128             0.403475  \n",
       "...                   ...                  ...                  ...  \n",
       "1480             0.260274             0.291310             0.280872  \n",
       "1481             0.227818             0.260274             0.291310  \n",
       "1482             0.229487             0.227818             0.260274  \n",
       "1483             0.206623             0.229487             0.227818  \n",
       "1484             0.270270             0.206623             0.229487  \n",
       "\n",
       "[1485 rows x 12 columns]"
      ]
     },
     "execution_count": 131,
     "metadata": {},
     "output_type": "execute_result"
    }
   ],
   "source": [
    "df_x_all"
   ]
  },
  {
   "cell_type": "code",
   "execution_count": 132,
   "metadata": {},
   "outputs": [
    {
     "data": {
      "text/plain": [
       "0       1\n",
       "1       0\n",
       "2       0\n",
       "3       1\n",
       "4       0\n",
       "       ..\n",
       "1480    1\n",
       "1481    0\n",
       "1482    0\n",
       "1483    1\n",
       "1484    0\n",
       "Name: Return_sign, Length: 1485, dtype: int64"
      ]
     },
     "execution_count": 132,
     "metadata": {},
     "output_type": "execute_result"
    }
   ],
   "source": [
    "df_y_6"
   ]
  },
  {
   "cell_type": "code",
   "execution_count": 133,
   "metadata": {},
   "outputs": [],
   "source": [
    "train_share = 0.85\n",
    "df_x_all_train = df_x_all.iloc[:int(len(df_x_all)*train_share)].reset_index(drop=True)\n",
    "df_y_all_train = df_y_all.iloc[:int(len(df_x_all)*train_share)].reset_index(drop=True)\n",
    "\n",
    "df_x_all_test = df_x_all.iloc[int(len(df_x_all)*train_share):].reset_index(drop=True)\n",
    "df_y_all_test = df_y_all.iloc[int(len(df_x_all)*train_share):].reset_index(drop=True)"
   ]
  },
  {
   "cell_type": "code",
   "execution_count": 134,
   "metadata": {},
   "outputs": [
    {
     "data": {
      "text/plain": [
       "0.5291479820627802"
      ]
     },
     "execution_count": 134,
     "metadata": {},
     "output_type": "execute_result"
    }
   ],
   "source": [
    "sum(df_y_all_test)/len(df_y_all_test)"
   ]
  },
  {
   "cell_type": "code",
   "execution_count": 135,
   "metadata": {},
   "outputs": [
    {
     "name": "stdout",
     "output_type": "stream",
     "text": [
      "Accuracy: 0.4566929133858268\n",
      "ROC-AUC: 0.5\n",
      "F1-score: 0.0\n"
     ]
    }
   ],
   "source": [
    "from sklearn.dummy import DummyClassifier\n",
    "dummy_model = DummyClassifier(strategy='most_frequent')\n",
    "dummy_pred, dummy_acc, dummy_roc_auc,dummy_f1, dummy_feat_imp= cv_and_predict_valid(df_x_all_train,df_y_all_train,dummy_model)\n"
   ]
  },
  {
   "cell_type": "code",
   "execution_count": 136,
   "metadata": {},
   "outputs": [
    {
     "name": "stdout",
     "output_type": "stream",
     "text": [
      "RandomForestClassifier(n_estimators=20, random_state=17)\n",
      "Best parameters from grid search: {'n_estimators': 20}\n",
      "Accuracy: 0.5590551181102362\n",
      "ROC-AUC: 0.5625937031484258\n",
      "F1-score: 0.5625\n"
     ]
    }
   ],
   "source": [
    "from sklearn.ensemble import RandomForestClassifier\n",
    "# Random Forest\n",
    "grid_params = {'n_estimators': [5, 10, 20, 50, 100, 300, 500]}\n",
    "rf_model = RandomForestClassifier(random_state=17)\n",
    "rf_pred, rf_acc, rf_roc_auc,rf_f1, rf_feat_imp = cv_and_predict_valid(df_x_all_train,df_y_all_train, rf_model, tree = True, grid_search=True, grid_parameters=grid_params)"
   ]
  },
  {
   "cell_type": "code",
   "execution_count": 137,
   "metadata": {},
   "outputs": [
    {
     "name": "stdout",
     "output_type": "stream",
     "text": [
      "Accuracy: 0.49327354260089684\n",
      "ROC-AUC: 0.49862792574656983\n",
      "F1-score: 0.45933014354066987\n"
     ]
    }
   ],
   "source": [
    "# testing\n",
    "model = RandomForestClassifier(n_estimators=20,random_state=17)\n",
    "model.fit(df_x_all_train, df_y_all_train)\n",
    "predictions = model.predict(df_x_all_test)\n",
    "accuracy = accuracy_score(df_y_all_test, predictions)\n",
    "roc_auc = roc_auc_score(df_y_all_test, predictions)\n",
    "f1 = f1_score(df_y_all_test, predictions)\n",
    "    \n",
    "print(f\"Accuracy: {accuracy}\")\n",
    "print(f\"ROC-AUC: {roc_auc}\")\n",
    "print(f\"F1-score: {f1}\")\n"
   ]
  },
  {
   "cell_type": "code",
   "execution_count": 138,
   "metadata": {},
   "outputs": [
    {
     "name": "stdout",
     "output_type": "stream",
     "text": [
      "XGBClassifier(base_score=None, booster=None, callbacks=None,\n",
      "              colsample_bylevel=None, colsample_bynode=None,\n",
      "              colsample_bytree=None, device=None, early_stopping_rounds=None,\n",
      "              enable_categorical=False, eval_metric=None, feature_types=None,\n",
      "              gamma=None, grow_policy=None, importance_type=None,\n",
      "              interaction_constraints=None, learning_rate=None, max_bin=None,\n",
      "              max_cat_threshold=None, max_cat_to_onehot=None,\n",
      "              max_delta_step=None, max_depth=3, max_leaves=None,\n",
      "              min_child_weight=None, missing=nan, monotone_constraints=None,\n",
      "              multi_strategy=None, n_estimators=300, n_jobs=None,\n",
      "              num_parallel_tree=None, random_state=17, ...)\n",
      "Best parameters from grid search: {'max_depth': 3, 'n_estimators': 300}\n",
      "Accuracy: 0.5196850393700787\n",
      "ROC-AUC: 0.5153673163418291\n",
      "F1-score: 0.5611510791366906\n"
     ]
    }
   ],
   "source": [
    "from xgboost import XGBClassifier\n",
    "# XGBoost\n",
    "grid_params = {'n_estimators': [100, 300, 500],\"max_depth\": [1,3,6]}\n",
    "xgb_model = XGBClassifier(random_state=17)\n",
    "xgb_pred, xgb_acc, xgb_roc_auc,xgb_f1, xgb_feat_imp = cv_and_predict_valid(df_x_all_train,df_y_all_train, xgb_model, tree = True, grid_search=True, grid_parameters=grid_params)"
   ]
  },
  {
   "cell_type": "code",
   "execution_count": 139,
   "metadata": {},
   "outputs": [
    {
     "name": "stdout",
     "output_type": "stream",
     "text": [
      "Accuracy: 0.48878923766816146\n",
      "ROC-AUC: 0.4865213882163034\n",
      "F1-score: 0.5210084033613446\n"
     ]
    }
   ],
   "source": [
    "# testing\n",
    "model = XGBClassifier(random_state=17, max_depth = 3, n_estimators= 300)\n",
    "model.fit(df_x_all_train, df_y_all_train)\n",
    "predictions = model.predict(df_x_all_test)\n",
    "accuracy = accuracy_score(df_y_all_test, predictions)\n",
    "roc_auc = roc_auc_score(df_y_all_test, predictions)\n",
    "f1 = f1_score(df_y_all_test, predictions)\n",
    "    \n",
    "print(f\"Accuracy: {accuracy}\")\n",
    "print(f\"ROC-AUC: {roc_auc}\")\n",
    "print(f\"F1-score: {f1}\")\n"
   ]
  },
  {
   "cell_type": "code",
   "execution_count": 140,
   "metadata": {},
   "outputs": [
    {
     "name": "stdout",
     "output_type": "stream",
     "text": [
      "SVC(C=0.3, gamma=1, kernel='poly')\n",
      "Best parameters from grid search: {'C': 0.3, 'class_weight': None, 'gamma': 1, 'kernel': 'poly'}\n",
      "Accuracy: 0.4566929133858268\n",
      "ROC-AUC: 0.5\n",
      "F1-score: 0.0\n"
     ]
    }
   ],
   "source": [
    "from sklearn.svm import SVC\n",
    "# SVM\n",
    "grid_params = {'C': [0.1, 0.3, 0.7, 1],  'kernel': ['poly', 'rbf'], 'gamma': [1, 0.1, 0.01], 'class_weight': ['balanced', None]}\n",
    "svm_model = SVC()\n",
    "svm_pred, svm_acc, svm_roc_auc,svm_f1, svm_feat_imp = cv_and_predict_valid(df_x_all_train,df_y_all_train, svm_model, grid_search=True, grid_parameters=grid_params)\n",
    "# too bad"
   ]
  },
  {
   "cell_type": "code",
   "execution_count": 141,
   "metadata": {},
   "outputs": [
    {
     "name": "stdout",
     "output_type": "stream",
     "text": [
      "Accuracy: 0.4663677130044843\n",
      "ROC-AUC: 0.4936642453591606\n",
      "F1-score: 0.048\n"
     ]
    }
   ],
   "source": [
    "# testing\n",
    "model = SVC(C=0.3, kernel=\"poly\", gamma=1)\n",
    "model.fit(df_x_all_train, df_y_all_train)\n",
    "predictions = model.predict(df_x_all_test)\n",
    "accuracy = accuracy_score(df_y_all_test, predictions)\n",
    "roc_auc = roc_auc_score(df_y_all_test, predictions)\n",
    "f1 = f1_score(df_y_all_test, predictions)\n",
    "    \n",
    "print(f\"Accuracy: {accuracy}\")\n",
    "print(f\"ROC-AUC: {roc_auc}\")\n",
    "print(f\"F1-score: {f1}\")"
   ]
  },
  {
   "cell_type": "code",
   "execution_count": 142,
   "metadata": {},
   "outputs": [
    {
     "name": "stderr",
     "output_type": "stream",
     "text": [
      "c:\\Users\\isaen\\AppData\\Local\\Programs\\Python\\Python312\\Lib\\site-packages\\sklearn\\ensemble\\_weight_boosting.py:519: FutureWarning: The SAMME.R algorithm (the default) is deprecated and will be removed in 1.6. Use the SAMME algorithm to circumvent this warning.\n",
      "  warnings.warn(\n"
     ]
    },
    {
     "name": "stdout",
     "output_type": "stream",
     "text": [
      "AdaBoostClassifier(learning_rate=0.1)\n",
      "Best parameters from grid search: {'learning_rate': 0.1, 'n_estimators': 50}\n",
      "Accuracy: 0.4566929133858268\n",
      "ROC-AUC: 0.4848825587206397\n",
      "F1-score: 0.24175824175824176\n"
     ]
    }
   ],
   "source": [
    "from sklearn.ensemble import AdaBoostClassifier\n",
    "grid_params = {'n_estimators': [50, 100, 300, 500], 'learning_rate':[0.1, 0.3, 0.5, 1]}\n",
    "model = AdaBoostClassifier()\n",
    "ada_pred, ada_acc, ada_roc_auc,ada_f1, ada_feat_imp = cv_and_predict_valid(df_x_all_train,df_y_all_train, model, tree = True, grid_search=True, grid_parameters = grid_params)\n",
    "# too bad"
   ]
  },
  {
   "cell_type": "code",
   "execution_count": 143,
   "metadata": {},
   "outputs": [
    {
     "name": "stderr",
     "output_type": "stream",
     "text": [
      "c:\\Users\\isaen\\AppData\\Local\\Programs\\Python\\Python312\\Lib\\site-packages\\sklearn\\ensemble\\_weight_boosting.py:519: FutureWarning: The SAMME.R algorithm (the default) is deprecated and will be removed in 1.6. Use the SAMME algorithm to circumvent this warning.\n",
      "  warnings.warn(\n"
     ]
    },
    {
     "name": "stdout",
     "output_type": "stream",
     "text": [
      "Accuracy: 0.5039370078740157\n",
      "ROC-AUC: 0.5063718140929535\n",
      "F1-score: 0.5116279069767442\n"
     ]
    }
   ],
   "source": [
    "model = AdaBoostClassifier(n_estimators=500)\n",
    "ada_pred, ada_acc, ada_roc_auc,ada_f1, ada_feat_imp = cv_and_predict_valid(df_x_all_train,df_y_all_train, model, tree = True)"
   ]
  },
  {
   "cell_type": "code",
   "execution_count": 144,
   "metadata": {},
   "outputs": [
    {
     "name": "stderr",
     "output_type": "stream",
     "text": [
      "c:\\Users\\isaen\\AppData\\Local\\Programs\\Python\\Python312\\Lib\\site-packages\\sklearn\\ensemble\\_weight_boosting.py:519: FutureWarning: The SAMME.R algorithm (the default) is deprecated and will be removed in 1.6. Use the SAMME algorithm to circumvent this warning.\n",
      "  warnings.warn(\n"
     ]
    },
    {
     "name": "stdout",
     "output_type": "stream",
     "text": [
      "Accuracy: 0.5201793721973094\n",
      "ROC-AUC: 0.5214285714285715\n",
      "F1-score: 0.5244444444444445\n"
     ]
    }
   ],
   "source": [
    "# testing\n",
    "model = AdaBoostClassifier(n_estimators=500)\n",
    "model.fit(df_x_all_train, df_y_all_train)\n",
    "predictions = model.predict(df_x_all_test)\n",
    "accuracy = accuracy_score(df_y_all_test, predictions)\n",
    "roc_auc = roc_auc_score(df_y_all_test, predictions)\n",
    "f1 = f1_score(df_y_all_test, predictions)\n",
    "    \n",
    "print(f\"Accuracy: {accuracy}\")\n",
    "print(f\"ROC-AUC: {roc_auc}\")\n",
    "print(f\"F1-score: {f1}\")\n"
   ]
  },
  {
   "cell_type": "code",
   "execution_count": 145,
   "metadata": {},
   "outputs": [
    {
     "name": "stdout",
     "output_type": "stream",
     "text": [
      "Accuracy: 0.4330708661417323\n",
      "ROC-AUC: 0.4617691154422789\n",
      "F1-score: 0.2\n"
     ]
    }
   ],
   "source": [
    "from sklearn.naive_bayes import GaussianNB\n",
    "model = GaussianNB()\n",
    "nb_pred, nb_acc, nb_roc_auc,nb_f1, nb_feat_imp = cv_and_predict_valid(df_x_all_train,df_y_all_train, model)\n"
   ]
  },
  {
   "cell_type": "code",
   "execution_count": 146,
   "metadata": {},
   "outputs": [
    {
     "name": "stdout",
     "output_type": "stream",
     "text": [
      "Accuracy: 0.4977578475336323\n",
      "ROC-AUC: 0.5180790960451978\n",
      "F1-score: 0.2631578947368421\n"
     ]
    }
   ],
   "source": [
    "# testing\n",
    "model  = GaussianNB()\n",
    "model.fit(df_x_all_train, df_y_all_train)\n",
    "predictions = model.predict(df_x_all_test)\n",
    "accuracy = accuracy_score(df_y_all_test, predictions)\n",
    "roc_auc = roc_auc_score(df_y_all_test, predictions)\n",
    "f1 = f1_score(df_y_all_test, predictions)\n",
    "    \n",
    "print(f\"Accuracy: {accuracy}\")\n",
    "print(f\"ROC-AUC: {roc_auc}\")\n",
    "print(f\"F1-score: {f1}\")\n"
   ]
  },
  {
   "cell_type": "code",
   "execution_count": 147,
   "metadata": {},
   "outputs": [
    {
     "name": "stdout",
     "output_type": "stream",
     "text": [
      "KNeighborsClassifier(n_neighbors=10)\n",
      "Best parameters from grid search: {'n_neighbors': 10}\n",
      "Accuracy: 0.4645669291338583\n",
      "ROC-AUC: 0.4825087456271864\n",
      "F1-score: 0.3584905660377358\n"
     ]
    }
   ],
   "source": [
    "from sklearn.neighbors import KNeighborsClassifier\n",
    "grid_params = {'n_neighbors': [1, 2, 3, 4, 5, 10, 20, 50]}\n",
    "model = KNeighborsClassifier()\n",
    "knn_pred, knn_acc, knn_roc_auc,knn_f1, knn_feat_imp = cv_and_predict_valid(df_x_all_train,df_y_all_train, model, grid_search=True, grid_parameters=grid_params)\n"
   ]
  },
  {
   "cell_type": "code",
   "execution_count": null,
   "metadata": {},
   "outputs": [
    {
     "name": "stdout",
     "output_type": "stream",
     "text": [
      "Accuracy: 0.515695067264574\n",
      "ROC-AUC: 0.5261097659402744\n",
      "F1-score: 0.43157894736842106\n"
     ]
    }
   ],
   "source": [
    "# testing\n",
    "model = KNeighborsClassifier(n_neighbors=10)\n",
    "model.fit(df_x_all_train, df_y_all_train)\n",
    "predictions = model.predict(df_x_all_test)\n",
    "accuracy = accuracy_score(df_y_all_test, predictions)\n",
    "roc_auc = roc_auc_score(df_y_all_test, predictions)\n",
    "f1 = f1_score(df_y_all_test, predictions)\n",
    "    \n",
    "print(f\"Accuracy: {accuracy}\")\n",
    "print(f\"ROC-AUC: {roc_auc}\")\n",
    "print(f\"F1-score: {f1}\")\n"
   ]
  },
  {
   "cell_type": "markdown",
   "metadata": {},
   "source": [
    "# With dummies"
   ]
  },
  {
   "cell_type": "code",
   "execution_count": 149,
   "metadata": {},
   "outputs": [
    {
     "data": {
      "text/plain": [
       "Index(['Date_30m', 'datetime', 'text', 'username', 'kk08_pos_score',\n",
       "       'kk08_score_diff', 'Elkulako_label', 'Sentiment_vader', 'pred',\n",
       "       'analysis', 'short', 'long', 'buy', 'sell', 'bull', 'bear', 'bankrupt',\n",
       "       'fraud', 'cbdc', 'record', 'crisis', 'collapse', 'ATH', 'grow', 'rise',\n",
       "       'fall', 'date', 'open', 'close', 'Return', 'Return_sign',\n",
       "       'kk08_pos_score_lag1', 'kk08_pos_score_lag2', 'kk08_pos_score_lag3',\n",
       "       'Sentiment_vader_lag1', 'Sentiment_vader_lag2', 'Sentiment_vader_lag3',\n",
       "       'Elkulako_label_lag1', 'Elkulako_label_lag2', 'Elkulako_label_lag3'],\n",
       "      dtype='object')"
      ]
     },
     "execution_count": 149,
     "metadata": {},
     "output_type": "execute_result"
    }
   ],
   "source": [
    "df.columns"
   ]
  },
  {
   "cell_type": "code",
   "execution_count": null,
   "metadata": {},
   "outputs": [],
   "source": []
  },
  {
   "cell_type": "code",
   "execution_count": 150,
   "metadata": {},
   "outputs": [],
   "source": [
    "df_x_dum = df[['kk08_pos_score', 'Elkulako_label', 'Sentiment_vader', 'pred',\n",
    "       'analysis', 'short', 'long', 'buy', 'sell', 'bull', 'bear', 'bankrupt',\n",
    "       'fraud', 'cbdc', 'record', 'crisis', 'collapse', 'ATH', 'grow', 'rise',\n",
    "       'fall']]\n",
    "df_y = df[\"Return_sign\"]"
   ]
  },
  {
   "cell_type": "code",
   "execution_count": 151,
   "metadata": {},
   "outputs": [
    {
     "data": {
      "text/html": [
       "<div>\n",
       "<style scoped>\n",
       "    .dataframe tbody tr th:only-of-type {\n",
       "        vertical-align: middle;\n",
       "    }\n",
       "\n",
       "    .dataframe tbody tr th {\n",
       "        vertical-align: top;\n",
       "    }\n",
       "\n",
       "    .dataframe thead th {\n",
       "        text-align: right;\n",
       "    }\n",
       "</style>\n",
       "<table border=\"1\" class=\"dataframe\">\n",
       "  <thead>\n",
       "    <tr style=\"text-align: right;\">\n",
       "      <th></th>\n",
       "      <th>kk08_pos_score</th>\n",
       "      <th>Elkulako_label</th>\n",
       "      <th>Sentiment_vader</th>\n",
       "      <th>pred</th>\n",
       "      <th>analysis</th>\n",
       "      <th>short</th>\n",
       "      <th>long</th>\n",
       "      <th>buy</th>\n",
       "      <th>sell</th>\n",
       "      <th>bull</th>\n",
       "      <th>...</th>\n",
       "      <th>bankrupt</th>\n",
       "      <th>fraud</th>\n",
       "      <th>cbdc</th>\n",
       "      <th>record</th>\n",
       "      <th>crisis</th>\n",
       "      <th>collapse</th>\n",
       "      <th>ATH</th>\n",
       "      <th>grow</th>\n",
       "      <th>rise</th>\n",
       "      <th>fall</th>\n",
       "    </tr>\n",
       "  </thead>\n",
       "  <tbody>\n",
       "    <tr>\n",
       "      <th>0</th>\n",
       "      <td>0.769373</td>\n",
       "      <td>0.324930</td>\n",
       "      <td>0.149739</td>\n",
       "      <td>20</td>\n",
       "      <td>46</td>\n",
       "      <td>45</td>\n",
       "      <td>20</td>\n",
       "      <td>49</td>\n",
       "      <td>26</td>\n",
       "      <td>14</td>\n",
       "      <td>...</td>\n",
       "      <td>0</td>\n",
       "      <td>1</td>\n",
       "      <td>0</td>\n",
       "      <td>1</td>\n",
       "      <td>0</td>\n",
       "      <td>1</td>\n",
       "      <td>17</td>\n",
       "      <td>7</td>\n",
       "      <td>13</td>\n",
       "      <td>42</td>\n",
       "    </tr>\n",
       "    <tr>\n",
       "      <th>1</th>\n",
       "      <td>0.739433</td>\n",
       "      <td>0.412354</td>\n",
       "      <td>0.175647</td>\n",
       "      <td>14</td>\n",
       "      <td>26</td>\n",
       "      <td>26</td>\n",
       "      <td>11</td>\n",
       "      <td>38</td>\n",
       "      <td>11</td>\n",
       "      <td>9</td>\n",
       "      <td>...</td>\n",
       "      <td>0</td>\n",
       "      <td>0</td>\n",
       "      <td>1</td>\n",
       "      <td>3</td>\n",
       "      <td>0</td>\n",
       "      <td>1</td>\n",
       "      <td>11</td>\n",
       "      <td>3</td>\n",
       "      <td>7</td>\n",
       "      <td>23</td>\n",
       "    </tr>\n",
       "    <tr>\n",
       "      <th>2</th>\n",
       "      <td>0.768188</td>\n",
       "      <td>0.349835</td>\n",
       "      <td>0.154206</td>\n",
       "      <td>15</td>\n",
       "      <td>17</td>\n",
       "      <td>21</td>\n",
       "      <td>11</td>\n",
       "      <td>47</td>\n",
       "      <td>20</td>\n",
       "      <td>18</td>\n",
       "      <td>...</td>\n",
       "      <td>0</td>\n",
       "      <td>0</td>\n",
       "      <td>1</td>\n",
       "      <td>2</td>\n",
       "      <td>0</td>\n",
       "      <td>0</td>\n",
       "      <td>8</td>\n",
       "      <td>10</td>\n",
       "      <td>7</td>\n",
       "      <td>19</td>\n",
       "    </tr>\n",
       "    <tr>\n",
       "      <th>3</th>\n",
       "      <td>0.785896</td>\n",
       "      <td>0.334061</td>\n",
       "      <td>0.200349</td>\n",
       "      <td>15</td>\n",
       "      <td>12</td>\n",
       "      <td>11</td>\n",
       "      <td>8</td>\n",
       "      <td>26</td>\n",
       "      <td>10</td>\n",
       "      <td>4</td>\n",
       "      <td>...</td>\n",
       "      <td>0</td>\n",
       "      <td>0</td>\n",
       "      <td>0</td>\n",
       "      <td>8</td>\n",
       "      <td>0</td>\n",
       "      <td>0</td>\n",
       "      <td>6</td>\n",
       "      <td>3</td>\n",
       "      <td>6</td>\n",
       "      <td>11</td>\n",
       "    </tr>\n",
       "    <tr>\n",
       "      <th>4</th>\n",
       "      <td>0.774167</td>\n",
       "      <td>0.403475</td>\n",
       "      <td>0.165008</td>\n",
       "      <td>13</td>\n",
       "      <td>13</td>\n",
       "      <td>14</td>\n",
       "      <td>7</td>\n",
       "      <td>37</td>\n",
       "      <td>19</td>\n",
       "      <td>7</td>\n",
       "      <td>...</td>\n",
       "      <td>0</td>\n",
       "      <td>2</td>\n",
       "      <td>0</td>\n",
       "      <td>2</td>\n",
       "      <td>0</td>\n",
       "      <td>0</td>\n",
       "      <td>10</td>\n",
       "      <td>5</td>\n",
       "      <td>6</td>\n",
       "      <td>16</td>\n",
       "    </tr>\n",
       "    <tr>\n",
       "      <th>...</th>\n",
       "      <td>...</td>\n",
       "      <td>...</td>\n",
       "      <td>...</td>\n",
       "      <td>...</td>\n",
       "      <td>...</td>\n",
       "      <td>...</td>\n",
       "      <td>...</td>\n",
       "      <td>...</td>\n",
       "      <td>...</td>\n",
       "      <td>...</td>\n",
       "      <td>...</td>\n",
       "      <td>...</td>\n",
       "      <td>...</td>\n",
       "      <td>...</td>\n",
       "      <td>...</td>\n",
       "      <td>...</td>\n",
       "      <td>...</td>\n",
       "      <td>...</td>\n",
       "      <td>...</td>\n",
       "      <td>...</td>\n",
       "      <td>...</td>\n",
       "    </tr>\n",
       "    <tr>\n",
       "      <th>1483</th>\n",
       "      <td>0.763569</td>\n",
       "      <td>0.227818</td>\n",
       "      <td>0.145110</td>\n",
       "      <td>9</td>\n",
       "      <td>10</td>\n",
       "      <td>5</td>\n",
       "      <td>22</td>\n",
       "      <td>43</td>\n",
       "      <td>21</td>\n",
       "      <td>15</td>\n",
       "      <td>...</td>\n",
       "      <td>0</td>\n",
       "      <td>3</td>\n",
       "      <td>1</td>\n",
       "      <td>4</td>\n",
       "      <td>0</td>\n",
       "      <td>2</td>\n",
       "      <td>27</td>\n",
       "      <td>10</td>\n",
       "      <td>15</td>\n",
       "      <td>7</td>\n",
       "    </tr>\n",
       "    <tr>\n",
       "      <th>1484</th>\n",
       "      <td>0.803204</td>\n",
       "      <td>0.229487</td>\n",
       "      <td>0.144737</td>\n",
       "      <td>11</td>\n",
       "      <td>12</td>\n",
       "      <td>10</td>\n",
       "      <td>24</td>\n",
       "      <td>53</td>\n",
       "      <td>16</td>\n",
       "      <td>14</td>\n",
       "      <td>...</td>\n",
       "      <td>0</td>\n",
       "      <td>0</td>\n",
       "      <td>0</td>\n",
       "      <td>2</td>\n",
       "      <td>0</td>\n",
       "      <td>0</td>\n",
       "      <td>20</td>\n",
       "      <td>6</td>\n",
       "      <td>11</td>\n",
       "      <td>4</td>\n",
       "    </tr>\n",
       "    <tr>\n",
       "      <th>1485</th>\n",
       "      <td>0.775618</td>\n",
       "      <td>0.206623</td>\n",
       "      <td>0.169323</td>\n",
       "      <td>3</td>\n",
       "      <td>11</td>\n",
       "      <td>12</td>\n",
       "      <td>16</td>\n",
       "      <td>39</td>\n",
       "      <td>18</td>\n",
       "      <td>17</td>\n",
       "      <td>...</td>\n",
       "      <td>0</td>\n",
       "      <td>1</td>\n",
       "      <td>3</td>\n",
       "      <td>2</td>\n",
       "      <td>1</td>\n",
       "      <td>1</td>\n",
       "      <td>17</td>\n",
       "      <td>4</td>\n",
       "      <td>5</td>\n",
       "      <td>12</td>\n",
       "    </tr>\n",
       "    <tr>\n",
       "      <th>1486</th>\n",
       "      <td>0.781215</td>\n",
       "      <td>0.270270</td>\n",
       "      <td>0.161486</td>\n",
       "      <td>9</td>\n",
       "      <td>10</td>\n",
       "      <td>11</td>\n",
       "      <td>21</td>\n",
       "      <td>46</td>\n",
       "      <td>14</td>\n",
       "      <td>21</td>\n",
       "      <td>...</td>\n",
       "      <td>0</td>\n",
       "      <td>1</td>\n",
       "      <td>0</td>\n",
       "      <td>1</td>\n",
       "      <td>0</td>\n",
       "      <td>0</td>\n",
       "      <td>11</td>\n",
       "      <td>10</td>\n",
       "      <td>10</td>\n",
       "      <td>6</td>\n",
       "    </tr>\n",
       "    <tr>\n",
       "      <th>1487</th>\n",
       "      <td>0.755510</td>\n",
       "      <td>0.242021</td>\n",
       "      <td>0.140869</td>\n",
       "      <td>7</td>\n",
       "      <td>9</td>\n",
       "      <td>13</td>\n",
       "      <td>19</td>\n",
       "      <td>45</td>\n",
       "      <td>24</td>\n",
       "      <td>18</td>\n",
       "      <td>...</td>\n",
       "      <td>0</td>\n",
       "      <td>2</td>\n",
       "      <td>0</td>\n",
       "      <td>2</td>\n",
       "      <td>26</td>\n",
       "      <td>1</td>\n",
       "      <td>15</td>\n",
       "      <td>3</td>\n",
       "      <td>11</td>\n",
       "      <td>18</td>\n",
       "    </tr>\n",
       "  </tbody>\n",
       "</table>\n",
       "<p>1488 rows × 21 columns</p>\n",
       "</div>"
      ],
      "text/plain": [
       "      kk08_pos_score  Elkulako_label  Sentiment_vader  pred  analysis  short  \\\n",
       "0           0.769373        0.324930         0.149739    20        46     45   \n",
       "1           0.739433        0.412354         0.175647    14        26     26   \n",
       "2           0.768188        0.349835         0.154206    15        17     21   \n",
       "3           0.785896        0.334061         0.200349    15        12     11   \n",
       "4           0.774167        0.403475         0.165008    13        13     14   \n",
       "...              ...             ...              ...   ...       ...    ...   \n",
       "1483        0.763569        0.227818         0.145110     9        10      5   \n",
       "1484        0.803204        0.229487         0.144737    11        12     10   \n",
       "1485        0.775618        0.206623         0.169323     3        11     12   \n",
       "1486        0.781215        0.270270         0.161486     9        10     11   \n",
       "1487        0.755510        0.242021         0.140869     7         9     13   \n",
       "\n",
       "      long  buy  sell  bull  ...  bankrupt  fraud  cbdc  record  crisis  \\\n",
       "0       20   49    26    14  ...         0      1     0       1       0   \n",
       "1       11   38    11     9  ...         0      0     1       3       0   \n",
       "2       11   47    20    18  ...         0      0     1       2       0   \n",
       "3        8   26    10     4  ...         0      0     0       8       0   \n",
       "4        7   37    19     7  ...         0      2     0       2       0   \n",
       "...    ...  ...   ...   ...  ...       ...    ...   ...     ...     ...   \n",
       "1483    22   43    21    15  ...         0      3     1       4       0   \n",
       "1484    24   53    16    14  ...         0      0     0       2       0   \n",
       "1485    16   39    18    17  ...         0      1     3       2       1   \n",
       "1486    21   46    14    21  ...         0      1     0       1       0   \n",
       "1487    19   45    24    18  ...         0      2     0       2      26   \n",
       "\n",
       "      collapse  ATH  grow  rise  fall  \n",
       "0            1   17     7    13    42  \n",
       "1            1   11     3     7    23  \n",
       "2            0    8    10     7    19  \n",
       "3            0    6     3     6    11  \n",
       "4            0   10     5     6    16  \n",
       "...        ...  ...   ...   ...   ...  \n",
       "1483         2   27    10    15     7  \n",
       "1484         0   20     6    11     4  \n",
       "1485         1   17     4     5    12  \n",
       "1486         0   11    10    10     6  \n",
       "1487         1   15     3    11    18  \n",
       "\n",
       "[1488 rows x 21 columns]"
      ]
     },
     "execution_count": 151,
     "metadata": {},
     "output_type": "execute_result"
    }
   ],
   "source": [
    "df_x_dum"
   ]
  },
  {
   "cell_type": "code",
   "execution_count": 152,
   "metadata": {},
   "outputs": [],
   "source": [
    "train_share = 0.85\n",
    "df_x_dum_train = df_x_dum.iloc[:int(len(df_x_dum)*train_share)].reset_index(drop=True)\n",
    "df_y_train = df_y.iloc[:int(len(df_y)*train_share)].reset_index(drop=True)\n",
    "\n",
    "df_x_dum_test = df_x_dum.iloc[int(len(df_x_dum)*train_share):].reset_index(drop=True)\n",
    "df_y_test = df_y.iloc[int(len(df_y)*train_share):].reset_index(drop=True)"
   ]
  },
  {
   "cell_type": "code",
   "execution_count": 153,
   "metadata": {},
   "outputs": [
    {
     "name": "stdout",
     "output_type": "stream",
     "text": [
      "Accuracy: 0.4566929133858268\n",
      "ROC-AUC: 0.5\n",
      "F1-score: 0.0\n"
     ]
    }
   ],
   "source": [
    "from sklearn.dummy import DummyClassifier\n",
    "dummy_model = DummyClassifier(strategy='most_frequent')\n",
    "dummy_pred, dummy_acc, dummy_roc_auc,dummy_f1, dummy_feat_imp= cv_and_predict_valid(df_x_dum_train,df_y_train,dummy_model)\n"
   ]
  },
  {
   "cell_type": "code",
   "execution_count": 154,
   "metadata": {},
   "outputs": [
    {
     "name": "stdout",
     "output_type": "stream",
     "text": [
      "Accuracy: 0.46875\n",
      "ROC-AUC: 0.5\n",
      "F1-score: 0.0\n"
     ]
    }
   ],
   "source": [
    "# testing\n",
    "model = DummyClassifier(strategy='most_frequent')\n",
    "\n",
    "model.fit(df_x_dum_train, df_y_train)\n",
    "predictions = model.predict(df_x_dum_test)\n",
    "accuracy = accuracy_score(df_y_test, predictions)\n",
    "roc_auc = roc_auc_score(df_y_test, predictions)\n",
    "f1 = f1_score(df_y_test, predictions)\n",
    "    \n",
    "print(f\"Accuracy: {accuracy}\")\n",
    "print(f\"ROC-AUC: {roc_auc}\")\n",
    "print(f\"F1-score: {f1}\")"
   ]
  },
  {
   "cell_type": "code",
   "execution_count": 155,
   "metadata": {},
   "outputs": [
    {
     "name": "stdout",
     "output_type": "stream",
     "text": [
      "RandomForestClassifier(random_state=17)\n",
      "Best parameters from grid search: {'n_estimators': 100}\n",
      "Accuracy: 0.5039370078740157\n",
      "ROC-AUC: 0.5022488755622189\n",
      "F1-score: 0.5333333333333333\n"
     ]
    }
   ],
   "source": [
    "from sklearn.ensemble import RandomForestClassifier\n",
    "# Random Forest\n",
    "grid_params = {'n_estimators': [50,100, 300 ,500, 700]}\n",
    "rf_model = RandomForestClassifier(random_state=17)\n",
    "rf_pred, rf_acc, rf_roc_auc,rf_f1, rf_feat_imp = cv_and_predict_valid(df_x_dum_train,df_y_train, rf_model, tree = True, grid_search=True, grid_parameters=grid_params)"
   ]
  },
  {
   "cell_type": "code",
   "execution_count": 156,
   "metadata": {},
   "outputs": [
    {
     "name": "stdout",
     "output_type": "stream",
     "text": [
      "Accuracy: 0.5044642857142857\n",
      "ROC-AUC: 0.5106442577030812\n",
      "F1-score: 0.4688995215311005\n"
     ]
    }
   ],
   "source": [
    "# testing\n",
    "model = RandomForestClassifier(random_state=17)\n",
    "model.fit(df_x_dum_train, df_y_train)\n",
    "predictions = model.predict(df_x_dum_test)\n",
    "accuracy = accuracy_score(df_y_test, predictions)\n",
    "roc_auc = roc_auc_score(df_y_test, predictions)\n",
    "f1 = f1_score(df_y_test, predictions)\n",
    "    \n",
    "print(f\"Accuracy: {accuracy}\")\n",
    "print(f\"ROC-AUC: {roc_auc}\")\n",
    "print(f\"F1-score: {f1}\")\n"
   ]
  },
  {
   "cell_type": "code",
   "execution_count": 157,
   "metadata": {},
   "outputs": [
    {
     "name": "stdout",
     "output_type": "stream",
     "text": [
      "XGBClassifier(base_score=None, booster=None, callbacks=None,\n",
      "              colsample_bylevel=None, colsample_bynode=None,\n",
      "              colsample_bytree=None, device=None, early_stopping_rounds=None,\n",
      "              enable_categorical=False, eval_metric=None, feature_types=None,\n",
      "              gamma=None, grow_policy=None, importance_type=None,\n",
      "              interaction_constraints=None, learning_rate=None, max_bin=None,\n",
      "              max_cat_threshold=None, max_cat_to_onehot=None,\n",
      "              max_delta_step=None, max_depth=6, max_leaves=None,\n",
      "              min_child_weight=None, missing=nan, monotone_constraints=None,\n",
      "              multi_strategy=None, n_estimators=50, n_jobs=None,\n",
      "              num_parallel_tree=None, random_state=17, ...)\n",
      "Best parameters from grid search: {'max_depth': 6, 'n_estimators': 50}\n",
      "Accuracy: 0.49606299212598426\n",
      "ROC-AUC: 0.4936281859070465\n",
      "F1-score: 0.5294117647058824\n"
     ]
    }
   ],
   "source": [
    "from xgboost import XGBClassifier\n",
    "# XGBoost\n",
    "grid_params = {'n_estimators': [50, 100, 300, 500, 1000],\"max_depth\": [1,2,3,6]}\n",
    "xgb_model = XGBClassifier(random_state=17)\n",
    "xgb_pred, xgb_acc, xgb_roc_auc,xgb_f1, xgb_feat_imp = cv_and_predict_valid(df_x_dum_train,df_y_train, xgb_model, tree = True, grid_search=True, grid_parameters=grid_params)\n"
   ]
  },
  {
   "cell_type": "code",
   "execution_count": 158,
   "metadata": {},
   "outputs": [
    {
     "name": "stdout",
     "output_type": "stream",
     "text": [
      "Accuracy: 0.4732142857142857\n",
      "ROC-AUC: 0.4761904761904762\n",
      "F1-score: 0.4636363636363636\n"
     ]
    }
   ],
   "source": [
    "# testing\n",
    "model = XGBClassifier(random_state=17, max_depth = 6, n_estimators = 50)\n",
    "model.fit(df_x_dum_train, df_y_train)\n",
    "predictions = model.predict(df_x_dum_test)\n",
    "accuracy = accuracy_score(df_y_test, predictions)\n",
    "roc_auc = roc_auc_score(df_y_test, predictions)\n",
    "f1 = f1_score(df_y_test, predictions)\n",
    "    \n",
    "print(f\"Accuracy: {accuracy}\")\n",
    "print(f\"ROC-AUC: {roc_auc}\")\n",
    "print(f\"F1-score: {f1}\")\n",
    "# good"
   ]
  },
  {
   "cell_type": "code",
   "execution_count": 159,
   "metadata": {},
   "outputs": [
    {
     "name": "stdout",
     "output_type": "stream",
     "text": [
      "Accuracy: 0.4566929133858268\n",
      "ROC-AUC: 0.5\n",
      "F1-score: 0.0\n"
     ]
    }
   ],
   "source": [
    "from sklearn.svm import SVC\n",
    "# SVM\n",
    "svm_model = SVC(kernel=\"poly\", C = 0.5)\n",
    "svm_pred, svm_acc, svm_roc_auc,svm_f1, svm_feat_imp = cv_and_predict_valid(df_x_dum_train,df_y_train, svm_model)"
   ]
  },
  {
   "cell_type": "code",
   "execution_count": null,
   "metadata": {},
   "outputs": [
    {
     "name": "stdout",
     "output_type": "stream",
     "text": [
      "Accuracy: 0.46875\n",
      "ROC-AUC: 0.5\n",
      "F1-score: 0.0\n"
     ]
    }
   ],
   "source": [
    "# testing\n",
    "model = SVC(kernel=\"poly\", C = 0.5)\n",
    "model.fit(df_x_dum_train, df_y_train)\n",
    "predictions = model.predict(df_x_dum_test)\n",
    "accuracy = accuracy_score(df_y_test, predictions)\n",
    "roc_auc = roc_auc_score(df_y_test, predictions)\n",
    "f1 = f1_score(df_y_test, predictions)\n",
    "    \n",
    "print(f\"Accuracy: {accuracy}\")\n",
    "print(f\"ROC-AUC: {roc_auc}\")\n",
    "print(f\"F1-score: {f1}\")"
   ]
  },
  {
   "cell_type": "code",
   "execution_count": 161,
   "metadata": {},
   "outputs": [
    {
     "name": "stderr",
     "output_type": "stream",
     "text": [
      "c:\\Users\\isaen\\AppData\\Local\\Programs\\Python\\Python312\\Lib\\site-packages\\sklearn\\ensemble\\_weight_boosting.py:519: FutureWarning: The SAMME.R algorithm (the default) is deprecated and will be removed in 1.6. Use the SAMME algorithm to circumvent this warning.\n",
      "  warnings.warn(\n"
     ]
    },
    {
     "name": "stdout",
     "output_type": "stream",
     "text": [
      "AdaBoostClassifier(learning_rate=0.5, n_estimators=500)\n",
      "Best parameters from grid search: {'learning_rate': 0.5, 'n_estimators': 500}\n",
      "Accuracy: 0.5196850393700787\n",
      "ROC-AUC: 0.5236131934032984\n",
      "F1-score: 0.5196850393700787\n"
     ]
    }
   ],
   "source": [
    "from sklearn.ensemble import AdaBoostClassifier\n",
    "grid_params = {'n_estimators': [5, 10, 20, 30, 50, 100, 300, 500], 'learning_rate':[0.1, 0.3, 0.5, 1]}\n",
    "ada_model = AdaBoostClassifier()\n",
    "ada_pred, ada_acc, ada_roc_auc,ada_f1, ada_feat_imp = cv_and_predict_valid(df_x_dum_train,df_y_train, ada_model, tree = True, grid_search=True, grid_parameters = grid_params)\n"
   ]
  },
  {
   "cell_type": "code",
   "execution_count": 162,
   "metadata": {},
   "outputs": [
    {
     "name": "stderr",
     "output_type": "stream",
     "text": [
      "c:\\Users\\isaen\\AppData\\Local\\Programs\\Python\\Python312\\Lib\\site-packages\\sklearn\\ensemble\\_weight_boosting.py:519: FutureWarning: The SAMME.R algorithm (the default) is deprecated and will be removed in 1.6. Use the SAMME algorithm to circumvent this warning.\n",
      "  warnings.warn(\n"
     ]
    },
    {
     "name": "stdout",
     "output_type": "stream",
     "text": [
      "Accuracy: 0.46875\n",
      "ROC-AUC: 0.47086834733893557\n",
      "F1-score: 0.4663677130044843\n"
     ]
    }
   ],
   "source": [
    "# testing\n",
    "model = AdaBoostClassifier(learning_rate=0.5, n_estimators=500)\n",
    "model.fit(df_x_dum_train, df_y_train)\n",
    "predictions = model.predict(df_x_dum_test)\n",
    "accuracy = accuracy_score(df_y_test, predictions)\n",
    "roc_auc = roc_auc_score(df_y_test, predictions)\n",
    "f1 = f1_score(df_y_test, predictions)\n",
    "    \n",
    "print(f\"Accuracy: {accuracy}\")\n",
    "print(f\"ROC-AUC: {roc_auc}\")\n",
    "print(f\"F1-score: {f1}\")"
   ]
  },
  {
   "cell_type": "code",
   "execution_count": null,
   "metadata": {},
   "outputs": [],
   "source": []
  },
  {
   "cell_type": "code",
   "execution_count": 163,
   "metadata": {},
   "outputs": [
    {
     "name": "stdout",
     "output_type": "stream",
     "text": [
      "Accuracy: 0.5433070866141733\n",
      "ROC-AUC: 0.5\n",
      "F1-score: 0.7040816326530612\n"
     ]
    }
   ],
   "source": [
    "from sklearn.naive_bayes import GaussianNB\n",
    "nb_model = GaussianNB()\n",
    "nb_pred, nb_acc, nb_roc_auc,nb_f1, nb_feat_imp = cv_and_predict_valid(df_x_dum_train,df_y_train, nb_model)\n"
   ]
  },
  {
   "cell_type": "code",
   "execution_count": 164,
   "metadata": {},
   "outputs": [
    {
     "name": "stdout",
     "output_type": "stream",
     "text": [
      "Accuracy: 0.5357142857142857\n",
      "ROC-AUC: 0.5064425770308123\n",
      "F1-score: 0.6904761904761905\n"
     ]
    }
   ],
   "source": [
    "# testing\n",
    "model = GaussianNB()\n",
    "model.fit(df_x_dum_train, df_y_train)\n",
    "predictions = model.predict(df_x_dum_test)\n",
    "accuracy = accuracy_score(df_y_test, predictions)\n",
    "roc_auc = roc_auc_score(df_y_test, predictions)\n",
    "f1 = f1_score(df_y_test, predictions)\n",
    "    \n",
    "print(f\"Accuracy: {accuracy}\")\n",
    "print(f\"ROC-AUC: {roc_auc}\")\n",
    "print(f\"F1-score: {f1}\")\n",
    "# good"
   ]
  },
  {
   "cell_type": "code",
   "execution_count": 165,
   "metadata": {},
   "outputs": [
    {
     "name": "stdout",
     "output_type": "stream",
     "text": [
      "Accuracy: 0.47244094488188976\n",
      "ROC-AUC: 0.4746376811594203\n",
      "F1-score: 0.4806201550387597\n"
     ]
    }
   ],
   "source": [
    "from sklearn.linear_model import LogisticRegression\n",
    "lr_model = LogisticRegression(max_iter=10000)\n",
    "lr_pred, lr_acc, lr_roc_auc,lr_f1, lr_feat_imp = cv_and_predict_valid(df_x_dum_train,df_y_train, lr_model)\n"
   ]
  },
  {
   "cell_type": "code",
   "execution_count": 166,
   "metadata": {},
   "outputs": [
    {
     "name": "stdout",
     "output_type": "stream",
     "text": [
      "Accuracy: 0.5223214285714286\n",
      "ROC-AUC: 0.5392156862745098\n",
      "F1-score: 0.3742690058479532\n"
     ]
    }
   ],
   "source": [
    "# testing\n",
    "model = LogisticRegression(max_iter=10000)\n",
    "\n",
    "model.fit(df_x_dum_train, df_y_train)\n",
    "predictions = model.predict(df_x_dum_test)\n",
    "accuracy = accuracy_score(df_y_test, predictions)\n",
    "roc_auc = roc_auc_score(df_y_test, predictions)\n",
    "f1 = f1_score(df_y_test, predictions)\n",
    "    \n",
    "print(f\"Accuracy: {accuracy}\")\n",
    "print(f\"ROC-AUC: {roc_auc}\")\n",
    "print(f\"F1-score: {f1}\")"
   ]
  },
  {
   "cell_type": "code",
   "execution_count": 167,
   "metadata": {},
   "outputs": [
    {
     "name": "stdout",
     "output_type": "stream",
     "text": [
      "KNeighborsClassifier(n_neighbors=10)\n",
      "Best parameters from grid search: {'n_neighbors': 10}\n",
      "Accuracy: 0.5275590551181102\n",
      "ROC-AUC: 0.5363568215892054\n",
      "F1-score: 0.5\n"
     ]
    }
   ],
   "source": [
    "from sklearn.neighbors import KNeighborsClassifier\n",
    "grid_params = {'n_neighbors': [1, 2, 3, 4, 5, 10, 20, 50]}\n",
    "knn_model = KNeighborsClassifier()\n",
    "knn_pred, knn_acc, knn_roc_auc,knn_f1, knn_feat_imp = cv_and_predict_valid(df_x_dum_train,df_y_train, knn_model, grid_search=True, grid_parameters=grid_params)\n"
   ]
  },
  {
   "cell_type": "code",
   "execution_count": 168,
   "metadata": {},
   "outputs": [
    {
     "name": "stdout",
     "output_type": "stream",
     "text": [
      "Accuracy: 0.49107142857142855\n",
      "ROC-AUC: 0.5008403361344539\n",
      "F1-score: 0.41836734693877553\n"
     ]
    }
   ],
   "source": [
    "# testing\n",
    "model = KNeighborsClassifier(n_neighbors=10)\n",
    "model.fit(df_x_dum_train, df_y_train)\n",
    "predictions = model.predict(df_x_dum_test)\n",
    "accuracy = accuracy_score(df_y_test, predictions)\n",
    "roc_auc = roc_auc_score(df_y_test, predictions)\n",
    "f1 = f1_score(df_y_test, predictions)\n",
    "    \n",
    "print(f\"Accuracy: {accuracy}\")\n",
    "print(f\"ROC-AUC: {roc_auc}\")\n",
    "print(f\"F1-score: {f1}\")\n",
    "# good"
   ]
  },
  {
   "cell_type": "code",
   "execution_count": null,
   "metadata": {},
   "outputs": [],
   "source": []
  },
  {
   "cell_type": "code",
   "execution_count": null,
   "metadata": {},
   "outputs": [],
   "source": []
  },
  {
   "cell_type": "code",
   "execution_count": null,
   "metadata": {},
   "outputs": [],
   "source": []
  },
  {
   "cell_type": "code",
   "execution_count": null,
   "metadata": {},
   "outputs": [],
   "source": []
  },
  {
   "cell_type": "code",
   "execution_count": null,
   "metadata": {},
   "outputs": [],
   "source": []
  }
 ],
 "metadata": {
  "kernelspec": {
   "display_name": "Python 3",
   "language": "python",
   "name": "python3"
  },
  "language_info": {
   "codemirror_mode": {
    "name": "ipython",
    "version": 3
   },
   "file_extension": ".py",
   "mimetype": "text/x-python",
   "name": "python",
   "nbconvert_exporter": "python",
   "pygments_lexer": "ipython3",
   "version": "3.12.1"
  }
 },
 "nbformat": 4,
 "nbformat_minor": 2
}
