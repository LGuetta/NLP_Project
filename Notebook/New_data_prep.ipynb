{
 "cells": [
  {
   "cell_type": "code",
   "execution_count": 14,
   "metadata": {},
   "outputs": [
    {
     "name": "stderr",
     "output_type": "stream",
     "text": [
      "C:\\Users\\isaen\\AppData\\Local\\Temp\\ipykernel_5276\\1133140545.py:2: DtypeWarning: Columns (0,1,2,3) have mixed types. Specify dtype option on import or set low_memory=False.\n",
      "  df = pd.read_csv(\"bitcoin-tweets-2022.csv\")\n"
     ]
    }
   ],
   "source": [
    "import pandas as pd\n",
    "df = pd.read_csv(\"bitcoin-tweets-2022.csv\")"
   ]
  },
  {
   "cell_type": "code",
   "execution_count": 15,
   "metadata": {},
   "outputs": [
    {
     "data": {
      "text/plain": [
       "(9257421, 4)"
      ]
     },
     "execution_count": 15,
     "metadata": {},
     "output_type": "execute_result"
    }
   ],
   "source": [
    "df.shape"
   ]
  },
  {
   "cell_type": "code",
   "execution_count": 16,
   "metadata": {},
   "outputs": [
    {
     "data": {
      "text/html": [
       "<div>\n",
       "<style scoped>\n",
       "    .dataframe tbody tr th:only-of-type {\n",
       "        vertical-align: middle;\n",
       "    }\n",
       "\n",
       "    .dataframe tbody tr th {\n",
       "        vertical-align: top;\n",
       "    }\n",
       "\n",
       "    .dataframe thead th {\n",
       "        text-align: right;\n",
       "    }\n",
       "</style>\n",
       "<table border=\"1\" class=\"dataframe\">\n",
       "  <thead>\n",
       "    <tr style=\"text-align: right;\">\n",
       "      <th></th>\n",
       "      <th>datetime</th>\n",
       "      <th>date</th>\n",
       "      <th>username</th>\n",
       "      <th>text</th>\n",
       "    </tr>\n",
       "  </thead>\n",
       "  <tbody>\n",
       "    <tr>\n",
       "      <th>0</th>\n",
       "      <td>2022-01-01 23:59:56+00:00</td>\n",
       "      <td>2022-01-01</td>\n",
       "      <td>priconoticias</td>\n",
       "      <td>0.4MOT TOKENS IN #LATOKEN  airdrop and maybe m...</td>\n",
       "    </tr>\n",
       "    <tr>\n",
       "      <th>1</th>\n",
       "      <td>2022-01-01 23:59:53+00:00</td>\n",
       "      <td>2022-01-01</td>\n",
       "      <td>mmonlineonline</td>\n",
       "      <td>MARA for Bitcoin Exposure: Top Trade Q1 2022 h...</td>\n",
       "    </tr>\n",
       "    <tr>\n",
       "      <th>2</th>\n",
       "      <td>2022-01-01 23:59:43+00:00</td>\n",
       "      <td>2022-01-01</td>\n",
       "      <td>CoachKevinRose</td>\n",
       "      <td>Every Time the Bell Rings The Titano makes MON...</td>\n",
       "    </tr>\n",
       "    <tr>\n",
       "      <th>3</th>\n",
       "      <td>2022-01-01 23:59:35+00:00</td>\n",
       "      <td>2022-01-01</td>\n",
       "      <td>robert54177167</td>\n",
       "      <td>If your interested in losing money in 2022 kee...</td>\n",
       "    </tr>\n",
       "    <tr>\n",
       "      <th>4</th>\n",
       "      <td>2022-01-01 23:59:34+00:00</td>\n",
       "      <td>2022-01-01</td>\n",
       "      <td>WorldCoinIndex</td>\n",
       "      <td>Bitcoin price index https://t.co/o7UcHJUhC6 #U...</td>\n",
       "    </tr>\n",
       "    <tr>\n",
       "      <th>...</th>\n",
       "      <td>...</td>\n",
       "      <td>...</td>\n",
       "      <td>...</td>\n",
       "      <td>...</td>\n",
       "    </tr>\n",
       "    <tr>\n",
       "      <th>9257416</th>\n",
       "      <td>2022-06-30 00:00:00+00:00</td>\n",
       "      <td>2022-06-30</td>\n",
       "      <td>Hayse89477360</td>\n",
       "      <td>@BTC_Archive not really. bitcoin can run witho...</td>\n",
       "    </tr>\n",
       "    <tr>\n",
       "      <th>9257417</th>\n",
       "      <td>2022-06-30 00:00:00+00:00</td>\n",
       "      <td>2022-06-30</td>\n",
       "      <td>CryptoNerdApp</td>\n",
       "      <td>Current Price of Bitcoin:\\n$20118 (-0.75%)\\n\\n...</td>\n",
       "    </tr>\n",
       "    <tr>\n",
       "      <th>9257418</th>\n",
       "      <td>2022-06-30 00:00:00+00:00</td>\n",
       "      <td>2022-06-30</td>\n",
       "      <td>CryptoBlockMeta</td>\n",
       "      <td>#Shakespeare's Quote Of The Day: \\n“Love is no...</td>\n",
       "    </tr>\n",
       "    <tr>\n",
       "      <th>9257419</th>\n",
       "      <td>2022-06-30 00:00:00+00:00</td>\n",
       "      <td>2022-06-30</td>\n",
       "      <td>CryptingUp</td>\n",
       "      <td>Bitcoin price $20,097.67 - Decreased by -0.80%...</td>\n",
       "    </tr>\n",
       "    <tr>\n",
       "      <th>9257420</th>\n",
       "      <td>2022-06-30 00:00:00+00:00</td>\n",
       "      <td>2022-06-30</td>\n",
       "      <td>DeepR_BTC</td>\n",
       "      <td>AI trading session based on the DeepR BTC pred...</td>\n",
       "    </tr>\n",
       "  </tbody>\n",
       "</table>\n",
       "<p>9257421 rows × 4 columns</p>\n",
       "</div>"
      ],
      "text/plain": [
       "                          datetime        date         username  \\\n",
       "0        2022-01-01 23:59:56+00:00  2022-01-01    priconoticias   \n",
       "1        2022-01-01 23:59:53+00:00  2022-01-01   mmonlineonline   \n",
       "2        2022-01-01 23:59:43+00:00  2022-01-01   CoachKevinRose   \n",
       "3        2022-01-01 23:59:35+00:00  2022-01-01   robert54177167   \n",
       "4        2022-01-01 23:59:34+00:00  2022-01-01   WorldCoinIndex   \n",
       "...                            ...         ...              ...   \n",
       "9257416  2022-06-30 00:00:00+00:00  2022-06-30    Hayse89477360   \n",
       "9257417  2022-06-30 00:00:00+00:00  2022-06-30    CryptoNerdApp   \n",
       "9257418  2022-06-30 00:00:00+00:00  2022-06-30  CryptoBlockMeta   \n",
       "9257419  2022-06-30 00:00:00+00:00  2022-06-30       CryptingUp   \n",
       "9257420  2022-06-30 00:00:00+00:00  2022-06-30        DeepR_BTC   \n",
       "\n",
       "                                                      text  \n",
       "0        0.4MOT TOKENS IN #LATOKEN  airdrop and maybe m...  \n",
       "1        MARA for Bitcoin Exposure: Top Trade Q1 2022 h...  \n",
       "2        Every Time the Bell Rings The Titano makes MON...  \n",
       "3        If your interested in losing money in 2022 kee...  \n",
       "4        Bitcoin price index https://t.co/o7UcHJUhC6 #U...  \n",
       "...                                                    ...  \n",
       "9257416  @BTC_Archive not really. bitcoin can run witho...  \n",
       "9257417  Current Price of Bitcoin:\\n$20118 (-0.75%)\\n\\n...  \n",
       "9257418  #Shakespeare's Quote Of The Day: \\n“Love is no...  \n",
       "9257419  Bitcoin price $20,097.67 - Decreased by -0.80%...  \n",
       "9257420  AI trading session based on the DeepR BTC pred...  \n",
       "\n",
       "[9257421 rows x 4 columns]"
      ]
     },
     "execution_count": 16,
     "metadata": {},
     "output_type": "execute_result"
    }
   ],
   "source": [
    "df"
   ]
  },
  {
   "cell_type": "code",
   "execution_count": 17,
   "metadata": {},
   "outputs": [],
   "source": [
    "timestamp_pattern = r'^\\d{4}-\\d{2}-\\d{2} \\d{2}:\\d{2}:\\d{2}'\n",
    "filtered_df = df[df[\"datetime\"].str.contains(timestamp_pattern, na= False)]\n"
   ]
  },
  {
   "cell_type": "code",
   "execution_count": 18,
   "metadata": {},
   "outputs": [
    {
     "data": {
      "text/html": [
       "<div>\n",
       "<style scoped>\n",
       "    .dataframe tbody tr th:only-of-type {\n",
       "        vertical-align: middle;\n",
       "    }\n",
       "\n",
       "    .dataframe tbody tr th {\n",
       "        vertical-align: top;\n",
       "    }\n",
       "\n",
       "    .dataframe thead th {\n",
       "        text-align: right;\n",
       "    }\n",
       "</style>\n",
       "<table border=\"1\" class=\"dataframe\">\n",
       "  <thead>\n",
       "    <tr style=\"text-align: right;\">\n",
       "      <th></th>\n",
       "      <th>datetime</th>\n",
       "      <th>date</th>\n",
       "      <th>username</th>\n",
       "      <th>text</th>\n",
       "    </tr>\n",
       "  </thead>\n",
       "  <tbody>\n",
       "    <tr>\n",
       "      <th>0</th>\n",
       "      <td>2022-01-01 23:59:56+00:00</td>\n",
       "      <td>2022-01-01</td>\n",
       "      <td>priconoticias</td>\n",
       "      <td>0.4MOT TOKENS IN #LATOKEN  airdrop and maybe m...</td>\n",
       "    </tr>\n",
       "    <tr>\n",
       "      <th>1</th>\n",
       "      <td>2022-01-01 23:59:53+00:00</td>\n",
       "      <td>2022-01-01</td>\n",
       "      <td>mmonlineonline</td>\n",
       "      <td>MARA for Bitcoin Exposure: Top Trade Q1 2022 h...</td>\n",
       "    </tr>\n",
       "    <tr>\n",
       "      <th>2</th>\n",
       "      <td>2022-01-01 23:59:43+00:00</td>\n",
       "      <td>2022-01-01</td>\n",
       "      <td>CoachKevinRose</td>\n",
       "      <td>Every Time the Bell Rings The Titano makes MON...</td>\n",
       "    </tr>\n",
       "    <tr>\n",
       "      <th>3</th>\n",
       "      <td>2022-01-01 23:59:35+00:00</td>\n",
       "      <td>2022-01-01</td>\n",
       "      <td>robert54177167</td>\n",
       "      <td>If your interested in losing money in 2022 kee...</td>\n",
       "    </tr>\n",
       "    <tr>\n",
       "      <th>4</th>\n",
       "      <td>2022-01-01 23:59:34+00:00</td>\n",
       "      <td>2022-01-01</td>\n",
       "      <td>WorldCoinIndex</td>\n",
       "      <td>Bitcoin price index https://t.co/o7UcHJUhC6 #U...</td>\n",
       "    </tr>\n",
       "    <tr>\n",
       "      <th>...</th>\n",
       "      <td>...</td>\n",
       "      <td>...</td>\n",
       "      <td>...</td>\n",
       "      <td>...</td>\n",
       "    </tr>\n",
       "    <tr>\n",
       "      <th>9257416</th>\n",
       "      <td>2022-06-30 00:00:00+00:00</td>\n",
       "      <td>2022-06-30</td>\n",
       "      <td>Hayse89477360</td>\n",
       "      <td>@BTC_Archive not really. bitcoin can run witho...</td>\n",
       "    </tr>\n",
       "    <tr>\n",
       "      <th>9257417</th>\n",
       "      <td>2022-06-30 00:00:00+00:00</td>\n",
       "      <td>2022-06-30</td>\n",
       "      <td>CryptoNerdApp</td>\n",
       "      <td>Current Price of Bitcoin:\\n$20118 (-0.75%)\\n\\n...</td>\n",
       "    </tr>\n",
       "    <tr>\n",
       "      <th>9257418</th>\n",
       "      <td>2022-06-30 00:00:00+00:00</td>\n",
       "      <td>2022-06-30</td>\n",
       "      <td>CryptoBlockMeta</td>\n",
       "      <td>#Shakespeare's Quote Of The Day: \\n“Love is no...</td>\n",
       "    </tr>\n",
       "    <tr>\n",
       "      <th>9257419</th>\n",
       "      <td>2022-06-30 00:00:00+00:00</td>\n",
       "      <td>2022-06-30</td>\n",
       "      <td>CryptingUp</td>\n",
       "      <td>Bitcoin price $20,097.67 - Decreased by -0.80%...</td>\n",
       "    </tr>\n",
       "    <tr>\n",
       "      <th>9257420</th>\n",
       "      <td>2022-06-30 00:00:00+00:00</td>\n",
       "      <td>2022-06-30</td>\n",
       "      <td>DeepR_BTC</td>\n",
       "      <td>AI trading session based on the DeepR BTC pred...</td>\n",
       "    </tr>\n",
       "  </tbody>\n",
       "</table>\n",
       "<p>7865899 rows × 4 columns</p>\n",
       "</div>"
      ],
      "text/plain": [
       "                          datetime        date         username  \\\n",
       "0        2022-01-01 23:59:56+00:00  2022-01-01    priconoticias   \n",
       "1        2022-01-01 23:59:53+00:00  2022-01-01   mmonlineonline   \n",
       "2        2022-01-01 23:59:43+00:00  2022-01-01   CoachKevinRose   \n",
       "3        2022-01-01 23:59:35+00:00  2022-01-01   robert54177167   \n",
       "4        2022-01-01 23:59:34+00:00  2022-01-01   WorldCoinIndex   \n",
       "...                            ...         ...              ...   \n",
       "9257416  2022-06-30 00:00:00+00:00  2022-06-30    Hayse89477360   \n",
       "9257417  2022-06-30 00:00:00+00:00  2022-06-30    CryptoNerdApp   \n",
       "9257418  2022-06-30 00:00:00+00:00  2022-06-30  CryptoBlockMeta   \n",
       "9257419  2022-06-30 00:00:00+00:00  2022-06-30       CryptingUp   \n",
       "9257420  2022-06-30 00:00:00+00:00  2022-06-30        DeepR_BTC   \n",
       "\n",
       "                                                      text  \n",
       "0        0.4MOT TOKENS IN #LATOKEN  airdrop and maybe m...  \n",
       "1        MARA for Bitcoin Exposure: Top Trade Q1 2022 h...  \n",
       "2        Every Time the Bell Rings The Titano makes MON...  \n",
       "3        If your interested in losing money in 2022 kee...  \n",
       "4        Bitcoin price index https://t.co/o7UcHJUhC6 #U...  \n",
       "...                                                    ...  \n",
       "9257416  @BTC_Archive not really. bitcoin can run witho...  \n",
       "9257417  Current Price of Bitcoin:\\n$20118 (-0.75%)\\n\\n...  \n",
       "9257418  #Shakespeare's Quote Of The Day: \\n“Love is no...  \n",
       "9257419  Bitcoin price $20,097.67 - Decreased by -0.80%...  \n",
       "9257420  AI trading session based on the DeepR BTC pred...  \n",
       "\n",
       "[7865899 rows x 4 columns]"
      ]
     },
     "execution_count": 18,
     "metadata": {},
     "output_type": "execute_result"
    }
   ],
   "source": [
    "filtered_df"
   ]
  },
  {
   "cell_type": "code",
   "execution_count": 19,
   "metadata": {},
   "outputs": [
    {
     "data": {
      "text/plain": [
       "(7865899, 4)"
      ]
     },
     "execution_count": 19,
     "metadata": {},
     "output_type": "execute_result"
    }
   ],
   "source": [
    "filtered_df.shape"
   ]
  },
  {
   "cell_type": "code",
   "execution_count": 27,
   "metadata": {},
   "outputs": [],
   "source": [
    "filtered_df[\"datetime\"] = pd.to_datetime(filtered_df[\"datetime\"])\n",
    "filtered_df[\"date\"] = pd.to_datetime(filtered_df[\"date\"])"
   ]
  },
  {
   "cell_type": "code",
   "execution_count": 28,
   "metadata": {},
   "outputs": [],
   "source": [
    "filtered_df = filtered_df.sort_values(by=\"datetime\").reset_index(drop=True)"
   ]
  },
  {
   "cell_type": "code",
   "execution_count": 29,
   "metadata": {},
   "outputs": [
    {
     "data": {
      "text/html": [
       "<div>\n",
       "<style scoped>\n",
       "    .dataframe tbody tr th:only-of-type {\n",
       "        vertical-align: middle;\n",
       "    }\n",
       "\n",
       "    .dataframe tbody tr th {\n",
       "        vertical-align: top;\n",
       "    }\n",
       "\n",
       "    .dataframe thead th {\n",
       "        text-align: right;\n",
       "    }\n",
       "</style>\n",
       "<table border=\"1\" class=\"dataframe\">\n",
       "  <thead>\n",
       "    <tr style=\"text-align: right;\">\n",
       "      <th></th>\n",
       "      <th>datetime</th>\n",
       "      <th>date</th>\n",
       "      <th>username</th>\n",
       "      <th>text</th>\n",
       "    </tr>\n",
       "  </thead>\n",
       "  <tbody>\n",
       "    <tr>\n",
       "      <th>0</th>\n",
       "      <td>2022-01-01 00:00:00+00:00</td>\n",
       "      <td>2022-01-01</td>\n",
       "      <td>CryptoNerdApp</td>\n",
       "      <td>Current Price of Bitcoin:\\n$46320 (-1.85%)\\n\\n...</td>\n",
       "    </tr>\n",
       "    <tr>\n",
       "      <th>1</th>\n",
       "      <td>2022-01-01 00:00:00+00:00</td>\n",
       "      <td>2022-01-01</td>\n",
       "      <td>MadStudentScie1</td>\n",
       "      <td>Generating misunderstanding for Bitcoin!</td>\n",
       "    </tr>\n",
       "    <tr>\n",
       "      <th>2</th>\n",
       "      <td>2022-01-01 00:00:00+00:00</td>\n",
       "      <td>2022-01-01</td>\n",
       "      <td>TrendSpider</td>\n",
       "      <td>$BTC Continues to bounce off the YTD anchored ...</td>\n",
       "    </tr>\n",
       "    <tr>\n",
       "      <th>3</th>\n",
       "      <td>2022-01-01 00:00:01+00:00</td>\n",
       "      <td>2022-01-01</td>\n",
       "      <td>WIRTUALapp</td>\n",
       "      <td>HAPPY NEW YEAR 2022! Experience a new way to e...</td>\n",
       "    </tr>\n",
       "    <tr>\n",
       "      <th>4</th>\n",
       "      <td>2022-01-01 00:00:01+00:00</td>\n",
       "      <td>2022-01-01</td>\n",
       "      <td>takeoff_tech</td>\n",
       "      <td>【$TKO token #1】\\n\\nTKO token will be a utility...</td>\n",
       "    </tr>\n",
       "    <tr>\n",
       "      <th>...</th>\n",
       "      <td>...</td>\n",
       "      <td>...</td>\n",
       "      <td>...</td>\n",
       "      <td>...</td>\n",
       "    </tr>\n",
       "    <tr>\n",
       "      <th>7865894</th>\n",
       "      <td>2022-06-30 23:59:51+00:00</td>\n",
       "      <td>2022-06-30</td>\n",
       "      <td>ziptrader</td>\n",
       "      <td>Niiiice bounce #bitcoin #btc as predicted at $...</td>\n",
       "    </tr>\n",
       "    <tr>\n",
       "      <th>7865895</th>\n",
       "      <td>2022-06-30 23:59:53+00:00</td>\n",
       "      <td>2022-06-30</td>\n",
       "      <td>David_Bush_BTC</td>\n",
       "      <td>#Bitcoin spiking!!!</td>\n",
       "    </tr>\n",
       "    <tr>\n",
       "      <th>7865896</th>\n",
       "      <td>2022-06-30 23:59:54+00:00</td>\n",
       "      <td>2022-06-30</td>\n",
       "      <td>CryptoWatchBot</td>\n",
       "      <td>#Investing 64.0% in this optimal #crypto portf...</td>\n",
       "    </tr>\n",
       "    <tr>\n",
       "      <th>7865897</th>\n",
       "      <td>2022-06-30 23:59:55+00:00</td>\n",
       "      <td>2022-06-30</td>\n",
       "      <td>ThemainSergio</td>\n",
       "      <td>What is this sudden spike in #bitcoin and some...</td>\n",
       "    </tr>\n",
       "    <tr>\n",
       "      <th>7865898</th>\n",
       "      <td>2022-06-30 23:59:55+00:00</td>\n",
       "      <td>2022-06-30</td>\n",
       "      <td>trump_democrat</td>\n",
       "      <td>The Saudi buyers are real #Bitcoin https://t.c...</td>\n",
       "    </tr>\n",
       "  </tbody>\n",
       "</table>\n",
       "<p>7865899 rows × 4 columns</p>\n",
       "</div>"
      ],
      "text/plain": [
       "                         datetime       date         username  \\\n",
       "0       2022-01-01 00:00:00+00:00 2022-01-01    CryptoNerdApp   \n",
       "1       2022-01-01 00:00:00+00:00 2022-01-01  MadStudentScie1   \n",
       "2       2022-01-01 00:00:00+00:00 2022-01-01      TrendSpider   \n",
       "3       2022-01-01 00:00:01+00:00 2022-01-01       WIRTUALapp   \n",
       "4       2022-01-01 00:00:01+00:00 2022-01-01     takeoff_tech   \n",
       "...                           ...        ...              ...   \n",
       "7865894 2022-06-30 23:59:51+00:00 2022-06-30        ziptrader   \n",
       "7865895 2022-06-30 23:59:53+00:00 2022-06-30   David_Bush_BTC   \n",
       "7865896 2022-06-30 23:59:54+00:00 2022-06-30   CryptoWatchBot   \n",
       "7865897 2022-06-30 23:59:55+00:00 2022-06-30    ThemainSergio   \n",
       "7865898 2022-06-30 23:59:55+00:00 2022-06-30   trump_democrat   \n",
       "\n",
       "                                                      text  \n",
       "0        Current Price of Bitcoin:\\n$46320 (-1.85%)\\n\\n...  \n",
       "1                 Generating misunderstanding for Bitcoin!  \n",
       "2        $BTC Continues to bounce off the YTD anchored ...  \n",
       "3        HAPPY NEW YEAR 2022! Experience a new way to e...  \n",
       "4        【$TKO token #1】\\n\\nTKO token will be a utility...  \n",
       "...                                                    ...  \n",
       "7865894  Niiiice bounce #bitcoin #btc as predicted at $...  \n",
       "7865895                                #Bitcoin spiking!!!  \n",
       "7865896  #Investing 64.0% in this optimal #crypto portf...  \n",
       "7865897  What is this sudden spike in #bitcoin and some...  \n",
       "7865898  The Saudi buyers are real #Bitcoin https://t.c...  \n",
       "\n",
       "[7865899 rows x 4 columns]"
      ]
     },
     "execution_count": 29,
     "metadata": {},
     "output_type": "execute_result"
    }
   ],
   "source": [
    "filtered_df"
   ]
  },
  {
   "cell_type": "code",
   "execution_count": 23,
   "metadata": {},
   "outputs": [
    {
     "name": "stderr",
     "output_type": "stream",
     "text": [
      "C:\\Users\\isaen\\AppData\\Local\\Temp\\ipykernel_5276\\1074760407.py:3: FutureWarning: 'M' is deprecated and will be removed in a future version, please use 'ME' instead.\n",
      "  monthly_counts = filtered_df.resample('M', on='datetime').size()\n"
     ]
    },
    {
     "data": {
      "image/png": "[encoded data removed]",
      "text/plain": [
       "<Figure size 1000x500 with 1 Axes>"
      ]
     },
     "metadata": {},
     "output_type": "display_data"
    }
   ],
   "source": [
    "import matplotlib.pyplot as plt\n",
    "\n",
    "monthly_counts = filtered_df.resample('M', on='datetime').size()\n",
    "\n",
    "# Plotting the results\n",
    "monthly_counts.plot(kind='bar', figsize=(10, 5))\n",
    "plt.title('Observations Count per Month')\n",
    "plt.xlabel('Month')\n",
    "plt.ylabel('Number of Observations')\n",
    "plt.xticks(rotation=45)\n",
    "plt.tight_layout()\n",
    "plt.show()"
   ]
  },
  {
   "cell_type": "code",
   "execution_count": 30,
   "metadata": {},
   "outputs": [],
   "source": [
    "filtered_df_01 = filtered_df[(filtered_df[\"date\"]>=pd.to_datetime(\"2022-01-01\")) & (filtered_df[\"date\"]<pd.to_datetime(\"2022-02-01\"))].sort_values(by=\"date\").reset_index(drop=True)"
   ]
  },
  {
   "cell_type": "code",
   "execution_count": 31,
   "metadata": {},
   "outputs": [
    {
     "data": {
      "text/html": [
       "<div>\n",
       "<style scoped>\n",
       "    .dataframe tbody tr th:only-of-type {\n",
       "        vertical-align: middle;\n",
       "    }\n",
       "\n",
       "    .dataframe tbody tr th {\n",
       "        vertical-align: top;\n",
       "    }\n",
       "\n",
       "    .dataframe thead th {\n",
       "        text-align: right;\n",
       "    }\n",
       "</style>\n",
       "<table border=\"1\" class=\"dataframe\">\n",
       "  <thead>\n",
       "    <tr style=\"text-align: right;\">\n",
       "      <th></th>\n",
       "      <th>datetime</th>\n",
       "      <th>date</th>\n",
       "      <th>username</th>\n",
       "      <th>text</th>\n",
       "    </tr>\n",
       "  </thead>\n",
       "  <tbody>\n",
       "    <tr>\n",
       "      <th>0</th>\n",
       "      <td>2022-01-01 00:00:00+00:00</td>\n",
       "      <td>2022-01-01</td>\n",
       "      <td>CryptoNerdApp</td>\n",
       "      <td>Current Price of Bitcoin:\\n$46320 (-1.85%)\\n\\n...</td>\n",
       "    </tr>\n",
       "    <tr>\n",
       "      <th>1</th>\n",
       "      <td>2022-01-01 17:10:02+00:00</td>\n",
       "      <td>2022-01-01</td>\n",
       "      <td>bitcoinalerts</td>\n",
       "      <td>The year for Bitcoin — A 2021 roundup of the f...</td>\n",
       "    </tr>\n",
       "    <tr>\n",
       "      <th>2</th>\n",
       "      <td>2022-01-01 17:10:00+00:00</td>\n",
       "      <td>2022-01-01</td>\n",
       "      <td>oneandonlypd</td>\n",
       "      <td>#Bitcoin is all our savings. https://t.co/SGgy...</td>\n",
       "    </tr>\n",
       "    <tr>\n",
       "      <th>3</th>\n",
       "      <td>2022-01-01 17:09:59+00:00</td>\n",
       "      <td>2022-01-01</td>\n",
       "      <td>CHAIRFORCE_BTC</td>\n",
       "      <td>@gmekhail Isn't that usually shouted at the pe...</td>\n",
       "    </tr>\n",
       "    <tr>\n",
       "      <th>4</th>\n",
       "      <td>2022-01-01 17:09:58+00:00</td>\n",
       "      <td>2022-01-01</td>\n",
       "      <td>crypto_squared</td>\n",
       "      <td>What are Decentralized Apps or DApps?\\n#Crypto...</td>\n",
       "    </tr>\n",
       "    <tr>\n",
       "      <th>...</th>\n",
       "      <td>...</td>\n",
       "      <td>...</td>\n",
       "      <td>...</td>\n",
       "      <td>...</td>\n",
       "    </tr>\n",
       "    <tr>\n",
       "      <th>1331663</th>\n",
       "      <td>2022-01-31 10:17:58+00:00</td>\n",
       "      <td>2022-01-31</td>\n",
       "      <td>cstross</td>\n",
       "      <td>@ignaziop1977 @MLK3030 @SHOKUNIN_STUDIO At the...</td>\n",
       "    </tr>\n",
       "    <tr>\n",
       "      <th>1331664</th>\n",
       "      <td>2022-01-31 10:18:02+00:00</td>\n",
       "      <td>2022-01-31</td>\n",
       "      <td>S_Edalati</td>\n",
       "      <td>Cryptocurrency Prices On January 31 2021: Know...</td>\n",
       "    </tr>\n",
       "    <tr>\n",
       "      <th>1331665</th>\n",
       "      <td>2022-01-31 10:18:05+00:00</td>\n",
       "      <td>2022-01-31</td>\n",
       "      <td>bitcoinpressuk</td>\n",
       "      <td>#Bitcoin #BTC #CRYPTO US Financial Advisors Ex...</td>\n",
       "    </tr>\n",
       "    <tr>\n",
       "      <th>1331666</th>\n",
       "      <td>2022-01-31 10:17:28+00:00</td>\n",
       "      <td>2022-01-31</td>\n",
       "      <td>AlfaHedge</td>\n",
       "      <td>How low can #Bitcoin go ???\\n\\nExperts weigh i...</td>\n",
       "    </tr>\n",
       "    <tr>\n",
       "      <th>1331667</th>\n",
       "      <td>2022-01-31 23:59:57+00:00</td>\n",
       "      <td>2022-01-31</td>\n",
       "      <td>inanksm</td>\n",
       "      <td>#Bitcoin  is one of the most important inventi...</td>\n",
       "    </tr>\n",
       "  </tbody>\n",
       "</table>\n",
       "<p>1331668 rows × 4 columns</p>\n",
       "</div>"
      ],
      "text/plain": [
       "                         datetime       date        username  \\\n",
       "0       2022-01-01 00:00:00+00:00 2022-01-01   CryptoNerdApp   \n",
       "1       2022-01-01 17:10:02+00:00 2022-01-01   bitcoinalerts   \n",
       "2       2022-01-01 17:10:00+00:00 2022-01-01    oneandonlypd   \n",
       "3       2022-01-01 17:09:59+00:00 2022-01-01  CHAIRFORCE_BTC   \n",
       "4       2022-01-01 17:09:58+00:00 2022-01-01  crypto_squared   \n",
       "...                           ...        ...             ...   \n",
       "1331663 2022-01-31 10:17:58+00:00 2022-01-31         cstross   \n",
       "1331664 2022-01-31 10:18:02+00:00 2022-01-31       S_Edalati   \n",
       "1331665 2022-01-31 10:18:05+00:00 2022-01-31  bitcoinpressuk   \n",
       "1331666 2022-01-31 10:17:28+00:00 2022-01-31       AlfaHedge   \n",
       "1331667 2022-01-31 23:59:57+00:00 2022-01-31         inanksm   \n",
       "\n",
       "                                                      text  \n",
       "0        Current Price of Bitcoin:\\n$46320 (-1.85%)\\n\\n...  \n",
       "1        The year for Bitcoin — A 2021 roundup of the f...  \n",
       "2        #Bitcoin is all our savings. https://t.co/SGgy...  \n",
       "3        @gmekhail Isn't that usually shouted at the pe...  \n",
       "4        What are Decentralized Apps or DApps?\\n#Crypto...  \n",
       "...                                                    ...  \n",
       "1331663  @ignaziop1977 @MLK3030 @SHOKUNIN_STUDIO At the...  \n",
       "1331664  Cryptocurrency Prices On January 31 2021: Know...  \n",
       "1331665  #Bitcoin #BTC #CRYPTO US Financial Advisors Ex...  \n",
       "1331666  How low can #Bitcoin go ???\\n\\nExperts weigh i...  \n",
       "1331667  #Bitcoin  is one of the most important inventi...  \n",
       "\n",
       "[1331668 rows x 4 columns]"
      ]
     },
     "execution_count": 31,
     "metadata": {},
     "output_type": "execute_result"
    }
   ],
   "source": [
    "filtered_df_01"
   ]
  },
  {
   "cell_type": "code",
   "execution_count": 32,
   "metadata": {},
   "outputs": [
    {
     "name": "stderr",
     "output_type": "stream",
     "text": [
      "C:\\Users\\isaen\\AppData\\Local\\Temp\\ipykernel_5276\\3715690552.py:2: FutureWarning: 'H' is deprecated and will be removed in a future version, please use 'h' instead.\n",
      "  filtered_df_01['Date_hourly']=filtered_df_01['datetime'].dt.floor('H')+timedelta(hours=1)\n"
     ]
    }
   ],
   "source": [
    "from datetime import timedelta\n",
    "filtered_df_01['Date_hourly']=filtered_df_01['datetime'].dt.floor('H')+timedelta(hours=1)\n",
    "filtered_df_01['Date_min']=filtered_df_01['datetime'].dt.floor('Min')+timedelta(minutes=1)\n",
    "filtered_df_01['Date_day']=filtered_df_01['datetime'].dt.floor('D')+timedelta(days=1)\n",
    "filtered_df_01['Date_30m']=filtered_df_01['datetime'].dt.floor('30min')+timedelta(minutes=30)\n",
    "filtered_df_01['Date_15m']=filtered_df_01['datetime'].dt.floor('15min')+timedelta(minutes=15)"
   ]
  },
  {
   "cell_type": "code",
   "execution_count": 33,
   "metadata": {},
   "outputs": [
    {
     "data": {
      "text/html": [
       "<div>\n",
       "<style scoped>\n",
       "    .dataframe tbody tr th:only-of-type {\n",
       "        vertical-align: middle;\n",
       "    }\n",
       "\n",
       "    .dataframe tbody tr th {\n",
       "        vertical-align: top;\n",
       "    }\n",
       "\n",
       "    .dataframe thead th {\n",
       "        text-align: right;\n",
       "    }\n",
       "</style>\n",
       "<table border=\"1\" class=\"dataframe\">\n",
       "  <thead>\n",
       "    <tr style=\"text-align: right;\">\n",
       "      <th></th>\n",
       "      <th>datetime</th>\n",
       "      <th>date</th>\n",
       "      <th>username</th>\n",
       "      <th>text</th>\n",
       "      <th>Date_hourly</th>\n",
       "      <th>Date_min</th>\n",
       "      <th>Date_day</th>\n",
       "      <th>Date_30m</th>\n",
       "      <th>Date_15m</th>\n",
       "    </tr>\n",
       "  </thead>\n",
       "  <tbody>\n",
       "    <tr>\n",
       "      <th>0</th>\n",
       "      <td>2022-01-01 00:00:00+00:00</td>\n",
       "      <td>2022-01-01</td>\n",
       "      <td>CryptoNerdApp</td>\n",
       "      <td>Current Price of Bitcoin:\\n$46320 (-1.85%)\\n\\n...</td>\n",
       "      <td>2022-01-01 01:00:00+00:00</td>\n",
       "      <td>2022-01-01 00:01:00+00:00</td>\n",
       "      <td>2022-01-02 00:00:00+00:00</td>\n",
       "      <td>2022-01-01 00:30:00+00:00</td>\n",
       "      <td>2022-01-01 00:15:00+00:00</td>\n",
       "    </tr>\n",
       "    <tr>\n",
       "      <th>1</th>\n",
       "      <td>2022-01-01 17:10:02+00:00</td>\n",
       "      <td>2022-01-01</td>\n",
       "      <td>bitcoinalerts</td>\n",
       "      <td>The year for Bitcoin — A 2021 roundup of the f...</td>\n",
       "      <td>2022-01-01 18:00:00+00:00</td>\n",
       "      <td>2022-01-01 17:11:00+00:00</td>\n",
       "      <td>2022-01-02 00:00:00+00:00</td>\n",
       "      <td>2022-01-01 17:30:00+00:00</td>\n",
       "      <td>2022-01-01 17:15:00+00:00</td>\n",
       "    </tr>\n",
       "    <tr>\n",
       "      <th>2</th>\n",
       "      <td>2022-01-01 17:10:00+00:00</td>\n",
       "      <td>2022-01-01</td>\n",
       "      <td>oneandonlypd</td>\n",
       "      <td>#Bitcoin is all our savings. https://t.co/SGgy...</td>\n",
       "      <td>2022-01-01 18:00:00+00:00</td>\n",
       "      <td>2022-01-01 17:11:00+00:00</td>\n",
       "      <td>2022-01-02 00:00:00+00:00</td>\n",
       "      <td>2022-01-01 17:30:00+00:00</td>\n",
       "      <td>2022-01-01 17:15:00+00:00</td>\n",
       "    </tr>\n",
       "    <tr>\n",
       "      <th>3</th>\n",
       "      <td>2022-01-01 17:09:59+00:00</td>\n",
       "      <td>2022-01-01</td>\n",
       "      <td>CHAIRFORCE_BTC</td>\n",
       "      <td>@gmekhail Isn't that usually shouted at the pe...</td>\n",
       "      <td>2022-01-01 18:00:00+00:00</td>\n",
       "      <td>2022-01-01 17:10:00+00:00</td>\n",
       "      <td>2022-01-02 00:00:00+00:00</td>\n",
       "      <td>2022-01-01 17:30:00+00:00</td>\n",
       "      <td>2022-01-01 17:15:00+00:00</td>\n",
       "    </tr>\n",
       "    <tr>\n",
       "      <th>4</th>\n",
       "      <td>2022-01-01 17:09:58+00:00</td>\n",
       "      <td>2022-01-01</td>\n",
       "      <td>crypto_squared</td>\n",
       "      <td>What are Decentralized Apps or DApps?\\n#Crypto...</td>\n",
       "      <td>2022-01-01 18:00:00+00:00</td>\n",
       "      <td>2022-01-01 17:10:00+00:00</td>\n",
       "      <td>2022-01-02 00:00:00+00:00</td>\n",
       "      <td>2022-01-01 17:30:00+00:00</td>\n",
       "      <td>2022-01-01 17:15:00+00:00</td>\n",
       "    </tr>\n",
       "    <tr>\n",
       "      <th>...</th>\n",
       "      <td>...</td>\n",
       "      <td>...</td>\n",
       "      <td>...</td>\n",
       "      <td>...</td>\n",
       "      <td>...</td>\n",
       "      <td>...</td>\n",
       "      <td>...</td>\n",
       "      <td>...</td>\n",
       "      <td>...</td>\n",
       "    </tr>\n",
       "    <tr>\n",
       "      <th>1331663</th>\n",
       "      <td>2022-01-31 10:17:58+00:00</td>\n",
       "      <td>2022-01-31</td>\n",
       "      <td>cstross</td>\n",
       "      <td>@ignaziop1977 @MLK3030 @SHOKUNIN_STUDIO At the...</td>\n",
       "      <td>2022-01-31 11:00:00+00:00</td>\n",
       "      <td>2022-01-31 10:18:00+00:00</td>\n",
       "      <td>2022-02-01 00:00:00+00:00</td>\n",
       "      <td>2022-01-31 10:30:00+00:00</td>\n",
       "      <td>2022-01-31 10:30:00+00:00</td>\n",
       "    </tr>\n",
       "    <tr>\n",
       "      <th>1331664</th>\n",
       "      <td>2022-01-31 10:18:02+00:00</td>\n",
       "      <td>2022-01-31</td>\n",
       "      <td>S_Edalati</td>\n",
       "      <td>Cryptocurrency Prices On January 31 2021: Know...</td>\n",
       "      <td>2022-01-31 11:00:00+00:00</td>\n",
       "      <td>2022-01-31 10:19:00+00:00</td>\n",
       "      <td>2022-02-01 00:00:00+00:00</td>\n",
       "      <td>2022-01-31 10:30:00+00:00</td>\n",
       "      <td>2022-01-31 10:30:00+00:00</td>\n",
       "    </tr>\n",
       "    <tr>\n",
       "      <th>1331665</th>\n",
       "      <td>2022-01-31 10:18:05+00:00</td>\n",
       "      <td>2022-01-31</td>\n",
       "      <td>bitcoinpressuk</td>\n",
       "      <td>#Bitcoin #BTC #CRYPTO US Financial Advisors Ex...</td>\n",
       "      <td>2022-01-31 11:00:00+00:00</td>\n",
       "      <td>2022-01-31 10:19:00+00:00</td>\n",
       "      <td>2022-02-01 00:00:00+00:00</td>\n",
       "      <td>2022-01-31 10:30:00+00:00</td>\n",
       "      <td>2022-01-31 10:30:00+00:00</td>\n",
       "    </tr>\n",
       "    <tr>\n",
       "      <th>1331666</th>\n",
       "      <td>2022-01-31 10:17:28+00:00</td>\n",
       "      <td>2022-01-31</td>\n",
       "      <td>AlfaHedge</td>\n",
       "      <td>How low can #Bitcoin go ???\\n\\nExperts weigh i...</td>\n",
       "      <td>2022-01-31 11:00:00+00:00</td>\n",
       "      <td>2022-01-31 10:18:00+00:00</td>\n",
       "      <td>2022-02-01 00:00:00+00:00</td>\n",
       "      <td>2022-01-31 10:30:00+00:00</td>\n",
       "      <td>2022-01-31 10:30:00+00:00</td>\n",
       "    </tr>\n",
       "    <tr>\n",
       "      <th>1331667</th>\n",
       "      <td>2022-01-31 23:59:57+00:00</td>\n",
       "      <td>2022-01-31</td>\n",
       "      <td>inanksm</td>\n",
       "      <td>#Bitcoin  is one of the most important inventi...</td>\n",
       "      <td>2022-02-01 00:00:00+00:00</td>\n",
       "      <td>2022-02-01 00:00:00+00:00</td>\n",
       "      <td>2022-02-01 00:00:00+00:00</td>\n",
       "      <td>2022-02-01 00:00:00+00:00</td>\n",
       "      <td>2022-02-01 00:00:00+00:00</td>\n",
       "    </tr>\n",
       "  </tbody>\n",
       "</table>\n",
       "<p>1331668 rows × 9 columns</p>\n",
       "</div>"
      ],
      "text/plain": [
       "                         datetime       date        username  \\\n",
       "0       2022-01-01 00:00:00+00:00 2022-01-01   CryptoNerdApp   \n",
       "1       2022-01-01 17:10:02+00:00 2022-01-01   bitcoinalerts   \n",
       "2       2022-01-01 17:10:00+00:00 2022-01-01    oneandonlypd   \n",
       "3       2022-01-01 17:09:59+00:00 2022-01-01  CHAIRFORCE_BTC   \n",
       "4       2022-01-01 17:09:58+00:00 2022-01-01  crypto_squared   \n",
       "...                           ...        ...             ...   \n",
       "1331663 2022-01-31 10:17:58+00:00 2022-01-31         cstross   \n",
       "1331664 2022-01-31 10:18:02+00:00 2022-01-31       S_Edalati   \n",
       "1331665 2022-01-31 10:18:05+00:00 2022-01-31  bitcoinpressuk   \n",
       "1331666 2022-01-31 10:17:28+00:00 2022-01-31       AlfaHedge   \n",
       "1331667 2022-01-31 23:59:57+00:00 2022-01-31         inanksm   \n",
       "\n",
       "                                                      text  \\\n",
       "0        Current Price of Bitcoin:\\n$46320 (-1.85%)\\n\\n...   \n",
       "1        The year for Bitcoin — A 2021 roundup of the f...   \n",
       "2        #Bitcoin is all our savings. https://t.co/SGgy...   \n",
       "3        @gmekhail Isn't that usually shouted at the pe...   \n",
       "4        What are Decentralized Apps or DApps?\\n#Crypto...   \n",
       "...                                                    ...   \n",
       "1331663  @ignaziop1977 @MLK3030 @SHOKUNIN_STUDIO At the...   \n",
       "1331664  Cryptocurrency Prices On January 31 2021: Know...   \n",
       "1331665  #Bitcoin #BTC #CRYPTO US Financial Advisors Ex...   \n",
       "1331666  How low can #Bitcoin go ???\\n\\nExperts weigh i...   \n",
       "1331667  #Bitcoin  is one of the most important inventi...   \n",
       "\n",
       "                      Date_hourly                  Date_min  \\\n",
       "0       2022-01-01 01:00:00+00:00 2022-01-01 00:01:00+00:00   \n",
       "1       2022-01-01 18:00:00+00:00 2022-01-01 17:11:00+00:00   \n",
       "2       2022-01-01 18:00:00+00:00 2022-01-01 17:11:00+00:00   \n",
       "3       2022-01-01 18:00:00+00:00 2022-01-01 17:10:00+00:00   \n",
       "4       2022-01-01 18:00:00+00:00 2022-01-01 17:10:00+00:00   \n",
       "...                           ...                       ...   \n",
       "1331663 2022-01-31 11:00:00+00:00 2022-01-31 10:18:00+00:00   \n",
       "1331664 2022-01-31 11:00:00+00:00 2022-01-31 10:19:00+00:00   \n",
       "1331665 2022-01-31 11:00:00+00:00 2022-01-31 10:19:00+00:00   \n",
       "1331666 2022-01-31 11:00:00+00:00 2022-01-31 10:18:00+00:00   \n",
       "1331667 2022-02-01 00:00:00+00:00 2022-02-01 00:00:00+00:00   \n",
       "\n",
       "                         Date_day                  Date_30m  \\\n",
       "0       2022-01-02 00:00:00+00:00 2022-01-01 00:30:00+00:00   \n",
       "1       2022-01-02 00:00:00+00:00 2022-01-01 17:30:00+00:00   \n",
       "2       2022-01-02 00:00:00+00:00 2022-01-01 17:30:00+00:00   \n",
       "3       2022-01-02 00:00:00+00:00 2022-01-01 17:30:00+00:00   \n",
       "4       2022-01-02 00:00:00+00:00 2022-01-01 17:30:00+00:00   \n",
       "...                           ...                       ...   \n",
       "1331663 2022-02-01 00:00:00+00:00 2022-01-31 10:30:00+00:00   \n",
       "1331664 2022-02-01 00:00:00+00:00 2022-01-31 10:30:00+00:00   \n",
       "1331665 2022-02-01 00:00:00+00:00 2022-01-31 10:30:00+00:00   \n",
       "1331666 2022-02-01 00:00:00+00:00 2022-01-31 10:30:00+00:00   \n",
       "1331667 2022-02-01 00:00:00+00:00 2022-02-01 00:00:00+00:00   \n",
       "\n",
       "                         Date_15m  \n",
       "0       2022-01-01 00:15:00+00:00  \n",
       "1       2022-01-01 17:15:00+00:00  \n",
       "2       2022-01-01 17:15:00+00:00  \n",
       "3       2022-01-01 17:15:00+00:00  \n",
       "4       2022-01-01 17:15:00+00:00  \n",
       "...                           ...  \n",
       "1331663 2022-01-31 10:30:00+00:00  \n",
       "1331664 2022-01-31 10:30:00+00:00  \n",
       "1331665 2022-01-31 10:30:00+00:00  \n",
       "1331666 2022-01-31 10:30:00+00:00  \n",
       "1331667 2022-02-01 00:00:00+00:00  \n",
       "\n",
       "[1331668 rows x 9 columns]"
      ]
     },
     "execution_count": 33,
     "metadata": {},
     "output_type": "execute_result"
    }
   ],
   "source": [
    "filtered_df_01"
   ]
  },
  {
   "cell_type": "code",
   "execution_count": null,
   "metadata": {},
   "outputs": [
    {
     "data": {
      "text/plain": [
       "31"
      ]
     },
     "execution_count": 34,
     "metadata": {},
     "output_type": "execute_result"
    }
   ],
   "source": [
    "len(set(filtered_df_01[\"Date_day\"]))\n",
    "# full month"
   ]
  },
  {
   "cell_type": "code",
   "execution_count": null,
   "metadata": {},
   "outputs": [
    {
     "data": {
      "text/plain": [
       "744"
      ]
     },
     "execution_count": 36,
     "metadata": {},
     "output_type": "execute_result"
    }
   ],
   "source": [
    "len(set(filtered_df_01[\"Date_hourly\"]))\n",
    "#full hours"
   ]
  },
  {
   "cell_type": "code",
   "execution_count": null,
   "metadata": {},
   "outputs": [
    {
     "data": {
      "text/plain": [
       "1488"
      ]
     },
     "execution_count": 37,
     "metadata": {},
     "output_type": "execute_result"
    }
   ],
   "source": [
    "len(set(filtered_df_01[\"Date_30m\"]))\n",
    "# full 30m"
   ]
  },
  {
   "cell_type": "code",
   "execution_count": null,
   "metadata": {},
   "outputs": [
    {
     "data": {
      "text/plain": [
       "2976"
      ]
     },
     "execution_count": 38,
     "metadata": {},
     "output_type": "execute_result"
    }
   ],
   "source": [
    "len(set(filtered_df_01[\"Date_15m\"]))\n",
    "# full 15m"
   ]
  },
  {
   "cell_type": "code",
   "execution_count": null,
   "metadata": {},
   "outputs": [
    {
     "data": {
      "text/plain": [
       "44640"
      ]
     },
     "execution_count": 39,
     "metadata": {},
     "output_type": "execute_result"
    }
   ],
   "source": [
    "len(set(filtered_df_01[\"Date_min\"]))\n",
    "# full min"
   ]
  },
  {
   "cell_type": "code",
   "execution_count": 40,
   "metadata": {},
   "outputs": [
    {
     "data": {
      "text/plain": [
       "44640"
      ]
     },
     "execution_count": 40,
     "metadata": {},
     "output_type": "execute_result"
    }
   ],
   "source": [
    "2976*15"
   ]
  },
  {
   "cell_type": "code",
   "execution_count": null,
   "metadata": {},
   "outputs": [
    {
     "name": "stdout",
     "output_type": "stream",
     "text": [
      "\n",
      "Missing values in Tweets data:\n",
      "datetime             0\n",
      "date                 0\n",
      "username             0\n",
      "text                 0\n",
      "Date_hourly          0\n",
      "Date_min             0\n",
      "Date_day             0\n",
      "Date_30m             0\n",
      "Date_15m             0\n",
      "sentiment      1231668\n",
      "dtype: int64\n"
     ]
    }
   ],
   "source": [
    "print(\"\\nMissing values in Tweets data:\")\n",
    "print(filtered_df_01.isnull().sum())\n",
    "# everything is fine"
   ]
  },
  {
   "cell_type": "code",
   "execution_count": 153,
   "metadata": {},
   "outputs": [],
   "source": [
    "import pandas as pd\n",
    "import numpy as np\n",
    "import re\n",
    "import string\n",
    "import nltk\n",
    "from nltk.corpus import stopwords\n",
    "from nltk.stem import WordNetLemmatizer\n",
    "from pathlib import Path\n",
    "from nltk.tokenize import TweetTokenizer\n",
    "\n",
    "def preprocess_text(text, stop_words, lemmatizer):\n",
    "    \"\"\"\n",
    "    Clean and preprocess tweet text.\n",
    "\n",
    "    Parameters:\n",
    "    - text (str): Tweet text.\n",
    "    - stop_words (set): Set of English stopwords.\n",
    "    - lemmatizer (WordNetLemmatizer): Lemmatizer object.\n",
    "\n",
    "    Returns:\n",
    "    - str: Preprocessed text.\n",
    "    \"\"\"\n",
    "\n",
    "    # special_words = [\"US\", \"UK\", \"AI\"]\n",
    "\n",
    "    # Convert to lowercase\n",
    "    text = text.lower()\n",
    "\n",
    "    # Remove URLs, mentions, and retweets\n",
    "    text = re.sub(r\"http\\S+|www\\S+|https\\S+\", \"\", text)\n",
    "    text = re.sub(r\"\\@\\w+\", \"\", text)\n",
    "    text = re.sub(r\"^RT[\\s]+\", \"\", text)\n",
    "    \n",
    "    # Remove non-alphabetic characters\n",
    "    text = re.sub(r\"[^a-zA-Z\\s]\", \"\", text)\n",
    "\n",
    "    # Tokenization\n",
    "    tokens = TweetTokenizer().tokenize(text)\n",
    "\n",
    "    # Lemmatization for long words\n",
    "    tokens = [lemmatizer.lemmatize(token) if len(token) > 3 else token for token in tokens]\n",
    "\n",
    "    # Remove stopwords\n",
    "    tokens = [token for token in tokens if token not in stop_words]\n",
    "\n",
    "    # Remove punctuation and numbers\n",
    "    # text = \"\".join([char for char in text if char not in string.punctuation and not char.isdigit()])\n",
    "    text = \" \".join([token for token in tokens if token not in string.punctuation and not token.isdigit()])\n",
    "    return text\n",
    "    # return \" \".join(tokens)"
   ]
  },
  {
   "cell_type": "code",
   "execution_count": 154,
   "metadata": {},
   "outputs": [
    {
     "data": {
      "text/plain": [
       "'!\"#$%&\\'()*+,-./:;<=>?@[\\\\]^_`{|}~'"
      ]
     },
     "execution_count": 154,
     "metadata": {},
     "output_type": "execute_result"
    }
   ],
   "source": [
    "string.punctuation"
   ]
  },
  {
   "cell_type": "code",
   "execution_count": 155,
   "metadata": {},
   "outputs": [],
   "source": [
    "stop_words = set(stopwords.words('english'))\n",
    "lemmatizer = WordNetLemmatizer()\n",
    "filtered_df_01[\"cleaned_text\"] = filtered_df_01[\"text\"].apply(lambda x: preprocess_text(x, stop_words, lemmatizer))"
   ]
  },
  {
   "cell_type": "code",
   "execution_count": 157,
   "metadata": {},
   "outputs": [
    {
     "name": "stdout",
     "output_type": "stream",
     "text": [
      "[{'label': 'LABEL_1', 'score': 0.9678453803062439}]\n"
     ]
    }
   ],
   "source": [
    "from transformers import BertTokenizer, BertForSequenceClassification\n",
    "from transformers import pipeline\n",
    "\n",
    "tokenizer = BertTokenizer.from_pretrained(\"kk08/CryptoBERT\")\n",
    "model = BertForSequenceClassification.from_pretrained(\"kk08/CryptoBERT\")\n",
    "\n",
    "classifier = pipeline(\"sentiment-analysis\", model=model, tokenizer=tokenizer )\n",
    "text = \"Bitcoin (BTC) touches $29k, Ethereum (ETH) Set To Explode, RenQ Finance (RENQ) Crosses Massive Milestone\"\n",
    "result = classifier(text)\n",
    "print(result)"
   ]
  },
  {
   "cell_type": "code",
   "execution_count": 126,
   "metadata": {},
   "outputs": [
    {
     "data": {
      "text/plain": [
       "'The year for Bitcoin — A 2021 roundup of the flagship crypto https://t.co/X86gO5rp1Q'"
      ]
     },
     "execution_count": 126,
     "metadata": {},
     "output_type": "execute_result"
    }
   ],
   "source": [
    "filtered_df_01[\"text\"][1]"
   ]
  },
  {
   "cell_type": "code",
   "execution_count": null,
   "metadata": {},
   "outputs": [
    {
     "data": {
      "text/plain": [
       "[{'label': 'LABEL_1', 'score': 0.9667099118232727}]"
      ]
     },
     "execution_count": 133,
     "metadata": {},
     "output_type": "execute_result"
    }
   ],
   "source": [
    "classifier(filtered_df_01[\"text\"][1]+\"happy\")"
   ]
  },
  {
   "cell_type": "code",
   "execution_count": 127,
   "metadata": {},
   "outputs": [
    {
     "data": {
      "text/plain": [
       "[{'label': 'LABEL_1', 'score': 0.9608168005943298}]"
      ]
     },
     "execution_count": 127,
     "metadata": {},
     "output_type": "execute_result"
    }
   ],
   "source": [
    "classifier(\"Bitcoin Crypto ETH\"+filtered_df_01[\"text\"][1])"
   ]
  },
  {
   "cell_type": "code",
   "execution_count": 141,
   "metadata": {},
   "outputs": [
    {
     "data": {
      "text/plain": [
       "443889.3333333333"
      ]
     },
     "execution_count": 141,
     "metadata": {},
     "output_type": "execute_result"
    }
   ],
   "source": [
    "1331668/3"
   ]
  },
  {
   "cell_type": "code",
   "execution_count": 160,
   "metadata": {},
   "outputs": [],
   "source": [
    "Scores_df = pd.DataFrame({\"Scores_kk08\":[]})"
   ]
  },
  {
   "cell_type": "code",
   "execution_count": 161,
   "metadata": {},
   "outputs": [
    {
     "data": {
      "text/html": [
       "<div>\n",
       "<style scoped>\n",
       "    .dataframe tbody tr th:only-of-type {\n",
       "        vertical-align: middle;\n",
       "    }\n",
       "\n",
       "    .dataframe tbody tr th {\n",
       "        vertical-align: top;\n",
       "    }\n",
       "\n",
       "    .dataframe thead th {\n",
       "        text-align: right;\n",
       "    }\n",
       "</style>\n",
       "<table border=\"1\" class=\"dataframe\">\n",
       "  <thead>\n",
       "    <tr style=\"text-align: right;\">\n",
       "      <th></th>\n",
       "      <th>Scores_kk08</th>\n",
       "    </tr>\n",
       "  </thead>\n",
       "  <tbody>\n",
       "  </tbody>\n",
       "</table>\n",
       "</div>"
      ],
      "text/plain": [
       "Empty DataFrame\n",
       "Columns: [Scores_kk08]\n",
       "Index: []"
      ]
     },
     "execution_count": 161,
     "metadata": {},
     "output_type": "execute_result"
    }
   ],
   "source": [
    "Scores_df"
   ]
  },
  {
   "cell_type": "code",
   "execution_count": null,
   "metadata": {},
   "outputs": [],
   "source": [
    "# ivan\n",
    "Scores_kk08_ivan = []\n",
    "for i in range(443890):\n",
    "    Scores_kk08_ivan.append(classifier(filtered_df_01['text'][i]))\n",
    "    print(i)"
   ]
  },
  {
   "cell_type": "code",
   "execution_count": null,
   "metadata": {},
   "outputs": [],
   "source": [
    "Scores_df[\"Scores_kk08\"][:443890] = Scores_kk08_ivan"
   ]
  },
  {
   "cell_type": "code",
   "execution_count": null,
   "metadata": {},
   "outputs": [],
   "source": [
    "pd.to_csv(Scores_df, \"Scores_kk08_ivan\", index = False)"
   ]
  },
  {
   "cell_type": "code",
   "execution_count": 143,
   "metadata": {},
   "outputs": [
    {
     "data": {
      "text/plain": [
       "887780"
      ]
     },
     "execution_count": 143,
     "metadata": {},
     "output_type": "execute_result"
    }
   ],
   "source": [
    "443890*2"
   ]
  },
  {
   "cell_type": "code",
   "execution_count": null,
   "metadata": {},
   "outputs": [],
   "source": [
    "# lorenzo\n",
    "Scores_kk08_lorenzo = []\n",
    "for i in range(443890, 887780):\n",
    "    Scores_kk08_lorenzo.append(classifier(filtered_df_01['text'][i]))\n",
    "    print(i)"
   ]
  },
  {
   "cell_type": "code",
   "execution_count": null,
   "metadata": {},
   "outputs": [],
   "source": [
    "Scores_df[\"Scores_kk08\"][443890:887780] = Scores_kk08_lorenzo\n",
    "pd.to_csv(Scores_df, \"Scores_kk08_lorenzo\", index = False)"
   ]
  },
  {
   "cell_type": "code",
   "execution_count": null,
   "metadata": {},
   "outputs": [],
   "source": [
    "# paola\n",
    "Scores_kk08_paola = []\n",
    "for i in range(887780, len(filtered_df_01)):\n",
    "    Scores_kk08_paola.append(classifier(filtered_df_01['text'][i]))\n",
    "    print(i)"
   ]
  },
  {
   "cell_type": "code",
   "execution_count": null,
   "metadata": {},
   "outputs": [],
   "source": [
    "Scores_df[\"Scores_kk08\"][887780:] = Scores_kk08_paola\n",
    "pd.to_csv(Scores_df, \"Scores_kk08_paola\", index = False)"
   ]
  },
  {
   "cell_type": "markdown",
   "metadata": {},
   "source": [
    "### Don't go further!!!"
   ]
  },
  {
   "cell_type": "code",
   "execution_count": null,
   "metadata": {},
   "outputs": [],
   "source": [
    "df['kk08_CryptoBert']=Scores_kk08"
   ]
  },
  {
   "cell_type": "code",
   "execution_count": null,
   "metadata": {},
   "outputs": [],
   "source": [
    "def kk_08_label(score):\n",
    "    return score[0]['label']\n",
    "def kk_08_score(score):\n",
    "    return score[0]['score']"
   ]
  },
  {
   "cell_type": "code",
   "execution_count": null,
   "metadata": {},
   "outputs": [],
   "source": [
    "df['kk08_label']=df['kk08_CryptoBert'].apply(kk_08_label)\n",
    "df['kk08_score']=df['kk08_CryptoBert'].apply(kk_08_score)"
   ]
  },
  {
   "cell_type": "code",
   "execution_count": null,
   "metadata": {},
   "outputs": [],
   "source": [
    "# there are to much tweets "
   ]
  },
  {
   "cell_type": "code",
   "execution_count": null,
   "metadata": {},
   "outputs": [
    {
     "name": "stdout",
     "output_type": "stream",
     "text": [
      "{'neg': 0.0, 'neu': 1.0, 'pos': 0.0, 'compound': 0.0}\n"
     ]
    }
   ],
   "source": [
    "from vaderSentiment.vaderSentiment import SentimentIntensityAnalyzer\n",
    "\n",
    "# Initialize the SentimentIntensityAnalyzer\n",
    "analyzer = SentimentIntensityAnalyzer()\n",
    "\n",
    "# Get sentiment scores\n",
    "sentiment_score = analyzer.polarity_scores(filtered_df_01[\"text\"][2])\n",
    "\n",
    "# Print the sentiment scores\n",
    "print(sentiment_score)\n"
   ]
  },
  {
   "cell_type": "code",
   "execution_count": 55,
   "metadata": {},
   "outputs": [
    {
     "data": {
      "text/html": [
       "<div>\n",
       "<style scoped>\n",
       "    .dataframe tbody tr th:only-of-type {\n",
       "        vertical-align: middle;\n",
       "    }\n",
       "\n",
       "    .dataframe tbody tr th {\n",
       "        vertical-align: top;\n",
       "    }\n",
       "\n",
       "    .dataframe thead th {\n",
       "        text-align: right;\n",
       "    }\n",
       "</style>\n",
       "<table border=\"1\" class=\"dataframe\">\n",
       "  <thead>\n",
       "    <tr style=\"text-align: right;\">\n",
       "      <th></th>\n",
       "      <th>datetime</th>\n",
       "      <th>date</th>\n",
       "      <th>username</th>\n",
       "      <th>text</th>\n",
       "      <th>Date_hourly</th>\n",
       "      <th>Date_min</th>\n",
       "      <th>Date_day</th>\n",
       "      <th>Date_30m</th>\n",
       "      <th>Date_15m</th>\n",
       "      <th>sentiment</th>\n",
       "    </tr>\n",
       "  </thead>\n",
       "  <tbody>\n",
       "    <tr>\n",
       "      <th>0</th>\n",
       "      <td>2022-01-01 00:00:00+00:00</td>\n",
       "      <td>2022-01-01</td>\n",
       "      <td>CryptoNerdApp</td>\n",
       "      <td>Current Price of Bitcoin:\\n$46320 (-1.85%)\\n\\n...</td>\n",
       "      <td>2022-01-01 01:00:00+00:00</td>\n",
       "      <td>2022-01-01 00:01:00+00:00</td>\n",
       "      <td>2022-01-02 00:00:00+00:00</td>\n",
       "      <td>2022-01-01 00:30:00+00:00</td>\n",
       "      <td>2022-01-01 00:15:00+00:00</td>\n",
       "      <td>0.0000</td>\n",
       "    </tr>\n",
       "    <tr>\n",
       "      <th>1</th>\n",
       "      <td>2022-01-01 17:10:02+00:00</td>\n",
       "      <td>2022-01-01</td>\n",
       "      <td>bitcoinalerts</td>\n",
       "      <td>The year for Bitcoin — A 2021 roundup of the f...</td>\n",
       "      <td>2022-01-01 18:00:00+00:00</td>\n",
       "      <td>2022-01-01 17:11:00+00:00</td>\n",
       "      <td>2022-01-02 00:00:00+00:00</td>\n",
       "      <td>2022-01-01 17:30:00+00:00</td>\n",
       "      <td>2022-01-01 17:15:00+00:00</td>\n",
       "      <td>0.1027</td>\n",
       "    </tr>\n",
       "    <tr>\n",
       "      <th>2</th>\n",
       "      <td>2022-01-01 17:10:00+00:00</td>\n",
       "      <td>2022-01-01</td>\n",
       "      <td>oneandonlypd</td>\n",
       "      <td>#Bitcoin is all our savings. https://t.co/SGgy...</td>\n",
       "      <td>2022-01-01 18:00:00+00:00</td>\n",
       "      <td>2022-01-01 17:11:00+00:00</td>\n",
       "      <td>2022-01-02 00:00:00+00:00</td>\n",
       "      <td>2022-01-01 17:30:00+00:00</td>\n",
       "      <td>2022-01-01 17:15:00+00:00</td>\n",
       "      <td>0.0000</td>\n",
       "    </tr>\n",
       "    <tr>\n",
       "      <th>3</th>\n",
       "      <td>2022-01-01 17:09:59+00:00</td>\n",
       "      <td>2022-01-01</td>\n",
       "      <td>CHAIRFORCE_BTC</td>\n",
       "      <td>@gmekhail Isn't that usually shouted at the pe...</td>\n",
       "      <td>2022-01-01 18:00:00+00:00</td>\n",
       "      <td>2022-01-01 17:10:00+00:00</td>\n",
       "      <td>2022-01-02 00:00:00+00:00</td>\n",
       "      <td>2022-01-01 17:30:00+00:00</td>\n",
       "      <td>2022-01-01 17:15:00+00:00</td>\n",
       "      <td>0.5256</td>\n",
       "    </tr>\n",
       "    <tr>\n",
       "      <th>4</th>\n",
       "      <td>2022-01-01 17:09:58+00:00</td>\n",
       "      <td>2022-01-01</td>\n",
       "      <td>crypto_squared</td>\n",
       "      <td>What are Decentralized Apps or DApps?\\n#Crypto...</td>\n",
       "      <td>2022-01-01 18:00:00+00:00</td>\n",
       "      <td>2022-01-01 17:10:00+00:00</td>\n",
       "      <td>2022-01-02 00:00:00+00:00</td>\n",
       "      <td>2022-01-01 17:30:00+00:00</td>\n",
       "      <td>2022-01-01 17:15:00+00:00</td>\n",
       "      <td>0.0000</td>\n",
       "    </tr>\n",
       "    <tr>\n",
       "      <th>...</th>\n",
       "      <td>...</td>\n",
       "      <td>...</td>\n",
       "      <td>...</td>\n",
       "      <td>...</td>\n",
       "      <td>...</td>\n",
       "      <td>...</td>\n",
       "      <td>...</td>\n",
       "      <td>...</td>\n",
       "      <td>...</td>\n",
       "      <td>...</td>\n",
       "    </tr>\n",
       "    <tr>\n",
       "      <th>1331663</th>\n",
       "      <td>2022-01-31 10:17:58+00:00</td>\n",
       "      <td>2022-01-31</td>\n",
       "      <td>cstross</td>\n",
       "      <td>@ignaziop1977 @MLK3030 @SHOKUNIN_STUDIO At the...</td>\n",
       "      <td>2022-01-31 11:00:00+00:00</td>\n",
       "      <td>2022-01-31 10:18:00+00:00</td>\n",
       "      <td>2022-02-01 00:00:00+00:00</td>\n",
       "      <td>2022-01-31 10:30:00+00:00</td>\n",
       "      <td>2022-01-31 10:30:00+00:00</td>\n",
       "      <td>NaN</td>\n",
       "    </tr>\n",
       "    <tr>\n",
       "      <th>1331664</th>\n",
       "      <td>2022-01-31 10:18:02+00:00</td>\n",
       "      <td>2022-01-31</td>\n",
       "      <td>S_Edalati</td>\n",
       "      <td>Cryptocurrency Prices On January 31 2021: Know...</td>\n",
       "      <td>2022-01-31 11:00:00+00:00</td>\n",
       "      <td>2022-01-31 10:19:00+00:00</td>\n",
       "      <td>2022-02-01 00:00:00+00:00</td>\n",
       "      <td>2022-01-31 10:30:00+00:00</td>\n",
       "      <td>2022-01-31 10:30:00+00:00</td>\n",
       "      <td>NaN</td>\n",
       "    </tr>\n",
       "    <tr>\n",
       "      <th>1331665</th>\n",
       "      <td>2022-01-31 10:18:05+00:00</td>\n",
       "      <td>2022-01-31</td>\n",
       "      <td>bitcoinpressuk</td>\n",
       "      <td>#Bitcoin #BTC #CRYPTO US Financial Advisors Ex...</td>\n",
       "      <td>2022-01-31 11:00:00+00:00</td>\n",
       "      <td>2022-01-31 10:19:00+00:00</td>\n",
       "      <td>2022-02-01 00:00:00+00:00</td>\n",
       "      <td>2022-01-31 10:30:00+00:00</td>\n",
       "      <td>2022-01-31 10:30:00+00:00</td>\n",
       "      <td>NaN</td>\n",
       "    </tr>\n",
       "    <tr>\n",
       "      <th>1331666</th>\n",
       "      <td>2022-01-31 10:17:28+00:00</td>\n",
       "      <td>2022-01-31</td>\n",
       "      <td>AlfaHedge</td>\n",
       "      <td>How low can #Bitcoin go ???\\n\\nExperts weigh i...</td>\n",
       "      <td>2022-01-31 11:00:00+00:00</td>\n",
       "      <td>2022-01-31 10:18:00+00:00</td>\n",
       "      <td>2022-02-01 00:00:00+00:00</td>\n",
       "      <td>2022-01-31 10:30:00+00:00</td>\n",
       "      <td>2022-01-31 10:30:00+00:00</td>\n",
       "      <td>NaN</td>\n",
       "    </tr>\n",
       "    <tr>\n",
       "      <th>1331667</th>\n",
       "      <td>2022-01-31 23:59:57+00:00</td>\n",
       "      <td>2022-01-31</td>\n",
       "      <td>inanksm</td>\n",
       "      <td>#Bitcoin  is one of the most important inventi...</td>\n",
       "      <td>2022-02-01 00:00:00+00:00</td>\n",
       "      <td>2022-02-01 00:00:00+00:00</td>\n",
       "      <td>2022-02-01 00:00:00+00:00</td>\n",
       "      <td>2022-02-01 00:00:00+00:00</td>\n",
       "      <td>2022-02-01 00:00:00+00:00</td>\n",
       "      <td>NaN</td>\n",
       "    </tr>\n",
       "  </tbody>\n",
       "</table>\n",
       "<p>1331668 rows × 10 columns</p>\n",
       "</div>"
      ],
      "text/plain": [
       "                         datetime       date        username  \\\n",
       "0       2022-01-01 00:00:00+00:00 2022-01-01   CryptoNerdApp   \n",
       "1       2022-01-01 17:10:02+00:00 2022-01-01   bitcoinalerts   \n",
       "2       2022-01-01 17:10:00+00:00 2022-01-01    oneandonlypd   \n",
       "3       2022-01-01 17:09:59+00:00 2022-01-01  CHAIRFORCE_BTC   \n",
       "4       2022-01-01 17:09:58+00:00 2022-01-01  crypto_squared   \n",
       "...                           ...        ...             ...   \n",
       "1331663 2022-01-31 10:17:58+00:00 2022-01-31         cstross   \n",
       "1331664 2022-01-31 10:18:02+00:00 2022-01-31       S_Edalati   \n",
       "1331665 2022-01-31 10:18:05+00:00 2022-01-31  bitcoinpressuk   \n",
       "1331666 2022-01-31 10:17:28+00:00 2022-01-31       AlfaHedge   \n",
       "1331667 2022-01-31 23:59:57+00:00 2022-01-31         inanksm   \n",
       "\n",
       "                                                      text  \\\n",
       "0        Current Price of Bitcoin:\\n$46320 (-1.85%)\\n\\n...   \n",
       "1        The year for Bitcoin — A 2021 roundup of the f...   \n",
       "2        #Bitcoin is all our savings. https://t.co/SGgy...   \n",
       "3        @gmekhail Isn't that usually shouted at the pe...   \n",
       "4        What are Decentralized Apps or DApps?\\n#Crypto...   \n",
       "...                                                    ...   \n",
       "1331663  @ignaziop1977 @MLK3030 @SHOKUNIN_STUDIO At the...   \n",
       "1331664  Cryptocurrency Prices On January 31 2021: Know...   \n",
       "1331665  #Bitcoin #BTC #CRYPTO US Financial Advisors Ex...   \n",
       "1331666  How low can #Bitcoin go ???\\n\\nExperts weigh i...   \n",
       "1331667  #Bitcoin  is one of the most important inventi...   \n",
       "\n",
       "                      Date_hourly                  Date_min  \\\n",
       "0       2022-01-01 01:00:00+00:00 2022-01-01 00:01:00+00:00   \n",
       "1       2022-01-01 18:00:00+00:00 2022-01-01 17:11:00+00:00   \n",
       "2       2022-01-01 18:00:00+00:00 2022-01-01 17:11:00+00:00   \n",
       "3       2022-01-01 18:00:00+00:00 2022-01-01 17:10:00+00:00   \n",
       "4       2022-01-01 18:00:00+00:00 2022-01-01 17:10:00+00:00   \n",
       "...                           ...                       ...   \n",
       "1331663 2022-01-31 11:00:00+00:00 2022-01-31 10:18:00+00:00   \n",
       "1331664 2022-01-31 11:00:00+00:00 2022-01-31 10:19:00+00:00   \n",
       "1331665 2022-01-31 11:00:00+00:00 2022-01-31 10:19:00+00:00   \n",
       "1331666 2022-01-31 11:00:00+00:00 2022-01-31 10:18:00+00:00   \n",
       "1331667 2022-02-01 00:00:00+00:00 2022-02-01 00:00:00+00:00   \n",
       "\n",
       "                         Date_day                  Date_30m  \\\n",
       "0       2022-01-02 00:00:00+00:00 2022-01-01 00:30:00+00:00   \n",
       "1       2022-01-02 00:00:00+00:00 2022-01-01 17:30:00+00:00   \n",
       "2       2022-01-02 00:00:00+00:00 2022-01-01 17:30:00+00:00   \n",
       "3       2022-01-02 00:00:00+00:00 2022-01-01 17:30:00+00:00   \n",
       "4       2022-01-02 00:00:00+00:00 2022-01-01 17:30:00+00:00   \n",
       "...                           ...                       ...   \n",
       "1331663 2022-02-01 00:00:00+00:00 2022-01-31 10:30:00+00:00   \n",
       "1331664 2022-02-01 00:00:00+00:00 2022-01-31 10:30:00+00:00   \n",
       "1331665 2022-02-01 00:00:00+00:00 2022-01-31 10:30:00+00:00   \n",
       "1331666 2022-02-01 00:00:00+00:00 2022-01-31 10:30:00+00:00   \n",
       "1331667 2022-02-01 00:00:00+00:00 2022-02-01 00:00:00+00:00   \n",
       "\n",
       "                         Date_15m  sentiment  \n",
       "0       2022-01-01 00:15:00+00:00     0.0000  \n",
       "1       2022-01-01 17:15:00+00:00     0.1027  \n",
       "2       2022-01-01 17:15:00+00:00     0.0000  \n",
       "3       2022-01-01 17:15:00+00:00     0.5256  \n",
       "4       2022-01-01 17:15:00+00:00     0.0000  \n",
       "...                           ...        ...  \n",
       "1331663 2022-01-31 10:30:00+00:00        NaN  \n",
       "1331664 2022-01-31 10:30:00+00:00        NaN  \n",
       "1331665 2022-01-31 10:30:00+00:00        NaN  \n",
       "1331666 2022-01-31 10:30:00+00:00        NaN  \n",
       "1331667 2022-02-01 00:00:00+00:00        NaN  \n",
       "\n",
       "[1331668 rows x 10 columns]"
      ]
     },
     "execution_count": 55,
     "metadata": {},
     "output_type": "execute_result"
    }
   ],
   "source": [
    "import pandas as pd\n",
    "from vaderSentiment.vaderSentiment import SentimentIntensityAnalyzer\n",
    "\n",
    "# Initialize the SentimentIntensityAnalyzer\n",
    "analyzer = SentimentIntensityAnalyzer()\n",
    "\n",
    "\n",
    "\n",
    "# Function to apply VADER sentiment analysis\n",
    "def get_sentiment(text):\n",
    "    sentiment_score = analyzer.polarity_scores(text)\n",
    "    return sentiment_score['compound']  # You can return other scores like 'pos', 'neg', etc.\n",
    "\n",
    "# Apply the function to the 'text' column\n",
    "filtered_df_01['sentiment'] = filtered_df_01['text'][:100000].apply(get_sentiment)\n",
    "\n",
    "\n",
    "filtered_df_01"
   ]
  },
  {
   "cell_type": "code",
   "execution_count": 71,
   "metadata": {},
   "outputs": [
    {
     "name": "stdout",
     "output_type": "stream",
     "text": [
      "                          text            cleaned_text\n",
      "0  I love #Bitcoin and #Crypto    I love #Bitcoin and \n",
      "1         This is a great #AI!       This is a great !\n",
      "2       #Hate speech is bad #!  #Hate speech is bad #!\n",
      "3        Just another #hashtag           Just another \n"
     ]
    }
   ],
   "source": [
    "import pandas as pd\n",
    "import re\n",
    "\n",
    "# Sample tweet data\n",
    "data = {'text': ['I love #Bitcoin and #Crypto', 'This is a great #AI!', '#Hate speech is bad #!', 'Just another #hashtag']}\n",
    "df = pd.DataFrame(data)\n",
    "\n",
    "# Function to clean hashtags that are not followed by normal text\n",
    "def clean_hashtags(tweet):\n",
    "    # Remove hashtags that are not followed by meaningful text (i.e., not part of a sentence)\n",
    "    # Matches hashtags at the end of the string or followed only by spaces or punctuation\n",
    "    tweet = re.sub(r'#\\w+(?=\\s*$|[^\\w\\s])', '', tweet)  # Remove isolated or trailing hashtags\n",
    "    return tweet\n",
    "\n",
    "# Apply the function to the 'text' column\n",
    "df['cleaned_text'] = df['text'].apply(clean_hashtags)\n",
    "\n",
    "# Display the cleaned tweets\n",
    "print(df)\n"
   ]
  },
  {
   "cell_type": "code",
   "execution_count": null,
   "metadata": {},
   "outputs": [],
   "source": []
  }
 ],
 "metadata": {
  "kernelspec": {
   "display_name": "Python 3",
   "language": "python",
   "name": "python3"
  },
  "language_info": {
   "codemirror_mode": {
    "name": "ipython",
    "version": 3
   },
   "file_extension": ".py",
   "mimetype": "text/x-python",
   "name": "python",
   "nbconvert_exporter": "python",
   "pygments_lexer": "ipython3",
   "version": "3.12.1"
  }
 },
 "nbformat": 4,
 "nbformat_minor": 2
}
